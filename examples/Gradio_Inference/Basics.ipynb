{
 "cells": [
  {
   "cell_type": "markdown",
   "metadata": {},
   "source": [
    "## Gradio Tutorial\n",
    "- https://www.gradio.app/docs/interface\n",
    "- https://github.com/gradio-app/awesome-demos\n",
    "- https://www.machinelearningnuggets.com/gradio-tutorial/"
   ]
  },
  {
   "cell_type": "code",
   "execution_count": 1,
   "metadata": {},
   "outputs": [],
   "source": [
    "import gradio as gr"
   ]
  },
  {
   "cell_type": "markdown",
   "metadata": {},
   "source": [
    "#### Most Basic Interface"
   ]
  },
  {
   "cell_type": "code",
   "execution_count": 3,
   "metadata": {},
   "outputs": [],
   "source": [
    "def greet(name):\n",
    "    return \"Hello \" + name + \"!\""
   ]
  },
  {
   "cell_type": "markdown",
   "metadata": {},
   "source": [
    "#### InputBox"
   ]
  },
  {
   "cell_type": "code",
   "execution_count": 7,
   "metadata": {},
   "outputs": [
    {
     "name": "stdout",
     "output_type": "stream",
     "text": [
      "Running on local URL:  http://127.0.0.1:7862\n",
      "Running on public URL: https://49b352cd7356393a7d.gradio.live\n",
      "\n",
      "This share link expires in 72 hours. For free permanent hosting and GPU upgrades, run `gradio deploy` from Terminal to deploy to Spaces (https://huggingface.co/spaces)\n"
     ]
    },
    {
     "data": {
      "text/html": [
       "<div><iframe src=\"https://49b352cd7356393a7d.gradio.live\" width=\"100%\" height=\"500\" allow=\"autoplay; camera; microphone; clipboard-read; clipboard-write;\" frameborder=\"0\" allowfullscreen></iframe></div>"
      ],
      "text/plain": [
       "<IPython.core.display.HTML object>"
      ]
     },
     "metadata": {},
     "output_type": "display_data"
    },
    {
     "data": {
      "text/plain": []
     },
     "execution_count": 7,
     "metadata": {},
     "output_type": "execute_result"
    }
   ],
   "source": [
    "## just used the Textbox class\n",
    "demo = gr.Interface(\n",
    "    ## you can add title ; description: examples : inputs: outputs \n",
    "    title='This is a demo app',\n",
    "    description='Description of a test app',\n",
    "    fn=greet, \n",
    "    inputs=gr.Textbox(lines=4,  ## now you can specify some params \n",
    "                        placeholder=\"Name Here ...\",\n",
    "                        label=\"Your name\"),\n",
    "            ## you can also do a list of various inputs \n",
    "    outputs=\"text\",\n",
    "    examples=[['xxxyyy'],['1234']]\n",
    "    # css = ....\n",
    "    )\n",
    "\n",
    "demo.launch(share=True)\n"
   ]
  },
  {
   "cell_type": "markdown",
   "metadata": {},
   "source": [
    "#### Run multiple interfaces"
   ]
  },
  {
   "cell_type": "code",
   "execution_count": 10,
   "metadata": {},
   "outputs": [],
   "source": [
    "import seaborn as sns\n",
    "import matplotlib.pyplot as plt\n",
    "import numpy as np\n",
    "import pandas as pd\n",
    "from math import log\n"
   ]
  },
  {
   "cell_type": "code",
   "execution_count": 11,
   "metadata": {},
   "outputs": [
    {
     "name": "stdout",
     "output_type": "stream",
     "text": [
      "Running on local URL:  http://127.0.0.1:7864\n",
      "Running on public URL: https://759a0fa0317188757c.gradio.live\n",
      "\n",
      "This share link expires in 72 hours. For free permanent hosting and GPU upgrades, run `gradio deploy` from Terminal to deploy to Spaces (https://huggingface.co/spaces)\n"
     ]
    },
    {
     "data": {
      "text/html": [
       "<div><iframe src=\"https://759a0fa0317188757c.gradio.live\" width=\"100%\" height=\"500\" allow=\"autoplay; camera; microphone; clipboard-read; clipboard-write;\" frameborder=\"0\" allowfullscreen></iframe></div>"
      ],
      "text/plain": [
       "<IPython.core.display.HTML object>"
      ]
     },
     "metadata": {},
     "output_type": "display_data"
    },
    {
     "data": {
      "text/plain": []
     },
     "execution_count": 11,
     "metadata": {},
     "output_type": "execute_result"
    }
   ],
   "source": [
    "def user_greeting(name):\n",
    "    return \"Hi! \" + name + \" Welcome to your multi-page application!😎\"\n",
    "#app 1\n",
    "app =  gr.Interface(fn = user_greeting, inputs=\"text\", outputs=\"text\", examples = [\"Zenith\", \"Antoinne\", \"Amelia\", \"Johanna\"])\n",
    "\n",
    "#define your second application\n",
    "def gdp_change(r, year, country, smoothen):\n",
    "    years = ['1850', '1900', '1950', '2000', '2050']\n",
    "    m = years.index(year)\n",
    "    start_day = 10* m\n",
    "    final_day = 10* (m + 1)\n",
    "    x = np.arange(start_day, final_day + 1)\n",
    "    pop_count = {\"USA\": 350, \"Canada\": 40, \"Mexico\": 300, \"UK\": 120}\n",
    "    if smoothen:\n",
    "        r = log(r)\n",
    "    df = pd.DataFrame({'day': x})\n",
    "    df[country] = ( x ** (r) * (pop_count[country] + 1))\n",
    "    fig = plt.figure()\n",
    "    sns.lineplot(x = df['day'], y = df[country].to_numpy())\n",
    "    plt.title(\"GDP in \" + year)\n",
    "    plt.ylabel(\"GDP (Millions)\")\n",
    "    plt.xlabel(\"Population Change since 1800s\")\n",
    "    plt.grid()\n",
    "    return fig\n",
    "\n",
    "inputs = [\n",
    "        gr.Slider(1, 4, 3.2, label=\"R\"),\n",
    "        gr.Dropdown(['1850', '1900', '1950', '2000', '2050'], label=\"year\"),\n",
    "        gr.Radio([\"USA\", \"Canada\", \"Mexico\", \"UK\"], label=\"Countries\", ),\n",
    "        gr.Checkbox(label=\"Log of GDP Growth Rate?\"),\n",
    "    ]\n",
    "outputs = gr.Plot()\n",
    "#app 2\n",
    "app2 = gr.Interface(fn=gdp_change, inputs=inputs, outputs=outputs)\n",
    "#combine to create a multipage app\n",
    "demo = gr.TabbedInterface([app, app2], [\"Welcome page\", \"Visualization page\"])\n",
    "\n",
    "\n",
    "demo.launch(share=True)"
   ]
  },
  {
   "cell_type": "code",
   "execution_count": null,
   "metadata": {},
   "outputs": [],
   "source": []
  }
 ],
 "metadata": {
  "kernelspec": {
   "display_name": "hf",
   "language": "python",
   "name": "python3"
  },
  "language_info": {
   "codemirror_mode": {
    "name": "ipython",
    "version": 3
   },
   "file_extension": ".py",
   "mimetype": "text/x-python",
   "name": "python",
   "nbconvert_exporter": "python",
   "pygments_lexer": "ipython3",
   "version": "3.9.19"
  }
 },
 "nbformat": 4,
 "nbformat_minor": 2
}
