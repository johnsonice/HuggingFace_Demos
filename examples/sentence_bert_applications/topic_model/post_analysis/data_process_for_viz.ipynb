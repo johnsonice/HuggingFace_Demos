{
 "cells": [
  {
   "cell_type": "markdown",
   "metadata": {},
   "source": [
    "#### Post process data for data viz "
   ]
  },
  {
   "cell_type": "code",
   "execution_count": 4,
   "metadata": {},
   "outputs": [],
   "source": [
    "import os,sys\n",
    "sys.path.insert(0,'../../libs')\n",
    "import pandas as pd\n",
    "from utils import accumulate_csv_files\n",
    "import re\n"
   ]
  },
  {
   "cell_type": "code",
   "execution_count": 5,
   "metadata": {},
   "outputs": [],
   "source": [
    "\n",
    "def capitalize_special(input_string):\n",
    "    if isinstance(input_string, str):\n",
    "        input_string = input_string.lower()\n",
    "        # Function to capitalize the matched character\n",
    "        def capitalize_match(match):\n",
    "            return match.group(0).upper()\n",
    "\n",
    "        # Regular expression to match word boundaries followed by an alphanumeric character\n",
    "        pattern = r'(?<=\\s|\\?|-|/)[a-zA-Z]|^[a-zA-Z]'\n",
    "        \n",
    "        # Use re.sub() to replace matches with their capitalized form\n",
    "        capitalized_string = re.sub(pattern, capitalize_match, input_string)\n",
    "    else:\n",
    "        capitalized_string = input_string\n",
    "    return capitalized_string"
   ]
  },
  {
   "cell_type": "code",
   "execution_count": 6,
   "metadata": {},
   "outputs": [],
   "source": [
    "data_folder = '/data/chuang/Language_Model_Training_Data/Models/Topic_Models/step_10000'\n",
    "input_folder = os.path.join(data_folder,'results_cache')\n",
    "topic_map_path = os.path.join(data_folder,'topic_v2_merged_info.csv')\n",
    "topic_map = pd.read_csv(topic_map_path)"
   ]
  },
  {
   "cell_type": "code",
   "execution_count": 50,
   "metadata": {},
   "outputs": [
    {
     "data": {
      "text/html": [
       "<div>\n",
       "<style scoped>\n",
       "    .dataframe tbody tr th:only-of-type {\n",
       "        vertical-align: middle;\n",
       "    }\n",
       "\n",
       "    .dataframe tbody tr th {\n",
       "        vertical-align: top;\n",
       "    }\n",
       "\n",
       "    .dataframe thead th {\n",
       "        text-align: right;\n",
       "    }\n",
       "</style>\n",
       "<table border=\"1\" class=\"dataframe\">\n",
       "  <thead>\n",
       "    <tr style=\"text-align: right;\">\n",
       "      <th></th>\n",
       "      <th>index</th>\n",
       "      <th>File_Name</th>\n",
       "      <th>style</th>\n",
       "      <th>section</th>\n",
       "      <th>sub_section</th>\n",
       "      <th>bold_text</th>\n",
       "      <th>italic_text</th>\n",
       "      <th>par</th>\n",
       "      <th>org_topic_id</th>\n",
       "      <th>prob_topic_id</th>\n",
       "      <th>max_probability</th>\n",
       "      <th>country_code</th>\n",
       "      <th>year</th>\n",
       "      <th>seq</th>\n",
       "    </tr>\n",
       "  </thead>\n",
       "  <tbody>\n",
       "    <tr>\n",
       "      <th>0</th>\n",
       "      <td>202500</td>\n",
       "      <td>566_2019_0</td>\n",
       "      <td>List Paragraph</td>\n",
       "      <td>POLICY ISSUES</td>\n",
       "      <td>Monetary and Exchange Rate Policies</td>\n",
       "      <td>The BSP has advanced in the modernization of i...</td>\n",
       "      <td>NaN</td>\n",
       "      <td>The BSP has advanced in the modernization of i...</td>\n",
       "      <td>144</td>\n",
       "      <td>33</td>\n",
       "      <td>0.550341</td>\n",
       "      <td>566</td>\n",
       "      <td>2019</td>\n",
       "      <td>0</td>\n",
       "    </tr>\n",
       "    <tr>\n",
       "      <th>1</th>\n",
       "      <td>202501</td>\n",
       "      <td>566_2019_0</td>\n",
       "      <td>List Paragraph</td>\n",
       "      <td>POLICY ISSUES</td>\n",
       "      <td>Monetary and Exchange Rate Policies</td>\n",
       "      <td>The exchange rate should remain a primary shoc...</td>\n",
       "      <td>NaN</td>\n",
       "      <td>The exchange rate should remain a primary shoc...</td>\n",
       "      <td>14</td>\n",
       "      <td>14</td>\n",
       "      <td>0.910185</td>\n",
       "      <td>566</td>\n",
       "      <td>2019</td>\n",
       "      <td>0</td>\n",
       "    </tr>\n",
       "    <tr>\n",
       "      <th>2</th>\n",
       "      <td>202502</td>\n",
       "      <td>566_2019_0</td>\n",
       "      <td>List Paragraph</td>\n",
       "      <td>POLICY ISSUES</td>\n",
       "      <td>Monetary and Exchange Rate Policies</td>\n",
       "      <td>Based on preliminary estimates, the 2019 exter...</td>\n",
       "      <td>NaN</td>\n",
       "      <td>Based on preliminary estimates, the 2019 exter...</td>\n",
       "      <td>0</td>\n",
       "      <td>11</td>\n",
       "      <td>0.034711</td>\n",
       "      <td>566</td>\n",
       "      <td>2019</td>\n",
       "      <td>0</td>\n",
       "    </tr>\n",
       "    <tr>\n",
       "      <th>3</th>\n",
       "      <td>202503</td>\n",
       "      <td>566_2019_0</td>\n",
       "      <td>List Paragraph</td>\n",
       "      <td>POLICY ISSUES</td>\n",
       "      <td>Authorities’ Views</td>\n",
       "      <td>The authorities agreed that, under current cir...</td>\n",
       "      <td>NaN</td>\n",
       "      <td>The authorities agreed that, under current cir...</td>\n",
       "      <td>43</td>\n",
       "      <td>30</td>\n",
       "      <td>0.214253</td>\n",
       "      <td>566</td>\n",
       "      <td>2019</td>\n",
       "      <td>0</td>\n",
       "    </tr>\n",
       "    <tr>\n",
       "      <th>4</th>\n",
       "      <td>202504</td>\n",
       "      <td>566_2019_0</td>\n",
       "      <td>Body Text</td>\n",
       "      <td>POLICY ISSUES</td>\n",
       "      <td>Authorities’ Views</td>\n",
       "      <td>NaN</td>\n",
       "      <td>NaN</td>\n",
       "      <td>Hence, the risk of miscommunication associated...</td>\n",
       "      <td>144</td>\n",
       "      <td>144</td>\n",
       "      <td>0.729504</td>\n",
       "      <td>566</td>\n",
       "      <td>2019</td>\n",
       "      <td>0</td>\n",
       "    </tr>\n",
       "  </tbody>\n",
       "</table>\n",
       "</div>"
      ],
      "text/plain": [
       "    index   File_Name           style        section  \\\n",
       "0  202500  566_2019_0  List Paragraph  POLICY ISSUES   \n",
       "1  202501  566_2019_0  List Paragraph  POLICY ISSUES   \n",
       "2  202502  566_2019_0  List Paragraph  POLICY ISSUES   \n",
       "3  202503  566_2019_0  List Paragraph  POLICY ISSUES   \n",
       "4  202504  566_2019_0       Body Text  POLICY ISSUES   \n",
       "\n",
       "                           sub_section  \\\n",
       "0  Monetary and Exchange Rate Policies   \n",
       "1  Monetary and Exchange Rate Policies   \n",
       "2  Monetary and Exchange Rate Policies   \n",
       "3                   Authorities’ Views   \n",
       "4                   Authorities’ Views   \n",
       "\n",
       "                                           bold_text italic_text  \\\n",
       "0  The BSP has advanced in the modernization of i...         NaN   \n",
       "1  The exchange rate should remain a primary shoc...         NaN   \n",
       "2  Based on preliminary estimates, the 2019 exter...         NaN   \n",
       "3  The authorities agreed that, under current cir...         NaN   \n",
       "4                                                NaN         NaN   \n",
       "\n",
       "                                                 par  org_topic_id  \\\n",
       "0  The BSP has advanced in the modernization of i...           144   \n",
       "1  The exchange rate should remain a primary shoc...            14   \n",
       "2  Based on preliminary estimates, the 2019 exter...             0   \n",
       "3  The authorities agreed that, under current cir...            43   \n",
       "4  Hence, the risk of miscommunication associated...           144   \n",
       "\n",
       "   prob_topic_id  max_probability country_code  year seq  \n",
       "0             33         0.550341          566  2019   0  \n",
       "1             14         0.910185          566  2019   0  \n",
       "2             11         0.034711          566  2019   0  \n",
       "3             30         0.214253          566  2019   0  \n",
       "4            144         0.729504          566  2019   0  "
      ]
     },
     "execution_count": 50,
     "metadata": {},
     "output_type": "execute_result"
    }
   ],
   "source": [
    "df = accumulate_csv_files(input_folder)\n",
    "df = df[df.columns[:11]]\n",
    "df[['country_code', 'year', 'seq']] = df['File_Name'].str.split('_', expand=True)\n",
    "df.head()"
   ]
  },
  {
   "cell_type": "code",
   "execution_count": 51,
   "metadata": {},
   "outputs": [
    {
     "data": {
      "text/html": [
       "<div>\n",
       "<style scoped>\n",
       "    .dataframe tbody tr th:only-of-type {\n",
       "        vertical-align: middle;\n",
       "    }\n",
       "\n",
       "    .dataframe tbody tr th {\n",
       "        vertical-align: top;\n",
       "    }\n",
       "\n",
       "    .dataframe thead th {\n",
       "        text-align: right;\n",
       "    }\n",
       "</style>\n",
       "<table border=\"1\" class=\"dataframe\">\n",
       "  <thead>\n",
       "    <tr style=\"text-align: right;\">\n",
       "      <th></th>\n",
       "      <th>Topic</th>\n",
       "      <th>Count</th>\n",
       "      <th>Name</th>\n",
       "      <th>CustomName</th>\n",
       "      <th>levle_0</th>\n",
       "      <th>levle_1</th>\n",
       "      <th>levle_2</th>\n",
       "    </tr>\n",
       "  </thead>\n",
       "  <tbody>\n",
       "    <tr>\n",
       "      <th>0</th>\n",
       "      <td>-1</td>\n",
       "      <td>321172</td>\n",
       "      <td>-1_fiscal_tax_gdp_percent</td>\n",
       "      <td>-1_fiscal_tax_gdp_percent</td>\n",
       "      <td>-1_fiscal_tax_gdp_percent</td>\n",
       "      <td>NaN</td>\n",
       "      <td>NaN</td>\n",
       "    </tr>\n",
       "    <tr>\n",
       "      <th>1</th>\n",
       "      <td>0</td>\n",
       "      <td>24425</td>\n",
       "      <td>0_growth_current account_projected_account def...</td>\n",
       "      <td>External--Balance Of Payments--Current Account</td>\n",
       "      <td>External</td>\n",
       "      <td>Balance Of Payments</td>\n",
       "      <td>Current Account</td>\n",
       "    </tr>\n",
       "    <tr>\n",
       "      <th>2</th>\n",
       "      <td>1</td>\n",
       "      <td>14879</td>\n",
       "      <td>1_washington_working paper_paper_pp</td>\n",
       "      <td>Others--Publications--Working Papers</td>\n",
       "      <td>Others</td>\n",
       "      <td>Publications</td>\n",
       "      <td>Working Papers</td>\n",
       "    </tr>\n",
       "    <tr>\n",
       "      <th>3</th>\n",
       "      <td>2</td>\n",
       "      <td>9151</td>\n",
       "      <td>2_banks_loans_credit_npls</td>\n",
       "      <td>Financial--Financial Stability And Systemic Ri...</td>\n",
       "      <td>Financial</td>\n",
       "      <td>Financial Stability And Systemic Risk</td>\n",
       "      <td>Bank Profitability/Risks</td>\n",
       "    </tr>\n",
       "    <tr>\n",
       "      <th>4</th>\n",
       "      <td>3</td>\n",
       "      <td>9091</td>\n",
       "      <td>3_statistics_data_national accounts_accounts</td>\n",
       "      <td>Statistics--Data Provision--Data Provision</td>\n",
       "      <td>Statistics</td>\n",
       "      <td>Data Provision</td>\n",
       "      <td>Data Provision</td>\n",
       "    </tr>\n",
       "  </tbody>\n",
       "</table>\n",
       "</div>"
      ],
      "text/plain": [
       "   Topic   Count                                               Name  \\\n",
       "0     -1  321172                          -1_fiscal_tax_gdp_percent   \n",
       "1      0   24425  0_growth_current account_projected_account def...   \n",
       "2      1   14879                1_washington_working paper_paper_pp   \n",
       "3      2    9151                          2_banks_loans_credit_npls   \n",
       "4      3    9091       3_statistics_data_national accounts_accounts   \n",
       "\n",
       "                                          CustomName  \\\n",
       "0                          -1_fiscal_tax_gdp_percent   \n",
       "1     External--Balance Of Payments--Current Account   \n",
       "2               Others--Publications--Working Papers   \n",
       "3  Financial--Financial Stability And Systemic Ri...   \n",
       "4         Statistics--Data Provision--Data Provision   \n",
       "\n",
       "                     levle_0                                levle_1  \\\n",
       "0  -1_fiscal_tax_gdp_percent                                    NaN   \n",
       "1                   External                    Balance Of Payments   \n",
       "2                     Others                           Publications   \n",
       "3                  Financial  Financial Stability And Systemic Risk   \n",
       "4                 Statistics                         Data Provision   \n",
       "\n",
       "                    levle_2  \n",
       "0                       NaN  \n",
       "1           Current Account  \n",
       "2            Working Papers  \n",
       "3  Bank Profitability/Risks  \n",
       "4            Data Provision  "
      ]
     },
     "execution_count": 51,
     "metadata": {},
     "output_type": "execute_result"
    }
   ],
   "source": [
    "topic_map.head()"
   ]
  },
  {
   "cell_type": "code",
   "execution_count": 52,
   "metadata": {},
   "outputs": [
    {
     "data": {
      "text/html": [
       "<div>\n",
       "<style scoped>\n",
       "    .dataframe tbody tr th:only-of-type {\n",
       "        vertical-align: middle;\n",
       "    }\n",
       "\n",
       "    .dataframe tbody tr th {\n",
       "        vertical-align: top;\n",
       "    }\n",
       "\n",
       "    .dataframe thead th {\n",
       "        text-align: right;\n",
       "    }\n",
       "</style>\n",
       "<table border=\"1\" class=\"dataframe\">\n",
       "  <thead>\n",
       "    <tr style=\"text-align: right;\">\n",
       "      <th></th>\n",
       "      <th>Topic</th>\n",
       "      <th>Count</th>\n",
       "      <th>Name</th>\n",
       "      <th>CustomName</th>\n",
       "      <th>levle_0</th>\n",
       "      <th>levle_1</th>\n",
       "      <th>levle_2</th>\n",
       "    </tr>\n",
       "  </thead>\n",
       "  <tbody>\n",
       "    <tr>\n",
       "      <th>0</th>\n",
       "      <td>-1</td>\n",
       "      <td>321172</td>\n",
       "      <td>-1_fiscal_tax_gdp_percent</td>\n",
       "      <td>-1_fiscal_tax_gdp_percent</td>\n",
       "      <td>-1_fiscal_tax_gdp_percent</td>\n",
       "      <td>NaN</td>\n",
       "      <td>NaN</td>\n",
       "    </tr>\n",
       "    <tr>\n",
       "      <th>1</th>\n",
       "      <td>0</td>\n",
       "      <td>24425</td>\n",
       "      <td>0_growth_current account_projected_account def...</td>\n",
       "      <td>External--Balance Of Payments--Current Account</td>\n",
       "      <td>External</td>\n",
       "      <td>Balance Of Payments</td>\n",
       "      <td>Current Account</td>\n",
       "    </tr>\n",
       "    <tr>\n",
       "      <th>2</th>\n",
       "      <td>1</td>\n",
       "      <td>14879</td>\n",
       "      <td>1_washington_working paper_paper_pp</td>\n",
       "      <td>Others--Publications--Working Papers</td>\n",
       "      <td>Others</td>\n",
       "      <td>Publications</td>\n",
       "      <td>Working Papers</td>\n",
       "    </tr>\n",
       "    <tr>\n",
       "      <th>3</th>\n",
       "      <td>2</td>\n",
       "      <td>9151</td>\n",
       "      <td>2_banks_loans_credit_npls</td>\n",
       "      <td>Financial--Financial Stability And Systemic Ri...</td>\n",
       "      <td>Financial</td>\n",
       "      <td>Financial Stability And Systemic Risk</td>\n",
       "      <td>Bank Profitability/Risks</td>\n",
       "    </tr>\n",
       "    <tr>\n",
       "      <th>4</th>\n",
       "      <td>3</td>\n",
       "      <td>9091</td>\n",
       "      <td>3_statistics_data_national accounts_accounts</td>\n",
       "      <td>Statistics--Data Provision--Data Provision</td>\n",
       "      <td>Statistics</td>\n",
       "      <td>Data Provision</td>\n",
       "      <td>Data Provision</td>\n",
       "    </tr>\n",
       "  </tbody>\n",
       "</table>\n",
       "</div>"
      ],
      "text/plain": [
       "   Topic   Count                                               Name  \\\n",
       "0     -1  321172                          -1_fiscal_tax_gdp_percent   \n",
       "1      0   24425  0_growth_current account_projected_account def...   \n",
       "2      1   14879                1_washington_working paper_paper_pp   \n",
       "3      2    9151                          2_banks_loans_credit_npls   \n",
       "4      3    9091       3_statistics_data_national accounts_accounts   \n",
       "\n",
       "                                          CustomName  \\\n",
       "0                          -1_fiscal_tax_gdp_percent   \n",
       "1     External--Balance Of Payments--Current Account   \n",
       "2               Others--Publications--Working Papers   \n",
       "3  Financial--Financial Stability And Systemic Ri...   \n",
       "4         Statistics--Data Provision--Data Provision   \n",
       "\n",
       "                     levle_0                                levle_1  \\\n",
       "0  -1_fiscal_tax_gdp_percent                                    NaN   \n",
       "1                   External                    Balance Of Payments   \n",
       "2                     Others                           Publications   \n",
       "3                  Financial  Financial Stability And Systemic Risk   \n",
       "4                 Statistics                         Data Provision   \n",
       "\n",
       "                    levle_2  \n",
       "0                       NaN  \n",
       "1           Current Account  \n",
       "2            Working Papers  \n",
       "3  Bank Profitability/Risks  \n",
       "4            Data Provision  "
      ]
     },
     "execution_count": 52,
     "metadata": {},
     "output_type": "execute_result"
    }
   ],
   "source": [
    "topic_map.head()\n",
    "columns_to_transform = ['CustomName','levle_0','levle_1','levle_2']\n",
    "for c in columns_to_transform:\n",
    "    topic_map[c] = topic_map[c].apply(capitalize_special)\n",
    "topic_map.head()\n"
   ]
  },
  {
   "cell_type": "code",
   "execution_count": 53,
   "metadata": {},
   "outputs": [
    {
     "data": {
      "text/html": [
       "<div>\n",
       "<style scoped>\n",
       "    .dataframe tbody tr th:only-of-type {\n",
       "        vertical-align: middle;\n",
       "    }\n",
       "\n",
       "    .dataframe tbody tr th {\n",
       "        vertical-align: top;\n",
       "    }\n",
       "\n",
       "    .dataframe thead th {\n",
       "        text-align: right;\n",
       "    }\n",
       "</style>\n",
       "<table border=\"1\" class=\"dataframe\">\n",
       "  <thead>\n",
       "    <tr style=\"text-align: right;\">\n",
       "      <th></th>\n",
       "      <th>index</th>\n",
       "      <th>File_Name</th>\n",
       "      <th>style</th>\n",
       "      <th>section</th>\n",
       "      <th>sub_section</th>\n",
       "      <th>bold_text</th>\n",
       "      <th>italic_text</th>\n",
       "      <th>par</th>\n",
       "      <th>org_topic_id</th>\n",
       "      <th>prob_topic_id</th>\n",
       "      <th>...</th>\n",
       "      <th>year</th>\n",
       "      <th>seq</th>\n",
       "      <th>Topic</th>\n",
       "      <th>Count</th>\n",
       "      <th>Name</th>\n",
       "      <th>CustomName</th>\n",
       "      <th>levle_0</th>\n",
       "      <th>levle_1</th>\n",
       "      <th>levle_2</th>\n",
       "      <th>_merge</th>\n",
       "    </tr>\n",
       "  </thead>\n",
       "  <tbody>\n",
       "    <tr>\n",
       "      <th>0</th>\n",
       "      <td>202500</td>\n",
       "      <td>566_2019_0</td>\n",
       "      <td>List Paragraph</td>\n",
       "      <td>POLICY ISSUES</td>\n",
       "      <td>Monetary and Exchange Rate Policies</td>\n",
       "      <td>The BSP has advanced in the modernization of i...</td>\n",
       "      <td>NaN</td>\n",
       "      <td>The BSP has advanced in the modernization of i...</td>\n",
       "      <td>144</td>\n",
       "      <td>33</td>\n",
       "      <td>...</td>\n",
       "      <td>2019</td>\n",
       "      <td>0</td>\n",
       "      <td>33</td>\n",
       "      <td>1838</td>\n",
       "      <td>33_liquidity_monetary_bills_instruments</td>\n",
       "      <td>Financial--Macro-Financial Linkage--Liquidity ...</td>\n",
       "      <td>Financial</td>\n",
       "      <td>Macro-Financial Linkage</td>\n",
       "      <td>Liquidity Management</td>\n",
       "      <td>both</td>\n",
       "    </tr>\n",
       "    <tr>\n",
       "      <th>1</th>\n",
       "      <td>202501</td>\n",
       "      <td>566_2019_0</td>\n",
       "      <td>List Paragraph</td>\n",
       "      <td>POLICY ISSUES</td>\n",
       "      <td>Monetary and Exchange Rate Policies</td>\n",
       "      <td>The exchange rate should remain a primary shoc...</td>\n",
       "      <td>NaN</td>\n",
       "      <td>The exchange rate should remain a primary shoc...</td>\n",
       "      <td>14</td>\n",
       "      <td>14</td>\n",
       "      <td>...</td>\n",
       "      <td>2019</td>\n",
       "      <td>0</td>\n",
       "      <td>14</td>\n",
       "      <td>4046</td>\n",
       "      <td>14_exchange_exchange rate_rate_foreign exchange</td>\n",
       "      <td>External--Exchange Rate Policies--Foreign Exch...</td>\n",
       "      <td>External</td>\n",
       "      <td>Exchange Rate Policies</td>\n",
       "      <td>Foreign Exchange Rate Policy</td>\n",
       "      <td>both</td>\n",
       "    </tr>\n",
       "    <tr>\n",
       "      <th>2</th>\n",
       "      <td>202502</td>\n",
       "      <td>566_2019_0</td>\n",
       "      <td>List Paragraph</td>\n",
       "      <td>POLICY ISSUES</td>\n",
       "      <td>Monetary and Exchange Rate Policies</td>\n",
       "      <td>Based on preliminary estimates, the 2019 exter...</td>\n",
       "      <td>NaN</td>\n",
       "      <td>Based on preliminary estimates, the 2019 exter...</td>\n",
       "      <td>0</td>\n",
       "      <td>11</td>\n",
       "      <td>...</td>\n",
       "      <td>2019</td>\n",
       "      <td>0</td>\n",
       "      <td>11</td>\n",
       "      <td>4959</td>\n",
       "      <td>11_tax_taxes_vat_revenue</td>\n",
       "      <td>Fiscal--Taxes--Tax Administration</td>\n",
       "      <td>Fiscal</td>\n",
       "      <td>Taxes</td>\n",
       "      <td>Tax Administration</td>\n",
       "      <td>both</td>\n",
       "    </tr>\n",
       "    <tr>\n",
       "      <th>3</th>\n",
       "      <td>202503</td>\n",
       "      <td>566_2019_0</td>\n",
       "      <td>List Paragraph</td>\n",
       "      <td>POLICY ISSUES</td>\n",
       "      <td>Authorities’ Views</td>\n",
       "      <td>The authorities agreed that, under current cir...</td>\n",
       "      <td>NaN</td>\n",
       "      <td>The authorities agreed that, under current cir...</td>\n",
       "      <td>43</td>\n",
       "      <td>30</td>\n",
       "      <td>...</td>\n",
       "      <td>2019</td>\n",
       "      <td>0</td>\n",
       "      <td>30</td>\n",
       "      <td>2335</td>\n",
       "      <td>30_accordance paragraph_arrangement_consulted ...</td>\n",
       "      <td>Program--Other Topics Under Program Setting--P...</td>\n",
       "      <td>Program</td>\n",
       "      <td>Other Topics Under Program Setting</td>\n",
       "      <td>Program Request</td>\n",
       "      <td>both</td>\n",
       "    </tr>\n",
       "    <tr>\n",
       "      <th>4</th>\n",
       "      <td>202504</td>\n",
       "      <td>566_2019_0</td>\n",
       "      <td>Body Text</td>\n",
       "      <td>POLICY ISSUES</td>\n",
       "      <td>Authorities’ Views</td>\n",
       "      <td>NaN</td>\n",
       "      <td>NaN</td>\n",
       "      <td>Hence, the risk of miscommunication associated...</td>\n",
       "      <td>144</td>\n",
       "      <td>144</td>\n",
       "      <td>...</td>\n",
       "      <td>2019</td>\n",
       "      <td>0</td>\n",
       "      <td>144</td>\n",
       "      <td>320</td>\n",
       "      <td>144_monetary policy_monetary_inflation targeti...</td>\n",
       "      <td>Monetary--Monetary Policy Framework--Inflation...</td>\n",
       "      <td>Monetary</td>\n",
       "      <td>Monetary Policy Framework</td>\n",
       "      <td>Inflation Targeting</td>\n",
       "      <td>both</td>\n",
       "    </tr>\n",
       "  </tbody>\n",
       "</table>\n",
       "<p>5 rows × 22 columns</p>\n",
       "</div>"
      ],
      "text/plain": [
       "    index   File_Name           style        section  \\\n",
       "0  202500  566_2019_0  List Paragraph  POLICY ISSUES   \n",
       "1  202501  566_2019_0  List Paragraph  POLICY ISSUES   \n",
       "2  202502  566_2019_0  List Paragraph  POLICY ISSUES   \n",
       "3  202503  566_2019_0  List Paragraph  POLICY ISSUES   \n",
       "4  202504  566_2019_0       Body Text  POLICY ISSUES   \n",
       "\n",
       "                           sub_section  \\\n",
       "0  Monetary and Exchange Rate Policies   \n",
       "1  Monetary and Exchange Rate Policies   \n",
       "2  Monetary and Exchange Rate Policies   \n",
       "3                   Authorities’ Views   \n",
       "4                   Authorities’ Views   \n",
       "\n",
       "                                           bold_text italic_text  \\\n",
       "0  The BSP has advanced in the modernization of i...         NaN   \n",
       "1  The exchange rate should remain a primary shoc...         NaN   \n",
       "2  Based on preliminary estimates, the 2019 exter...         NaN   \n",
       "3  The authorities agreed that, under current cir...         NaN   \n",
       "4                                                NaN         NaN   \n",
       "\n",
       "                                                 par  org_topic_id  \\\n",
       "0  The BSP has advanced in the modernization of i...           144   \n",
       "1  The exchange rate should remain a primary shoc...            14   \n",
       "2  Based on preliminary estimates, the 2019 exter...             0   \n",
       "3  The authorities agreed that, under current cir...            43   \n",
       "4  Hence, the risk of miscommunication associated...           144   \n",
       "\n",
       "   prob_topic_id  ...  year seq Topic Count  \\\n",
       "0             33  ...  2019   0    33  1838   \n",
       "1             14  ...  2019   0    14  4046   \n",
       "2             11  ...  2019   0    11  4959   \n",
       "3             30  ...  2019   0    30  2335   \n",
       "4            144  ...  2019   0   144   320   \n",
       "\n",
       "                                                Name  \\\n",
       "0            33_liquidity_monetary_bills_instruments   \n",
       "1    14_exchange_exchange rate_rate_foreign exchange   \n",
       "2                           11_tax_taxes_vat_revenue   \n",
       "3  30_accordance paragraph_arrangement_consulted ...   \n",
       "4  144_monetary policy_monetary_inflation targeti...   \n",
       "\n",
       "                                          CustomName    levle_0  \\\n",
       "0  Financial--Macro-Financial Linkage--Liquidity ...  Financial   \n",
       "1  External--Exchange Rate Policies--Foreign Exch...   External   \n",
       "2                  Fiscal--Taxes--Tax Administration     Fiscal   \n",
       "3  Program--Other Topics Under Program Setting--P...    Program   \n",
       "4  Monetary--Monetary Policy Framework--Inflation...   Monetary   \n",
       "\n",
       "                              levle_1                       levle_2 _merge  \n",
       "0             Macro-Financial Linkage          Liquidity Management   both  \n",
       "1              Exchange Rate Policies  Foreign Exchange Rate Policy   both  \n",
       "2                               Taxes            Tax Administration   both  \n",
       "3  Other Topics Under Program Setting               Program Request   both  \n",
       "4           Monetary Policy Framework           Inflation Targeting   both  \n",
       "\n",
       "[5 rows x 22 columns]"
      ]
     },
     "execution_count": 53,
     "metadata": {},
     "output_type": "execute_result"
    }
   ],
   "source": [
    "merged_df = df.merge(topic_map, left_on='prob_topic_id', right_on='Topic', how='left',indicator=True)\n",
    "merged_df.head()"
   ]
  },
  {
   "cell_type": "code",
   "execution_count": 54,
   "metadata": {},
   "outputs": [
    {
     "name": "stdout",
     "output_type": "stream",
     "text": [
      "Missing in df2:\n",
      "Empty DataFrame\n",
      "Columns: [index, File_Name, style, section, sub_section, bold_text, italic_text, par, org_topic_id, prob_topic_id, max_probability, country_code, year, seq, Topic, Count, Name, CustomName, levle_0, levle_1, levle_2, _merge]\n",
      "Index: []\n",
      "\n",
      "[0 rows x 22 columns]\n"
     ]
    }
   ],
   "source": [
    "## check on missing\n",
    "missing_in_df2 = merged_df[merged_df['_merge'] == 'left_only']\n",
    "print(\"Missing in df2:\")\n",
    "print(missing_in_df2)"
   ]
  },
  {
   "cell_type": "code",
   "execution_count": 55,
   "metadata": {},
   "outputs": [
    {
     "data": {
      "text/plain": [
       "Fiscal                  30215\n",
       "Structural/Social       26207\n",
       "External                22538\n",
       "Program                 19176\n",
       "Financial               19055\n",
       "Real                    13948\n",
       "Others                   8136\n",
       "Monetary                 5213\n",
       "Statistics               3516\n",
       "Statistical Analysis      400\n",
       "Name: levle_0, dtype: int64"
      ]
     },
     "execution_count": 55,
     "metadata": {},
     "output_type": "execute_result"
    }
   ],
   "source": [
    "### basic topic distribution \n",
    "merged_df['levle_0'].value_counts()"
   ]
  },
  {
   "cell_type": "markdown",
   "metadata": {},
   "source": [
    "#### "
   ]
  },
  {
   "cell_type": "markdown",
   "metadata": {},
   "source": [
    "pip install git+https://github.com/JosephBARBIERDARNAL/pypalettes.git\n",
    "- https://python-graph-gallery.com/590-advanced-treemap/\n",
    "- other [examples](https://python-graph-gallery.com/web-stacked-area-with-inflexion-arrows/)"
   ]
  },
  {
   "cell_type": "code",
   "execution_count": 63,
   "metadata": {},
   "outputs": [],
   "source": [
    "# load libraries\n",
    "import squarify # pip install squarify (algorithm for treemap)\n",
    "import matplotlib.pyplot as plt\n",
    "#from pypalettes import load_cmap\n",
    "import pandas as pd\n",
    "from highlight_text import fig_text\n",
    "import numpy as np"
   ]
  },
  {
   "cell_type": "code",
   "execution_count": 57,
   "metadata": {},
   "outputs": [
    {
     "data": {
      "text/html": [
       "<div>\n",
       "<style scoped>\n",
       "    .dataframe tbody tr th:only-of-type {\n",
       "        vertical-align: middle;\n",
       "    }\n",
       "\n",
       "    .dataframe tbody tr th {\n",
       "        vertical-align: top;\n",
       "    }\n",
       "\n",
       "    .dataframe thead th {\n",
       "        text-align: right;\n",
       "    }\n",
       "</style>\n",
       "<table border=\"1\" class=\"dataframe\">\n",
       "  <thead>\n",
       "    <tr style=\"text-align: right;\">\n",
       "      <th></th>\n",
       "      <th>levle_0</th>\n",
       "      <th>levle_1</th>\n",
       "      <th>Name</th>\n",
       "    </tr>\n",
       "  </thead>\n",
       "  <tbody>\n",
       "    <tr>\n",
       "      <th>0</th>\n",
       "      <td>External</td>\n",
       "      <td>Balance Of Payments</td>\n",
       "      <td>8089</td>\n",
       "    </tr>\n",
       "    <tr>\n",
       "      <th>1</th>\n",
       "      <td>External</td>\n",
       "      <td>Commodity Market</td>\n",
       "      <td>1972</td>\n",
       "    </tr>\n",
       "    <tr>\n",
       "      <th>2</th>\n",
       "      <td>External</td>\n",
       "      <td>Exchange Rate Policies</td>\n",
       "      <td>2093</td>\n",
       "    </tr>\n",
       "    <tr>\n",
       "      <th>3</th>\n",
       "      <td>External</td>\n",
       "      <td>External Debt</td>\n",
       "      <td>2224</td>\n",
       "    </tr>\n",
       "    <tr>\n",
       "      <th>4</th>\n",
       "      <td>External</td>\n",
       "      <td>External Economic Environment</td>\n",
       "      <td>239</td>\n",
       "    </tr>\n",
       "  </tbody>\n",
       "</table>\n",
       "</div>"
      ],
      "text/plain": [
       "    levle_0                        levle_1  Name\n",
       "0  External            Balance Of Payments  8089\n",
       "1  External               Commodity Market  1972\n",
       "2  External         Exchange Rate Policies  2093\n",
       "3  External                  External Debt  2224\n",
       "4  External  External Economic Environment   239"
      ]
     },
     "execution_count": 57,
     "metadata": {},
     "output_type": "execute_result"
    }
   ],
   "source": [
    "collapsed_df = merged_df.groupby(['levle_0', 'levle_1'], as_index=False)['Name'].count()\n",
    "collapsed_df.head()"
   ]
  },
  {
   "cell_type": "code",
   "execution_count": 58,
   "metadata": {},
   "outputs": [
    {
     "data": {
      "text/html": [
       "<div>\n",
       "<style scoped>\n",
       "    .dataframe tbody tr th:only-of-type {\n",
       "        vertical-align: middle;\n",
       "    }\n",
       "\n",
       "    .dataframe tbody tr th {\n",
       "        vertical-align: top;\n",
       "    }\n",
       "\n",
       "    .dataframe thead th {\n",
       "        text-align: right;\n",
       "    }\n",
       "</style>\n",
       "<table border=\"1\" class=\"dataframe\">\n",
       "  <thead>\n",
       "    <tr style=\"text-align: right;\">\n",
       "      <th></th>\n",
       "      <th>levle_0</th>\n",
       "      <th>levle_1</th>\n",
       "      <th>Name</th>\n",
       "    </tr>\n",
       "  </thead>\n",
       "  <tbody>\n",
       "    <tr>\n",
       "      <th>0</th>\n",
       "      <td>External</td>\n",
       "      <td>Balance Of Payments</td>\n",
       "      <td>8089</td>\n",
       "    </tr>\n",
       "    <tr>\n",
       "      <th>1</th>\n",
       "      <td>External</td>\n",
       "      <td>Commodity Market</td>\n",
       "      <td>1972</td>\n",
       "    </tr>\n",
       "    <tr>\n",
       "      <th>2</th>\n",
       "      <td>External</td>\n",
       "      <td>Exchange Rate Policies</td>\n",
       "      <td>2093</td>\n",
       "    </tr>\n",
       "    <tr>\n",
       "      <th>3</th>\n",
       "      <td>External</td>\n",
       "      <td>External Debt</td>\n",
       "      <td>2224</td>\n",
       "    </tr>\n",
       "    <tr>\n",
       "      <th>4</th>\n",
       "      <td>External</td>\n",
       "      <td>External Economic Environment</td>\n",
       "      <td>239</td>\n",
       "    </tr>\n",
       "    <tr>\n",
       "      <th>...</th>\n",
       "      <td>...</td>\n",
       "      <td>...</td>\n",
       "      <td>...</td>\n",
       "    </tr>\n",
       "    <tr>\n",
       "      <th>72</th>\n",
       "      <td>Structural/Social</td>\n",
       "      <td>Infrastructure</td>\n",
       "      <td>890</td>\n",
       "    </tr>\n",
       "    <tr>\n",
       "      <th>73</th>\n",
       "      <td>Structural/Social</td>\n",
       "      <td>Labor Market</td>\n",
       "      <td>7222</td>\n",
       "    </tr>\n",
       "    <tr>\n",
       "      <th>74</th>\n",
       "      <td>Structural/Social</td>\n",
       "      <td>Social Welfare And Safety Nets</td>\n",
       "      <td>4173</td>\n",
       "    </tr>\n",
       "    <tr>\n",
       "      <th>75</th>\n",
       "      <td>Structural/Social</td>\n",
       "      <td>Structural Reform</td>\n",
       "      <td>4085</td>\n",
       "    </tr>\n",
       "    <tr>\n",
       "      <th>76</th>\n",
       "      <td>Structural/Social</td>\n",
       "      <td>Sustainable Growth</td>\n",
       "      <td>188</td>\n",
       "    </tr>\n",
       "  </tbody>\n",
       "</table>\n",
       "<p>77 rows × 3 columns</p>\n",
       "</div>"
      ],
      "text/plain": [
       "              levle_0                         levle_1  Name\n",
       "0            External             Balance Of Payments  8089\n",
       "1            External                Commodity Market  1972\n",
       "2            External          Exchange Rate Policies  2093\n",
       "3            External                   External Debt  2224\n",
       "4            External   External Economic Environment   239\n",
       "..                ...                             ...   ...\n",
       "72  Structural/Social                  Infrastructure   890\n",
       "73  Structural/Social                    Labor Market  7222\n",
       "74  Structural/Social  Social Welfare And Safety Nets  4173\n",
       "75  Structural/Social               Structural Reform  4085\n",
       "76  Structural/Social              Sustainable Growth   188\n",
       "\n",
       "[77 rows x 3 columns]"
      ]
     },
     "execution_count": 58,
     "metadata": {},
     "output_type": "execute_result"
    }
   ],
   "source": [
    "collapsed_df.head(100)"
   ]
  },
  {
   "cell_type": "code",
   "execution_count": 59,
   "metadata": {},
   "outputs": [
    {
     "data": {
      "application/vnd.plotly.v1+json": {
       "config": {
        "plotlyServerURL": "https://plot.ly"
       },
       "data": [
        {
         "branchvalues": "total",
         "domain": {
          "x": [
           0,
           1
          ],
          "y": [
           0,
           1
          ]
         },
         "hovertemplate": "labels=%{label}<br>total_count=%{value}<extra></extra>",
         "ids": [
          "Real/Agriculture",
          "Statistical Analysis/Analytics",
          "Others/Authorities' View",
          "External/Balance Of Payments",
          "Real/Business Cycle",
          "Structural/Social/Business Environment",
          "Structural/Social/Climate",
          "External/Commodity Market",
          "Program/Conditionalities",
          "Real/Corporate",
          "Statistics/Data Provision",
          "Statistics/Data Sources",
          "Statistics/Definations",
          "Real/Energy",
          "External/Exchange Rate Policies",
          "External/External Debt",
          "External/External Economic Environment",
          "External/External Position",
          "External/External Sector And Economic Growth",
          "External/External Sector Assessment",
          "Financial/Financial Crises",
          "Structural/Social/Financial Inclusion",
          "Financial/Financial Institutions",
          "Financial/Financial Instruments",
          "Financial/Financial Markets",
          "Financial/Financial Sector Regulation",
          "Financial/Financial Stability And Systemic Risk",
          "Fiscal/Fiscal Balance",
          "Fiscal/Fiscal Deficit",
          "Fiscal/Fiscal Expenditure",
          "Fiscal/Fiscal Policy",
          "Fiscal/Fiscal Revenue",
          "Real/Fishing",
          "Statistical Analysis/Forecast",
          "External/Foreign Exchange Market",
          "Real/Forestry",
          "External/Global Economic Environment",
          "Structural/Social/Governance",
          "Structural/Social/Health And Education",
          "Real/Housing",
          "Others/Ifis Engagement",
          "Real/Income",
          "Real/Inflation",
          "Structural/Social/Infrastructure",
          "Others/International Organization Governance",
          "Real/Investment And Capital Formation",
          "Structural/Social/Labor Market",
          "Real/Macro Policies",
          "Financial/Macro-Financial Linkage",
          "Real/Mining",
          "Monetary/Monetary Policy",
          "Monetary/Monetary Policy Framework",
          "Monetary/Monetary Policy Tools",
          "Program/Other Topics Under Program Setting",
          "Financial/Others",
          "Fiscal/Others",
          "Monetary/Others",
          "Others/Others",
          "Program/Others",
          "Statistics/Others",
          "Real/Production And Output",
          "Real/Productivity",
          "Program/Program Implementation",
          "Real/Projections",
          "Fiscal/Public Debt",
          "Fiscal/Public Financial Management",
          "Others/Publications",
          "Structural/Social/Social Welfare And Safety Nets",
          "Others/Staff Appraisal",
          "Program/Staff Appraisal",
          "Structural/Social/Structural Reform",
          "Structural/Social/Sustainable Growth",
          "Fiscal/Taxes",
          "Program/Tmu",
          "Real/Tourism",
          "External/Trade",
          "External/Trade Policy",
          "External",
          "Financial",
          "Fiscal",
          "Monetary",
          "Others",
          "Program",
          "Real",
          "Statistical Analysis",
          "Statistics",
          "Structural/Social"
         ],
         "labels": [
          "Agriculture",
          "Analytics",
          "Authorities' View",
          "Balance Of Payments",
          "Business Cycle",
          "Business Environment",
          "Climate",
          "Commodity Market",
          "Conditionalities",
          "Corporate",
          "Data Provision",
          "Data Sources",
          "Definations",
          "Energy",
          "Exchange Rate Policies",
          "External Debt",
          "External Economic Environment",
          "External Position",
          "External Sector And Economic Growth",
          "External Sector Assessment",
          "Financial Crises",
          "Financial Inclusion",
          "Financial Institutions",
          "Financial Instruments",
          "Financial Markets",
          "Financial Sector Regulation",
          "Financial Stability And Systemic Risk",
          "Fiscal Balance",
          "Fiscal Deficit",
          "Fiscal Expenditure",
          "Fiscal Policy",
          "Fiscal Revenue",
          "Fishing",
          "Forecast",
          "Foreign Exchange Market",
          "Forestry",
          "Global Economic Environment",
          "Governance",
          "Health And Education",
          "Housing",
          "Ifis Engagement",
          "Income",
          "Inflation",
          "Infrastructure",
          "International Organization Governance",
          "Investment And Capital Formation",
          "Labor Market",
          "Macro Policies",
          "Macro-Financial Linkage",
          "Mining",
          "Monetary Policy",
          "Monetary Policy Framework",
          "Monetary Policy Tools",
          "Other Topics Under Program Setting",
          "Others",
          "Others",
          "Others",
          "Others",
          "Others",
          "Others",
          "Production And Output",
          "Productivity",
          "Program Implementation",
          "Projections",
          "Public Debt",
          "Public Financial Management",
          "Publications",
          "Social Welfare And Safety Nets",
          "Staff Appraisal",
          "Staff Appraisal",
          "Structural Reform",
          "Sustainable Growth",
          "Taxes",
          "Tmu",
          "Tourism",
          "Trade",
          "Trade Policy",
          "External",
          "Financial",
          "Fiscal",
          "Monetary",
          "Others",
          "Program",
          "Real",
          "Statistical Analysis",
          "Statistics",
          "Structural/Social"
         ],
         "name": "",
         "parents": [
          "Real",
          "Statistical Analysis",
          "Others",
          "External",
          "Real",
          "Structural/Social",
          "Structural/Social",
          "External",
          "Program",
          "Real",
          "Statistics",
          "Statistics",
          "Statistics",
          "Real",
          "External",
          "External",
          "External",
          "External",
          "External",
          "External",
          "Financial",
          "Structural/Social",
          "Financial",
          "Financial",
          "Financial",
          "Financial",
          "Financial",
          "Fiscal",
          "Fiscal",
          "Fiscal",
          "Fiscal",
          "Fiscal",
          "Real",
          "Statistical Analysis",
          "External",
          "Real",
          "External",
          "Structural/Social",
          "Structural/Social",
          "Real",
          "Others",
          "Real",
          "Real",
          "Structural/Social",
          "Others",
          "Real",
          "Structural/Social",
          "Real",
          "Financial",
          "Real",
          "Monetary",
          "Monetary",
          "Monetary",
          "Program",
          "Financial",
          "Fiscal",
          "Monetary",
          "Others",
          "Program",
          "Statistics",
          "Real",
          "Real",
          "Program",
          "Real",
          "Fiscal",
          "Fiscal",
          "Others",
          "Structural/Social",
          "Others",
          "Program",
          "Structural/Social",
          "Structural/Social",
          "Fiscal",
          "Program",
          "Real",
          "External",
          "External",
          "",
          "",
          "",
          "",
          "",
          "",
          "",
          "",
          "",
          ""
         ],
         "type": "treemap",
         "values": [
          869,
          319,
          112,
          8089,
          146,
          3139,
          1728,
          1972,
          2857,
          716,
          2015,
          337,
          267,
          159,
          2093,
          2224,
          239,
          1189,
          36,
          3177,
          355,
          232,
          611,
          758,
          1366,
          6902,
          6532,
          4379,
          257,
          2012,
          3638,
          287,
          23,
          81,
          947,
          76,
          9,
          2865,
          1685,
          2239,
          456,
          391,
          2213,
          890,
          1616,
          428,
          7222,
          670,
          2515,
          52,
          2077,
          848,
          2057,
          3199,
          16,
          138,
          231,
          2549,
          255,
          897,
          4767,
          631,
          11023,
          1,
          4819,
          5680,
          2457,
          4173,
          946,
          135,
          4085,
          188,
          9005,
          1707,
          567,
          1933,
          630,
          22538,
          19055,
          30215,
          5213,
          8136,
          19176,
          13948,
          400,
          3516,
          26207
         ]
        }
       ],
       "layout": {
        "height": 800,
        "legend": {
         "tracegroupgap": 0
        },
        "template": {
         "data": {
          "bar": [
           {
            "error_x": {
             "color": "#2a3f5f"
            },
            "error_y": {
             "color": "#2a3f5f"
            },
            "marker": {
             "line": {
              "color": "#E5ECF6",
              "width": 0.5
             },
             "pattern": {
              "fillmode": "overlay",
              "size": 10,
              "solidity": 0.2
             }
            },
            "type": "bar"
           }
          ],
          "barpolar": [
           {
            "marker": {
             "line": {
              "color": "#E5ECF6",
              "width": 0.5
             },
             "pattern": {
              "fillmode": "overlay",
              "size": 10,
              "solidity": 0.2
             }
            },
            "type": "barpolar"
           }
          ],
          "carpet": [
           {
            "aaxis": {
             "endlinecolor": "#2a3f5f",
             "gridcolor": "white",
             "linecolor": "white",
             "minorgridcolor": "white",
             "startlinecolor": "#2a3f5f"
            },
            "baxis": {
             "endlinecolor": "#2a3f5f",
             "gridcolor": "white",
             "linecolor": "white",
             "minorgridcolor": "white",
             "startlinecolor": "#2a3f5f"
            },
            "type": "carpet"
           }
          ],
          "choropleth": [
           {
            "colorbar": {
             "outlinewidth": 0,
             "ticks": ""
            },
            "type": "choropleth"
           }
          ],
          "contour": [
           {
            "colorbar": {
             "outlinewidth": 0,
             "ticks": ""
            },
            "colorscale": [
             [
              0,
              "#0d0887"
             ],
             [
              0.1111111111111111,
              "#46039f"
             ],
             [
              0.2222222222222222,
              "#7201a8"
             ],
             [
              0.3333333333333333,
              "#9c179e"
             ],
             [
              0.4444444444444444,
              "#bd3786"
             ],
             [
              0.5555555555555556,
              "#d8576b"
             ],
             [
              0.6666666666666666,
              "#ed7953"
             ],
             [
              0.7777777777777778,
              "#fb9f3a"
             ],
             [
              0.8888888888888888,
              "#fdca26"
             ],
             [
              1,
              "#f0f921"
             ]
            ],
            "type": "contour"
           }
          ],
          "contourcarpet": [
           {
            "colorbar": {
             "outlinewidth": 0,
             "ticks": ""
            },
            "type": "contourcarpet"
           }
          ],
          "heatmap": [
           {
            "colorbar": {
             "outlinewidth": 0,
             "ticks": ""
            },
            "colorscale": [
             [
              0,
              "#0d0887"
             ],
             [
              0.1111111111111111,
              "#46039f"
             ],
             [
              0.2222222222222222,
              "#7201a8"
             ],
             [
              0.3333333333333333,
              "#9c179e"
             ],
             [
              0.4444444444444444,
              "#bd3786"
             ],
             [
              0.5555555555555556,
              "#d8576b"
             ],
             [
              0.6666666666666666,
              "#ed7953"
             ],
             [
              0.7777777777777778,
              "#fb9f3a"
             ],
             [
              0.8888888888888888,
              "#fdca26"
             ],
             [
              1,
              "#f0f921"
             ]
            ],
            "type": "heatmap"
           }
          ],
          "heatmapgl": [
           {
            "colorbar": {
             "outlinewidth": 0,
             "ticks": ""
            },
            "colorscale": [
             [
              0,
              "#0d0887"
             ],
             [
              0.1111111111111111,
              "#46039f"
             ],
             [
              0.2222222222222222,
              "#7201a8"
             ],
             [
              0.3333333333333333,
              "#9c179e"
             ],
             [
              0.4444444444444444,
              "#bd3786"
             ],
             [
              0.5555555555555556,
              "#d8576b"
             ],
             [
              0.6666666666666666,
              "#ed7953"
             ],
             [
              0.7777777777777778,
              "#fb9f3a"
             ],
             [
              0.8888888888888888,
              "#fdca26"
             ],
             [
              1,
              "#f0f921"
             ]
            ],
            "type": "heatmapgl"
           }
          ],
          "histogram": [
           {
            "marker": {
             "pattern": {
              "fillmode": "overlay",
              "size": 10,
              "solidity": 0.2
             }
            },
            "type": "histogram"
           }
          ],
          "histogram2d": [
           {
            "colorbar": {
             "outlinewidth": 0,
             "ticks": ""
            },
            "colorscale": [
             [
              0,
              "#0d0887"
             ],
             [
              0.1111111111111111,
              "#46039f"
             ],
             [
              0.2222222222222222,
              "#7201a8"
             ],
             [
              0.3333333333333333,
              "#9c179e"
             ],
             [
              0.4444444444444444,
              "#bd3786"
             ],
             [
              0.5555555555555556,
              "#d8576b"
             ],
             [
              0.6666666666666666,
              "#ed7953"
             ],
             [
              0.7777777777777778,
              "#fb9f3a"
             ],
             [
              0.8888888888888888,
              "#fdca26"
             ],
             [
              1,
              "#f0f921"
             ]
            ],
            "type": "histogram2d"
           }
          ],
          "histogram2dcontour": [
           {
            "colorbar": {
             "outlinewidth": 0,
             "ticks": ""
            },
            "colorscale": [
             [
              0,
              "#0d0887"
             ],
             [
              0.1111111111111111,
              "#46039f"
             ],
             [
              0.2222222222222222,
              "#7201a8"
             ],
             [
              0.3333333333333333,
              "#9c179e"
             ],
             [
              0.4444444444444444,
              "#bd3786"
             ],
             [
              0.5555555555555556,
              "#d8576b"
             ],
             [
              0.6666666666666666,
              "#ed7953"
             ],
             [
              0.7777777777777778,
              "#fb9f3a"
             ],
             [
              0.8888888888888888,
              "#fdca26"
             ],
             [
              1,
              "#f0f921"
             ]
            ],
            "type": "histogram2dcontour"
           }
          ],
          "mesh3d": [
           {
            "colorbar": {
             "outlinewidth": 0,
             "ticks": ""
            },
            "type": "mesh3d"
           }
          ],
          "parcoords": [
           {
            "line": {
             "colorbar": {
              "outlinewidth": 0,
              "ticks": ""
             }
            },
            "type": "parcoords"
           }
          ],
          "pie": [
           {
            "automargin": true,
            "type": "pie"
           }
          ],
          "scatter": [
           {
            "fillpattern": {
             "fillmode": "overlay",
             "size": 10,
             "solidity": 0.2
            },
            "type": "scatter"
           }
          ],
          "scatter3d": [
           {
            "line": {
             "colorbar": {
              "outlinewidth": 0,
              "ticks": ""
             }
            },
            "marker": {
             "colorbar": {
              "outlinewidth": 0,
              "ticks": ""
             }
            },
            "type": "scatter3d"
           }
          ],
          "scattercarpet": [
           {
            "marker": {
             "colorbar": {
              "outlinewidth": 0,
              "ticks": ""
             }
            },
            "type": "scattercarpet"
           }
          ],
          "scattergeo": [
           {
            "marker": {
             "colorbar": {
              "outlinewidth": 0,
              "ticks": ""
             }
            },
            "type": "scattergeo"
           }
          ],
          "scattergl": [
           {
            "marker": {
             "colorbar": {
              "outlinewidth": 0,
              "ticks": ""
             }
            },
            "type": "scattergl"
           }
          ],
          "scattermapbox": [
           {
            "marker": {
             "colorbar": {
              "outlinewidth": 0,
              "ticks": ""
             }
            },
            "type": "scattermapbox"
           }
          ],
          "scatterpolar": [
           {
            "marker": {
             "colorbar": {
              "outlinewidth": 0,
              "ticks": ""
             }
            },
            "type": "scatterpolar"
           }
          ],
          "scatterpolargl": [
           {
            "marker": {
             "colorbar": {
              "outlinewidth": 0,
              "ticks": ""
             }
            },
            "type": "scatterpolargl"
           }
          ],
          "scatterternary": [
           {
            "marker": {
             "colorbar": {
              "outlinewidth": 0,
              "ticks": ""
             }
            },
            "type": "scatterternary"
           }
          ],
          "surface": [
           {
            "colorbar": {
             "outlinewidth": 0,
             "ticks": ""
            },
            "colorscale": [
             [
              0,
              "#0d0887"
             ],
             [
              0.1111111111111111,
              "#46039f"
             ],
             [
              0.2222222222222222,
              "#7201a8"
             ],
             [
              0.3333333333333333,
              "#9c179e"
             ],
             [
              0.4444444444444444,
              "#bd3786"
             ],
             [
              0.5555555555555556,
              "#d8576b"
             ],
             [
              0.6666666666666666,
              "#ed7953"
             ],
             [
              0.7777777777777778,
              "#fb9f3a"
             ],
             [
              0.8888888888888888,
              "#fdca26"
             ],
             [
              1,
              "#f0f921"
             ]
            ],
            "type": "surface"
           }
          ],
          "table": [
           {
            "cells": {
             "fill": {
              "color": "#EBF0F8"
             },
             "line": {
              "color": "white"
             }
            },
            "header": {
             "fill": {
              "color": "#C8D4E3"
             },
             "line": {
              "color": "white"
             }
            },
            "type": "table"
           }
          ]
         },
         "layout": {
          "annotationdefaults": {
           "arrowcolor": "#2a3f5f",
           "arrowhead": 0,
           "arrowwidth": 1
          },
          "autotypenumbers": "strict",
          "coloraxis": {
           "colorbar": {
            "outlinewidth": 0,
            "ticks": ""
           }
          },
          "colorscale": {
           "diverging": [
            [
             0,
             "#8e0152"
            ],
            [
             0.1,
             "#c51b7d"
            ],
            [
             0.2,
             "#de77ae"
            ],
            [
             0.3,
             "#f1b6da"
            ],
            [
             0.4,
             "#fde0ef"
            ],
            [
             0.5,
             "#f7f7f7"
            ],
            [
             0.6,
             "#e6f5d0"
            ],
            [
             0.7,
             "#b8e186"
            ],
            [
             0.8,
             "#7fbc41"
            ],
            [
             0.9,
             "#4d9221"
            ],
            [
             1,
             "#276419"
            ]
           ],
           "sequential": [
            [
             0,
             "#0d0887"
            ],
            [
             0.1111111111111111,
             "#46039f"
            ],
            [
             0.2222222222222222,
             "#7201a8"
            ],
            [
             0.3333333333333333,
             "#9c179e"
            ],
            [
             0.4444444444444444,
             "#bd3786"
            ],
            [
             0.5555555555555556,
             "#d8576b"
            ],
            [
             0.6666666666666666,
             "#ed7953"
            ],
            [
             0.7777777777777778,
             "#fb9f3a"
            ],
            [
             0.8888888888888888,
             "#fdca26"
            ],
            [
             1,
             "#f0f921"
            ]
           ],
           "sequentialminus": [
            [
             0,
             "#0d0887"
            ],
            [
             0.1111111111111111,
             "#46039f"
            ],
            [
             0.2222222222222222,
             "#7201a8"
            ],
            [
             0.3333333333333333,
             "#9c179e"
            ],
            [
             0.4444444444444444,
             "#bd3786"
            ],
            [
             0.5555555555555556,
             "#d8576b"
            ],
            [
             0.6666666666666666,
             "#ed7953"
            ],
            [
             0.7777777777777778,
             "#fb9f3a"
            ],
            [
             0.8888888888888888,
             "#fdca26"
            ],
            [
             1,
             "#f0f921"
            ]
           ]
          },
          "colorway": [
           "#636efa",
           "#EF553B",
           "#00cc96",
           "#ab63fa",
           "#FFA15A",
           "#19d3f3",
           "#FF6692",
           "#B6E880",
           "#FF97FF",
           "#FECB52"
          ],
          "font": {
           "color": "#2a3f5f"
          },
          "geo": {
           "bgcolor": "white",
           "lakecolor": "white",
           "landcolor": "#E5ECF6",
           "showlakes": true,
           "showland": true,
           "subunitcolor": "white"
          },
          "hoverlabel": {
           "align": "left"
          },
          "hovermode": "closest",
          "mapbox": {
           "style": "light"
          },
          "paper_bgcolor": "white",
          "plot_bgcolor": "#E5ECF6",
          "polar": {
           "angularaxis": {
            "gridcolor": "white",
            "linecolor": "white",
            "ticks": ""
           },
           "bgcolor": "#E5ECF6",
           "radialaxis": {
            "gridcolor": "white",
            "linecolor": "white",
            "ticks": ""
           }
          },
          "scene": {
           "xaxis": {
            "backgroundcolor": "#E5ECF6",
            "gridcolor": "white",
            "gridwidth": 2,
            "linecolor": "white",
            "showbackground": true,
            "ticks": "",
            "zerolinecolor": "white"
           },
           "yaxis": {
            "backgroundcolor": "#E5ECF6",
            "gridcolor": "white",
            "gridwidth": 2,
            "linecolor": "white",
            "showbackground": true,
            "ticks": "",
            "zerolinecolor": "white"
           },
           "zaxis": {
            "backgroundcolor": "#E5ECF6",
            "gridcolor": "white",
            "gridwidth": 2,
            "linecolor": "white",
            "showbackground": true,
            "ticks": "",
            "zerolinecolor": "white"
           }
          },
          "shapedefaults": {
           "line": {
            "color": "#2a3f5f"
           }
          },
          "ternary": {
           "aaxis": {
            "gridcolor": "white",
            "linecolor": "white",
            "ticks": ""
           },
           "baxis": {
            "gridcolor": "white",
            "linecolor": "white",
            "ticks": ""
           },
           "bgcolor": "#E5ECF6",
           "caxis": {
            "gridcolor": "white",
            "linecolor": "white",
            "ticks": ""
           }
          },
          "title": {
           "x": 0.05
          },
          "xaxis": {
           "automargin": true,
           "gridcolor": "white",
           "linecolor": "white",
           "ticks": "",
           "title": {
            "standoff": 15
           },
           "zerolinecolor": "white",
           "zerolinewidth": 2
          },
          "yaxis": {
           "automargin": true,
           "gridcolor": "white",
           "linecolor": "white",
           "ticks": "",
           "title": {
            "standoff": 15
           },
           "zerolinecolor": "white",
           "zerolinewidth": 2
          }
         }
        },
        "title": {
         "text": "Treemap of AIV Topic Distribution"
        },
        "width": 1000
       }
      }
     },
     "metadata": {},
     "output_type": "display_data"
    }
   ],
   "source": [
    "import plotly.express as px\n",
    "import pandas as pd\n",
    "\n",
    "# Create the treemap\n",
    "fig = px.treemap(collapsed_df, \n",
    "                 path=['levle_0', 'levle_1'], \n",
    "                 values='Name',\n",
    "                 #color='Name',\n",
    "                 #color_continuous_scale='RdBu',\n",
    "                 width=1000, \n",
    "                 height=800,\n",
    "                 title=\"Treemap of AIV Topic Distribution\")\n",
    "fig.update_traces(hovertemplate='labels=%{label}<br>total_count=%{value}<extra></extra>')\n",
    "# Show the plot\n",
    "fig.show()"
   ]
  },
  {
   "cell_type": "code",
   "execution_count": 62,
   "metadata": {},
   "outputs": [
    {
     "data": {
      "text/html": [
       "<div>\n",
       "<style scoped>\n",
       "    .dataframe tbody tr th:only-of-type {\n",
       "        vertical-align: middle;\n",
       "    }\n",
       "\n",
       "    .dataframe tbody tr th {\n",
       "        vertical-align: top;\n",
       "    }\n",
       "\n",
       "    .dataframe thead th {\n",
       "        text-align: right;\n",
       "    }\n",
       "</style>\n",
       "<table border=\"1\" class=\"dataframe\">\n",
       "  <thead>\n",
       "    <tr style=\"text-align: right;\">\n",
       "      <th></th>\n",
       "      <th>year</th>\n",
       "      <th>levle_0</th>\n",
       "      <th>Name</th>\n",
       "    </tr>\n",
       "  </thead>\n",
       "  <tbody>\n",
       "    <tr>\n",
       "      <th>0</th>\n",
       "      <td>2008</td>\n",
       "      <td>External</td>\n",
       "      <td>1071</td>\n",
       "    </tr>\n",
       "    <tr>\n",
       "      <th>1</th>\n",
       "      <td>2008</td>\n",
       "      <td>Financial</td>\n",
       "      <td>842</td>\n",
       "    </tr>\n",
       "    <tr>\n",
       "      <th>2</th>\n",
       "      <td>2008</td>\n",
       "      <td>Fiscal</td>\n",
       "      <td>1230</td>\n",
       "    </tr>\n",
       "    <tr>\n",
       "      <th>3</th>\n",
       "      <td>2008</td>\n",
       "      <td>Monetary</td>\n",
       "      <td>284</td>\n",
       "    </tr>\n",
       "    <tr>\n",
       "      <th>4</th>\n",
       "      <td>2008</td>\n",
       "      <td>Others</td>\n",
       "      <td>555</td>\n",
       "    </tr>\n",
       "    <tr>\n",
       "      <th>5</th>\n",
       "      <td>2008</td>\n",
       "      <td>Program</td>\n",
       "      <td>961</td>\n",
       "    </tr>\n",
       "    <tr>\n",
       "      <th>6</th>\n",
       "      <td>2008</td>\n",
       "      <td>Real</td>\n",
       "      <td>601</td>\n",
       "    </tr>\n",
       "    <tr>\n",
       "      <th>7</th>\n",
       "      <td>2008</td>\n",
       "      <td>Statistical Analysis</td>\n",
       "      <td>13</td>\n",
       "    </tr>\n",
       "    <tr>\n",
       "      <th>8</th>\n",
       "      <td>2008</td>\n",
       "      <td>Statistics</td>\n",
       "      <td>184</td>\n",
       "    </tr>\n",
       "    <tr>\n",
       "      <th>9</th>\n",
       "      <td>2008</td>\n",
       "      <td>Structural/Social</td>\n",
       "      <td>736</td>\n",
       "    </tr>\n",
       "  </tbody>\n",
       "</table>\n",
       "</div>"
      ],
      "text/plain": [
       "   year               levle_0  Name\n",
       "0  2008              External  1071\n",
       "1  2008             Financial   842\n",
       "2  2008                Fiscal  1230\n",
       "3  2008              Monetary   284\n",
       "4  2008                Others   555\n",
       "5  2008               Program   961\n",
       "6  2008                  Real   601\n",
       "7  2008  Statistical Analysis    13\n",
       "8  2008            Statistics   184\n",
       "9  2008     Structural/Social   736"
      ]
     },
     "execution_count": 62,
     "metadata": {},
     "output_type": "execute_result"
    }
   ],
   "source": [
    "collapsed_df = merged_df.groupby(['year','levle_0'], as_index=False)['Name'].count()\n",
    "collapsed_df.head(10)"
   ]
  },
  {
   "cell_type": "code",
   "execution_count": 79,
   "metadata": {},
   "outputs": [
    {
     "data": {
      "application/vnd.plotly.v1+json": {
       "config": {
        "plotlyServerURL": "https://plot.ly"
       },
       "data": [
        {
         "fillpattern": {
          "shape": ""
         },
         "hovertemplate": "levle_0=External<br>year=%{x}<br>Name=%{y}<extra></extra>",
         "legendgroup": "External",
         "line": {
          "color": "#636efa"
         },
         "marker": {
          "symbol": "circle"
         },
         "mode": "lines",
         "name": "External",
         "orientation": "v",
         "showlegend": true,
         "stackgroup": "1",
         "type": "scatter",
         "x": [
          "2008",
          "2009",
          "2010",
          "2011",
          "2012",
          "2013",
          "2014",
          "2015",
          "2016",
          "2017",
          "2018",
          "2019",
          "2020",
          "2021",
          "2022",
          "2023"
         ],
         "xaxis": "x",
         "y": [
          1071,
          1111,
          1446,
          1247,
          1364,
          1523,
          1625,
          1649,
          1684,
          1888,
          1652,
          1639,
          358,
          1301,
          1519,
          1461
         ],
         "yaxis": "y"
        },
        {
         "fillpattern": {
          "shape": ""
         },
         "hovertemplate": "levle_0=Financial<br>year=%{x}<br>Name=%{y}<extra></extra>",
         "legendgroup": "Financial",
         "line": {
          "color": "#EF553B"
         },
         "marker": {
          "symbol": "circle"
         },
         "mode": "lines",
         "name": "Financial",
         "orientation": "v",
         "showlegend": true,
         "stackgroup": "1",
         "type": "scatter",
         "x": [
          "2008",
          "2009",
          "2010",
          "2011",
          "2012",
          "2013",
          "2014",
          "2015",
          "2016",
          "2017",
          "2018",
          "2019",
          "2020",
          "2021",
          "2022",
          "2023"
         ],
         "xaxis": "x",
         "y": [
          842,
          1067,
          1331,
          1169,
          1257,
          1482,
          1309,
          1307,
          1434,
          1473,
          1274,
          1209,
          318,
          1104,
          1152,
          1327
         ],
         "yaxis": "y"
        },
        {
         "fillpattern": {
          "shape": ""
         },
         "hovertemplate": "levle_0=Fiscal<br>year=%{x}<br>Name=%{y}<extra></extra>",
         "legendgroup": "Fiscal",
         "line": {
          "color": "#00cc96"
         },
         "marker": {
          "symbol": "circle"
         },
         "mode": "lines",
         "name": "Fiscal",
         "orientation": "v",
         "showlegend": true,
         "stackgroup": "1",
         "type": "scatter",
         "x": [
          "2008",
          "2009",
          "2010",
          "2011",
          "2012",
          "2013",
          "2014",
          "2015",
          "2016",
          "2017",
          "2018",
          "2019",
          "2020",
          "2021",
          "2022",
          "2023"
         ],
         "xaxis": "x",
         "y": [
          1230,
          1350,
          1883,
          1459,
          1706,
          2006,
          2156,
          2016,
          2045,
          2649,
          2250,
          2240,
          543,
          2365,
          2278,
          2039
         ],
         "yaxis": "y"
        },
        {
         "fillpattern": {
          "shape": ""
         },
         "hovertemplate": "levle_0=Monetary<br>year=%{x}<br>Name=%{y}<extra></extra>",
         "legendgroup": "Monetary",
         "line": {
          "color": "#ab63fa"
         },
         "marker": {
          "symbol": "circle"
         },
         "mode": "lines",
         "name": "Monetary",
         "orientation": "v",
         "showlegend": true,
         "stackgroup": "1",
         "type": "scatter",
         "x": [
          "2008",
          "2009",
          "2010",
          "2011",
          "2012",
          "2013",
          "2014",
          "2015",
          "2016",
          "2017",
          "2018",
          "2019",
          "2020",
          "2021",
          "2022",
          "2023"
         ],
         "xaxis": "x",
         "y": [
          284,
          283,
          326,
          319,
          350,
          331,
          330,
          285,
          373,
          409,
          388,
          324,
          76,
          328,
          375,
          432
         ],
         "yaxis": "y"
        },
        {
         "fillpattern": {
          "shape": ""
         },
         "hovertemplate": "levle_0=Others<br>year=%{x}<br>Name=%{y}<extra></extra>",
         "legendgroup": "Others",
         "line": {
          "color": "#FFA15A"
         },
         "marker": {
          "symbol": "circle"
         },
         "mode": "lines",
         "name": "Others",
         "orientation": "v",
         "showlegend": true,
         "stackgroup": "1",
         "type": "scatter",
         "x": [
          "2008",
          "2009",
          "2010",
          "2011",
          "2012",
          "2013",
          "2014",
          "2015",
          "2016",
          "2017",
          "2018",
          "2019",
          "2020",
          "2021",
          "2022",
          "2023"
         ],
         "xaxis": "x",
         "y": [
          555,
          567,
          683,
          538,
          577,
          627,
          612,
          358,
          436,
          527,
          442,
          535,
          83,
          455,
          509,
          632
         ],
         "yaxis": "y"
        },
        {
         "fillpattern": {
          "shape": ""
         },
         "hovertemplate": "levle_0=Program<br>year=%{x}<br>Name=%{y}<extra></extra>",
         "legendgroup": "Program",
         "line": {
          "color": "#19d3f3"
         },
         "marker": {
          "symbol": "circle"
         },
         "mode": "lines",
         "name": "Program",
         "orientation": "v",
         "showlegend": true,
         "stackgroup": "1",
         "type": "scatter",
         "x": [
          "2008",
          "2009",
          "2010",
          "2011",
          "2012",
          "2013",
          "2014",
          "2015",
          "2016",
          "2017",
          "2018",
          "2019",
          "2020",
          "2021",
          "2022",
          "2023"
         ],
         "xaxis": "x",
         "y": [
          961,
          1231,
          1559,
          1032,
          1090,
          1005,
          1263,
          1122,
          1128,
          1490,
          1149,
          1264,
          306,
          1643,
          1588,
          1345
         ],
         "yaxis": "y"
        },
        {
         "fillpattern": {
          "shape": ""
         },
         "hovertemplate": "levle_0=Real<br>year=%{x}<br>Name=%{y}<extra></extra>",
         "legendgroup": "Real",
         "line": {
          "color": "#FF6692"
         },
         "marker": {
          "symbol": "circle"
         },
         "mode": "lines",
         "name": "Real",
         "orientation": "v",
         "showlegend": true,
         "stackgroup": "1",
         "type": "scatter",
         "x": [
          "2008",
          "2009",
          "2010",
          "2011",
          "2012",
          "2013",
          "2014",
          "2015",
          "2016",
          "2017",
          "2018",
          "2019",
          "2020",
          "2021",
          "2022",
          "2023"
         ],
         "xaxis": "x",
         "y": [
          601,
          633,
          691,
          862,
          808,
          1057,
          1048,
          1035,
          1067,
          1061,
          997,
          843,
          160,
          815,
          1155,
          1115
         ],
         "yaxis": "y"
        },
        {
         "fillpattern": {
          "shape": ""
         },
         "hovertemplate": "levle_0=Statistical Analysis<br>year=%{x}<br>Name=%{y}<extra></extra>",
         "legendgroup": "Statistical Analysis",
         "line": {
          "color": "#B6E880"
         },
         "marker": {
          "symbol": "circle"
         },
         "mode": "lines",
         "name": "Statistical Analysis",
         "orientation": "v",
         "showlegend": true,
         "stackgroup": "1",
         "type": "scatter",
         "x": [
          "2008",
          "2009",
          "2010",
          "2011",
          "2012",
          "2013",
          "2014",
          "2015",
          "2016",
          "2017",
          "2018",
          "2019",
          "2020",
          "2021",
          "2022",
          "2023"
         ],
         "xaxis": "x",
         "y": [
          13,
          10,
          20,
          14,
          12,
          24,
          19,
          31,
          37,
          36,
          35,
          35,
          18,
          38,
          28,
          30
         ],
         "yaxis": "y"
        },
        {
         "fillpattern": {
          "shape": ""
         },
         "hovertemplate": "levle_0=Statistics<br>year=%{x}<br>Name=%{y}<extra></extra>",
         "legendgroup": "Statistics",
         "line": {
          "color": "#FF97FF"
         },
         "marker": {
          "symbol": "circle"
         },
         "mode": "lines",
         "name": "Statistics",
         "orientation": "v",
         "showlegend": true,
         "stackgroup": "1",
         "type": "scatter",
         "x": [
          "2008",
          "2009",
          "2010",
          "2011",
          "2012",
          "2013",
          "2014",
          "2015",
          "2016",
          "2017",
          "2018",
          "2019",
          "2020",
          "2021",
          "2022",
          "2023"
         ],
         "xaxis": "x",
         "y": [
          184,
          191,
          252,
          158,
          185,
          232,
          239,
          238,
          230,
          292,
          249,
          295,
          45,
          219,
          257,
          250
         ],
         "yaxis": "y"
        },
        {
         "fillpattern": {
          "shape": ""
         },
         "hovertemplate": "levle_0=Structural/Social<br>year=%{x}<br>Name=%{y}<extra></extra>",
         "legendgroup": "Structural/Social",
         "line": {
          "color": "#FECB52"
         },
         "marker": {
          "symbol": "circle"
         },
         "mode": "lines",
         "name": "Structural/Social",
         "orientation": "v",
         "showlegend": true,
         "stackgroup": "1",
         "type": "scatter",
         "x": [
          "2008",
          "2009",
          "2010",
          "2011",
          "2012",
          "2013",
          "2014",
          "2015",
          "2016",
          "2017",
          "2018",
          "2019",
          "2020",
          "2021",
          "2022",
          "2023"
         ],
         "xaxis": "x",
         "y": [
          736,
          764,
          1259,
          1149,
          1378,
          1652,
          1562,
          1617,
          1828,
          2198,
          2025,
          1911,
          550,
          2717,
          2462,
          2399
         ],
         "yaxis": "y"
        }
       ],
       "layout": {
        "height": 500,
        "legend": {
         "title": {
          "font": {
           "size": 14
          },
          "text": "High Level Topics"
         },
         "tracegroupgap": 0
        },
        "template": {
         "data": {
          "bar": [
           {
            "error_x": {
             "color": "#2a3f5f"
            },
            "error_y": {
             "color": "#2a3f5f"
            },
            "marker": {
             "line": {
              "color": "#E5ECF6",
              "width": 0.5
             },
             "pattern": {
              "fillmode": "overlay",
              "size": 10,
              "solidity": 0.2
             }
            },
            "type": "bar"
           }
          ],
          "barpolar": [
           {
            "marker": {
             "line": {
              "color": "#E5ECF6",
              "width": 0.5
             },
             "pattern": {
              "fillmode": "overlay",
              "size": 10,
              "solidity": 0.2
             }
            },
            "type": "barpolar"
           }
          ],
          "carpet": [
           {
            "aaxis": {
             "endlinecolor": "#2a3f5f",
             "gridcolor": "white",
             "linecolor": "white",
             "minorgridcolor": "white",
             "startlinecolor": "#2a3f5f"
            },
            "baxis": {
             "endlinecolor": "#2a3f5f",
             "gridcolor": "white",
             "linecolor": "white",
             "minorgridcolor": "white",
             "startlinecolor": "#2a3f5f"
            },
            "type": "carpet"
           }
          ],
          "choropleth": [
           {
            "colorbar": {
             "outlinewidth": 0,
             "ticks": ""
            },
            "type": "choropleth"
           }
          ],
          "contour": [
           {
            "colorbar": {
             "outlinewidth": 0,
             "ticks": ""
            },
            "colorscale": [
             [
              0,
              "#0d0887"
             ],
             [
              0.1111111111111111,
              "#46039f"
             ],
             [
              0.2222222222222222,
              "#7201a8"
             ],
             [
              0.3333333333333333,
              "#9c179e"
             ],
             [
              0.4444444444444444,
              "#bd3786"
             ],
             [
              0.5555555555555556,
              "#d8576b"
             ],
             [
              0.6666666666666666,
              "#ed7953"
             ],
             [
              0.7777777777777778,
              "#fb9f3a"
             ],
             [
              0.8888888888888888,
              "#fdca26"
             ],
             [
              1,
              "#f0f921"
             ]
            ],
            "type": "contour"
           }
          ],
          "contourcarpet": [
           {
            "colorbar": {
             "outlinewidth": 0,
             "ticks": ""
            },
            "type": "contourcarpet"
           }
          ],
          "heatmap": [
           {
            "colorbar": {
             "outlinewidth": 0,
             "ticks": ""
            },
            "colorscale": [
             [
              0,
              "#0d0887"
             ],
             [
              0.1111111111111111,
              "#46039f"
             ],
             [
              0.2222222222222222,
              "#7201a8"
             ],
             [
              0.3333333333333333,
              "#9c179e"
             ],
             [
              0.4444444444444444,
              "#bd3786"
             ],
             [
              0.5555555555555556,
              "#d8576b"
             ],
             [
              0.6666666666666666,
              "#ed7953"
             ],
             [
              0.7777777777777778,
              "#fb9f3a"
             ],
             [
              0.8888888888888888,
              "#fdca26"
             ],
             [
              1,
              "#f0f921"
             ]
            ],
            "type": "heatmap"
           }
          ],
          "heatmapgl": [
           {
            "colorbar": {
             "outlinewidth": 0,
             "ticks": ""
            },
            "colorscale": [
             [
              0,
              "#0d0887"
             ],
             [
              0.1111111111111111,
              "#46039f"
             ],
             [
              0.2222222222222222,
              "#7201a8"
             ],
             [
              0.3333333333333333,
              "#9c179e"
             ],
             [
              0.4444444444444444,
              "#bd3786"
             ],
             [
              0.5555555555555556,
              "#d8576b"
             ],
             [
              0.6666666666666666,
              "#ed7953"
             ],
             [
              0.7777777777777778,
              "#fb9f3a"
             ],
             [
              0.8888888888888888,
              "#fdca26"
             ],
             [
              1,
              "#f0f921"
             ]
            ],
            "type": "heatmapgl"
           }
          ],
          "histogram": [
           {
            "marker": {
             "pattern": {
              "fillmode": "overlay",
              "size": 10,
              "solidity": 0.2
             }
            },
            "type": "histogram"
           }
          ],
          "histogram2d": [
           {
            "colorbar": {
             "outlinewidth": 0,
             "ticks": ""
            },
            "colorscale": [
             [
              0,
              "#0d0887"
             ],
             [
              0.1111111111111111,
              "#46039f"
             ],
             [
              0.2222222222222222,
              "#7201a8"
             ],
             [
              0.3333333333333333,
              "#9c179e"
             ],
             [
              0.4444444444444444,
              "#bd3786"
             ],
             [
              0.5555555555555556,
              "#d8576b"
             ],
             [
              0.6666666666666666,
              "#ed7953"
             ],
             [
              0.7777777777777778,
              "#fb9f3a"
             ],
             [
              0.8888888888888888,
              "#fdca26"
             ],
             [
              1,
              "#f0f921"
             ]
            ],
            "type": "histogram2d"
           }
          ],
          "histogram2dcontour": [
           {
            "colorbar": {
             "outlinewidth": 0,
             "ticks": ""
            },
            "colorscale": [
             [
              0,
              "#0d0887"
             ],
             [
              0.1111111111111111,
              "#46039f"
             ],
             [
              0.2222222222222222,
              "#7201a8"
             ],
             [
              0.3333333333333333,
              "#9c179e"
             ],
             [
              0.4444444444444444,
              "#bd3786"
             ],
             [
              0.5555555555555556,
              "#d8576b"
             ],
             [
              0.6666666666666666,
              "#ed7953"
             ],
             [
              0.7777777777777778,
              "#fb9f3a"
             ],
             [
              0.8888888888888888,
              "#fdca26"
             ],
             [
              1,
              "#f0f921"
             ]
            ],
            "type": "histogram2dcontour"
           }
          ],
          "mesh3d": [
           {
            "colorbar": {
             "outlinewidth": 0,
             "ticks": ""
            },
            "type": "mesh3d"
           }
          ],
          "parcoords": [
           {
            "line": {
             "colorbar": {
              "outlinewidth": 0,
              "ticks": ""
             }
            },
            "type": "parcoords"
           }
          ],
          "pie": [
           {
            "automargin": true,
            "type": "pie"
           }
          ],
          "scatter": [
           {
            "fillpattern": {
             "fillmode": "overlay",
             "size": 10,
             "solidity": 0.2
            },
            "type": "scatter"
           }
          ],
          "scatter3d": [
           {
            "line": {
             "colorbar": {
              "outlinewidth": 0,
              "ticks": ""
             }
            },
            "marker": {
             "colorbar": {
              "outlinewidth": 0,
              "ticks": ""
             }
            },
            "type": "scatter3d"
           }
          ],
          "scattercarpet": [
           {
            "marker": {
             "colorbar": {
              "outlinewidth": 0,
              "ticks": ""
             }
            },
            "type": "scattercarpet"
           }
          ],
          "scattergeo": [
           {
            "marker": {
             "colorbar": {
              "outlinewidth": 0,
              "ticks": ""
             }
            },
            "type": "scattergeo"
           }
          ],
          "scattergl": [
           {
            "marker": {
             "colorbar": {
              "outlinewidth": 0,
              "ticks": ""
             }
            },
            "type": "scattergl"
           }
          ],
          "scattermapbox": [
           {
            "marker": {
             "colorbar": {
              "outlinewidth": 0,
              "ticks": ""
             }
            },
            "type": "scattermapbox"
           }
          ],
          "scatterpolar": [
           {
            "marker": {
             "colorbar": {
              "outlinewidth": 0,
              "ticks": ""
             }
            },
            "type": "scatterpolar"
           }
          ],
          "scatterpolargl": [
           {
            "marker": {
             "colorbar": {
              "outlinewidth": 0,
              "ticks": ""
             }
            },
            "type": "scatterpolargl"
           }
          ],
          "scatterternary": [
           {
            "marker": {
             "colorbar": {
              "outlinewidth": 0,
              "ticks": ""
             }
            },
            "type": "scatterternary"
           }
          ],
          "surface": [
           {
            "colorbar": {
             "outlinewidth": 0,
             "ticks": ""
            },
            "colorscale": [
             [
              0,
              "#0d0887"
             ],
             [
              0.1111111111111111,
              "#46039f"
             ],
             [
              0.2222222222222222,
              "#7201a8"
             ],
             [
              0.3333333333333333,
              "#9c179e"
             ],
             [
              0.4444444444444444,
              "#bd3786"
             ],
             [
              0.5555555555555556,
              "#d8576b"
             ],
             [
              0.6666666666666666,
              "#ed7953"
             ],
             [
              0.7777777777777778,
              "#fb9f3a"
             ],
             [
              0.8888888888888888,
              "#fdca26"
             ],
             [
              1,
              "#f0f921"
             ]
            ],
            "type": "surface"
           }
          ],
          "table": [
           {
            "cells": {
             "fill": {
              "color": "#EBF0F8"
             },
             "line": {
              "color": "white"
             }
            },
            "header": {
             "fill": {
              "color": "#C8D4E3"
             },
             "line": {
              "color": "white"
             }
            },
            "type": "table"
           }
          ]
         },
         "layout": {
          "annotationdefaults": {
           "arrowcolor": "#2a3f5f",
           "arrowhead": 0,
           "arrowwidth": 1
          },
          "autotypenumbers": "strict",
          "coloraxis": {
           "colorbar": {
            "outlinewidth": 0,
            "ticks": ""
           }
          },
          "colorscale": {
           "diverging": [
            [
             0,
             "#8e0152"
            ],
            [
             0.1,
             "#c51b7d"
            ],
            [
             0.2,
             "#de77ae"
            ],
            [
             0.3,
             "#f1b6da"
            ],
            [
             0.4,
             "#fde0ef"
            ],
            [
             0.5,
             "#f7f7f7"
            ],
            [
             0.6,
             "#e6f5d0"
            ],
            [
             0.7,
             "#b8e186"
            ],
            [
             0.8,
             "#7fbc41"
            ],
            [
             0.9,
             "#4d9221"
            ],
            [
             1,
             "#276419"
            ]
           ],
           "sequential": [
            [
             0,
             "#0d0887"
            ],
            [
             0.1111111111111111,
             "#46039f"
            ],
            [
             0.2222222222222222,
             "#7201a8"
            ],
            [
             0.3333333333333333,
             "#9c179e"
            ],
            [
             0.4444444444444444,
             "#bd3786"
            ],
            [
             0.5555555555555556,
             "#d8576b"
            ],
            [
             0.6666666666666666,
             "#ed7953"
            ],
            [
             0.7777777777777778,
             "#fb9f3a"
            ],
            [
             0.8888888888888888,
             "#fdca26"
            ],
            [
             1,
             "#f0f921"
            ]
           ],
           "sequentialminus": [
            [
             0,
             "#0d0887"
            ],
            [
             0.1111111111111111,
             "#46039f"
            ],
            [
             0.2222222222222222,
             "#7201a8"
            ],
            [
             0.3333333333333333,
             "#9c179e"
            ],
            [
             0.4444444444444444,
             "#bd3786"
            ],
            [
             0.5555555555555556,
             "#d8576b"
            ],
            [
             0.6666666666666666,
             "#ed7953"
            ],
            [
             0.7777777777777778,
             "#fb9f3a"
            ],
            [
             0.8888888888888888,
             "#fdca26"
            ],
            [
             1,
             "#f0f921"
            ]
           ]
          },
          "colorway": [
           "#636efa",
           "#EF553B",
           "#00cc96",
           "#ab63fa",
           "#FFA15A",
           "#19d3f3",
           "#FF6692",
           "#B6E880",
           "#FF97FF",
           "#FECB52"
          ],
          "font": {
           "color": "#2a3f5f"
          },
          "geo": {
           "bgcolor": "white",
           "lakecolor": "white",
           "landcolor": "#E5ECF6",
           "showlakes": true,
           "showland": true,
           "subunitcolor": "white"
          },
          "hoverlabel": {
           "align": "left"
          },
          "hovermode": "closest",
          "mapbox": {
           "style": "light"
          },
          "paper_bgcolor": "white",
          "plot_bgcolor": "#E5ECF6",
          "polar": {
           "angularaxis": {
            "gridcolor": "white",
            "linecolor": "white",
            "ticks": ""
           },
           "bgcolor": "#E5ECF6",
           "radialaxis": {
            "gridcolor": "white",
            "linecolor": "white",
            "ticks": ""
           }
          },
          "scene": {
           "xaxis": {
            "backgroundcolor": "#E5ECF6",
            "gridcolor": "white",
            "gridwidth": 2,
            "linecolor": "white",
            "showbackground": true,
            "ticks": "",
            "zerolinecolor": "white"
           },
           "yaxis": {
            "backgroundcolor": "#E5ECF6",
            "gridcolor": "white",
            "gridwidth": 2,
            "linecolor": "white",
            "showbackground": true,
            "ticks": "",
            "zerolinecolor": "white"
           },
           "zaxis": {
            "backgroundcolor": "#E5ECF6",
            "gridcolor": "white",
            "gridwidth": 2,
            "linecolor": "white",
            "showbackground": true,
            "ticks": "",
            "zerolinecolor": "white"
           }
          },
          "shapedefaults": {
           "line": {
            "color": "#2a3f5f"
           }
          },
          "ternary": {
           "aaxis": {
            "gridcolor": "white",
            "linecolor": "white",
            "ticks": ""
           },
           "baxis": {
            "gridcolor": "white",
            "linecolor": "white",
            "ticks": ""
           },
           "bgcolor": "#E5ECF6",
           "caxis": {
            "gridcolor": "white",
            "linecolor": "white",
            "ticks": ""
           }
          },
          "title": {
           "x": 0.05
          },
          "xaxis": {
           "automargin": true,
           "gridcolor": "white",
           "linecolor": "white",
           "ticks": "",
           "title": {
            "standoff": 15
           },
           "zerolinecolor": "white",
           "zerolinewidth": 2
          },
          "yaxis": {
           "automargin": true,
           "gridcolor": "white",
           "linecolor": "white",
           "ticks": "",
           "title": {
            "standoff": 15
           },
           "zerolinecolor": "white",
           "zerolinewidth": 2
          }
         }
        },
        "title": {
         "text": "Topic Over Time"
        },
        "width": 1000,
        "xaxis": {
         "anchor": "y",
         "domain": [
          0,
          1
         ],
         "title": {
          "text": "year"
         }
        },
        "yaxis": {
         "anchor": "x",
         "domain": [
          0,
          1
         ],
         "title": {
          "text": "Name"
         }
        }
       }
      }
     },
     "metadata": {},
     "output_type": "display_data"
    }
   ],
   "source": [
    "fig = px.area(collapsed_df, \n",
    "              x=\"year\", \n",
    "              y=\"Name\", \n",
    "              color=\"levle_0\", \n",
    "              line_group=\"levle_0\",\n",
    "              height=500,\n",
    "              width=1000,\n",
    "              title='Topic Over Time',\n",
    "              )\n",
    "fig.update_layout(legend=dict(\n",
    "    title=dict(\n",
    "        text='High Level Topics',\n",
    "        font=dict(size=14)  # Optional: set the font size\n",
    "    )\n",
    "))\n",
    "\n",
    "fig.show()"
   ]
  },
  {
   "cell_type": "code",
   "execution_count": null,
   "metadata": {},
   "outputs": [],
   "source": []
  }
 ],
 "metadata": {
  "kernelspec": {
   "display_name": "sbert",
   "language": "python",
   "name": "python3"
  },
  "language_info": {
   "codemirror_mode": {
    "name": "ipython",
    "version": 3
   },
   "file_extension": ".py",
   "mimetype": "text/x-python",
   "name": "python",
   "nbconvert_exporter": "python",
   "pygments_lexer": "ipython3",
   "version": "3.8.13"
  }
 },
 "nbformat": 4,
 "nbformat_minor": 2
}
