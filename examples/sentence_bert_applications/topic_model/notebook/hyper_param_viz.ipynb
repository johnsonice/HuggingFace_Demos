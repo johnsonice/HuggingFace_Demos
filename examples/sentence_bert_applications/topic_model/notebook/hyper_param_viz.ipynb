{
 "cells": [
  {
   "attachments": {},
   "cell_type": "markdown",
   "metadata": {},
   "source": [
    "### Visualize Hyper Params "
   ]
  },
  {
   "cell_type": "code",
   "execution_count": 1,
   "metadata": {},
   "outputs": [],
   "source": [
    "import pandas as pd\n",
    "import plotly.express as px"
   ]
  },
  {
   "attachments": {},
   "cell_type": "markdown",
   "metadata": {},
   "source": [
    "- #### simeple version with pandas "
   ]
  },
  {
   "cell_type": "code",
   "execution_count": 2,
   "metadata": {},
   "outputs": [],
   "source": [
    "#tune_res_f_p = '/data/chuang/Language_Model_Training_Data/Data/Raw_LM_Data/temp_topic_model/temp_results/hp_tune_results_p2.csv'\n",
    "tune_res_f_p = '/data/chuang/Language_Model_Training_Data/Models/Topic_Models/step_10000/hp_tune_results_1.csv'\n",
    "df = pd.read_csv(tune_res_f_p)"
   ]
  },
  {
   "cell_type": "code",
   "execution_count": 3,
   "metadata": {},
   "outputs": [
    {
     "data": {
      "text/html": [
       "<div>\n",
       "<style scoped>\n",
       "    .dataframe tbody tr th:only-of-type {\n",
       "        vertical-align: middle;\n",
       "    }\n",
       "\n",
       "    .dataframe tbody tr th {\n",
       "        vertical-align: top;\n",
       "    }\n",
       "\n",
       "    .dataframe thead th {\n",
       "        text-align: right;\n",
       "    }\n",
       "</style>\n",
       "<table border=\"1\" class=\"dataframe\">\n",
       "  <thead>\n",
       "    <tr style=\"text-align: right;\">\n",
       "      <th></th>\n",
       "      <th>Unnamed: 0</th>\n",
       "      <th>n_neighbors</th>\n",
       "      <th>n_components</th>\n",
       "      <th>min_cluster_size</th>\n",
       "      <th>min_samples</th>\n",
       "      <th>metric</th>\n",
       "      <th>top_n_words</th>\n",
       "      <th>coherence</th>\n",
       "      <th>diversity</th>\n",
       "      <th>outlier</th>\n",
       "      <th>number_topics</th>\n",
       "    </tr>\n",
       "  </thead>\n",
       "  <tbody>\n",
       "    <tr>\n",
       "      <th>0</th>\n",
       "      <td>0</td>\n",
       "      <td>5</td>\n",
       "      <td>8</td>\n",
       "      <td>20</td>\n",
       "      <td>4</td>\n",
       "      <td>euclidean</td>\n",
       "      <td>30</td>\n",
       "      <td>0.379396</td>\n",
       "      <td>0.409132</td>\n",
       "      <td>0.540639</td>\n",
       "      <td>3139</td>\n",
       "    </tr>\n",
       "    <tr>\n",
       "      <th>1</th>\n",
       "      <td>1</td>\n",
       "      <td>5</td>\n",
       "      <td>8</td>\n",
       "      <td>40</td>\n",
       "      <td>40</td>\n",
       "      <td>euclidean</td>\n",
       "      <td>5</td>\n",
       "      <td>0.456839</td>\n",
       "      <td>0.733902</td>\n",
       "      <td>0.583766</td>\n",
       "      <td>469</td>\n",
       "    </tr>\n",
       "    <tr>\n",
       "      <th>2</th>\n",
       "      <td>2</td>\n",
       "      <td>5</td>\n",
       "      <td>8</td>\n",
       "      <td>40</td>\n",
       "      <td>40</td>\n",
       "      <td>euclidean</td>\n",
       "      <td>10</td>\n",
       "      <td>0.376127</td>\n",
       "      <td>0.636034</td>\n",
       "      <td>0.583766</td>\n",
       "      <td>469</td>\n",
       "    </tr>\n",
       "    <tr>\n",
       "      <th>3</th>\n",
       "      <td>3</td>\n",
       "      <td>5</td>\n",
       "      <td>8</td>\n",
       "      <td>40</td>\n",
       "      <td>40</td>\n",
       "      <td>euclidean</td>\n",
       "      <td>20</td>\n",
       "      <td>0.379913</td>\n",
       "      <td>0.530490</td>\n",
       "      <td>0.583766</td>\n",
       "      <td>469</td>\n",
       "    </tr>\n",
       "    <tr>\n",
       "      <th>4</th>\n",
       "      <td>4</td>\n",
       "      <td>5</td>\n",
       "      <td>8</td>\n",
       "      <td>40</td>\n",
       "      <td>40</td>\n",
       "      <td>euclidean</td>\n",
       "      <td>30</td>\n",
       "      <td>0.379913</td>\n",
       "      <td>0.471500</td>\n",
       "      <td>0.583766</td>\n",
       "      <td>469</td>\n",
       "    </tr>\n",
       "  </tbody>\n",
       "</table>\n",
       "</div>"
      ],
      "text/plain": [
       "   Unnamed: 0  n_neighbors  n_components  min_cluster_size  min_samples  \\\n",
       "0           0            5             8                20            4   \n",
       "1           1            5             8                40           40   \n",
       "2           2            5             8                40           40   \n",
       "3           3            5             8                40           40   \n",
       "4           4            5             8                40           40   \n",
       "\n",
       "      metric  top_n_words  coherence  diversity   outlier  number_topics  \n",
       "0  euclidean           30   0.379396   0.409132  0.540639           3139  \n",
       "1  euclidean            5   0.456839   0.733902  0.583766            469  \n",
       "2  euclidean           10   0.376127   0.636034  0.583766            469  \n",
       "3  euclidean           20   0.379913   0.530490  0.583766            469  \n",
       "4  euclidean           30   0.379913   0.471500  0.583766            469  "
      ]
     },
     "execution_count": 3,
     "metadata": {},
     "output_type": "execute_result"
    }
   ],
   "source": [
    "df.head()"
   ]
  },
  {
   "cell_type": "code",
   "execution_count": 4,
   "metadata": {},
   "outputs": [
    {
     "name": "stderr",
     "output_type": "stream",
     "text": [
      "/tmp/ipykernel_48090/2304927155.py:2: SettingWithCopyWarning: \n",
      "A value is trying to be set on a copy of a slice from a DataFrame\n",
      "\n",
      "See the caveats in the documentation: https://pandas.pydata.org/pandas-docs/stable/user_guide/indexing.html#returning-a-view-versus-a-copy\n",
      "  viz_df.fillna(0,inplace=True)\n"
     ]
    }
   ],
   "source": [
    "viz_df = df[['n_neighbors','n_components','min_cluster_size','min_samples','top_n_words','number_topics','coherence','outlier']]\n",
    "viz_df.fillna(0,inplace=True)"
   ]
  },
  {
   "attachments": {},
   "cell_type": "markdown",
   "metadata": {},
   "source": [
    "#### Use plotly \n",
    "- https://www.analyticsvidhya.com/blog/2021/11/visualize-data-using-parallel-coordinates-plot/\n"
   ]
  },
  {
   "cell_type": "code",
   "execution_count": 5,
   "metadata": {},
   "outputs": [
    {
     "name": "stderr",
     "output_type": "stream",
     "text": [
      "/home/chuang/.conda/envs/sbert/lib/python3.8/site-packages/plotly/express/_core.py:279: FutureWarning: iteritems is deprecated and will be removed in a future version. Use .items instead.\n",
      "  dims = [\n"
     ]
    },
    {
     "data": {
      "application/vnd.plotly.v1+json": {
       "config": {
        "plotlyServerURL": "https://plot.ly"
       },
       "data": [
        {
         "dimensions": [
          {
           "label": "n_components",
           "values": [
            8,
            8,
            3,
            3,
            3,
            3,
            3,
            5,
            5,
            5,
            5,
            5,
            5,
            5,
            5,
            5,
            8,
            8,
            8,
            8,
            8,
            8,
            3,
            3,
            3,
            3,
            5,
            5,
            5,
            5,
            5,
            5,
            8,
            8,
            8,
            8,
            8,
            8,
            8,
            3
           ]
          },
          {
           "label": "min_cluster_size",
           "values": [
            40,
            40,
            20,
            20,
            20,
            40,
            40,
            20,
            20,
            20,
            20,
            20,
            40,
            40,
            40,
            40,
            20,
            20,
            20,
            40,
            40,
            40,
            20,
            20,
            20,
            40,
            20,
            20,
            20,
            20,
            20,
            40,
            20,
            20,
            20,
            40,
            40,
            40,
            40,
            20
           ]
          },
          {
           "label": "min_samples",
           "values": [
            40,
            24,
            16,
            8,
            4,
            40,
            32,
            20,
            16,
            12,
            8,
            4,
            40,
            32,
            24,
            16,
            16,
            8,
            4,
            40,
            32,
            24,
            16,
            12,
            4,
            40,
            20,
            16,
            12,
            8,
            4,
            40,
            20,
            16,
            12,
            40,
            32,
            24,
            16,
            4
           ]
          },
          {
           "label": "coherence",
           "values": [
            0.4568389043766128,
            0.4586342188920966,
            0.4739659107102742,
            0.4634955339053385,
            0.47001592676825,
            0.4517706404124322,
            0.4575477711063941,
            0.4608976592666791,
            0.4641665517121918,
            0.4634588690068942,
            0.4578844215072497,
            0.4646859952172388,
            0.4580405474217576,
            0.457381035779582,
            0.4542882322955384,
            0.455063257708261,
            0.4543622209820604,
            0.4506130695044386,
            0.4657123579793729,
            0.470601641968692,
            0.468631576100524,
            0.4520690876733814,
            0.4594272011928565,
            0.4513422487089217,
            0.4573901856893042,
            0.4528157150699365,
            0.4513381914376431,
            0.4608351270742123,
            0.4515270496986703,
            0.4553660995197592,
            0.4510720233708361,
            0.4554607425292252,
            0.4510980724873064,
            0.4572739654160294,
            0.4565007018948319,
            0.4657354082031272,
            0.4645620012368682,
            0.4612268436076784,
            0.457554835980979,
            0.4510709937611724
           ]
          },
          {
           "label": "number_topics",
           "values": [
            469,
            578,
            1416,
            1969,
            2919,
            454,
            522,
            1128,
            1346,
            1519,
            1684,
            2185,
            417,
            436,
            509,
            556,
            1223,
            1606,
            2148,
            383,
            370,
            418,
            1259,
            1470,
            2660,
            415,
            960,
            1109,
            1184,
            1451,
            1842,
            402,
            902,
            1068,
            1223,
            377,
            394,
            440,
            488,
            2541
           ]
          },
          {
           "label": "outlier",
           "values": [
            0.58376630365652,
            0.5848360909710603,
            0.5068003248500504,
            0.5292397660818714,
            0.538585728123991,
            0.4524662185301513,
            0.5290457040537764,
            0.6013101633056428,
            0.6104196632126887,
            0.6044070018884355,
            0.5961291963875109,
            0.5747628040169209,
            0.567187861827836,
            0.5911406607241286,
            0.5862124636745237,
            0.5978023698398255,
            0.5956040873703128,
            0.6052729425348089,
            0.5722546746117944,
            0.5660430589394102,
            0.568329403169571,
            0.5784662902841785,
            0.5584355012834187,
            0.5826133469013676,
            0.5552147239263804,
            0.5127868938007782,
            0.5884939155846486,
            0.5965254743104275,
            0.597096244981295,
            0.6115008659406463,
            0.5766104702171864,
            0.5421946295372191,
            0.5971647374617991,
            0.5955779949967874,
            0.6106903715880144,
            0.524479538686836,
            0.5583784242163319,
            0.5956937799043063,
            0.6039226622048708,
            0.5554283552346193
           ]
          },
          {
           "label": "top_n_words",
           "values": [
            5,
            5,
            5,
            5,
            5,
            5,
            5,
            5,
            5,
            5,
            5,
            5,
            5,
            5,
            5,
            5,
            5,
            5,
            5,
            5,
            5,
            5,
            5,
            5,
            5,
            5,
            5,
            5,
            5,
            5,
            5,
            5,
            5,
            5,
            5,
            5,
            5,
            5,
            5,
            5
           ]
          }
         ],
         "domain": {
          "x": [
           0,
           1
          ],
          "y": [
           0,
           1
          ]
         },
         "line": {
          "color": [
           0.4568389043766128,
           0.4586342188920966,
           0.4739659107102742,
           0.4634955339053385,
           0.47001592676825,
           0.4517706404124322,
           0.4575477711063941,
           0.4608976592666791,
           0.4641665517121918,
           0.4634588690068942,
           0.4578844215072497,
           0.4646859952172388,
           0.4580405474217576,
           0.457381035779582,
           0.4542882322955384,
           0.455063257708261,
           0.4543622209820604,
           0.4506130695044386,
           0.4657123579793729,
           0.470601641968692,
           0.468631576100524,
           0.4520690876733814,
           0.4594272011928565,
           0.4513422487089217,
           0.4573901856893042,
           0.4528157150699365,
           0.4513381914376431,
           0.4608351270742123,
           0.4515270496986703,
           0.4553660995197592,
           0.4510720233708361,
           0.4554607425292252,
           0.4510980724873064,
           0.4572739654160294,
           0.4565007018948319,
           0.4657354082031272,
           0.4645620012368682,
           0.4612268436076784,
           0.457554835980979,
           0.4510709937611724
          ],
          "coloraxis": "coloraxis"
         },
         "name": "",
         "type": "parcoords"
        }
       ],
       "layout": {
        "coloraxis": {
         "cmid": 0.7,
         "colorbar": {
          "title": {
           "text": "coherence"
          }
         },
         "colorscale": [
          [
           0,
           "rgb(165,0,38)"
          ],
          [
           0.1,
           "rgb(215,48,39)"
          ],
          [
           0.2,
           "rgb(244,109,67)"
          ],
          [
           0.3,
           "rgb(253,174,97)"
          ],
          [
           0.4,
           "rgb(254,224,144)"
          ],
          [
           0.5,
           "rgb(255,255,191)"
          ],
          [
           0.6,
           "rgb(224,243,248)"
          ],
          [
           0.7,
           "rgb(171,217,233)"
          ],
          [
           0.8,
           "rgb(116,173,209)"
          ],
          [
           0.9,
           "rgb(69,117,180)"
          ],
          [
           1,
           "rgb(49,54,149)"
          ]
         ]
        },
        "legend": {
         "tracegroupgap": 0
        },
        "margin": {
         "t": 60
        },
        "template": {
         "data": {
          "bar": [
           {
            "error_x": {
             "color": "#2a3f5f"
            },
            "error_y": {
             "color": "#2a3f5f"
            },
            "marker": {
             "line": {
              "color": "#E5ECF6",
              "width": 0.5
             },
             "pattern": {
              "fillmode": "overlay",
              "size": 10,
              "solidity": 0.2
             }
            },
            "type": "bar"
           }
          ],
          "barpolar": [
           {
            "marker": {
             "line": {
              "color": "#E5ECF6",
              "width": 0.5
             },
             "pattern": {
              "fillmode": "overlay",
              "size": 10,
              "solidity": 0.2
             }
            },
            "type": "barpolar"
           }
          ],
          "carpet": [
           {
            "aaxis": {
             "endlinecolor": "#2a3f5f",
             "gridcolor": "white",
             "linecolor": "white",
             "minorgridcolor": "white",
             "startlinecolor": "#2a3f5f"
            },
            "baxis": {
             "endlinecolor": "#2a3f5f",
             "gridcolor": "white",
             "linecolor": "white",
             "minorgridcolor": "white",
             "startlinecolor": "#2a3f5f"
            },
            "type": "carpet"
           }
          ],
          "choropleth": [
           {
            "colorbar": {
             "outlinewidth": 0,
             "ticks": ""
            },
            "type": "choropleth"
           }
          ],
          "contour": [
           {
            "colorbar": {
             "outlinewidth": 0,
             "ticks": ""
            },
            "colorscale": [
             [
              0,
              "#0d0887"
             ],
             [
              0.1111111111111111,
              "#46039f"
             ],
             [
              0.2222222222222222,
              "#7201a8"
             ],
             [
              0.3333333333333333,
              "#9c179e"
             ],
             [
              0.4444444444444444,
              "#bd3786"
             ],
             [
              0.5555555555555556,
              "#d8576b"
             ],
             [
              0.6666666666666666,
              "#ed7953"
             ],
             [
              0.7777777777777778,
              "#fb9f3a"
             ],
             [
              0.8888888888888888,
              "#fdca26"
             ],
             [
              1,
              "#f0f921"
             ]
            ],
            "type": "contour"
           }
          ],
          "contourcarpet": [
           {
            "colorbar": {
             "outlinewidth": 0,
             "ticks": ""
            },
            "type": "contourcarpet"
           }
          ],
          "heatmap": [
           {
            "colorbar": {
             "outlinewidth": 0,
             "ticks": ""
            },
            "colorscale": [
             [
              0,
              "#0d0887"
             ],
             [
              0.1111111111111111,
              "#46039f"
             ],
             [
              0.2222222222222222,
              "#7201a8"
             ],
             [
              0.3333333333333333,
              "#9c179e"
             ],
             [
              0.4444444444444444,
              "#bd3786"
             ],
             [
              0.5555555555555556,
              "#d8576b"
             ],
             [
              0.6666666666666666,
              "#ed7953"
             ],
             [
              0.7777777777777778,
              "#fb9f3a"
             ],
             [
              0.8888888888888888,
              "#fdca26"
             ],
             [
              1,
              "#f0f921"
             ]
            ],
            "type": "heatmap"
           }
          ],
          "heatmapgl": [
           {
            "colorbar": {
             "outlinewidth": 0,
             "ticks": ""
            },
            "colorscale": [
             [
              0,
              "#0d0887"
             ],
             [
              0.1111111111111111,
              "#46039f"
             ],
             [
              0.2222222222222222,
              "#7201a8"
             ],
             [
              0.3333333333333333,
              "#9c179e"
             ],
             [
              0.4444444444444444,
              "#bd3786"
             ],
             [
              0.5555555555555556,
              "#d8576b"
             ],
             [
              0.6666666666666666,
              "#ed7953"
             ],
             [
              0.7777777777777778,
              "#fb9f3a"
             ],
             [
              0.8888888888888888,
              "#fdca26"
             ],
             [
              1,
              "#f0f921"
             ]
            ],
            "type": "heatmapgl"
           }
          ],
          "histogram": [
           {
            "marker": {
             "pattern": {
              "fillmode": "overlay",
              "size": 10,
              "solidity": 0.2
             }
            },
            "type": "histogram"
           }
          ],
          "histogram2d": [
           {
            "colorbar": {
             "outlinewidth": 0,
             "ticks": ""
            },
            "colorscale": [
             [
              0,
              "#0d0887"
             ],
             [
              0.1111111111111111,
              "#46039f"
             ],
             [
              0.2222222222222222,
              "#7201a8"
             ],
             [
              0.3333333333333333,
              "#9c179e"
             ],
             [
              0.4444444444444444,
              "#bd3786"
             ],
             [
              0.5555555555555556,
              "#d8576b"
             ],
             [
              0.6666666666666666,
              "#ed7953"
             ],
             [
              0.7777777777777778,
              "#fb9f3a"
             ],
             [
              0.8888888888888888,
              "#fdca26"
             ],
             [
              1,
              "#f0f921"
             ]
            ],
            "type": "histogram2d"
           }
          ],
          "histogram2dcontour": [
           {
            "colorbar": {
             "outlinewidth": 0,
             "ticks": ""
            },
            "colorscale": [
             [
              0,
              "#0d0887"
             ],
             [
              0.1111111111111111,
              "#46039f"
             ],
             [
              0.2222222222222222,
              "#7201a8"
             ],
             [
              0.3333333333333333,
              "#9c179e"
             ],
             [
              0.4444444444444444,
              "#bd3786"
             ],
             [
              0.5555555555555556,
              "#d8576b"
             ],
             [
              0.6666666666666666,
              "#ed7953"
             ],
             [
              0.7777777777777778,
              "#fb9f3a"
             ],
             [
              0.8888888888888888,
              "#fdca26"
             ],
             [
              1,
              "#f0f921"
             ]
            ],
            "type": "histogram2dcontour"
           }
          ],
          "mesh3d": [
           {
            "colorbar": {
             "outlinewidth": 0,
             "ticks": ""
            },
            "type": "mesh3d"
           }
          ],
          "parcoords": [
           {
            "line": {
             "colorbar": {
              "outlinewidth": 0,
              "ticks": ""
             }
            },
            "type": "parcoords"
           }
          ],
          "pie": [
           {
            "automargin": true,
            "type": "pie"
           }
          ],
          "scatter": [
           {
            "fillpattern": {
             "fillmode": "overlay",
             "size": 10,
             "solidity": 0.2
            },
            "type": "scatter"
           }
          ],
          "scatter3d": [
           {
            "line": {
             "colorbar": {
              "outlinewidth": 0,
              "ticks": ""
             }
            },
            "marker": {
             "colorbar": {
              "outlinewidth": 0,
              "ticks": ""
             }
            },
            "type": "scatter3d"
           }
          ],
          "scattercarpet": [
           {
            "marker": {
             "colorbar": {
              "outlinewidth": 0,
              "ticks": ""
             }
            },
            "type": "scattercarpet"
           }
          ],
          "scattergeo": [
           {
            "marker": {
             "colorbar": {
              "outlinewidth": 0,
              "ticks": ""
             }
            },
            "type": "scattergeo"
           }
          ],
          "scattergl": [
           {
            "marker": {
             "colorbar": {
              "outlinewidth": 0,
              "ticks": ""
             }
            },
            "type": "scattergl"
           }
          ],
          "scattermapbox": [
           {
            "marker": {
             "colorbar": {
              "outlinewidth": 0,
              "ticks": ""
             }
            },
            "type": "scattermapbox"
           }
          ],
          "scatterpolar": [
           {
            "marker": {
             "colorbar": {
              "outlinewidth": 0,
              "ticks": ""
             }
            },
            "type": "scatterpolar"
           }
          ],
          "scatterpolargl": [
           {
            "marker": {
             "colorbar": {
              "outlinewidth": 0,
              "ticks": ""
             }
            },
            "type": "scatterpolargl"
           }
          ],
          "scatterternary": [
           {
            "marker": {
             "colorbar": {
              "outlinewidth": 0,
              "ticks": ""
             }
            },
            "type": "scatterternary"
           }
          ],
          "surface": [
           {
            "colorbar": {
             "outlinewidth": 0,
             "ticks": ""
            },
            "colorscale": [
             [
              0,
              "#0d0887"
             ],
             [
              0.1111111111111111,
              "#46039f"
             ],
             [
              0.2222222222222222,
              "#7201a8"
             ],
             [
              0.3333333333333333,
              "#9c179e"
             ],
             [
              0.4444444444444444,
              "#bd3786"
             ],
             [
              0.5555555555555556,
              "#d8576b"
             ],
             [
              0.6666666666666666,
              "#ed7953"
             ],
             [
              0.7777777777777778,
              "#fb9f3a"
             ],
             [
              0.8888888888888888,
              "#fdca26"
             ],
             [
              1,
              "#f0f921"
             ]
            ],
            "type": "surface"
           }
          ],
          "table": [
           {
            "cells": {
             "fill": {
              "color": "#EBF0F8"
             },
             "line": {
              "color": "white"
             }
            },
            "header": {
             "fill": {
              "color": "#C8D4E3"
             },
             "line": {
              "color": "white"
             }
            },
            "type": "table"
           }
          ]
         },
         "layout": {
          "annotationdefaults": {
           "arrowcolor": "#2a3f5f",
           "arrowhead": 0,
           "arrowwidth": 1
          },
          "autotypenumbers": "strict",
          "coloraxis": {
           "colorbar": {
            "outlinewidth": 0,
            "ticks": ""
           }
          },
          "colorscale": {
           "diverging": [
            [
             0,
             "#8e0152"
            ],
            [
             0.1,
             "#c51b7d"
            ],
            [
             0.2,
             "#de77ae"
            ],
            [
             0.3,
             "#f1b6da"
            ],
            [
             0.4,
             "#fde0ef"
            ],
            [
             0.5,
             "#f7f7f7"
            ],
            [
             0.6,
             "#e6f5d0"
            ],
            [
             0.7,
             "#b8e186"
            ],
            [
             0.8,
             "#7fbc41"
            ],
            [
             0.9,
             "#4d9221"
            ],
            [
             1,
             "#276419"
            ]
           ],
           "sequential": [
            [
             0,
             "#0d0887"
            ],
            [
             0.1111111111111111,
             "#46039f"
            ],
            [
             0.2222222222222222,
             "#7201a8"
            ],
            [
             0.3333333333333333,
             "#9c179e"
            ],
            [
             0.4444444444444444,
             "#bd3786"
            ],
            [
             0.5555555555555556,
             "#d8576b"
            ],
            [
             0.6666666666666666,
             "#ed7953"
            ],
            [
             0.7777777777777778,
             "#fb9f3a"
            ],
            [
             0.8888888888888888,
             "#fdca26"
            ],
            [
             1,
             "#f0f921"
            ]
           ],
           "sequentialminus": [
            [
             0,
             "#0d0887"
            ],
            [
             0.1111111111111111,
             "#46039f"
            ],
            [
             0.2222222222222222,
             "#7201a8"
            ],
            [
             0.3333333333333333,
             "#9c179e"
            ],
            [
             0.4444444444444444,
             "#bd3786"
            ],
            [
             0.5555555555555556,
             "#d8576b"
            ],
            [
             0.6666666666666666,
             "#ed7953"
            ],
            [
             0.7777777777777778,
             "#fb9f3a"
            ],
            [
             0.8888888888888888,
             "#fdca26"
            ],
            [
             1,
             "#f0f921"
            ]
           ]
          },
          "colorway": [
           "#636efa",
           "#EF553B",
           "#00cc96",
           "#ab63fa",
           "#FFA15A",
           "#19d3f3",
           "#FF6692",
           "#B6E880",
           "#FF97FF",
           "#FECB52"
          ],
          "font": {
           "color": "#2a3f5f"
          },
          "geo": {
           "bgcolor": "white",
           "lakecolor": "white",
           "landcolor": "#E5ECF6",
           "showlakes": true,
           "showland": true,
           "subunitcolor": "white"
          },
          "hoverlabel": {
           "align": "left"
          },
          "hovermode": "closest",
          "mapbox": {
           "style": "light"
          },
          "paper_bgcolor": "white",
          "plot_bgcolor": "#E5ECF6",
          "polar": {
           "angularaxis": {
            "gridcolor": "white",
            "linecolor": "white",
            "ticks": ""
           },
           "bgcolor": "#E5ECF6",
           "radialaxis": {
            "gridcolor": "white",
            "linecolor": "white",
            "ticks": ""
           }
          },
          "scene": {
           "xaxis": {
            "backgroundcolor": "#E5ECF6",
            "gridcolor": "white",
            "gridwidth": 2,
            "linecolor": "white",
            "showbackground": true,
            "ticks": "",
            "zerolinecolor": "white"
           },
           "yaxis": {
            "backgroundcolor": "#E5ECF6",
            "gridcolor": "white",
            "gridwidth": 2,
            "linecolor": "white",
            "showbackground": true,
            "ticks": "",
            "zerolinecolor": "white"
           },
           "zaxis": {
            "backgroundcolor": "#E5ECF6",
            "gridcolor": "white",
            "gridwidth": 2,
            "linecolor": "white",
            "showbackground": true,
            "ticks": "",
            "zerolinecolor": "white"
           }
          },
          "shapedefaults": {
           "line": {
            "color": "#2a3f5f"
           }
          },
          "ternary": {
           "aaxis": {
            "gridcolor": "white",
            "linecolor": "white",
            "ticks": ""
           },
           "baxis": {
            "gridcolor": "white",
            "linecolor": "white",
            "ticks": ""
           },
           "bgcolor": "#E5ECF6",
           "caxis": {
            "gridcolor": "white",
            "linecolor": "white",
            "ticks": ""
           }
          },
          "title": {
           "x": 0.05
          },
          "xaxis": {
           "automargin": true,
           "gridcolor": "white",
           "linecolor": "white",
           "ticks": "",
           "title": {
            "standoff": 15
           },
           "zerolinecolor": "white",
           "zerolinewidth": 2
          },
          "yaxis": {
           "automargin": true,
           "gridcolor": "white",
           "linecolor": "white",
           "ticks": "",
           "title": {
            "standoff": 15
           },
           "zerolinecolor": "white",
           "zerolinewidth": 2
          }
         }
        }
       }
      }
     },
     "metadata": {},
     "output_type": "display_data"
    }
   ],
   "source": [
    "dims = [\"n_components\",\"min_cluster_size\",\"min_samples\",\"coherence\",\"number_topics\",\"outlier\",\"outlier\",\"top_n_words\"]\n",
    "df_filter = (df['coherence']>0.45) #& (df['outlier']<0.4) & (df['number_topics']>40)\n",
    "chart_df = viz_df[df_filter]\n",
    "# Create the chart:\n",
    "fig = px.parallel_coordinates(\n",
    "    chart_df, \n",
    "    color=\"coherence\", \n",
    "    dimensions=dims,\n",
    "    #labels={\"species_id\": \"Species\",\"sepal_width\": \"Sepal Width\", \"sepal_length\": \"Sepal Length\", \"petal_width\": \"Petal Width\", \"petal_length\": \"Petal Length\", },\n",
    "    color_continuous_scale=px.colors.diverging.RdYlBu, # color reference https://plotly.com/python/builtin-colorscales/#builtin-diverging-color-scales\n",
    "    color_continuous_midpoint=0.7)\n",
    "fig.update_layout() #coloraxis_showscale=False # if you want to hide score scale \n",
    "# Show the plot\n",
    "fig.show()"
   ]
  },
  {
   "cell_type": "code",
   "execution_count": 42,
   "metadata": {},
   "outputs": [
    {
     "data": {
      "text/html": [
       "<div>\n",
       "<style scoped>\n",
       "    .dataframe tbody tr th:only-of-type {\n",
       "        vertical-align: middle;\n",
       "    }\n",
       "\n",
       "    .dataframe tbody tr th {\n",
       "        vertical-align: top;\n",
       "    }\n",
       "\n",
       "    .dataframe thead th {\n",
       "        text-align: right;\n",
       "    }\n",
       "</style>\n",
       "<table border=\"1\" class=\"dataframe\">\n",
       "  <thead>\n",
       "    <tr style=\"text-align: right;\">\n",
       "      <th></th>\n",
       "      <th>n_neighbors</th>\n",
       "      <th>n_components</th>\n",
       "      <th>min_cluster_size</th>\n",
       "      <th>min_samples</th>\n",
       "      <th>top_n_words</th>\n",
       "      <th>number_topics</th>\n",
       "      <th>coherence</th>\n",
       "      <th>outlier</th>\n",
       "    </tr>\n",
       "  </thead>\n",
       "  <tbody>\n",
       "    <tr>\n",
       "      <th>220</th>\n",
       "      <td>10</td>\n",
       "      <td>8</td>\n",
       "      <td>40</td>\n",
       "      <td>40</td>\n",
       "      <td>5</td>\n",
       "      <td>383.0</td>\n",
       "      <td>0.470602</td>\n",
       "      <td>0.566043</td>\n",
       "    </tr>\n",
       "    <tr>\n",
       "      <th>224</th>\n",
       "      <td>10</td>\n",
       "      <td>8</td>\n",
       "      <td>40</td>\n",
       "      <td>32</td>\n",
       "      <td>5</td>\n",
       "      <td>370.0</td>\n",
       "      <td>0.468632</td>\n",
       "      <td>0.568329</td>\n",
       "    </tr>\n",
       "  </tbody>\n",
       "</table>\n",
       "</div>"
      ],
      "text/plain": [
       "     n_neighbors  n_components  min_cluster_size  min_samples  top_n_words  \\\n",
       "220           10             8                40           40            5   \n",
       "224           10             8                40           32            5   \n",
       "\n",
       "     number_topics  coherence   outlier  \n",
       "220          383.0   0.470602  0.566043  \n",
       "224          370.0   0.468632  0.568329  "
      ]
     },
     "execution_count": 42,
     "metadata": {},
     "output_type": "execute_result"
    }
   ],
   "source": [
    "df_filter = (df['coherence']>0.46) & (df['number_topics']<1000) #(df['n_components']==3) & (df['min_cluster_size']==20) #& (df['min_samples']==10)\n",
    "param_df = viz_df[df_filter]\n",
    "param_df.head()"
   ]
  },
  {
   "cell_type": "code",
   "execution_count": 13,
   "metadata": {},
   "outputs": [],
   "source": [
    "param_df.to_csv('/data/chuang/Language_Model_Training_Data/Models/Topic_Models/step_10000/train_param_v2.csv')"
   ]
  },
  {
   "cell_type": "code",
   "execution_count": 15,
   "metadata": {},
   "outputs": [],
   "source": [
    "fig.write_html(\"/data/chuang/Language_Model_Training_Data/Data/Raw_LM_Data/temp_topic_model/parallel-coordinate-plot-plotly.html\")"
   ]
  },
  {
   "cell_type": "code",
   "execution_count": null,
   "metadata": {},
   "outputs": [],
   "source": [
    "#### To use wandb see : https://analyticsindiamag.com/hands-on-guide-to-weights-and-biases-wandb-with-python-implementation/"
   ]
  },
  {
   "cell_type": "code",
   "execution_count": null,
   "metadata": {},
   "outputs": [],
   "source": []
  }
 ],
 "metadata": {
  "kernelspec": {
   "display_name": "sbert",
   "language": "python",
   "name": "python3"
  },
  "language_info": {
   "codemirror_mode": {
    "name": "ipython",
    "version": 3
   },
   "file_extension": ".py",
   "mimetype": "text/x-python",
   "name": "python",
   "nbconvert_exporter": "python",
   "pygments_lexer": "ipython3",
   "version": "3.8.13"
  },
  "orig_nbformat": 4,
  "vscode": {
   "interpreter": {
    "hash": "44cb1e07817c37f4eeaa27cde36437eb6d39fa76886fb902edddf9788ba50049"
   }
  }
 },
 "nbformat": 4,
 "nbformat_minor": 2
}
