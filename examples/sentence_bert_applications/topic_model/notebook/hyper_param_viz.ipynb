{
 "cells": [
  {
   "attachments": {},
   "cell_type": "markdown",
   "metadata": {},
   "source": [
    "### Visualize Hyper Params "
   ]
  },
  {
   "cell_type": "code",
   "execution_count": 1,
   "metadata": {},
   "outputs": [],
   "source": [
    "import pandas as pd\n",
    "import plotly.express as px"
   ]
  },
  {
   "attachments": {},
   "cell_type": "markdown",
   "metadata": {},
   "source": [
    "- #### simeple version with pandas "
   ]
  },
  {
   "cell_type": "code",
   "execution_count": 2,
   "metadata": {},
   "outputs": [],
   "source": [
    "#tune_res_f_p = '/data/chuang/Language_Model_Training_Data/Data/Raw_LM_Data/temp_topic_model/temp_results/hp_tune_results_p2.csv'\n",
    "tune_res_f_p = '/data/chuang/Language_Model_Training_Data/Models/Topic_Models/step_10000/hp_tune_results.csv'\n",
    "df = pd.read_csv(tune_res_f_p)"
   ]
  },
  {
   "cell_type": "code",
   "execution_count": 3,
   "metadata": {},
   "outputs": [
    {
     "data": {
      "text/html": [
       "<div>\n",
       "<style scoped>\n",
       "    .dataframe tbody tr th:only-of-type {\n",
       "        vertical-align: middle;\n",
       "    }\n",
       "\n",
       "    .dataframe tbody tr th {\n",
       "        vertical-align: top;\n",
       "    }\n",
       "\n",
       "    .dataframe thead th {\n",
       "        text-align: right;\n",
       "    }\n",
       "</style>\n",
       "<table border=\"1\" class=\"dataframe\">\n",
       "  <thead>\n",
       "    <tr style=\"text-align: right;\">\n",
       "      <th></th>\n",
       "      <th>Unnamed: 0</th>\n",
       "      <th>n_neighbors</th>\n",
       "      <th>n_components</th>\n",
       "      <th>min_cluster_size</th>\n",
       "      <th>min_samples</th>\n",
       "      <th>metric</th>\n",
       "      <th>top_n_words</th>\n",
       "      <th>coherence</th>\n",
       "      <th>diversity</th>\n",
       "      <th>outlier</th>\n",
       "      <th>number_topics</th>\n",
       "    </tr>\n",
       "  </thead>\n",
       "  <tbody>\n",
       "    <tr>\n",
       "      <th>0</th>\n",
       "      <td>0</td>\n",
       "      <td>5</td>\n",
       "      <td>3</td>\n",
       "      <td>20</td>\n",
       "      <td>20</td>\n",
       "      <td>euclidean</td>\n",
       "      <td>5</td>\n",
       "      <td>0.501545</td>\n",
       "      <td>0.756341</td>\n",
       "      <td>0.532348</td>\n",
       "      <td>1782</td>\n",
       "    </tr>\n",
       "    <tr>\n",
       "      <th>1</th>\n",
       "      <td>1</td>\n",
       "      <td>5</td>\n",
       "      <td>3</td>\n",
       "      <td>20</td>\n",
       "      <td>20</td>\n",
       "      <td>euclidean</td>\n",
       "      <td>10</td>\n",
       "      <td>0.427904</td>\n",
       "      <td>0.668294</td>\n",
       "      <td>0.532348</td>\n",
       "      <td>1782</td>\n",
       "    </tr>\n",
       "    <tr>\n",
       "      <th>2</th>\n",
       "      <td>2</td>\n",
       "      <td>5</td>\n",
       "      <td>3</td>\n",
       "      <td>20</td>\n",
       "      <td>20</td>\n",
       "      <td>euclidean</td>\n",
       "      <td>20</td>\n",
       "      <td>0.397847</td>\n",
       "      <td>0.564618</td>\n",
       "      <td>0.532348</td>\n",
       "      <td>1782</td>\n",
       "    </tr>\n",
       "    <tr>\n",
       "      <th>3</th>\n",
       "      <td>3</td>\n",
       "      <td>5</td>\n",
       "      <td>3</td>\n",
       "      <td>20</td>\n",
       "      <td>20</td>\n",
       "      <td>euclidean</td>\n",
       "      <td>30</td>\n",
       "      <td>0.397847</td>\n",
       "      <td>0.502357</td>\n",
       "      <td>0.532348</td>\n",
       "      <td>1782</td>\n",
       "    </tr>\n",
       "    <tr>\n",
       "      <th>4</th>\n",
       "      <td>4</td>\n",
       "      <td>5</td>\n",
       "      <td>3</td>\n",
       "      <td>20</td>\n",
       "      <td>16</td>\n",
       "      <td>euclidean</td>\n",
       "      <td>5</td>\n",
       "      <td>0.513490</td>\n",
       "      <td>0.753185</td>\n",
       "      <td>0.535554</td>\n",
       "      <td>2119</td>\n",
       "    </tr>\n",
       "  </tbody>\n",
       "</table>\n",
       "</div>"
      ],
      "text/plain": [
       "   Unnamed: 0  n_neighbors  n_components  min_cluster_size  min_samples  \\\n",
       "0           0            5             3                20           20   \n",
       "1           1            5             3                20           20   \n",
       "2           2            5             3                20           20   \n",
       "3           3            5             3                20           20   \n",
       "4           4            5             3                20           16   \n",
       "\n",
       "      metric  top_n_words  coherence  diversity   outlier  number_topics  \n",
       "0  euclidean            5   0.501545   0.756341  0.532348           1782  \n",
       "1  euclidean           10   0.427904   0.668294  0.532348           1782  \n",
       "2  euclidean           20   0.397847   0.564618  0.532348           1782  \n",
       "3  euclidean           30   0.397847   0.502357  0.532348           1782  \n",
       "4  euclidean            5   0.513490   0.753185  0.535554           2119  "
      ]
     },
     "execution_count": 3,
     "metadata": {},
     "output_type": "execute_result"
    }
   ],
   "source": [
    "df.head()"
   ]
  },
  {
   "cell_type": "code",
   "execution_count": 4,
   "metadata": {},
   "outputs": [
    {
     "name": "stderr",
     "output_type": "stream",
     "text": [
      "/tmp/ipykernel_183608/2304927155.py:2: SettingWithCopyWarning: \n",
      "A value is trying to be set on a copy of a slice from a DataFrame\n",
      "\n",
      "See the caveats in the documentation: https://pandas.pydata.org/pandas-docs/stable/user_guide/indexing.html#returning-a-view-versus-a-copy\n",
      "  viz_df.fillna(0,inplace=True)\n"
     ]
    }
   ],
   "source": [
    "viz_df = df[['n_neighbors','n_components','min_cluster_size','min_samples','top_n_words','number_topics','coherence','outlier']]\n",
    "viz_df.fillna(0,inplace=True)"
   ]
  },
  {
   "attachments": {},
   "cell_type": "markdown",
   "metadata": {},
   "source": [
    "#### Use plotly \n",
    "- https://www.analyticsvidhya.com/blog/2021/11/visualize-data-using-parallel-coordinates-plot/\n"
   ]
  },
  {
   "cell_type": "code",
   "execution_count": 10,
   "metadata": {},
   "outputs": [
    {
     "name": "stderr",
     "output_type": "stream",
     "text": [
      "/home/chuang/.conda/envs/sbert/lib/python3.8/site-packages/plotly/express/_core.py:279: FutureWarning:\n",
      "\n",
      "iteritems is deprecated and will be removed in a future version. Use .items instead.\n",
      "\n"
     ]
    },
    {
     "data": {
      "application/vnd.plotly.v1+json": {
       "config": {
        "plotlyServerURL": "https://plot.ly"
       },
       "data": [
        {
         "dimensions": [
          {
           "label": "n_components",
           "values": [
            3,
            3,
            3,
            3,
            3,
            3,
            3,
            3,
            3,
            3,
            3,
            3,
            3,
            3,
            3,
            3,
            3,
            3,
            3,
            3,
            3,
            3,
            3,
            3,
            3,
            3,
            3,
            3,
            3,
            3,
            3,
            3,
            3,
            3,
            3,
            3,
            3,
            3,
            3,
            3,
            5,
            5,
            5,
            5,
            5,
            5,
            5,
            5,
            5,
            5
           ]
          },
          {
           "label": "min_cluster_size",
           "values": [
            20,
            20,
            20,
            20,
            20,
            20,
            20,
            20,
            20,
            20,
            20,
            20,
            20,
            20,
            20,
            20,
            20,
            20,
            20,
            20,
            40,
            40,
            40,
            40,
            40,
            40,
            40,
            40,
            40,
            40,
            40,
            40,
            40,
            40,
            40,
            40,
            40,
            40,
            40,
            40,
            20,
            20,
            20,
            20,
            20,
            20,
            20,
            20,
            20,
            20
           ]
          },
          {
           "label": "min_samples",
           "values": [
            20,
            20,
            20,
            20,
            16,
            16,
            16,
            16,
            12,
            12,
            12,
            12,
            8,
            8,
            8,
            8,
            4,
            4,
            4,
            4,
            40,
            40,
            40,
            40,
            32,
            32,
            32,
            32,
            24,
            24,
            24,
            24,
            16,
            16,
            16,
            16,
            8,
            8,
            8,
            8,
            20,
            20,
            20,
            20,
            16,
            16,
            16,
            16,
            12,
            12
           ]
          },
          {
           "label": "coherence",
           "values": [
            0.5015452480172593,
            0.4279038252458089,
            0.3978469672192584,
            0.3978469672192584,
            0.5134898925574253,
            0.4454786756783691,
            0.4127574215278139,
            0.4127574215278139,
            0.5168704552367166,
            0.4509822361264597,
            0.4131322789353366,
            0.4131322789353366,
            0.5120471725433885,
            0.448902442926737,
            0.4287694193001297,
            0.4287694193001297,
            0.5171639557525597,
            0.4555367764765446,
            0.4362511569504101,
            0.4362511569504101,
            0.4485185321849861,
            0.3763644186001456,
            0.3542957518485114,
            0.350924985377235,
            0.450323043189014,
            0.3753970375091252,
            0.3545255457395654,
            0.3533701505528012,
            0.4537834966220048,
            0.3661268194735069,
            0.3561038076409564,
            0.3544416599330728,
            0.4529535511318475,
            0.3761782111869201,
            0.361275524625379,
            0.3580732339533228,
            0.4519522496741642,
            0.3780763627359119,
            0.3610773466135333,
            0.3609738262678266,
            0.4860604390209961,
            0.4056103907815545,
            0.3765322951670591,
            0.3765322951670591,
            0.4922628550836527,
            0.4064308816498731,
            0.3749923420877086,
            0.3835017598648728,
            0.4931214569828457,
            0.421585886525913
           ]
          },
          {
           "label": "number_topics",
           "values": [
            1782,
            1782,
            1782,
            1782,
            2119,
            2119,
            2119,
            2119,
            2446,
            2446,
            2428,
            2428,
            2988,
            2988,
            2988,
            2988,
            3990,
            3857,
            3857,
            3857,
            642,
            629,
            629,
            642,
            705,
            719,
            705,
            719,
            807,
            793,
            793,
            807,
            943,
            958,
            943,
            958,
            1202,
            1202,
            1202,
            1210,
            1524,
            1550,
            1524,
            1524,
            1781,
            1834,
            1834,
            1807,
            2067,
            2067
           ]
          },
          {
           "label": "outlier",
           "values": [
            0.5323480200780815,
            0.5323480200780815,
            0.5323480200780815,
            0.5323480200780815,
            0.5355541204750116,
            0.5355541204750116,
            0.5355541204750116,
            0.5355541204750116,
            0.5382987120152118,
            0.5382987120152118,
            0.5460889162858811,
            0.5460889162858811,
            0.5306781081724575,
            0.5306781081724575,
            0.5306781081724575,
            0.5306781081724575,
            0.4830481110752341,
            0.4840037442556009,
            0.4840037442556009,
            0.4840037442556009,
            0.536390707201169,
            0.5322615890907786,
            0.5322615890907786,
            0.536390707201169,
            0.5572531906080501,
            0.5278682856984439,
            0.5572531906080501,
            0.5278682856984439,
            0.5308460778270271,
            0.5221214404294805,
            0.5221214404294805,
            0.5308460778270271,
            0.5187457396046353,
            0.5515193915258494,
            0.5187457396046353,
            0.5515193915258494,
            0.5074917727484728,
            0.5074917727484728,
            0.5074917727484728,
            0.5368750468847336,
            0.5709582098022524,
            0.5932508814329932,
            0.5709582098022524,
            0.5709582098022524,
            0.5650857949856981,
            0.5950610398463159,
            0.5950610398463159,
            0.5700890076091885,
            0.5688838661069853,
            0.5688838661069853
           ]
          },
          {
           "label": "top_n_words",
           "values": [
            5,
            10,
            20,
            30,
            5,
            10,
            20,
            30,
            5,
            10,
            20,
            30,
            5,
            10,
            20,
            30,
            5,
            10,
            20,
            30,
            5,
            10,
            20,
            30,
            5,
            10,
            20,
            30,
            5,
            10,
            20,
            30,
            5,
            10,
            20,
            30,
            5,
            10,
            20,
            30,
            5,
            10,
            20,
            30,
            5,
            10,
            20,
            30,
            5,
            10
           ]
          }
         ],
         "domain": {
          "x": [
           0,
           1
          ],
          "y": [
           0,
           1
          ]
         },
         "line": {
          "color": [
           0.5015452480172593,
           0.4279038252458089,
           0.3978469672192584,
           0.3978469672192584,
           0.5134898925574253,
           0.4454786756783691,
           0.4127574215278139,
           0.4127574215278139,
           0.5168704552367166,
           0.4509822361264597,
           0.4131322789353366,
           0.4131322789353366,
           0.5120471725433885,
           0.448902442926737,
           0.4287694193001297,
           0.4287694193001297,
           0.5171639557525597,
           0.4555367764765446,
           0.4362511569504101,
           0.4362511569504101,
           0.4485185321849861,
           0.3763644186001456,
           0.3542957518485114,
           0.350924985377235,
           0.450323043189014,
           0.3753970375091252,
           0.3545255457395654,
           0.3533701505528012,
           0.4537834966220048,
           0.3661268194735069,
           0.3561038076409564,
           0.3544416599330728,
           0.4529535511318475,
           0.3761782111869201,
           0.361275524625379,
           0.3580732339533228,
           0.4519522496741642,
           0.3780763627359119,
           0.3610773466135333,
           0.3609738262678266,
           0.4860604390209961,
           0.4056103907815545,
           0.3765322951670591,
           0.3765322951670591,
           0.4922628550836527,
           0.4064308816498731,
           0.3749923420877086,
           0.3835017598648728,
           0.4931214569828457,
           0.421585886525913
          ],
          "coloraxis": "coloraxis"
         },
         "name": "",
         "type": "parcoords"
        }
       ],
       "layout": {
        "coloraxis": {
         "cmid": 0.7,
         "colorbar": {
          "title": {
           "text": "coherence"
          }
         },
         "colorscale": [
          [
           0,
           "rgb(165,0,38)"
          ],
          [
           0.1,
           "rgb(215,48,39)"
          ],
          [
           0.2,
           "rgb(244,109,67)"
          ],
          [
           0.3,
           "rgb(253,174,97)"
          ],
          [
           0.4,
           "rgb(254,224,144)"
          ],
          [
           0.5,
           "rgb(255,255,191)"
          ],
          [
           0.6,
           "rgb(224,243,248)"
          ],
          [
           0.7,
           "rgb(171,217,233)"
          ],
          [
           0.8,
           "rgb(116,173,209)"
          ],
          [
           0.9,
           "rgb(69,117,180)"
          ],
          [
           1,
           "rgb(49,54,149)"
          ]
         ]
        },
        "legend": {
         "tracegroupgap": 0
        },
        "margin": {
         "t": 60
        },
        "template": {
         "data": {
          "bar": [
           {
            "error_x": {
             "color": "#2a3f5f"
            },
            "error_y": {
             "color": "#2a3f5f"
            },
            "marker": {
             "line": {
              "color": "#E5ECF6",
              "width": 0.5
             },
             "pattern": {
              "fillmode": "overlay",
              "size": 10,
              "solidity": 0.2
             }
            },
            "type": "bar"
           }
          ],
          "barpolar": [
           {
            "marker": {
             "line": {
              "color": "#E5ECF6",
              "width": 0.5
             },
             "pattern": {
              "fillmode": "overlay",
              "size": 10,
              "solidity": 0.2
             }
            },
            "type": "barpolar"
           }
          ],
          "carpet": [
           {
            "aaxis": {
             "endlinecolor": "#2a3f5f",
             "gridcolor": "white",
             "linecolor": "white",
             "minorgridcolor": "white",
             "startlinecolor": "#2a3f5f"
            },
            "baxis": {
             "endlinecolor": "#2a3f5f",
             "gridcolor": "white",
             "linecolor": "white",
             "minorgridcolor": "white",
             "startlinecolor": "#2a3f5f"
            },
            "type": "carpet"
           }
          ],
          "choropleth": [
           {
            "colorbar": {
             "outlinewidth": 0,
             "ticks": ""
            },
            "type": "choropleth"
           }
          ],
          "contour": [
           {
            "colorbar": {
             "outlinewidth": 0,
             "ticks": ""
            },
            "colorscale": [
             [
              0,
              "#0d0887"
             ],
             [
              0.1111111111111111,
              "#46039f"
             ],
             [
              0.2222222222222222,
              "#7201a8"
             ],
             [
              0.3333333333333333,
              "#9c179e"
             ],
             [
              0.4444444444444444,
              "#bd3786"
             ],
             [
              0.5555555555555556,
              "#d8576b"
             ],
             [
              0.6666666666666666,
              "#ed7953"
             ],
             [
              0.7777777777777778,
              "#fb9f3a"
             ],
             [
              0.8888888888888888,
              "#fdca26"
             ],
             [
              1,
              "#f0f921"
             ]
            ],
            "type": "contour"
           }
          ],
          "contourcarpet": [
           {
            "colorbar": {
             "outlinewidth": 0,
             "ticks": ""
            },
            "type": "contourcarpet"
           }
          ],
          "heatmap": [
           {
            "colorbar": {
             "outlinewidth": 0,
             "ticks": ""
            },
            "colorscale": [
             [
              0,
              "#0d0887"
             ],
             [
              0.1111111111111111,
              "#46039f"
             ],
             [
              0.2222222222222222,
              "#7201a8"
             ],
             [
              0.3333333333333333,
              "#9c179e"
             ],
             [
              0.4444444444444444,
              "#bd3786"
             ],
             [
              0.5555555555555556,
              "#d8576b"
             ],
             [
              0.6666666666666666,
              "#ed7953"
             ],
             [
              0.7777777777777778,
              "#fb9f3a"
             ],
             [
              0.8888888888888888,
              "#fdca26"
             ],
             [
              1,
              "#f0f921"
             ]
            ],
            "type": "heatmap"
           }
          ],
          "heatmapgl": [
           {
            "colorbar": {
             "outlinewidth": 0,
             "ticks": ""
            },
            "colorscale": [
             [
              0,
              "#0d0887"
             ],
             [
              0.1111111111111111,
              "#46039f"
             ],
             [
              0.2222222222222222,
              "#7201a8"
             ],
             [
              0.3333333333333333,
              "#9c179e"
             ],
             [
              0.4444444444444444,
              "#bd3786"
             ],
             [
              0.5555555555555556,
              "#d8576b"
             ],
             [
              0.6666666666666666,
              "#ed7953"
             ],
             [
              0.7777777777777778,
              "#fb9f3a"
             ],
             [
              0.8888888888888888,
              "#fdca26"
             ],
             [
              1,
              "#f0f921"
             ]
            ],
            "type": "heatmapgl"
           }
          ],
          "histogram": [
           {
            "marker": {
             "pattern": {
              "fillmode": "overlay",
              "size": 10,
              "solidity": 0.2
             }
            },
            "type": "histogram"
           }
          ],
          "histogram2d": [
           {
            "colorbar": {
             "outlinewidth": 0,
             "ticks": ""
            },
            "colorscale": [
             [
              0,
              "#0d0887"
             ],
             [
              0.1111111111111111,
              "#46039f"
             ],
             [
              0.2222222222222222,
              "#7201a8"
             ],
             [
              0.3333333333333333,
              "#9c179e"
             ],
             [
              0.4444444444444444,
              "#bd3786"
             ],
             [
              0.5555555555555556,
              "#d8576b"
             ],
             [
              0.6666666666666666,
              "#ed7953"
             ],
             [
              0.7777777777777778,
              "#fb9f3a"
             ],
             [
              0.8888888888888888,
              "#fdca26"
             ],
             [
              1,
              "#f0f921"
             ]
            ],
            "type": "histogram2d"
           }
          ],
          "histogram2dcontour": [
           {
            "colorbar": {
             "outlinewidth": 0,
             "ticks": ""
            },
            "colorscale": [
             [
              0,
              "#0d0887"
             ],
             [
              0.1111111111111111,
              "#46039f"
             ],
             [
              0.2222222222222222,
              "#7201a8"
             ],
             [
              0.3333333333333333,
              "#9c179e"
             ],
             [
              0.4444444444444444,
              "#bd3786"
             ],
             [
              0.5555555555555556,
              "#d8576b"
             ],
             [
              0.6666666666666666,
              "#ed7953"
             ],
             [
              0.7777777777777778,
              "#fb9f3a"
             ],
             [
              0.8888888888888888,
              "#fdca26"
             ],
             [
              1,
              "#f0f921"
             ]
            ],
            "type": "histogram2dcontour"
           }
          ],
          "mesh3d": [
           {
            "colorbar": {
             "outlinewidth": 0,
             "ticks": ""
            },
            "type": "mesh3d"
           }
          ],
          "parcoords": [
           {
            "line": {
             "colorbar": {
              "outlinewidth": 0,
              "ticks": ""
             }
            },
            "type": "parcoords"
           }
          ],
          "pie": [
           {
            "automargin": true,
            "type": "pie"
           }
          ],
          "scatter": [
           {
            "fillpattern": {
             "fillmode": "overlay",
             "size": 10,
             "solidity": 0.2
            },
            "type": "scatter"
           }
          ],
          "scatter3d": [
           {
            "line": {
             "colorbar": {
              "outlinewidth": 0,
              "ticks": ""
             }
            },
            "marker": {
             "colorbar": {
              "outlinewidth": 0,
              "ticks": ""
             }
            },
            "type": "scatter3d"
           }
          ],
          "scattercarpet": [
           {
            "marker": {
             "colorbar": {
              "outlinewidth": 0,
              "ticks": ""
             }
            },
            "type": "scattercarpet"
           }
          ],
          "scattergeo": [
           {
            "marker": {
             "colorbar": {
              "outlinewidth": 0,
              "ticks": ""
             }
            },
            "type": "scattergeo"
           }
          ],
          "scattergl": [
           {
            "marker": {
             "colorbar": {
              "outlinewidth": 0,
              "ticks": ""
             }
            },
            "type": "scattergl"
           }
          ],
          "scattermapbox": [
           {
            "marker": {
             "colorbar": {
              "outlinewidth": 0,
              "ticks": ""
             }
            },
            "type": "scattermapbox"
           }
          ],
          "scatterpolar": [
           {
            "marker": {
             "colorbar": {
              "outlinewidth": 0,
              "ticks": ""
             }
            },
            "type": "scatterpolar"
           }
          ],
          "scatterpolargl": [
           {
            "marker": {
             "colorbar": {
              "outlinewidth": 0,
              "ticks": ""
             }
            },
            "type": "scatterpolargl"
           }
          ],
          "scatterternary": [
           {
            "marker": {
             "colorbar": {
              "outlinewidth": 0,
              "ticks": ""
             }
            },
            "type": "scatterternary"
           }
          ],
          "surface": [
           {
            "colorbar": {
             "outlinewidth": 0,
             "ticks": ""
            },
            "colorscale": [
             [
              0,
              "#0d0887"
             ],
             [
              0.1111111111111111,
              "#46039f"
             ],
             [
              0.2222222222222222,
              "#7201a8"
             ],
             [
              0.3333333333333333,
              "#9c179e"
             ],
             [
              0.4444444444444444,
              "#bd3786"
             ],
             [
              0.5555555555555556,
              "#d8576b"
             ],
             [
              0.6666666666666666,
              "#ed7953"
             ],
             [
              0.7777777777777778,
              "#fb9f3a"
             ],
             [
              0.8888888888888888,
              "#fdca26"
             ],
             [
              1,
              "#f0f921"
             ]
            ],
            "type": "surface"
           }
          ],
          "table": [
           {
            "cells": {
             "fill": {
              "color": "#EBF0F8"
             },
             "line": {
              "color": "white"
             }
            },
            "header": {
             "fill": {
              "color": "#C8D4E3"
             },
             "line": {
              "color": "white"
             }
            },
            "type": "table"
           }
          ]
         },
         "layout": {
          "annotationdefaults": {
           "arrowcolor": "#2a3f5f",
           "arrowhead": 0,
           "arrowwidth": 1
          },
          "autotypenumbers": "strict",
          "coloraxis": {
           "colorbar": {
            "outlinewidth": 0,
            "ticks": ""
           }
          },
          "colorscale": {
           "diverging": [
            [
             0,
             "#8e0152"
            ],
            [
             0.1,
             "#c51b7d"
            ],
            [
             0.2,
             "#de77ae"
            ],
            [
             0.3,
             "#f1b6da"
            ],
            [
             0.4,
             "#fde0ef"
            ],
            [
             0.5,
             "#f7f7f7"
            ],
            [
             0.6,
             "#e6f5d0"
            ],
            [
             0.7,
             "#b8e186"
            ],
            [
             0.8,
             "#7fbc41"
            ],
            [
             0.9,
             "#4d9221"
            ],
            [
             1,
             "#276419"
            ]
           ],
           "sequential": [
            [
             0,
             "#0d0887"
            ],
            [
             0.1111111111111111,
             "#46039f"
            ],
            [
             0.2222222222222222,
             "#7201a8"
            ],
            [
             0.3333333333333333,
             "#9c179e"
            ],
            [
             0.4444444444444444,
             "#bd3786"
            ],
            [
             0.5555555555555556,
             "#d8576b"
            ],
            [
             0.6666666666666666,
             "#ed7953"
            ],
            [
             0.7777777777777778,
             "#fb9f3a"
            ],
            [
             0.8888888888888888,
             "#fdca26"
            ],
            [
             1,
             "#f0f921"
            ]
           ],
           "sequentialminus": [
            [
             0,
             "#0d0887"
            ],
            [
             0.1111111111111111,
             "#46039f"
            ],
            [
             0.2222222222222222,
             "#7201a8"
            ],
            [
             0.3333333333333333,
             "#9c179e"
            ],
            [
             0.4444444444444444,
             "#bd3786"
            ],
            [
             0.5555555555555556,
             "#d8576b"
            ],
            [
             0.6666666666666666,
             "#ed7953"
            ],
            [
             0.7777777777777778,
             "#fb9f3a"
            ],
            [
             0.8888888888888888,
             "#fdca26"
            ],
            [
             1,
             "#f0f921"
            ]
           ]
          },
          "colorway": [
           "#636efa",
           "#EF553B",
           "#00cc96",
           "#ab63fa",
           "#FFA15A",
           "#19d3f3",
           "#FF6692",
           "#B6E880",
           "#FF97FF",
           "#FECB52"
          ],
          "font": {
           "color": "#2a3f5f"
          },
          "geo": {
           "bgcolor": "white",
           "lakecolor": "white",
           "landcolor": "#E5ECF6",
           "showlakes": true,
           "showland": true,
           "subunitcolor": "white"
          },
          "hoverlabel": {
           "align": "left"
          },
          "hovermode": "closest",
          "mapbox": {
           "style": "light"
          },
          "paper_bgcolor": "white",
          "plot_bgcolor": "#E5ECF6",
          "polar": {
           "angularaxis": {
            "gridcolor": "white",
            "linecolor": "white",
            "ticks": ""
           },
           "bgcolor": "#E5ECF6",
           "radialaxis": {
            "gridcolor": "white",
            "linecolor": "white",
            "ticks": ""
           }
          },
          "scene": {
           "xaxis": {
            "backgroundcolor": "#E5ECF6",
            "gridcolor": "white",
            "gridwidth": 2,
            "linecolor": "white",
            "showbackground": true,
            "ticks": "",
            "zerolinecolor": "white"
           },
           "yaxis": {
            "backgroundcolor": "#E5ECF6",
            "gridcolor": "white",
            "gridwidth": 2,
            "linecolor": "white",
            "showbackground": true,
            "ticks": "",
            "zerolinecolor": "white"
           },
           "zaxis": {
            "backgroundcolor": "#E5ECF6",
            "gridcolor": "white",
            "gridwidth": 2,
            "linecolor": "white",
            "showbackground": true,
            "ticks": "",
            "zerolinecolor": "white"
           }
          },
          "shapedefaults": {
           "line": {
            "color": "#2a3f5f"
           }
          },
          "ternary": {
           "aaxis": {
            "gridcolor": "white",
            "linecolor": "white",
            "ticks": ""
           },
           "baxis": {
            "gridcolor": "white",
            "linecolor": "white",
            "ticks": ""
           },
           "bgcolor": "#E5ECF6",
           "caxis": {
            "gridcolor": "white",
            "linecolor": "white",
            "ticks": ""
           }
          },
          "title": {
           "x": 0.05
          },
          "xaxis": {
           "automargin": true,
           "gridcolor": "white",
           "linecolor": "white",
           "ticks": "",
           "title": {
            "standoff": 15
           },
           "zerolinecolor": "white",
           "zerolinewidth": 2
          },
          "yaxis": {
           "automargin": true,
           "gridcolor": "white",
           "linecolor": "white",
           "ticks": "",
           "title": {
            "standoff": 15
           },
           "zerolinecolor": "white",
           "zerolinewidth": 2
          }
         }
        }
       }
      }
     },
     "metadata": {},
     "output_type": "display_data"
    }
   ],
   "source": [
    "dims = [\"n_components\",\"min_cluster_size\",\"min_samples\",\"coherence\",\"number_topics\",\"outlier\",\"outlier\",\"top_n_words\"]\n",
    "df_filter = (df['coherence']>0.3) #& (df['outlier']<0.4) & (df['number_topics']>40)\n",
    "chart_df = viz_df[df_filter]\n",
    "# Create the chart:\n",
    "fig = px.parallel_coordinates(\n",
    "    chart_df, \n",
    "    color=\"coherence\", \n",
    "    dimensions=dims,\n",
    "    #labels={\"species_id\": \"Species\",\"sepal_width\": \"Sepal Width\", \"sepal_length\": \"Sepal Length\", \"petal_width\": \"Petal Width\", \"petal_length\": \"Petal Length\", },\n",
    "    color_continuous_scale=px.colors.diverging.RdYlBu, # color reference https://plotly.com/python/builtin-colorscales/#builtin-diverging-color-scales\n",
    "    color_continuous_midpoint=0.7)\n",
    "fig.update_layout() #coloraxis_showscale=False # if you want to hide score scale \n",
    "# Show the plot\n",
    "fig.show()"
   ]
  },
  {
   "cell_type": "code",
   "execution_count": 12,
   "metadata": {},
   "outputs": [
    {
     "data": {
      "text/html": [
       "<div>\n",
       "<style scoped>\n",
       "    .dataframe tbody tr th:only-of-type {\n",
       "        vertical-align: middle;\n",
       "    }\n",
       "\n",
       "    .dataframe tbody tr th {\n",
       "        vertical-align: top;\n",
       "    }\n",
       "\n",
       "    .dataframe thead th {\n",
       "        text-align: right;\n",
       "    }\n",
       "</style>\n",
       "<table border=\"1\" class=\"dataframe\">\n",
       "  <thead>\n",
       "    <tr style=\"text-align: right;\">\n",
       "      <th></th>\n",
       "      <th>n_neighbors</th>\n",
       "      <th>n_components</th>\n",
       "      <th>min_cluster_size</th>\n",
       "      <th>min_samples</th>\n",
       "      <th>top_n_words</th>\n",
       "      <th>number_topics</th>\n",
       "      <th>coherence</th>\n",
       "      <th>outlier</th>\n",
       "    </tr>\n",
       "  </thead>\n",
       "  <tbody>\n",
       "    <tr>\n",
       "      <th>0</th>\n",
       "      <td>5</td>\n",
       "      <td>3</td>\n",
       "      <td>20</td>\n",
       "      <td>20</td>\n",
       "      <td>5</td>\n",
       "      <td>1782</td>\n",
       "      <td>0.501545</td>\n",
       "      <td>0.532348</td>\n",
       "    </tr>\n",
       "  </tbody>\n",
       "</table>\n",
       "</div>"
      ],
      "text/plain": [
       "   n_neighbors  n_components  min_cluster_size  min_samples  top_n_words  \\\n",
       "0            5             3                20           20            5   \n",
       "\n",
       "   number_topics  coherence   outlier  \n",
       "0           1782   0.501545  0.532348  "
      ]
     },
     "execution_count": 12,
     "metadata": {},
     "output_type": "execute_result"
    }
   ],
   "source": [
    "df_filter = (df['coherence']>0.5) & (df['n_components']==3) & (df['min_cluster_size']==20)& (df['min_samples']==20)\n",
    "param_df = viz_df[df_filter]\n",
    "param_df.head()"
   ]
  },
  {
   "cell_type": "code",
   "execution_count": 13,
   "metadata": {},
   "outputs": [],
   "source": [
    "param_df.to_csv('/data/chuang/Language_Model_Training_Data/Models/Topic_Models/step_10000/train_param_v2.csv')"
   ]
  },
  {
   "cell_type": "code",
   "execution_count": 15,
   "metadata": {},
   "outputs": [],
   "source": [
    "fig.write_html(\"/data/chuang/Language_Model_Training_Data/Data/Raw_LM_Data/temp_topic_model/parallel-coordinate-plot-plotly.html\")"
   ]
  },
  {
   "cell_type": "code",
   "execution_count": null,
   "metadata": {},
   "outputs": [],
   "source": [
    "#### To use wandb see : https://analyticsindiamag.com/hands-on-guide-to-weights-and-biases-wandb-with-python-implementation/"
   ]
  },
  {
   "cell_type": "code",
   "execution_count": null,
   "metadata": {},
   "outputs": [],
   "source": []
  }
 ],
 "metadata": {
  "kernelspec": {
   "display_name": "sbert",
   "language": "python",
   "name": "python3"
  },
  "language_info": {
   "codemirror_mode": {
    "name": "ipython",
    "version": 3
   },
   "file_extension": ".py",
   "mimetype": "text/x-python",
   "name": "python",
   "nbconvert_exporter": "python",
   "pygments_lexer": "ipython3",
   "version": "3.8.13"
  },
  "orig_nbformat": 4,
  "vscode": {
   "interpreter": {
    "hash": "44cb1e07817c37f4eeaa27cde36437eb6d39fa76886fb902edddf9788ba50049"
   }
  }
 },
 "nbformat": 4,
 "nbformat_minor": 2
}
