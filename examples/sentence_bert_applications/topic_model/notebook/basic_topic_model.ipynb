{
 "cells": [
  {
   "attachments": {},
   "cell_type": "markdown",
   "id": "06da05e5",
   "metadata": {},
   "source": [
    "- Follow https://www.kaggle.com/code/maartengr/topic-modeling-arxiv-abstract-with-bertopic/notebook\n",
    "- Evaluation : https://github.com/MaartenGr/BERTopic/issues/90\n",
    "- tips and tricks : https://maartengr.github.io/BERTopic/getting_started/tips_and_tricks/tips_and_tricks.html#keybert-bertopic"
   ]
  },
  {
   "cell_type": "code",
   "execution_count": 1,
   "metadata": {},
   "outputs": [
    {
     "name": "stderr",
     "output_type": "stream",
     "text": [
      "/home/chuang/.conda/envs/sbert/lib/python3.8/site-packages/tqdm/auto.py:22: TqdmWarning: IProgress not found. Please update jupyter and ipywidgets. See https://ipywidgets.readthedocs.io/en/stable/user_install.html\n",
      "  from .autonotebook import tqdm as notebook_tqdm\n"
     ]
    }
   ],
   "source": [
    "from bertopic import BERTopic\n",
    "from sklearn.datasets import fetch_20newsgroups"
   ]
  },
  {
   "cell_type": "code",
   "execution_count": 5,
   "id": "c8f06850",
   "metadata": {},
   "outputs": [],
   "source": [
    "import os, ssl\n",
    "if (not os.environ.get('PYTHONHTTPSVERIFY', '') and\n",
    "getattr(ssl, '_create_unverified_context', None)):\n",
    "    ssl._create_default_https_context = ssl._create_unverified_context"
   ]
  },
  {
   "cell_type": "code",
   "execution_count": 31,
   "id": "dd72592d",
   "metadata": {},
   "outputs": [],
   "source": [
    "import gensim\n",
    "import pandas as pd\n",
    "import gensim.corpora as corpora\n",
    "from gensim.models.coherencemodel import CoherenceModel"
   ]
  },
  {
   "cell_type": "code",
   "execution_count": 80,
   "id": "a85fbafa",
   "metadata": {},
   "outputs": [
    {
     "name": "stderr",
     "output_type": "stream",
     "text": [
      "2022-12-21 17:25:07,563 - BERTopic - Transformed documents to Embeddings\n",
      "2022-12-21 17:25:24,371 - BERTopic - Reduced dimensionality\n"
     ]
    },
    {
     "name": "stdout",
     "output_type": "stream",
     "text": [
      "huggingface/tokenizers: The current process just got forked, after parallelism has already been used. Disabling parallelism to avoid deadlocks...\n",
      "To disable this warning, you can either:\n",
      "\t- Avoid using `tokenizers` before the fork if possible\n",
      "\t- Explicitly set the environment variable TOKENIZERS_PARALLELISM=(true | false)\n",
      "huggingface/tokenizers: The current process just got forked, after parallelism has already been used. Disabling parallelism to avoid deadlocks...\n",
      "To disable this warning, you can either:\n",
      "\t- Avoid using `tokenizers` before the fork if possible\n",
      "\t- Explicitly set the environment variable TOKENIZERS_PARALLELISM=(true | false)\n",
      "huggingface/tokenizers: The current process just got forked, after parallelism has already been used. Disabling parallelism to avoid deadlocks...\n",
      "To disable this warning, you can either:\n",
      "\t- Avoid using `tokenizers` before the fork if possible\n",
      "\t- Explicitly set the environment variable TOKENIZERS_PARALLELISM=(true | false)\n",
      "huggingface/tokenizers: The current process just got forked, after parallelism has already been used. Disabling parallelism to avoid deadlocks...\n",
      "To disable this warning, you can either:\n",
      "\t- Avoid using `tokenizers` before the fork if possible\n",
      "\t- Explicitly set the environment variable TOKENIZERS_PARALLELISM=(true | false)\n"
     ]
    },
    {
     "name": "stderr",
     "output_type": "stream",
     "text": [
      "2022-12-21 17:25:26,480 - BERTopic - Clustered reduced embeddings\n",
      "2022-12-21 17:28:00,124 - BERTopic - Reduced number of topics from 115 to 93\n"
     ]
    }
   ],
   "source": [
    "docs = fetch_20newsgroups(subset='all',  remove=('headers', 'footers', 'quotes'))['data']\n",
    "model = BERTopic(language=\"English\",top_n_words=10,min_topic_size=20,\n",
    "                verbose=False, n_gram_range=(1, 3),nr_topics='auto')\n",
    "topics, probabilities = model.fit_transform(docs)"
   ]
  },
  {
   "cell_type": "code",
   "execution_count": 12,
   "id": "8af355b2",
   "metadata": {},
   "outputs": [
    {
     "data": {
      "text/html": [
       "<div>\n",
       "<style scoped>\n",
       "    .dataframe tbody tr th:only-of-type {\n",
       "        vertical-align: middle;\n",
       "    }\n",
       "\n",
       "    .dataframe tbody tr th {\n",
       "        vertical-align: top;\n",
       "    }\n",
       "\n",
       "    .dataframe thead th {\n",
       "        text-align: right;\n",
       "    }\n",
       "</style>\n",
       "<table border=\"1\" class=\"dataframe\">\n",
       "  <thead>\n",
       "    <tr style=\"text-align: right;\">\n",
       "      <th></th>\n",
       "      <th>Topic</th>\n",
       "      <th>Count</th>\n",
       "    </tr>\n",
       "  </thead>\n",
       "  <tbody>\n",
       "    <tr>\n",
       "      <th>0</th>\n",
       "      <td>-1</td>\n",
       "      <td>6907</td>\n",
       "    </tr>\n",
       "    <tr>\n",
       "      <th>1</th>\n",
       "      <td>0</td>\n",
       "      <td>1829</td>\n",
       "    </tr>\n",
       "    <tr>\n",
       "      <th>2</th>\n",
       "      <td>1</td>\n",
       "      <td>570</td>\n",
       "    </tr>\n",
       "    <tr>\n",
       "      <th>3</th>\n",
       "      <td>2</td>\n",
       "      <td>474</td>\n",
       "    </tr>\n",
       "    <tr>\n",
       "      <th>4</th>\n",
       "      <td>3</td>\n",
       "      <td>251</td>\n",
       "    </tr>\n",
       "  </tbody>\n",
       "</table>\n",
       "</div>"
      ],
      "text/plain": [
       "   Topic  Count\n",
       "0     -1   6907\n",
       "1      0   1829\n",
       "2      1    570\n",
       "3      2    474\n",
       "4      3    251"
      ]
     },
     "execution_count": 12,
     "metadata": {},
     "output_type": "execute_result"
    }
   ],
   "source": [
    "model.get_topic_freq().head()"
   ]
  },
  {
   "cell_type": "code",
   "execution_count": 63,
   "id": "ffe65775",
   "metadata": {},
   "outputs": [
    {
     "data": {
      "text/plain": [
       "230"
      ]
     },
     "execution_count": 63,
     "metadata": {},
     "output_type": "execute_result"
    }
   ],
   "source": [
    "len(model.get_topic_freq())"
   ]
  },
  {
   "cell_type": "markdown",
   "id": "c997a743",
   "metadata": {},
   "source": []
  },
  {
   "cell_type": "code",
   "execution_count": 62,
   "id": "dfa8f47f",
   "metadata": {},
   "outputs": [
    {
     "data": {
      "text/plain": [
       "[('', 1e-05),\n",
       " ('', 1e-05),\n",
       " ('', 1e-05),\n",
       " ('', 1e-05),\n",
       " ('', 1e-05),\n",
       " ('', 1e-05),\n",
       " ('', 1e-05),\n",
       " ('', 1e-05),\n",
       " ('', 1e-05),\n",
       " ('', 1e-05)]"
      ]
     },
     "execution_count": 62,
     "metadata": {},
     "output_type": "execute_result"
    }
   ],
   "source": [
    "model.get_topic(6)"
   ]
  },
  {
   "cell_type": "code",
   "execution_count": 20,
   "id": "9bc2e623",
   "metadata": {},
   "outputs": [
    {
     "data": {
      "application/vnd.plotly.v1+json": {
       "config": {
        "plotlyServerURL": "https://plot.ly"
       },
       "data": [
        {
         "marker": {
          "color": "#D55E00"
         },
         "orientation": "h",
         "type": "bar",
         "x": [
          0.0032913384646277456,
          0.0038902510087809442,
          0.0043390430200157025,
          0.004769778806414192,
          0.0050428128511609705
         ],
         "xaxis": "x",
         "y": [
          "in  ",
          "the  ",
          "team  ",
          "he  ",
          "game  "
         ],
         "yaxis": "y"
        },
        {
         "marker": {
          "color": "#0072B2"
         },
         "orientation": "h",
         "type": "bar",
         "x": [
          0.004798030743972952,
          0.005383592293820737,
          0.005662225862264891,
          0.0059673704311416055,
          0.007157272570958952
         ],
         "xaxis": "x2",
         "y": [
          "the  ",
          "encryption  ",
          "chip  ",
          "clipper  ",
          "key  "
         ],
         "yaxis": "y2"
        },
        {
         "marker": {
          "color": "#CC79A7"
         },
         "orientation": "h",
         "type": "bar",
         "x": [
          0.0048522850953898,
          0.004967740868122917,
          0.00543127004828972,
          0.00632235857280567,
          0.009373617574332286
         ],
         "xaxis": "x3",
         "y": [
          "the  ",
          "arab  ",
          "jews  ",
          "israeli  ",
          "israel  "
         ],
         "yaxis": "y3"
        },
        {
         "marker": {
          "color": "#E69F00"
         },
         "orientation": "h",
         "type": "bar",
         "x": [
          0.00383681891209415,
          0.00393435418167594,
          0.004529239705818278,
          0.008272531181753135,
          0.00837136633964204
         ],
         "xaxis": "x4",
         "y": [
          "of  ",
          "list  ",
          "health  ",
          "edu  ",
          "com  "
         ],
         "yaxis": "y4"
        },
        {
         "marker": {
          "color": "#56B4E9"
         },
         "orientation": "h",
         "type": "bar",
         "x": [
          0.004686203171771763,
          0.004700232232273416,
          0.0049778398950502635,
          0.005096223025869001,
          0.005893543460562032
         ],
         "xaxis": "x5",
         "y": [
          "sale  ",
          "32  ",
          "for  ",
          "drive  ",
          "ram  "
         ],
         "yaxis": "y5"
        },
        {
         "marker": {
          "color": "#009E73"
         },
         "orientation": "h",
         "type": "bar",
         "x": [
          0.004956123973182764,
          0.00518258724298548,
          0.005690482165981121,
          0.006321090795675123,
          0.010671861528062073
         ],
         "xaxis": "x6",
         "y": [
          "the  ",
          "ford  ",
          "engine  ",
          "cars  ",
          "car  "
         ],
         "yaxis": "y6"
        },
        {
         "marker": {
          "color": "#F0E442"
         },
         "orientation": "h",
         "type": "bar",
         "x": [
          0.00001,
          0.00001,
          0.00001,
          0.00001,
          0.00001
         ],
         "xaxis": "x7",
         "y": [
          "  ",
          "  ",
          "  ",
          "  ",
          "  "
         ],
         "yaxis": "y7"
        },
        {
         "marker": {
          "color": "#D55E00"
         },
         "orientation": "h",
         "type": "bar",
         "x": [
          0.004316343824676617,
          0.004596183885038519,
          0.00541480825767549,
          0.006103294256514245,
          0.011818697106506388
         ],
         "xaxis": "x8",
         "y": [
          "of  ",
          "firearms  ",
          "file  ",
          "guns  ",
          "gun  "
         ],
         "yaxis": "y8"
        },
        {
         "marker": {
          "color": "#0072B2"
         },
         "orientation": "h",
         "type": "bar",
         "x": [
          0.006887145859762133,
          0.007209818672689563,
          0.00941741752173705,
          0.01076966732441193,
          0.017689820117349545
         ],
         "xaxis": "x9",
         "y": [
          "format  ",
          "file  ",
          "gif  ",
          "image  ",
          "jpeg  "
         ],
         "yaxis": "y9"
        },
        {
         "marker": {
          "color": "#CC79A7"
         },
         "orientation": "h",
         "type": "bar",
         "x": [
          0.00422705791441208,
          0.004235675985530838,
          0.004751173969699093,
          0.006956606812332967,
          0.00957558433699498
         ],
         "xaxis": "x10",
         "y": [
          "nasa  ",
          "of  ",
          "the  ",
          "launch  ",
          "space  "
         ],
         "yaxis": "y10"
        }
       ],
       "layout": {
        "annotations": [
         {
          "font": {
           "size": 16
          },
          "showarrow": false,
          "text": "Topic 0",
          "x": 0.0875,
          "xanchor": "center",
          "xref": "paper",
          "y": 1,
          "yanchor": "bottom",
          "yref": "paper"
         },
         {
          "font": {
           "size": 16
          },
          "showarrow": false,
          "text": "Topic 1",
          "x": 0.36250000000000004,
          "xanchor": "center",
          "xref": "paper",
          "y": 1,
          "yanchor": "bottom",
          "yref": "paper"
         },
         {
          "font": {
           "size": 16
          },
          "showarrow": false,
          "text": "Topic 2",
          "x": 0.6375000000000001,
          "xanchor": "center",
          "xref": "paper",
          "y": 1,
          "yanchor": "bottom",
          "yref": "paper"
         },
         {
          "font": {
           "size": 16
          },
          "showarrow": false,
          "text": "Topic 3",
          "x": 0.9125,
          "xanchor": "center",
          "xref": "paper",
          "y": 1,
          "yanchor": "bottom",
          "yref": "paper"
         },
         {
          "font": {
           "size": 16
          },
          "showarrow": false,
          "text": "Topic 4",
          "x": 0.0875,
          "xanchor": "center",
          "xref": "paper",
          "y": 0.6222222222222222,
          "yanchor": "bottom",
          "yref": "paper"
         },
         {
          "font": {
           "size": 16
          },
          "showarrow": false,
          "text": "Topic 5",
          "x": 0.36250000000000004,
          "xanchor": "center",
          "xref": "paper",
          "y": 0.6222222222222222,
          "yanchor": "bottom",
          "yref": "paper"
         },
         {
          "font": {
           "size": 16
          },
          "showarrow": false,
          "text": "Topic 6",
          "x": 0.6375000000000001,
          "xanchor": "center",
          "xref": "paper",
          "y": 0.6222222222222222,
          "yanchor": "bottom",
          "yref": "paper"
         },
         {
          "font": {
           "size": 16
          },
          "showarrow": false,
          "text": "Topic 7",
          "x": 0.9125,
          "xanchor": "center",
          "xref": "paper",
          "y": 0.6222222222222222,
          "yanchor": "bottom",
          "yref": "paper"
         },
         {
          "font": {
           "size": 16
          },
          "showarrow": false,
          "text": "Topic 8",
          "x": 0.0875,
          "xanchor": "center",
          "xref": "paper",
          "y": 0.24444444444444446,
          "yanchor": "bottom",
          "yref": "paper"
         },
         {
          "font": {
           "size": 16
          },
          "showarrow": false,
          "text": "Topic 9",
          "x": 0.36250000000000004,
          "xanchor": "center",
          "xref": "paper",
          "y": 0.24444444444444446,
          "yanchor": "bottom",
          "yref": "paper"
         }
        ],
        "height": 2100,
        "hoverlabel": {
         "bgcolor": "white",
         "font": {
          "family": "Rockwell",
          "size": 16
         }
        },
        "showlegend": false,
        "template": {
         "data": {
          "bar": [
           {
            "error_x": {
             "color": "#2a3f5f"
            },
            "error_y": {
             "color": "#2a3f5f"
            },
            "marker": {
             "line": {
              "color": "white",
              "width": 0.5
             },
             "pattern": {
              "fillmode": "overlay",
              "size": 10,
              "solidity": 0.2
             }
            },
            "type": "bar"
           }
          ],
          "barpolar": [
           {
            "marker": {
             "line": {
              "color": "white",
              "width": 0.5
             },
             "pattern": {
              "fillmode": "overlay",
              "size": 10,
              "solidity": 0.2
             }
            },
            "type": "barpolar"
           }
          ],
          "carpet": [
           {
            "aaxis": {
             "endlinecolor": "#2a3f5f",
             "gridcolor": "#C8D4E3",
             "linecolor": "#C8D4E3",
             "minorgridcolor": "#C8D4E3",
             "startlinecolor": "#2a3f5f"
            },
            "baxis": {
             "endlinecolor": "#2a3f5f",
             "gridcolor": "#C8D4E3",
             "linecolor": "#C8D4E3",
             "minorgridcolor": "#C8D4E3",
             "startlinecolor": "#2a3f5f"
            },
            "type": "carpet"
           }
          ],
          "choropleth": [
           {
            "colorbar": {
             "outlinewidth": 0,
             "ticks": ""
            },
            "type": "choropleth"
           }
          ],
          "contour": [
           {
            "colorbar": {
             "outlinewidth": 0,
             "ticks": ""
            },
            "colorscale": [
             [
              0,
              "#0d0887"
             ],
             [
              0.1111111111111111,
              "#46039f"
             ],
             [
              0.2222222222222222,
              "#7201a8"
             ],
             [
              0.3333333333333333,
              "#9c179e"
             ],
             [
              0.4444444444444444,
              "#bd3786"
             ],
             [
              0.5555555555555556,
              "#d8576b"
             ],
             [
              0.6666666666666666,
              "#ed7953"
             ],
             [
              0.7777777777777778,
              "#fb9f3a"
             ],
             [
              0.8888888888888888,
              "#fdca26"
             ],
             [
              1,
              "#f0f921"
             ]
            ],
            "type": "contour"
           }
          ],
          "contourcarpet": [
           {
            "colorbar": {
             "outlinewidth": 0,
             "ticks": ""
            },
            "type": "contourcarpet"
           }
          ],
          "heatmap": [
           {
            "colorbar": {
             "outlinewidth": 0,
             "ticks": ""
            },
            "colorscale": [
             [
              0,
              "#0d0887"
             ],
             [
              0.1111111111111111,
              "#46039f"
             ],
             [
              0.2222222222222222,
              "#7201a8"
             ],
             [
              0.3333333333333333,
              "#9c179e"
             ],
             [
              0.4444444444444444,
              "#bd3786"
             ],
             [
              0.5555555555555556,
              "#d8576b"
             ],
             [
              0.6666666666666666,
              "#ed7953"
             ],
             [
              0.7777777777777778,
              "#fb9f3a"
             ],
             [
              0.8888888888888888,
              "#fdca26"
             ],
             [
              1,
              "#f0f921"
             ]
            ],
            "type": "heatmap"
           }
          ],
          "heatmapgl": [
           {
            "colorbar": {
             "outlinewidth": 0,
             "ticks": ""
            },
            "colorscale": [
             [
              0,
              "#0d0887"
             ],
             [
              0.1111111111111111,
              "#46039f"
             ],
             [
              0.2222222222222222,
              "#7201a8"
             ],
             [
              0.3333333333333333,
              "#9c179e"
             ],
             [
              0.4444444444444444,
              "#bd3786"
             ],
             [
              0.5555555555555556,
              "#d8576b"
             ],
             [
              0.6666666666666666,
              "#ed7953"
             ],
             [
              0.7777777777777778,
              "#fb9f3a"
             ],
             [
              0.8888888888888888,
              "#fdca26"
             ],
             [
              1,
              "#f0f921"
             ]
            ],
            "type": "heatmapgl"
           }
          ],
          "histogram": [
           {
            "marker": {
             "pattern": {
              "fillmode": "overlay",
              "size": 10,
              "solidity": 0.2
             }
            },
            "type": "histogram"
           }
          ],
          "histogram2d": [
           {
            "colorbar": {
             "outlinewidth": 0,
             "ticks": ""
            },
            "colorscale": [
             [
              0,
              "#0d0887"
             ],
             [
              0.1111111111111111,
              "#46039f"
             ],
             [
              0.2222222222222222,
              "#7201a8"
             ],
             [
              0.3333333333333333,
              "#9c179e"
             ],
             [
              0.4444444444444444,
              "#bd3786"
             ],
             [
              0.5555555555555556,
              "#d8576b"
             ],
             [
              0.6666666666666666,
              "#ed7953"
             ],
             [
              0.7777777777777778,
              "#fb9f3a"
             ],
             [
              0.8888888888888888,
              "#fdca26"
             ],
             [
              1,
              "#f0f921"
             ]
            ],
            "type": "histogram2d"
           }
          ],
          "histogram2dcontour": [
           {
            "colorbar": {
             "outlinewidth": 0,
             "ticks": ""
            },
            "colorscale": [
             [
              0,
              "#0d0887"
             ],
             [
              0.1111111111111111,
              "#46039f"
             ],
             [
              0.2222222222222222,
              "#7201a8"
             ],
             [
              0.3333333333333333,
              "#9c179e"
             ],
             [
              0.4444444444444444,
              "#bd3786"
             ],
             [
              0.5555555555555556,
              "#d8576b"
             ],
             [
              0.6666666666666666,
              "#ed7953"
             ],
             [
              0.7777777777777778,
              "#fb9f3a"
             ],
             [
              0.8888888888888888,
              "#fdca26"
             ],
             [
              1,
              "#f0f921"
             ]
            ],
            "type": "histogram2dcontour"
           }
          ],
          "mesh3d": [
           {
            "colorbar": {
             "outlinewidth": 0,
             "ticks": ""
            },
            "type": "mesh3d"
           }
          ],
          "parcoords": [
           {
            "line": {
             "colorbar": {
              "outlinewidth": 0,
              "ticks": ""
             }
            },
            "type": "parcoords"
           }
          ],
          "pie": [
           {
            "automargin": true,
            "type": "pie"
           }
          ],
          "scatter": [
           {
            "fillpattern": {
             "fillmode": "overlay",
             "size": 10,
             "solidity": 0.2
            },
            "type": "scatter"
           }
          ],
          "scatter3d": [
           {
            "line": {
             "colorbar": {
              "outlinewidth": 0,
              "ticks": ""
             }
            },
            "marker": {
             "colorbar": {
              "outlinewidth": 0,
              "ticks": ""
             }
            },
            "type": "scatter3d"
           }
          ],
          "scattercarpet": [
           {
            "marker": {
             "colorbar": {
              "outlinewidth": 0,
              "ticks": ""
             }
            },
            "type": "scattercarpet"
           }
          ],
          "scattergeo": [
           {
            "marker": {
             "colorbar": {
              "outlinewidth": 0,
              "ticks": ""
             }
            },
            "type": "scattergeo"
           }
          ],
          "scattergl": [
           {
            "marker": {
             "colorbar": {
              "outlinewidth": 0,
              "ticks": ""
             }
            },
            "type": "scattergl"
           }
          ],
          "scattermapbox": [
           {
            "marker": {
             "colorbar": {
              "outlinewidth": 0,
              "ticks": ""
             }
            },
            "type": "scattermapbox"
           }
          ],
          "scatterpolar": [
           {
            "marker": {
             "colorbar": {
              "outlinewidth": 0,
              "ticks": ""
             }
            },
            "type": "scatterpolar"
           }
          ],
          "scatterpolargl": [
           {
            "marker": {
             "colorbar": {
              "outlinewidth": 0,
              "ticks": ""
             }
            },
            "type": "scatterpolargl"
           }
          ],
          "scatterternary": [
           {
            "marker": {
             "colorbar": {
              "outlinewidth": 0,
              "ticks": ""
             }
            },
            "type": "scatterternary"
           }
          ],
          "surface": [
           {
            "colorbar": {
             "outlinewidth": 0,
             "ticks": ""
            },
            "colorscale": [
             [
              0,
              "#0d0887"
             ],
             [
              0.1111111111111111,
              "#46039f"
             ],
             [
              0.2222222222222222,
              "#7201a8"
             ],
             [
              0.3333333333333333,
              "#9c179e"
             ],
             [
              0.4444444444444444,
              "#bd3786"
             ],
             [
              0.5555555555555556,
              "#d8576b"
             ],
             [
              0.6666666666666666,
              "#ed7953"
             ],
             [
              0.7777777777777778,
              "#fb9f3a"
             ],
             [
              0.8888888888888888,
              "#fdca26"
             ],
             [
              1,
              "#f0f921"
             ]
            ],
            "type": "surface"
           }
          ],
          "table": [
           {
            "cells": {
             "fill": {
              "color": "#EBF0F8"
             },
             "line": {
              "color": "white"
             }
            },
            "header": {
             "fill": {
              "color": "#C8D4E3"
             },
             "line": {
              "color": "white"
             }
            },
            "type": "table"
           }
          ]
         },
         "layout": {
          "annotationdefaults": {
           "arrowcolor": "#2a3f5f",
           "arrowhead": 0,
           "arrowwidth": 1
          },
          "autotypenumbers": "strict",
          "coloraxis": {
           "colorbar": {
            "outlinewidth": 0,
            "ticks": ""
           }
          },
          "colorscale": {
           "diverging": [
            [
             0,
             "#8e0152"
            ],
            [
             0.1,
             "#c51b7d"
            ],
            [
             0.2,
             "#de77ae"
            ],
            [
             0.3,
             "#f1b6da"
            ],
            [
             0.4,
             "#fde0ef"
            ],
            [
             0.5,
             "#f7f7f7"
            ],
            [
             0.6,
             "#e6f5d0"
            ],
            [
             0.7,
             "#b8e186"
            ],
            [
             0.8,
             "#7fbc41"
            ],
            [
             0.9,
             "#4d9221"
            ],
            [
             1,
             "#276419"
            ]
           ],
           "sequential": [
            [
             0,
             "#0d0887"
            ],
            [
             0.1111111111111111,
             "#46039f"
            ],
            [
             0.2222222222222222,
             "#7201a8"
            ],
            [
             0.3333333333333333,
             "#9c179e"
            ],
            [
             0.4444444444444444,
             "#bd3786"
            ],
            [
             0.5555555555555556,
             "#d8576b"
            ],
            [
             0.6666666666666666,
             "#ed7953"
            ],
            [
             0.7777777777777778,
             "#fb9f3a"
            ],
            [
             0.8888888888888888,
             "#fdca26"
            ],
            [
             1,
             "#f0f921"
            ]
           ],
           "sequentialminus": [
            [
             0,
             "#0d0887"
            ],
            [
             0.1111111111111111,
             "#46039f"
            ],
            [
             0.2222222222222222,
             "#7201a8"
            ],
            [
             0.3333333333333333,
             "#9c179e"
            ],
            [
             0.4444444444444444,
             "#bd3786"
            ],
            [
             0.5555555555555556,
             "#d8576b"
            ],
            [
             0.6666666666666666,
             "#ed7953"
            ],
            [
             0.7777777777777778,
             "#fb9f3a"
            ],
            [
             0.8888888888888888,
             "#fdca26"
            ],
            [
             1,
             "#f0f921"
            ]
           ]
          },
          "colorway": [
           "#636efa",
           "#EF553B",
           "#00cc96",
           "#ab63fa",
           "#FFA15A",
           "#19d3f3",
           "#FF6692",
           "#B6E880",
           "#FF97FF",
           "#FECB52"
          ],
          "font": {
           "color": "#2a3f5f"
          },
          "geo": {
           "bgcolor": "white",
           "lakecolor": "white",
           "landcolor": "white",
           "showlakes": true,
           "showland": true,
           "subunitcolor": "#C8D4E3"
          },
          "hoverlabel": {
           "align": "left"
          },
          "hovermode": "closest",
          "mapbox": {
           "style": "light"
          },
          "paper_bgcolor": "white",
          "plot_bgcolor": "white",
          "polar": {
           "angularaxis": {
            "gridcolor": "#EBF0F8",
            "linecolor": "#EBF0F8",
            "ticks": ""
           },
           "bgcolor": "white",
           "radialaxis": {
            "gridcolor": "#EBF0F8",
            "linecolor": "#EBF0F8",
            "ticks": ""
           }
          },
          "scene": {
           "xaxis": {
            "backgroundcolor": "white",
            "gridcolor": "#DFE8F3",
            "gridwidth": 2,
            "linecolor": "#EBF0F8",
            "showbackground": true,
            "ticks": "",
            "zerolinecolor": "#EBF0F8"
           },
           "yaxis": {
            "backgroundcolor": "white",
            "gridcolor": "#DFE8F3",
            "gridwidth": 2,
            "linecolor": "#EBF0F8",
            "showbackground": true,
            "ticks": "",
            "zerolinecolor": "#EBF0F8"
           },
           "zaxis": {
            "backgroundcolor": "white",
            "gridcolor": "#DFE8F3",
            "gridwidth": 2,
            "linecolor": "#EBF0F8",
            "showbackground": true,
            "ticks": "",
            "zerolinecolor": "#EBF0F8"
           }
          },
          "shapedefaults": {
           "line": {
            "color": "#2a3f5f"
           }
          },
          "ternary": {
           "aaxis": {
            "gridcolor": "#DFE8F3",
            "linecolor": "#A2B1C6",
            "ticks": ""
           },
           "baxis": {
            "gridcolor": "#DFE8F3",
            "linecolor": "#A2B1C6",
            "ticks": ""
           },
           "bgcolor": "white",
           "caxis": {
            "gridcolor": "#DFE8F3",
            "linecolor": "#A2B1C6",
            "ticks": ""
           }
          },
          "title": {
           "x": 0.05
          },
          "xaxis": {
           "automargin": true,
           "gridcolor": "#EBF0F8",
           "linecolor": "#EBF0F8",
           "ticks": "",
           "title": {
            "standoff": 15
           },
           "zerolinecolor": "#EBF0F8",
           "zerolinewidth": 2
          },
          "yaxis": {
           "automargin": true,
           "gridcolor": "#EBF0F8",
           "linecolor": "#EBF0F8",
           "ticks": "",
           "title": {
            "standoff": 15
           },
           "zerolinecolor": "#EBF0F8",
           "zerolinewidth": 2
          }
         }
        },
        "title": {
         "font": {
          "color": "Black",
          "size": 22
         },
         "text": "<b>Topic Word Scores",
         "x": 0.5,
         "xanchor": "center",
         "yanchor": "top"
        },
        "width": 1000,
        "xaxis": {
         "anchor": "y",
         "domain": [
          0,
          0.175
         ],
         "showgrid": true
        },
        "xaxis10": {
         "anchor": "y10",
         "domain": [
          0.275,
          0.45
         ],
         "showgrid": true
        },
        "xaxis11": {
         "anchor": "y11",
         "domain": [
          0.55,
          0.7250000000000001
         ],
         "showgrid": true
        },
        "xaxis12": {
         "anchor": "y12",
         "domain": [
          0.825,
          1
         ],
         "showgrid": true
        },
        "xaxis2": {
         "anchor": "y2",
         "domain": [
          0.275,
          0.45
         ],
         "showgrid": true
        },
        "xaxis3": {
         "anchor": "y3",
         "domain": [
          0.55,
          0.7250000000000001
         ],
         "showgrid": true
        },
        "xaxis4": {
         "anchor": "y4",
         "domain": [
          0.825,
          1
         ],
         "showgrid": true
        },
        "xaxis5": {
         "anchor": "y5",
         "domain": [
          0,
          0.175
         ],
         "showgrid": true
        },
        "xaxis6": {
         "anchor": "y6",
         "domain": [
          0.275,
          0.45
         ],
         "showgrid": true
        },
        "xaxis7": {
         "anchor": "y7",
         "domain": [
          0.55,
          0.7250000000000001
         ],
         "showgrid": true
        },
        "xaxis8": {
         "anchor": "y8",
         "domain": [
          0.825,
          1
         ],
         "showgrid": true
        },
        "xaxis9": {
         "anchor": "y9",
         "domain": [
          0,
          0.175
         ],
         "showgrid": true
        },
        "yaxis": {
         "anchor": "x",
         "domain": [
          0.7555555555555555,
          1
         ],
         "showgrid": true
        },
        "yaxis10": {
         "anchor": "x10",
         "domain": [
          0,
          0.24444444444444446
         ],
         "showgrid": true
        },
        "yaxis11": {
         "anchor": "x11",
         "domain": [
          0,
          0.24444444444444446
         ],
         "showgrid": true
        },
        "yaxis12": {
         "anchor": "x12",
         "domain": [
          0,
          0.24444444444444446
         ],
         "showgrid": true
        },
        "yaxis2": {
         "anchor": "x2",
         "domain": [
          0.7555555555555555,
          1
         ],
         "showgrid": true
        },
        "yaxis3": {
         "anchor": "x3",
         "domain": [
          0.7555555555555555,
          1
         ],
         "showgrid": true
        },
        "yaxis4": {
         "anchor": "x4",
         "domain": [
          0.7555555555555555,
          1
         ],
         "showgrid": true
        },
        "yaxis5": {
         "anchor": "x5",
         "domain": [
          0.37777777777777777,
          0.6222222222222222
         ],
         "showgrid": true
        },
        "yaxis6": {
         "anchor": "x6",
         "domain": [
          0.37777777777777777,
          0.6222222222222222
         ],
         "showgrid": true
        },
        "yaxis7": {
         "anchor": "x7",
         "domain": [
          0.37777777777777777,
          0.6222222222222222
         ],
         "showgrid": true
        },
        "yaxis8": {
         "anchor": "x8",
         "domain": [
          0.37777777777777777,
          0.6222222222222222
         ],
         "showgrid": true
        },
        "yaxis9": {
         "anchor": "x9",
         "domain": [
          0,
          0.24444444444444446
         ],
         "showgrid": true
        }
       }
      }
     },
     "metadata": {},
     "output_type": "display_data"
    }
   ],
   "source": [
    "model.visualize_barchart(top_n_topics=10, height=700)"
   ]
  },
  {
   "cell_type": "code",
   "execution_count": 22,
   "id": "ce211ade",
   "metadata": {},
   "outputs": [
    {
     "data": {
      "application/vnd.plotly.v1+json": {
       "config": {
        "plotlyServerURL": "https://plot.ly"
       },
       "data": [
        {
         "hovertext": "<b>Topic -1</b>:the_to_and_of_is_it_in_that_you_fo",
         "line": {
          "color": "black",
          "width": 1.5
         },
         "mode": "lines+lines",
         "name": "",
         "opacity": 0.1,
         "type": "scatter",
         "x": [
          1,
          2,
          3,
          4,
          5,
          6,
          7,
          8,
          9,
          10
         ],
         "y": [
          0.004007088059659932,
          0.0038520543133402857,
          0.0036049223651179857,
          0.0036043353597248764,
          0.0034466767131830266,
          0.0032711336247536194,
          0.003261709665005552,
          0.00319452169932749,
          0.0031386443867348662,
          0.003007936990108798
         ]
        },
        {
         "hovertext": "<b>Topic 0</b>:game_he_team_the_in_games_was_year_",
         "line": {
          "color": "black",
          "width": 1.5
         },
         "mode": "lines+lines",
         "name": "",
         "opacity": 0.1,
         "type": "scatter",
         "x": [
          1,
          2,
          3,
          4,
          5,
          6,
          7,
          8,
          9,
          10
         ],
         "y": [
          0.0050428128511609705,
          0.004769778806414192,
          0.0043390430200157025,
          0.0038902510087809442,
          0.0032913384646277456,
          0.0032439200798654645,
          0.0031804139137449187,
          0.0029736209703548943,
          0.0029067096870916934,
          0.002898470167391521
         ]
        },
        {
         "hovertext": "<b>Topic 1</b>:key_clipper_chip_encryption_the_to_",
         "line": {
          "color": "black",
          "width": 1.5
         },
         "mode": "lines+lines",
         "name": "",
         "opacity": 0.1,
         "type": "scatter",
         "x": [
          1,
          2,
          3,
          4,
          5,
          6,
          7,
          8,
          9,
          10
         ],
         "y": [
          0.007157272570958952,
          0.0059673704311416055,
          0.005662225862264891,
          0.005383592293820737,
          0.004798030743972952,
          0.0046232199935412705,
          0.004567473188551078,
          0.0044575027450044075,
          0.004132689653027492,
          0.0037805948210802424
         ]
        },
        {
         "hovertext": "<b>Topic 2</b>:israel_israeli_jews_arab_the_of_in_",
         "line": {
          "color": "black",
          "width": 1.5
         },
         "mode": "lines+lines",
         "name": "",
         "opacity": 0.1,
         "type": "scatter",
         "x": [
          1,
          2,
          3,
          4,
          5,
          6,
          7,
          8,
          9,
          10
         ],
         "y": [
          0.009373617574332286,
          0.00632235857280567,
          0.00543127004828972,
          0.004967740868122917,
          0.0048522850953898,
          0.004722290066406749,
          0.004083539147267788,
          0.004083370226176311,
          0.004076291567452082,
          0.0040303173180139115
         ]
        },
        {
         "hovertext": "<b>Topic 3</b>:com_edu_health_list_of_for_and_hiv_",
         "line": {
          "color": "black",
          "width": 1.5
         },
         "mode": "lines+lines",
         "name": "",
         "opacity": 0.1,
         "type": "scatter",
         "x": [
          1,
          2,
          3,
          4,
          5,
          6,
          7,
          8,
          9,
          10
         ],
         "y": [
          0.00837136633964204,
          0.008272531181753135,
          0.004529239705818278,
          0.00393435418167594,
          0.00383681891209415,
          0.0037182513427729664,
          0.003707954057745176,
          0.0033500007332443915,
          0.0033213587287186054,
          0.003163947394805931
         ]
        },
        {
         "hovertext": "<b>Topic 4</b>:ram_drive_for_32_sale_price_softwar",
         "line": {
          "color": "black",
          "width": 1.5
         },
         "mode": "lines+lines",
         "name": "",
         "opacity": 0.1,
         "type": "scatter",
         "x": [
          1,
          2,
          3,
          4,
          5,
          6,
          7,
          8,
          9,
          10
         ],
         "y": [
          0.005893543460562032,
          0.005096223025869001,
          0.0049778398950502635,
          0.004700232232273416,
          0.004686203171771763,
          0.004620894629153785,
          0.0046081570984824564,
          0.004488219310707217,
          0.004426884204400726,
          0.004367837490369359
         ]
        },
        {
         "hovertext": "<b>Topic 5</b>:car_cars_engine_ford_the_mustang_it",
         "line": {
          "color": "black",
          "width": 1.5
         },
         "mode": "lines+lines",
         "name": "",
         "opacity": 0.1,
         "type": "scatter",
         "x": [
          1,
          2,
          3,
          4,
          5,
          6,
          7,
          8,
          9,
          10
         ],
         "y": [
          0.010671861528062073,
          0.006321090795675123,
          0.005690482165981121,
          0.00518258724298548,
          0.004956123973182764,
          0.004489307103210707,
          0.004303779384045682,
          0.004163082512009879,
          0.003651908433533283,
          0.003395746275000628
         ]
        },
        {
         "hovertext": "<b>Topic 6</b>:_________",
         "line": {
          "color": "black",
          "width": 1.5
         },
         "mode": "lines+lines",
         "name": "",
         "opacity": 0.1,
         "type": "scatter",
         "x": [
          1,
          2,
          3,
          4,
          5,
          6,
          7,
          8,
          9,
          10
         ],
         "y": [
          0.00001,
          0.00001,
          0.00001,
          0.00001,
          0.00001,
          0.00001,
          0.00001,
          0.00001,
          0.00001,
          0.00001
         ]
        },
        {
         "hovertext": "<b>Topic 7</b>:gun_guns_file_firearms_of_the_by_to",
         "line": {
          "color": "black",
          "width": 1.5
         },
         "mode": "lines+lines",
         "name": "",
         "opacity": 0.1,
         "type": "scatter",
         "x": [
          1,
          2,
          3,
          4,
          5,
          6,
          7,
          8,
          9,
          10
         ],
         "y": [
          0.011818697106506388,
          0.006103294256514245,
          0.00541480825767549,
          0.004596183885038519,
          0.004316343824676617,
          0.004028778605422217,
          0.00401075612496092,
          0.003958960803642783,
          0.0035837479028585366,
          0.0035590251175629637
         ]
        },
        {
         "hovertext": "<b>Topic 8</b>:jpeg_image_gif_file_format_images_c",
         "line": {
          "color": "black",
          "width": 1.5
         },
         "mode": "lines+lines",
         "name": "",
         "opacity": 0.1,
         "type": "scatter",
         "x": [
          1,
          2,
          3,
          4,
          5,
          6,
          7,
          8,
          9,
          10
         ],
         "y": [
          0.017689820117349545,
          0.01076966732441193,
          0.00941741752173705,
          0.007209818672689563,
          0.006887145859762133,
          0.006369400008349179,
          0.005678385489039247,
          0.005495580085825525,
          0.005097978249418496,
          0.004744975469302506
         ]
        },
        {
         "hovertext": "<b>Topic 9</b>:space_launch_the_of_nasa_to_station",
         "line": {
          "color": "black",
          "width": 1.5
         },
         "mode": "lines+lines",
         "name": "",
         "opacity": 0.1,
         "type": "scatter",
         "x": [
          1,
          2,
          3,
          4,
          5,
          6,
          7,
          8,
          9,
          10
         ],
         "y": [
          0.00957558433699498,
          0.006956606812332967,
          0.004751173969699093,
          0.004235675985530838,
          0.00422705791441208,
          0.004111576852953321,
          0.0040219004363395575,
          0.0038772331405795817,
          0.0037351539750241996,
          0.0036982651743749824
         ]
        },
        {
         "hovertext": "<b>Topic 10</b>:card_drivers_diamond_ati_driver_vi",
         "line": {
          "color": "black",
          "width": 1.5
         },
         "mode": "lines+lines",
         "name": "",
         "opacity": 0.1,
         "type": "scatter",
         "x": [
          1,
          2,
          3,
          4,
          5,
          6,
          7,
          8,
          9,
          10
         ],
         "y": [
          0.01903106979271385,
          0.014897123708627152,
          0.010075870339325464,
          0.00817407524091693,
          0.008065877884042751,
          0.007962990103718454,
          0.006806388371023403,
          0.0066125162194642225,
          0.006200983307501302,
          0.005775282558994331
         ]
        },
        {
         "hovertext": "<b>Topic 11</b>:bike_the bike_bikes_miles_it_for_m",
         "line": {
          "color": "black",
          "width": 1.5
         },
         "mode": "lines+lines",
         "name": "",
         "opacity": 0.1,
         "type": "scatter",
         "x": [
          1,
          2,
          3,
          4,
          5,
          6,
          7,
          8,
          9,
          10
         ],
         "y": [
          0.017462257842623133,
          0.006338010795144549,
          0.006203446932140345,
          0.004958746210027982,
          0.004526531132766041,
          0.004452890491031248,
          0.004234149389238013,
          0.003941993009870539,
          0.003904585040884149,
          0.0038954831985236354
         ]
        },
        {
         "hovertext": "<b>Topic 12</b>:fire_fbi_the fire_the fbi_gas_the_",
         "line": {
          "color": "black",
          "width": 1.5
         },
         "mode": "lines+lines",
         "name": "",
         "opacity": 0.1,
         "type": "scatter",
         "x": [
          1,
          2,
          3,
          4,
          5,
          6,
          7,
          8,
          9,
          10
         ],
         "y": [
          0.011603561931990419,
          0.010130315921571523,
          0.009048074854669201,
          0.008839132078980771,
          0.008350877061506843,
          0.005895297486351996,
          0.005202765040601678,
          0.005154632370408694,
          0.005150287453604915,
          0.004984753973508246
         ]
        },
        {
         "hovertext": "<b>Topic 13</b>:window_the window_widget_applicati",
         "line": {
          "color": "black",
          "width": 1.5
         },
         "mode": "lines+lines",
         "name": "",
         "opacity": 0.1,
         "type": "scatter",
         "x": [
          1,
          2,
          3,
          4,
          5,
          6,
          7,
          8,
          9,
          10
         ],
         "y": [
          0.018901308077906014,
          0.008917294816875103,
          0.008861600601556014,
          0.005827123784873311,
          0.0052743791035129136,
          0.004691862971527522,
          0.004455541594868142,
          0.004404227256417496,
          0.004299503167484108,
          0.004055348991035195
         ]
        },
        {
         "hovertext": "<b>Topic 14</b>:_________",
         "line": {
          "color": "black",
          "width": 1.5
         },
         "mode": "lines+lines",
         "name": "",
         "opacity": 0.1,
         "type": "scatter",
         "x": [
          1,
          2,
          3,
          4,
          5,
          6,
          7,
          8,
          9,
          10
         ],
         "y": [
          0.00001,
          0.00001,
          0.00001,
          0.00001,
          0.00001,
          0.00001,
          0.00001,
          0.00001,
          0.00001,
          0.00001
         ]
        },
        {
         "hovertext": "<b>Topic 15</b>:drive_disk_drives_controller_bios_",
         "line": {
          "color": "black",
          "width": 1.5
         },
         "mode": "lines+lines",
         "name": "",
         "opacity": 0.1,
         "type": "scatter",
         "x": [
          1,
          2,
          3,
          4,
          5,
          6,
          7,
          8,
          9,
          10
         ],
         "y": [
          0.02146025157589109,
          0.013165105883492375,
          0.01292196467927233,
          0.011046442947387748,
          0.009264556011505823,
          0.008595195208576824,
          0.008360079802117826,
          0.00799500673935788,
          0.007985628962865025,
          0.007768975138369883
         ]
        },
        {
         "hovertext": "<b>Topic 16</b>:god_atheists_atheism_atheist_is_th",
         "line": {
          "color": "black",
          "width": 1.5
         },
         "mode": "lines+lines",
         "name": "",
         "opacity": 0.1,
         "type": "scatter",
         "x": [
          1,
          2,
          3,
          4,
          5,
          6,
          7,
          8,
          9,
          10
         ],
         "y": [
          0.008661047842598173,
          0.007809639424318888,
          0.007435640471487816,
          0.0059893743570913725,
          0.005915588868597973,
          0.0052880406359650176,
          0.004825954077086852,
          0.0046107285546586165,
          0.004264208040958861,
          0.004218063905729885
         ]
        },
        {
         "hovertext": "<b>Topic 17</b>:graphics_3d_op_cols_op_rows_confer",
         "line": {
          "color": "black",
          "width": 1.5
         },
         "mode": "lines+lines",
         "name": "",
         "opacity": 0.1,
         "type": "scatter",
         "x": [
          1,
          2,
          3,
          4,
          5,
          6,
          7,
          8,
          9,
          10
         ],
         "y": [
          0.008141588191685522,
          0.007272221782244064,
          0.005239475181877773,
          0.005239475181877773,
          0.005098484167528092,
          0.004551373430053183,
          0.004246100403255464,
          0.004226384154293909,
          0.003944913810626234,
          0.003915877945709543
         ]
        },
        {
         "hovertext": "<b>Topic 18</b>:moral_objective_morality_is_that_w",
         "line": {
          "color": "black",
          "width": 1.5
         },
         "mode": "lines+lines",
         "name": "",
         "opacity": 0.1,
         "type": "scatter",
         "x": [
          1,
          2,
          3,
          4,
          5,
          6,
          7,
          8,
          9,
          10
         ],
         "y": [
          0.014355371603829978,
          0.012831327095383658,
          0.012783520178510208,
          0.006912594880767529,
          0.00661489373238882,
          0.00510025128964668,
          0.005051812034748178,
          0.004695384794668756,
          0.004464324882156806,
          0.004430918240764725
         ]
        },
        {
         "hovertext": "<b>Topic 19</b>:db_mov_bh_windows_si_memory_cs_cs ",
         "line": {
          "color": "black",
          "width": 1.5
         },
         "mode": "lines+lines",
         "name": "",
         "opacity": 0.1,
         "type": "scatter",
         "x": [
          1,
          2,
          3,
          4,
          5,
          6,
          7,
          8,
          9,
          10
         ],
         "y": [
          0.04728467935590444,
          0.01603172041044583,
          0.012641838747541606,
          0.012167304081495021,
          0.009788428077076756,
          0.007952399269281216,
          0.007247110689731587,
          0.006909240408721421,
          0.006629785544184706,
          0.006553705671488658
         ]
        },
        {
         "hovertext": "<b>Topic 20</b>:oil_diesel_fuel_the oil_it_diesels",
         "line": {
          "color": "black",
          "width": 1.5
         },
         "mode": "lines+lines",
         "name": "",
         "opacity": 0.1,
         "type": "scatter",
         "x": [
          1,
          2,
          3,
          4,
          5,
          6,
          7,
          8,
          9,
          10
         ],
         "y": [
          0.010131011435459133,
          0.00808314709195679,
          0.006503289712921578,
          0.006239968062583134,
          0.004979261202997587,
          0.004936268517695248,
          0.004586740568563591,
          0.004432693566556949,
          0.0039809173826778205,
          0.003839980346205006
         ]
        },
        {
         "hovertext": "<b>Topic 21</b>:armenian_armenians_turkish_of_geno",
         "line": {
          "color": "black",
          "width": 1.5
         },
         "mode": "lines+lines",
         "name": "",
         "opacity": 0.1,
         "type": "scatter",
         "x": [
          1,
          2,
          3,
          4,
          5,
          6,
          7,
          8,
          9,
          10
         ],
         "y": [
          0.011490933236634459,
          0.008902114674139225,
          0.008650736631971962,
          0.006772654273505218,
          0.0059481053142607775,
          0.005772186783357599,
          0.0054603714496672595,
          0.005170034643091748,
          0.005119796825554389,
          0.004987924356906517
         ]
        },
        {
         "hovertext": "<b>Topic 22</b>:condition_asking_speakers_stereo_o",
         "line": {
          "color": "black",
          "width": 1.5
         },
         "mode": "lines+lines",
         "name": "",
         "opacity": 0.1,
         "type": "scatter",
         "x": [
          1,
          2,
          3,
          4,
          5,
          6,
          7,
          8,
          9,
          10
         ],
         "y": [
          0.009728220085689198,
          0.009534774082193392,
          0.009114970024583734,
          0.0069472673815784165,
          0.0067535763200128615,
          0.006676658017862356,
          0.00660698474787979,
          0.006596752054257749,
          0.006541870298135384,
          0.006521995536024658
         ]
        },
        {
         "hovertext": "<b>Topic 23</b>:islam_rushdie_qur_islamic_qur an_o",
         "line": {
          "color": "black",
          "width": 1.5
         },
         "mode": "lines+lines",
         "name": "",
         "opacity": 0.1,
         "type": "scatter",
         "x": [
          1,
          2,
          3,
          4,
          5,
          6,
          7,
          8,
          9,
          10
         ],
         "y": [
          0.012010982625841283,
          0.007203837996848182,
          0.006808122046632237,
          0.006785146206222528,
          0.0065081826267969585,
          0.005270605625051679,
          0.005166717941655314,
          0.005056676047070264,
          0.0050268843635682126,
          0.004491553793800339
         ]
        },
        {
         "hovertext": "<b>Topic 24</b>:serbs_muslims_bosnia_stephanopoulo",
         "line": {
          "color": "black",
          "width": 1.5
         },
         "mode": "lines+lines",
         "name": "",
         "opacity": 0.1,
         "type": "scatter",
         "x": [
          1,
          2,
          3,
          4,
          5,
          6,
          7,
          8,
          9,
          10
         ],
         "y": [
          0.007686354142535696,
          0.00676381211806402,
          0.006755307661253805,
          0.00640491060940274,
          0.0063689081965167,
          0.006327569357818747,
          0.006062259713329745,
          0.005897759291432407,
          0.005511497869321136,
          0.005210806256710862
         ]
        },
        {
         "hovertext": "<b>Topic 25</b>:ditto_this is test_test_is test_po",
         "line": {
          "color": "black",
          "width": 1.5
         },
         "mode": "lines+lines",
         "name": "",
         "opacity": 0.1,
         "type": "scatter",
         "x": [
          1,
          2,
          3,
          4,
          5,
          6,
          7,
          8,
          9,
          10
         ],
         "y": [
          0.06182280447665919,
          0.05873018215723695,
          0.05487662733421452,
          0.0536442221861509,
          0.04135036272067856,
          0.03770645385526034,
          0.03225136035400792,
          0.023037692674544745,
          0.023037692674544745,
          0.023037692674544745
         ]
        },
        {
         "hovertext": "<b>Topic 26</b>:pain_drug_diet_cancer_cholesterol_",
         "line": {
          "color": "black",
          "width": 1.5
         },
         "mode": "lines+lines",
         "name": "",
         "opacity": 0.1,
         "type": "scatter",
         "x": [
          1,
          2,
          3,
          4,
          5,
          6,
          7,
          8,
          9,
          10
         ],
         "y": [
          0.0065101890133047536,
          0.005084439030212895,
          0.005004138634558977,
          0.004901548638467741,
          0.004711842443254213,
          0.00426441789921126,
          0.004247425636083119,
          0.004121630896778148,
          0.003925256883016212,
          0.0037106051884487714
         ]
        },
        {
         "hovertext": "<b>Topic 27</b>:simms_simm_vram_ram_meg_memory_dra",
         "line": {
          "color": "black",
          "width": 1.5
         },
         "mode": "lines+lines",
         "name": "",
         "opacity": 0.1,
         "type": "scatter",
         "x": [
          1,
          2,
          3,
          4,
          5,
          6,
          7,
          8,
          9,
          10
         ],
         "y": [
          0.038064816813969886,
          0.013732419056782314,
          0.011349130271490667,
          0.009166476713754782,
          0.00856677601300282,
          0.008151741681234462,
          0.007973797761207796,
          0.0064723926500622996,
          0.006038830123365713,
          0.005808164733042977
         ]
        },
        {
         "hovertext": "<b>Topic 28</b>:msg_food_chinese_taste_foods_that_",
         "line": {
          "color": "black",
          "width": 1.5
         },
         "mode": "lines+lines",
         "name": "",
         "opacity": 0.1,
         "type": "scatter",
         "x": [
          1,
          2,
          3,
          4,
          5,
          6,
          7,
          8,
          9,
          10
         ],
         "y": [
          0.023794335694752356,
          0.01510753291125036,
          0.007207008441434699,
          0.006234242894791954,
          0.005886986514540496,
          0.004792384058753308,
          0.004423481652766825,
          0.004363892355879385,
          0.00433743182862652,
          0.00432131505623251
         ]
        },
        {
         "hovertext": "<b>Topic 29</b>:cs colorado_cs colorado edu_colora",
         "line": {
          "color": "black",
          "width": 1.5
         },
         "mode": "lines+lines",
         "name": "",
         "opacity": 0.1,
         "type": "scatter",
         "x": [
          1,
          2,
          3,
          4,
          5,
          6,
          7,
          8,
          9,
          10
         ],
         "y": [
          0.009354932923457727,
          0.009354932923457727,
          0.008576688429490043,
          0.007890573407277801,
          0.0076117906121793205,
          0.006606730690805674,
          0.005933602189397543,
          0.005933602189397543,
          0.005933602189397543,
          0.005811673122693048
         ]
        },
        {
         "hovertext": "<b>Topic 30</b>:drive_drives_disks_mb_hard drive_c",
         "line": {
          "color": "black",
          "width": 1.5
         },
         "mode": "lines+lines",
         "name": "",
         "opacity": 0.1,
         "type": "scatter",
         "x": [
          1,
          2,
          3,
          4,
          5,
          6,
          7,
          8,
          9,
          10
         ],
         "y": [
          0.017343259689474932,
          0.011600190839626885,
          0.007213834078178722,
          0.007013399678840486,
          0.006641865325749587,
          0.006434342794999977,
          0.006381496484107489,
          0.005683174089066872,
          0.005119216141657902,
          0.004831352354236758
         ]
        },
        {
         "hovertext": "<b>Topic 31</b>:modem_fax_modems_the modem_courier",
         "line": {
          "color": "black",
          "width": 1.5
         },
         "mode": "lines+lines",
         "name": "",
         "opacity": 0.1,
         "type": "scatter",
         "x": [
          1,
          2,
          3,
          4,
          5,
          6,
          7,
          8,
          9,
          10
         ],
         "y": [
          0.023705315535006155,
          0.015279984094290024,
          0.010775874114077993,
          0.006953186226781143,
          0.005813529338263153,
          0.005479110252688768,
          0.005066502091874867,
          0.005006327596194913,
          0.004937985309605599,
          0.004691687791301291
         ]
        },
        {
         "hovertext": "<b>Topic 32</b>:picture sleeve_sleeve_picture_00_c",
         "line": {
          "color": "black",
          "width": 1.5
         },
         "mode": "lines+lines",
         "name": "",
         "opacity": 0.1,
         "type": "scatter",
         "x": [
          1,
          2,
          3,
          4,
          5,
          6,
          7,
          8,
          9,
          10
         ],
         "y": [
          0.014061163528807565,
          0.013799070827618526,
          0.011047275499109268,
          0.0101564369943736,
          0.009939749190579952,
          0.009578762647038101,
          0.009299114825663377,
          0.009161938970403826,
          0.00909832735932336,
          0.008867735164162891
         ]
        },
        {
         "hovertext": "<b>Topic 33</b>:dos dos_dos dos dos_dos_windows_mi",
         "line": {
          "color": "black",
          "width": 1.5
         },
         "mode": "lines+lines",
         "name": "",
         "opacity": 0.1,
         "type": "scatter",
         "x": [
          1,
          2,
          3,
          4,
          5,
          6,
          7,
          8,
          9,
          10
         ],
         "y": [
          0.047840311218348947,
          0.04629554941813706,
          0.0434119372045862,
          0.018164181941584624,
          0.014760199011586303,
          0.01337435064122816,
          0.013324361324969258,
          0.013215132181213536,
          0.012277889546631126,
          0.010594149219747903
         ]
        },
        {
         "hovertext": "<b>Topic 34</b>:doctor_medical_of_and_doctors_medi",
         "line": {
          "color": "black",
          "width": 1.5
         },
         "mode": "lines+lines",
         "name": "",
         "opacity": 0.1,
         "type": "scatter",
         "x": [
          1,
          2,
          3,
          4,
          5,
          6,
          7,
          8,
          9,
          10
         ],
         "y": [
          0.005352549685435014,
          0.004946028116155333,
          0.00442961443025235,
          0.004227951195709375,
          0.004048713991649984,
          0.0038607424770572144,
          0.0038163603767583714,
          0.0037907612978244046,
          0.0037354195386227846,
          0.0036660111327741474
         ]
        },
        {
         "hovertext": "<b>Topic 35</b>:games_sega_cd_game_genesis_for sal",
         "line": {
          "color": "black",
          "width": 1.5
         },
         "mode": "lines+lines",
         "name": "",
         "opacity": 0.1,
         "type": "scatter",
         "x": [
          1,
          2,
          3,
          4,
          5,
          6,
          7,
          8,
          9,
          10
         ],
         "y": [
          0.01840509275704133,
          0.012224771516918137,
          0.011426251537416816,
          0.009248109981628897,
          0.008093047942720746,
          0.0064786724088937535,
          0.006337090065512818,
          0.006187447530568082,
          0.0061674657393958965,
          0.006156306472579794
         ]
        },
        {
         "hovertext": "<b>Topic 36</b>:kinsey_men_sex_gay_sexual_homosexu",
         "line": {
          "color": "black",
          "width": 1.5
         },
         "mode": "lines+lines",
         "name": "",
         "opacity": 0.1,
         "type": "scatter",
         "x": [
          1,
          2,
          3,
          4,
          5,
          6,
          7,
          8,
          9,
          10
         ],
         "y": [
          0.01648843249371859,
          0.012268744838842145,
          0.011917230632843456,
          0.011550700193746388,
          0.009133727780734874,
          0.008404013420202786,
          0.006586580700824646,
          0.005839449487122597,
          0.005634082775556795,
          0.005399471611823224
         ]
        },
        {
         "hovertext": "<b>Topic 37</b>:_________",
         "line": {
          "color": "black",
          "width": 1.5
         },
         "mode": "lines+lines",
         "name": "",
         "opacity": 0.1,
         "type": "scatter",
         "x": [
          1,
          2,
          3,
          4,
          5,
          6,
          7,
          8,
          9,
          10
         ],
         "y": [
          0.00001,
          0.00001,
          0.00001,
          0.00001,
          0.00001,
          0.00001,
          0.00001,
          0.00001,
          0.00001,
          0.00001
         ]
        },
        {
         "hovertext": "<b>Topic 38</b>:homosexuality_homosexual_paul_that",
         "line": {
          "color": "black",
          "width": 1.5
         },
         "mode": "lines+lines",
         "name": "",
         "opacity": 0.1,
         "type": "scatter",
         "x": [
          1,
          2,
          3,
          4,
          5,
          6,
          7,
          8,
          9,
          10
         ],
         "y": [
          0.009961013732287787,
          0.00985900986626966,
          0.007028493757715242,
          0.005650639089762358,
          0.004843678307323267,
          0.004749245516353623,
          0.004726802710603203,
          0.004682562736133316,
          0.004446440344226014,
          0.004388623660384545
         ]
        },
        {
         "hovertext": "<b>Topic 39</b>:sky_advertising_space_light_billbo",
         "line": {
          "color": "black",
          "width": 1.5
         },
         "mode": "lines+lines",
         "name": "",
         "opacity": 0.1,
         "type": "scatter",
         "x": [
          1,
          2,
          3,
          4,
          5,
          6,
          7,
          8,
          9,
          10
         ],
         "y": [
          0.011753418228244127,
          0.008195209937137855,
          0.007483266447171668,
          0.006728565996713773,
          0.006260163292475422,
          0.0058130087715843205,
          0.005030731551242076,
          0.004966518032941755,
          0.004825385494690905,
          0.004612565480830094
         ]
        },
        {
         "hovertext": "<b>Topic 40</b>:batf_the batf_they_warrant_fbi_rai",
         "line": {
          "color": "black",
          "width": 1.5
         },
         "mode": "lines+lines",
         "name": "",
         "opacity": 0.1,
         "type": "scatter",
         "x": [
          1,
          2,
          3,
          4,
          5,
          6,
          7,
          8,
          9,
          10
         ],
         "y": [
          0.02003031816811178,
          0.015756718233680522,
          0.007475671501904429,
          0.007355521014091855,
          0.006999690582160308,
          0.006545318975639007,
          0.006168524987182346,
          0.005808427110995255,
          0.005345903230831456,
          0.004845013811816429
         ]
        },
        {
         "hovertext": "<b>Topic 41</b>:smiley_bolick_maddi_bolick or fran",
         "line": {
          "color": "black",
          "width": 1.5
         },
         "mode": "lines+lines",
         "name": "",
         "opacity": 0.1,
         "type": "scatter",
         "x": [
          1,
          2,
          3,
          4,
          5,
          6,
          7,
          8,
          9,
          10
         ],
         "y": [
          0.016435620929443413,
          0.012511944043157832,
          0.011258679407537175,
          0.011081837192079908,
          0.011081837192079908,
          0.011081837192079908,
          0.0101215464246478,
          0.009526024648905654,
          0.008706151510443976,
          0.007897554221715212
         ]
        },
        {
         "hovertext": "<b>Topic 42</b>:os_windows_nt_windows nt_apps_dos_",
         "line": {
          "color": "black",
          "width": 1.5
         },
         "mode": "lines+lines",
         "name": "",
         "opacity": 0.1,
         "type": "scatter",
         "x": [
          1,
          2,
          3,
          4,
          5,
          6,
          7,
          8,
          9,
          10
         ],
         "y": [
          0.025890890787848817,
          0.024413875166614727,
          0.016794781254324962,
          0.010054995817296117,
          0.009835676596667202,
          0.00762006602478839,
          0.007584043959949227,
          0.006324154577117113,
          0.005751751822981186,
          0.004962804735072499
         ]
        },
        {
         "hovertext": "<b>Topic 43</b>:polygon_xxxx_xxxx xxxx_edge_xxxx x",
         "line": {
          "color": "black",
          "width": 1.5
         },
         "mode": "lines+lines",
         "name": "",
         "opacity": 0.1,
         "type": "scatter",
         "x": [
          1,
          2,
          3,
          4,
          5,
          6,
          7,
          8,
          9,
          10
         ],
         "y": [
          0.011858673749434744,
          0.008731677840753637,
          0.008453465707742839,
          0.008202693447622105,
          0.008118443571776067,
          0.006866131399678085,
          0.0068238385640236095,
          0.005864101797900438,
          0.005721695847661775,
          0.005626755309017777
         ]
        },
        {
         "hovertext": "<b>Topic 44</b>:scsi_ide_drive_controller_bit_asyn",
         "line": {
          "color": "black",
          "width": 1.5
         },
         "mode": "lines+lines",
         "name": "",
         "opacity": 0.1,
         "type": "scatter",
         "x": [
          1,
          2,
          3,
          4,
          5,
          6,
          7,
          8,
          9,
          10
         ],
         "y": [
          0.062281574121469924,
          0.0170892935442022,
          0.009383040001142024,
          0.008684658327921552,
          0.008077108739610216,
          0.007503832216377766,
          0.0070347330664557745,
          0.006768071291318733,
          0.006716789300452572,
          0.00665398858972616
         ]
        },
        {
         "hovertext": "<b>Topic 45</b>:colormap_dpy_color_visual_window_g",
         "line": {
          "color": "black",
          "width": 1.5
         },
         "mode": "lines+lines",
         "name": "",
         "opacity": 0.1,
         "type": "scatter",
         "x": [
          1,
          2,
          3,
          4,
          5,
          6,
          7,
          8,
          9,
          10
         ],
         "y": [
          0.016541375729052926,
          0.014693968381112055,
          0.01197184385809944,
          0.010219501587347746,
          0.009299183195429604,
          0.00819241287551176,
          0.007591619999247495,
          0.007554769352102005,
          0.006725867547498228,
          0.006611938807910407
         ]
        },
        {
         "hovertext": "<b>Topic 46</b>:printer_deskjet_hp_ink_printers_la",
         "line": {
          "color": "black",
          "width": 1.5
         },
         "mode": "lines+lines",
         "name": "",
         "opacity": 0.1,
         "type": "scatter",
         "x": [
          1,
          2,
          3,
          4,
          5,
          6,
          7,
          8,
          9,
          10
         ],
         "y": [
          0.016812876079753368,
          0.0125894710592561,
          0.01249214573505953,
          0.012204196268605829,
          0.011039242999223852,
          0.010531176689413587,
          0.007398645009218428,
          0.007213087968693875,
          0.007123583335018796,
          0.006839382677709641
         ]
        },
        {
         "hovertext": "<b>Topic 47</b>:wave_bike_bikers_my_ride_harley_ri",
         "line": {
          "color": "black",
          "width": 1.5
         },
         "mode": "lines+lines",
         "name": "",
         "opacity": 0.1,
         "type": "scatter",
         "x": [
          1,
          2,
          3,
          4,
          5,
          6,
          7,
          8,
          9,
          10
         ],
         "y": [
          0.012687857972910133,
          0.008312041159636501,
          0.007883809317685921,
          0.007512521287268562,
          0.007434091431473641,
          0.007134372482622316,
          0.00653798467838313,
          0.006384156912003323,
          0.0051784220413419015,
          0.005154029450924489
         ]
        },
        {
         "hovertext": "<b>Topic 48</b>:we_tax_senior administration_senio",
         "line": {
          "color": "black",
          "width": 1.5
         },
         "mode": "lines+lines",
         "name": "",
         "opacity": 0.1,
         "type": "scatter",
         "x": [
          1,
          2,
          3,
          4,
          5,
          6,
          7,
          8,
          9,
          10
         ],
         "y": [
          0.008447796592276714,
          0.007645410884589032,
          0.007465007113874796,
          0.007339625601324989,
          0.007339625601324989,
          0.0071552433876673665,
          0.006829121682693368,
          0.006210624011246204,
          0.0054315533843452765,
          0.005257175499173313
         ]
        },
        {
         "hovertext": "<b>Topic 49</b>:reno_waco_president_that_the_fbi_f",
         "line": {
          "color": "black",
          "width": 1.5
         },
         "mode": "lines+lines",
         "name": "",
         "opacity": 0.1,
         "type": "scatter",
         "x": [
          1,
          2,
          3,
          4,
          5,
          6,
          7,
          8,
          9,
          10
         ],
         "y": [
          0.0073628392376900225,
          0.006334174834319085,
          0.006112809696195338,
          0.005433950550739542,
          0.0054137394424293005,
          0.005410731036394985,
          0.005279649588194781,
          0.00520877983121592,
          0.005200796035856732,
          0.00518046863828111
         ]
        },
        {
         "hovertext": "<b>Topic 50</b>:science_of_theory_larson_is_univer",
         "line": {
          "color": "black",
          "width": 1.5
         },
         "mode": "lines+lines",
         "name": "",
         "opacity": 0.1,
         "type": "scatter",
         "x": [
          1,
          2,
          3,
          4,
          5,
          6,
          7,
          8,
          9,
          10
         ],
         "y": [
          0.007640133867126146,
          0.00649213684386566,
          0.006161226960348488,
          0.006149583187762438,
          0.00487766074806384,
          0.0045441091818130405,
          0.004367651443777725,
          0.004308938333316076,
          0.004195088442787132,
          0.004012963298862333
         ]
        },
        {
         "hovertext": "<b>Topic 51</b>:candida_yeast_infection_of_in_gono",
         "line": {
          "color": "black",
          "width": 1.5
         },
         "mode": "lines+lines",
         "name": "",
         "opacity": 0.1,
         "type": "scatter",
         "x": [
          1,
          2,
          3,
          4,
          5,
          6,
          7,
          8,
          9,
          10
         ],
         "y": [
          0.009957907487674967,
          0.006941181113207524,
          0.005124028763905236,
          0.004653210969486268,
          0.004647312383467876,
          0.0045924333404473525,
          0.0044870758927359625,
          0.0043864141824376205,
          0.004326339452165784,
          0.004231908562486279
         ]
        },
        {
         "hovertext": "<b>Topic 52</b>:koresh_batf_the batf_fbi_the fbi_w",
         "line": {
          "color": "black",
          "width": 1.5
         },
         "mode": "lines+lines",
         "name": "",
         "opacity": 0.1,
         "type": "scatter",
         "x": [
          1,
          2,
          3,
          4,
          5,
          6,
          7,
          8,
          9,
          10
         ],
         "y": [
          0.01714587820940487,
          0.008750479144529444,
          0.0067976582223447405,
          0.00660446990531206,
          0.0062939923073835865,
          0.005955073686219428,
          0.005807944253475239,
          0.005329146805555951,
          0.005007866891522298,
          0.004726522715830429
         ]
        },
        {
         "hovertext": "<b>Topic 53</b>:mary_her_she_was_sin_god_bernadett",
         "line": {
          "color": "black",
          "width": 1.5
         },
         "mode": "lines+lines",
         "name": "",
         "opacity": 0.1,
         "type": "scatter",
         "x": [
          1,
          2,
          3,
          4,
          5,
          6,
          7,
          8,
          9,
          10
         ],
         "y": [
          0.02052341405710094,
          0.013646480580054623,
          0.013503047336765843,
          0.007035750047463364,
          0.006723111494306747,
          0.006639042745195274,
          0.006270462013365853,
          0.006125428314062247,
          0.00597476934204228,
          0.005916558995992312
         ]
        },
        {
         "hovertext": "<b>Topic 54</b>:card_board_it_pin_help_on_anyone_w",
         "line": {
          "color": "black",
          "width": 1.5
         },
         "mode": "lines+lines",
         "name": "",
         "opacity": 0.1,
         "type": "scatter",
         "x": [
          1,
          2,
          3,
          4,
          5,
          6,
          7,
          8,
          9,
          10
         ],
         "y": [
          0.007136320531934168,
          0.006877494882233845,
          0.005700825319112023,
          0.005629334788771132,
          0.004720539939274329,
          0.0046963739454374265,
          0.004274312772504999,
          0.0041600007729165715,
          0.004147210997066946,
          0.004095211692730361
         ]
        },
        {
         "hovertext": "<b>Topic 55</b>:hst_mission_the hst_shuttle_orbit_",
         "line": {
          "color": "black",
          "width": 1.5
         },
         "mode": "lines+lines",
         "name": "",
         "opacity": 0.1,
         "type": "scatter",
         "x": [
          1,
          2,
          3,
          4,
          5,
          6,
          7,
          8,
          9,
          10
         ],
         "y": [
          0.021108635996672655,
          0.011087928912669472,
          0.01087330071414156,
          0.009888860417972729,
          0.009721058854239652,
          0.008927314750161319,
          0.007532667400608522,
          0.006877774119612814,
          0.006194072436337356,
          0.0061449589966489715
         ]
        },
        {
         "hovertext": "<b>Topic 56</b>:copy_copy protection_protection_pr",
         "line": {
          "color": "black",
          "width": 1.5
         },
         "mode": "lines+lines",
         "name": "",
         "opacity": 0.1,
         "type": "scatter",
         "x": [
          1,
          2,
          3,
          4,
          5,
          6,
          7,
          8,
          9,
          10
         ],
         "y": [
          0.01414997133885312,
          0.01030272265923262,
          0.008420888935571075,
          0.008080273059299821,
          0.006799155163811761,
          0.006534041968899965,
          0.006179571302937005,
          0.004750247470619428,
          0.004631368164666395,
          0.004479951184750278
         ]
        },
        {
         "hovertext": "<b>Topic 57</b>:hell_eternal_god_that_jesus_he_is_",
         "line": {
          "color": "black",
          "width": 1.5
         },
         "mode": "lines+lines",
         "name": "",
         "opacity": 0.1,
         "type": "scatter",
         "x": [
          1,
          2,
          3,
          4,
          5,
          6,
          7,
          8,
          9,
          10
         ],
         "y": [
          0.018113422085175274,
          0.009413882995133533,
          0.00798475888652384,
          0.006080835525233974,
          0.005992831989330343,
          0.0051622922066777545,
          0.005075167416272859,
          0.005004341505155168,
          0.004853234378853376,
          0.004686957358713918
         ]
        },
        {
         "hovertext": "<b>Topic 58</b>:venus_space_planet_earth_spacecraf",
         "line": {
          "color": "black",
          "width": 1.5
         },
         "mode": "lines+lines",
         "name": "",
         "opacity": 0.1,
         "type": "scatter",
         "x": [
          1,
          2,
          3,
          4,
          5,
          6,
          7,
          8,
          9,
          10
         ],
         "y": [
          0.008072001049944478,
          0.007827960437828248,
          0.0073685096555476965,
          0.006353317347638893,
          0.006280967746000734,
          0.00565114669976385,
          0.005284623445366943,
          0.005263679158042123,
          0.004921381312215759,
          0.004721745102569944
         ]
        },
        {
         "hovertext": "<b>Topic 59</b>:jehovah_elohim_lord_lord jehovah_t",
         "line": {
          "color": "black",
          "width": 1.5
         },
         "mode": "lines+lines",
         "name": "",
         "opacity": 0.1,
         "type": "scatter",
         "x": [
          1,
          2,
          3,
          4,
          5,
          6,
          7,
          8,
          9,
          10
         ],
         "y": [
          0.018553495499449943,
          0.014863751826371598,
          0.010935284804017814,
          0.009768464293242215,
          0.009340120142544319,
          0.009125840421278255,
          0.00820565349175324,
          0.0074208000157353834,
          0.006230887377166682,
          0.00621162807384805
         ]
        },
        {
         "hovertext": "<b>Topic 60</b>:duo_date_bios_clock_system_the dat",
         "line": {
          "color": "black",
          "width": 1.5
         },
         "mode": "lines+lines",
         "name": "",
         "opacity": 0.1,
         "type": "scatter",
         "x": [
          1,
          2,
          3,
          4,
          5,
          6,
          7,
          8,
          9,
          10
         ],
         "y": [
          0.014360649085918492,
          0.009546654869115233,
          0.009197846459727824,
          0.009115200618637022,
          0.008654509272442375,
          0.008529842886042182,
          0.008308205211437943,
          0.007534185039557699,
          0.007013134563988637,
          0.006982200468625262
         ]
        },
        {
         "hovertext": "<b>Topic 61</b>:miles_toyota_car_condition_000_am ",
         "line": {
          "color": "black",
          "width": 1.5
         },
         "mode": "lines+lines",
         "name": "",
         "opacity": 0.1,
         "type": "scatter",
         "x": [
          1,
          2,
          3,
          4,
          5,
          6,
          7,
          8,
          9,
          10
         ],
         "y": [
          0.020744017417264896,
          0.012506826758721343,
          0.012204375681374186,
          0.012099192429772403,
          0.011907455458194981,
          0.010833137031754978,
          0.009953041749936598,
          0.009409565257506507,
          0.00925293483372712,
          0.009085986619540447
         ]
        },
        {
         "hovertext": "<b>Topic 62</b>:mouse_the mouse_driver_mice_ball_p",
         "line": {
          "color": "black",
          "width": 1.5
         },
         "mode": "lines+lines",
         "name": "",
         "opacity": 0.1,
         "type": "scatter",
         "x": [
          1,
          2,
          3,
          4,
          5,
          6,
          7,
          8,
          9,
          10
         ],
         "y": [
          0.050062449693417166,
          0.01873770397887674,
          0.009953761917159628,
          0.007332839756336729,
          0.006679753545018185,
          0.006373496500787479,
          0.0060607158789604985,
          0.005918665305784733,
          0.005566121791860835,
          0.005352316221811999
         ]
        },
        {
         "hovertext": "<b>Topic 63</b>:paint_wax_plastic_car_scratches_it",
         "line": {
          "color": "black",
          "width": 1.5
         },
         "mode": "lines+lines",
         "name": "",
         "opacity": 0.1,
         "type": "scatter",
         "x": [
          1,
          2,
          3,
          4,
          5,
          6,
          7,
          8,
          9,
          10
         ],
         "y": [
          0.015058416716709178,
          0.01349964514891433,
          0.011462256810718394,
          0.008656163795221538,
          0.007448706769963342,
          0.006690858957636869,
          0.006656722332449699,
          0.006273498526271527,
          0.0061176890276780135,
          0.006098767759456285
         ]
        },
        {
         "hovertext": "<b>Topic 64</b>:jesus_tomb_resurrection_he_that_th",
         "line": {
          "color": "black",
          "width": 1.5
         },
         "mode": "lines+lines",
         "name": "",
         "opacity": 0.1,
         "type": "scatter",
         "x": [
          1,
          2,
          3,
          4,
          5,
          6,
          7,
          8,
          9,
          10
         ],
         "y": [
          0.009845444239384105,
          0.007306757216596882,
          0.005995708188821449,
          0.005823920334875434,
          0.005733327700336159,
          0.005328255739021486,
          0.00518984052611564,
          0.005052988573132787,
          0.004364958292799152,
          0.0039681000982280355
         ]
        },
        {
         "hovertext": "<b>Topic 65</b>:militia_amendment_the people_keep ",
         "line": {
          "color": "black",
          "width": 1.5
         },
         "mode": "lines+lines",
         "name": "",
         "opacity": 0.1,
         "type": "scatter",
         "x": [
          1,
          2,
          3,
          4,
          5,
          6,
          7,
          8,
          9,
          10
         ],
         "y": [
          0.018098162216797054,
          0.013077706020694777,
          0.011579933332374212,
          0.010540747951305066,
          0.010284586771505374,
          0.010211698752220456,
          0.01020639012289055,
          0.010132777945061032,
          0.010048843696606838,
          0.009916386251708107
         ]
        },
        {
         "hovertext": "<b>Topic 66</b>:lib_ndet_loop_libxmu_lib xmu_xmu_l",
         "line": {
          "color": "black",
          "width": 1.5
         },
         "mode": "lines+lines",
         "name": "",
         "opacity": 0.1,
         "type": "scatter",
         "x": [
          1,
          2,
          3,
          4,
          5,
          6,
          7,
          8,
          9,
          10
         ],
         "y": [
          0.03305924186904152,
          0.02554441072760841,
          0.025130160238324133,
          0.02288949639255506,
          0.022801085815149096,
          0.021995730710580787,
          0.021995730710580787,
          0.01584324071799871,
          0.014385251330492286,
          0.013964631089248811
         ]
        },
        {
         "hovertext": "<b>Topic 67</b>:radar_detector_detectors_radar det",
         "line": {
          "color": "black",
          "width": 1.5
         },
         "mode": "lines+lines",
         "name": "",
         "opacity": 0.1,
         "type": "scatter",
         "x": [
          1,
          2,
          3,
          4,
          5,
          6,
          7,
          8,
          9,
          10
         ],
         "y": [
          0.02906990655567323,
          0.01897719903981371,
          0.013142621528518635,
          0.012804967334120771,
          0.007978292762413266,
          0.007885142729766613,
          0.00598371957180995,
          0.005311298322749146,
          0.005034313013396481,
          0.004769687557270558
         ]
        },
        {
         "hovertext": "<b>Topic 68</b>:battery_the battery_batteries_conc",
         "line": {
          "color": "black",
          "width": 1.5
         },
         "mode": "lines+lines",
         "name": "",
         "opacity": 0.1,
         "type": "scatter",
         "x": [
          1,
          2,
          3,
          4,
          5,
          6,
          7,
          8,
          9,
          10
         ],
         "y": [
          0.03619918888076122,
          0.024352917167530203,
          0.016464123490844897,
          0.013349300926416988,
          0.010766372073097205,
          0.010673850718805916,
          0.008966905926328395,
          0.00857733964568563,
          0.008072790254762945,
          0.00781449088847891
         ]
        },
        {
         "hovertext": "<b>Topic 69</b>:kuwait_iran_iraq_of kuwait_gulf_th",
         "line": {
          "color": "black",
          "width": 1.5
         },
         "mode": "lines+lines",
         "name": "",
         "opacity": 0.1,
         "type": "scatter",
         "x": [
          1,
          2,
          3,
          4,
          5,
          6,
          7,
          8,
          9,
          10
         ],
         "y": [
          0.01728967908745618,
          0.008946423478707772,
          0.008389332627598544,
          0.006576553452728709,
          0.006520576127309163,
          0.005620116117543933,
          0.0053323021984156265,
          0.005317993238983783,
          0.00503938841456813,
          0.005037222070770691
         ]
        },
        {
         "hovertext": "<b>Topic 70</b>:government_libertarians_libertaria",
         "line": {
          "color": "black",
          "width": 1.5
         },
         "mode": "lines+lines",
         "name": "",
         "opacity": 0.1,
         "type": "scatter",
         "x": [
          1,
          2,
          3,
          4,
          5,
          6,
          7,
          8,
          9,
          10
         ],
         "y": [
          0.012467738061434506,
          0.008343838089733335,
          0.007478439344019023,
          0.005467666356944016,
          0.004913519501365814,
          0.00478204332662668,
          0.004659867132117323,
          0.004566226131983665,
          0.004520984355989973,
          0.0043826828341014135
         ]
        },
        {
         "hovertext": "<b>Topic 71</b>:books_canon_scripture_of_the_bible",
         "line": {
          "color": "black",
          "width": 1.5
         },
         "mode": "lines+lines",
         "name": "",
         "opacity": 0.1,
         "type": "scatter",
         "x": [
          1,
          2,
          3,
          4,
          5,
          6,
          7,
          8,
          9,
          10
         ],
         "y": [
          0.009002646215174529,
          0.006747705107819158,
          0.006726495009207265,
          0.006384253469768121,
          0.006159047035760962,
          0.006015200075618554,
          0.005394019873789744,
          0.005383276972582419,
          0.0051896892276859065,
          0.004508755508909212
         ]
        },
        {
         "hovertext": "<b>Topic 72</b>:hotel_voucher_package_the voucher_",
         "line": {
          "color": "black",
          "width": 1.5
         },
         "mode": "lines+lines",
         "name": "",
         "opacity": 0.1,
         "type": "scatter",
         "x": [
          1,
          2,
          3,
          4,
          5,
          6,
          7,
          8,
          9,
          10
         ],
         "y": [
          0.014376488048182173,
          0.013180087527456951,
          0.010077753316980468,
          0.009867726596557857,
          0.009100645027097964,
          0.008034963510399012,
          0.007960457838796403,
          0.0074336990632548694,
          0.007278176694034499,
          0.006195316654945768
         ]
        },
        {
         "hovertext": "<b>Topic 73</b>:cop_ticket_drunk_dwi_you_the cop_d",
         "line": {
          "color": "black",
          "width": 1.5
         },
         "mode": "lines+lines",
         "name": "",
         "opacity": 0.1,
         "type": "scatter",
         "x": [
          1,
          2,
          3,
          4,
          5,
          6,
          7,
          8,
          9,
          10
         ],
         "y": [
          0.009447438142891054,
          0.007109353838864001,
          0.006925734737238191,
          0.00597452746286394,
          0.005847329926579084,
          0.005674601296068588,
          0.005589101691707673,
          0.005239325329829165,
          0.004692747994856905,
          0.004564139444167396
         ]
        },
        {
         "hovertext": "<b>Topic 74</b>:they_were_was_we_he_azerbaijan_arm",
         "line": {
          "color": "black",
          "width": 1.5
         },
         "mode": "lines+lines",
         "name": "",
         "opacity": 0.1,
         "type": "scatter",
         "x": [
          1,
          2,
          3,
          4,
          5,
          6,
          7,
          8,
          9,
          10
         ],
         "y": [
          0.007581626459198201,
          0.007210336460876129,
          0.006587983750301366,
          0.005423130930393305,
          0.005337219316070223,
          0.00533599467905815,
          0.005327822498746787,
          0.005307667352640858,
          0.005019876502605794,
          0.00490231857200977
         ]
        },
        {
         "hovertext": "<b>Topic 75</b>:greek_greece_turkish_greeks_the gr",
         "line": {
          "color": "black",
          "width": 1.5
         },
         "mode": "lines+lines",
         "name": "",
         "opacity": 0.1,
         "type": "scatter",
         "x": [
          1,
          2,
          3,
          4,
          5,
          6,
          7,
          8,
          9,
          10
         ],
         "y": [
          0.01771275705999074,
          0.01133588718865266,
          0.010011204636653745,
          0.009634228379557233,
          0.00908353686811314,
          0.007244413905050731,
          0.0067426329670267566,
          0.006026855845370374,
          0.005662973691589091,
          0.005627626903515465
         ]
        },
        {
         "hovertext": "<b>Topic 76</b>:insurance_geico_car_accident_you_s",
         "line": {
          "color": "black",
          "width": 1.5
         },
         "mode": "lines+lines",
         "name": "",
         "opacity": 0.1,
         "type": "scatter",
         "x": [
          1,
          2,
          3,
          4,
          5,
          6,
          7,
          8,
          9,
          10
         ],
         "y": [
          0.024933891063238865,
          0.012660462957200322,
          0.009711062093477595,
          0.006894382712693738,
          0.0061505501889731005,
          0.006088329161759137,
          0.005991943706862239,
          0.005663706565246836,
          0.0052704845387590606,
          0.005185262995979996
         ]
        },
        {
         "hovertext": "<b>Topic 77</b>:lane_car_you_traffic_behind_bike_m",
         "line": {
          "color": "black",
          "width": 1.5
         },
         "mode": "lines+lines",
         "name": "",
         "opacity": 0.1,
         "type": "scatter",
         "x": [
          1,
          2,
          3,
          4,
          5,
          6,
          7,
          8,
          9,
          10
         ],
         "y": [
          0.00983901732876005,
          0.008082655342547066,
          0.006992065147808606,
          0.006895384179884522,
          0.005961345812583484,
          0.005827919641466136,
          0.0054521618719506025,
          0.004639054751552143,
          0.004582822916169372,
          0.004565637616526546
         ]
        },
        {
         "hovertext": "<b>Topic 78</b>:drugs_drug_the drug_drug users_coc",
         "line": {
          "color": "black",
          "width": 1.5
         },
         "mode": "lines+lines",
         "name": "",
         "opacity": 0.1,
         "type": "scatter",
         "x": [
          1,
          2,
          3,
          4,
          5,
          6,
          7,
          8,
          9,
          10
         ],
         "y": [
          0.02806523830786254,
          0.026260973999805683,
          0.007853908577822897,
          0.007375864101897483,
          0.00660717257528244,
          0.006464203112440755,
          0.006438150504786688,
          0.005841930708620789,
          0.00574607504965979,
          0.005364264801379988
         ]
        },
        {
         "hovertext": "<b>Topic 79</b>:clutch_transmission_shift_the clut",
         "line": {
          "color": "black",
          "width": 1.5
         },
         "mode": "lines+lines",
         "name": "",
         "opacity": 0.1,
         "type": "scatter",
         "x": [
          1,
          2,
          3,
          4,
          5,
          6,
          7,
          8,
          9,
          10
         ],
         "y": [
          0.015190764764172485,
          0.011486435793558243,
          0.011342718334204815,
          0.010870423138728014,
          0.010434594787142919,
          0.009794747820464491,
          0.009069492709088753,
          0.008692888603698884,
          0.008234974535767275,
          0.007595382382086242
         ]
        },
        {
         "hovertext": "<b>Topic 80</b>:dog_the dog_dogs_bike_dog is_me_my",
         "line": {
          "color": "black",
          "width": 1.5
         },
         "mode": "lines+lines",
         "name": "",
         "opacity": 0.1,
         "type": "scatter",
         "x": [
          1,
          2,
          3,
          4,
          5,
          6,
          7,
          8,
          9,
          10
         ],
         "y": [
          0.04106723725349219,
          0.021001750768018683,
          0.0116355614889088,
          0.006076279916042074,
          0.005678305949577029,
          0.004767388951592483,
          0.004729791776004769,
          0.004722650081220853,
          0.004600702920294453,
          0.004449795054278582
         ]
        },
        {
         "hovertext": "<b>Topic 81</b>:odometer_sensor_alarm_car_the car_",
         "line": {
          "color": "black",
          "width": 1.5
         },
         "mode": "lines+lines",
         "name": "",
         "opacity": 0.1,
         "type": "scatter",
         "x": [
          1,
          2,
          3,
          4,
          5,
          6,
          7,
          8,
          9,
          10
         ],
         "y": [
          0.014816577840645306,
          0.013810000698276528,
          0.013072347943644697,
          0.012316610974244635,
          0.007720473162920922,
          0.006885200172438038,
          0.006796248153597854,
          0.006667419772906009,
          0.006539505248316871,
          0.0060129679634034474
         ]
        },
        {
         "hovertext": "<b>Topic 82</b>:celp_voice_speech_dsp_compression_",
         "line": {
          "color": "black",
          "width": 1.5
         },
         "mode": "lines+lines",
         "name": "",
         "opacity": 0.1,
         "type": "scatter",
         "x": [
          1,
          2,
          3,
          4,
          5,
          6,
          7,
          8,
          9,
          10
         ],
         "y": [
          0.011780614804942306,
          0.010824183457706823,
          0.010640273630234502,
          0.007920821636235337,
          0.007170895619474759,
          0.005367522076736607,
          0.005197057542973626,
          0.004885734074272845,
          0.0047209581746879056,
          0.004597442628800608
         ]
        },
        {
         "hovertext": "<b>Topic 83</b>:oort_oort cloud_cloud_the oort_gam",
         "line": {
          "color": "black",
          "width": 1.5
         },
         "mode": "lines+lines",
         "name": "",
         "opacity": 0.1,
         "type": "scatter",
         "x": [
          1,
          2,
          3,
          4,
          5,
          6,
          7,
          8,
          9,
          10
         ],
         "y": [
          0.016548432891774944,
          0.012999590088911795,
          0.011930888837494364,
          0.011158305399285404,
          0.009825334342829308,
          0.009034529786186726,
          0.00887398002935723,
          0.008443070976511773,
          0.00764128388881624,
          0.007392797824696818
         ]
        },
        {
         "hovertext": "<b>Topic 84</b>:god_existence_exist_why_is_not_tha",
         "line": {
          "color": "black",
          "width": 1.5
         },
         "mode": "lines+lines",
         "name": "",
         "opacity": 0.1,
         "type": "scatter",
         "x": [
          1,
          2,
          3,
          4,
          5,
          6,
          7,
          8,
          9,
          10
         ],
         "y": [
          0.007158951652969725,
          0.007110031189473108,
          0.006130820791796337,
          0.005829026904357111,
          0.005795512690125149,
          0.005051862582311914,
          0.004989340523334409,
          0.004953864072169033,
          0.004763447754067857,
          0.004670847468149853
         ]
        },
        {
         "hovertext": "<b>Topic 85</b>:tape_the tape_backup_tapes_tape dr",
         "line": {
          "color": "black",
          "width": 1.5
         },
         "mode": "lines+lines",
         "name": "",
         "opacity": 0.1,
         "type": "scatter",
         "x": [
          1,
          2,
          3,
          4,
          5,
          6,
          7,
          8,
          9,
          10
         ],
         "y": [
          0.041653005346011865,
          0.022200095469540958,
          0.013584950372495654,
          0.0132610549567685,
          0.01185765284739747,
          0.011343858675219129,
          0.010428219671656672,
          0.0076547118138743245,
          0.00733575831931885,
          0.0063616392858923294
         ]
        },
        {
         "hovertext": "<b>Topic 86</b>:ra_satan_god_thou_lucifer_of god_t",
         "line": {
          "color": "black",
          "width": 1.5
         },
         "mode": "lines+lines",
         "name": "",
         "opacity": 0.1,
         "type": "scatter",
         "x": [
          1,
          2,
          3,
          4,
          5,
          6,
          7,
          8,
          9,
          10
         ],
         "y": [
          0.021869487831645277,
          0.014122941281513732,
          0.010489258310035611,
          0.00802439845540553,
          0.007511248648834802,
          0.006724256528164269,
          0.006578000051831648,
          0.006319794349636379,
          0.006290554203894852,
          0.006066253941101733
         ]
        },
        {
         "hovertext": "<b>Topic 87</b>:water_water dept_mwra_dept_energy_",
         "line": {
          "color": "black",
          "width": 1.5
         },
         "mode": "lines+lines",
         "name": "",
         "opacity": 0.1,
         "type": "scatter",
         "x": [
          1,
          2,
          3,
          4,
          5,
          6,
          7,
          8,
          9,
          10
         ],
         "y": [
          0.01471936183058084,
          0.009798149933271171,
          0.009798149933271171,
          0.00816542502876187,
          0.0069124634715996116,
          0.006833373961293344,
          0.004779205939861993,
          0.0044760541388278,
          0.004040641613718689,
          0.0038486310580037827
         ]
        },
        {
         "hovertext": "<b>Topic 88</b>:mhz_50_486dx2_bus_486dx2 50_66_spe",
         "line": {
          "color": "black",
          "width": 1.5
         },
         "mode": "lines+lines",
         "name": "",
         "opacity": 0.1,
         "type": "scatter",
         "x": [
          1,
          2,
          3,
          4,
          5,
          6,
          7,
          8,
          9,
          10
         ],
         "y": [
          0.02194180503341126,
          0.01944878946619218,
          0.019422869639609115,
          0.017124294720493868,
          0.01656710525304244,
          0.01433842811491507,
          0.01320229377710307,
          0.01117978958821945,
          0.011150152633486498,
          0.009798603695667775
         ]
        },
        {
         "hovertext": "<b>Topic 89</b>:graphics_edu_pub_ray_128_ftp_3d_ma",
         "line": {
          "color": "black",
          "width": 1.5
         },
         "mode": "lines+lines",
         "name": "",
         "opacity": 0.1,
         "type": "scatter",
         "x": [
          1,
          2,
          3,
          4,
          5,
          6,
          7,
          8,
          9,
          10
         ],
         "y": [
          0.009797870214694466,
          0.008319383218903959,
          0.007644877046750623,
          0.005567370692098184,
          0.005400686994970713,
          0.004781236248645359,
          0.00442127159142136,
          0.00439156931744712,
          0.004043364859056095,
          0.004029735885052201
         ]
        },
        {
         "hovertext": "<b>Topic 90</b>:kirlian_photography_kirlian photog",
         "line": {
          "color": "black",
          "width": 1.5
         },
         "mode": "lines+lines",
         "name": "",
         "opacity": 0.1,
         "type": "scatter",
         "x": [
          1,
          2,
          3,
          4,
          5,
          6,
          7,
          8,
          9,
          10
         ],
         "y": [
          0.028071178423734345,
          0.026663045128777187,
          0.014878322522581613,
          0.013126898077753335,
          0.011381907625369805,
          0.010506844042459856,
          0.009407212298004524,
          0.009210390133026713,
          0.008997789612235841,
          0.008761233302394053
         ]
        },
        {
         "hovertext": "<b>Topic 91</b>:religion_schools_christian_of sile",
         "line": {
          "color": "black",
          "width": 1.5
         },
         "mode": "lines+lines",
         "name": "",
         "opacity": 0.1,
         "type": "scatter",
         "x": [
          1,
          2,
          3,
          4,
          5,
          6,
          7,
          8,
          9,
          10
         ],
         "y": [
          0.009169671481497214,
          0.009082414921318166,
          0.008679599264556477,
          0.00845407495024543,
          0.008265128675566022,
          0.008024955218782026,
          0.007811192660460773,
          0.0076553980247673565,
          0.007445943694405187,
          0.007297656009516142
         ]
        },
        {
         "hovertext": "<b>Topic 92</b>:server_xdm_login_error_x11r5_probl",
         "line": {
          "color": "black",
          "width": 1.5
         },
         "mode": "lines+lines",
         "name": "",
         "opacity": 0.1,
         "type": "scatter",
         "x": [
          1,
          2,
          3,
          4,
          5,
          6,
          7,
          8,
          9,
          10
         ],
         "y": [
          0.016062016250567485,
          0.011896167402961953,
          0.010278774784544111,
          0.010193582246096088,
          0.008225533453041315,
          0.007206554635867807,
          0.007161778542754044,
          0.0066673420192336335,
          0.006557653696756175,
          0.0063893709917902395
         ]
        },
        {
         "hovertext": "<b>Topic 93</b>:trial_cooper_spence_witnesses_new ",
         "line": {
          "color": "black",
          "width": 1.5
         },
         "mode": "lines+lines",
         "name": "",
         "opacity": 0.1,
         "type": "scatter",
         "x": [
          1,
          2,
          3,
          4,
          5,
          6,
          7,
          8,
          9,
          10
         ],
         "y": [
          0.019876787530762125,
          0.011301519438763038,
          0.009574314117685173,
          0.008549068535228752,
          0.007124220549842338,
          0.006857287283299993,
          0.005924001917262871,
          0.005909165518301388,
          0.005763070247709568,
          0.00534618708950298
         ]
        },
        {
         "hovertext": "<b>Topic 94</b>:death penalty_the death penalty_pe",
         "line": {
          "color": "black",
          "width": 1.5
         },
         "mode": "lines+lines",
         "name": "",
         "opacity": 0.1,
         "type": "scatter",
         "x": [
          1,
          2,
          3,
          4,
          5,
          6,
          7,
          8,
          9,
          10
         ],
         "y": [
          0.012621637114803741,
          0.011286135707085322,
          0.010497758324859796,
          0.009858863563815755,
          0.009831102381619113,
          0.009418213234326692,
          0.009366030758815857,
          0.006474847132885576,
          0.006364702199923785,
          0.0059894767128879705
         ]
        },
        {
         "hovertext": "<b>Topic 95</b>:fonts_font_truetype_tt_atm_windows",
         "line": {
          "color": "black",
          "width": 1.5
         },
         "mode": "lines+lines",
         "name": "",
         "opacity": 0.1,
         "type": "scatter",
         "x": [
          1,
          2,
          3,
          4,
          5,
          6,
          7,
          8,
          9,
          10
         ],
         "y": [
          0.031206732510719315,
          0.030899247579824617,
          0.018452919134413288,
          0.017861788108063083,
          0.015084344617262829,
          0.01109075559483143,
          0.010701336841595807,
          0.010502489572764487,
          0.009638665320097481,
          0.0095747565394233
         ]
        },
        {
         "hovertext": "<b>Topic 96</b>:fan_cpu_the fan_heat_the cpu_heat ",
         "line": {
          "color": "black",
          "width": 1.5
         },
         "mode": "lines+lines",
         "name": "",
         "opacity": 0.1,
         "type": "scatter",
         "x": [
          1,
          2,
          3,
          4,
          5,
          6,
          7,
          8,
          9,
          10
         ],
         "y": [
          0.030450691074180046,
          0.0236034265343464,
          0.017311561891167514,
          0.017286911193158123,
          0.0159530061798012,
          0.014340629490939482,
          0.013554583949734174,
          0.012374992184716396,
          0.0068062135133046976,
          0.006638401683797697
         ]
        },
        {
         "hovertext": "<b>Topic 97</b>:monitor_vga_inches_horizontal_mac_",
         "line": {
          "color": "black",
          "width": 1.5
         },
         "mode": "lines+lines",
         "name": "",
         "opacity": 0.1,
         "type": "scatter",
         "x": [
          1,
          2,
          3,
          4,
          5,
          6,
          7,
          8,
          9,
          10
         ],
         "y": [
          0.02385736804973303,
          0.023304028290365934,
          0.014092131323717571,
          0.013345142076034534,
          0.012351290135458852,
          0.01170546295183621,
          0.011165825966069982,
          0.010757469242060273,
          0.010662525587346731,
          0.010584621499160925
         ]
        },
        {
         "hovertext": "<b>Topic 98</b>:marriage_married_marry_church_cere",
         "line": {
          "color": "black",
          "width": 1.5
         },
         "mode": "lines+lines",
         "name": "",
         "opacity": 0.1,
         "type": "scatter",
         "x": [
          1,
          2,
          3,
          4,
          5,
          6,
          7,
          8,
          9,
          10
         ],
         "y": [
          0.024336327063873748,
          0.012563735801496414,
          0.007756209630160504,
          0.007168360736277627,
          0.0067445301131830475,
          0.005517792071884898,
          0.005091136449893913,
          0.0049706741318547515,
          0.004934055994164334,
          0.004921649982308254
         ]
        },
        {
         "hovertext": "<b>Topic 99</b>:mjm_antenna_design_circuits_receiv",
         "line": {
          "color": "black",
          "width": 1.5
         },
         "mode": "lines+lines",
         "name": "",
         "opacity": 0.1,
         "type": "scatter",
         "x": [
          1,
          2,
          3,
          4,
          5,
          6,
          7,
          8,
          9,
          10
         ],
         "y": [
          0.009892996621148521,
          0.007765069274390767,
          0.007370725252145414,
          0.007247236651307611,
          0.0071287758143831394,
          0.007073762535844732,
          0.006734405607694524,
          0.005779814892523232,
          0.005334000750393261,
          0.005037178724655642
         ]
        },
        {
         "hovertext": "<b>Topic 100</b>:deleted_stuff deleted_stuff_andi_",
         "line": {
          "color": "black",
          "width": 1.5
         },
         "mode": "lines+lines",
         "name": "",
         "opacity": 0.1,
         "type": "scatter",
         "x": [
          1,
          2,
          3,
          4,
          5,
          6,
          7,
          8,
          9,
          10
         ],
         "y": [
          0.06098560607031238,
          0.041459235258809034,
          0.03237713380042946,
          0.016415978988758934,
          0.01335272129521912,
          0.012643303103294066,
          0.01239010963836712,
          0.01239010963836712,
          0.011117761866486567,
          0.010251282692162047
         ]
        },
        {
         "hovertext": "<b>Topic 101</b>:entry_key_entries_output_file_des",
         "line": {
          "color": "black",
          "width": 1.5
         },
         "mode": "lines+lines",
         "name": "",
         "opacity": 0.1,
         "type": "scatter",
         "x": [
          1,
          2,
          3,
          4,
          5,
          6,
          7,
          8,
          9,
          10
         ],
         "y": [
          0.011010562490688328,
          0.006264333001221537,
          0.005846673293480061,
          0.005509617407902102,
          0.0049070959783350625,
          0.00471651139999727,
          0.004491050880352275,
          0.004370149078642807,
          0.004011796195260609,
          0.003913088969001275
         ]
        },
        {
         "hovertext": "<b>Topic 102</b>:countersteering_bike_motorcycle_r",
         "line": {
          "color": "black",
          "width": 1.5
         },
         "mode": "lines+lines",
         "name": "",
         "opacity": 0.1,
         "type": "scatter",
         "x": [
          1,
          2,
          3,
          4,
          5,
          6,
          7,
          8,
          9,
          10
         ],
         "y": [
          0.019231705783316972,
          0.010655551035341418,
          0.009106695425355858,
          0.0085541008830587,
          0.008203515205435219,
          0.007461568191254864,
          0.007453481041633299,
          0.007279770132280459,
          0.007255678476046907,
          0.0064818795353456275
         ]
        },
        {
         "hovertext": "<b>Topic 103</b>:printer_driver_laserwriter_print_",
         "line": {
          "color": "black",
          "width": 1.5
         },
         "mode": "lines+lines",
         "name": "",
         "opacity": 0.1,
         "type": "scatter",
         "x": [
          1,
          2,
          3,
          4,
          5,
          6,
          7,
          8,
          9,
          10
         ],
         "y": [
          0.02869487234214455,
          0.017125188101263074,
          0.016024033425614148,
          0.015403242466800759,
          0.015267003167040319,
          0.013084976461158514,
          0.011596026044028079,
          0.00957661128467919,
          0.00874488242851622,
          0.008044438124481343
         ]
        },
        {
         "hovertext": "<b>Topic 104</b>:data_ftp_edu_image_available_sgi_",
         "line": {
          "color": "black",
          "width": 1.5
         },
         "mode": "lines+lines",
         "name": "",
         "opacity": 0.1,
         "type": "scatter",
         "x": [
          1,
          2,
          3,
          4,
          5,
          6,
          7,
          8,
          9,
          10
         ],
         "y": [
          0.009181519303493507,
          0.006635903247887214,
          0.006495937288295893,
          0.006017720928709149,
          0.005577770871241646,
          0.005285837400710384,
          0.005143921013605559,
          0.005143921013605559,
          0.005058403157801523,
          0.004951750866260228
         ]
        },
        {
         "hovertext": "<b>Topic 105</b>:00_50_1st_wolverine_comics_hulk_a",
         "line": {
          "color": "black",
          "width": 1.5
         },
         "mode": "lines+lines",
         "name": "",
         "opacity": 0.1,
         "type": "scatter",
         "x": [
          1,
          2,
          3,
          4,
          5,
          6,
          7,
          8,
          9,
          10
         ],
         "y": [
          0.040676051736632184,
          0.021278082465597908,
          0.018789864125711302,
          0.017640849877250623,
          0.014260183390158292,
          0.013983181037955582,
          0.013850090338729928,
          0.01362538309786448,
          0.011681821668135474,
          0.011681144691175193
         ]
        },
        {
         "hovertext": "<b>Topic 106</b>:insurance_health_private_health i",
         "line": {
          "color": "black",
          "width": 1.5
         },
         "mode": "lines+lines",
         "name": "",
         "opacity": 0.1,
         "type": "scatter",
         "x": [
          1,
          2,
          3,
          4,
          5,
          6,
          7,
          8,
          9,
          10
         ],
         "y": [
          0.02214568846644194,
          0.01580821396707644,
          0.013752118079816916,
          0.009522639599452877,
          0.0081670670628405,
          0.00814501820317748,
          0.007732231344628149,
          0.006524023532370889,
          0.005421889802643654,
          0.005315462213681793
         ]
        },
        {
         "hovertext": "<b>Topic 107</b>:monitor_off_power_turn_computer_t",
         "line": {
          "color": "black",
          "width": 1.5
         },
         "mode": "lines+lines",
         "name": "",
         "opacity": 0.1,
         "type": "scatter",
         "x": [
          1,
          2,
          3,
          4,
          5,
          6,
          7,
          8,
          9,
          10
         ],
         "y": [
          0.014603285119761986,
          0.014073127087824254,
          0.011995143715290795,
          0.011732901086892053,
          0.011246694849390785,
          0.010804252983579805,
          0.008979357360924254,
          0.008377767489842371,
          0.008357474008349694,
          0.008305865448720641
         ]
        },
        {
         "hovertext": "<b>Topic 108</b>:scanner_logitech_hand scanner_ocr",
         "line": {
          "color": "black",
          "width": 1.5
         },
         "mode": "lines+lines",
         "name": "",
         "opacity": 0.1,
         "type": "scatter",
         "x": [
          1,
          2,
          3,
          4,
          5,
          6,
          7,
          8,
          9,
          10
         ],
         "y": [
          0.0337392544530534,
          0.012828026609968193,
          0.01143557174995295,
          0.011331591800379261,
          0.010575417839464182,
          0.009087622515556741,
          0.008752478356687778,
          0.008591692902756548,
          0.008377618310783614,
          0.008352835281065752
         ]
        },
        {
         "hovertext": "<b>Topic 109</b>:ghostscript_postscript_ghostview_",
         "line": {
          "color": "black",
          "width": 1.5
         },
         "mode": "lines+lines",
         "name": "",
         "opacity": 0.1,
         "type": "scatter",
         "x": [
          1,
          2,
          3,
          4,
          5,
          6,
          7,
          8,
          9,
          10
         ],
         "y": [
          0.03151983687640874,
          0.028618462057955527,
          0.015820556703973875,
          0.013646715741685996,
          0.013358564900230512,
          0.01212476469339392,
          0.012023862148725277,
          0.010245006838592816,
          0.010177708682321136,
          0.00832836930509749
         ]
        },
        {
         "hovertext": "<b>Topic 110</b>:km_earth_orbit_constant_comet_mas",
         "line": {
          "color": "black",
          "width": 1.5
         },
         "mode": "lines+lines",
         "name": "",
         "opacity": 0.1,
         "type": "scatter",
         "x": [
          1,
          2,
          3,
          4,
          5,
          6,
          7,
          8,
          9,
          10
         ],
         "y": [
          0.008740356965771977,
          0.008558750511994945,
          0.006832223827527512,
          0.006765523354932128,
          0.006480445091455546,
          0.0063165119095888326,
          0.006127405670413785,
          0.00608312640056459,
          0.005992562706537806,
          0.005830270911157008
         ]
        },
        {
         "hovertext": "<b>Topic 111</b>:openwindows_xview_motif_open look",
         "line": {
          "color": "black",
          "width": 1.5
         },
         "mode": "lines+lines",
         "name": "",
         "opacity": 0.1,
         "type": "scatter",
         "x": [
          1,
          2,
          3,
          4,
          5,
          6,
          7,
          8,
          9,
          10
         ],
         "y": [
          0.016016025737316343,
          0.01141049388700846,
          0.011394691061575006,
          0.007438216577669529,
          0.006636843142216275,
          0.0062328177399230585,
          0.006172456128452969,
          0.0058116600678944945,
          0.005762380125345718,
          0.005557235913523904
         ]
        },
        {
         "hovertext": "<b>Topic 112</b>:irq_port_com3_com1_modem_com4_car",
         "line": {
          "color": "black",
          "width": 1.5
         },
         "mode": "lines+lines",
         "name": "",
         "opacity": 0.1,
         "type": "scatter",
         "x": [
          1,
          2,
          3,
          4,
          5,
          6,
          7,
          8,
          9,
          10
         ],
         "y": [
          0.029805229110568852,
          0.01739183405643054,
          0.017384859749423394,
          0.013162253397491129,
          0.012859607726451576,
          0.011482951417712753,
          0.011445338291233087,
          0.011157107681405798,
          0.011072623190387364,
          0.00979221077785774
         ]
        },
        {
         "hovertext": "<b>Topic 113</b>:mode_modes_vesa_vga_video_memory_",
         "line": {
          "color": "black",
          "width": 1.5
         },
         "mode": "lines+lines",
         "name": "",
         "opacity": 0.1,
         "type": "scatter",
         "x": [
          1,
          2,
          3,
          4,
          5,
          6,
          7,
          8,
          9,
          10
         ],
         "y": [
          0.017286368863999514,
          0.01218439789756934,
          0.01195132240846817,
          0.011269444658419359,
          0.009989239928312204,
          0.009750111330311608,
          0.008477353810241776,
          0.007705228495735494,
          0.007046559167562196,
          0.006783524047242138
         ]
        },
        {
         "hovertext": "<b>Topic 114</b>:cancer_cancer center_medical_cent",
         "line": {
          "color": "black",
          "width": 1.5
         },
         "mode": "lines+lines",
         "name": "",
         "opacity": 0.1,
         "type": "scatter",
         "x": [
          1,
          2,
          3,
          4,
          5,
          6,
          7,
          8,
          9,
          10
         ],
         "y": [
          0.02202021786077635,
          0.015037705832394712,
          0.01225060926212724,
          0.011581321927586413,
          0.009859286303405152,
          0.009751403505455579,
          0.008771226844391094,
          0.008021996367821606,
          0.007082026309117391,
          0.006823913979061401
         ]
        },
        {
         "hovertext": "<b>Topic 115</b>:xv_of xv_copyright_donation_xv fo",
         "line": {
          "color": "black",
          "width": 1.5
         },
         "mode": "lines+lines",
         "name": "",
         "opacity": 0.1,
         "type": "scatter",
         "x": [
          1,
          2,
          3,
          4,
          5,
          6,
          7,
          8,
          9,
          10
         ],
         "y": [
          0.036838265742823735,
          0.009179534039737324,
          0.008615338810849723,
          0.007330647321586819,
          0.0070931760127260724,
          0.006961078781095053,
          0.006696884126925294,
          0.006687081805274543,
          0.006625778223712399,
          0.006215271631223958
         ]
        },
        {
         "hovertext": "<b>Topic 116</b>:dos_cluster_file_fat_doubledisk_w",
         "line": {
          "color": "black",
          "width": 1.5
         },
         "mode": "lines+lines",
         "name": "",
         "opacity": 0.1,
         "type": "scatter",
         "x": [
          1,
          2,
          3,
          4,
          5,
          6,
          7,
          8,
          9,
          10
         ],
         "y": [
          0.021892466819960207,
          0.010324365858916855,
          0.009856048317665473,
          0.008726496632524505,
          0.008723261690737939,
          0.008654309535920963,
          0.007867844694970608,
          0.00786228327668607,
          0.007706666586665635,
          0.007634514586428543
         ]
        },
        {
         "hovertext": "<b>Topic 117</b>:aaron_baptism_sin_god_faith_origi",
         "line": {
          "color": "black",
          "width": 1.5
         },
         "mode": "lines+lines",
         "name": "",
         "opacity": 0.1,
         "type": "scatter",
         "x": [
          1,
          2,
          3,
          4,
          5,
          6,
          7,
          8,
          9,
          10
         ],
         "y": [
          0.015655419643147168,
          0.015529482672891726,
          0.011088906791164825,
          0.008980705361437486,
          0.008489850173188098,
          0.0065727299786426776,
          0.006252915274151948,
          0.005929582376816924,
          0.005332848816905342,
          0.005327654976030325
         ]
        },
        {
         "hovertext": "<b>Topic 118</b>:ax_ax ax_ax ax ax_max_max ax_ax m",
         "line": {
          "color": "black",
          "width": 1.5
         },
         "mode": "lines+lines",
         "name": "",
         "opacity": 0.1,
         "type": "scatter",
         "x": [
          1,
          2,
          3,
          4,
          5,
          6,
          7,
          8,
          9,
          10
         ],
         "y": [
          0.05941246768371044,
          0.058005612339428365,
          0.05648377315761373,
          0.01861145453506918,
          0.01849281907730446,
          0.018447415501187767,
          0.01829446259918268,
          0.01814039119903122,
          0.01808334257375254,
          0.007523574519013463
         ]
        },
        {
         "hovertext": "<b>Topic 119</b>:monitor_problem_apple_the monitor",
         "line": {
          "color": "black",
          "width": 1.5
         },
         "mode": "lines+lines",
         "name": "",
         "opacity": 0.1,
         "type": "scatter",
         "x": [
          1,
          2,
          3,
          4,
          5,
          6,
          7,
          8,
          9,
          10
         ],
         "y": [
          0.025191997071784402,
          0.013316925279493628,
          0.010620911511722774,
          0.008387244259209425,
          0.0077978888560876905,
          0.007724127713985601,
          0.007544303858181023,
          0.007367121565833642,
          0.007182485548519783,
          0.00622881670000394
         ]
        },
        {
         "hovertext": "<b>Topic 120</b>:pds_lc_nubus_slot_card_lciii_the ",
         "line": {
          "color": "black",
          "width": 1.5
         },
         "mode": "lines+lines",
         "name": "",
         "opacity": 0.1,
         "type": "scatter",
         "x": [
          1,
          2,
          3,
          4,
          5,
          6,
          7,
          8,
          9,
          10
         ],
         "y": [
          0.0476031039097684,
          0.032358141448807526,
          0.026609594944769516,
          0.020793457531475924,
          0.018069171295548143,
          0.01694952075139921,
          0.016483388219174833,
          0.013555115205658198,
          0.013372620553112436,
          0.012718587205057063
         ]
        },
        {
         "hovertext": "<b>Topic 121</b>:helmet_the helmet_liner_helmet on",
         "line": {
          "color": "black",
          "width": 1.5
         },
         "mode": "lines+lines",
         "name": "",
         "opacity": 0.1,
         "type": "scatter",
         "x": [
          1,
          2,
          3,
          4,
          5,
          6,
          7,
          8,
          9,
          10
         ],
         "y": [
          0.04996656010283465,
          0.02429876005179421,
          0.013078263958250253,
          0.010998484707478029,
          0.010777572581800897,
          0.010503907062802818,
          0.009938420506283031,
          0.00921588811112811,
          0.00808687760432492,
          0.007705062969284332
         ]
        },
        {
         "hovertext": "<b>Topic 122</b>:pope_church_the pope_schism_the c",
         "line": {
          "color": "black",
          "width": 1.5
         },
         "mode": "lines+lines",
         "name": "",
         "opacity": 0.1,
         "type": "scatter",
         "x": [
          1,
          2,
          3,
          4,
          5,
          6,
          7,
          8,
          9,
          10
         ],
         "y": [
          0.015349478096325433,
          0.013568012597394593,
          0.012641302991098509,
          0.009536798182754398,
          0.008514113663096541,
          0.007911960697743135,
          0.007544648243688681,
          0.007164006252019921,
          0.006834616118828183,
          0.0068119987019674266
         ]
        },
        {
         "hovertext": "<b>Topic 123</b>:slip_windows_packet_slipper_netwo",
         "line": {
          "color": "black",
          "width": 1.5
         },
         "mode": "lines+lines",
         "name": "",
         "opacity": 0.1,
         "type": "scatter",
         "x": [
          1,
          2,
          3,
          4,
          5,
          6,
          7,
          8,
          9,
          10
         ],
         "y": [
          0.017457282249403974,
          0.0127785432311127,
          0.012422302982987826,
          0.01130754038978232,
          0.011053503046739872,
          0.010594340913927202,
          0.00974689071102327,
          0.008908279741252481,
          0.008439422912765508,
          0.008287343060967803
         ]
        },
        {
         "hovertext": "<b>Topic 124</b>:gay_enviroleague_caligiuri_you_ho",
         "line": {
          "color": "black",
          "width": 1.5
         },
         "mode": "lines+lines",
         "name": "",
         "opacity": 0.1,
         "type": "scatter",
         "x": [
          1,
          2,
          3,
          4,
          5,
          6,
          7,
          8,
          9,
          10
         ],
         "y": [
          0.013755885236021692,
          0.007623796179034704,
          0.007623796179034704,
          0.006429644179226887,
          0.006257162166271684,
          0.005743975444068317,
          0.005497861187256765,
          0.005466444528055963,
          0.0049582253738402636,
          0.004694045057720007
         ]
        },
        {
         "hovertext": "<b>Topic 125</b>:him_he_me_they_them_weick_ups_che",
         "line": {
          "color": "black",
          "width": 1.5
         },
         "mode": "lines+lines",
         "name": "",
         "opacity": 0.1,
         "type": "scatter",
         "x": [
          1,
          2,
          3,
          4,
          5,
          6,
          7,
          8,
          9,
          10
         ],
         "y": [
          0.007529227235943351,
          0.007437000213419181,
          0.006693947720847841,
          0.00609984908213487,
          0.006079309503695321,
          0.005984174711653109,
          0.005876546535294448,
          0.005435265198527123,
          0.005424649431708367,
          0.005388931723379516
         ]
        },
        {
         "hovertext": "<b>Topic 126</b>:nature_god_shall_the lord_lord_ye",
         "line": {
          "color": "black",
          "width": 1.5
         },
         "mode": "lines+lines",
         "name": "",
         "opacity": 0.1,
         "type": "scatter",
         "x": [
          1,
          2,
          3,
          4,
          5,
          6,
          7,
          8,
          9,
          10
         ],
         "y": [
          0.01077935780744195,
          0.010584758352748795,
          0.008121754735379391,
          0.007950474223557259,
          0.007882562273402397,
          0.007454926815670334,
          0.007247577793316095,
          0.006548794123573945,
          0.006394863952079979,
          0.006376366211174458
         ]
        },
        {
         "hovertext": "<b>Topic 127</b>:professors_university_schools_cla",
         "line": {
          "color": "black",
          "width": 1.5
         },
         "mode": "lines+lines",
         "name": "",
         "opacity": 0.1,
         "type": "scatter",
         "x": [
          1,
          2,
          3,
          4,
          5,
          6,
          7,
          8,
          9,
          10
         ],
         "y": [
          0.019223142045099124,
          0.015189794652323193,
          0.011753150857929964,
          0.008651364852799106,
          0.008447735075311392,
          0.008424661766210708,
          0.0065312223726615255,
          0.0065312223726615255,
          0.0065312223726615255,
          0.0065312223726615255
         ]
        },
        {
         "hovertext": "<b>Topic 128</b>:number_dial_the number_phone_al_t",
         "line": {
          "color": "black",
          "width": 1.5
         },
         "mode": "lines+lines",
         "name": "",
         "opacity": 0.1,
         "type": "scatter",
         "x": [
          1,
          2,
          3,
          4,
          5,
          6,
          7,
          8,
          9,
          10
         ],
         "y": [
          0.028452978054185656,
          0.02651586084831058,
          0.023018767695334418,
          0.02144209104740886,
          0.015515563398110482,
          0.014238016730370593,
          0.012186011045217727,
          0.012031677194690815,
          0.011238942402920473,
          0.010324365858916855
         ]
        },
        {
         "hovertext": "<b>Topic 129</b>:sale_drawer_for sale_table_mattre",
         "line": {
          "color": "black",
          "width": 1.5
         },
         "mode": "lines+lines",
         "name": "",
         "opacity": 0.1,
         "type": "scatter",
         "x": [
          1,
          2,
          3,
          4,
          5,
          6,
          7,
          8,
          9,
          10
         ],
         "y": [
          0.016427497092701013,
          0.014126331478474372,
          0.01380513509551676,
          0.01327017357609733,
          0.01294824355422408,
          0.012318657293940768,
          0.010900962594457268,
          0.010814352455070604,
          0.010490775616584678,
          0.010358970757490834
         ]
        },
        {
         "hovertext": "<b>Topic 130</b>:dealer_car_the dealer_price_satur",
         "line": {
          "color": "black",
          "width": 1.5
         },
         "mode": "lines+lines",
         "name": "",
         "opacity": 0.1,
         "type": "scatter",
         "x": [
          1,
          2,
          3,
          4,
          5,
          6,
          7,
          8,
          9,
          10
         ],
         "y": [
          0.023480960227984484,
          0.015192931147333224,
          0.014114953390381844,
          0.01393994951236434,
          0.01305973003143383,
          0.010094722627869748,
          0.008229922801637524,
          0.008152554642839371,
          0.00797392712289908,
          0.007773158114740785
         ]
        },
        {
         "hovertext": "<b>Topic 131</b>:lens_camera_nikon_zoom_flash_cond",
         "line": {
          "color": "black",
          "width": 1.5
         },
         "mode": "lines+lines",
         "name": "",
         "opacity": 0.1,
         "type": "scatter",
         "x": [
          1,
          2,
          3,
          4,
          5,
          6,
          7,
          8,
          9,
          10
         ],
         "y": [
          0.043084835496464115,
          0.024520821240478448,
          0.01636113428080618,
          0.01350345855043702,
          0.01188262657535299,
          0.010860670678221678,
          0.010832083141845684,
          0.010528513336507757,
          0.010513884126790763,
          0.010424119959413789
         ]
        },
        {
         "hovertext": "<b>Topic 132</b>:mhz_25 mhz_mhz operational_cpu_op",
         "line": {
          "color": "black",
          "width": 1.5
         },
         "mode": "lines+lines",
         "name": "",
         "opacity": 0.1,
         "type": "scatter",
         "x": [
          1,
          2,
          3,
          4,
          5,
          6,
          7,
          8,
          9,
          10
         ],
         "y": [
          0.04794221898805278,
          0.02650916830392686,
          0.022067683947974474,
          0.02058098178296543,
          0.019888958724667873,
          0.01870915862948401,
          0.01738531060457154,
          0.01677480508458305,
          0.016610352345469297,
          0.015131501266499842
         ]
        },
        {
         "hovertext": "<b>Topic 133</b>:motto_freedom of_freedom_freedom ",
         "line": {
          "color": "black",
          "width": 1.5
         },
         "mode": "lines+lines",
         "name": "",
         "opacity": 0.1,
         "type": "scatter",
         "x": [
          1,
          2,
          3,
          4,
          5,
          6,
          7,
          8,
          9,
          10
         ],
         "y": [
          0.011787189158235107,
          0.011403414837010527,
          0.011314462795728978,
          0.009390550113778264,
          0.009053956052710067,
          0.008134947707185293,
          0.007106373568604431,
          0.005444873073848245,
          0.005408007311361528,
          0.00526039034236744
         ]
        },
        {
         "hovertext": "<b>Topic 134</b>:midi_sound_driver_play_blaster_so",
         "line": {
          "color": "black",
          "width": 1.5
         },
         "mode": "lines+lines",
         "name": "",
         "opacity": 0.1,
         "type": "scatter",
         "x": [
          1,
          2,
          3,
          4,
          5,
          6,
          7,
          8,
          9,
          10
         ],
         "y": [
          0.040665054316523,
          0.020672128082144102,
          0.017994191423568635,
          0.014609442977802445,
          0.014347550053344569,
          0.013668996100748898,
          0.01342026727852257,
          0.01329213454931317,
          0.01329213454931317,
          0.01312503909683778
         ]
        },
        {
         "hovertext": "<b>Topic 135</b>:clinton_bush_do think clinton_thi",
         "line": {
          "color": "black",
          "width": 1.5
         },
         "mode": "lines+lines",
         "name": "",
         "opacity": 0.1,
         "type": "scatter",
         "x": [
          1,
          2,
          3,
          4,
          5,
          6,
          7,
          8,
          9,
          10
         ],
         "y": [
          0.020358412782965043,
          0.015922140654917632,
          0.014136662900123522,
          0.013561620943013629,
          0.013138657936625282,
          0.011137504323404537,
          0.008832584476352281,
          0.008593687650904194,
          0.007375985758000763,
          0.006636279638928951
         ]
        },
        {
         "hovertext": "<b>Topic 136</b>:shaft_wheelie_wheelies_shaft driv",
         "line": {
          "color": "black",
          "width": 1.5
         },
         "mode": "lines+lines",
         "name": "",
         "opacity": 0.1,
         "type": "scatter",
         "x": [
          1,
          2,
          3,
          4,
          5,
          6,
          7,
          8,
          9,
          10
         ],
         "y": [
          0.04614246898330996,
          0.02920374506036372,
          0.022197407923577387,
          0.02069800529116826,
          0.017440623537877467,
          0.016255824904894214,
          0.01484691642838597,
          0.014830854080110341,
          0.014830854080110341,
          0.014830854080110341
         ]
        },
        {
         "hovertext": "<b>Topic 137</b>:scrolls_books_qumran_dead sea_lib",
         "line": {
          "color": "black",
          "width": 1.5
         },
         "mode": "lines+lines",
         "name": "",
         "opacity": 0.1,
         "type": "scatter",
         "x": [
          1,
          2,
          3,
          4,
          5,
          6,
          7,
          8,
          9,
          10
         ],
         "y": [
          0.015209483851276191,
          0.014688974196758403,
          0.013049049652940034,
          0.012191601994979049,
          0.011997010031819407,
          0.01176111969355325,
          0.011546200734357446,
          0.01140361462961896,
          0.011278877935360376,
          0.010880572001839853
         ]
        },
        {
         "hovertext": "<b>Topic 138</b>:ms myers_stephanopoulos_myers_mr ",
         "line": {
          "color": "black",
          "width": 1.5
         },
         "mode": "lines+lines",
         "name": "",
         "opacity": 0.1,
         "type": "scatter",
         "x": [
          1,
          2,
          3,
          4,
          5,
          6,
          7,
          8,
          9,
          10
         ],
         "y": [
          0.011543666267233865,
          0.01153994385864785,
          0.011496445898863469,
          0.011495991921299669,
          0.011477489844370763,
          0.010941488930425042,
          0.009628693855768056,
          0.008994760858746878,
          0.007336835197201991,
          0.007031130871663666
         ]
        },
        {
         "hovertext": "<b>Topic 139</b>:lock_locks_kryptonite_cable_bike_",
         "line": {
          "color": "black",
          "width": 1.5
         },
         "mode": "lines+lines",
         "name": "",
         "opacity": 0.1,
         "type": "scatter",
         "x": [
          1,
          2,
          3,
          4,
          5,
          6,
          7,
          8,
          9,
          10
         ],
         "y": [
          0.0360627074559583,
          0.015022340650635587,
          0.014522674494420528,
          0.014471173402278971,
          0.011574313029374382,
          0.009007395878605726,
          0.008120504621464724,
          0.007895053854393146,
          0.00745625632240351,
          0.00735875684753108
         ]
        },
        {
         "hovertext": "<b>Topic 140</b>:scope_scopes_the scope_scope for_",
         "line": {
          "color": "black",
          "width": 1.5
         },
         "mode": "lines+lines",
         "name": "",
         "opacity": 0.1,
         "type": "scatter",
         "x": [
          1,
          2,
          3,
          4,
          5,
          6,
          7,
          8,
          9,
          10
         ],
         "y": [
          0.04288208310932097,
          0.013506392368735087,
          0.011895069402192666,
          0.011175171410344324,
          0.008375321117353729,
          0.008188085033208496,
          0.008152397238893376,
          0.008152397238893376,
          0.008051671238719731,
          0.008017793498018962
         ]
        },
        {
         "hovertext": "<b>Topic 141</b>:truth_bible_arrogance_god_the bib",
         "line": {
          "color": "black",
          "width": 1.5
         },
         "mode": "lines+lines",
         "name": "",
         "opacity": 0.1,
         "type": "scatter",
         "x": [
          1,
          2,
          3,
          4,
          5,
          6,
          7,
          8,
          9,
          10
         ],
         "y": [
          0.009640409839743938,
          0.007975583457212646,
          0.007427848379080424,
          0.007180034458616577,
          0.007145270465955334,
          0.006587943812607598,
          0.0060101723533167745,
          0.006003547816159688,
          0.005442876425120109,
          0.005401827010496301
         ]
        },
        {
         "hovertext": "<b>Topic 142</b>:internet_net_white house_the net_",
         "line": {
          "color": "black",
          "width": 1.5
         },
         "mode": "lines+lines",
         "name": "",
         "opacity": 0.1,
         "type": "scatter",
         "x": [
          1,
          2,
          3,
          4,
          5,
          6,
          7,
          8,
          9,
          10
         ],
         "y": [
          0.008042544137045552,
          0.007612471229096163,
          0.007526664702925232,
          0.007107558877997766,
          0.007074666781255948,
          0.006583995898802285,
          0.006423264354392287,
          0.006379450360640833,
          0.006243015452836653,
          0.006169393868108153
         ]
        },
        {
         "hovertext": "<b>Topic 143</b>:hacker_hackers_computer_the hacke",
         "line": {
          "color": "black",
          "width": 1.5
         },
         "mode": "lines+lines",
         "name": "",
         "opacity": 0.1,
         "type": "scatter",
         "x": [
          1,
          2,
          3,
          4,
          5,
          6,
          7,
          8,
          9,
          10
         ],
         "y": [
          0.02648968937909147,
          0.012586819872716683,
          0.010412482824149392,
          0.008096549437495274,
          0.007709324424329689,
          0.007656085066021465,
          0.005911497317159831,
          0.005708040813115882,
          0.005052450888088319,
          0.0050128562259071285
         ]
        },
        {
         "hovertext": "<b>Topic 144</b>:modem_serial_null modem_dtr_td_dc",
         "line": {
          "color": "black",
          "width": 1.5
         },
         "mode": "lines+lines",
         "name": "",
         "opacity": 0.1,
         "type": "scatter",
         "x": [
          1,
          2,
          3,
          4,
          5,
          6,
          7,
          8,
          9,
          10
         ],
         "y": [
          0.02300899188094302,
          0.02144575087712645,
          0.014781430904797103,
          0.012384514528522527,
          0.012306622063121834,
          0.012093898013015811,
          0.01199282623100162,
          0.011746972987394867,
          0.011569608095635163,
          0.011224715791250965
         ]
        },
        {
         "hovertext": "<b>Topic 145</b>:koresh_david koresh_he_david_that",
         "line": {
          "color": "black",
          "width": 1.5
         },
         "mode": "lines+lines",
         "name": "",
         "opacity": 0.1,
         "type": "scatter",
         "x": [
          1,
          2,
          3,
          4,
          5,
          6,
          7,
          8,
          9,
          10
         ],
         "y": [
          0.027184254092317377,
          0.008556584523825808,
          0.007972572131690244,
          0.006412126163731659,
          0.006015012470203215,
          0.005658890583242064,
          0.005432315108934232,
          0.005207250890490862,
          0.005055744041542693,
          0.0049640471566850825
         ]
        },
        {
         "hovertext": "<b>Topic 146</b>:abortion_women_rape_abortions_cho",
         "line": {
          "color": "black",
          "width": 1.5
         },
         "mode": "lines+lines",
         "name": "",
         "opacity": 0.1,
         "type": "scatter",
         "x": [
          1,
          2,
          3,
          4,
          5,
          6,
          7,
          8,
          9,
          10
         ],
         "y": [
          0.012587656557442362,
          0.01021389918165367,
          0.007767660639324902,
          0.007316322588310326,
          0.006818924542424974,
          0.005700690428417027,
          0.005608925477509936,
          0.005380769263652514,
          0.0053668646697177524,
          0.005121425811817228
         ]
        },
        {
         "hovertext": "<b>Topic 147</b>:book_zane_faith_church_2ti_of_chr",
         "line": {
          "color": "black",
          "width": 1.5
         },
         "mode": "lines+lines",
         "name": "",
         "opacity": 0.1,
         "type": "scatter",
         "x": [
          1,
          2,
          3,
          4,
          5,
          6,
          7,
          8,
          9,
          10
         ],
         "y": [
          0.007148402303308167,
          0.006890885973278096,
          0.00670074201732445,
          0.006098629361523133,
          0.00579835470115371,
          0.005547938760836213,
          0.00531710651866225,
          0.005239854393929975,
          0.005118612786929089,
          0.00456752087699358
         ]
        },
        {
         "hovertext": "<b>Topic 148</b>:passenger_bike_her_the bike_passe",
         "line": {
          "color": "black",
          "width": 1.5
         },
         "mode": "lines+lines",
         "name": "",
         "opacity": 0.1,
         "type": "scatter",
         "x": [
          1,
          2,
          3,
          4,
          5,
          6,
          7,
          8,
          9,
          10
         ],
         "y": [
          0.01601762788739701,
          0.014397931368282671,
          0.012357712965085265,
          0.011538042049688516,
          0.008566678255134083,
          0.007888714630920399,
          0.0073459138377908574,
          0.006821548441548158,
          0.006472988461069415,
          0.006403404897401753
         ]
        },
        {
         "hovertext": "<b>Topic 149</b>:revolver_semi_semi auto_auto_gun_",
         "line": {
          "color": "black",
          "width": 1.5
         },
         "mode": "lines+lines",
         "name": "",
         "opacity": 0.1,
         "type": "scatter",
         "x": [
          1,
          2,
          3,
          4,
          5,
          6,
          7,
          8,
          9,
          10
         ],
         "y": [
          0.018157103848079822,
          0.017113267534948674,
          0.01365024886866149,
          0.013491207501653292,
          0.011479012781321955,
          0.010243687072858101,
          0.010159261027916484,
          0.00993578450980265,
          0.008685422184323909,
          0.007907102065329356
         ]
        },
        {
         "hovertext": "<b>Topic 150</b>:dialing_tone_phone_germany_sweden",
         "line": {
          "color": "black",
          "width": 1.5
         },
         "mode": "lines+lines",
         "name": "",
         "opacity": 0.1,
         "type": "scatter",
         "x": [
          1,
          2,
          3,
          4,
          5,
          6,
          7,
          8,
          9,
          10
         ],
         "y": [
          0.035147254944555596,
          0.02141223132326248,
          0.016903783806923454,
          0.015585915348005469,
          0.01548170486811605,
          0.015096767155747001,
          0.014611250868913383,
          0.012744112770891892,
          0.012744112770891892,
          0.010837116945680628
         ]
        },
        {
         "hovertext": "<b>Topic 151</b>:prozac_effects_drugs_side effects",
         "line": {
          "color": "black",
          "width": 1.5
         },
         "mode": "lines+lines",
         "name": "",
         "opacity": 0.1,
         "type": "scatter",
         "x": [
          1,
          2,
          3,
          4,
          5,
          6,
          7,
          8,
          9,
          10
         ],
         "y": [
          0.01671481571979764,
          0.01304483514038243,
          0.012801202851561671,
          0.011592844539528701,
          0.011134624698403376,
          0.009584207816625504,
          0.008741774024136213,
          0.007469156213850341,
          0.006263543620760819,
          0.006244124302954438
         ]
        },
        {
         "hovertext": "<b>Topic 152</b>:colors_color_luminosity_hue_red_g",
         "line": {
          "color": "black",
          "width": 1.5
         },
         "mode": "lines+lines",
         "name": "",
         "opacity": 0.1,
         "type": "scatter",
         "x": [
          1,
          2,
          3,
          4,
          5,
          6,
          7,
          8,
          9,
          10
         ],
         "y": [
          0.021662023021268642,
          0.02147130018685205,
          0.021159579450530343,
          0.01567828799546032,
          0.01306080005418261,
          0.012606891222221027,
          0.011885396057387365,
          0.0115651073572141,
          0.011224955893211127,
          0.011173662097393554
         ]
        },
        {
         "hovertext": "<b>Topic 153</b>:eye_prk_cornea_left eye_dominance",
         "line": {
          "color": "black",
          "width": 1.5
         },
         "mode": "lines+lines",
         "name": "",
         "opacity": 0.1,
         "type": "scatter",
         "x": [
          1,
          2,
          3,
          4,
          5,
          6,
          7,
          8,
          9,
          10
         ],
         "y": [
          0.030661357300010936,
          0.014435534430293306,
          0.011854777054279307,
          0.011417582476969983,
          0.010820006748512584,
          0.010533342541956096,
          0.009995479017538418,
          0.009028579321676652,
          0.008612075921445934,
          0.008177417383959242
         ]
        },
        {
         "hovertext": "<b>Topic 154</b>:water_cooling_steam_towers_plants",
         "line": {
          "color": "black",
          "width": 1.5
         },
         "mode": "lines+lines",
         "name": "",
         "opacity": 0.1,
         "type": "scatter",
         "x": [
          1,
          2,
          3,
          4,
          5,
          6,
          7,
          8,
          9,
          10
         ],
         "y": [
          0.027585236238365913,
          0.024753946073138494,
          0.023233907077180285,
          0.019660337648928366,
          0.018769508549251607,
          0.016957191280868887,
          0.014322527721410004,
          0.013630314337986076,
          0.010890741301759786,
          0.010847548214814916
         ]
        },
        {
         "hovertext": "<b>Topic 155</b>:nanao_17_trinitron_viewsonic_tube",
         "line": {
          "color": "black",
          "width": 1.5
         },
         "mode": "lines+lines",
         "name": "",
         "opacity": 0.1,
         "type": "scatter",
         "x": [
          1,
          2,
          3,
          4,
          5,
          6,
          7,
          8,
          9,
          10
         ],
         "y": [
          0.019650855503477272,
          0.018344299034732767,
          0.016791285722945498,
          0.01569337621133387,
          0.015406404554413916,
          0.014561922049119913,
          0.013807566296969121,
          0.013567217851722933,
          0.011544457705043042,
          0.010763213166226906
         ]
        },
        {
         "hovertext": "<b>Topic 156</b>:kidney_chromium_stones_kidney sto",
         "line": {
          "color": "black",
          "width": 1.5
         },
         "mode": "lines+lines",
         "name": "",
         "opacity": 0.1,
         "type": "scatter",
         "x": [
          1,
          2,
          3,
          4,
          5,
          6,
          7,
          8,
          9,
          10
         ],
         "y": [
          0.021590747463706254,
          0.01723988996856556,
          0.015578872822431294,
          0.013419282632689359,
          0.012855366376506331,
          0.011808825234693492,
          0.010859553805860699,
          0.010653517721917782,
          0.010232628500912342,
          0.01016078422713466
         ]
        },
        {
         "hovertext": "<b>Topic 157</b>:ms_survey_microsoft_msdos_their_m",
         "line": {
          "color": "black",
          "width": 1.5
         },
         "mode": "lines+lines",
         "name": "",
         "opacity": 0.1,
         "type": "scatter",
         "x": [
          1,
          2,
          3,
          4,
          5,
          6,
          7,
          8,
          9,
          10
         ],
         "y": [
          0.014868975001779175,
          0.009049224467238125,
          0.007676598716061429,
          0.006163056528578445,
          0.0055209911962615845,
          0.004905546986809768,
          0.004786190250031645,
          0.004645363194217849,
          0.004559780621408753,
          0.0044820822771294766
         ]
        },
        {
         "hovertext": "<b>Topic 158</b>:weapons_nuclear_weapon_plutonium_",
         "line": {
          "color": "black",
          "width": 1.5
         },
         "mode": "lines+lines",
         "name": "",
         "opacity": 0.1,
         "type": "scatter",
         "x": [
          1,
          2,
          3,
          4,
          5,
          6,
          7,
          8,
          9,
          10
         ],
         "y": [
          0.014838285456795625,
          0.013710363545995466,
          0.010742293220185333,
          0.010490966964493727,
          0.008962816253744135,
          0.007444071380802641,
          0.0067263569541078155,
          0.006645754659504281,
          0.006384034915798549,
          0.005813208819077943
         ]
        },
        {
         "hovertext": "<b>Topic 159</b>:weight_fat_chromium_insulin_muscl",
         "line": {
          "color": "black",
          "width": 1.5
         },
         "mode": "lines+lines",
         "name": "",
         "opacity": 0.1,
         "type": "scatter",
         "x": [
          1,
          2,
          3,
          4,
          5,
          6,
          7,
          8,
          9,
          10
         ],
         "y": [
          0.0270882175718814,
          0.027032029896239353,
          0.015179048821534091,
          0.013641330297745358,
          0.013518086167425721,
          0.009612284128824995,
          0.009476656042940713,
          0.009215109748162904,
          0.009215109748162904,
          0.007735951207324409
         ]
        },
        {
         "hovertext": "<b>Topic 160</b>:christian_jesus_christianity_oo_c",
         "line": {
          "color": "black",
          "width": 1.5
         },
         "mode": "lines+lines",
         "name": "",
         "opacity": 0.1,
         "type": "scatter",
         "x": [
          1,
          2,
          3,
          4,
          5,
          6,
          7,
          8,
          9,
          10
         ],
         "y": [
          0.011048740082257688,
          0.01041332843094519,
          0.00886904084064339,
          0.008761087512642018,
          0.00866973219221428,
          0.006940224079684639,
          0.006419237003905636,
          0.0060624878247807976,
          0.005377154524136317,
          0.005357952906174251
         ]
        },
        {
         "hovertext": "<b>Topic 161</b>:den_p3_p2_p1_radius_sphere_points",
         "line": {
          "color": "black",
          "width": 1.5
         },
         "mode": "lines+lines",
         "name": "",
         "opacity": 0.1,
         "type": "scatter",
         "x": [
          1,
          2,
          3,
          4,
          5,
          6,
          7,
          8,
          9,
          10
         ],
         "y": [
          0.044286869194206595,
          0.04074225399838699,
          0.03987126214010641,
          0.039606960070336324,
          0.028988343111451806,
          0.021306051035620235,
          0.016819763189083018,
          0.016771532208210004,
          0.016771532208210004,
          0.016771532208210004
         ]
        },
        {
         "hovertext": "<b>Topic 162</b>:article_quoting_in article_com_ed",
         "line": {
          "color": "black",
          "width": 1.5
         },
         "mode": "lines+lines",
         "name": "",
         "opacity": 0.1,
         "type": "scatter",
         "x": [
          1,
          2,
          3,
          4,
          5,
          6,
          7,
          8,
          9,
          10
         ],
         "y": [
          0.03386522195976442,
          0.032304679452251746,
          0.031929744265265535,
          0.024272147687029226,
          0.020156898030906235,
          0.01994813630985109,
          0.0197038390897394,
          0.0197038390897394,
          0.0197038390897394,
          0.0197038390897394
         ]
        },
        {
         "hovertext": "<b>Topic 163</b>:you_spiritual needs_spiritual_lif",
         "line": {
          "color": "black",
          "width": 1.5
         },
         "mode": "lines+lines",
         "name": "",
         "opacity": 0.1,
         "type": "scatter",
         "x": [
          1,
          2,
          3,
          4,
          5,
          6,
          7,
          8,
          9,
          10
         ],
         "y": [
          0.00869455796692943,
          0.008165461051403408,
          0.007569651656754986,
          0.007386972067935309,
          0.006828479625325904,
          0.006399102861110805,
          0.006323740799661338,
          0.006312544246415247,
          0.0060679548939391184,
          0.004950875573848155
         ]
        },
        {
         "hovertext": "<b>Topic 164</b>:chemistry_for chemistry book_for ",
         "line": {
          "color": "black",
          "width": 1.5
         },
         "mode": "lines+lines",
         "name": "",
         "opacity": 0.1,
         "type": "scatter",
         "x": [
          1,
          2,
          3,
          4,
          5,
          6,
          7,
          8,
          9,
          10
         ],
         "y": [
          0.02775108092828761,
          0.023816398695487385,
          0.023816398695487385,
          0.023816398695487385,
          0.020984311186196668,
          0.020803704983406106,
          0.020803704983406106,
          0.019070062901455596,
          0.018098446855175324,
          0.01576773913815434
         ]
        },
        {
         "hovertext": "<b>Topic 165</b>:ks_book_books_piper_assistants_he",
         "line": {
          "color": "black",
          "width": 1.5
         },
         "mode": "lines+lines",
         "name": "",
         "opacity": 0.1,
         "type": "scatter",
         "x": [
          1,
          2,
          3,
          4,
          5,
          6,
          7,
          8,
          9,
          10
         ],
         "y": [
          0.027320980508247928,
          0.017298514664715433,
          0.01381318529836844,
          0.012457779783230743,
          0.011998346953612394,
          0.010430686002018982,
          0.008593368268208251,
          0.008545037566583032,
          0.008407455401732305,
          0.007982674702132327
         ]
        },
        {
         "hovertext": "<b>Topic 166</b>:uv_blue_leds_led_light_blue leds_",
         "line": {
          "color": "black",
          "width": 1.5
         },
         "mode": "lines+lines",
         "name": "",
         "opacity": 0.1,
         "type": "scatter",
         "x": [
          1,
          2,
          3,
          4,
          5,
          6,
          7,
          8,
          9,
          10
         ],
         "y": [
          0.029354013589997976,
          0.02879842598565434,
          0.023748030333874178,
          0.018257448148908086,
          0.018253553475862497,
          0.01641323645411569,
          0.011359090763460915,
          0.01093550347523269,
          0.010476024374821107,
          0.010445994074501551
         ]
        },
        {
         "hovertext": "<b>Topic 167</b>:pgp_agrep_public_public keys_sour",
         "line": {
          "color": "black",
          "width": 1.5
         },
         "mode": "lines+lines",
         "name": "",
         "opacity": 0.1,
         "type": "scatter",
         "x": [
          1,
          2,
          3,
          4,
          5,
          6,
          7,
          8,
          9,
          10
         ],
         "y": [
          0.02935523232791165,
          0.01466242799688155,
          0.011413139490988737,
          0.010534208129826507,
          0.009069475525920634,
          0.008959945528088408,
          0.008455102332942777,
          0.008295916050280999,
          0.008232387630416942,
          0.00794919162414282
         ]
        },
        {
         "hovertext": "<b>Topic 168</b>:probe_spacecraft_mars_april_missi",
         "line": {
          "color": "black",
          "width": 1.5
         },
         "mode": "lines+lines",
         "name": "",
         "opacity": 0.1,
         "type": "scatter",
         "x": [
          1,
          2,
          3,
          4,
          5,
          6,
          7,
          8,
          9,
          10
         ],
         "y": [
          0.012247628825900747,
          0.010075244248515292,
          0.009414967357748745,
          0.00818540825826916,
          0.007849391402785602,
          0.0075521172859459,
          0.0073161100082860175,
          0.0071667733004201735,
          0.006904309395682414,
          0.006832012481192756
         ]
        },
        {
         "hovertext": "<b>Topic 169</b>:adaptor_vcr_obo_camcorder_shippin",
         "line": {
          "color": "black",
          "width": 1.5
         },
         "mode": "lines+lines",
         "name": "",
         "opacity": 0.1,
         "type": "scatter",
         "x": [
          1,
          2,
          3,
          4,
          5,
          6,
          7,
          8,
          9,
          10
         ],
         "y": [
          0.01511465431811898,
          0.0149031010160847,
          0.014044127770656912,
          0.012832763280524321,
          0.011490591094319281,
          0.011157059181740363,
          0.010621123574844508,
          0.01056405688507894,
          0.010340166903792542,
          0.01012233335728341
         ]
        },
        {
         "hovertext": "<b>Topic 170</b>:easter_resurrection_the resurrect",
         "line": {
          "color": "black",
          "width": 1.5
         },
         "mode": "lines+lines",
         "name": "",
         "opacity": 0.1,
         "type": "scatter",
         "x": [
          1,
          2,
          3,
          4,
          5,
          6,
          7,
          8,
          9,
          10
         ],
         "y": [
          0.027220892312545344,
          0.011762720597955861,
          0.011493014947883134,
          0.010951892943713114,
          0.010028996859860032,
          0.008805027608631956,
          0.008053402480958887,
          0.007941464781003705,
          0.007776810322246801,
          0.007065862095432791
         ]
        },
        {
         "hovertext": "<b>Topic 171</b>:image_processing_and_edu_data_ana",
         "line": {
          "color": "black",
          "width": 1.5
         },
         "mode": "lines+lines",
         "name": "",
         "opacity": 0.1,
         "type": "scatter",
         "x": [
          1,
          2,
          3,
          4,
          5,
          6,
          7,
          8,
          9,
          10
         ],
         "y": [
          0.01331511935357968,
          0.005831847450396609,
          0.005134320574207851,
          0.00465110887766677,
          0.004498644826109075,
          0.004469309274609154,
          0.004320501408848631,
          0.0042185331096137365,
          0.00420925931503858,
          0.00416925595526343
         ]
        },
        {
         "hovertext": "<b>Topic 172</b>:pluto_orbit_mission_solar_mercury",
         "line": {
          "color": "black",
          "width": 1.5
         },
         "mode": "lines+lines",
         "name": "",
         "opacity": 0.1,
         "type": "scatter",
         "x": [
          1,
          2,
          3,
          4,
          5,
          6,
          7,
          8,
          9,
          10
         ],
         "y": [
          0.0238023006007677,
          0.015333679439828366,
          0.011406349202761195,
          0.009811836483233593,
          0.009331608239732772,
          0.007179599324975964,
          0.006646067274656585,
          0.006257079136325687,
          0.006112603756600788,
          0.006052365415576168
         ]
        },
        {
         "hovertext": "<b>Topic 173</b>:ftp_cica_pkzip_tool_qwk mail_quin",
         "line": {
          "color": "black",
          "width": 1.5
         },
         "mode": "lines+lines",
         "name": "",
         "opacity": 0.1,
         "type": "scatter",
         "x": [
          1,
          2,
          3,
          4,
          5,
          6,
          7,
          8,
          9,
          10
         ],
         "y": [
          0.023337456589563012,
          0.01674769365540145,
          0.013279209141069448,
          0.011413558241442115,
          0.010986186597732987,
          0.010541622075172988,
          0.010541622075172988,
          0.010461295644696526,
          0.010288871848983475,
          0.009981555081547945
         ]
        },
        {
         "hovertext": "<b>Topic 174</b>:42_question_tea_the question_for ",
         "line": {
          "color": "black",
          "width": 1.5
         },
         "mode": "lines+lines",
         "name": "",
         "opacity": 0.1,
         "type": "scatter",
         "x": [
          1,
          2,
          3,
          4,
          5,
          6,
          7,
          8,
          9,
          10
         ],
         "y": [
          0.018192421447317586,
          0.017262215923920517,
          0.01649856520337271,
          0.016142627843878765,
          0.013835322740030295,
          0.01307390521916328,
          0.012170337872597284,
          0.011568819918730327,
          0.011372169624308728,
          0.010790273252970797
         ]
        },
        {
         "hovertext": "<b>Topic 175</b>:god_jesus_trinity_father_cf_son_t",
         "line": {
          "color": "black",
          "width": 1.5
         },
         "mode": "lines+lines",
         "name": "",
         "opacity": 0.1,
         "type": "scatter",
         "x": [
          1,
          2,
          3,
          4,
          5,
          6,
          7,
          8,
          9,
          10
         ],
         "y": [
          0.017210895492522603,
          0.014311020421757492,
          0.01225492522953274,
          0.010959815556769871,
          0.010805097019699696,
          0.010394893769279037,
          0.010330344003792161,
          0.008892932875555924,
          0.00750307566092273,
          0.007192622165607211
         ]
        },
        {
         "hovertext": "<b>Topic 176</b>:sec_bus_ide_dma_transfer_controll",
         "line": {
          "color": "black",
          "width": 1.5
         },
         "mode": "lines+lines",
         "name": "",
         "opacity": 0.1,
         "type": "scatter",
         "x": [
          1,
          2,
          3,
          4,
          5,
          6,
          7,
          8,
          9,
          10
         ],
         "y": [
          0.02986677848100412,
          0.028640440033644753,
          0.027745493384058652,
          0.02545252322697028,
          0.019225873853085405,
          0.01917988483741538,
          0.018299074860782413,
          0.01800248624554754,
          0.014782198761385701,
          0.013597730276681014
         ]
        },
        {
         "hovertext": "<b>Topic 177</b>:crohn_inflammation_patients_colon",
         "line": {
          "color": "black",
          "width": 1.5
         },
         "mode": "lines+lines",
         "name": "",
         "opacity": 0.1,
         "type": "scatter",
         "x": [
          1,
          2,
          3,
          4,
          5,
          6,
          7,
          8,
          9,
          10
         ],
         "y": [
          0.01827427947289308,
          0.011854308500791855,
          0.010089422544390408,
          0.007815049443385305,
          0.007815049443385305,
          0.007812409623629264,
          0.007459904174053766,
          0.007388143517442886,
          0.00690290837897879,
          0.006677137171137934
         ]
        },
        {
         "hovertext": "<b>Topic 178</b>:prophecies_prophecy_god_the lord_",
         "line": {
          "color": "black",
          "width": 1.5
         },
         "mode": "lines+lines",
         "name": "",
         "opacity": 0.1,
         "type": "scatter",
         "x": [
          1,
          2,
          3,
          4,
          5,
          6,
          7,
          8,
          9,
          10
         ],
         "y": [
          0.012686512245107296,
          0.011811625002502331,
          0.009111394841112154,
          0.00890570680124898,
          0.008150432653516598,
          0.007290770523239297,
          0.005882036635381548,
          0.005602689306199244,
          0.00524752930034767,
          0.005071400389506306
         ]
        },
        {
         "hovertext": "<b>Topic 179</b>:keycode_key_xterm_xterm map_xmodm",
         "line": {
          "color": "black",
          "width": 1.5
         },
         "mode": "lines+lines",
         "name": "",
         "opacity": 0.1,
         "type": "scatter",
         "x": [
          1,
          2,
          3,
          4,
          5,
          6,
          7,
          8,
          9,
          10
         ],
         "y": [
          0.02652126811696445,
          0.025772707828414076,
          0.015639216252787577,
          0.015384868410069844,
          0.01530050116115176,
          0.014417038700685888,
          0.013582628851072564,
          0.01343873470140811,
          0.01343873470140811,
          0.01343873470140811
         ]
        },
        {
         "hovertext": "<b>Topic 180</b>:tempest_equipment_monitor_tempest",
         "line": {
          "color": "black",
          "width": 1.5
         },
         "mode": "lines+lines",
         "name": "",
         "opacity": 0.1,
         "type": "scatter",
         "x": [
          1,
          2,
          3,
          4,
          5,
          6,
          7,
          8,
          9,
          10
         ],
         "y": [
          0.048505757228813055,
          0.01377574126369306,
          0.012136991809584266,
          0.011428974556650004,
          0.011378635578346879,
          0.011104463862312692,
          0.010691124437768205,
          0.010269333957916866,
          0.00962768341791469,
          0.009194693382543345
         ]
        },
        {
         "hovertext": "<b>Topic 181</b>:dr speed not_technician dr speed_",
         "line": {
          "color": "black",
          "width": 1.5
         },
         "mode": "lines+lines",
         "name": "",
         "opacity": 0.1,
         "type": "scatter",
         "x": [
          1,
          2,
          3,
          4,
          5,
          6,
          7,
          8,
          9,
          10
         ],
         "y": [
          0.02133792926799105,
          0.02133792926799105,
          0.02133792926799105,
          0.02133792926799105,
          0.02133792926799105,
          0.02133792926799105,
          0.02133792926799105,
          0.02133792926799105,
          0.02133792926799105,
          0.021203087121757745
         ]
        },
        {
         "hovertext": "<b>Topic 182</b>:tires_tire_fluids_abs_brake_dot_b",
         "line": {
          "color": "black",
          "width": 1.5
         },
         "mode": "lines+lines",
         "name": "",
         "opacity": 0.1,
         "type": "scatter",
         "x": [
          1,
          2,
          3,
          4,
          5,
          6,
          7,
          8,
          9,
          10
         ],
         "y": [
          0.01534996069397852,
          0.013506785335289732,
          0.009441863402011133,
          0.008534382510440084,
          0.008143043781055487,
          0.007941064735488593,
          0.007574246123272138,
          0.007493721669932103,
          0.006723142062751482,
          0.005844616417477196
         ]
        },
        {
         "hovertext": "<b>Topic 183</b>:font_fonts_the font_windows_windo",
         "line": {
          "color": "black",
          "width": 1.5
         },
         "mode": "lines+lines",
         "name": "",
         "opacity": 0.1,
         "type": "scatter",
         "x": [
          1,
          2,
          3,
          4,
          5,
          6,
          7,
          8,
          9,
          10
         ],
         "y": [
          0.030374138270149613,
          0.020160596567470424,
          0.01983296219320598,
          0.012663721538311398,
          0.011951172477089156,
          0.011492275606601385,
          0.009761703796338395,
          0.009706905263276304,
          0.00928884959667417,
          0.00928884959667417
         ]
        },
        {
         "hovertext": "<b>Topic 184</b>:bill_s414_senate_bills_brady_hous",
         "line": {
          "color": "black",
          "width": 1.5
         },
         "mode": "lines+lines",
         "name": "",
         "opacity": 0.1,
         "type": "scatter",
         "x": [
          1,
          2,
          3,
          4,
          5,
          6,
          7,
          8,
          9,
          10
         ],
         "y": [
          0.020618189116351947,
          0.018452850507885907,
          0.015211372792864728,
          0.0148040875471147,
          0.012516309156442407,
          0.0120222382931327,
          0.010849327392598506,
          0.010289515374203754,
          0.010149070680231628,
          0.009798772170559087
         ]
        },
        {
         "hovertext": "<b>Topic 185</b>:blacks_african_white_african amer",
         "line": {
          "color": "black",
          "width": 1.5
         },
         "mode": "lines+lines",
         "name": "",
         "opacity": 0.1,
         "type": "scatter",
         "x": [
          1,
          2,
          3,
          4,
          5,
          6,
          7,
          8,
          9,
          10
         ],
         "y": [
          0.0132218039257632,
          0.010668591657440357,
          0.008219436830047432,
          0.00733350103994928,
          0.006801028216319277,
          0.006478922207167228,
          0.006363869400346051,
          0.006123505746776301,
          0.005738630414430549,
          0.005508665637838318
         ]
        },
        {
         "hovertext": "<b>Topic 186</b>:sabbath_the sabbath_moses_command",
         "line": {
          "color": "black",
          "width": 1.5
         },
         "mode": "lines+lines",
         "name": "",
         "opacity": 0.1,
         "type": "scatter",
         "x": [
          1,
          2,
          3,
          4,
          5,
          6,
          7,
          8,
          9,
          10
         ],
         "y": [
          0.02403273201395835,
          0.022138308447421328,
          0.014007096610375802,
          0.013891999964823551,
          0.013609859976179374,
          0.013069649403241172,
          0.011733141277628683,
          0.010274620873312771,
          0.010167254333609491,
          0.009994227402363495
         ]
        },
        {
         "hovertext": "<b>Topic 187</b>:piece_jacket_clothing_pants_women",
         "line": {
          "color": "black",
          "width": 1.5
         },
         "mode": "lines+lines",
         "name": "",
         "opacity": 0.1,
         "type": "scatter",
         "x": [
          1,
          2,
          3,
          4,
          5,
          6,
          7,
          8,
          9,
          10
         ],
         "y": [
          0.020375882498144985,
          0.019134149766935303,
          0.016793591863117702,
          0.0166339001901267,
          0.015224395886988637,
          0.01382786899958768,
          0.012171199906873195,
          0.012151893917735239,
          0.011412071213344867,
          0.011301301374955523
         ]
        },
        {
         "hovertext": "<b>Topic 188</b>:ear_the ear_wax_hearing_ears_hear",
         "line": {
          "color": "black",
          "width": 1.5
         },
         "mode": "lines+lines",
         "name": "",
         "opacity": 0.1,
         "type": "scatter",
         "x": [
          1,
          2,
          3,
          4,
          5,
          6,
          7,
          8,
          9,
          10
         ],
         "y": [
          0.035903086298083045,
          0.01925224760985341,
          0.014007118720480848,
          0.013752028720725652,
          0.011386245171879373,
          0.009040043340082623,
          0.008454198070963587,
          0.00814974468512957,
          0.007784362076461017,
          0.007784362076461017
         ]
        },
        {
         "hovertext": "<b>Topic 189</b>:rights_right to_right_israel_free",
         "line": {
          "color": "black",
          "width": 1.5
         },
         "mode": "lines+lines",
         "name": "",
         "opacity": 0.1,
         "type": "scatter",
         "x": [
          1,
          2,
          3,
          4,
          5,
          6,
          7,
          8,
          9,
          10
         ],
         "y": [
          0.011264211901237864,
          0.00994954608829704,
          0.008983123614617963,
          0.007152711193683889,
          0.007090857252466756,
          0.006920396493031737,
          0.006559443141873563,
          0.006031603125550319,
          0.0057146856431178695,
          0.005664198952127651
         ]
        },
        {
         "hovertext": "<b>Topic 190</b>:ca_bbs_ca 818_ca 408_818_ca 805_4",
         "line": {
          "color": "black",
          "width": 1.5
         },
         "mode": "lines+lines",
         "name": "",
         "opacity": 0.1,
         "type": "scatter",
         "x": [
          1,
          2,
          3,
          4,
          5,
          6,
          7,
          8,
          9,
          10
         ],
         "y": [
          0.08662241185494314,
          0.04568046274848309,
          0.030037813827428393,
          0.029176879247565648,
          0.02802911691129453,
          0.026199350777163948,
          0.022040171895603942,
          0.020219932710950007,
          0.01826000885588601,
          0.017559005430485164
         ]
        },
        {
         "hovertext": "<b>Topic 191</b>:ground_grounding_neutral_conducto",
         "line": {
          "color": "black",
          "width": 1.5
         },
         "mode": "lines+lines",
         "name": "",
         "opacity": 0.1,
         "type": "scatter",
         "x": [
          1,
          2,
          3,
          4,
          5,
          6,
          7,
          8,
          9,
          10
         ],
         "y": [
          0.038988705654964706,
          0.022659695081155642,
          0.02213107026122656,
          0.02078099364176571,
          0.01788716487351359,
          0.017638764902916607,
          0.016903675635895173,
          0.014873944458718154,
          0.01268444732400301,
          0.011083882087684679
         ]
        },
        {
         "hovertext": "<b>Topic 192</b>:jim_out of context_of context_con",
         "line": {
          "color": "black",
          "width": 1.5
         },
         "mode": "lines+lines",
         "name": "",
         "opacity": 0.1,
         "type": "scatter",
         "x": [
          1,
          2,
          3,
          4,
          5,
          6,
          7,
          8,
          9,
          10
         ],
         "y": [
          0.01582942453517471,
          0.013619475182462487,
          0.013560923965376979,
          0.012612138746479122,
          0.008963926555386715,
          0.007972299089765897,
          0.007972299089765897,
          0.007640596130961121,
          0.007640596130961121,
          0.0073045225552511315
         ]
        },
        {
         "hovertext": "<b>Topic 193</b>:the law_law_jesus_paul_of the law",
         "line": {
          "color": "black",
          "width": 1.5
         },
         "mode": "lines+lines",
         "name": "",
         "opacity": 0.1,
         "type": "scatter",
         "x": [
          1,
          2,
          3,
          4,
          5,
          6,
          7,
          8,
          9,
          10
         ],
         "y": [
          0.024632205527631974,
          0.021761261758863337,
          0.016002684627593425,
          0.010132645652399777,
          0.009284064733183132,
          0.008332309775557802,
          0.005894595109656231,
          0.0057114389478270826,
          0.0057084148755961505,
          0.005619633705379176
         ]
        },
        {
         "hovertext": "<b>Topic 194</b>:hook_on hook_off hook_phone_the p",
         "line": {
          "color": "black",
          "width": 1.5
         },
         "mode": "lines+lines",
         "name": "",
         "opacity": 0.1,
         "type": "scatter",
         "x": [
          1,
          2,
          3,
          4,
          5,
          6,
          7,
          8,
          9,
          10
         ],
         "y": [
          0.02608371991529593,
          0.018352328910953394,
          0.018125306808381206,
          0.017000931989721864,
          0.014564190964216088,
          0.01445343848542697,
          0.01411633211506046,
          0.012969636109410359,
          0.012506171883224221,
          0.01153008405665176
         ]
        },
        {
         "hovertext": "<b>Topic 195</b>:wasps_chiggers_centipedes_millipe",
         "line": {
          "color": "black",
          "width": 1.5
         },
         "mode": "lines+lines",
         "name": "",
         "opacity": 0.1,
         "type": "scatter",
         "x": [
          1,
          2,
          3,
          4,
          5,
          6,
          7,
          8,
          9,
          10
         ],
         "y": [
          0.019223142045099124,
          0.012120759428837398,
          0.012120759428837398,
          0.008447735075311392,
          0.008205934267862558,
          0.007966743022708033,
          0.007617882571638478,
          0.00685170178934404,
          0.0065312223726615255,
          0.00619780068537687
         ]
        },
        {
         "hovertext": "<b>Topic 196</b>:sampling_oversampling_filter_rate",
         "line": {
          "color": "black",
          "width": 1.5
         },
         "mode": "lines+lines",
         "name": "",
         "opacity": 0.1,
         "type": "scatter",
         "x": [
          1,
          2,
          3,
          4,
          5,
          6,
          7,
          8,
          9,
          10
         ],
         "y": [
          0.015145722466768763,
          0.013711525426293813,
          0.01247775290777474,
          0.01215407614421089,
          0.010880811620177355,
          0.00908575847950561,
          0.00845618224145644,
          0.008373941286579114,
          0.008198341465425281,
          0.008131906839757381
         ]
        },
        {
         "hovertext": "<b>Topic 197</b>:cview_temp_temp files_directory_f",
         "line": {
          "color": "black",
          "width": 1.5
         },
         "mode": "lines+lines",
         "name": "",
         "opacity": 0.1,
         "type": "scatter",
         "x": [
          1,
          2,
          3,
          4,
          5,
          6,
          7,
          8,
          9,
          10
         ],
         "y": [
          0.05781494295959536,
          0.027346753394894962,
          0.01730481966890716,
          0.015048629042487665,
          0.014348088226173514,
          0.013816344245188003,
          0.01312562447425729,
          0.012859201837318684,
          0.011176741936682411,
          0.009885862280250235
         ]
        },
        {
         "hovertext": "<b>Topic 198</b>:rosicrucian_order_reuss_the order",
         "line": {
          "color": "black",
          "width": 1.5
         },
         "mode": "lines+lines",
         "name": "",
         "opacity": 0.1,
         "type": "scatter",
         "x": [
          1,
          2,
          3,
          4,
          5,
          6,
          7,
          8,
          9,
          10
         ],
         "y": [
          0.015559540555840672,
          0.014399845781965999,
          0.013687723109125626,
          0.011075477171121869,
          0.010296683516471198,
          0.006713904065153225,
          0.006225168499170081,
          0.006127866172531769,
          0.005965515082087704,
          0.005965515082087704
         ]
        },
        {
         "hovertext": "<b>Topic 199</b>:tongues_language_in tongues_speak",
         "line": {
          "color": "black",
          "width": 1.5
         },
         "mode": "lines+lines",
         "name": "",
         "opacity": 0.1,
         "type": "scatter",
         "x": [
          1,
          2,
          3,
          4,
          5,
          6,
          7,
          8,
          9,
          10
         ],
         "y": [
          0.02247289871565208,
          0.018800771846479183,
          0.014935740428440298,
          0.01212001545590575,
          0.008652332751610398,
          0.008414285178663038,
          0.008070452789436314,
          0.00797061962004091,
          0.007787482785874934,
          0.007525305437147437
         ]
        },
        {
         "hovertext": "<b>Topic 200</b>:x11r5_r5_patch_sunos_xkernel_mit_",
         "line": {
          "color": "black",
          "width": 1.5
         },
         "mode": "lines+lines",
         "name": "",
         "opacity": 0.1,
         "type": "scatter",
         "x": [
          1,
          2,
          3,
          4,
          5,
          6,
          7,
          8,
          9,
          10
         ],
         "y": [
          0.017289894127823533,
          0.015846952633696,
          0.013585590647733473,
          0.011674456334881256,
          0.011524342931530368,
          0.010556389137340751,
          0.00969463200496612,
          0.00969463200496612,
          0.00969463200496612,
          0.00969463200496612
         ]
        },
        {
         "hovertext": "<b>Topic 201</b>:anonymous_anonymity_privacy_inter",
         "line": {
          "color": "black",
          "width": 1.5
         },
         "mode": "lines+lines",
         "name": "",
         "opacity": 0.1,
         "type": "scatter",
         "x": [
          1,
          2,
          3,
          4,
          5,
          6,
          7,
          8,
          9,
          10
         ],
         "y": [
          0.010185535188547897,
          0.007200852895572661,
          0.006869337428600773,
          0.006209545213311439,
          0.005920074464786024,
          0.005781792711251379,
          0.005734429331134719,
          0.004994278776157325,
          0.004957813706358762,
          0.00468130838023914
         ]
        },
        {
         "hovertext": "<b>Topic 202</b>:korea_japan_the japanese_japanese",
         "line": {
          "color": "black",
          "width": 1.5
         },
         "mode": "lines+lines",
         "name": "",
         "opacity": 0.1,
         "type": "scatter",
         "x": [
          1,
          2,
          3,
          4,
          5,
          6,
          7,
          8,
          9,
          10
         ],
         "y": [
          0.030044037114844026,
          0.01971273279161602,
          0.0195519955002191,
          0.019026657247966282,
          0.018542196534154037,
          0.013786539546263077,
          0.013786539546263077,
          0.013786539546263077,
          0.013786539546263077,
          0.013786539546263077
         ]
        },
        {
         "hovertext": "<b>Topic 203</b>:clinton_bush_government_has_been_",
         "line": {
          "color": "black",
          "width": 1.5
         },
         "mode": "lines+lines",
         "name": "",
         "opacity": 0.1,
         "type": "scatter",
         "x": [
          1,
          2,
          3,
          4,
          5,
          6,
          7,
          8,
          9,
          10
         ],
         "y": [
          0.012940668609153739,
          0.008012289176722592,
          0.007143033937059932,
          0.00698089934226883,
          0.006526697936629081,
          0.006500022530978899,
          0.006080675970641116,
          0.005758491026683625,
          0.005722737138540855,
          0.005521946787793107
         ]
        },
        {
         "hovertext": "<b>Topic 204</b>:cramer_homosexual_men_mr cramer_h",
         "line": {
          "color": "black",
          "width": 1.5
         },
         "mode": "lines+lines",
         "name": "",
         "opacity": 0.1,
         "type": "scatter",
         "x": [
          1,
          2,
          3,
          4,
          5,
          6,
          7,
          8,
          9,
          10
         ],
         "y": [
          0.025916954704214512,
          0.0211852964467888,
          0.014512831117934359,
          0.013520092382889494,
          0.010335018347495322,
          0.00895460951478027,
          0.008474102118171985,
          0.008430881611661544,
          0.007656976842375968,
          0.007552532695948891
         ]
        },
        {
         "hovertext": "<b>Topic 205</b>:needles_acupuncture_needle_syring",
         "line": {
          "color": "black",
          "width": 1.5
         },
         "mode": "lines+lines",
         "name": "",
         "opacity": 0.1,
         "type": "scatter",
         "x": [
          1,
          2,
          3,
          4,
          5,
          6,
          7,
          8,
          9,
          10
         ],
         "y": [
          0.04580637178321252,
          0.02274985803024087,
          0.020311118348015716,
          0.017362922919935967,
          0.013983376704104036,
          0.013540745565343812,
          0.01346659066259298,
          0.013261507511181112,
          0.011574478050104808,
          0.01146089035102154
         ]
        },
        {
         "hovertext": "<b>Topic 206</b>:dod_the dod_denizens_of doom_rec_",
         "line": {
          "color": "black",
          "width": 1.5
         },
         "mode": "lines+lines",
         "name": "",
         "opacity": 0.1,
         "type": "scatter",
         "x": [
          1,
          2,
          3,
          4,
          5,
          6,
          7,
          8,
          9,
          10
         ],
         "y": [
          0.034061556899082066,
          0.012076010442710654,
          0.01062645978707569,
          0.008900414288106302,
          0.008417749737151451,
          0.008300216858487447,
          0.008299717342974177,
          0.008202492578213885,
          0.007781975126568402,
          0.007689701750383867
         ]
        },
        {
         "hovertext": "<b>Topic 207</b>:print_printer_print manager_file_",
         "line": {
          "color": "black",
          "width": 1.5
         },
         "mode": "lines+lines",
         "name": "",
         "opacity": 0.1,
         "type": "scatter",
         "x": [
          1,
          2,
          3,
          4,
          5,
          6,
          7,
          8,
          9,
          10
         ],
         "y": [
          0.03343356856132118,
          0.030501104543407452,
          0.017867732232662786,
          0.01735796869248719,
          0.01720177292965179,
          0.014763185868549489,
          0.014760323895642557,
          0.013137304687583305,
          0.01176464108742415,
          0.011431145815587213
         ]
        },
        {
         "hovertext": "<b>Topic 208</b>:8051_the 8051_assembler_signetics",
         "line": {
          "color": "black",
          "width": 1.5
         },
         "mode": "lines+lines",
         "name": "",
         "opacity": 0.1,
         "type": "scatter",
         "x": [
          1,
          2,
          3,
          4,
          5,
          6,
          7,
          8,
          9,
          10
         ],
         "y": [
          0.04637579939039442,
          0.024353071788046354,
          0.01974564884525595,
          0.014969983183216337,
          0.01407183069237244,
          0.013346475824804799,
          0.013212812211866232,
          0.013118709301657174,
          0.012848777759021393,
          0.011096270779995357
         ]
        },
        {
         "hovertext": "<b>Topic 209</b>:sin_hate_love_sinner_the sinner_h",
         "line": {
          "color": "black",
          "width": 1.5
         },
         "mode": "lines+lines",
         "name": "",
         "opacity": 0.1,
         "type": "scatter",
         "x": [
          1,
          2,
          3,
          4,
          5,
          6,
          7,
          8,
          9,
          10
         ],
         "y": [
          0.022526189193737667,
          0.022335607392766216,
          0.016084200511483248,
          0.013363262426917225,
          0.013135678016135577,
          0.011677451466492877,
          0.011607859015531958,
          0.009071261500548681,
          0.007996357179225175,
          0.0072484207578740354
         ]
        },
        {
         "hovertext": "<b>Topic 210</b>:placebo_jb_placebo effect_rr_medi",
         "line": {
          "color": "black",
          "width": 1.5
         },
         "mode": "lines+lines",
         "name": "",
         "opacity": 0.1,
         "type": "scatter",
         "x": [
          1,
          2,
          3,
          4,
          5,
          6,
          7,
          8,
          9,
          10
         ],
         "y": [
          0.021497241751228146,
          0.011973223776836118,
          0.011224747893345186,
          0.011128998746629768,
          0.010631202836437086,
          0.010188906697363827,
          0.010082197151893948,
          0.009272923917045539,
          0.009204066625778313,
          0.008310325188997502
         ]
        },
        {
         "hovertext": "<b>Topic 211</b>:meat_carcinogenic_smoke_carcinoge",
         "line": {
          "color": "black",
          "width": 1.5
         },
         "mode": "lines+lines",
         "name": "",
         "opacity": 0.1,
         "type": "scatter",
         "x": [
          1,
          2,
          3,
          4,
          5,
          6,
          7,
          8,
          9,
          10
         ],
         "y": [
          0.016252635484323336,
          0.015092224960231278,
          0.013727202256138167,
          0.012006566540544179,
          0.01086643224464364,
          0.009682863828823355,
          0.009443987025314467,
          0.009228202468525251,
          0.008368146723323264,
          0.008368146723323264
         ]
        },
        {
         "hovertext": "<b>Topic 212</b>:boards_solder_solder mask_mask_gr",
         "line": {
          "color": "black",
          "width": 1.5
         },
         "mode": "lines+lines",
         "name": "",
         "opacity": 0.1,
         "type": "scatter",
         "x": [
          1,
          2,
          3,
          4,
          5,
          6,
          7,
          8,
          9,
          10
         ],
         "y": [
          0.03138883800714327,
          0.02610666195155025,
          0.02502291125299769,
          0.024302903696179337,
          0.020277349134536226,
          0.01688931168565336,
          0.013422934796029535,
          0.012426294147906492,
          0.01154903596292201,
          0.01125481542143788
         ]
        },
        {
         "hovertext": "<b>Topic 213</b>:mac_disks_read_to read_disk_the m",
         "line": {
          "color": "black",
          "width": 1.5
         },
         "mode": "lines+lines",
         "name": "",
         "opacity": 0.1,
         "type": "scatter",
         "x": [
          1,
          2,
          3,
          4,
          5,
          6,
          7,
          8,
          9,
          10
         ],
         "y": [
          0.03143459869387375,
          0.024179829883225357,
          0.019900563170262953,
          0.01753247951311481,
          0.01565654804076045,
          0.014769196077754313,
          0.014648239793229826,
          0.01394488820756087,
          0.01394488820756087,
          0.01394488820756087
         ]
        },
        {
         "hovertext": "<b>Topic 214</b>:keyboard_rsi_pc_typing_exercises_",
         "line": {
          "color": "black",
          "width": 1.5
         },
         "mode": "lines+lines",
         "name": "",
         "opacity": 0.1,
         "type": "scatter",
         "x": [
          1,
          2,
          3,
          4,
          5,
          6,
          7,
          8,
          9,
          10
         ],
         "y": [
          0.019748021550639663,
          0.009045251960190742,
          0.008860548436466687,
          0.0086680441997579,
          0.007525502079608829,
          0.0062060533841724295,
          0.004970948002003443,
          0.004937058382611043,
          0.004744708137336726,
          0.004681786485373148
         ]
        },
        {
         "hovertext": "<b>Topic 215</b>:shared memory_memory_server_share",
         "line": {
          "color": "black",
          "width": 1.5
         },
         "mode": "lines+lines",
         "name": "",
         "opacity": 0.1,
         "type": "scatter",
         "x": [
          1,
          2,
          3,
          4,
          5,
          6,
          7,
          8,
          9,
          10
         ],
         "y": [
          0.03257951214368447,
          0.030214281674067024,
          0.02641279476301225,
          0.02601129817305947,
          0.017731535485586144,
          0.016739279826179985,
          0.016277545740809057,
          0.01487935984549332,
          0.013098865030889058,
          0.012467760782843887
         ]
        },
        {
         "hovertext": "<b>Topic 216</b>:oil_indicators_service_indicator_",
         "line": {
          "color": "black",
          "width": 1.5
         },
         "mode": "lines+lines",
         "name": "",
         "opacity": 0.1,
         "type": "scatter",
         "x": [
          1,
          2,
          3,
          4,
          5,
          6,
          7,
          8,
          9,
          10
         ],
         "y": [
          0.039225272789777096,
          0.022494212896437032,
          0.017982082368479403,
          0.017336893014985033,
          0.016639708842994143,
          0.015763681132688837,
          0.013894010804740712,
          0.013893800544065943,
          0.013715090261335213,
          0.013680669361088459
         ]
        },
        {
         "hovertext": "<b>Topic 217</b>:cancer_burzynski_cell_dr burzynsk",
         "line": {
          "color": "black",
          "width": 1.5
         },
         "mode": "lines+lines",
         "name": "",
         "opacity": 0.1,
         "type": "scatter",
         "x": [
          1,
          2,
          3,
          4,
          5,
          6,
          7,
          8,
          9,
          10
         ],
         "y": [
          0.03816215946615453,
          0.025384572398763107,
          0.010471775789917866,
          0.01014312557092021,
          0.009967880069753302,
          0.009504225085691802,
          0.009454069856570085,
          0.009028166321574103,
          0.00874496943019837,
          0.008625334692412097
         ]
        },
        {
         "hovertext": "<b>Topic 218</b>:media_washington dc_washington_nw",
         "line": {
          "color": "black",
          "width": 1.5
         },
         "mode": "lines+lines",
         "name": "",
         "opacity": 0.1,
         "type": "scatter",
         "x": [
          1,
          2,
          3,
          4,
          5,
          6,
          7,
          8,
          9,
          10
         ],
         "y": [
          0.025360295199643473,
          0.01571072137057686,
          0.015550426528021327,
          0.015311092473201797,
          0.015246670416553707,
          0.014774480805133784,
          0.014774480805133784,
          0.014673681157597561,
          0.014373918243641775,
          0.014008553750038516
         ]
        },
        {
         "hovertext": "<b>Topic 219</b>:sound_soundbase_stereo_mac_to sou",
         "line": {
          "color": "black",
          "width": 1.5
         },
         "mode": "lines+lines",
         "name": "",
         "opacity": 0.1,
         "type": "scatter",
         "x": [
          1,
          2,
          3,
          4,
          5,
          6,
          7,
          8,
          9,
          10
         ],
         "y": [
          0.03851025162837566,
          0.01833606618987401,
          0.01689020722905063,
          0.015502176427096295,
          0.01274236994381981,
          0.012673573107107317,
          0.012377152056224382,
          0.012137972412440134,
          0.011026136427291337,
          0.009439694743539258
         ]
        },
        {
         "hovertext": "<b>Topic 220</b>:xterm_shell_character_font_xon_ma",
         "line": {
          "color": "black",
          "width": 1.5
         },
         "mode": "lines+lines",
         "name": "",
         "opacity": 0.1,
         "type": "scatter",
         "x": [
          1,
          2,
          3,
          4,
          5,
          6,
          7,
          8,
          9,
          10
         ],
         "y": [
          0.035470285214391634,
          0.015607636786278242,
          0.013678096038704506,
          0.012984460217561599,
          0.012068399338968945,
          0.01126305711602127,
          0.010227760772281111,
          0.009134355237490446,
          0.008901650537919758,
          0.008764608168479989
         ]
        },
        {
         "hovertext": "<b>Topic 221</b>:moscow_aviation_russian_su_instit",
         "line": {
          "color": "black",
          "width": 1.5
         },
         "mode": "lines+lines",
         "name": "",
         "opacity": 0.1,
         "type": "scatter",
         "x": [
          1,
          2,
          3,
          4,
          5,
          6,
          7,
          8,
          9,
          10
         ],
         "y": [
          0.020900401839552912,
          0.016689274339726386,
          0.013920382780486776,
          0.013288731967271625,
          0.01090141889527051,
          0.008863197456064412,
          0.008863197456064412,
          0.008863197456064412,
          0.008863197456064412,
          0.008863197456064412
         ]
        },
        {
         "hovertext": "<b>Topic 222</b>:mac_sys mac_comp sys mac_system_c",
         "line": {
          "color": "black",
          "width": 1.5
         },
         "mode": "lines+lines",
         "name": "",
         "opacity": 0.1,
         "type": "scatter",
         "x": [
          1,
          2,
          3,
          4,
          5,
          6,
          7,
          8,
          9,
          10
         ],
         "y": [
          0.013222783761272316,
          0.010969964699189528,
          0.010969964699189528,
          0.010623491579472129,
          0.01036737629521944,
          0.009392393254251263,
          0.009111050635491526,
          0.008700365845559636,
          0.008501055496266206,
          0.007748043755190777
         ]
        },
        {
         "hovertext": "<b>Topic 223</b>:of the drawing_the drawing_draw_d",
         "line": {
          "color": "black",
          "width": 1.5
         },
         "mode": "lines+lines",
         "name": "",
         "opacity": 0.1,
         "type": "scatter",
         "x": [
          1,
          2,
          3,
          4,
          5,
          6,
          7,
          8,
          9,
          10
         ],
         "y": [
          0.0168764262951652,
          0.014254606906201723,
          0.013580124680796132,
          0.01260296848894255,
          0.011952020174557846,
          0.011225529975601714,
          0.010624826284095758,
          0.010521773198137095,
          0.010018154009496296,
          0.009546132076150828
         ]
        },
        {
         "hovertext": "<b>Topic 224</b>:religion_motivated_religion is_th",
         "line": {
          "color": "black",
          "width": 1.5
         },
         "mode": "lines+lines",
         "name": "",
         "opacity": 0.1,
         "type": "scatter",
         "x": [
          1,
          2,
          3,
          4,
          5,
          6,
          7,
          8,
          9,
          10
         ],
         "y": [
          0.02585957320531493,
          0.011461522545520592,
          0.00871360922487325,
          0.008413860284152431,
          0.008101354413005385,
          0.007830511879297033,
          0.007237703639210729,
          0.006814418096905101,
          0.0062699112787817654,
          0.006213390754925901
         ]
        },
        {
         "hovertext": "<b>Topic 225</b>:wsm_windows_paradox_shareware_sof",
         "line": {
          "color": "black",
          "width": 1.5
         },
         "mode": "lines+lines",
         "name": "",
         "opacity": 0.1,
         "type": "scatter",
         "x": [
          1,
          2,
          3,
          4,
          5,
          6,
          7,
          8,
          9,
          10
         ],
         "y": [
          0.015917711977049942,
          0.015214105388453043,
          0.012508351533996282,
          0.010264719850905856,
          0.009474298615924226,
          0.008237067725558498,
          0.007217101584943917,
          0.007175825675051939,
          0.006923907652565138,
          0.006903369270361249
         ]
        },
        {
         "hovertext": "<b>Topic 226</b>:polio_patients_post polio_disease",
         "line": {
          "color": "black",
          "width": 1.5
         },
         "mode": "lines+lines",
         "name": "",
         "opacity": 0.1,
         "type": "scatter",
         "x": [
          1,
          2,
          3,
          4,
          5,
          6,
          7,
          8,
          9,
          10
         ],
         "y": [
          0.031040326128503163,
          0.016081090265358797,
          0.01387168497606577,
          0.01069661726454819,
          0.010455474074181357,
          0.010087986179838975,
          0.01005237058147479,
          0.00926815132801031,
          0.008669803110041107,
          0.0077364175832077735
         ]
        },
        {
         "hovertext": "<b>Topic 227</b>:paganism_do you feel_black sabbat",
         "line": {
          "color": "black",
          "width": 1.5
         },
         "mode": "lines+lines",
         "name": "",
         "opacity": 0.1,
         "type": "scatter",
         "x": [
          1,
          2,
          3,
          4,
          5,
          6,
          7,
          8,
          9,
          10
         ],
         "y": [
          0.01766584073201742,
          0.01600641332843336,
          0.015800052741176105,
          0.01499291948302434,
          0.01295281870327405,
          0.012215751790622287,
          0.011873054878574684,
          0.010677830049951653,
          0.010673171577964689,
          0.01056497115449378
         ]
        },
        {
         "hovertext": "<b>Topic 228</b>:ham_interference_radio_local osci",
         "line": {
          "color": "black",
          "width": 1.5
         },
         "mode": "lines+lines",
         "name": "",
         "opacity": 0.1,
         "type": "scatter",
         "x": [
          1,
          2,
          3,
          4,
          5,
          6,
          7,
          8,
          9,
          10
         ],
         "y": [
          0.03166688732830318,
          0.02211236353172171,
          0.018238492308704824,
          0.010731544567967707,
          0.010598793143149187,
          0.009221216137061752,
          0.008832327619290991,
          0.008823511339976308,
          0.008739993282660657,
          0.008546709584907738
         ]
        }
       ],
       "layout": {
        "height": 500,
        "hoverlabel": {
         "bgcolor": "white",
         "font": {
          "family": "Rockwell",
          "size": 16
         }
        },
        "showlegend": false,
        "template": {
         "data": {
          "bar": [
           {
            "error_x": {
             "color": "#2a3f5f"
            },
            "error_y": {
             "color": "#2a3f5f"
            },
            "marker": {
             "line": {
              "color": "white",
              "width": 0.5
             },
             "pattern": {
              "fillmode": "overlay",
              "size": 10,
              "solidity": 0.2
             }
            },
            "type": "bar"
           }
          ],
          "barpolar": [
           {
            "marker": {
             "line": {
              "color": "white",
              "width": 0.5
             },
             "pattern": {
              "fillmode": "overlay",
              "size": 10,
              "solidity": 0.2
             }
            },
            "type": "barpolar"
           }
          ],
          "carpet": [
           {
            "aaxis": {
             "endlinecolor": "#2a3f5f",
             "gridcolor": "#C8D4E3",
             "linecolor": "#C8D4E3",
             "minorgridcolor": "#C8D4E3",
             "startlinecolor": "#2a3f5f"
            },
            "baxis": {
             "endlinecolor": "#2a3f5f",
             "gridcolor": "#C8D4E3",
             "linecolor": "#C8D4E3",
             "minorgridcolor": "#C8D4E3",
             "startlinecolor": "#2a3f5f"
            },
            "type": "carpet"
           }
          ],
          "choropleth": [
           {
            "colorbar": {
             "outlinewidth": 0,
             "ticks": ""
            },
            "type": "choropleth"
           }
          ],
          "contour": [
           {
            "colorbar": {
             "outlinewidth": 0,
             "ticks": ""
            },
            "colorscale": [
             [
              0,
              "#0d0887"
             ],
             [
              0.1111111111111111,
              "#46039f"
             ],
             [
              0.2222222222222222,
              "#7201a8"
             ],
             [
              0.3333333333333333,
              "#9c179e"
             ],
             [
              0.4444444444444444,
              "#bd3786"
             ],
             [
              0.5555555555555556,
              "#d8576b"
             ],
             [
              0.6666666666666666,
              "#ed7953"
             ],
             [
              0.7777777777777778,
              "#fb9f3a"
             ],
             [
              0.8888888888888888,
              "#fdca26"
             ],
             [
              1,
              "#f0f921"
             ]
            ],
            "type": "contour"
           }
          ],
          "contourcarpet": [
           {
            "colorbar": {
             "outlinewidth": 0,
             "ticks": ""
            },
            "type": "contourcarpet"
           }
          ],
          "heatmap": [
           {
            "colorbar": {
             "outlinewidth": 0,
             "ticks": ""
            },
            "colorscale": [
             [
              0,
              "#0d0887"
             ],
             [
              0.1111111111111111,
              "#46039f"
             ],
             [
              0.2222222222222222,
              "#7201a8"
             ],
             [
              0.3333333333333333,
              "#9c179e"
             ],
             [
              0.4444444444444444,
              "#bd3786"
             ],
             [
              0.5555555555555556,
              "#d8576b"
             ],
             [
              0.6666666666666666,
              "#ed7953"
             ],
             [
              0.7777777777777778,
              "#fb9f3a"
             ],
             [
              0.8888888888888888,
              "#fdca26"
             ],
             [
              1,
              "#f0f921"
             ]
            ],
            "type": "heatmap"
           }
          ],
          "heatmapgl": [
           {
            "colorbar": {
             "outlinewidth": 0,
             "ticks": ""
            },
            "colorscale": [
             [
              0,
              "#0d0887"
             ],
             [
              0.1111111111111111,
              "#46039f"
             ],
             [
              0.2222222222222222,
              "#7201a8"
             ],
             [
              0.3333333333333333,
              "#9c179e"
             ],
             [
              0.4444444444444444,
              "#bd3786"
             ],
             [
              0.5555555555555556,
              "#d8576b"
             ],
             [
              0.6666666666666666,
              "#ed7953"
             ],
             [
              0.7777777777777778,
              "#fb9f3a"
             ],
             [
              0.8888888888888888,
              "#fdca26"
             ],
             [
              1,
              "#f0f921"
             ]
            ],
            "type": "heatmapgl"
           }
          ],
          "histogram": [
           {
            "marker": {
             "pattern": {
              "fillmode": "overlay",
              "size": 10,
              "solidity": 0.2
             }
            },
            "type": "histogram"
           }
          ],
          "histogram2d": [
           {
            "colorbar": {
             "outlinewidth": 0,
             "ticks": ""
            },
            "colorscale": [
             [
              0,
              "#0d0887"
             ],
             [
              0.1111111111111111,
              "#46039f"
             ],
             [
              0.2222222222222222,
              "#7201a8"
             ],
             [
              0.3333333333333333,
              "#9c179e"
             ],
             [
              0.4444444444444444,
              "#bd3786"
             ],
             [
              0.5555555555555556,
              "#d8576b"
             ],
             [
              0.6666666666666666,
              "#ed7953"
             ],
             [
              0.7777777777777778,
              "#fb9f3a"
             ],
             [
              0.8888888888888888,
              "#fdca26"
             ],
             [
              1,
              "#f0f921"
             ]
            ],
            "type": "histogram2d"
           }
          ],
          "histogram2dcontour": [
           {
            "colorbar": {
             "outlinewidth": 0,
             "ticks": ""
            },
            "colorscale": [
             [
              0,
              "#0d0887"
             ],
             [
              0.1111111111111111,
              "#46039f"
             ],
             [
              0.2222222222222222,
              "#7201a8"
             ],
             [
              0.3333333333333333,
              "#9c179e"
             ],
             [
              0.4444444444444444,
              "#bd3786"
             ],
             [
              0.5555555555555556,
              "#d8576b"
             ],
             [
              0.6666666666666666,
              "#ed7953"
             ],
             [
              0.7777777777777778,
              "#fb9f3a"
             ],
             [
              0.8888888888888888,
              "#fdca26"
             ],
             [
              1,
              "#f0f921"
             ]
            ],
            "type": "histogram2dcontour"
           }
          ],
          "mesh3d": [
           {
            "colorbar": {
             "outlinewidth": 0,
             "ticks": ""
            },
            "type": "mesh3d"
           }
          ],
          "parcoords": [
           {
            "line": {
             "colorbar": {
              "outlinewidth": 0,
              "ticks": ""
             }
            },
            "type": "parcoords"
           }
          ],
          "pie": [
           {
            "automargin": true,
            "type": "pie"
           }
          ],
          "scatter": [
           {
            "fillpattern": {
             "fillmode": "overlay",
             "size": 10,
             "solidity": 0.2
            },
            "type": "scatter"
           }
          ],
          "scatter3d": [
           {
            "line": {
             "colorbar": {
              "outlinewidth": 0,
              "ticks": ""
             }
            },
            "marker": {
             "colorbar": {
              "outlinewidth": 0,
              "ticks": ""
             }
            },
            "type": "scatter3d"
           }
          ],
          "scattercarpet": [
           {
            "marker": {
             "colorbar": {
              "outlinewidth": 0,
              "ticks": ""
             }
            },
            "type": "scattercarpet"
           }
          ],
          "scattergeo": [
           {
            "marker": {
             "colorbar": {
              "outlinewidth": 0,
              "ticks": ""
             }
            },
            "type": "scattergeo"
           }
          ],
          "scattergl": [
           {
            "marker": {
             "colorbar": {
              "outlinewidth": 0,
              "ticks": ""
             }
            },
            "type": "scattergl"
           }
          ],
          "scattermapbox": [
           {
            "marker": {
             "colorbar": {
              "outlinewidth": 0,
              "ticks": ""
             }
            },
            "type": "scattermapbox"
           }
          ],
          "scatterpolar": [
           {
            "marker": {
             "colorbar": {
              "outlinewidth": 0,
              "ticks": ""
             }
            },
            "type": "scatterpolar"
           }
          ],
          "scatterpolargl": [
           {
            "marker": {
             "colorbar": {
              "outlinewidth": 0,
              "ticks": ""
             }
            },
            "type": "scatterpolargl"
           }
          ],
          "scatterternary": [
           {
            "marker": {
             "colorbar": {
              "outlinewidth": 0,
              "ticks": ""
             }
            },
            "type": "scatterternary"
           }
          ],
          "surface": [
           {
            "colorbar": {
             "outlinewidth": 0,
             "ticks": ""
            },
            "colorscale": [
             [
              0,
              "#0d0887"
             ],
             [
              0.1111111111111111,
              "#46039f"
             ],
             [
              0.2222222222222222,
              "#7201a8"
             ],
             [
              0.3333333333333333,
              "#9c179e"
             ],
             [
              0.4444444444444444,
              "#bd3786"
             ],
             [
              0.5555555555555556,
              "#d8576b"
             ],
             [
              0.6666666666666666,
              "#ed7953"
             ],
             [
              0.7777777777777778,
              "#fb9f3a"
             ],
             [
              0.8888888888888888,
              "#fdca26"
             ],
             [
              1,
              "#f0f921"
             ]
            ],
            "type": "surface"
           }
          ],
          "table": [
           {
            "cells": {
             "fill": {
              "color": "#EBF0F8"
             },
             "line": {
              "color": "white"
             }
            },
            "header": {
             "fill": {
              "color": "#C8D4E3"
             },
             "line": {
              "color": "white"
             }
            },
            "type": "table"
           }
          ]
         },
         "layout": {
          "annotationdefaults": {
           "arrowcolor": "#2a3f5f",
           "arrowhead": 0,
           "arrowwidth": 1
          },
          "autotypenumbers": "strict",
          "coloraxis": {
           "colorbar": {
            "outlinewidth": 0,
            "ticks": ""
           }
          },
          "colorscale": {
           "diverging": [
            [
             0,
             "#8e0152"
            ],
            [
             0.1,
             "#c51b7d"
            ],
            [
             0.2,
             "#de77ae"
            ],
            [
             0.3,
             "#f1b6da"
            ],
            [
             0.4,
             "#fde0ef"
            ],
            [
             0.5,
             "#f7f7f7"
            ],
            [
             0.6,
             "#e6f5d0"
            ],
            [
             0.7,
             "#b8e186"
            ],
            [
             0.8,
             "#7fbc41"
            ],
            [
             0.9,
             "#4d9221"
            ],
            [
             1,
             "#276419"
            ]
           ],
           "sequential": [
            [
             0,
             "#0d0887"
            ],
            [
             0.1111111111111111,
             "#46039f"
            ],
            [
             0.2222222222222222,
             "#7201a8"
            ],
            [
             0.3333333333333333,
             "#9c179e"
            ],
            [
             0.4444444444444444,
             "#bd3786"
            ],
            [
             0.5555555555555556,
             "#d8576b"
            ],
            [
             0.6666666666666666,
             "#ed7953"
            ],
            [
             0.7777777777777778,
             "#fb9f3a"
            ],
            [
             0.8888888888888888,
             "#fdca26"
            ],
            [
             1,
             "#f0f921"
            ]
           ],
           "sequentialminus": [
            [
             0,
             "#0d0887"
            ],
            [
             0.1111111111111111,
             "#46039f"
            ],
            [
             0.2222222222222222,
             "#7201a8"
            ],
            [
             0.3333333333333333,
             "#9c179e"
            ],
            [
             0.4444444444444444,
             "#bd3786"
            ],
            [
             0.5555555555555556,
             "#d8576b"
            ],
            [
             0.6666666666666666,
             "#ed7953"
            ],
            [
             0.7777777777777778,
             "#fb9f3a"
            ],
            [
             0.8888888888888888,
             "#fdca26"
            ],
            [
             1,
             "#f0f921"
            ]
           ]
          },
          "colorway": [
           "#636efa",
           "#EF553B",
           "#00cc96",
           "#ab63fa",
           "#FFA15A",
           "#19d3f3",
           "#FF6692",
           "#B6E880",
           "#FF97FF",
           "#FECB52"
          ],
          "font": {
           "color": "#2a3f5f"
          },
          "geo": {
           "bgcolor": "white",
           "lakecolor": "white",
           "landcolor": "white",
           "showlakes": true,
           "showland": true,
           "subunitcolor": "#C8D4E3"
          },
          "hoverlabel": {
           "align": "left"
          },
          "hovermode": "closest",
          "mapbox": {
           "style": "light"
          },
          "paper_bgcolor": "white",
          "plot_bgcolor": "white",
          "polar": {
           "angularaxis": {
            "gridcolor": "#EBF0F8",
            "linecolor": "#EBF0F8",
            "ticks": ""
           },
           "bgcolor": "white",
           "radialaxis": {
            "gridcolor": "#EBF0F8",
            "linecolor": "#EBF0F8",
            "ticks": ""
           }
          },
          "scene": {
           "xaxis": {
            "backgroundcolor": "white",
            "gridcolor": "#DFE8F3",
            "gridwidth": 2,
            "linecolor": "#EBF0F8",
            "showbackground": true,
            "ticks": "",
            "zerolinecolor": "#EBF0F8"
           },
           "yaxis": {
            "backgroundcolor": "white",
            "gridcolor": "#DFE8F3",
            "gridwidth": 2,
            "linecolor": "#EBF0F8",
            "showbackground": true,
            "ticks": "",
            "zerolinecolor": "#EBF0F8"
           },
           "zaxis": {
            "backgroundcolor": "white",
            "gridcolor": "#DFE8F3",
            "gridwidth": 2,
            "linecolor": "#EBF0F8",
            "showbackground": true,
            "ticks": "",
            "zerolinecolor": "#EBF0F8"
           }
          },
          "shapedefaults": {
           "line": {
            "color": "#2a3f5f"
           }
          },
          "ternary": {
           "aaxis": {
            "gridcolor": "#DFE8F3",
            "linecolor": "#A2B1C6",
            "ticks": ""
           },
           "baxis": {
            "gridcolor": "#DFE8F3",
            "linecolor": "#A2B1C6",
            "ticks": ""
           },
           "bgcolor": "white",
           "caxis": {
            "gridcolor": "#DFE8F3",
            "linecolor": "#A2B1C6",
            "ticks": ""
           }
          },
          "title": {
           "x": 0.05
          },
          "xaxis": {
           "automargin": true,
           "gridcolor": "#EBF0F8",
           "linecolor": "#EBF0F8",
           "ticks": "",
           "title": {
            "standoff": 15
           },
           "zerolinecolor": "#EBF0F8",
           "zerolinewidth": 2
          },
          "yaxis": {
           "automargin": true,
           "gridcolor": "#EBF0F8",
           "linecolor": "#EBF0F8",
           "ticks": "",
           "title": {
            "standoff": 15
           },
           "zerolinecolor": "#EBF0F8",
           "zerolinewidth": 2
          }
         }
        },
        "title": {
         "font": {
          "color": "Black",
          "size": 22
         },
         "text": "<b>Term score decline per Topic</b>",
         "x": 0.5,
         "xanchor": "center",
         "y": 0.9,
         "yanchor": "top"
        },
        "width": 800,
        "xaxis": {
         "dtick": 2,
         "range": [
          0,
          10
         ],
         "tick0": 1,
         "title": {
          "text": "Term Rank"
         }
        },
        "yaxis": {
         "title": {
          "text": "c-TF-IDF score"
         }
        }
       }
      }
     },
     "metadata": {},
     "output_type": "display_data"
    }
   ],
   "source": [
    "model.visualize_term_rank()"
   ]
  },
  {
   "cell_type": "code",
   "execution_count": 24,
   "id": "b420a50d",
   "metadata": {},
   "outputs": [
    {
     "data": {
      "application/vnd.plotly.v1+json": {
       "config": {
        "plotlyServerURL": "https://plot.ly"
       },
       "data": [
        {
         "hovertext": "<b>Topic -1</b>:the_to_and_of_is_it_in_that_you_fo",
         "line": {
          "color": "black",
          "width": 1.5
         },
         "mode": "lines+lines",
         "name": "",
         "opacity": 0.1,
         "type": "scatter",
         "x": [
          1,
          2,
          3,
          4,
          5,
          6,
          7,
          8,
          9,
          10
         ],
         "y": [
          -2.3971711134185205,
          -2.4143075980226625,
          -2.443104083722337,
          -2.443174807564754,
          -2.46259945006031,
          -2.4853017147231315,
          -2.486554699487557,
          -2.4955941575032976,
          -2.5032578877493377,
          -2.5217312655320807
         ]
        },
        {
         "hovertext": "<b>Topic 0</b>:game_he_team_the_in_games_was_year_",
         "line": {
          "color": "black",
          "width": 1.5
         },
         "mode": "lines+lines",
         "name": "",
         "opacity": 0.1,
         "type": "scatter",
         "x": [
          1,
          2,
          3,
          4,
          5,
          6,
          7,
          8,
          9,
          10
         ],
         "y": [
          -2.297327149075896,
          -2.3215017604527852,
          -2.362606043979382,
          -2.4100223759978032,
          -2.4826274547576275,
          -2.488929853998791,
          -2.4975163552490685,
          -2.526714389201374,
          -2.5365983420136082,
          -2.537831165261786
         ]
        },
        {
         "hovertext": "<b>Topic 1</b>:key_clipper_chip_encryption_the_to_",
         "line": {
          "color": "black",
          "width": 1.5
         },
         "mode": "lines+lines",
         "name": "",
         "opacity": 0.1,
         "type": "scatter",
         "x": [
          1,
          2,
          3,
          4,
          5,
          6,
          7,
          8,
          9,
          10
         ],
         "y": [
          -2.145252443201133,
          -2.2242170020071947,
          -2.247012810919538,
          -2.26892783720317,
          -2.318936973563889,
          -2.3350554403910695,
          -2.340323993312807,
          -2.3509083807067523,
          -2.3837672071156493,
          -2.4224398649273824
         ]
        },
        {
         "hovertext": "<b>Topic 2</b>:israel_israeli_jews_arab_the_of_in_",
         "line": {
          "color": "black",
          "width": 1.5
         },
         "mode": "lines+lines",
         "name": "",
         "opacity": 0.1,
         "type": "scatter",
         "x": [
          1,
          2,
          3,
          4,
          5,
          6,
          7,
          8,
          9,
          10
         ],
         "y": [
          -2.0280927688385484,
          -2.199120876769965,
          -2.2650986031056655,
          -2.3038410663096256,
          -2.314053690139109,
          -2.3258473399233703,
          -2.38896327664683,
          -2.3889812421940304,
          -2.3897347595020193,
          -2.394660759308705
         ]
        },
        {
         "hovertext": "<b>Topic 3</b>:com_edu_health_list_of_for_and_hiv_",
         "line": {
          "color": "black",
          "width": 1.5
         },
         "mode": "lines+lines",
         "name": "",
         "opacity": 0.1,
         "type": "scatter",
         "x": [
          1,
          2,
          3,
          4,
          5,
          6,
          7,
          8,
          9,
          10
         ],
         "y": [
          -2.0772036524800166,
          -2.0823615871735126,
          -2.3439746940754147,
          -2.4051265462408744,
          -2.416028697891637,
          -2.429661256551763,
          -2.4308656554852974,
          -2.474955097905257,
          -2.4786842151907442,
          -2.4997707458872016
         ]
        },
        {
         "hovertext": "<b>Topic 4</b>:ram_drive_for_32_sale_price_softwar",
         "line": {
          "color": "black",
          "width": 1.5
         },
         "mode": "lines+lines",
         "name": "",
         "opacity": 0.1,
         "type": "scatter",
         "x": [
          1,
          2,
          3,
          4,
          5,
          6,
          7,
          8,
          9,
          10
         ],
         "y": [
          -2.2296235095173134,
          -2.2927515742392717,
          -2.3029590759504854,
          -2.3278806836167902,
          -2.3291788863607867,
          -2.335273934640529,
          -2.336472723629754,
          -2.3479259300266477,
          -2.3539018378692447,
          -2.359733528350199
         ]
        },
        {
         "hovertext": "<b>Topic 5</b>:car_cars_engine_ford_the_mustang_it",
         "line": {
          "color": "black",
          "width": 1.5
         },
         "mode": "lines+lines",
         "name": "",
         "opacity": 0.1,
         "type": "scatter",
         "x": [
          1,
          2,
          3,
          4,
          5,
          6,
          7,
          8,
          9,
          10
         ],
         "y": [
          -1.971759818546407,
          -2.199207971453999,
          -2.24485093340226,
          -2.2854533783169253,
          -2.304857838656793,
          -2.3478206844919085,
          -2.366149999132386,
          -2.3805849813410727,
          -2.437480120324422,
          -2.4690647670393076
         ]
        },
        {
         "hovertext": "<b>Topic 6</b>:_________",
         "line": {
          "color": "black",
          "width": 1.5
         },
         "mode": "lines+lines",
         "name": "",
         "opacity": 0.1,
         "type": "scatter",
         "x": [
          1,
          2,
          3,
          4,
          5,
          6,
          7,
          8,
          9,
          10
         ],
         "y": [
          -5,
          -5,
          -5,
          -5,
          -5,
          -5,
          -5,
          -5,
          -5,
          -5
         ]
        },
        {
         "hovertext": "<b>Topic 7</b>:gun_guns_file_firearms_of_the_by_to",
         "line": {
          "color": "black",
          "width": 1.5
         },
         "mode": "lines+lines",
         "name": "",
         "opacity": 0.1,
         "type": "scatter",
         "x": [
          1,
          2,
          3,
          4,
          5,
          6,
          7,
          8,
          9,
          10
         ],
         "y": [
          -1.9274303974516092,
          -2.2144356910134704,
          -2.2664169174519273,
          -2.3376026042962024,
          -2.364883968249451,
          -2.3948265978598964,
          -2.3967737446011834,
          -2.402418798032064,
          -2.445662548186298,
          -2.448668946983369
         ]
        },
        {
         "hovertext": "<b>Topic 8</b>:jpeg_image_gif_file_format_images_c",
         "line": {
          "color": "black",
          "width": 1.5
         },
         "mode": "lines+lines",
         "name": "",
         "opacity": 0.1,
         "type": "scatter",
         "x": [
          1,
          2,
          3,
          4,
          5,
          6,
          7,
          8,
          9,
          10
         ],
         "y": [
          -1.7522765832824578,
          -1.9677977118741283,
          -2.0260681746831053,
          -2.142075657671779,
          -2.161960719189933,
          -2.1959014758806035,
          -2.2457751278228835,
          -2.2599864588771683,
          -2.292602021785087,
          -2.3237660284577837
         ]
        },
        {
         "hovertext": "<b>Topic 9</b>:space_launch_the_of_nasa_to_station",
         "line": {
          "color": "black",
          "width": 1.5
         },
         "mode": "lines+lines",
         "name": "",
         "opacity": 0.1,
         "type": "scatter",
         "x": [
          1,
          2,
          3,
          4,
          5,
          6,
          7,
          8,
          9,
          10
         ],
         "y": [
          -2.0188347143213012,
          -2.1576025422884206,
          -2.323199067097724,
          -2.373077269310087,
          -2.373961801913757,
          -2.3859915875642255,
          -2.3955686847297133,
          -2.4114780837947003,
          -2.427691490468386,
          -2.4320019521171
         ]
        },
        {
         "hovertext": "<b>Topic 10</b>:card_drivers_diamond_ati_driver_vi",
         "line": {
          "color": "black",
          "width": 1.5
         },
         "mode": "lines+lines",
         "name": "",
         "opacity": 0.1,
         "type": "scatter",
         "x": [
          1,
          2,
          3,
          4,
          5,
          6,
          7,
          8,
          9,
          10
         ],
         "y": [
          -1.7205367980496191,
          -1.8268975757525299,
          -1.9967174298279327,
          -2.0875613690021297,
          -2.0933483574198766,
          -2.098923824007908,
          -2.167083273785575,
          -2.1796332496992648,
          -2.2075394377338156,
          -2.238426762810696
         ]
        },
        {
         "hovertext": "<b>Topic 11</b>:bike_the bike_bikes_miles_it_for_m",
         "line": {
          "color": "black",
          "width": 1.5
         },
         "mode": "lines+lines",
         "name": "",
         "opacity": 0.1,
         "type": "scatter",
         "x": [
          1,
          2,
          3,
          4,
          5,
          6,
          7,
          8,
          9,
          10
         ],
         "y": [
          -1.7578996034026995,
          -2.198047025437969,
          -2.2073669286254383,
          -2.3046281184491395,
          -2.3442344882743766,
          -2.3513579852473194,
          -2.373233823270508,
          -2.4042841501675203,
          -2.4084251139070445,
          -2.409438664451766
         ]
        },
        {
         "hovertext": "<b>Topic 12</b>:fire_fbi_the fire_the fbi_gas_the_",
         "line": {
          "color": "black",
          "width": 1.5
         },
         "mode": "lines+lines",
         "name": "",
         "opacity": 0.1,
         "type": "scatter",
         "x": [
          1,
          2,
          3,
          4,
          5,
          6,
          7,
          8,
          9,
          10
         ],
         "y": [
          -1.935408675432151,
          -1.9943770106263123,
          -2.0434438151520857,
          -2.053590376594897,
          -2.0782679097894996,
          -2.2294942748061573,
          -2.283765786611027,
          -2.2878023032604315,
          -2.2881685309528845,
          -2.302356271772488
         ]
        },
        {
         "hovertext": "<b>Topic 13</b>:window_the window_widget_applicati",
         "line": {
          "color": "black",
          "width": 1.5
         },
         "mode": "lines+lines",
         "name": "",
         "opacity": 0.1,
         "type": "scatter",
         "x": [
          1,
          2,
          3,
          4,
          5,
          6,
          7,
          8,
          9,
          10
         ],
         "y": [
          -1.7235081391411229,
          -2.0497668748041984,
          -2.052487827814805,
          -2.2345457561476363,
          -2.2778286578860376,
          -2.328654680183634,
          -2.3510994976054533,
          -2.3561302796953565,
          -2.3665817267660954,
          -2.3919717657785897
         ]
        },
        {
         "hovertext": "<b>Topic 14</b>:_________",
         "line": {
          "color": "black",
          "width": 1.5
         },
         "mode": "lines+lines",
         "name": "",
         "opacity": 0.1,
         "type": "scatter",
         "x": [
          1,
          2,
          3,
          4,
          5,
          6,
          7,
          8,
          9,
          10
         ],
         "y": [
          -5,
          -5,
          -5,
          -5,
          -5,
          -5,
          -5,
          -5,
          -5,
          -5
         ]
        },
        {
         "hovertext": "<b>Topic 15</b>:drive_disk_drives_controller_bios_",
         "line": {
          "color": "black",
          "width": 1.5
         },
         "mode": "lines+lines",
         "name": "",
         "opacity": 0.1,
         "type": "scatter",
         "x": [
          1,
          2,
          3,
          4,
          5,
          6,
          7,
          8,
          9,
          10
         ],
         "y": [
          -1.6683651911594028,
          -1.8805756436272985,
          -1.8886714503890312,
          -1.9567775461431818,
          -2.033175388689747,
          -2.065744255446386,
          -2.0777895769325148,
          -2.097181165830854,
          -2.0976908723440055,
          -2.1096362683428462
         ]
        },
        {
         "hovertext": "<b>Topic 16</b>:god_atheists_atheism_atheist_is_th",
         "line": {
          "color": "black",
          "width": 1.5
         },
         "mode": "lines+lines",
         "name": "",
         "opacity": 0.1,
         "type": "scatter",
         "x": [
          1,
          2,
          3,
          4,
          5,
          6,
          7,
          8,
          9,
          10
         ],
         "y": [
          -2.062429562401926,
          -2.1073690172934585,
          -2.128681617424042,
          -2.2226185411255113,
          -2.2280020169442034,
          -2.2767052161722714,
          -2.316416815075941,
          -2.336230445051031,
          -2.370161615229984,
          -2.3748868447730125
         ]
        },
        {
         "hovertext": "<b>Topic 17</b>:graphics_3d_op_cols_op_rows_confer",
         "line": {
          "color": "black",
          "width": 1.5
         },
         "mode": "lines+lines",
         "name": "",
         "opacity": 0.1,
         "type": "scatter",
         "x": [
          1,
          2,
          3,
          4,
          5,
          6,
          7,
          8,
          9,
          10
         ],
         "y": [
          -2.089290868377842,
          -2.1383328848278875,
          -2.28071221244935,
          -2.28071221244935,
          -2.2925589249865137,
          -2.3418575301367417,
          -2.372009740724831,
          -2.3740310305900025,
          -2.4039624809154807,
          -2.4071708532148977
         ]
        },
        {
         "hovertext": "<b>Topic 18</b>:moral_objective_morality_is_that_w",
         "line": {
          "color": "black",
          "width": 1.5
         },
         "mode": "lines+lines",
         "name": "",
         "opacity": 0.1,
         "type": "scatter",
         "x": [
          1,
          2,
          3,
          4,
          5,
          6,
          7,
          8,
          9,
          10
         ],
         "y": [
          -1.842985560854415,
          -1.8917284238747831,
          -1.893349538697797,
          -2.160358894615132,
          -2.1794771283181804,
          -2.29240842566317,
          -2.2965528168242093,
          -2.328328810777322,
          -2.3502442080234545,
          -2.3535062634895607
         ]
        },
        {
         "hovertext": "<b>Topic 19</b>:db_mov_bh_windows_si_memory_cs_cs ",
         "line": {
          "color": "black",
          "width": 1.5
         },
         "mode": "lines+lines",
         "name": "",
         "opacity": 0.1,
         "type": "scatter",
         "x": [
          1,
          2,
          3,
          4,
          5,
          6,
          7,
          8,
          9,
          10
         ],
         "y": [
          -1.3252795516299885,
          -1.7950198697436974,
          -1.8981897535984722,
          -1.9148056380584149,
          -2.0092870459153676,
          -2.0995018232671114,
          -2.1398351053751794,
          -2.1605696956697553,
          -2.1785005196319607,
          -2.183513066786208
         ]
        },
        {
         "hovertext": "<b>Topic 20</b>:oil_diesel_fuel_the oil_it_diesels",
         "line": {
          "color": "black",
          "width": 1.5
         },
         "mode": "lines+lines",
         "name": "",
         "opacity": 0.1,
         "type": "scatter",
         "x": [
          1,
          2,
          3,
          4,
          5,
          6,
          7,
          8,
          9,
          10
         ],
         "y": [
          -1.9943471944313247,
          -2.092419518115475,
          -2.1868668983186335,
          -2.204817633118763,
          -2.3028350908273616,
          -2.306601224059597,
          -2.3384958233795867,
          -2.353332290571474,
          -2.4000168353823543,
          -2.415670998433656
         ]
        },
        {
         "hovertext": "<b>Topic 21</b>:armenian_armenians_turkish_of_geno",
         "line": {
          "color": "black",
          "width": 1.5
         },
         "mode": "lines+lines",
         "name": "",
         "opacity": 0.1,
         "type": "scatter",
         "x": [
          1,
          2,
          3,
          4,
          5,
          6,
          7,
          8,
          9,
          10
         ],
         "y": [
          -1.9396446986344302,
          -2.0505068155775232,
          -2.062946909693632,
          -2.169241093438549,
          -2.225621350675064,
          -2.2386596239283305,
          -2.2627778127799316,
          -2.2865065467990604,
          -2.2907472732607674,
          -2.3020801413256504
         ]
        },
        {
         "hovertext": "<b>Topic 22</b>:condition_asking_speakers_stereo_o",
         "line": {
          "color": "black",
          "width": 1.5
         },
         "mode": "lines+lines",
         "name": "",
         "opacity": 0.1,
         "type": "scatter",
         "x": [
          1,
          2,
          3,
          4,
          5,
          6,
          7,
          8,
          9,
          10
         ],
         "y": [
          -2.0119666127301437,
          -2.0206895927091275,
          -2.040244755223956,
          -2.1581859859810613,
          -2.170466187948755,
          -2.1754408680017856,
          -2.1799966957524948,
          -2.180669839019639,
          -2.18429807063025,
          -2.1856195027825183
         ]
        },
        {
         "hovertext": "<b>Topic 23</b>:islam_rushdie_qur_islamic_qur an_o",
         "line": {
          "color": "black",
          "width": 1.5
         },
         "mode": "lines+lines",
         "name": "",
         "opacity": 0.1,
         "type": "scatter",
         "x": [
          1,
          2,
          3,
          4,
          5,
          6,
          7,
          8,
          9,
          10
         ],
         "y": [
          -1.9204214612462305,
          -2.1424360623525027,
          -2.1669726674205574,
          -2.1684407897328297,
          -2.18654026878107,
          -2.278139478809051,
          -2.2867852465492167,
          -2.2961348682927722,
          -2.2987011049931008,
          -2.3476033945556396
         ]
        },
        {
         "hovertext": "<b>Topic 24</b>:serbs_muslims_bosnia_stephanopoulo",
         "line": {
          "color": "black",
          "width": 1.5
         },
         "mode": "lines+lines",
         "name": "",
         "opacity": 0.1,
         "type": "scatter",
         "x": [
          1,
          2,
          3,
          4,
          5,
          6,
          7,
          8,
          9,
          10
         ],
         "y": [
          -2.114279609644523,
          -2.169808464531023,
          -2.170354866842971,
          -2.1934869271392845,
          -2.1959350111290292,
          -2.198763085750447,
          -2.217365461955548,
          -2.2293129565275094,
          -2.258730356143353,
          -2.283095074061333
         ]
        },
        {
         "hovertext": "<b>Topic 25</b>:ditto_this is test_test_is test_po",
         "line": {
          "color": "black",
          "width": 1.5
         },
         "mode": "lines+lines",
         "name": "",
         "opacity": 0.1,
         "type": "scatter",
         "x": [
          1,
          2,
          3,
          4,
          5,
          6,
          7,
          8,
          9,
          10
         ],
         "y": [
          -1.208851297863593,
          -1.231138652149378,
          -1.2606125878105883,
          -1.2704770473755578,
          -1.3835206765129275,
          -1.4235843093739882,
          -1.491451962213857,
          -1.6375610195583643,
          -1.6375610195583643,
          -1.6375610195583643
         ]
        },
        {
         "hovertext": "<b>Topic 26</b>:pain_drug_diet_cancer_cholesterol_",
         "line": {
          "color": "black",
          "width": 1.5
         },
         "mode": "lines+lines",
         "name": "",
         "opacity": 0.1,
         "type": "scatter",
         "x": [
          1,
          2,
          3,
          4,
          5,
          6,
          7,
          8,
          9,
          10
         ],
         "y": [
          -2.1864064021777976,
          -2.293756956118283,
          -2.300670667126109,
          -2.3096666834650104,
          -2.3268092401159675,
          -2.3701402424363693,
          -2.371874216019004,
          -2.384930903063821,
          -2.4061319161860366,
          -2.4305552524956657
         ]
        },
        {
         "hovertext": "<b>Topic 27</b>:simms_simm_vram_ram_meg_memory_dra",
         "line": {
          "color": "black",
          "width": 1.5
         },
         "mode": "lines+lines",
         "name": "",
         "opacity": 0.1,
         "type": "scatter",
         "x": [
          1,
          2,
          3,
          4,
          5,
          6,
          7,
          8,
          9,
          10
         ],
         "y": [
          -1.419476255897557,
          -1.8622529521679827,
          -1.945037418890683,
          -2.037797560491895,
          -2.067182588017862,
          -2.0887495910467666,
          -2.0983347835100052,
          -2.1889351439633415,
          -2.219047187235955,
          -2.235961074533
         ]
        },
        {
         "hovertext": "<b>Topic 28</b>:msg_food_chinese_taste_foods_that_",
         "line": {
          "color": "black",
          "width": 1.5
         },
         "mode": "lines+lines",
         "name": "",
         "opacity": 0.1,
         "type": "scatter",
         "x": [
          1,
          2,
          3,
          4,
          5,
          6,
          7,
          8,
          9,
          10
         ],
         "y": [
          -1.6235264156028002,
          -1.82080645098261,
          -2.1422449692592256,
          -2.205216281011244,
          -2.230106959035352,
          -2.319448385127572,
          -2.354235769707916,
          -2.3601259706923505,
          -2.3627673379495397,
          -2.3643840692140454
         ]
        },
        {
         "hovertext": "<b>Topic 29</b>:cs colorado_cs colorado edu_colora",
         "line": {
          "color": "black",
          "width": 1.5
         },
         "mode": "lines+lines",
         "name": "",
         "opacity": 0.1,
         "type": "scatter",
         "x": [
          1,
          2,
          3,
          4,
          5,
          6,
          7,
          8,
          9,
          10
         ],
         "y": [
          -2.02895932212192,
          -2.02895932212192,
          -2.0666803665121787,
          -2.102891435501859,
          -2.1185131669464776,
          -2.180013395913158,
          -2.2266815737490098,
          -2.2266815737490098,
          -2.2266815737490098,
          -2.235698820561712
         ]
        },
        {
         "hovertext": "<b>Topic 30</b>:drive_drives_disks_mb_hard drive_c",
         "line": {
          "color": "black",
          "width": 1.5
         },
         "mode": "lines+lines",
         "name": "",
         "opacity": 0.1,
         "type": "scatter",
         "x": [
          1,
          2,
          3,
          4,
          5,
          6,
          7,
          8,
          9,
          10
         ],
         "y": [
          -1.7608692729437048,
          -1.9355348659528118,
          -2.1418338508948525,
          -2.1540714108703702,
          -2.1777099346510296,
          -2.19149580541553,
          -2.1950774657019583,
          -2.2454090402841285,
          -2.290796533441031,
          -2.3159312879284193
         ]
        },
        {
         "hovertext": "<b>Topic 31</b>:modem_fax_modems_the modem_courier",
         "line": {
          "color": "black",
          "width": 1.5
         },
         "mode": "lines+lines",
         "name": "",
         "opacity": 0.1,
         "type": "scatter",
         "x": [
          1,
          2,
          3,
          4,
          5,
          6,
          7,
          8,
          9,
          10
         ],
         "y": [
          -1.6251542595308504,
          -1.815877097839234,
          -1.9675474907706516,
          -2.157816138774839,
          -2.2355601315042306,
          -2.2612899604427144,
          -2.295291773699515,
          -2.300480735118384,
          -2.306450206418407,
          -2.328670895752244
         ]
        },
        {
         "hovertext": "<b>Topic 32</b>:picture sleeve_sleeve_picture_00_c",
         "line": {
          "color": "black",
          "width": 1.5
         },
         "mode": "lines+lines",
         "name": "",
         "opacity": 0.1,
         "type": "scatter",
         "x": [
          1,
          2,
          3,
          4,
          5,
          6,
          7,
          8,
          9,
          10
         ],
         "y": [
          -1.851978740963898,
          -1.8601501562091893,
          -1.956744815336043,
          -1.9932586212916044,
          -2.0026245740052397,
          -2.018690588026907,
          -2.031558389577886,
          -2.038012605476889,
          -2.0410384412376477,
          -2.052187285613948
         ]
        },
        {
         "hovertext": "<b>Topic 33</b>:dos dos_dos dos dos_dos_windows_mi",
         "line": {
          "color": "black",
          "width": 1.5
         },
         "mode": "lines+lines",
         "name": "",
         "opacity": 0.1,
         "type": "scatter",
         "x": [
          1,
          2,
          3,
          4,
          5,
          6,
          7,
          8,
          9,
          10
         ],
         "y": [
          -1.3202060037693952,
          -1.3344607574928116,
          -1.3623908338689608,
          -1.7407841566372626,
          -1.8309077868862091,
          -1.873727294897575,
          -1.8753535987883785,
          -1.8789284885833828,
          -1.9108762779034636,
          -1.9749339142721685
         ]
        },
        {
         "hovertext": "<b>Topic 34</b>:doctor_medical_of_and_doctors_medi",
         "line": {
          "color": "black",
          "width": 1.5
         },
         "mode": "lines+lines",
         "name": "",
         "opacity": 0.1,
         "type": "scatter",
         "x": [
          1,
          2,
          3,
          4,
          5,
          6,
          7,
          8,
          9,
          10
         ],
         "y": [
          -2.2714392926444336,
          -2.305743419180462,
          -2.353634074702742,
          -2.373870034504735,
          -2.3926829014818605,
          -2.4133291661363727,
          -2.4183506218485045,
          -2.4212735619997168,
          -2.4276606139084276,
          -2.4358062205262736
         ]
        },
        {
         "hovertext": "<b>Topic 35</b>:games_sega_cd_game_genesis_for sal",
         "line": {
          "color": "black",
          "width": 1.5
         },
         "mode": "lines+lines",
         "name": "",
         "opacity": 0.1,
         "type": "scatter",
         "x": [
          1,
          2,
          3,
          4,
          5,
          6,
          7,
          8,
          9,
          10
         ],
         "y": [
          -1.7350619894767714,
          -1.9127592491670382,
          -1.9420962196147236,
          -2.033947014117045,
          -2.091887886865894,
          -2.1885139794012756,
          -2.198110120446598,
          -2.2084884708513233,
          -2.2098932543607455,
          -2.2106797683016968
         ]
        },
        {
         "hovertext": "<b>Topic 36</b>:kinsey_men_sex_gay_sexual_homosexu",
         "line": {
          "color": "black",
          "width": 1.5
         },
         "mode": "lines+lines",
         "name": "",
         "opacity": 0.1,
         "type": "scatter",
         "x": [
          1,
          2,
          3,
          4,
          5,
          6,
          7,
          8,
          9,
          10
         ],
         "y": [
          -1.7828206294789635,
          -1.9111998657528395,
          -1.923824655720769,
          -1.9373916884070503,
          -2.0393519361367742,
          -2.075513262749264,
          -2.181339982696969,
          -2.2336280939790987,
          -2.249176776678703,
          -2.2676487378246772
         ]
        },
        {
         "hovertext": "<b>Topic 37</b>:_________",
         "line": {
          "color": "black",
          "width": 1.5
         },
         "mode": "lines+lines",
         "name": "",
         "opacity": 0.1,
         "type": "scatter",
         "x": [
          1,
          2,
          3,
          4,
          5,
          6,
          7,
          8,
          9,
          10
         ],
         "y": [
          -5,
          -5,
          -5,
          -5,
          -5,
          -5,
          -5,
          -5,
          -5,
          -5
         ]
        },
        {
         "hovertext": "<b>Topic 38</b>:homosexuality_homosexual_paul_that",
         "line": {
          "color": "black",
          "width": 1.5
         },
         "mode": "lines+lines",
         "name": "",
         "opacity": 0.1,
         "type": "scatter",
         "x": [
          1,
          2,
          3,
          4,
          5,
          6,
          7,
          8,
          9,
          10
         ],
         "y": [
          -2.00169646118118,
          -2.006166698771517,
          -2.153137736545157,
          -2.2479024305060573,
          -2.314824708219668,
          -2.323375378608869,
          -2.32543252409532,
          -2.329516395314392,
          -2.3519875300316087,
          -2.3576716598080183
         ]
        },
        {
         "hovertext": "<b>Topic 39</b>:sky_advertising_space_light_billbo",
         "line": {
          "color": "black",
          "width": 1.5
         },
         "mode": "lines+lines",
         "name": "",
         "opacity": 0.1,
         "type": "scatter",
         "x": [
          1,
          2,
          3,
          4,
          5,
          6,
          7,
          8,
          9,
          10
         ],
         "y": [
          -1.9298358098370616,
          -2.0864399166056606,
          -2.125908791129195,
          -2.1720774834838172,
          -2.203414338339716,
          -2.235599021711117,
          -2.2983688567797573,
          -2.3039479833085537,
          -2.3164679856301458,
          -2.3360574554645743
         ]
        },
        {
         "hovertext": "<b>Topic 40</b>:batf_the batf_they_warrant_fbi_rai",
         "line": {
          "color": "black",
          "width": 1.5
         },
         "mode": "lines+lines",
         "name": "",
         "opacity": 0.1,
         "type": "scatter",
         "x": [
          1,
          2,
          3,
          4,
          5,
          6,
          7,
          8,
          9,
          10
         ],
         "y": [
          -1.698312152176328,
          -1.8025342310988142,
          -2.1263497907662776,
          -2.1333865594380046,
          -2.154921157332944,
          -2.184069183951373,
          -2.2098186717058215,
          -2.2359414561632756,
          -2.2719789069143648,
          -2.3147049805560207
         ]
        },
        {
         "hovertext": "<b>Topic 41</b>:smiley_bolick_maddi_bolick or fran",
         "line": {
          "color": "black",
          "width": 1.5
         },
         "mode": "lines+lines",
         "name": "",
         "opacity": 0.1,
         "type": "scatter",
         "x": [
          1,
          2,
          3,
          4,
          5,
          6,
          7,
          8,
          9,
          10
         ],
         "y": [
          -1.784213883846614,
          -1.9026752065638084,
          -1.9485125472869944,
          -1.955388234531709,
          -1.955388234531709,
          -1.955388234531709,
          -1.994753128565095,
          -2.021088299071556,
          -2.06017377922121,
          -2.1025073837057033
         ]
        },
        {
         "hovertext": "<b>Topic 42</b>:os_windows_nt_windows nt_apps_dos_",
         "line": {
          "color": "black",
          "width": 1.5
         },
         "mode": "lines+lines",
         "name": "",
         "opacity": 0.1,
         "type": "scatter",
         "x": [
          1,
          2,
          3,
          4,
          5,
          6,
          7,
          8,
          9,
          10
         ],
         "y": [
          -1.5868530072093114,
          -1.6123632803983208,
          -1.7748256483068823,
          -1.9976181057261746,
          -2.0071957595786967,
          -2.1180412656581633,
          -2.120099158329795,
          -2.1989975234380332,
          -2.2401998611917704,
          -2.3042728120782776
         ]
        },
        {
         "hovertext": "<b>Topic 43</b>:polygon_xxxx_xxxx xxxx_edge_xxxx x",
         "line": {
          "color": "black",
          "width": 1.5
         },
         "mode": "lines+lines",
         "name": "",
         "opacity": 0.1,
         "type": "scatter",
         "x": [
          1,
          2,
          3,
          4,
          5,
          6,
          7,
          8,
          9,
          10
         ],
         "y": [
          -1.9259638788899118,
          -2.058902296160793,
          -2.0729652047577427,
          -2.086043518668931,
          -2.0905272235888406,
          -2.1632878895777514,
          -2.1659712561053412,
          -2.2317984991645594,
          -2.2424752320241037,
          -2.249741970620658
         ]
        },
        {
         "hovertext": "<b>Topic 44</b>:scsi_ide_drive_controller_bit_asyn",
         "line": {
          "color": "black",
          "width": 1.5
         },
         "mode": "lines+lines",
         "name": "",
         "opacity": 0.1,
         "type": "scatter",
         "x": [
          1,
          2,
          3,
          4,
          5,
          6,
          7,
          8,
          9,
          10
         ],
         "y": [
          -1.2056404194881658,
          -1.7672758902456895,
          -2.02765643221542,
          -2.0612472629068264,
          -2.0927440703073814,
          -2.1247168852254648,
          -2.1527523772576234,
          -2.169535075314295,
          -2.172838274908989,
          -2.1769179481956624
         ]
        },
        {
         "hovertext": "<b>Topic 45</b>:colormap_dpy_color_visual_window_g",
         "line": {
          "color": "black",
          "width": 1.5
         },
         "mode": "lines+lines",
         "name": "",
         "opacity": 0.1,
         "type": "scatter",
         "x": [
          1,
          2,
          3,
          4,
          5,
          6,
          7,
          8,
          9,
          10
         ],
         "y": [
          -1.781428373460011,
          -1.832860899017526,
          -1.9218389560490212,
          -1.9905702845479698,
          -2.0315551965317082,
          -2.0865881685462186,
          -2.1196655387736287,
          -2.1217787901784875,
          -2.172251689497897,
          -2.179671174385197
         ]
        },
        {
         "hovertext": "<b>Topic 46</b>:printer_deskjet_hp_ink_printers_la",
         "line": {
          "color": "black",
          "width": 1.5
         },
         "mode": "lines+lines",
         "name": "",
         "opacity": 0.1,
         "type": "scatter",
         "x": [
          1,
          2,
          3,
          4,
          5,
          6,
          7,
          8,
          9,
          10
         ],
         "y": [
          -1.7743579880046003,
          -1.8999925161885607,
          -1.9033629578741968,
          -1.9134908166239377,
          -1.9570607067274535,
          -1.9775231006883502,
          -2.13084780985038,
          -2.1418787712501994,
          -2.1473014907520502,
          -2.1649830959060865
         ]
        },
        {
         "hovertext": "<b>Topic 47</b>:wave_bike_bikers_my_ride_harley_ri",
         "line": {
          "color": "black",
          "width": 1.5
         },
         "mode": "lines+lines",
         "name": "",
         "opacity": 0.1,
         "type": "scatter",
         "x": [
          1,
          2,
          3,
          4,
          5,
          6,
          7,
          8,
          9,
          10
         ],
         "y": [
          -1.8966116914645734,
          -2.0802923149024246,
          -2.1032638883599035,
          -2.1242142843828584,
          -2.1287721018439667,
          -2.1466442200713254,
          -2.184556101513597,
          -2.1948964472870696,
          -2.2858025574630156,
          -2.2878531041519263
         ]
        },
        {
         "hovertext": "<b>Topic 48</b>:we_tax_senior administration_senio",
         "line": {
          "color": "black",
          "width": 1.5
         },
         "mode": "lines+lines",
         "name": "",
         "opacity": 0.1,
         "type": "scatter",
         "x": [
          1,
          2,
          3,
          4,
          5,
          6,
          7,
          8,
          9,
          10
         ],
         "y": [
          -2.073256551713117,
          -2.116599169491088,
          -2.1269697740722315,
          -2.134326093139197,
          -2.134326093139197,
          -2.145375589000901,
          -2.1656351488643364,
          -2.2068647619770676,
          -2.2650759476172015,
          -2.2792475247791124
         ]
        },
        {
         "hovertext": "<b>Topic 49</b>:reno_waco_president_that_the_fbi_f",
         "line": {
          "color": "black",
          "width": 1.5
         },
         "mode": "lines+lines",
         "name": "",
         "opacity": 0.1,
         "type": "scatter",
         "x": [
          1,
          2,
          3,
          4,
          5,
          6,
          7,
          8,
          9,
          10
         ],
         "y": [
          -2.13295468192807,
          -2.198309953510346,
          -2.213759124442304,
          -2.264884318004743,
          -2.26650265019799,
          -2.2667440540017556,
          -2.277394900754723,
          -2.283263999278536,
          -2.2839301779957646,
          -2.2856309511015946
         ]
        },
        {
         "hovertext": "<b>Topic 50</b>:science_of_theory_larson_is_univer",
         "line": {
          "color": "black",
          "width": 1.5
         },
         "mode": "lines+lines",
         "name": "",
         "opacity": 0.1,
         "type": "scatter",
         "x": [
          1,
          2,
          3,
          4,
          5,
          6,
          7,
          8,
          9,
          10
         ],
         "y": [
          -2.1168990318372867,
          -2.187612334515956,
          -2.2103327928603034,
          -2.211154319247229,
          -2.3117884090996714,
          -2.3425512423302077,
          -2.359752027373836,
          -2.36562972120339,
          -2.377258878742427,
          -2.396534812151149
         ]
        },
        {
         "hovertext": "<b>Topic 51</b>:candida_yeast_infection_of_in_gono",
         "line": {
          "color": "black",
          "width": 1.5
         },
         "mode": "lines+lines",
         "name": "",
         "opacity": 0.1,
         "type": "scatter",
         "x": [
          1,
          2,
          3,
          4,
          5,
          6,
          7,
          8,
          9,
          10
         ],
         "y": [
          -2.001831912784289,
          -2.1585666235935426,
          -2.2903884409940454,
          -2.3322472567711205,
          -2.3327981340938417,
          -2.3379571387970013,
          -2.348036584909157,
          -2.3578903629333388,
          -2.3638794080548524,
          -2.3734637245354073
         ]
        },
        {
         "hovertext": "<b>Topic 52</b>:koresh_batf_the batf_fbi_the fbi_w",
         "line": {
          "color": "black",
          "width": 1.5
         },
         "mode": "lines+lines",
         "name": "",
         "opacity": 0.1,
         "type": "scatter",
         "x": [
          1,
          2,
          3,
          4,
          5,
          6,
          7,
          8,
          9,
          10
         ],
         "y": [
          -1.7658402654787158,
          -2.057968165934493,
          -2.167640674981136,
          -2.1801620344365205,
          -2.201073792224022,
          -2.225112860323857,
          -2.2359775607866608,
          -2.27334231579499,
          -2.3003472231374076,
          -2.3254582505311143
         ]
        },
        {
         "hovertext": "<b>Topic 53</b>:mary_her_she_was_sin_god_bernadett",
         "line": {
          "color": "black",
          "width": 1.5
         },
         "mode": "lines+lines",
         "name": "",
         "opacity": 0.1,
         "type": "scatter",
         "x": [
          1,
          2,
          3,
          4,
          5,
          6,
          7,
          8,
          9,
          10
         ],
         "y": [
          -1.687750392935008,
          -1.864979338494283,
          -1.8695682098609165,
          -2.1526895977159417,
          -2.172429686460481,
          -2.177894535157467,
          -2.202700458776438,
          -2.212863538321769,
          -2.2236788561391276,
          -2.227930800630839
         ]
        },
        {
         "hovertext": "<b>Topic 54</b>:card_board_it_pin_help_on_anyone_w",
         "line": {
          "color": "black",
          "width": 1.5
         },
         "mode": "lines+lines",
         "name": "",
         "opacity": 0.1,
         "type": "scatter",
         "x": [
          1,
          2,
          3,
          4,
          5,
          6,
          7,
          8,
          9,
          10
         ],
         "y": [
          -2.146525651607831,
          -2.162569724110715,
          -2.244062266153911,
          -2.2495429221352703,
          -2.326008323561641,
          -2.3282373299942054,
          -2.369133701544196,
          -2.380906588682543,
          -2.3822438685349967,
          -2.3877236434497466
         ]
        },
        {
         "hovertext": "<b>Topic 55</b>:hst_mission_the hst_shuttle_orbit_",
         "line": {
          "color": "black",
          "width": 1.5
         },
         "mode": "lines+lines",
         "name": "",
         "opacity": 0.1,
         "type": "scatter",
         "x": [
          1,
          2,
          3,
          4,
          5,
          6,
          7,
          8,
          9,
          10
         ],
         "y": [
          -1.6755398291393928,
          -1.9551495670878194,
          -1.9636386008685238,
          -2.004853753165381,
          -2.012286427511177,
          -2.049279153044163,
          -2.123051208097657,
          -2.162552091412608,
          -2.2080237201097366,
          -2.2114810106763887
         ]
        },
        {
         "hovertext": "<b>Topic 56</b>:copy_copy protection_protection_pr",
         "line": {
          "color": "black",
          "width": 1.5
         },
         "mode": "lines+lines",
         "name": "",
         "opacity": 0.1,
         "type": "scatter",
         "x": [
          1,
          2,
          3,
          4,
          5,
          6,
          7,
          8,
          9,
          10
         ],
         "y": [
          -1.8492444398139343,
          -1.9870479908648988,
          -2.074642060586369,
          -2.0925739627225206,
          -2.167545047659789,
          -2.184818080328422,
          -2.209041652294146,
          -2.3232837646225293,
          -2.334290693951544,
          -2.3487267182137064
         ]
        },
        {
         "hovertext": "<b>Topic 57</b>:hell_eternal_god_that_jesus_he_is_",
         "line": {
          "color": "black",
          "width": 1.5
         },
         "mode": "lines+lines",
         "name": "",
         "opacity": 0.1,
         "type": "scatter",
         "x": [
          1,
          2,
          3,
          4,
          5,
          6,
          7,
          8,
          9,
          10
         ],
         "y": [
          -1.7419994926837539,
          -2.02623120382883,
          -2.0977381935935266,
          -2.21603674324895,
          -2.222367897696396,
          -2.287157416267155,
          -2.29454962695874,
          -2.300653060940305,
          -2.313968734651172,
          -2.329108997612601
         ]
        },
        {
         "hovertext": "<b>Topic 58</b>:venus_space_planet_earth_spacecraf",
         "line": {
          "color": "black",
          "width": 1.5
         },
         "mode": "lines+lines",
         "name": "",
         "opacity": 0.1,
         "type": "scatter",
         "x": [
          1,
          2,
          3,
          4,
          5,
          6,
          7,
          8,
          9,
          10
         ],
         "y": [
          -2.0930187902814206,
          -2.1063513779139216,
          -2.132620343053178,
          -2.196999451152027,
          -2.2019734367774055,
          -2.2478634185787634,
          -2.2769859528079226,
          -2.2787105905450202,
          -2.307912984208848,
          -2.325897461462138
         ]
        },
        {
         "hovertext": "<b>Topic 59</b>:jehovah_elohim_lord_lord jehovah_t",
         "line": {
          "color": "black",
          "width": 1.5
         },
         "mode": "lines+lines",
         "name": "",
         "opacity": 0.1,
         "type": "scatter",
         "x": [
          1,
          2,
          3,
          4,
          5,
          6,
          7,
          8,
          9,
          10
         ],
         "y": [
          -1.7315742567707684,
          -1.8278715545168185,
          -1.9611699014967017,
          -2.0101737066388243,
          -2.029647537377138,
          -2.03972712977377,
          -2.0858868263645767,
          -2.12954927212121,
          -2.2054500985152723,
          -2.206794555891178
         ]
        },
        {
         "hovertext": "<b>Topic 60</b>:duo_date_bios_clock_system_the dat",
         "line": {
          "color": "black",
          "width": 1.5
         },
         "mode": "lines+lines",
         "name": "",
         "opacity": 0.1,
         "type": "scatter",
         "x": [
          1,
          2,
          3,
          4,
          5,
          6,
          7,
          8,
          9,
          10
         ],
         "y": [
          -1.8428259300058407,
          -2.0201487777753235,
          -2.036313844408591,
          -2.0402337684123824,
          -2.0627575524347397,
          -2.0690589681704976,
          -2.080492784995092,
          -2.122963717730841,
          -2.1540878280287714,
          -2.156007686148037
         ]
        },
        {
         "hovertext": "<b>Topic 61</b>:miles_toyota_car_condition_000_am ",
         "line": {
          "color": "black",
          "width": 1.5
         },
         "mode": "lines+lines",
         "name": "",
         "opacity": 0.1,
         "type": "scatter",
         "x": [
          1,
          2,
          3,
          4,
          5,
          6,
          7,
          8,
          9,
          10
         ],
         "y": [
          -1.6831071315925972,
          -1.9028528658454484,
          -1.9134844321475792,
          -1.9172436160470199,
          -1.9241810343636163,
          -1.9652457632913733,
          -2.002044174195537,
          -2.026430441464086,
          -2.0337204964570237,
          -2.0416279070837997
         ]
        },
        {
         "hovertext": "<b>Topic 62</b>:mouse_the mouse_driver_mice_ball_p",
         "line": {
          "color": "black",
          "width": 1.5
         },
         "mode": "lines+lines",
         "name": "",
         "opacity": 0.1,
         "type": "scatter",
         "x": [
          1,
          2,
          3,
          4,
          5,
          6,
          7,
          8,
          9,
          10
         ],
         "y": [
          -1.3004879029838181,
          -1.7272836263828415,
          -2.002012751305516,
          -2.1347278054856544,
          -2.1752395608797195,
          -2.1956222482935126,
          -2.2174760748568207,
          -2.2277762182238883,
          -2.2544472951355696,
          -2.2714582357987143
         ]
        },
        {
         "hovertext": "<b>Topic 63</b>:paint_wax_plastic_car_scratches_it",
         "line": {
          "color": "black",
          "width": 1.5
         },
         "mode": "lines+lines",
         "name": "",
         "opacity": 0.1,
         "type": "scatter",
         "x": [
          1,
          2,
          3,
          4,
          5,
          6,
          7,
          8,
          9,
          10
         ],
         "y": [
          -1.822220688649521,
          -1.8696776472008345,
          -1.9407298654447973,
          -2.062674534274492,
          -2.1279191220733966,
          -2.1745181248905032,
          -2.176739558115161,
          -2.2024901996926736,
          -2.2134126027020926,
          -2.214757904223373
         ]
        },
        {
         "hovertext": "<b>Topic 64</b>:jesus_tomb_resurrection_he_that_th",
         "line": {
          "color": "black",
          "width": 1.5
         },
         "mode": "lines+lines",
         "name": "",
         "opacity": 0.1,
         "type": "scatter",
         "x": [
          1,
          2,
          3,
          4,
          5,
          6,
          7,
          8,
          9,
          10
         ],
         "y": [
          -2.0067646831459287,
          -2.1362753228236597,
          -2.2221595124262556,
          -2.2347845743476,
          -2.2415932345064378,
          -2.273414938608703,
          -2.284845986986237,
          -2.2964516838775397,
          -2.360019901624785,
          -2.4014173809836423
         ]
        },
        {
         "hovertext": "<b>Topic 65</b>:militia_amendment_the people_keep ",
         "line": {
          "color": "black",
          "width": 1.5
         },
         "mode": "lines+lines",
         "name": "",
         "opacity": 0.1,
         "type": "scatter",
         "x": [
          1,
          2,
          3,
          4,
          5,
          6,
          7,
          8,
          9,
          10
         ],
         "y": [
          -1.7423655234527071,
          -1.8834684295535464,
          -1.9362939409078352,
          -1.9771285713246531,
          -1.9878131533091004,
          -1.990902005479429,
          -1.9911278354765949,
          -1.9942714745982892,
          -1.9978839088976446,
          -2.0036465654340194
         ]
        },
        {
         "hovertext": "<b>Topic 66</b>:lib_ndet_loop_libxmu_lib xmu_xmu_l",
         "line": {
          "color": "black",
          "width": 1.5
         },
         "mode": "lines+lines",
         "name": "",
         "opacity": 0.1,
         "type": "scatter",
         "x": [
          1,
          2,
          3,
          4,
          5,
          6,
          7,
          8,
          9,
          10
         ],
         "y": [
          -1.4807071101071934,
          -1.5927041114080167,
          -1.5998047421914234,
          -1.640363762429887,
          -1.642044470881159,
          -1.6576616059398175,
          -1.6576616059398175,
          -1.800155979186507,
          -1.842082545974391,
          -1.8549705327893127
         ]
        },
        {
         "hovertext": "<b>Topic 67</b>:radar_detector_detectors_radar det",
         "line": {
          "color": "black",
          "width": 1.5
         },
         "mode": "lines+lines",
         "name": "",
         "opacity": 0.1,
         "type": "scatter",
         "x": [
          1,
          2,
          3,
          4,
          5,
          6,
          7,
          8,
          9,
          10
         ],
         "y": [
          -1.5365563642536764,
          -1.7217678873417883,
          -1.8813179984129411,
          -1.8926215250931846,
          -2.09809003135436,
          -2.103190441055557,
          -2.22302876796266,
          -2.274799304627713,
          -2.29805978525872,
          -2.3215100688838963
         ]
        },
        {
         "hovertext": "<b>Topic 68</b>:battery_the battery_batteries_conc",
         "line": {
          "color": "black",
          "width": 1.5
         },
         "mode": "lines+lines",
         "name": "",
         "opacity": 0.1,
         "type": "scatter",
         "x": [
          1,
          2,
          3,
          4,
          5,
          6,
          7,
          8,
          9,
          10
         ],
         "y": [
          -1.4413011606424186,
          -1.613449008417382,
          -1.7834613850991734,
          -1.8745414767525101,
          -1.967930615556855,
          -1.971678875399042,
          -2.047357386490726,
          -2.0666473923793203,
          -2.0929763311016694,
          -2.1070993108663636
         ]
        },
        {
         "hovertext": "<b>Topic 69</b>:kuwait_iran_iraq_of kuwait_gulf_th",
         "line": {
          "color": "black",
          "width": 1.5
         },
         "mode": "lines+lines",
         "name": "",
         "opacity": 0.1,
         "type": "scatter",
         "x": [
          1,
          2,
          3,
          4,
          5,
          6,
          7,
          8,
          9,
          10
         ],
         "y": [
          -1.7622130675612637,
          -2.0483505483595246,
          -2.07627258597455,
          -2.182001645688212,
          -2.1857140303635894,
          -2.25025471135485,
          -2.273085245720051,
          -2.2742522191432073,
          -2.2976221667875825,
          -2.2978089024310804
         ]
        },
        {
         "hovertext": "<b>Topic 70</b>:government_libertarians_libertaria",
         "line": {
          "color": "black",
          "width": 1.5
         },
         "mode": "lines+lines",
         "name": "",
         "opacity": 0.1,
         "type": "scatter",
         "x": [
          1,
          2,
          3,
          4,
          5,
          6,
          7,
          8,
          9,
          10
         ],
         "y": [
          -1.90421233052646,
          -2.078634131884691,
          -2.1261890244615125,
          -2.2621979944259065,
          -2.308607315928482,
          -2.3203864933750653,
          -2.331626466273717,
          -2.3404425848648622,
          -2.344766995756899,
          -2.358259957222744
         ]
        },
        {
         "hovertext": "<b>Topic 71</b>:books_canon_scripture_of_the_bible",
         "line": {
          "color": "black",
          "width": 1.5
         },
         "mode": "lines+lines",
         "name": "",
         "opacity": 0.1,
         "type": "scatter",
         "x": [
          1,
          2,
          3,
          4,
          5,
          6,
          7,
          8,
          9,
          10
         ],
         "y": [
          -2.045629816368474,
          -2.170843905461299,
          -2.172211175698646,
          -2.1948898788101516,
          -2.2104864792522627,
          -2.220749922722806,
          -2.2680874577605246,
          -2.2689532749177888,
          -2.2848586480748834,
          -2.345943314041496
         ]
        },
        {
         "hovertext": "<b>Topic 72</b>:hotel_voucher_package_the voucher_",
         "line": {
          "color": "black",
          "width": 1.5
         },
         "mode": "lines+lines",
         "name": "",
         "opacity": 0.1,
         "type": "scatter",
         "x": [
          1,
          2,
          3,
          4,
          5,
          6,
          7,
          8,
          9,
          10
         ],
         "y": [
          -1.8423471923657866,
          -1.8800817056323467,
          -1.9966362765007255,
          -2.005782891939817,
          -2.0409278250655403,
          -2.095016091180455,
          -2.099061953475295,
          -2.12879502432897,
          -2.1379774051508997,
          -2.2079364910666013
         ]
        },
        {
         "hovertext": "<b>Topic 73</b>:cop_ticket_drunk_dwi_you_the cop_d",
         "line": {
          "color": "black",
          "width": 1.5
         },
         "mode": "lines+lines",
         "name": "",
         "opacity": 0.1,
         "type": "scatter",
         "x": [
          1,
          2,
          3,
          4,
          5,
          6,
          7,
          8,
          9,
          10
         ],
         "y": [
          -2.0246859429451134,
          -2.1481698700111913,
          -2.1595341463932374,
          -2.223696438226872,
          -2.233042401074581,
          -2.246064647086419,
          -2.2526579884793323,
          -2.2807246337026688,
          -2.328572767198467,
          -2.340641095431012
         ]
        },
        {
         "hovertext": "<b>Topic 74</b>:they_were_was_we_he_azerbaijan_arm",
         "line": {
          "color": "black",
          "width": 1.5
         },
         "mode": "lines+lines",
         "name": "",
         "opacity": 0.1,
         "type": "scatter",
         "x": [
          1,
          2,
          3,
          4,
          5,
          6,
          7,
          8,
          9,
          10
         ],
         "y": [
          -2.120237616731704,
          -2.1420444690264095,
          -2.181247480717091,
          -2.265749910286856,
          -2.272684950877861,
          -2.27278461216063,
          -2.2734502525124762,
          -2.2750963034864804,
          -2.299306967097326,
          -2.3095984699973564
         ]
        },
        {
         "hovertext": "<b>Topic 75</b>:greek_greece_turkish_greeks_the gr",
         "line": {
          "color": "black",
          "width": 1.5
         },
         "mode": "lines+lines",
         "name": "",
         "opacity": 0.1,
         "type": "scatter",
         "x": [
          1,
          2,
          3,
          4,
          5,
          6,
          7,
          8,
          9,
          10
         ],
         "y": [
          -1.7517138339117155,
          -1.9455444847074403,
          -1.999513661224566,
          -2.0161830629410473,
          -2.041745016762992,
          -2.139996744505919,
          -2.171170480354997,
          -2.219909196172524,
          -2.2469554559655998,
          -2.2496747028356454
         ]
        },
        {
         "hovertext": "<b>Topic 76</b>:insurance_geico_car_accident_you_s",
         "line": {
          "color": "black",
          "width": 1.5
         },
         "mode": "lines+lines",
         "name": "",
         "opacity": 0.1,
         "type": "scatter",
         "x": [
          1,
          2,
          3,
          4,
          5,
          6,
          7,
          8,
          9,
          10
         ],
         "y": [
          -1.6032099422972603,
          -1.8975504131116085,
          -2.012733268947637,
          -2.1615046122251798,
          -2.2110860332737703,
          -2.2155018757395792,
          -2.2224322754010366,
          -2.246899255388075,
          -2.278149456355567,
          -2.285229211347019
         ]
        },
        {
         "hovertext": "<b>Topic 77</b>:lane_car_you_traffic_behind_bike_m",
         "line": {
          "color": "black",
          "width": 1.5
         },
         "mode": "lines+lines",
         "name": "",
         "opacity": 0.1,
         "type": "scatter",
         "x": [
          1,
          2,
          3,
          4,
          5,
          6,
          7,
          8,
          9,
          10
         ],
         "y": [
          -2.0070482745369587,
          -2.092445939823405,
          -2.1553945338630736,
          -2.1614415318730726,
          -2.2246556843874896,
          -2.2344864451498916,
          -2.263431258660672,
          -2.3335705017738357,
          -2.3388669239064943,
          -2.340498562269461
         ]
        },
        {
         "hovertext": "<b>Topic 78</b>:drugs_drug_the drug_drug users_coc",
         "line": {
          "color": "black",
          "width": 1.5
         },
         "mode": "lines+lines",
         "name": "",
         "opacity": 0.1,
         "type": "scatter",
         "x": [
          1,
          2,
          3,
          4,
          5,
          6,
          7,
          8,
          9,
          10
         ],
         "y": [
          -1.5518312657425346,
          -1.5806891702916095,
          -2.1049141583722117,
          -2.132187093627384,
          -2.1799843495388798,
          -2.189485006004143,
          -2.1912388750200305,
          -2.2334435985165433,
          -2.2406287059736814,
          -2.2704897917936657
         ]
        },
        {
         "hovertext": "<b>Topic 79</b>:clutch_transmission_shift_the clut",
         "line": {
          "color": "black",
          "width": 1.5
         },
         "mode": "lines+lines",
         "name": "",
         "opacity": 0.1,
         "type": "scatter",
         "x": [
          1,
          2,
          3,
          4,
          5,
          6,
          7,
          8,
          9,
          10
         ],
         "y": [
          -1.8184203614565373,
          -1.9398147106782853,
          -1.9452828523151742,
          -1.9637535503720325,
          -1.9815244114883004,
          -2.0090067410465378,
          -2.042417003987848,
          -2.060835885669756,
          -2.0843377394198925,
          -2.1194503571205185
         ]
        },
        {
         "hovertext": "<b>Topic 80</b>:dog_the dog_dogs_bike_dog is_me_my",
         "line": {
          "color": "black",
          "width": 1.5
         },
         "mode": "lines+lines",
         "name": "",
         "opacity": 0.1,
         "type": "scatter",
         "x": [
          1,
          2,
          3,
          4,
          5,
          6,
          7,
          8,
          9,
          10
         ],
         "y": [
          -1.3865045127762814,
          -1.6777444996853064,
          -1.9342126544356129,
          -2.216362227700572,
          -2.2457812112054816,
          -2.3217194143327795,
          -2.3251579781887535,
          -2.3258142317310897,
          -2.3371758093873014,
          -2.351659991006839
         ]
        },
        {
         "hovertext": "<b>Topic 81</b>:odometer_sensor_alarm_car_the car_",
         "line": {
          "color": "black",
          "width": 1.5
         },
         "mode": "lines+lines",
         "name": "",
         "opacity": 0.1,
         "type": "scatter",
         "x": [
          1,
          2,
          3,
          4,
          5,
          6,
          7,
          8,
          9,
          10
         ],
         "y": [
          -1.829252093019722,
          -1.8598062994620903,
          -1.883646401142607,
          -1.9095087757479186,
          -2.1123560823393293,
          -2.162083429042272,
          -2.1677307719791785,
          -2.1760422013439493,
          -2.1844551073414356,
          -2.2209111100334575
         ]
        },
        {
         "hovertext": "<b>Topic 82</b>:celp_voice_speech_dsp_compression_",
         "line": {
          "color": "black",
          "width": 1.5
         },
         "mode": "lines+lines",
         "name": "",
         "opacity": 0.1,
         "type": "scatter",
         "x": [
          1,
          2,
          3,
          4,
          5,
          6,
          7,
          8,
          9,
          10
         ],
         "y": [
          -1.9288320440627946,
          -1.9656048555461934,
          -1.973047203378105,
          -2.101229766191417,
          -2.144426599101414,
          -2.270226160625264,
          -2.2842424745457057,
          -2.3110701749431897,
          -2.325969847182113,
          -2.337483681589782
         ]
        },
        {
         "hovertext": "<b>Topic 83</b>:oort_oort cloud_cloud_the oort_gam",
         "line": {
          "color": "black",
          "width": 1.5
         },
         "mode": "lines+lines",
         "name": "",
         "opacity": 0.1,
         "type": "scatter",
         "x": [
          1,
          2,
          3,
          4,
          5,
          6,
          7,
          8,
          9,
          10
         ],
         "y": [
          -1.7812431268839637,
          -1.8860703419185787,
          -1.9233272006850786,
          -1.9524017562605351,
          -2.007652662247674,
          -2.0440944459341006,
          -2.0518815529858956,
          -2.0734995598233277,
          -2.1168336651176545,
          -2.131191170553348
         ]
        },
        {
         "hovertext": "<b>Topic 84</b>:god_existence_exist_why_is_not_tha",
         "line": {
          "color": "black",
          "width": 1.5
         },
         "mode": "lines+lines",
         "name": "",
         "opacity": 0.1,
         "type": "scatter",
         "x": [
          1,
          2,
          3,
          4,
          5,
          6,
          7,
          8,
          9,
          10
         ],
         "y": [
          -2.145150570522432,
          -2.148128494152603,
          -2.2124813784203847,
          -2.2344039401537295,
          -2.2369081388818457,
          -2.296548471369939,
          -2.3019568543774533,
          -2.3050559140838134,
          -2.322078593802003,
          -2.3306043148621756
         ]
        },
        {
         "hovertext": "<b>Topic 85</b>:tape_the tape_backup_tapes_tape dr",
         "line": {
          "color": "black",
          "width": 1.5
         },
         "mode": "lines+lines",
         "name": "",
         "opacity": 0.1,
         "type": "scatter",
         "x": [
          1,
          2,
          3,
          4,
          5,
          6,
          7,
          8,
          9,
          10
         ],
         "y": [
          -1.3803536579282267,
          -1.6536451579004572,
          -1.8669419437746628,
          -1.877421925125918,
          -1.9260012685016477,
          -1.9452391926824129,
          -1.9817898289437272,
          -2.1160711550637075,
          -2.1345549851781636,
          -2.196430959653009
         ]
        },
        {
         "hovertext": "<b>Topic 86</b>:ra_satan_god_thou_lucifer_of god_t",
         "line": {
          "color": "black",
          "width": 1.5
         },
         "mode": "lines+lines",
         "name": "",
         "opacity": 0.1,
         "type": "scatter",
         "x": [
          1,
          2,
          3,
          4,
          5,
          6,
          7,
          8,
          9,
          10
         ],
         "y": [
          -1.6601613877211578,
          -1.8500748465344719,
          -1.9792552194562734,
          -2.0955875143486216,
          -2.1242878611020055,
          -2.1723557267255673,
          -2.181906127431321,
          -2.1992970537225607,
          -2.201311091106295,
          -2.2170794135257115
         ]
        },
        {
         "hovertext": "<b>Topic 87</b>:water_water dept_mwra_dept_energy_",
         "line": {
          "color": "black",
          "width": 1.5
         },
         "mode": "lines+lines",
         "name": "",
         "opacity": 0.1,
         "type": "scatter",
         "x": [
          1,
          2,
          3,
          4,
          5,
          6,
          7,
          8,
          9,
          10
         ],
         "y": [
          -1.8321110187665415,
          -2.008855919166878,
          -2.008855919166878,
          -2.0880212043331006,
          -2.160367150678151,
          -2.1653648115498023,
          -2.3206442549743618,
          -2.3491046692276965,
          -2.3935496677673656,
          -2.4146937197583336
         ]
        },
        {
         "hovertext": "<b>Topic 88</b>:mhz_50_486dx2_bus_486dx2 50_66_spe",
         "line": {
          "color": "black",
          "width": 1.5
         },
         "mode": "lines+lines",
         "name": "",
         "opacity": 0.1,
         "type": "scatter",
         "x": [
          1,
          2,
          3,
          4,
          5,
          6,
          7,
          8,
          9,
          10
         ],
         "y": [
          -1.658727648237834,
          -1.7111074249045342,
          -1.711686604676339,
          -1.766387306276718,
          -1.780753368614808,
          -1.8434984566484411,
          -1.8793506075672208,
          -1.951566370111057,
          -1.9527191875550822,
          -2.008835807008639
         ]
        },
        {
         "hovertext": "<b>Topic 89</b>:graphics_edu_pub_ray_128_ftp_3d_ma",
         "line": {
          "color": "black",
          "width": 1.5
         },
         "mode": "lines+lines",
         "name": "",
         "opacity": 0.1,
         "type": "scatter",
         "x": [
          1,
          2,
          3,
          4,
          5,
          6,
          7,
          8,
          9,
          10
         ],
         "y": [
          -2.0088683176267117,
          -2.079908870170305,
          -2.1166294949929476,
          -2.2543498611121335,
          -2.2675509921867105,
          -2.3204597965786005,
          -2.3544528062810075,
          -2.357380257862963,
          -2.39325706768803,
          -2.3947234172393523
         ]
        },
        {
         "hovertext": "<b>Topic 90</b>:kirlian_photography_kirlian photog",
         "line": {
          "color": "black",
          "width": 1.5
         },
         "mode": "lines+lines",
         "name": "",
         "opacity": 0.1,
         "type": "scatter",
         "x": [
          1,
          2,
          3,
          4,
          5,
          6,
          7,
          8,
          9,
          10
         ],
         "y": [
          -1.5517393553676009,
          -1.5740902522551379,
          -1.827446031172784,
          -1.881837886771895,
          -1.9437849434118406,
          -1.9785277141117292,
          -2.026539054889543,
          -2.035721973599866,
          -2.0458641657951735,
          -2.057434754708218
         ]
        },
        {
         "hovertext": "<b>Topic 91</b>:religion_schools_christian_of sile",
         "line": {
          "color": "black",
          "width": 1.5
         },
         "mode": "lines+lines",
         "name": "",
         "opacity": 0.1,
         "type": "scatter",
         "x": [
          1,
          2,
          3,
          4,
          5,
          6,
          7,
          8,
          9,
          10
         ],
         "y": [
          -2.0376462233625516,
          -2.0417986616595893,
          -2.061500325654084,
          -2.0729339062191223,
          -2.082750380730977,
          -2.095557382386034,
          -2.1072826503337376,
          -2.1160322242385723,
          -2.1280802522032545,
          -2.136816611879824
         ]
        },
        {
         "hovertext": "<b>Topic 92</b>:server_xdm_login_error_x11r5_probl",
         "line": {
          "color": "black",
          "width": 1.5
         },
         "mode": "lines+lines",
         "name": "",
         "opacity": 0.1,
         "type": "scatter",
         "x": [
          1,
          2,
          3,
          4,
          5,
          6,
          7,
          8,
          9,
          10
         ],
         "y": [
          -1.7941999390365575,
          -1.9245929330477116,
          -1.9880586495453556,
          -1.99167316866107,
          -2.084835927031536,
          -2.142272316453332,
          -2.1449791124147173,
          -2.1760472659999794,
          -2.18325152172566,
          -2.19454189430492
         ]
        },
        {
         "hovertext": "<b>Topic 93</b>:trial_cooper_spence_witnesses_new ",
         "line": {
          "color": "black",
          "width": 1.5
         },
         "mode": "lines+lines",
         "name": "",
         "opacity": 0.1,
         "type": "scatter",
         "x": [
          1,
          2,
          3,
          4,
          5,
          6,
          7,
          8,
          9,
          10
         ],
         "y": [
          -1.7016538045664373,
          -1.9468631636396625,
          -2.018892328124233,
          -2.0680812013007452,
          -2.1472626442204623,
          -2.163847655560381,
          -2.2273848095943554,
          -2.228473845072256,
          -2.2393460866468766,
          -2.271955847203678
         ]
        },
        {
         "hovertext": "<b>Topic 94</b>:death penalty_the death penalty_pe",
         "line": {
          "color": "black",
          "width": 1.5
         },
         "mode": "lines+lines",
         "name": "",
         "opacity": 0.1,
         "type": "scatter",
         "x": [
          1,
          2,
          3,
          4,
          5,
          6,
          7,
          8,
          9,
          10
         ],
         "y": [
          -1.898884310399862,
          -1.9474547319780833,
          -1.9789034296044514,
          -2.0061731435180707,
          -2.0073977811087538,
          -2.0260314810792073,
          -2.028444420292775,
          -2.188770480548326,
          -2.1962219118776414,
          -2.222611119285571
         ]
        },
        {
         "hovertext": "<b>Topic 95</b>:fonts_font_truetype_tt_atm_windows",
         "line": {
          "color": "black",
          "width": 1.5
         },
         "mode": "lines+lines",
         "name": "",
         "opacity": 0.1,
         "type": "scatter",
         "x": [
          1,
          2,
          3,
          4,
          5,
          6,
          7,
          8,
          9,
          10
         ],
         "y": [
          -1.5057517015958775,
          -1.5100520958472943,
          -1.733934921446046,
          -1.7480750669148108,
          -1.8214735542519669,
          -1.9550388650783053,
          -1.970561965617343,
          -1.9787077409723643,
          -2.015983099317812,
          -2.018872260171796
         ]
        },
        {
         "hovertext": "<b>Topic 96</b>:fan_cpu_the fan_heat_the cpu_heat ",
         "line": {
          "color": "black",
          "width": 1.5
         },
         "mode": "lines+lines",
         "name": "",
         "opacity": 0.1,
         "type": "scatter",
         "x": [
          1,
          2,
          3,
          4,
          5,
          6,
          7,
          8,
          9,
          10
         ],
         "y": [
          -1.5164028466666641,
          -1.6270249454647607,
          -1.7616637472537457,
          -1.7622825990687345,
          -1.7971574665703622,
          -1.8434317846207189,
          -1.867913808301694,
          -1.9074550666679788,
          -2.167094431056316,
          -2.1779364723584447
         ]
        },
        {
         "hovertext": "<b>Topic 97</b>:monitor_vga_inches_horizontal_mac_",
         "line": {
          "color": "black",
          "width": 1.5
         },
         "mode": "lines+lines",
         "name": "",
         "opacity": 0.1,
         "type": "scatter",
         "x": [
          1,
          2,
          3,
          4,
          5,
          6,
          7,
          8,
          9,
          10
         ],
         "y": [
          -1.6223774694890452,
          -1.6325690011600682,
          -1.8510233183079865,
          -1.8746767982339592,
          -1.9082876764571828,
          -1.931611405252117,
          -1.952109145477573,
          -1.9682898869858294,
          -1.9721399136269848,
          -1.9753246675231577
         ]
        },
        {
         "hovertext": "<b>Topic 98</b>:marriage_married_marry_church_cere",
         "line": {
          "color": "black",
          "width": 1.5
         },
         "mode": "lines+lines",
         "name": "",
         "opacity": 0.1,
         "type": "scatter",
         "x": [
          1,
          2,
          3,
          4,
          5,
          6,
          7,
          8,
          9,
          10
         ],
         "y": [
          -1.6137449666260077,
          -1.9008812048076493,
          -2.110350461585128,
          -2.144580147621496,
          -2.1710483019387397,
          -2.2582346691584707,
          -2.293185263080152,
          -2.3035847074657467,
          -2.3067959262247584,
          -2.3078892756712723
         ]
        },
        {
         "hovertext": "<b>Topic 99</b>:mjm_antenna_design_circuits_receiv",
         "line": {
          "color": "black",
          "width": 1.5
         },
         "mode": "lines+lines",
         "name": "",
         "opacity": 0.1,
         "type": "scatter",
         "x": [
          1,
          2,
          3,
          4,
          5,
          6,
          7,
          8,
          9,
          10
         ],
         "y": [
          -2.004672139251389,
          -2.109854665453588,
          -2.1324897770652167,
          -2.1398275569956473,
          -2.146985042757516,
          -2.1503495234162737,
          -2.171700729961791,
          -2.2380860703066388,
          -2.2729469275490994,
          -2.2978126396218
         ]
        },
        {
         "hovertext": "<b>Topic 100</b>:deleted_stuff deleted_stuff_andi_",
         "line": {
          "color": "black",
          "width": 1.5
         },
         "mode": "lines+lines",
         "name": "",
         "opacity": 0.1,
         "type": "scatter",
         "x": [
          1,
          2,
          3,
          4,
          5,
          6,
          7,
          8,
          9,
          10
         ],
         "y": [
          -1.2147726558398608,
          -1.3823787129981253,
          -1.4897615999851466,
          -1.7847332124327937,
          -1.8744302157182233,
          -1.898139450410355,
          -1.906924850595109,
          -1.906924850595109,
          -1.9539826324361906,
          -1.9892217900935887
         ]
        },
        {
         "hovertext": "<b>Topic 101</b>:entry_key_entries_output_file_des",
         "line": {
          "color": "black",
          "width": 1.5
         },
         "mode": "lines+lines",
         "name": "",
         "opacity": 0.1,
         "type": "scatter",
         "x": [
          1,
          2,
          3,
          4,
          5,
          6,
          7,
          8,
          9,
          10
         ],
         "y": [
          -1.958190493892727,
          -2.2031251639850713,
          -2.2330911734455943,
          -2.2588785578461934,
          -2.309175447530872,
          -2.326379111516805,
          -2.347652024667622,
          -2.3595037477143324,
          -2.396661137845516,
          -2.407480277755578
         ]
        },
        {
         "hovertext": "<b>Topic 102</b>:countersteering_bike_motorcycle_r",
         "line": {
          "color": "black",
          "width": 1.5
         },
         "mode": "lines+lines",
         "name": "",
         "opacity": 0.1,
         "type": "scatter",
         "x": [
          1,
          2,
          3,
          4,
          5,
          6,
          7,
          8,
          9,
          10
         ],
         "y": [
          -1.715982193690422,
          -1.972424086501615,
          -2.040639188218187,
          -2.067825632183328,
          -2.0860000125924762,
          -2.127169887643285,
          -2.127640848850898,
          -2.137882333854309,
          -2.1393219705968667,
          -2.1882990445196078
         ]
        },
        {
         "hovertext": "<b>Topic 103</b>:printer_driver_laserwriter_print_",
         "line": {
          "color": "black",
          "width": 1.5
         },
         "mode": "lines+lines",
         "name": "",
         "opacity": 0.1,
         "type": "scatter",
         "x": [
          1,
          2,
          3,
          4,
          5,
          6,
          7,
          8,
          9,
          10
         ],
         "y": [
          -1.5421957030036415,
          -1.7663646495644743,
          -1.795228157789328,
          -1.812387848175644,
          -1.8162462043154735,
          -1.8832270542849456,
          -1.935690817914748,
          -2.018788140265596,
          -2.058246025063507,
          -2.0945042844374213
         ]
        },
        {
         "hovertext": "<b>Topic 104</b>:data_ftp_edu_image_available_sgi_",
         "line": {
          "color": "black",
          "width": 1.5
         },
         "mode": "lines+lines",
         "name": "",
         "opacity": 0.1,
         "type": "scatter",
         "x": [
          1,
          2,
          3,
          4,
          5,
          6,
          7,
          8,
          9,
          10
         ],
         "y": [
          -2.0370854483708083,
          -2.178099954657173,
          -2.1873581764205925,
          -2.2205679564982197,
          -2.2535393300483193,
          -2.276886200466577,
          -2.288705708749973,
          -2.288705708749973,
          -2.295986560078408,
          -2.3052412137719087
         ]
        },
        {
         "hovertext": "<b>Topic 105</b>:00_50_1st_wolverine_comics_hulk_a",
         "line": {
          "color": "black",
          "width": 1.5
         },
         "mode": "lines+lines",
         "name": "",
         "opacity": 0.1,
         "type": "scatter",
         "x": [
          1,
          2,
          3,
          4,
          5,
          6,
          7,
          8,
          9,
          10
         ],
         "y": [
          -1.3906612089501549,
          -1.6720675122854705,
          -1.7260763603820273,
          -1.7534804958420014,
          -1.8458748892932944,
          -1.8543940195717985,
          -1.8585473938570087,
          -1.8656512780458463,
          -1.9324894278802542,
          -1.932514596547091
         ]
        },
        {
         "hovertext": "<b>Topic 106</b>:insurance_health_private_health i",
         "line": {
          "color": "black",
          "width": 1.5
         },
         "mode": "lines+lines",
         "name": "",
         "opacity": 0.1,
         "type": "scatter",
         "x": [
          1,
          2,
          3,
          4,
          5,
          6,
          7,
          8,
          9,
          10
         ],
         "y": [
          -1.654710813797419,
          -1.8011171944611708,
          -1.8616304073221128,
          -2.0212426519746907,
          -2.087933878242526,
          -2.0891079407562456,
          -2.1116951605679057,
          -2.1854844811142278,
          -2.265849313496611,
          -2.274458964795712
         ]
        },
        {
         "hovertext": "<b>Topic 107</b>:monitor_off_power_turn_computer_t",
         "line": {
          "color": "black",
          "width": 1.5
         },
         "mode": "lines+lines",
         "name": "",
         "opacity": 0.1,
         "type": "scatter",
         "x": [
          1,
          2,
          3,
          4,
          5,
          6,
          7,
          8,
          9,
          10
         ],
         "y": [
          -1.8355494353869029,
          -1.8516093904052622,
          -1.9209945443294263,
          -1.9305945905911441,
          -1.9489750881808803,
          -1.9664052552799953,
          -2.0467547440221616,
          -2.0768716968847616,
          -2.077924965384255,
          -2.0806151085441598
         ]
        },
        {
         "hovertext": "<b>Topic 108</b>:scanner_logitech_hand scanner_ocr",
         "line": {
          "color": "black",
          "width": 1.5
         },
         "mode": "lines+lines",
         "name": "",
         "opacity": 0.1,
         "type": "scatter",
         "x": [
          1,
          2,
          3,
          4,
          5,
          6,
          7,
          8,
          9,
          10
         ],
         "y": [
          -1.471864518383002,
          -1.8918401478587856,
          -1.9417421168777744,
          -1.9457090785246884,
          -1.9757024644457164,
          -2.041549721115401,
          -2.057868954494114,
          -2.06592125457536,
          -2.076879430236032,
          -2.078166082850045
         ]
        },
        {
         "hovertext": "<b>Topic 109</b>:ghostscript_postscript_ghostview_",
         "line": {
          "color": "black",
          "width": 1.5
         },
         "mode": "lines+lines",
         "name": "",
         "opacity": 0.1,
         "type": "scatter",
         "x": [
          1,
          2,
          3,
          4,
          5,
          6,
          7,
          8,
          9,
          10
         ],
         "y": [
          -1.5014160387668374,
          -1.5433537087205442,
          -1.8007782383345485,
          -1.8649718546219172,
          -1.8742401952577492,
          -1.9163266810434059,
          -1.919956011495593,
          -1.9894877473689714,
          -1.9923499841437085,
          -2.079440025138983
         ]
        },
        {
         "hovertext": "<b>Topic 110</b>:km_earth_orbit_constant_comet_mas",
         "line": {
          "color": "black",
          "width": 1.5
         },
         "mode": "lines+lines",
         "name": "",
         "opacity": 0.1,
         "type": "scatter",
         "x": [
          1,
          2,
          3,
          4,
          5,
          6,
          7,
          8,
          9,
          10
         ],
         "y": [
          -2.05847082994006,
          -2.0675896331445958,
          -2.165437914352453,
          -2.169698602411853,
          -2.1883951647891644,
          -2.1995226806744004,
          -2.2127233658586847,
          -2.215873159289604,
          -2.2223874127868637,
          -2.234311264711478
         ]
        },
        {
         "hovertext": "<b>Topic 111</b>:openwindows_xview_motif_open look",
         "line": {
          "color": "black",
          "width": 1.5
         },
         "mode": "lines+lines",
         "name": "",
         "opacity": 0.1,
         "type": "scatter",
         "x": [
          1,
          2,
          3,
          4,
          5,
          6,
          7,
          8,
          9,
          10
         ],
         "y": [
          -1.7954452419648137,
          -1.9426955573556337,
          -1.943297445127928,
          -2.1285311804920473,
          -2.1780384465247384,
          -2.205315572562998,
          -2.209541988190441,
          -2.235699796121284,
          -2.2393980961259192,
          -2.2551411663301693
         ]
        },
        {
         "hovertext": "<b>Topic 112</b>:irq_port_com3_com1_modem_com4_car",
         "line": {
          "color": "black",
          "width": 1.5
         },
         "mode": "lines+lines",
         "name": "",
         "opacity": 0.1,
         "type": "scatter",
         "x": [
          1,
          2,
          3,
          4,
          5,
          6,
          7,
          8,
          9,
          10
         ],
         "y": [
          -1.5257075354324448,
          -1.7596546170434488,
          -1.759828808592871,
          -1.8806697524911364,
          -1.890772279066217,
          -1.9399464725925464,
          -1.9413713663057732,
          -1.9524483753631805,
          -1.9557494791978356,
          -2.0091192468860837
         ]
        },
        {
         "hovertext": "<b>Topic 113</b>:mode_modes_vesa_vga_video_memory_",
         "line": {
          "color": "black",
          "width": 1.5
         },
         "mode": "lines+lines",
         "name": "",
         "opacity": 0.1,
         "type": "scatter",
         "x": [
          1,
          2,
          3,
          4,
          5,
          6,
          7,
          8,
          9,
          10
         ],
         "y": [
          -1.7622962240739748,
          -1.9141959269818372,
          -1.9225840375672625,
          -1.948097484816936,
          -2.000467555567596,
          -2.010990425341057,
          -2.071739690780514,
          -2.113214477910433,
          -2.152022897096977,
          -2.168544631109199
         ]
        },
        {
         "hovertext": "<b>Topic 114</b>:cancer_cancer center_medical_cent",
         "line": {
          "color": "black",
          "width": 1.5
         },
         "mode": "lines+lines",
         "name": "",
         "opacity": 0.1,
         "type": "scatter",
         "x": [
          1,
          2,
          3,
          4,
          5,
          6,
          7,
          8,
          9,
          10
         ],
         "y": [
          -1.6571783885765767,
          -1.8228184150960602,
          -1.9118423119035222,
          -1.9362418660757754,
          -2.0061545217434906,
          -2.010932872423735,
          -2.056939656977758,
          -2.0957175389930396,
          -2.1498424642083394,
          -2.1659664564381926
         ]
        },
        {
         "hovertext": "<b>Topic 115</b>:xv_of xv_copyright_donation_xv fo",
         "line": {
          "color": "black",
          "width": 1.5
         },
         "mode": "lines+lines",
         "name": "",
         "opacity": 0.1,
         "type": "scatter",
         "x": [
          1,
          2,
          3,
          4,
          5,
          6,
          7,
          8,
          9,
          10
         ],
         "y": [
          -1.433700823536277,
          -2.0371793633637747,
          -2.0647276386118802,
          -2.134857673956347,
          -2.1491592632718346,
          -2.1573234511406265,
          -2.1741272153944613,
          -2.1747633639001425,
          -2.1787631048002467,
          -2.2065398862719237
         ]
        },
        {
         "hovertext": "<b>Topic 116</b>:dos_cluster_file_fat_doubledisk_w",
         "line": {
          "color": "black",
          "width": 1.5
         },
         "mode": "lines+lines",
         "name": "",
         "opacity": 0.1,
         "type": "scatter",
         "x": [
          1,
          2,
          3,
          4,
          5,
          6,
          7,
          8,
          9,
          10
         ],
         "y": [
          -1.659705299832875,
          -1.9861366139990082,
          -2.006297176116738,
          -2.059160074568611,
          -2.059321098848404,
          -2.0627675755876824,
          -2.104144221297561,
          -2.1044513126801,
          -2.1131334294794764,
          -2.1172185708062847
         ]
        },
        {
         "hovertext": "<b>Topic 117</b>:aaron_baptism_sin_god_faith_origi",
         "line": {
          "color": "black",
          "width": 1.5
         },
         "mode": "lines+lines",
         "name": "",
         "opacity": 0.1,
         "type": "scatter",
         "x": [
          1,
          2,
          3,
          4,
          5,
          6,
          7,
          8,
          9,
          10
         ],
         "y": [
          -1.8053352866378947,
          -1.8088430114994278,
          -1.9551112670128716,
          -2.0466895516901915,
          -2.071099974011855,
          -2.182254209069742,
          -2.2039174558895493,
          -2.226975893116481,
          -2.2730407281330693,
          -2.2734639082480417
         ]
        },
        {
         "hovertext": "<b>Topic 118</b>:ax_ax ax_ax ax ax_max_max ax_ax m",
         "line": {
          "color": "black",
          "width": 1.5
         },
         "mode": "lines+lines",
         "name": "",
         "opacity": 0.1,
         "type": "scatter",
         "x": [
          1,
          2,
          3,
          4,
          5,
          6,
          7,
          8,
          9,
          10
         ],
         "y": [
          -1.2261224089234009,
          -1.236529984193534,
          -1.2480762997962336,
          -1.7302196842647597,
          -1.732996879192655,
          -1.7340644702743475,
          -1.7376803434136363,
          -1.7413533515786432,
          -1.7427212902786136,
          -2.123575773099006
         ]
        },
        {
         "hovertext": "<b>Topic 119</b>:monitor_problem_apple_the monitor",
         "line": {
          "color": "black",
          "width": 1.5
         },
         "mode": "lines+lines",
         "name": "",
         "opacity": 0.1,
         "type": "scatter",
         "x": [
          1,
          2,
          3,
          4,
          5,
          6,
          7,
          8,
          9,
          10
         ],
         "y": [
          -1.5987374028521393,
          -1.8755960370496425,
          -1.9738382094764055,
          -2.076380708969888,
          -2.108022959136723,
          -2.1121505540251313,
          -2.1223808280552268,
          -2.13270216373611,
          -2.1437252391549397,
          -2.205594449242752
         ]
        },
        {
         "hovertext": "<b>Topic 120</b>:pds_lc_nubus_slot_card_lciii_the ",
         "line": {
          "color": "black",
          "width": 1.5
         },
         "mode": "lines+lines",
         "name": "",
         "opacity": 0.1,
         "type": "scatter",
         "x": [
          1,
          2,
          3,
          4,
          5,
          6,
          7,
          8,
          9,
          10
         ],
         "y": [
          -1.322364728646398,
          -1.490016430870245,
          -1.5749617362937953,
          -1.68207329027448,
          -1.743061764983258,
          -1.7708425769868736,
          -1.7829535126846394,
          -1.8678967869754897,
          -1.8737834782850287,
          -1.8955611279269513
         ]
        },
        {
         "hovertext": "<b>Topic 121</b>:helmet_the helmet_liner_helmet on",
         "line": {
          "color": "black",
          "width": 1.5
         },
         "mode": "lines+lines",
         "name": "",
         "opacity": 0.1,
         "type": "scatter",
         "x": [
          1,
          2,
          3,
          4,
          5,
          6,
          7,
          8,
          9,
          10
         ],
         "y": [
          -1.3013205480915344,
          -1.6144158875705392,
          -1.8834499015309327,
          -1.9586671447064727,
          -1.967479043698433,
          -1.978649129482406,
          -2.0026826316904294,
          -2.0354628066004015,
          -2.092219129928651,
          -2.113223807678726
         ]
        },
        {
         "hovertext": "<b>Topic 122</b>:pope_church_the pope_schism_the c",
         "line": {
          "color": "black",
          "width": 1.5
         },
         "mode": "lines+lines",
         "name": "",
         "opacity": 0.1,
         "type": "scatter",
         "x": [
          1,
          2,
          3,
          4,
          5,
          6,
          7,
          8,
          9,
          10
         ],
         "y": [
          -1.8139063865541747,
          -1.8674837618609155,
          -1.8982081592277504,
          -2.0205974077864006,
          -2.069860556305215,
          -2.1017158787409675,
          -2.1223610036532885,
          -2.1448440438145515,
          -2.1652858735111646,
          -2.166725443464639
         ]
        },
        {
         "hovertext": "<b>Topic 123</b>:slip_windows_packet_slipper_netwo",
         "line": {
          "color": "black",
          "width": 1.5
         },
         "mode": "lines+lines",
         "name": "",
         "opacity": 0.1,
         "type": "scatter",
         "x": [
          1,
          2,
          3,
          4,
          5,
          6,
          7,
          8,
          9,
          10
         ],
         "y": [
          -1.7580233663553733,
          -1.893518653435065,
          -1.9057978824133606,
          -1.9466318523082644,
          -1.9565000647144546,
          -1.9749260560695538,
          -2.011133903522471,
          -2.0502061535402496,
          -2.073687249389773,
          -2.0815846828286224
         ]
        },
        {
         "hovertext": "<b>Topic 124</b>:gay_enviroleague_caligiuri_you_ho",
         "line": {
          "color": "black",
          "width": 1.5
         },
         "mode": "lines+lines",
         "name": "",
         "opacity": 0.1,
         "type": "scatter",
         "x": [
          1,
          2,
          3,
          4,
          5,
          6,
          7,
          8,
          9,
          10
         ],
         "y": [
          -1.8615114561104495,
          -2.117828723007686,
          -2.117828723007686,
          -2.191813060555429,
          -2.203622589308191,
          -2.240787425403713,
          -2.2598062296379595,
          -2.2622950546353193,
          -2.3046737364648,
          -2.3284527459634066
         ]
        },
        {
         "hovertext": "<b>Topic 125</b>:him_he_me_they_them_weick_ups_che",
         "line": {
          "color": "black",
          "width": 1.5
         },
         "mode": "lines+lines",
         "name": "",
         "opacity": 0.1,
         "type": "scatter",
         "x": [
          1,
          2,
          3,
          4,
          5,
          6,
          7,
          8,
          9,
          10
         ],
         "y": [
          -2.1232495954311172,
          -2.1286022060495915,
          -2.174317683767301,
          -2.214680909842814,
          -2.216145745688543,
          -2.222995735464579,
          -2.2308778203996917,
          -2.2647792608790502,
          -2.2656283228792593,
          -2.268497318787972
         ]
        },
        {
         "hovertext": "<b>Topic 126</b>:nature_god_shall_the lord_lord_ye",
         "line": {
          "color": "black",
          "width": 1.5
         },
         "mode": "lines+lines",
         "name": "",
         "opacity": 0.1,
         "type": "scatter",
         "x": [
          1,
          2,
          3,
          4,
          5,
          6,
          7,
          8,
          9,
          10
         ],
         "y": [
          -1.9674071119685779,
          -1.9753190523602708,
          -2.0903501296797233,
          -2.0996069661194126,
          -2.103332589576163,
          -2.127556615618974,
          -2.1398071143618456,
          -2.1838386624038746,
          -2.194168690511275,
          -2.1954267482422685
         ]
        },
        {
         "hovertext": "<b>Topic 127</b>:professors_university_schools_cla",
         "line": {
          "color": "black",
          "width": 1.5
         },
         "mode": "lines+lines",
         "name": "",
         "opacity": 0.1,
         "type": "scatter",
         "x": [
          1,
          2,
          3,
          4,
          5,
          6,
          7,
          8,
          9,
          10
         ],
         "y": [
          -1.7161756249233606,
          -1.8184480972343644,
          -1.9298456894117153,
          -2.0629153721559517,
          -2.073259714262732,
          -2.074447526185642,
          -2.1850055292884347,
          -2.1850055292884347,
          -2.1850055292884347,
          -2.1850055292884347
         ]
        },
        {
         "hovertext": "<b>Topic 128</b>:number_dial_the number_phone_al_t",
         "line": {
          "color": "black",
          "width": 1.5
         },
         "mode": "lines+lines",
         "name": "",
         "opacity": 0.1,
         "type": "scatter",
         "x": [
          1,
          2,
          3,
          4,
          5,
          6,
          7,
          8,
          9,
          10
         ],
         "y": [
          -1.5458722711032729,
          -1.5764942687678516,
          -1.6379179299434767,
          -1.6687328642185921,
          -1.809232449777009,
          -1.846550501081321,
          -1.9141384325733635,
          -1.9196738285513981,
          -1.9492745544418477,
          -1.9861366139990082
         ]
        },
        {
         "hovertext": "<b>Topic 129</b>:sale_drawer_for sale_table_mattre",
         "line": {
          "color": "black",
          "width": 1.5
         },
         "mode": "lines+lines",
         "name": "",
         "opacity": 0.1,
         "type": "scatter",
         "x": [
          1,
          2,
          3,
          4,
          5,
          6,
          7,
          8,
          9,
          10
         ],
         "y": [
          -1.7844286009978347,
          -1.8499706071190258,
          -1.8599593390464215,
          -1.8771233964537073,
          -1.8877891401884668,
          -1.90943662671795,
          -1.9625351505912187,
          -1.9659994802571685,
          -1.9791924018397653,
          -1.9846833929061989
         ]
        },
        {
         "hovertext": "<b>Topic 130</b>:dealer_car_the dealer_price_satur",
         "line": {
          "color": "black",
          "width": 1.5
         },
         "mode": "lines+lines",
         "name": "",
         "opacity": 0.1,
         "type": "scatter",
         "x": [
          1,
          2,
          3,
          4,
          5,
          6,
          7,
          8,
          9,
          10
         ],
         "y": [
          -1.629284147067179,
          -1.8183584303302693,
          -1.8503205516179042,
          -1.8557387991606262,
          -1.8840658006314204,
          -1.9959056096416434,
          -2.084604238539866,
          -2.088706281635273,
          -2.098327737856897,
          -2.10940249816856
         ]
        },
        {
         "hovertext": "<b>Topic 131</b>:lens_camera_nikon_zoom_flash_cond",
         "line": {
          "color": "black",
          "width": 1.5
         },
         "mode": "lines+lines",
         "name": "",
         "opacity": 0.1,
         "type": "scatter",
         "x": [
          1,
          2,
          3,
          4,
          5,
          6,
          7,
          8,
          9,
          10
         ],
         "y": [
          -1.3656755609083646,
          -1.6104649887117186,
          -1.786186590956944,
          -1.8695549843197055,
          -1.9250875508447276,
          -1.9641433549629015,
          -1.9652880152111631,
          -1.9776329484092905,
          -1.9782368136379926,
          -1.9819605994624236
         ]
        },
        {
         "hovertext": "<b>Topic 132</b>:mhz_25 mhz_mhz operational_cpu_op",
         "line": {
          "color": "black",
          "width": 1.5
         },
         "mode": "lines+lines",
         "name": "",
         "opacity": 0.1,
         "type": "scatter",
         "x": [
          1,
          2,
          3,
          4,
          5,
          6,
          7,
          8,
          9,
          10
         ],
         "y": [
          -1.3192818686760766,
          -1.5766038975660868,
          -1.6562432446088775,
          -1.6865339117526825,
          -1.7013879535255667,
          -1.7279457427398872,
          -1.759817545840863,
          -1.7753425174291235,
          -1.7796211550218115,
          -1.82011798146709
         ]
        },
        {
         "hovertext": "<b>Topic 133</b>:motto_freedom of_freedom_freedom ",
         "line": {
          "color": "black",
          "width": 1.5
         },
         "mode": "lines+lines",
         "name": "",
         "opacity": 0.1,
         "type": "scatter",
         "x": [
          1,
          2,
          3,
          4,
          5,
          6,
          7,
          8,
          9,
          10
         ],
         "y": [
          -1.9285897469496933,
          -1.94296507648864,
          -1.9463660612752325,
          -2.027308965307875,
          -2.043161617871674,
          -2.0896452344362637,
          -2.148351966207914,
          -2.264012239685948,
          -2.2669627299211137,
          -2.278982028232875
         ]
        },
        {
         "hovertext": "<b>Topic 134</b>:midi_sound_driver_play_blaster_so",
         "line": {
          "color": "black",
          "width": 1.5
         },
         "mode": "lines+lines",
         "name": "",
         "opacity": 0.1,
         "type": "scatter",
         "x": [
          1,
          2,
          3,
          4,
          5,
          6,
          7,
          8,
          9,
          10
         ],
         "y": [
          -1.390778643274064,
          -1.684614812837676,
          -1.7448676637747258,
          -1.8353663423325333,
          -1.8432222514840584,
          -1.8642633803784099,
          -1.8722388346564773,
          -1.8764052712355999,
          -1.8764052712355999,
          -1.8818993942446252
         ]
        },
        {
         "hovertext": "<b>Topic 135</b>:clinton_bush_do think clinton_thi",
         "line": {
          "color": "black",
          "width": 1.5
         },
         "mode": "lines+lines",
         "name": "",
         "opacity": 0.1,
         "type": "scatter",
         "x": [
          1,
          2,
          3,
          4,
          5,
          6,
          7,
          8,
          9,
          10
         ],
         "y": [
          -1.6912560842169153,
          -1.7979985438772157,
          -1.8496530979724586,
          -1.8676883986301598,
          -1.8814489940216697,
          -1.9532121143687282,
          -2.0539122002063688,
          -2.065820435380289,
          -2.1321799305156595,
          -2.1780753220019564
         ]
        },
        {
         "hovertext": "<b>Topic 136</b>:shaft_wheelie_wheelies_shaft driv",
         "line": {
          "color": "black",
          "width": 1.5
         },
         "mode": "lines+lines",
         "name": "",
         "opacity": 0.1,
         "type": "scatter",
         "x": [
          1,
          2,
          3,
          4,
          5,
          6,
          7,
          8,
          9,
          10
         ],
         "y": [
          -1.335899171038601,
          -1.5345614514708241,
          -1.6536977368201737,
          -1.6840715063682223,
          -1.7584379922120197,
          -1.788990987253445,
          -1.8283637360568399,
          -1.8288338380748903,
          -1.8288338380748903,
          -1.8288338380748903
         ]
        },
        {
         "hovertext": "<b>Topic 137</b>:scrolls_books_qumran_dead sea_lib",
         "line": {
          "color": "black",
          "width": 1.5
         },
         "mode": "lines+lines",
         "name": "",
         "opacity": 0.1,
         "type": "scatter",
         "x": [
          1,
          2,
          3,
          4,
          5,
          6,
          7,
          8,
          9,
          10
         ],
         "y": [
          -1.8178855239053253,
          -1.8330085320683367,
          -1.88442111633436,
          -1.913939223678833,
          -1.9209269779925282,
          -1.9295513301660563,
          -1.937560896424608,
          -1.9429574675339096,
          -1.9477341034306954,
          -1.9633482727708529
         ]
        },
        {
         "hovertext": "<b>Topic 138</b>:ms myers_stephanopoulos_myers_mr ",
         "line": {
          "color": "black",
          "width": 1.5
         },
         "mode": "lines+lines",
         "name": "",
         "opacity": 0.1,
         "type": "scatter",
         "x": [
          1,
          2,
          3,
          4,
          5,
          6,
          7,
          8,
          9,
          10
         ],
         "y": [
          -1.9376562373887358,
          -1.9377963039999369,
          -1.9394364000877853,
          -1.939453550070091,
          -1.9401530828386298,
          -1.960923574687399,
          -2.016432621463724,
          -2.046010378633853,
          -2.134491236104403,
          -2.152974818390573
         ]
        },
        {
         "hovertext": "<b>Topic 139</b>:lock_locks_kryptonite_cable_bike_",
         "line": {
          "color": "black",
          "width": 1.5
         },
         "mode": "lines+lines",
         "name": "",
         "opacity": 0.1,
         "type": "scatter",
         "x": [
          1,
          2,
          3,
          4,
          5,
          6,
          7,
          8,
          9,
          10
         ],
         "y": [
          -1.4429416711509724,
          -1.8232623940657107,
          -1.8379533966380182,
          -1.8394962524695195,
          -1.9365047762413852,
          -2.045400749422806,
          -2.0904169821494487,
          -2.102644903200209,
          -2.127479170732937,
          -2.1331955470563053
         ]
        },
        {
         "hovertext": "<b>Topic 140</b>:scope_scopes_the scope_scope for_",
         "line": {
          "color": "black",
          "width": 1.5
         },
         "mode": "lines+lines",
         "name": "",
         "opacity": 0.1,
         "type": "scatter",
         "x": [
          1,
          2,
          3,
          4,
          5,
          6,
          7,
          8,
          9,
          10
         ],
         "y": [
          -1.367724125812738,
          -1.8694606379194545,
          -1.9246330197131902,
          -1.9517458067198954,
          -2.076998532730373,
          -2.0868176558408127,
          -2.088714666776876,
          -2.088714666776876,
          -2.0941139662877033,
          -2.095945133396768
         ]
        },
        {
         "hovertext": "<b>Topic 141</b>:truth_bible_arrogance_god_the bib",
         "line": {
          "color": "black",
          "width": 1.5
         },
         "mode": "lines+lines",
         "name": "",
         "opacity": 0.1,
         "type": "scatter",
         "x": [
          1,
          2,
          3,
          4,
          5,
          6,
          7,
          8,
          9,
          10
         ],
         "y": [
          -2.015904502678522,
          -2.098237536110387,
          -2.1291369698758182,
          -2.1438734714748136,
          -2.145981327454004,
          -2.1812501135063105,
          -2.2211130735844256,
          -2.221592026012731,
          -2.2641715257780337,
          -2.2674593278845614
         ]
        },
        {
         "hovertext": "<b>Topic 142</b>:internet_net_white house_the net_",
         "line": {
          "color": "black",
          "width": 1.5
         },
         "mode": "lines+lines",
         "name": "",
         "opacity": 0.1,
         "type": "scatter",
         "x": [
          1,
          2,
          3,
          4,
          5,
          6,
          7,
          8,
          9,
          10
         ],
         "y": [
          -2.094606547034916,
          -2.1184743357473623,
          -2.1233974304401264,
          -2.148279533989455,
          -2.1502940107110664,
          -2.1815104483194943,
          -2.19224420389415,
          -2.19521673752078,
          -2.2046055900929966,
          -2.2097575025254175
         ]
        },
        {
         "hovertext": "<b>Topic 143</b>:hacker_hackers_computer_the hacke",
         "line": {
          "color": "black",
          "width": 1.5
         },
         "mode": "lines+lines",
         "name": "",
         "opacity": 0.1,
         "type": "scatter",
         "x": [
          1,
          2,
          3,
          4,
          5,
          6,
          7,
          8,
          9,
          10
         ],
         "y": [
          -1.5769231342560897,
          -1.900083982853919,
          -1.982445701972507,
          -2.0917000279776228,
          -2.1129836779335776,
          -2.115993249800377,
          -2.228302503176397,
          -2.2435129302932615,
          -2.296497899314074,
          -2.2999147512398475
         ]
        },
        {
         "hovertext": "<b>Topic 144</b>:modem_serial_null modem_dtr_td_dc",
         "line": {
          "color": "black",
          "width": 1.5
         },
         "mode": "lines+lines",
         "name": "",
         "opacity": 0.1,
         "type": "scatter",
         "x": [
          1,
          2,
          3,
          4,
          5,
          6,
          7,
          8,
          9,
          10
         ],
         "y": [
          -1.6381024091512075,
          -1.668658743265726,
          -1.8302835223702985,
          -1.907121013035846,
          -1.909861136399523,
          -1.9174336980891986,
          -1.9210784589453003,
          -1.9300740299228354,
          -1.936681351919964,
          -1.9498246464808997
         ]
        },
        {
         "hovertext": "<b>Topic 145</b>:koresh_david koresh_he_david_that",
         "line": {
          "color": "black",
          "width": 1.5
         },
         "mode": "lines+lines",
         "name": "",
         "opacity": 0.1,
         "type": "scatter",
         "x": [
          1,
          2,
          3,
          4,
          5,
          6,
          7,
          8,
          9,
          10
         ],
         "y": [
          -1.565682579088052,
          -2.067699555236425,
          -2.0984015427964073,
          -2.1929979411411256,
          -2.2207634679525934,
          -2.247268703229117,
          -2.2650150461461536,
          -2.2833914970831337,
          -2.296214921307842,
          -2.3041641015103664
         ]
        },
        {
         "hovertext": "<b>Topic 146</b>:abortion_women_rape_abortions_cho",
         "line": {
          "color": "black",
          "width": 1.5
         },
         "mode": "lines+lines",
         "name": "",
         "opacity": 0.1,
         "type": "scatter",
         "x": [
          1,
          2,
          3,
          4,
          5,
          6,
          7,
          8,
          9,
          10
         ],
         "y": [
          -1.9000551149201135,
          -1.990808433250361,
          -2.109709756540836,
          -2.135707154038366,
          -2.1662841153904995,
          -2.2440725423813523,
          -2.2511203301672023,
          -2.2691556308249035,
          -2.2702793556978382,
          -2.290609114024109
         ]
        },
        {
         "hovertext": "<b>Topic 147</b>:book_zane_faith_church_2ti_of_chr",
         "line": {
          "color": "black",
          "width": 1.5
         },
         "mode": "lines+lines",
         "name": "",
         "opacity": 0.1,
         "type": "scatter",
         "x": [
          1,
          2,
          3,
          4,
          5,
          6,
          7,
          8,
          9,
          10
         ],
         "y": [
          -2.145791013918179,
          -2.1617249365003217,
          -2.173877102346014,
          -2.2147677596799236,
          -2.236695221191781,
          -2.2558683413942995,
          -2.274324639290136,
          -2.280680781106224,
          -2.2908477227374116,
          -2.3403194589196197
         ]
        },
        {
         "hovertext": "<b>Topic 148</b>:passenger_bike_her_the bike_passe",
         "line": {
          "color": "black",
          "width": 1.5
         },
         "mode": "lines+lines",
         "name": "",
         "opacity": 0.1,
         "type": "scatter",
         "x": [
          1,
          2,
          3,
          4,
          5,
          6,
          7,
          8,
          9,
          10
         ],
         "y": [
          -1.7954017998431033,
          -1.8416999009516664,
          -1.908061896443604,
          -1.937867882615317,
          -2.067187543901514,
          -2.1029937539736294,
          -2.133954169918227,
          -2.166117032485726,
          -2.1888951671668906,
          -2.193589036181809
         ]
        },
        {
         "hovertext": "<b>Topic 149</b>:revolver_semi_semi auto_auto_gun_",
         "line": {
          "color": "black",
          "width": 1.5
         },
         "mode": "lines+lines",
         "name": "",
         "opacity": 0.1,
         "type": "scatter",
         "x": [
          1,
          2,
          3,
          4,
          5,
          6,
          7,
          8,
          9,
          10
         ],
         "y": [
          -1.7409534225056706,
          -1.7666670601892813,
          -1.8648594305791864,
          -1.8699491779903599,
          -1.9400954605495606,
          -1.9895436969555347,
          -1.9931378809467795,
          -2.002797836170964,
          -2.061209066351492,
          -2.101982655268105
         ]
        },
        {
         "hovertext": "<b>Topic 150</b>:dialing_tone_phone_germany_sweden",
         "line": {
          "color": "black",
          "width": 1.5
         },
         "mode": "lines+lines",
         "name": "",
         "opacity": 0.1,
         "type": "scatter",
         "x": [
          1,
          2,
          3,
          4,
          5,
          6,
          7,
          8,
          9,
          10
         ],
         "y": [
          -1.4541085883962392,
          -1.669338073439467,
          -1.7720160703843153,
          -1.8072676868799713,
          -1.8101812158723838,
          -1.821116043219229,
          -1.835312602531659,
          -1.8946903941780975,
          -1.8946903941780975,
          -1.965086240040968
         ]
        },
        {
         "hovertext": "<b>Topic 151</b>:prozac_effects_drugs_side effects",
         "line": {
          "color": "black",
          "width": 1.5
         },
         "mode": "lines+lines",
         "name": "",
         "opacity": 0.1,
         "type": "scatter",
         "x": [
          1,
          2,
          3,
          4,
          5,
          6,
          7,
          8,
          9,
          10
         ],
         "y": [
          -1.7768984071250282,
          -1.884561405109151,
          -1.8927492204105678,
          -1.9358099880012705,
          -1.9533244166325754,
          -2.0184437779435784,
          -2.0584004242635636,
          -2.126728457403723,
          -2.2031798937032847,
          -2.204528459941802
         ]
        },
        {
         "hovertext": "<b>Topic 152</b>:colors_color_luminosity_hue_red_g",
         "line": {
          "color": "black",
          "width": 1.5
         },
         "mode": "lines+lines",
         "name": "",
         "opacity": 0.1,
         "type": "scatter",
         "x": [
          1,
          2,
          3,
          4,
          5,
          6,
          7,
          8,
          9,
          10
         ],
         "y": [
          -1.664300986956001,
          -1.6681416562214864,
          -1.6744929682119487,
          -1.8047013622330497,
          -1.8840302190429883,
          -1.8993919944330435,
          -1.9249863416874253,
          -1.9368503313819678,
          -1.9498153568166354,
          -1.9518044662724625
         ]
        },
        {
         "hovertext": "<b>Topic 153</b>:eye_prk_cornea_left eye_dominance",
         "line": {
          "color": "black",
          "width": 1.5
         },
         "mode": "lines+lines",
         "name": "",
         "opacity": 0.1,
         "type": "scatter",
         "x": [
          1,
          2,
          3,
          4,
          5,
          6,
          7,
          8,
          9,
          10
         ],
         "y": [
          -1.5134086239481237,
          -1.8405671330973652,
          -1.926106609126258,
          -1.9424258425049712,
          -1.9657724683569113,
          -1.977433792425407,
          -2.000196388170304,
          -2.04438058205602,
          -2.0648921502234123,
          -2.087383834836348
         ]
        },
        {
         "hovertext": "<b>Topic 154</b>:water_cooling_steam_towers_plants",
         "line": {
          "color": "black",
          "width": 1.5
         },
         "mode": "lines+lines",
         "name": "",
         "opacity": 0.1,
         "type": "scatter",
         "x": [
          1,
          2,
          3,
          4,
          5,
          6,
          7,
          8,
          9,
          10
         ],
         "y": [
          -1.5593232924175187,
          -1.6063555595108046,
          -1.633877751913899,
          -1.706409027815826,
          -1.7265470985636486,
          -1.770646080866836,
          -1.8439803284957879,
          -1.8654941284882423,
          -1.9629425580489477,
          -1.9646684108570562
         ]
        },
        {
         "hovertext": "<b>Topic 155</b>:nanao_17_trinitron_viewsonic_tube",
         "line": {
          "color": "black",
          "width": 1.5
         },
         "mode": "lines+lines",
         "name": "",
         "opacity": 0.1,
         "type": "scatter",
         "x": [
          1,
          2,
          3,
          4,
          5,
          6,
          7,
          8,
          9,
          10
         ],
         "y": [
          -1.7066185377897367,
          -1.7364988786839277,
          -1.774916048293039,
          -1.8042836139518175,
          -1.8122987022529031,
          -1.8367812980837412,
          -1.8598828628362256,
          -1.8675092013839345,
          -1.9376264630273505,
          -1.9680580584051228
         ]
        },
        {
         "hovertext": "<b>Topic 156</b>:kidney_chromium_stones_kidney sto",
         "line": {
          "color": "black",
          "width": 1.5
         },
         "mode": "lines+lines",
         "name": "",
         "opacity": 0.1,
         "type": "scatter",
         "x": [
          1,
          2,
          3,
          4,
          5,
          6,
          7,
          8,
          9,
          10
         ],
         "y": [
          -1.6657323222908789,
          -1.7634655103324957,
          -1.8074639680182136,
          -1.8722707000382441,
          -1.8909155415004988,
          -1.9277933047122147,
          -1.9641880185439935,
          -1.9725069673456916,
          -1.9900127927968647,
          -1.9930727711492149
         ]
        },
        {
         "hovertext": "<b>Topic 157</b>:ms_survey_microsoft_msdos_their_m",
         "line": {
          "color": "black",
          "width": 1.5
         },
         "mode": "lines+lines",
         "name": "",
         "opacity": 0.1,
         "type": "scatter",
         "x": [
          1,
          2,
          3,
          4,
          5,
          6,
          7,
          8,
          9,
          10
         ],
         "y": [
          -1.8277189686948743,
          -2.043388638919787,
          -2.114831160963443,
          -2.210203848829912,
          -2.2579829453826044,
          -2.3093125601273314,
          -2.3200100422673477,
          -2.3329803253563712,
          -2.341056051459141,
          -2.3485201754280554
         ]
        },
        {
         "hovertext": "<b>Topic 158</b>:weapons_nuclear_weapon_plutonium_",
         "line": {
          "color": "black",
          "width": 1.5
         },
         "mode": "lines+lines",
         "name": "",
         "opacity": 0.1,
         "type": "scatter",
         "x": [
          1,
          2,
          3,
          4,
          5,
          6,
          7,
          8,
          9,
          10
         ],
         "y": [
          -1.8286162782800846,
          -1.8629510292421092,
          -1.968902997355187,
          -1.9791844805395487,
          -2.047555506935549,
          -2.128189471094727,
          -2.1722200892833725,
          -2.177455695556586,
          -2.194904746391479,
          -2.235584076261846
         ]
        },
        {
         "hovertext": "<b>Topic 159</b>:weight_fat_chromium_insulin_muscl",
         "line": {
          "color": "black",
          "width": 1.5
         },
         "mode": "lines+lines",
         "name": "",
         "opacity": 0.1,
         "type": "scatter",
         "x": [
          1,
          2,
          3,
          4,
          5,
          6,
          7,
          8,
          9,
          10
         ],
         "y": [
          -1.5672195709787888,
          -1.5681213409222472,
          -1.8187554421758312,
          -1.8651432753687898,
          -1.8690847895896523,
          -2.017173400398609,
          -2.023344881891142,
          -2.0354994881456427,
          -2.0354994881456427,
          -2.111486278125752
         ]
        },
        {
         "hovertext": "<b>Topic 160</b>:christian_jesus_christianity_oo_c",
         "line": {
          "color": "black",
          "width": 1.5
         },
         "mode": "lines+lines",
         "name": "",
         "opacity": 0.1,
         "type": "scatter",
         "x": [
          1,
          2,
          3,
          4,
          5,
          6,
          7,
          8,
          9,
          10
         ],
         "y": [
          -1.9566872429308972,
          -1.9824104339715656,
          -2.0521233452347607,
          -2.0574419815688025,
          -2.061994317661033,
          -2.1586265072109243,
          -2.1925165894834646,
          -2.2173491205770324,
          -2.269447482954636,
          -2.2710011079503816
         ]
        },
        {
         "hovertext": "<b>Topic 161</b>:den_p3_p2_p1_radius_sphere_points",
         "line": {
          "color": "black",
          "width": 1.5
         },
         "mode": "lines+lines",
         "name": "",
         "opacity": 0.1,
         "type": "scatter",
         "x": [
          1,
          2,
          3,
          4,
          5,
          6,
          7,
          8,
          9,
          10
         ],
         "y": [
          -1.3537250205447675,
          -1.3899549480412254,
          -1.3993400163614904,
          -1.4022284894649881,
          -1.5377766069326082,
          -1.6714970370227245,
          -1.7741801230683383,
          -1.7754272594467613,
          -1.7754272594467613,
          -1.7754272594467613
         ]
        },
        {
         "hovertext": "<b>Topic 162</b>:article_quoting_in article_com_ed",
         "line": {
          "color": "black",
          "width": 1.5
         },
         "mode": "lines+lines",
         "name": "",
         "opacity": 0.1,
         "type": "scatter",
         "x": [
          1,
          2,
          3,
          4,
          5,
          6,
          7,
          8,
          9,
          10
         ],
         "y": [
          -1.4702460735912095,
          -1.4907345639508183,
          -1.4958045598391578,
          -1.6148917940282286,
          -1.6955763011805693,
          -1.7000976728171246,
          -1.7054491477952018,
          -1.7054491477952018,
          -1.7054491477952018,
          -1.7054491477952018
         ]
        },
        {
         "hovertext": "<b>Topic 163</b>:you_spiritual needs_spiritual_lif",
         "line": {
          "color": "black",
          "width": 1.5
         },
         "mode": "lines+lines",
         "name": "",
         "opacity": 0.1,
         "type": "scatter",
         "x": [
          1,
          2,
          3,
          4,
          5,
          6,
          7,
          8,
          9,
          10
         ],
         "y": [
          -2.060752492718571,
          -2.088019288400999,
          -2.1209241055765427,
          -2.1315335431564195,
          -2.165675982092027,
          -2.1938809087942177,
          -2.1990259394330254,
          -2.1997955647692597,
          -2.2169576561954836,
          -2.3053179882858026
         ]
        },
        {
         "hovertext": "<b>Topic 164</b>:chemistry_for chemistry book_for ",
         "line": {
          "color": "black",
          "width": 1.5
         },
         "mode": "lines+lines",
         "name": "",
         "opacity": 0.1,
         "type": "scatter",
         "x": [
          1,
          2,
          3,
          4,
          5,
          6,
          7,
          8,
          9,
          10
         ],
         "y": [
          -1.5567200960711083,
          -1.6231239080472228,
          -1.6231239080472228,
          -1.6231239080472228,
          -1.6781052820133007,
          -1.6818593135680022,
          -1.6818593135680022,
          -1.719647874457402,
          -1.7423586931511847,
          -1.8022305736472615
         ]
        },
        {
         "hovertext": "<b>Topic 165</b>:ks_book_books_piper_assistants_he",
         "line": {
          "color": "black",
          "width": 1.5
         },
         "mode": "lines+lines",
         "name": "",
         "opacity": 0.1,
         "type": "scatter",
         "x": [
          1,
          2,
          3,
          4,
          5,
          6,
          7,
          8,
          9,
          10
         ],
         "y": [
          -1.5635037185454004,
          -1.7619911859239001,
          -1.8597061622618933,
          -1.9045593504383598,
          -1.920878583817073,
          -1.9816871280936779,
          -2.0658365761484503,
          -2.0682860236484695,
          -2.0753354277698457,
          -2.0978515680792404
         ]
        },
        {
         "hovertext": "<b>Topic 166</b>:uv_blue_leds_led_light_blue leds_",
         "line": {
          "color": "black",
          "width": 1.5
         },
         "mode": "lines+lines",
         "name": "",
         "opacity": 0.1,
         "type": "scatter",
         "x": [
          1,
          2,
          3,
          4,
          5,
          6,
          7,
          8,
          9,
          10
         ],
         "y": [
          -1.5323325090392907,
          -1.540631248505545,
          -1.6243724050118642,
          -1.7385599240796425,
          -1.738652577523463,
          -1.7848057738783654,
          -1.9446564302636582,
          -1.961161217063314,
          -1.9798034997620795,
          -1.9810502248528457
         ]
        },
        {
         "hovertext": "<b>Topic 167</b>:pgp_agrep_public_public keys_sour",
         "line": {
          "color": "black",
          "width": 1.5
         },
         "mode": "lines+lines",
         "name": "",
         "opacity": 0.1,
         "type": "scatter",
         "x": [
          1,
          2,
          3,
          4,
          5,
          6,
          7,
          8,
          9,
          10
         ],
         "y": [
          -1.5323144781093205,
          -1.8337941075709618,
          -1.9425948747696447,
          -1.977398105311913,
          -2.0424178268080877,
          -2.0476946306194077,
          -2.0728811317252083,
          -2.081135651397727,
          -2.0844741885629623,
          -2.099677033736522
         ]
        },
        {
         "hovertext": "<b>Topic 168</b>:probe_spacecraft_mars_april_missi",
         "line": {
          "color": "black",
          "width": 1.5
         },
         "mode": "lines+lines",
         "name": "",
         "opacity": 0.1,
         "type": "scatter",
         "x": [
          1,
          2,
          3,
          4,
          5,
          6,
          7,
          8,
          9,
          10
         ],
         "y": [
          -1.911947983748866,
          -1.9967444167008355,
          -2.02618118136948,
          -2.0869596546892093,
          -2.105164014676176,
          -2.121931273974344,
          -2.135719772901418,
          -2.1446763329287726,
          -2.1608797552669365,
          -2.1654513489191407
         ]
        },
        {
         "hovertext": "<b>Topic 169</b>:adaptor_vcr_obo_camcorder_shippin",
         "line": {
          "color": "black",
          "width": 1.5
         },
         "mode": "lines+lines",
         "name": "",
         "opacity": 0.1,
         "type": "scatter",
         "x": [
          1,
          2,
          3,
          4,
          5,
          6,
          7,
          8,
          9,
          10
         ],
         "y": [
          -1.8206017809671542,
          -1.8267233548059265,
          -1.8525052280646452,
          -1.8916798168699684,
          -1.9396576299367563,
          -1.952450263234433,
          -1.9738295381939026,
          -1.9761692688803567,
          -1.985472451105606,
          -1.9947193642368013
         ]
        },
        {
         "hovertext": "<b>Topic 170</b>:easter_resurrection_the resurrect",
         "line": {
          "color": "black",
          "width": 1.5
         },
         "mode": "lines+lines",
         "name": "",
         "opacity": 0.1,
         "type": "scatter",
         "x": [
          1,
          2,
          3,
          4,
          5,
          6,
          7,
          8,
          9,
          10
         ],
         "y": [
          -1.5650976425396326,
          -1.929492218733521,
          -1.939566028450924,
          -1.9605108101426831,
          -1.9987425046679939,
          -2.0552692779411434,
          -2.0940205958421796,
          -2.100099385779983,
          -2.1091984934334738,
          -2.150834842952265
         ]
        },
        {
         "hovertext": "<b>Topic 171</b>:image_processing_and_edu_data_ana",
         "line": {
          "color": "black",
          "width": 1.5
         },
         "mode": "lines+lines",
         "name": "",
         "opacity": 0.1,
         "type": "scatter",
         "x": [
          1,
          2,
          3,
          4,
          5,
          6,
          7,
          8,
          9,
          10
         ],
         "y": [
          -1.8756549362946056,
          -2.2341938448268213,
          -2.289517018550623,
          -2.3324434939831233,
          -2.346918293598138,
          -2.349759591276378,
          -2.3644658489119843,
          -2.374838537936148,
          -2.375794318342911,
          -2.3799414422336604
         ]
        },
        {
         "hovertext": "<b>Topic 172</b>:pluto_orbit_mission_solar_mercury",
         "line": {
          "color": "black",
          "width": 1.5
         },
         "mode": "lines+lines",
         "name": "",
         "opacity": 0.1,
         "type": "scatter",
         "x": [
          1,
          2,
          3,
          4,
          5,
          6,
          7,
          8,
          9,
          10
         ],
         "y": [
          -1.6233810643749464,
          -1.8143536201830102,
          -1.942853336721564,
          -2.008249698034046,
          -2.030043502078632,
          -2.1438997919425797,
          -2.177435266899581,
          -2.2036283522540234,
          -2.2137737560013715,
          -2.2180748590398807
         ]
        },
        {
         "hovertext": "<b>Topic 173</b>:ftp_cica_pkzip_tool_qwk mail_quin",
         "line": {
          "color": "black",
          "width": 1.5
         },
         "mode": "lines+lines",
         "name": "",
         "opacity": 0.1,
         "type": "scatter",
         "x": [
          1,
          2,
          3,
          4,
          5,
          6,
          7,
          8,
          9,
          10
         ],
         "y": [
          -1.6319464768813559,
          -1.7760449917135457,
          -1.8768277891168756,
          -1.9425789407074032,
          -1.9591530288648549,
          -1.977092557615371,
          -1.977092557615371,
          -1.9804145242167606,
          -1.9876322420131918,
          -2.0008017923075028
         ]
        },
        {
         "hovertext": "<b>Topic 174</b>:42_question_tea_the question_for ",
         "line": {
          "color": "black",
          "width": 1.5
         },
         "mode": "lines+lines",
         "name": "",
         "opacity": 0.1,
         "type": "scatter",
         "x": [
          1,
          2,
          3,
          4,
          5,
          6,
          7,
          8,
          9,
          10
         ],
         "y": [
          -1.7401094916336737,
          -1.7629034553322926,
          -1.7825538225347046,
          -1.7920257654504652,
          -1.859010705508977,
          -1.8835946678283833,
          -1.9146973647306806,
          -1.9367109391400166,
          -1.9441566711103437,
          -1.9669675571007095
         ]
        },
        {
         "hovertext": "<b>Topic 175</b>:god_jesus_trinity_father_cf_son_t",
         "line": {
          "color": "black",
          "width": 1.5
         },
         "mode": "lines+lines",
         "name": "",
         "opacity": 0.1,
         "type": "scatter",
         "x": [
          1,
          2,
          3,
          4,
          5,
          6,
          7,
          8,
          9,
          10
         ],
         "y": [
          -1.7641965324996658,
          -1.8443293985436042,
          -1.9116893341467383,
          -1.9601967545515668,
          -1.9663713292035954,
          -1.9831799445866403,
          -1.985885216093047,
          -2.0509549857553675,
          -2.124760674107537,
          -2.1431127529484444
         ]
        },
        {
         "hovertext": "<b>Topic 176</b>:sec_bus_ide_dma_transfer_controll",
         "line": {
          "color": "black",
          "width": 1.5
         },
         "mode": "lines+lines",
         "name": "",
         "opacity": 0.1,
         "type": "scatter",
         "x": [
          1,
          2,
          3,
          4,
          5,
          6,
          7,
          8,
          9,
          10
         ],
         "y": [
          -1.524811619156013,
          -1.543020313783327,
          -1.556807547942302,
          -1.594269157561763,
          -1.716113911555237,
          -1.7171540048100462,
          -1.7375708661719427,
          -1.7446675122212585,
          -1.8302609624963477,
          -1.8665335777016085
         ]
        },
        {
         "hovertext": "<b>Topic 177</b>:crohn_inflammation_patients_colon",
         "line": {
          "color": "black",
          "width": 1.5
         },
         "mode": "lines+lines",
         "name": "",
         "opacity": 0.1,
         "type": "scatter",
         "x": [
          1,
          2,
          3,
          4,
          5,
          6,
          7,
          8,
          9,
          10
         ],
         "y": [
          -1.738159737604877,
          -1.9261237747139928,
          -1.9961336893588635,
          -2.1070682699900947,
          -2.1070682699900947,
          -2.1072149936716933,
          -2.127266751206549,
          -2.131464676817595,
          -2.1609678908834606,
          -2.175409701787131
         ]
        },
        {
         "hovertext": "<b>Topic 178</b>:prophecies_prophecy_god_the lord_",
         "line": {
          "color": "black",
          "width": 1.5
         },
         "mode": "lines+lines",
         "name": "",
         "opacity": 0.1,
         "type": "scatter",
         "x": [
          1,
          2,
          3,
          4,
          5,
          6,
          7,
          8,
          9,
          10
         ],
         "y": [
          -1.8966577570145313,
          -1.9276903495438353,
          -2.040415132859305,
          -2.0503316070596957,
          -2.088819336775658,
          -2.1372265709539695,
          -2.2304722748825876,
          -2.251603460406689,
          -2.280045127792006,
          -2.2948721003397643
         ]
        },
        {
         "hovertext": "<b>Topic 179</b>:keycode_key_xterm_xterm map_xmodm",
         "line": {
          "color": "black",
          "width": 1.5
         },
         "mode": "lines+lines",
         "name": "",
         "opacity": 0.1,
         "type": "scatter",
         "x": [
          1,
          2,
          3,
          4,
          5,
          6,
          7,
          8,
          9,
          10
         ],
         "y": [
          -1.576405713938716,
          -1.5888399495842283,
          -1.8057850150625063,
          -1.8129062140102792,
          -1.8152943438256577,
          -1.8411239357347664,
          -1.8670161663572364,
          -1.8716416195310586,
          -1.8716416195310586,
          -1.8716416195310586
         ]
        },
        {
         "hovertext": "<b>Topic 180</b>:tempest_equipment_monitor_tempest",
         "line": {
          "color": "black",
          "width": 1.5
         },
         "mode": "lines+lines",
         "name": "",
         "opacity": 0.1,
         "type": "scatter",
         "x": [
          1,
          2,
          3,
          4,
          5,
          6,
          7,
          8,
          9,
          10
         ],
         "y": [
          -1.3142067112056874,
          -1.860885022743325,
          -1.915888941134511,
          -1.9419927341162369,
          -1.9439098114313473,
          -1.9545024049011888,
          -1.970976615517445,
          -1.988457722691085,
          -2.016478198840838,
          -2.0364627486977636
         ]
        },
        {
         "hovertext": "<b>Topic 181</b>:dr speed not_technician dr speed_",
         "line": {
          "color": "black",
          "width": 1.5
         },
         "mode": "lines+lines",
         "name": "",
         "opacity": 0.1,
         "type": "scatter",
         "x": [
          1,
          2,
          3,
          4,
          5,
          6,
          7,
          8,
          9,
          10
         ],
         "y": [
          -1.6708477288253292,
          -1.6708477288253292,
          -1.6708477288253292,
          -1.6708477288253292,
          -1.6708477288253292,
          -1.6708477288253292,
          -1.6708477288253292,
          -1.6708477288253292,
          -1.6708477288253292,
          -1.6736009021685736
         ]
        },
        {
         "hovertext": "<b>Topic 182</b>:tires_tire_fluids_abs_brake_dot_b",
         "line": {
          "color": "black",
          "width": 1.5
         },
         "mode": "lines+lines",
         "name": "",
         "opacity": 0.1,
         "type": "scatter",
         "x": [
          1,
          2,
          3,
          4,
          5,
          6,
          7,
          8,
          9,
          10
         ],
         "y": [
          -1.813892732265628,
          -1.8694480023674187,
          -2.0249422869149236,
          -2.068827895991524,
          -2.0892132302176387,
          -2.1001212635998323,
          -2.1206605866931096,
          -2.12530244140734,
          -2.1724277118276496,
          -2.233243986339519
         ]
        },
        {
         "hovertext": "<b>Topic 183</b>:font_fonts_the font_windows_windo",
         "line": {
          "color": "black",
          "width": 1.5
         },
         "mode": "lines+lines",
         "name": "",
         "opacity": 0.1,
         "type": "scatter",
         "x": [
          1,
          2,
          3,
          4,
          5,
          6,
          7,
          8,
          9,
          10
         ],
         "y": [
          -1.5174960343756105,
          -1.6954966209305216,
          -1.702612415997035,
          -1.8974386477117444,
          -1.922589485899822,
          -1.9395939673484772,
          -2.0104743744675964,
          -2.012919208949805,
          -2.0320380690798916,
          -2.0320380690798916
         ]
        },
        {
         "hovertext": "<b>Topic 184</b>:bill_s414_senate_bills_brady_hous",
         "line": {
          "color": "black",
          "width": 1.5
         },
         "mode": "lines+lines",
         "name": "",
         "opacity": 0.1,
         "type": "scatter",
         "x": [
          1,
          2,
          3,
          4,
          5,
          6,
          7,
          8,
          9,
          10
         ],
         "y": [
          -1.68574948121117,
          -1.7339365365930783,
          -1.8178315900586102,
          -1.8296183552767098,
          -1.9025237181945263,
          -1.920014668118611,
          -1.964597185201395,
          -1.9876050795879547,
          -1.9935737229650452,
          -2.008828339915479
         ]
        },
        {
         "hovertext": "<b>Topic 185</b>:blacks_african_white_african amer",
         "line": {
          "color": "black",
          "width": 1.5
         },
         "mode": "lines+lines",
         "name": "",
         "opacity": 0.1,
         "type": "scatter",
         "x": [
          1,
          2,
          3,
          4,
          5,
          6,
          7,
          8,
          9,
          10
         ],
         "y": [
          -1.8787092875464415,
          -1.971892907264469,
          -2.085157937932159,
          -2.134688642094037,
          -2.167425423335508,
          -2.188497234624952,
          -2.196278741547618,
          -2.2129998702451976,
          -2.2411917442619163,
          -2.2589535874104283
         ]
        },
        {
         "hovertext": "<b>Topic 186</b>:sabbath_the sabbath_moses_command",
         "line": {
          "color": "black",
          "width": 1.5
         },
         "mode": "lines+lines",
         "name": "",
         "opacity": 0.1,
         "type": "scatter",
         "x": [
          1,
          2,
          3,
          4,
          5,
          6,
          7,
          8,
          9,
          10
         ],
         "y": [
          -1.6191968562812382,
          -1.6548555659331803,
          -1.8536518759037968,
          -1.8572352264609684,
          -1.8661463429734073,
          -1.8837360623261084,
          -1.9305856999985247,
          -1.9882341943342245,
          -1.9927963124416188,
          -2.000250773117559
         ]
        },
        {
         "hovertext": "<b>Topic 187</b>:piece_jacket_clothing_pants_women",
         "line": {
          "color": "black",
          "width": 1.5
         },
         "mode": "lines+lines",
         "name": "",
         "opacity": 0.1,
         "type": "scatter",
         "x": [
          1,
          2,
          3,
          4,
          5,
          6,
          7,
          8,
          9,
          10
         ],
         "y": [
          -1.6908835724886102,
          -1.7181908310476408,
          -1.7748564057381249,
          -1.7790059087806864,
          -1.8174599314144677,
          -1.8592447434647255,
          -1.91466660441202,
          -1.9153560303848443,
          -1.942635526932047,
          -1.9468715434705774
         ]
        },
        {
         "hovertext": "<b>Topic 188</b>:ear_the ear_wax_hearing_ears_hear",
         "line": {
          "color": "black",
          "width": 1.5
         },
         "mode": "lines+lines",
         "name": "",
         "opacity": 0.1,
         "type": "scatter",
         "x": [
          1,
          2,
          3,
          4,
          5,
          6,
          7,
          8,
          9,
          10
         ],
         "y": [
          -1.4448682170312834,
          -1.7155185613463584,
          -1.8536511903735042,
          -1.8616332293082318,
          -1.9436194690711095,
          -2.0438294874102994,
          -2.072927581427887,
          -2.0888559966067977,
          -2.1087769717952116,
          -2.1087769717952116
         ]
        },
        {
         "hovertext": "<b>Topic 189</b>:rights_right to_right_israel_free",
         "line": {
          "color": "black",
          "width": 1.5
         },
         "mode": "lines+lines",
         "name": "",
         "opacity": 0.1,
         "type": "scatter",
         "x": [
          1,
          2,
          3,
          4,
          5,
          6,
          7,
          8,
          9,
          10
         ],
         "y": [
          -1.9482991882203669,
          -2.0021967319019627,
          -2.046572624055235,
          -2.145529310188561,
          -2.149301257410684,
          -2.159869022623749,
          -2.1831330281055346,
          -2.219567242412481,
          -2.24300765454502,
          -2.2468615006760313
         ]
        },
        {
         "hovertext": "<b>Topic 190</b>:ca_bbs_ca 818_ca 408_818_ca 805_4",
         "line": {
          "color": "black",
          "width": 1.5
         },
         "mode": "lines+lines",
         "name": "",
         "opacity": 0.1,
         "type": "scatter",
         "x": [
          1,
          2,
          3,
          4,
          5,
          6,
          7,
          8,
          9,
          10
         ],
         "y": [
          -1.0623697282405506,
          -1.3402695052855274,
          -1.5223316787662062,
          -1.5349611619984855,
          -1.5523905849579935,
          -1.5817094704126446,
          -1.656785022659584,
          -1.6942202940126603,
          -1.7384990161740368,
          -1.7555000868515962
         ]
        },
        {
         "hovertext": "<b>Topic 191</b>:ground_grounding_neutral_conducto",
         "line": {
          "color": "black",
          "width": 1.5
         },
         "mode": "lines+lines",
         "name": "",
         "opacity": 0.1,
         "type": "scatter",
         "x": [
          1,
          2,
          3,
          4,
          5,
          6,
          7,
          8,
          9,
          10
         ],
         "y": [
          -1.4090611822584655,
          -1.6447459384912673,
          -1.654997583031368,
          -1.6823336905219208,
          -1.7474584899168466,
          -1.7535318281966696,
          -1.7720188495390616,
          -1.8275738445587177,
          -1.896728450741404,
          -1.95530810296742
         ]
        },
        {
         "hovertext": "<b>Topic 192</b>:jim_out of context_of context_con",
         "line": {
          "color": "black",
          "width": 1.5
         },
         "mode": "lines+lines",
         "name": "",
         "opacity": 0.1,
         "type": "scatter",
         "x": [
          1,
          2,
          3,
          4,
          5,
          6,
          7,
          8,
          9,
          10
         ],
         "y": [
          -1.8005348732450939,
          -1.8658396273536277,
          -1.8677107190682083,
          -1.8992112602125233,
          -2.047501710450335,
          -2.098416416620026,
          -2.098416416620026,
          -2.1168727557846636,
          -2.1168727557846636,
          -2.1364081655471043
         ]
        },
        {
         "hovertext": "<b>Topic 193</b>:the law_law_jesus_paul_of the law",
         "line": {
          "color": "black",
          "width": 1.5
         },
         "mode": "lines+lines",
         "name": "",
         "opacity": 0.1,
         "type": "scatter",
         "x": [
          1,
          2,
          3,
          4,
          5,
          6,
          7,
          8,
          9,
          10
         ],
         "y": [
          -1.608496700398133,
          -1.6623159270333603,
          -1.7958071535224245,
          -1.9942771447460168,
          -2.0322618400853334,
          -2.079234592383134,
          -2.229546020540237,
          -2.2432544612161593,
          -2.243484470800131,
          -2.2502919913556663
         ]
        },
        {
         "hovertext": "<b>Topic 194</b>:hook_on hook_off hook_phone_the p",
         "line": {
          "color": "black",
          "width": 1.5
         },
         "mode": "lines+lines",
         "name": "",
         "opacity": 0.1,
         "type": "scatter",
         "x": [
          1,
          2,
          3,
          4,
          5,
          6,
          7,
          8,
          9,
          10
         ],
         "y": [
          -1.5836304718557188,
          -1.7363088159351756,
          -1.7417146333605975,
          -1.7695272699806206,
          -1.8367136352749265,
          -1.8400288215854639,
          -1.8502781325420639,
          -1.8870722087958034,
          -1.9028756067266095,
          -1.9381675265988865
         ]
        },
        {
         "hovertext": "<b>Topic 195</b>:wasps_chiggers_centipedes_millipe",
         "line": {
          "color": "black",
          "width": 1.5
         },
         "mode": "lines+lines",
         "name": "",
         "opacity": 0.1,
         "type": "scatter",
         "x": [
          1,
          2,
          3,
          4,
          5,
          6,
          7,
          8,
          9,
          10
         ],
         "y": [
          -1.7161756249233606,
          -1.9164701685013394,
          -1.9164701685013394,
          -2.073259714262732,
          -2.0858719661917857,
          -2.098719191321921,
          -2.118165726198897,
          -2.164201547349943,
          -2.1850055292884347,
          -2.207762394316941
         ]
        },
        {
         "hovertext": "<b>Topic 196</b>:sampling_oversampling_filter_rate",
         "line": {
          "color": "black",
          "width": 1.5
         },
         "mode": "lines+lines",
         "name": "",
         "opacity": 0.1,
         "type": "scatter",
         "x": [
          1,
          2,
          3,
          4,
          5,
          6,
          7,
          8,
          9,
          10
         ],
         "y": [
          -1.8197100055369695,
          -1.8629142266569176,
          -1.9038636187900009,
          -1.915278047163704,
          -1.9633387085883953,
          -2.0416388119206985,
          -2.0728256660026587,
          -2.0770700884655784,
          -2.0862739970390827,
          -2.0898076053427856
         ]
        },
        {
         "hovertext": "<b>Topic 197</b>:cview_temp_temp files_directory_f",
         "line": {
          "color": "black",
          "width": 1.5
         },
         "mode": "lines+lines",
         "name": "",
         "opacity": 0.1,
         "type": "scatter",
         "x": [
          1,
          2,
          3,
          4,
          5,
          6,
          7,
          8,
          9,
          10
         ],
         "y": [
          -1.2379598984971119,
          -1.5630942256879639,
          -1.76183292206801,
          -1.8225030632862633,
          -1.8432059615177805,
          -1.8596068545139146,
          -1.8818800251202996,
          -1.8907859869643415,
          -1.9516847765152012,
          -2.004985443980844
         ]
        },
        {
         "hovertext": "<b>Topic 198</b>:rosicrucian_order_reuss_the order",
         "line": {
          "color": "black",
          "width": 1.5
         },
         "mode": "lines+lines",
         "name": "",
         "opacity": 0.1,
         "type": "scatter",
         "x": [
          1,
          2,
          3,
          4,
          5,
          6,
          7,
          8,
          9,
          10
         ],
         "y": [
          -1.8080032310615641,
          -1.841642159043627,
          -1.8636687887822045,
          -1.955637553744087,
          -1.9873026357249963,
          -2.1730248686692164,
          -2.2058488888475853,
          -2.2126907278998695,
          -2.2243520519683653,
          -2.2243520519683653
         ]
        },
        {
         "hovertext": "<b>Topic 199</b>:tongues_language_in tongues_speak",
         "line": {
          "color": "black",
          "width": 1.5
         },
         "mode": "lines+lines",
         "name": "",
         "opacity": 0.1,
         "type": "scatter",
         "x": [
          1,
          2,
          3,
          4,
          5,
          6,
          7,
          8,
          9,
          10
         ],
         "y": [
          -1.648340905550694,
          -1.7258243208540933,
          -1.8257732426939284,
          -1.9164968263405,
          -2.062866786804678,
          -2.0749827728727555,
          -2.093102098680998,
          -2.0985079161064197,
          -2.1086029003337745,
          -2.1234758682290464
         ]
        },
        {
         "hovertext": "<b>Topic 200</b>:x11r5_r5_patch_sunos_xkernel_mit_",
         "line": {
          "color": "black",
          "width": 1.5
         },
         "mode": "lines+lines",
         "name": "",
         "opacity": 0.1,
         "type": "scatter",
         "x": [
          1,
          2,
          3,
          4,
          5,
          6,
          7,
          8,
          9,
          10
         ],
         "y": [
          -1.762207666057645,
          -1.800054240172541,
          -1.8669214754297352,
          -1.9327633348525297,
          -1.9383838268359692,
          -1.9764846088759318,
          -2.0134686714997456,
          -2.0134686714997456,
          -2.0134686714997456,
          -2.0134686714997456
         ]
        },
        {
         "hovertext": "<b>Topic 201</b>:anonymous_anonymity_privacy_inter",
         "line": {
          "color": "black",
          "width": 1.5
         },
         "mode": "lines+lines",
         "name": "",
         "opacity": 0.1,
         "type": "scatter",
         "x": [
          1,
          2,
          3,
          4,
          5,
          6,
          7,
          8,
          9,
          10
         ],
         "y": [
          -1.9920161465041077,
          -2.1426160610821,
          -2.1630851501281354,
          -2.2069402063583583,
          -2.2276728305334528,
          -2.237937482705735,
          -2.241509794967726,
          -2.3015272193800027,
          -2.3047097962088676,
          -2.3296327488693844
         ]
        },
        {
         "hovertext": "<b>Topic 202</b>:korea_japan_the japanese_japanese",
         "line": {
          "color": "black",
          "width": 1.5
         },
         "mode": "lines+lines",
         "name": "",
         "opacity": 0.1,
         "type": "scatter",
         "x": [
          1,
          2,
          3,
          4,
          5,
          6,
          7,
          8,
          9,
          10
         ],
         "y": [
          -1.5222417101866372,
          -1.705253164962099,
          -1.7088089113879408,
          -1.7206375052642964,
          -1.7318388200212145,
          -1.8605447290784818,
          -1.8605447290784818,
          -1.8605447290784818,
          -1.8605447290784818,
          -1.8605447290784818
         ]
        },
        {
         "hovertext": "<b>Topic 203</b>:clinton_bush_government_has_been_",
         "line": {
          "color": "black",
          "width": 1.5
         },
         "mode": "lines+lines",
         "name": "",
         "opacity": 0.1,
         "type": "scatter",
         "x": [
          1,
          2,
          3,
          4,
          5,
          6,
          7,
          8,
          9,
          10
         ],
         "y": [
          -1.8880432842728447,
          -2.096243384691922,
          -2.146117286506726,
          -2.1560886240495267,
          -2.1853064865059255,
          -2.18708513796286,
          -2.2160481388191906,
          -2.2396913055769048,
          -2.2423962020040697,
          -2.2579077827527447
         ]
        },
        {
         "hovertext": "<b>Topic 204</b>:cramer_homosexual_men_mr cramer_h",
         "line": {
          "color": "black",
          "width": 1.5
         },
         "mode": "lines+lines",
         "name": "",
         "opacity": 0.1,
         "type": "scatter",
         "x": [
          1,
          2,
          3,
          4,
          5,
          6,
          7,
          8,
          9,
          10
         ],
         "y": [
          -1.5864160303035215,
          -1.6739654545186073,
          -1.8382478584815336,
          -1.8690203408468937,
          -1.9856887480440562,
          -2.0479533477572964,
          -2.0719063067863654,
          -2.0741270091166113,
          -2.1159426663765513,
          -2.121907385930293
         ]
        },
        {
         "hovertext": "<b>Topic 205</b>:needles_acupuncture_needle_syring",
         "line": {
          "color": "black",
          "width": 1.5
         },
         "mode": "lines+lines",
         "name": "",
         "opacity": 0.1,
         "type": "scatter",
         "x": [
          1,
          2,
          3,
          4,
          5,
          6,
          7,
          8,
          9,
          10
         ],
         "y": [
          -1.3390741063232976,
          -1.6430213091991928,
          -1.6922661633012246,
          -1.7603771627340945,
          -1.8543879425472785,
          -1.868357422356906,
          -1.8707423407162074,
          -1.8774071043947451,
          -1.9364985843333604,
          -1.9407816424458
         ]
        },
        {
         "hovertext": "<b>Topic 206</b>:dod_the dod_denizens_of doom_rec_",
         "line": {
          "color": "black",
          "width": 1.5
         },
         "mode": "lines+lines",
         "name": "",
         "opacity": 0.1,
         "type": "scatter",
         "x": [
          1,
          2,
          3,
          4,
          5,
          6,
          7,
          8,
          9,
          10
         ],
         "y": [
          -1.4677355050161935,
          -1.9180765200933212,
          -1.973611396908325,
          -2.050589777753854,
          -2.07480399013347,
          -2.080910560730658,
          -2.0809366978018624,
          -2.086054153900429,
          -2.1089101616601806,
          -2.114090504239453
         ]
        },
        {
         "hovertext": "<b>Topic 207</b>:print_printer_print manager_file_",
         "line": {
          "color": "black",
          "width": 1.5
         },
         "mode": "lines+lines",
         "name": "",
         "opacity": 0.1,
         "type": "scatter",
         "x": [
          1,
          2,
          3,
          4,
          5,
          6,
          7,
          8,
          9,
          10
         ],
         "y": [
          -1.4758172661302194,
          -1.5156844331639983,
          -1.747930564525045,
          -1.76050109927822,
          -1.7644267894945498,
          -1.8308199124431506,
          -1.8309041123946237,
          -1.8814937275753358,
          -1.929421317627682,
          -1.9419102353574644
         ]
        },
        {
         "hovertext": "<b>Topic 208</b>:8051_the 8051_assembler_signetics",
         "line": {
          "color": "black",
          "width": 1.5
         },
         "mode": "lines+lines",
         "name": "",
         "opacity": 0.1,
         "type": "scatter",
         "x": [
          1,
          2,
          3,
          4,
          5,
          6,
          7,
          8,
          9,
          10
         ],
         "y": [
          -1.3337085912778135,
          -1.6134462510218996,
          -1.7045285907051333,
          -1.8247786875287213,
          -1.851649398807185,
          -1.874633395864436,
          -1.8790047374110117,
          -1.8821088913888653,
          -1.8911381826640918,
          -1.9548229538072555
         ]
        },
        {
         "hovertext": "<b>Topic 209</b>:sin_hate_love_sinner_the sinner_h",
         "line": {
          "color": "black",
          "width": 1.5
         },
         "mode": "lines+lines",
         "name": "",
         "opacity": 0.1,
         "type": "scatter",
         "x": [
          1,
          2,
          3,
          4,
          5,
          6,
          7,
          8,
          9,
          10
         ],
         "y": [
          -1.6473122726398846,
          -1.6510022328612728,
          -1.7936005214626891,
          -1.8740875028602817,
          -1.8815475055907585,
          -1.9326519290393775,
          -1.9352478753074271,
          -2.042332313311348,
          -2.097107815166472,
          -2.1397566045808087
         ]
        },
        {
         "hovertext": "<b>Topic 210</b>:placebo_jb_placebo effect_rr_medi",
         "line": {
          "color": "black",
          "width": 1.5
         },
         "mode": "lines+lines",
         "name": "",
         "opacity": 0.1,
         "type": "scatter",
         "x": [
          1,
          2,
          3,
          4,
          5,
          6,
          7,
          8,
          9,
          10
         ],
         "y": [
          -1.667617259575887,
          -1.9217889005551203,
          -1.949823404423399,
          -1.9535439064985238,
          -1.9734175957143074,
          -1.9918724146957951,
          -1.9964448144219222,
          -2.0327833035237126,
          -2.0360202462503363,
          -2.0803819816281655
         ]
        },
        {
         "hovertext": "<b>Topic 211</b>:meat_carcinogenic_smoke_carcinoge",
         "line": {
          "color": "black",
          "width": 1.5
         },
         "mode": "lines+lines",
         "name": "",
         "opacity": 0.1,
         "type": "scatter",
         "x": [
          1,
          2,
          3,
          4,
          5,
          6,
          7,
          8,
          9,
          10
         ],
         "y": [
          -1.7890762049316902,
          -1.821246729957992,
          -1.8624179673904713,
          -1.9205811679244158,
          -1.963913023604716,
          -2.013996175634753,
          -2.024844618251316,
          -2.034882885542507,
          -2.0773707136858084,
          -2.0773707136858084
         ]
        },
        {
         "hovertext": "<b>Topic 212</b>:boards_solder_solder mask_mask_gr",
         "line": {
          "color": "black",
          "width": 1.5
         },
         "mode": "lines+lines",
         "name": "",
         "opacity": 0.1,
         "type": "scatter",
         "x": [
          1,
          2,
          3,
          4,
          5,
          6,
          7,
          8,
          9,
          10
         ],
         "y": [
          -1.503224761280729,
          -1.5832486543623705,
          -1.6016621643644,
          -1.6143418340605555,
          -1.6929888211085236,
          -1.7723880494943474,
          -1.8721525194594861,
          -1.905658370238382,
          -1.937454266287593,
          -1.94866162301871
         ]
        },
        {
         "hovertext": "<b>Topic 213</b>:mac_disks_read_to read_disk_the m",
         "line": {
          "color": "black",
          "width": 1.5
         },
         "mode": "lines+lines",
         "name": "",
         "opacity": 0.1,
         "type": "scatter",
         "x": [
          1,
          2,
          3,
          4,
          5,
          6,
          7,
          8,
          9,
          10
         ],
         "y": [
          -1.5025920796480923,
          -1.6165467589358093,
          -1.7011346332246249,
          -1.7561566599065155,
          -1.8053039850689867,
          -1.8306431437196848,
          -1.8342145592017103,
          -1.855584963006683,
          -1.855584963006683,
          -1.855584963006683
         ]
        },
        {
         "hovertext": "<b>Topic 214</b>:keyboard_rsi_pc_typing_exercises_",
         "line": {
          "color": "black",
          "width": 1.5
         },
         "mode": "lines+lines",
         "name": "",
         "opacity": 0.1,
         "type": "scatter",
         "x": [
          1,
          2,
          3,
          4,
          5,
          6,
          7,
          8,
          9,
          10
         ],
         "y": [
          -1.7044764075149543,
          -2.0435793311373414,
          -2.0525393959956055,
          -2.06207888280884,
          -2.123464519902945,
          -2.2071844929555606,
          -2.3035607797218107,
          -2.3065317370510994,
          -2.323790497302567,
          -2.3295883963503443
         ]
        },
        {
         "hovertext": "<b>Topic 215</b>:shared memory_memory_server_share",
         "line": {
          "color": "black",
          "width": 1.5
         },
         "mode": "lines+lines",
         "name": "",
         "opacity": 0.1,
         "type": "scatter",
         "x": [
          1,
          2,
          3,
          4,
          5,
          6,
          7,
          8,
          9,
          10
         ],
         "y": [
          -1.4870554232470343,
          -1.519787726376546,
          -1.5781856432482766,
          -1.5848379724743604,
          -1.751253654469992,
          -1.776263230586728,
          -1.788411075587697,
          -1.8274157530341093,
          -1.882766332754607,
          -1.9042115390618275
         ]
        },
        {
         "hovertext": "<b>Topic 216</b>:oil_indicators_service_indicator_",
         "line": {
          "color": "black",
          "width": 1.5
         },
         "mode": "lines+lines",
         "name": "",
         "opacity": 0.1,
         "type": "scatter",
         "x": [
          1,
          2,
          3,
          4,
          5,
          6,
          7,
          8,
          9,
          10
         ],
         "y": [
          -1.406434027455928,
          -1.6479291987960205,
          -1.7451600173428194,
          -1.7610287308130896,
          -1.7788542771430882,
          -1.802342358614497,
          -1.8571723677304526,
          -1.8571789400401368,
          -1.862801329884401,
          -1.863892653148403
         ]
        },
        {
         "hovertext": "<b>Topic 217</b>:cancer_burzynski_cell_dr burzynsk",
         "line": {
          "color": "black",
          "width": 1.5
         },
         "mode": "lines+lines",
         "name": "",
         "opacity": 0.1,
         "type": "scatter",
         "x": [
          1,
          2,
          3,
          4,
          5,
          6,
          7,
          8,
          9,
          10
         ],
         "y": [
          -1.4183670580324192,
          -1.5954301478560562,
          -1.979979664990902,
          -1.9938281979573207,
          -2.0013971959414953,
          -2.0220832869760588,
          -2.0243811929987463,
          -2.0444004487218237,
          -2.058241704346467,
          -2.0642240438201913
         ]
        },
        {
         "hovertext": "<b>Topic 218</b>:media_washington dc_washington_nw",
         "line": {
          "color": "black",
          "width": 1.5
         },
         "mode": "lines+lines",
         "name": "",
         "opacity": 0.1,
         "type": "scatter",
         "x": [
          1,
          2,
          3,
          4,
          5,
          6,
          7,
          8,
          9,
          10
         ],
         "y": [
          -1.5958456954736624,
          -1.803803873517098,
          -1.8082576943396784,
          -1.814993820526026,
          -1.8168249876350904,
          -1.830487771863105,
          -1.830487771863105,
          -1.8334609218838684,
          -1.842424829664064,
          -1.8536066991752678
         ]
        },
        {
         "hovertext": "<b>Topic 219</b>:sound_soundbase_stereo_mac_to sou",
         "line": {
          "color": "black",
          "width": 1.5
         },
         "mode": "lines+lines",
         "name": "",
         "opacity": 0.1,
         "type": "scatter",
         "x": [
          1,
          2,
          3,
          4,
          5,
          6,
          7,
          8,
          9,
          10
         ],
         "y": [
          -1.4144236436608832,
          -1.7366938319855467,
          -1.772365021957643,
          -1.8096073248023723,
          -1.8947497903835266,
          -1.8971009256114462,
          -1.9073792736158062,
          -1.9158538539223877,
          -1.9575766382622226,
          -2.025042049487943
         ]
        },
        {
         "hovertext": "<b>Topic 220</b>:xterm_shell_character_font_xon_ma",
         "line": {
          "color": "black",
          "width": 1.5
         },
         "mode": "lines+lines",
         "name": "",
         "opacity": 0.1,
         "type": "scatter",
         "x": [
          1,
          2,
          3,
          4,
          5,
          6,
          7,
          8,
          9,
          10
         ],
         "y": [
          -1.4501353193786792,
          -1.8066628501967357,
          -1.863974351258568,
          -1.8865760998973693,
          -1.9183503276119638,
          -1.9483437135329915,
          -1.9902194386915841,
          -2.0393221025733497,
          -2.0505294593044665,
          -2.057267494752245
         ]
        },
        {
         "hovertext": "<b>Topic 221</b>:moscow_aviation_russian_su_instit",
         "line": {
          "color": "black",
          "width": 1.5
         },
         "mode": "lines+lines",
         "name": "",
         "opacity": 0.1,
         "type": "scatter",
         "x": [
          1,
          2,
          3,
          4,
          5,
          6,
          7,
          8,
          9,
          10
         ],
         "y": [
          -1.6798453638878568,
          -1.7775625463108033,
          -1.8563488224002014,
          -1.8765164581761773,
          -1.9625169719417532,
          -2.0524095752896114,
          -2.0524095752896114,
          -2.0524095752896114,
          -2.0524095752896114,
          -2.0524095752896114
         ]
        },
        {
         "hovertext": "<b>Topic 222</b>:mac_sys mac_comp sys mac_system_c",
         "line": {
          "color": "black",
          "width": 1.5
         },
         "mode": "lines+lines",
         "name": "",
         "opacity": 0.1,
         "type": "scatter",
         "x": [
          1,
          2,
          3,
          4,
          5,
          6,
          7,
          8,
          9,
          10
         ],
         "y": [
          -1.878677104238461,
          -1.959794769961466,
          -1.959794769961466,
          -1.9737327220040413,
          -1.9843311379870072,
          -2.027223732048776,
          -2.040431539724332,
          -2.0604624851552638,
          -2.0705271486685866,
          -2.110807935373648
         ]
        },
        {
         "hovertext": "<b>Topic 223</b>:of the drawing_the drawing_draw_d",
         "line": {
          "color": "black",
          "width": 1.5
         },
         "mode": "lines+lines",
         "name": "",
         "opacity": 0.1,
         "type": "scatter",
         "x": [
          1,
          2,
          3,
          4,
          5,
          6,
          7,
          8,
          9,
          10
         ],
         "y": [
          -1.7727195129595321,
          -1.84604475456086,
          -1.867096242726122,
          -1.8995271496024961,
          -1.922558682455404,
          -1.949793146088912,
          -1.9736781619341575,
          -1.9779110638636204,
          -1.9992122961681373,
          -2.020172561217765
         ]
        },
        {
         "hovertext": "<b>Topic 224</b>:religion_motivated_religion is_th",
         "line": {
          "color": "black",
          "width": 1.5
         },
         "mode": "lines+lines",
         "name": "",
         "opacity": 0.1,
         "type": "scatter",
         "x": [
          1,
          2,
          3,
          4,
          5,
          6,
          7,
          8,
          9,
          10
         ],
         "y": [
          -1.5873786471318119,
          -1.9407576869762133,
          -2.0598019205635243,
          -2.075004703909874,
          -2.091442368168034,
          -2.1062098472539494,
          -2.140399203832197,
          -2.166571223922183,
          -2.20273860452943,
          -2.206671333112822
         ]
        },
        {
         "hovertext": "<b>Topic 225</b>:wsm_windows_paradox_shareware_sof",
         "line": {
          "color": "black",
          "width": 1.5
         },
         "mode": "lines+lines",
         "name": "",
         "opacity": 0.1,
         "type": "scatter",
         "x": [
          1,
          2,
          3,
          4,
          5,
          6,
          7,
          8,
          9,
          10
         ],
         "y": [
          -1.7981193579019978,
          -1.8177535797028552,
          -1.902799921870305,
          -1.9886528990811125,
          -2.023452931070559,
          -2.084227363211967,
          -2.1416371817092803,
          -2.144128120309923,
          -2.1596487331491616,
          -2.1609388950035693
         ]
        },
        {
         "hovertext": "<b>Topic 226</b>:polio_patients_post polio_disease",
         "line": {
          "color": "black",
          "width": 1.5
         },
         "mode": "lines+lines",
         "name": "",
         "opacity": 0.1,
         "type": "scatter",
         "x": [
          1,
          2,
          3,
          4,
          5,
          6,
          7,
          8,
          9,
          10
         ],
         "y": [
          -1.5080737244284994,
          -1.793684510302883,
          -1.8578707825199552,
          -1.9707535434001318,
          -1.980656270533234,
          -1.9961955214016465,
          -1.9977315094822672,
          -2.0330068837746715,
          -2.0619907651758798,
          -2.111460096682504
         ]
        },
        {
         "hovertext": "<b>Topic 227</b>:paganism_do you feel_black sabbat",
         "line": {
          "color": "black",
          "width": 1.5
         },
         "mode": "lines+lines",
         "name": "",
         "opacity": 0.1,
         "type": "scatter",
         "x": [
          1,
          2,
          3,
          4,
          5,
          6,
          7,
          8,
          9,
          10
         ],
         "y": [
          -1.7528656893025871,
          -1.7957059726513482,
          -1.8013414633516835,
          -1.824113791306983,
          -1.887635713121484,
          -1.9130798002032914,
          -1.9254375248352686,
          -1.9715169957234338,
          -1.971706508959899,
          -1.976131684362854
         ]
        },
        {
         "hovertext": "<b>Topic 228</b>:ham_interference_radio_local osci",
         "line": {
          "color": "black",
          "width": 1.5
         },
         "mode": "lines+lines",
         "name": "",
         "opacity": 0.1,
         "type": "scatter",
         "x": [
          1,
          2,
          3,
          4,
          5,
          6,
          7,
          8,
          9,
          10
         ],
         "y": [
          -1.4993946231635342,
          -1.6553648343582228,
          -1.739011065627836,
          -1.9693377664711618,
          -1.9747435838965837,
          -2.035211798383961,
          -2.0539248299442083,
          -2.054358551817675,
          -2.058488901153301,
          -2.068201053009957
         ]
        }
       ],
       "layout": {
        "height": 500,
        "hoverlabel": {
         "bgcolor": "white",
         "font": {
          "family": "Rockwell",
          "size": 16
         }
        },
        "showlegend": false,
        "template": {
         "data": {
          "bar": [
           {
            "error_x": {
             "color": "#2a3f5f"
            },
            "error_y": {
             "color": "#2a3f5f"
            },
            "marker": {
             "line": {
              "color": "white",
              "width": 0.5
             },
             "pattern": {
              "fillmode": "overlay",
              "size": 10,
              "solidity": 0.2
             }
            },
            "type": "bar"
           }
          ],
          "barpolar": [
           {
            "marker": {
             "line": {
              "color": "white",
              "width": 0.5
             },
             "pattern": {
              "fillmode": "overlay",
              "size": 10,
              "solidity": 0.2
             }
            },
            "type": "barpolar"
           }
          ],
          "carpet": [
           {
            "aaxis": {
             "endlinecolor": "#2a3f5f",
             "gridcolor": "#C8D4E3",
             "linecolor": "#C8D4E3",
             "minorgridcolor": "#C8D4E3",
             "startlinecolor": "#2a3f5f"
            },
            "baxis": {
             "endlinecolor": "#2a3f5f",
             "gridcolor": "#C8D4E3",
             "linecolor": "#C8D4E3",
             "minorgridcolor": "#C8D4E3",
             "startlinecolor": "#2a3f5f"
            },
            "type": "carpet"
           }
          ],
          "choropleth": [
           {
            "colorbar": {
             "outlinewidth": 0,
             "ticks": ""
            },
            "type": "choropleth"
           }
          ],
          "contour": [
           {
            "colorbar": {
             "outlinewidth": 0,
             "ticks": ""
            },
            "colorscale": [
             [
              0,
              "#0d0887"
             ],
             [
              0.1111111111111111,
              "#46039f"
             ],
             [
              0.2222222222222222,
              "#7201a8"
             ],
             [
              0.3333333333333333,
              "#9c179e"
             ],
             [
              0.4444444444444444,
              "#bd3786"
             ],
             [
              0.5555555555555556,
              "#d8576b"
             ],
             [
              0.6666666666666666,
              "#ed7953"
             ],
             [
              0.7777777777777778,
              "#fb9f3a"
             ],
             [
              0.8888888888888888,
              "#fdca26"
             ],
             [
              1,
              "#f0f921"
             ]
            ],
            "type": "contour"
           }
          ],
          "contourcarpet": [
           {
            "colorbar": {
             "outlinewidth": 0,
             "ticks": ""
            },
            "type": "contourcarpet"
           }
          ],
          "heatmap": [
           {
            "colorbar": {
             "outlinewidth": 0,
             "ticks": ""
            },
            "colorscale": [
             [
              0,
              "#0d0887"
             ],
             [
              0.1111111111111111,
              "#46039f"
             ],
             [
              0.2222222222222222,
              "#7201a8"
             ],
             [
              0.3333333333333333,
              "#9c179e"
             ],
             [
              0.4444444444444444,
              "#bd3786"
             ],
             [
              0.5555555555555556,
              "#d8576b"
             ],
             [
              0.6666666666666666,
              "#ed7953"
             ],
             [
              0.7777777777777778,
              "#fb9f3a"
             ],
             [
              0.8888888888888888,
              "#fdca26"
             ],
             [
              1,
              "#f0f921"
             ]
            ],
            "type": "heatmap"
           }
          ],
          "heatmapgl": [
           {
            "colorbar": {
             "outlinewidth": 0,
             "ticks": ""
            },
            "colorscale": [
             [
              0,
              "#0d0887"
             ],
             [
              0.1111111111111111,
              "#46039f"
             ],
             [
              0.2222222222222222,
              "#7201a8"
             ],
             [
              0.3333333333333333,
              "#9c179e"
             ],
             [
              0.4444444444444444,
              "#bd3786"
             ],
             [
              0.5555555555555556,
              "#d8576b"
             ],
             [
              0.6666666666666666,
              "#ed7953"
             ],
             [
              0.7777777777777778,
              "#fb9f3a"
             ],
             [
              0.8888888888888888,
              "#fdca26"
             ],
             [
              1,
              "#f0f921"
             ]
            ],
            "type": "heatmapgl"
           }
          ],
          "histogram": [
           {
            "marker": {
             "pattern": {
              "fillmode": "overlay",
              "size": 10,
              "solidity": 0.2
             }
            },
            "type": "histogram"
           }
          ],
          "histogram2d": [
           {
            "colorbar": {
             "outlinewidth": 0,
             "ticks": ""
            },
            "colorscale": [
             [
              0,
              "#0d0887"
             ],
             [
              0.1111111111111111,
              "#46039f"
             ],
             [
              0.2222222222222222,
              "#7201a8"
             ],
             [
              0.3333333333333333,
              "#9c179e"
             ],
             [
              0.4444444444444444,
              "#bd3786"
             ],
             [
              0.5555555555555556,
              "#d8576b"
             ],
             [
              0.6666666666666666,
              "#ed7953"
             ],
             [
              0.7777777777777778,
              "#fb9f3a"
             ],
             [
              0.8888888888888888,
              "#fdca26"
             ],
             [
              1,
              "#f0f921"
             ]
            ],
            "type": "histogram2d"
           }
          ],
          "histogram2dcontour": [
           {
            "colorbar": {
             "outlinewidth": 0,
             "ticks": ""
            },
            "colorscale": [
             [
              0,
              "#0d0887"
             ],
             [
              0.1111111111111111,
              "#46039f"
             ],
             [
              0.2222222222222222,
              "#7201a8"
             ],
             [
              0.3333333333333333,
              "#9c179e"
             ],
             [
              0.4444444444444444,
              "#bd3786"
             ],
             [
              0.5555555555555556,
              "#d8576b"
             ],
             [
              0.6666666666666666,
              "#ed7953"
             ],
             [
              0.7777777777777778,
              "#fb9f3a"
             ],
             [
              0.8888888888888888,
              "#fdca26"
             ],
             [
              1,
              "#f0f921"
             ]
            ],
            "type": "histogram2dcontour"
           }
          ],
          "mesh3d": [
           {
            "colorbar": {
             "outlinewidth": 0,
             "ticks": ""
            },
            "type": "mesh3d"
           }
          ],
          "parcoords": [
           {
            "line": {
             "colorbar": {
              "outlinewidth": 0,
              "ticks": ""
             }
            },
            "type": "parcoords"
           }
          ],
          "pie": [
           {
            "automargin": true,
            "type": "pie"
           }
          ],
          "scatter": [
           {
            "fillpattern": {
             "fillmode": "overlay",
             "size": 10,
             "solidity": 0.2
            },
            "type": "scatter"
           }
          ],
          "scatter3d": [
           {
            "line": {
             "colorbar": {
              "outlinewidth": 0,
              "ticks": ""
             }
            },
            "marker": {
             "colorbar": {
              "outlinewidth": 0,
              "ticks": ""
             }
            },
            "type": "scatter3d"
           }
          ],
          "scattercarpet": [
           {
            "marker": {
             "colorbar": {
              "outlinewidth": 0,
              "ticks": ""
             }
            },
            "type": "scattercarpet"
           }
          ],
          "scattergeo": [
           {
            "marker": {
             "colorbar": {
              "outlinewidth": 0,
              "ticks": ""
             }
            },
            "type": "scattergeo"
           }
          ],
          "scattergl": [
           {
            "marker": {
             "colorbar": {
              "outlinewidth": 0,
              "ticks": ""
             }
            },
            "type": "scattergl"
           }
          ],
          "scattermapbox": [
           {
            "marker": {
             "colorbar": {
              "outlinewidth": 0,
              "ticks": ""
             }
            },
            "type": "scattermapbox"
           }
          ],
          "scatterpolar": [
           {
            "marker": {
             "colorbar": {
              "outlinewidth": 0,
              "ticks": ""
             }
            },
            "type": "scatterpolar"
           }
          ],
          "scatterpolargl": [
           {
            "marker": {
             "colorbar": {
              "outlinewidth": 0,
              "ticks": ""
             }
            },
            "type": "scatterpolargl"
           }
          ],
          "scatterternary": [
           {
            "marker": {
             "colorbar": {
              "outlinewidth": 0,
              "ticks": ""
             }
            },
            "type": "scatterternary"
           }
          ],
          "surface": [
           {
            "colorbar": {
             "outlinewidth": 0,
             "ticks": ""
            },
            "colorscale": [
             [
              0,
              "#0d0887"
             ],
             [
              0.1111111111111111,
              "#46039f"
             ],
             [
              0.2222222222222222,
              "#7201a8"
             ],
             [
              0.3333333333333333,
              "#9c179e"
             ],
             [
              0.4444444444444444,
              "#bd3786"
             ],
             [
              0.5555555555555556,
              "#d8576b"
             ],
             [
              0.6666666666666666,
              "#ed7953"
             ],
             [
              0.7777777777777778,
              "#fb9f3a"
             ],
             [
              0.8888888888888888,
              "#fdca26"
             ],
             [
              1,
              "#f0f921"
             ]
            ],
            "type": "surface"
           }
          ],
          "table": [
           {
            "cells": {
             "fill": {
              "color": "#EBF0F8"
             },
             "line": {
              "color": "white"
             }
            },
            "header": {
             "fill": {
              "color": "#C8D4E3"
             },
             "line": {
              "color": "white"
             }
            },
            "type": "table"
           }
          ]
         },
         "layout": {
          "annotationdefaults": {
           "arrowcolor": "#2a3f5f",
           "arrowhead": 0,
           "arrowwidth": 1
          },
          "autotypenumbers": "strict",
          "coloraxis": {
           "colorbar": {
            "outlinewidth": 0,
            "ticks": ""
           }
          },
          "colorscale": {
           "diverging": [
            [
             0,
             "#8e0152"
            ],
            [
             0.1,
             "#c51b7d"
            ],
            [
             0.2,
             "#de77ae"
            ],
            [
             0.3,
             "#f1b6da"
            ],
            [
             0.4,
             "#fde0ef"
            ],
            [
             0.5,
             "#f7f7f7"
            ],
            [
             0.6,
             "#e6f5d0"
            ],
            [
             0.7,
             "#b8e186"
            ],
            [
             0.8,
             "#7fbc41"
            ],
            [
             0.9,
             "#4d9221"
            ],
            [
             1,
             "#276419"
            ]
           ],
           "sequential": [
            [
             0,
             "#0d0887"
            ],
            [
             0.1111111111111111,
             "#46039f"
            ],
            [
             0.2222222222222222,
             "#7201a8"
            ],
            [
             0.3333333333333333,
             "#9c179e"
            ],
            [
             0.4444444444444444,
             "#bd3786"
            ],
            [
             0.5555555555555556,
             "#d8576b"
            ],
            [
             0.6666666666666666,
             "#ed7953"
            ],
            [
             0.7777777777777778,
             "#fb9f3a"
            ],
            [
             0.8888888888888888,
             "#fdca26"
            ],
            [
             1,
             "#f0f921"
            ]
           ],
           "sequentialminus": [
            [
             0,
             "#0d0887"
            ],
            [
             0.1111111111111111,
             "#46039f"
            ],
            [
             0.2222222222222222,
             "#7201a8"
            ],
            [
             0.3333333333333333,
             "#9c179e"
            ],
            [
             0.4444444444444444,
             "#bd3786"
            ],
            [
             0.5555555555555556,
             "#d8576b"
            ],
            [
             0.6666666666666666,
             "#ed7953"
            ],
            [
             0.7777777777777778,
             "#fb9f3a"
            ],
            [
             0.8888888888888888,
             "#fdca26"
            ],
            [
             1,
             "#f0f921"
            ]
           ]
          },
          "colorway": [
           "#636efa",
           "#EF553B",
           "#00cc96",
           "#ab63fa",
           "#FFA15A",
           "#19d3f3",
           "#FF6692",
           "#B6E880",
           "#FF97FF",
           "#FECB52"
          ],
          "font": {
           "color": "#2a3f5f"
          },
          "geo": {
           "bgcolor": "white",
           "lakecolor": "white",
           "landcolor": "white",
           "showlakes": true,
           "showland": true,
           "subunitcolor": "#C8D4E3"
          },
          "hoverlabel": {
           "align": "left"
          },
          "hovermode": "closest",
          "mapbox": {
           "style": "light"
          },
          "paper_bgcolor": "white",
          "plot_bgcolor": "white",
          "polar": {
           "angularaxis": {
            "gridcolor": "#EBF0F8",
            "linecolor": "#EBF0F8",
            "ticks": ""
           },
           "bgcolor": "white",
           "radialaxis": {
            "gridcolor": "#EBF0F8",
            "linecolor": "#EBF0F8",
            "ticks": ""
           }
          },
          "scene": {
           "xaxis": {
            "backgroundcolor": "white",
            "gridcolor": "#DFE8F3",
            "gridwidth": 2,
            "linecolor": "#EBF0F8",
            "showbackground": true,
            "ticks": "",
            "zerolinecolor": "#EBF0F8"
           },
           "yaxis": {
            "backgroundcolor": "white",
            "gridcolor": "#DFE8F3",
            "gridwidth": 2,
            "linecolor": "#EBF0F8",
            "showbackground": true,
            "ticks": "",
            "zerolinecolor": "#EBF0F8"
           },
           "zaxis": {
            "backgroundcolor": "white",
            "gridcolor": "#DFE8F3",
            "gridwidth": 2,
            "linecolor": "#EBF0F8",
            "showbackground": true,
            "ticks": "",
            "zerolinecolor": "#EBF0F8"
           }
          },
          "shapedefaults": {
           "line": {
            "color": "#2a3f5f"
           }
          },
          "ternary": {
           "aaxis": {
            "gridcolor": "#DFE8F3",
            "linecolor": "#A2B1C6",
            "ticks": ""
           },
           "baxis": {
            "gridcolor": "#DFE8F3",
            "linecolor": "#A2B1C6",
            "ticks": ""
           },
           "bgcolor": "white",
           "caxis": {
            "gridcolor": "#DFE8F3",
            "linecolor": "#A2B1C6",
            "ticks": ""
           }
          },
          "title": {
           "x": 0.05
          },
          "xaxis": {
           "automargin": true,
           "gridcolor": "#EBF0F8",
           "linecolor": "#EBF0F8",
           "ticks": "",
           "title": {
            "standoff": 15
           },
           "zerolinecolor": "#EBF0F8",
           "zerolinewidth": 2
          },
          "yaxis": {
           "automargin": true,
           "gridcolor": "#EBF0F8",
           "linecolor": "#EBF0F8",
           "ticks": "",
           "title": {
            "standoff": 15
           },
           "zerolinecolor": "#EBF0F8",
           "zerolinewidth": 2
          }
         }
        },
        "title": {
         "font": {
          "color": "Black",
          "size": 22
         },
         "text": "<b>Term score decline per Topic</b>",
         "x": 0.5,
         "xanchor": "center",
         "y": 0.9,
         "yanchor": "top"
        },
        "width": 800,
        "xaxis": {
         "dtick": 2,
         "range": [
          0,
          10
         ],
         "tick0": 1,
         "title": {
          "text": "Term Rank"
         }
        },
        "yaxis": {
         "title": {
          "text": "c-TF-IDF score (log scale)"
         }
        }
       }
      }
     },
     "metadata": {},
     "output_type": "display_data"
    }
   ],
   "source": [
    "model.visualize_term_rank(log_scale=True)"
   ]
  },
  {
   "cell_type": "code",
   "execution_count": 26,
   "id": "a7d4bf65",
   "metadata": {},
   "outputs": [
    {
     "data": {
      "application/vnd.plotly.v1+json": {
       "config": {
        "plotlyServerURL": "https://plot.ly"
       },
       "data": [
        {
         "customdata": [
          [
           0,
           "game | he | team | the | in",
           1829
          ],
          [
           1,
           "key | clipper | chip | encryption | the",
           570
          ],
          [
           2,
           "israel | israeli | jews | arab | the",
           474
          ],
          [
           3,
           "com | edu | health | list | of",
           251
          ],
          [
           4,
           "ram | drive | for | 32 | sale",
           227
          ],
          [
           5,
           "car | cars | engine | ford | the",
           211
          ],
          [
           6,
           " |  |  |  | ",
           199
          ],
          [
           7,
           "gun | guns | file | firearms | of",
           192
          ],
          [
           8,
           "jpeg | image | gif | file | format",
           177
          ],
          [
           9,
           "space | launch | the | of | nasa",
           167
          ],
          [
           10,
           "card | drivers | diamond | ati | driver",
           162
          ],
          [
           11,
           "bike | the bike | bikes | miles | it",
           152
          ],
          [
           12,
           "fire | fbi | the fire | the fbi | gas",
           132
          ],
          [
           13,
           "window | the window | widget | application | event",
           128
          ],
          [
           14,
           " |  |  |  | ",
           124
          ],
          [
           15,
           "drive | disk | drives | controller | bios",
           123
          ],
          [
           16,
           "god | atheists | atheism | atheist | is",
           117
          ],
          [
           17,
           "graphics | 3d | op_cols | op_rows | conference",
           116
          ],
          [
           18,
           "moral | objective | morality | is | that",
           102
          ],
          [
           19,
           "db | mov | bh | windows | si",
           100
          ],
          [
           20,
           "oil | diesel | fuel | the oil | it",
           89
          ],
          [
           21,
           "armenian | armenians | turkish | of | genocide",
           85
          ],
          [
           22,
           "condition | asking | speakers | stereo | offer",
           84
          ],
          [
           23,
           "islam | rushdie | qur | islamic | qur an",
           83
          ],
          [
           24,
           "serbs | muslims | bosnia | stephanopoulos | mr stephanopoulos",
           78
          ],
          [
           25,
           "ditto | this is test | test | is test | polysyllabic",
           77
          ],
          [
           26,
           "pain | drug | diet | cancer | cholesterol",
           77
          ],
          [
           27,
           "simms | simm | vram | ram | meg",
           75
          ],
          [
           28,
           "msg | food | chinese | taste | foods",
           75
          ],
          [
           29,
           "cs colorado | cs colorado edu | colorado edu | colorado | you",
           74
          ],
          [
           30,
           "drive | drives | disks | mb | hard drive",
           72
          ],
          [
           31,
           "modem | fax | modems | the modem | courier",
           70
          ],
          [
           32,
           "picture sleeve | sleeve | picture | 00 | cd",
           69
          ],
          [
           33,
           "dos dos | dos dos dos | dos | windows | microsoft windows",
           68
          ],
          [
           34,
           "doctor | medical | of | and | doctors",
           67
          ],
          [
           35,
           "games | sega | cd | game | genesis",
           67
          ],
          [
           36,
           "kinsey | men | sex | gay | sexual",
           66
          ],
          [
           37,
           " |  |  |  | ",
           65
          ],
          [
           38,
           "homosexuality | homosexual | paul | that | not",
           65
          ],
          [
           39,
           "sky | advertising | space | light | billboard",
           64
          ],
          [
           40,
           "batf | the batf | they | warrant | fbi",
           63
          ],
          [
           41,
           "smiley | bolick | maddi | bolick or frank | or frank",
           62
          ],
          [
           42,
           "os | windows | nt | windows nt | apps",
           59
          ],
          [
           43,
           "polygon | xxxx | xxxx xxxx | edge | xxxx xxxx xxxx",
           57
          ],
          [
           44,
           "scsi | ide | drive | controller | bit",
           57
          ],
          [
           45,
           "colormap | dpy | color | visual | window",
           56
          ],
          [
           46,
           "printer | deskjet | hp | ink | printers",
           56
          ],
          [
           47,
           "wave | bike | bikers | my | ride",
           54
          ],
          [
           48,
           "we | tax | senior administration | senior administration official | administration official",
           51
          ],
          [
           49,
           "reno | waco | president | that | the",
           50
          ]
         ],
         "hovertemplate": "<b>Topic %{customdata[0]}</b><br>Words: %{customdata[1]}<br>Size: %{customdata[2]}",
         "legendgroup": "",
         "marker": {
          "color": "#B0BEC5",
          "line": {
           "color": "DarkSlateGrey",
           "width": 2
          },
          "size": [
           1829,
           570,
           474,
           251,
           227,
           211,
           199,
           192,
           177,
           167,
           162,
           152,
           132,
           128,
           124,
           123,
           117,
           116,
           102,
           100,
           89,
           85,
           84,
           83,
           78,
           77,
           77,
           75,
           75,
           74,
           72,
           70,
           69,
           68,
           67,
           67,
           66,
           65,
           65,
           64,
           63,
           62,
           59,
           57,
           57,
           56,
           56,
           54,
           51,
           50
          ],
          "sizemode": "area",
          "sizeref": 1.143125,
          "symbol": "circle"
         },
         "mode": "markers",
         "name": "",
         "orientation": "v",
         "showlegend": false,
         "type": "scatter",
         "x": [
          -9.111248016357422,
          -8.280445098876953,
          -9.034356117248535,
          -1.725523829460144,
          13.976408004760742,
          1.7058240175247192,
          13.06369400024414,
          -8.42900562286377,
          4.819815158843994,
          -11.546751976013184,
          16.815935134887695,
          1.8966014385223389,
          -14.437397003173828,
          4.688060283660889,
          12.752921104431152,
          14.783576965332031,
          -8.381693840026855,
          4.72552490234375,
          -8.654461860656738,
          14.655426979064941,
          1.6056451797485352,
          -8.885384559631348,
          1.9287314414978027,
          -8.476446151733398,
          -8.577157020568848,
          -8.146873474121094,
          -1.6095830202102661,
          16.56317138671875,
          -1.4299253225326538,
          -8.706021308898926,
          16.009510040283203,
          15.896370887756348,
          2.284073829650879,
          16.955764770507812,
          -1.6701686382293701,
          2.0528433322906494,
          -8.822924613952637,
          13.008777618408203,
          -8.733802795410156,
          -11.5414457321167,
          -14.49056339263916,
          -8.221576690673828,
          16.2274227142334,
          4.960303783416748,
          14.115818977355957,
          4.688098907470703,
          16.410066604614258,
          -8.869982719421387,
          -8.698446273803711,
          -14.622483253479004
         ],
         "xaxis": "x",
         "y": [
          13.671012878417969,
          13.980815887451172,
          13.940025329589844,
          15.269424438476562,
          4.061274528503418,
          7.948145389556885,
          14.192986488342285,
          14.179686546325684,
          1.2622473239898682,
          11.416152000427246,
          4.761296272277832,
          8.15013599395752,
          3.9350383281707764,
          -13.57303524017334,
          13.979434967041016,
          4.268406391143799,
          -0.5374076962471008,
          1.1127303838729858,
          -0.47353798151016235,
          4.176355361938477,
          7.881554126739502,
          14.387896537780762,
          4.757822036743164,
          -0.48703697323799133,
          14.510226249694824,
          0.46513956785202026,
          15.473191261291504,
          4.559090614318848,
          15.509000778198242,
          0.07551959156990051,
          4.279057025909424,
          4.0607523918151855,
          4.652620315551758,
          4.908325672149658,
          15.610823631286621,
          4.697135925292969,
          -1.1938329935073853,
          14.053583145141602,
          -0.9758002758026123,
          11.42081356048584,
          3.974451780319214,
          0.45403173565864563,
          4.167594909667969,
          1.392143964767456,
          4.124695301055908,
          -13.573041915893555,
          3.96835994720459,
          0.1636757105588913,
          14.6050386428833,
          4.105699062347412
         ],
         "yaxis": "y"
        }
       ],
       "layout": {
        "annotations": [
         {
          "showarrow": false,
          "text": "D1",
          "x": -16.815855741500854,
          "y": 1.171724486351013,
          "yshift": 10
         },
         {
          "showarrow": false,
          "text": "D2",
          "x": 1.3416368722915646,
          "xshift": 10,
          "y": 17.952447175979614
         }
        ],
        "height": 650,
        "hoverlabel": {
         "bgcolor": "white",
         "font": {
          "family": "Rockwell",
          "size": 16
         }
        },
        "legend": {
         "itemsizing": "constant",
         "tracegroupgap": 0
        },
        "margin": {
         "t": 60
        },
        "shapes": [
         {
          "line": {
           "color": "#CFD8DC",
           "width": 2
          },
          "type": "line",
          "x0": 1.3416368722915646,
          "x1": 1.3416368722915646,
          "y0": -15.608998203277588,
          "y1": 17.952447175979614
         },
         {
          "line": {
           "color": "#9E9E9E",
           "width": 2
          },
          "type": "line",
          "x0": -16.815855741500854,
          "x1": 19.499129486083984,
          "y0": 1.171724486351013,
          "y1": 1.171724486351013
         }
        ],
        "sliders": [
         {
          "active": 0,
          "pad": {
           "t": 50
          },
          "steps": [
           {
            "args": [
             {
              "marker.color": [
               [
                "red",
                "#B0BEC5",
                "#B0BEC5",
                "#B0BEC5",
                "#B0BEC5",
                "#B0BEC5",
                "#B0BEC5",
                "#B0BEC5",
                "#B0BEC5",
                "#B0BEC5",
                "#B0BEC5",
                "#B0BEC5",
                "#B0BEC5",
                "#B0BEC5",
                "#B0BEC5",
                "#B0BEC5",
                "#B0BEC5",
                "#B0BEC5",
                "#B0BEC5",
                "#B0BEC5",
                "#B0BEC5",
                "#B0BEC5",
                "#B0BEC5",
                "#B0BEC5",
                "#B0BEC5",
                "#B0BEC5",
                "#B0BEC5",
                "#B0BEC5",
                "#B0BEC5",
                "#B0BEC5",
                "#B0BEC5",
                "#B0BEC5",
                "#B0BEC5",
                "#B0BEC5",
                "#B0BEC5",
                "#B0BEC5",
                "#B0BEC5",
                "#B0BEC5",
                "#B0BEC5",
                "#B0BEC5",
                "#B0BEC5",
                "#B0BEC5",
                "#B0BEC5",
                "#B0BEC5",
                "#B0BEC5",
                "#B0BEC5",
                "#B0BEC5",
                "#B0BEC5",
                "#B0BEC5",
                "#B0BEC5"
               ]
              ]
             }
            ],
            "label": "Topic 0",
            "method": "update"
           },
           {
            "args": [
             {
              "marker.color": [
               [
                "#B0BEC5",
                "red",
                "#B0BEC5",
                "#B0BEC5",
                "#B0BEC5",
                "#B0BEC5",
                "#B0BEC5",
                "#B0BEC5",
                "#B0BEC5",
                "#B0BEC5",
                "#B0BEC5",
                "#B0BEC5",
                "#B0BEC5",
                "#B0BEC5",
                "#B0BEC5",
                "#B0BEC5",
                "#B0BEC5",
                "#B0BEC5",
                "#B0BEC5",
                "#B0BEC5",
                "#B0BEC5",
                "#B0BEC5",
                "#B0BEC5",
                "#B0BEC5",
                "#B0BEC5",
                "#B0BEC5",
                "#B0BEC5",
                "#B0BEC5",
                "#B0BEC5",
                "#B0BEC5",
                "#B0BEC5",
                "#B0BEC5",
                "#B0BEC5",
                "#B0BEC5",
                "#B0BEC5",
                "#B0BEC5",
                "#B0BEC5",
                "#B0BEC5",
                "#B0BEC5",
                "#B0BEC5",
                "#B0BEC5",
                "#B0BEC5",
                "#B0BEC5",
                "#B0BEC5",
                "#B0BEC5",
                "#B0BEC5",
                "#B0BEC5",
                "#B0BEC5",
                "#B0BEC5",
                "#B0BEC5"
               ]
              ]
             }
            ],
            "label": "Topic 1",
            "method": "update"
           },
           {
            "args": [
             {
              "marker.color": [
               [
                "#B0BEC5",
                "#B0BEC5",
                "red",
                "#B0BEC5",
                "#B0BEC5",
                "#B0BEC5",
                "#B0BEC5",
                "#B0BEC5",
                "#B0BEC5",
                "#B0BEC5",
                "#B0BEC5",
                "#B0BEC5",
                "#B0BEC5",
                "#B0BEC5",
                "#B0BEC5",
                "#B0BEC5",
                "#B0BEC5",
                "#B0BEC5",
                "#B0BEC5",
                "#B0BEC5",
                "#B0BEC5",
                "#B0BEC5",
                "#B0BEC5",
                "#B0BEC5",
                "#B0BEC5",
                "#B0BEC5",
                "#B0BEC5",
                "#B0BEC5",
                "#B0BEC5",
                "#B0BEC5",
                "#B0BEC5",
                "#B0BEC5",
                "#B0BEC5",
                "#B0BEC5",
                "#B0BEC5",
                "#B0BEC5",
                "#B0BEC5",
                "#B0BEC5",
                "#B0BEC5",
                "#B0BEC5",
                "#B0BEC5",
                "#B0BEC5",
                "#B0BEC5",
                "#B0BEC5",
                "#B0BEC5",
                "#B0BEC5",
                "#B0BEC5",
                "#B0BEC5",
                "#B0BEC5",
                "#B0BEC5"
               ]
              ]
             }
            ],
            "label": "Topic 2",
            "method": "update"
           },
           {
            "args": [
             {
              "marker.color": [
               [
                "#B0BEC5",
                "#B0BEC5",
                "#B0BEC5",
                "red",
                "#B0BEC5",
                "#B0BEC5",
                "#B0BEC5",
                "#B0BEC5",
                "#B0BEC5",
                "#B0BEC5",
                "#B0BEC5",
                "#B0BEC5",
                "#B0BEC5",
                "#B0BEC5",
                "#B0BEC5",
                "#B0BEC5",
                "#B0BEC5",
                "#B0BEC5",
                "#B0BEC5",
                "#B0BEC5",
                "#B0BEC5",
                "#B0BEC5",
                "#B0BEC5",
                "#B0BEC5",
                "#B0BEC5",
                "#B0BEC5",
                "#B0BEC5",
                "#B0BEC5",
                "#B0BEC5",
                "#B0BEC5",
                "#B0BEC5",
                "#B0BEC5",
                "#B0BEC5",
                "#B0BEC5",
                "#B0BEC5",
                "#B0BEC5",
                "#B0BEC5",
                "#B0BEC5",
                "#B0BEC5",
                "#B0BEC5",
                "#B0BEC5",
                "#B0BEC5",
                "#B0BEC5",
                "#B0BEC5",
                "#B0BEC5",
                "#B0BEC5",
                "#B0BEC5",
                "#B0BEC5",
                "#B0BEC5",
                "#B0BEC5"
               ]
              ]
             }
            ],
            "label": "Topic 3",
            "method": "update"
           },
           {
            "args": [
             {
              "marker.color": [
               [
                "#B0BEC5",
                "#B0BEC5",
                "#B0BEC5",
                "#B0BEC5",
                "red",
                "#B0BEC5",
                "#B0BEC5",
                "#B0BEC5",
                "#B0BEC5",
                "#B0BEC5",
                "#B0BEC5",
                "#B0BEC5",
                "#B0BEC5",
                "#B0BEC5",
                "#B0BEC5",
                "#B0BEC5",
                "#B0BEC5",
                "#B0BEC5",
                "#B0BEC5",
                "#B0BEC5",
                "#B0BEC5",
                "#B0BEC5",
                "#B0BEC5",
                "#B0BEC5",
                "#B0BEC5",
                "#B0BEC5",
                "#B0BEC5",
                "#B0BEC5",
                "#B0BEC5",
                "#B0BEC5",
                "#B0BEC5",
                "#B0BEC5",
                "#B0BEC5",
                "#B0BEC5",
                "#B0BEC5",
                "#B0BEC5",
                "#B0BEC5",
                "#B0BEC5",
                "#B0BEC5",
                "#B0BEC5",
                "#B0BEC5",
                "#B0BEC5",
                "#B0BEC5",
                "#B0BEC5",
                "#B0BEC5",
                "#B0BEC5",
                "#B0BEC5",
                "#B0BEC5",
                "#B0BEC5",
                "#B0BEC5"
               ]
              ]
             }
            ],
            "label": "Topic 4",
            "method": "update"
           },
           {
            "args": [
             {
              "marker.color": [
               [
                "#B0BEC5",
                "#B0BEC5",
                "#B0BEC5",
                "#B0BEC5",
                "#B0BEC5",
                "red",
                "#B0BEC5",
                "#B0BEC5",
                "#B0BEC5",
                "#B0BEC5",
                "#B0BEC5",
                "#B0BEC5",
                "#B0BEC5",
                "#B0BEC5",
                "#B0BEC5",
                "#B0BEC5",
                "#B0BEC5",
                "#B0BEC5",
                "#B0BEC5",
                "#B0BEC5",
                "#B0BEC5",
                "#B0BEC5",
                "#B0BEC5",
                "#B0BEC5",
                "#B0BEC5",
                "#B0BEC5",
                "#B0BEC5",
                "#B0BEC5",
                "#B0BEC5",
                "#B0BEC5",
                "#B0BEC5",
                "#B0BEC5",
                "#B0BEC5",
                "#B0BEC5",
                "#B0BEC5",
                "#B0BEC5",
                "#B0BEC5",
                "#B0BEC5",
                "#B0BEC5",
                "#B0BEC5",
                "#B0BEC5",
                "#B0BEC5",
                "#B0BEC5",
                "#B0BEC5",
                "#B0BEC5",
                "#B0BEC5",
                "#B0BEC5",
                "#B0BEC5",
                "#B0BEC5",
                "#B0BEC5"
               ]
              ]
             }
            ],
            "label": "Topic 5",
            "method": "update"
           },
           {
            "args": [
             {
              "marker.color": [
               [
                "#B0BEC5",
                "#B0BEC5",
                "#B0BEC5",
                "#B0BEC5",
                "#B0BEC5",
                "#B0BEC5",
                "red",
                "#B0BEC5",
                "#B0BEC5",
                "#B0BEC5",
                "#B0BEC5",
                "#B0BEC5",
                "#B0BEC5",
                "#B0BEC5",
                "#B0BEC5",
                "#B0BEC5",
                "#B0BEC5",
                "#B0BEC5",
                "#B0BEC5",
                "#B0BEC5",
                "#B0BEC5",
                "#B0BEC5",
                "#B0BEC5",
                "#B0BEC5",
                "#B0BEC5",
                "#B0BEC5",
                "#B0BEC5",
                "#B0BEC5",
                "#B0BEC5",
                "#B0BEC5",
                "#B0BEC5",
                "#B0BEC5",
                "#B0BEC5",
                "#B0BEC5",
                "#B0BEC5",
                "#B0BEC5",
                "#B0BEC5",
                "#B0BEC5",
                "#B0BEC5",
                "#B0BEC5",
                "#B0BEC5",
                "#B0BEC5",
                "#B0BEC5",
                "#B0BEC5",
                "#B0BEC5",
                "#B0BEC5",
                "#B0BEC5",
                "#B0BEC5",
                "#B0BEC5",
                "#B0BEC5"
               ]
              ]
             }
            ],
            "label": "Topic 6",
            "method": "update"
           },
           {
            "args": [
             {
              "marker.color": [
               [
                "#B0BEC5",
                "#B0BEC5",
                "#B0BEC5",
                "#B0BEC5",
                "#B0BEC5",
                "#B0BEC5",
                "#B0BEC5",
                "red",
                "#B0BEC5",
                "#B0BEC5",
                "#B0BEC5",
                "#B0BEC5",
                "#B0BEC5",
                "#B0BEC5",
                "#B0BEC5",
                "#B0BEC5",
                "#B0BEC5",
                "#B0BEC5",
                "#B0BEC5",
                "#B0BEC5",
                "#B0BEC5",
                "#B0BEC5",
                "#B0BEC5",
                "#B0BEC5",
                "#B0BEC5",
                "#B0BEC5",
                "#B0BEC5",
                "#B0BEC5",
                "#B0BEC5",
                "#B0BEC5",
                "#B0BEC5",
                "#B0BEC5",
                "#B0BEC5",
                "#B0BEC5",
                "#B0BEC5",
                "#B0BEC5",
                "#B0BEC5",
                "#B0BEC5",
                "#B0BEC5",
                "#B0BEC5",
                "#B0BEC5",
                "#B0BEC5",
                "#B0BEC5",
                "#B0BEC5",
                "#B0BEC5",
                "#B0BEC5",
                "#B0BEC5",
                "#B0BEC5",
                "#B0BEC5",
                "#B0BEC5"
               ]
              ]
             }
            ],
            "label": "Topic 7",
            "method": "update"
           },
           {
            "args": [
             {
              "marker.color": [
               [
                "#B0BEC5",
                "#B0BEC5",
                "#B0BEC5",
                "#B0BEC5",
                "#B0BEC5",
                "#B0BEC5",
                "#B0BEC5",
                "#B0BEC5",
                "red",
                "#B0BEC5",
                "#B0BEC5",
                "#B0BEC5",
                "#B0BEC5",
                "#B0BEC5",
                "#B0BEC5",
                "#B0BEC5",
                "#B0BEC5",
                "#B0BEC5",
                "#B0BEC5",
                "#B0BEC5",
                "#B0BEC5",
                "#B0BEC5",
                "#B0BEC5",
                "#B0BEC5",
                "#B0BEC5",
                "#B0BEC5",
                "#B0BEC5",
                "#B0BEC5",
                "#B0BEC5",
                "#B0BEC5",
                "#B0BEC5",
                "#B0BEC5",
                "#B0BEC5",
                "#B0BEC5",
                "#B0BEC5",
                "#B0BEC5",
                "#B0BEC5",
                "#B0BEC5",
                "#B0BEC5",
                "#B0BEC5",
                "#B0BEC5",
                "#B0BEC5",
                "#B0BEC5",
                "#B0BEC5",
                "#B0BEC5",
                "#B0BEC5",
                "#B0BEC5",
                "#B0BEC5",
                "#B0BEC5",
                "#B0BEC5"
               ]
              ]
             }
            ],
            "label": "Topic 8",
            "method": "update"
           },
           {
            "args": [
             {
              "marker.color": [
               [
                "#B0BEC5",
                "#B0BEC5",
                "#B0BEC5",
                "#B0BEC5",
                "#B0BEC5",
                "#B0BEC5",
                "#B0BEC5",
                "#B0BEC5",
                "#B0BEC5",
                "red",
                "#B0BEC5",
                "#B0BEC5",
                "#B0BEC5",
                "#B0BEC5",
                "#B0BEC5",
                "#B0BEC5",
                "#B0BEC5",
                "#B0BEC5",
                "#B0BEC5",
                "#B0BEC5",
                "#B0BEC5",
                "#B0BEC5",
                "#B0BEC5",
                "#B0BEC5",
                "#B0BEC5",
                "#B0BEC5",
                "#B0BEC5",
                "#B0BEC5",
                "#B0BEC5",
                "#B0BEC5",
                "#B0BEC5",
                "#B0BEC5",
                "#B0BEC5",
                "#B0BEC5",
                "#B0BEC5",
                "#B0BEC5",
                "#B0BEC5",
                "#B0BEC5",
                "#B0BEC5",
                "#B0BEC5",
                "#B0BEC5",
                "#B0BEC5",
                "#B0BEC5",
                "#B0BEC5",
                "#B0BEC5",
                "#B0BEC5",
                "#B0BEC5",
                "#B0BEC5",
                "#B0BEC5",
                "#B0BEC5"
               ]
              ]
             }
            ],
            "label": "Topic 9",
            "method": "update"
           },
           {
            "args": [
             {
              "marker.color": [
               [
                "#B0BEC5",
                "#B0BEC5",
                "#B0BEC5",
                "#B0BEC5",
                "#B0BEC5",
                "#B0BEC5",
                "#B0BEC5",
                "#B0BEC5",
                "#B0BEC5",
                "#B0BEC5",
                "red",
                "#B0BEC5",
                "#B0BEC5",
                "#B0BEC5",
                "#B0BEC5",
                "#B0BEC5",
                "#B0BEC5",
                "#B0BEC5",
                "#B0BEC5",
                "#B0BEC5",
                "#B0BEC5",
                "#B0BEC5",
                "#B0BEC5",
                "#B0BEC5",
                "#B0BEC5",
                "#B0BEC5",
                "#B0BEC5",
                "#B0BEC5",
                "#B0BEC5",
                "#B0BEC5",
                "#B0BEC5",
                "#B0BEC5",
                "#B0BEC5",
                "#B0BEC5",
                "#B0BEC5",
                "#B0BEC5",
                "#B0BEC5",
                "#B0BEC5",
                "#B0BEC5",
                "#B0BEC5",
                "#B0BEC5",
                "#B0BEC5",
                "#B0BEC5",
                "#B0BEC5",
                "#B0BEC5",
                "#B0BEC5",
                "#B0BEC5",
                "#B0BEC5",
                "#B0BEC5",
                "#B0BEC5"
               ]
              ]
             }
            ],
            "label": "Topic 10",
            "method": "update"
           },
           {
            "args": [
             {
              "marker.color": [
               [
                "#B0BEC5",
                "#B0BEC5",
                "#B0BEC5",
                "#B0BEC5",
                "#B0BEC5",
                "#B0BEC5",
                "#B0BEC5",
                "#B0BEC5",
                "#B0BEC5",
                "#B0BEC5",
                "#B0BEC5",
                "red",
                "#B0BEC5",
                "#B0BEC5",
                "#B0BEC5",
                "#B0BEC5",
                "#B0BEC5",
                "#B0BEC5",
                "#B0BEC5",
                "#B0BEC5",
                "#B0BEC5",
                "#B0BEC5",
                "#B0BEC5",
                "#B0BEC5",
                "#B0BEC5",
                "#B0BEC5",
                "#B0BEC5",
                "#B0BEC5",
                "#B0BEC5",
                "#B0BEC5",
                "#B0BEC5",
                "#B0BEC5",
                "#B0BEC5",
                "#B0BEC5",
                "#B0BEC5",
                "#B0BEC5",
                "#B0BEC5",
                "#B0BEC5",
                "#B0BEC5",
                "#B0BEC5",
                "#B0BEC5",
                "#B0BEC5",
                "#B0BEC5",
                "#B0BEC5",
                "#B0BEC5",
                "#B0BEC5",
                "#B0BEC5",
                "#B0BEC5",
                "#B0BEC5",
                "#B0BEC5"
               ]
              ]
             }
            ],
            "label": "Topic 11",
            "method": "update"
           },
           {
            "args": [
             {
              "marker.color": [
               [
                "#B0BEC5",
                "#B0BEC5",
                "#B0BEC5",
                "#B0BEC5",
                "#B0BEC5",
                "#B0BEC5",
                "#B0BEC5",
                "#B0BEC5",
                "#B0BEC5",
                "#B0BEC5",
                "#B0BEC5",
                "#B0BEC5",
                "red",
                "#B0BEC5",
                "#B0BEC5",
                "#B0BEC5",
                "#B0BEC5",
                "#B0BEC5",
                "#B0BEC5",
                "#B0BEC5",
                "#B0BEC5",
                "#B0BEC5",
                "#B0BEC5",
                "#B0BEC5",
                "#B0BEC5",
                "#B0BEC5",
                "#B0BEC5",
                "#B0BEC5",
                "#B0BEC5",
                "#B0BEC5",
                "#B0BEC5",
                "#B0BEC5",
                "#B0BEC5",
                "#B0BEC5",
                "#B0BEC5",
                "#B0BEC5",
                "#B0BEC5",
                "#B0BEC5",
                "#B0BEC5",
                "#B0BEC5",
                "#B0BEC5",
                "#B0BEC5",
                "#B0BEC5",
                "#B0BEC5",
                "#B0BEC5",
                "#B0BEC5",
                "#B0BEC5",
                "#B0BEC5",
                "#B0BEC5",
                "#B0BEC5"
               ]
              ]
             }
            ],
            "label": "Topic 12",
            "method": "update"
           },
           {
            "args": [
             {
              "marker.color": [
               [
                "#B0BEC5",
                "#B0BEC5",
                "#B0BEC5",
                "#B0BEC5",
                "#B0BEC5",
                "#B0BEC5",
                "#B0BEC5",
                "#B0BEC5",
                "#B0BEC5",
                "#B0BEC5",
                "#B0BEC5",
                "#B0BEC5",
                "#B0BEC5",
                "red",
                "#B0BEC5",
                "#B0BEC5",
                "#B0BEC5",
                "#B0BEC5",
                "#B0BEC5",
                "#B0BEC5",
                "#B0BEC5",
                "#B0BEC5",
                "#B0BEC5",
                "#B0BEC5",
                "#B0BEC5",
                "#B0BEC5",
                "#B0BEC5",
                "#B0BEC5",
                "#B0BEC5",
                "#B0BEC5",
                "#B0BEC5",
                "#B0BEC5",
                "#B0BEC5",
                "#B0BEC5",
                "#B0BEC5",
                "#B0BEC5",
                "#B0BEC5",
                "#B0BEC5",
                "#B0BEC5",
                "#B0BEC5",
                "#B0BEC5",
                "#B0BEC5",
                "#B0BEC5",
                "#B0BEC5",
                "#B0BEC5",
                "#B0BEC5",
                "#B0BEC5",
                "#B0BEC5",
                "#B0BEC5",
                "#B0BEC5"
               ]
              ]
             }
            ],
            "label": "Topic 13",
            "method": "update"
           },
           {
            "args": [
             {
              "marker.color": [
               [
                "#B0BEC5",
                "#B0BEC5",
                "#B0BEC5",
                "#B0BEC5",
                "#B0BEC5",
                "#B0BEC5",
                "#B0BEC5",
                "#B0BEC5",
                "#B0BEC5",
                "#B0BEC5",
                "#B0BEC5",
                "#B0BEC5",
                "#B0BEC5",
                "#B0BEC5",
                "red",
                "#B0BEC5",
                "#B0BEC5",
                "#B0BEC5",
                "#B0BEC5",
                "#B0BEC5",
                "#B0BEC5",
                "#B0BEC5",
                "#B0BEC5",
                "#B0BEC5",
                "#B0BEC5",
                "#B0BEC5",
                "#B0BEC5",
                "#B0BEC5",
                "#B0BEC5",
                "#B0BEC5",
                "#B0BEC5",
                "#B0BEC5",
                "#B0BEC5",
                "#B0BEC5",
                "#B0BEC5",
                "#B0BEC5",
                "#B0BEC5",
                "#B0BEC5",
                "#B0BEC5",
                "#B0BEC5",
                "#B0BEC5",
                "#B0BEC5",
                "#B0BEC5",
                "#B0BEC5",
                "#B0BEC5",
                "#B0BEC5",
                "#B0BEC5",
                "#B0BEC5",
                "#B0BEC5",
                "#B0BEC5"
               ]
              ]
             }
            ],
            "label": "Topic 14",
            "method": "update"
           },
           {
            "args": [
             {
              "marker.color": [
               [
                "#B0BEC5",
                "#B0BEC5",
                "#B0BEC5",
                "#B0BEC5",
                "#B0BEC5",
                "#B0BEC5",
                "#B0BEC5",
                "#B0BEC5",
                "#B0BEC5",
                "#B0BEC5",
                "#B0BEC5",
                "#B0BEC5",
                "#B0BEC5",
                "#B0BEC5",
                "#B0BEC5",
                "red",
                "#B0BEC5",
                "#B0BEC5",
                "#B0BEC5",
                "#B0BEC5",
                "#B0BEC5",
                "#B0BEC5",
                "#B0BEC5",
                "#B0BEC5",
                "#B0BEC5",
                "#B0BEC5",
                "#B0BEC5",
                "#B0BEC5",
                "#B0BEC5",
                "#B0BEC5",
                "#B0BEC5",
                "#B0BEC5",
                "#B0BEC5",
                "#B0BEC5",
                "#B0BEC5",
                "#B0BEC5",
                "#B0BEC5",
                "#B0BEC5",
                "#B0BEC5",
                "#B0BEC5",
                "#B0BEC5",
                "#B0BEC5",
                "#B0BEC5",
                "#B0BEC5",
                "#B0BEC5",
                "#B0BEC5",
                "#B0BEC5",
                "#B0BEC5",
                "#B0BEC5",
                "#B0BEC5"
               ]
              ]
             }
            ],
            "label": "Topic 15",
            "method": "update"
           },
           {
            "args": [
             {
              "marker.color": [
               [
                "#B0BEC5",
                "#B0BEC5",
                "#B0BEC5",
                "#B0BEC5",
                "#B0BEC5",
                "#B0BEC5",
                "#B0BEC5",
                "#B0BEC5",
                "#B0BEC5",
                "#B0BEC5",
                "#B0BEC5",
                "#B0BEC5",
                "#B0BEC5",
                "#B0BEC5",
                "#B0BEC5",
                "#B0BEC5",
                "red",
                "#B0BEC5",
                "#B0BEC5",
                "#B0BEC5",
                "#B0BEC5",
                "#B0BEC5",
                "#B0BEC5",
                "#B0BEC5",
                "#B0BEC5",
                "#B0BEC5",
                "#B0BEC5",
                "#B0BEC5",
                "#B0BEC5",
                "#B0BEC5",
                "#B0BEC5",
                "#B0BEC5",
                "#B0BEC5",
                "#B0BEC5",
                "#B0BEC5",
                "#B0BEC5",
                "#B0BEC5",
                "#B0BEC5",
                "#B0BEC5",
                "#B0BEC5",
                "#B0BEC5",
                "#B0BEC5",
                "#B0BEC5",
                "#B0BEC5",
                "#B0BEC5",
                "#B0BEC5",
                "#B0BEC5",
                "#B0BEC5",
                "#B0BEC5",
                "#B0BEC5"
               ]
              ]
             }
            ],
            "label": "Topic 16",
            "method": "update"
           },
           {
            "args": [
             {
              "marker.color": [
               [
                "#B0BEC5",
                "#B0BEC5",
                "#B0BEC5",
                "#B0BEC5",
                "#B0BEC5",
                "#B0BEC5",
                "#B0BEC5",
                "#B0BEC5",
                "#B0BEC5",
                "#B0BEC5",
                "#B0BEC5",
                "#B0BEC5",
                "#B0BEC5",
                "#B0BEC5",
                "#B0BEC5",
                "#B0BEC5",
                "#B0BEC5",
                "red",
                "#B0BEC5",
                "#B0BEC5",
                "#B0BEC5",
                "#B0BEC5",
                "#B0BEC5",
                "#B0BEC5",
                "#B0BEC5",
                "#B0BEC5",
                "#B0BEC5",
                "#B0BEC5",
                "#B0BEC5",
                "#B0BEC5",
                "#B0BEC5",
                "#B0BEC5",
                "#B0BEC5",
                "#B0BEC5",
                "#B0BEC5",
                "#B0BEC5",
                "#B0BEC5",
                "#B0BEC5",
                "#B0BEC5",
                "#B0BEC5",
                "#B0BEC5",
                "#B0BEC5",
                "#B0BEC5",
                "#B0BEC5",
                "#B0BEC5",
                "#B0BEC5",
                "#B0BEC5",
                "#B0BEC5",
                "#B0BEC5",
                "#B0BEC5"
               ]
              ]
             }
            ],
            "label": "Topic 17",
            "method": "update"
           },
           {
            "args": [
             {
              "marker.color": [
               [
                "#B0BEC5",
                "#B0BEC5",
                "#B0BEC5",
                "#B0BEC5",
                "#B0BEC5",
                "#B0BEC5",
                "#B0BEC5",
                "#B0BEC5",
                "#B0BEC5",
                "#B0BEC5",
                "#B0BEC5",
                "#B0BEC5",
                "#B0BEC5",
                "#B0BEC5",
                "#B0BEC5",
                "#B0BEC5",
                "#B0BEC5",
                "#B0BEC5",
                "red",
                "#B0BEC5",
                "#B0BEC5",
                "#B0BEC5",
                "#B0BEC5",
                "#B0BEC5",
                "#B0BEC5",
                "#B0BEC5",
                "#B0BEC5",
                "#B0BEC5",
                "#B0BEC5",
                "#B0BEC5",
                "#B0BEC5",
                "#B0BEC5",
                "#B0BEC5",
                "#B0BEC5",
                "#B0BEC5",
                "#B0BEC5",
                "#B0BEC5",
                "#B0BEC5",
                "#B0BEC5",
                "#B0BEC5",
                "#B0BEC5",
                "#B0BEC5",
                "#B0BEC5",
                "#B0BEC5",
                "#B0BEC5",
                "#B0BEC5",
                "#B0BEC5",
                "#B0BEC5",
                "#B0BEC5",
                "#B0BEC5"
               ]
              ]
             }
            ],
            "label": "Topic 18",
            "method": "update"
           },
           {
            "args": [
             {
              "marker.color": [
               [
                "#B0BEC5",
                "#B0BEC5",
                "#B0BEC5",
                "#B0BEC5",
                "#B0BEC5",
                "#B0BEC5",
                "#B0BEC5",
                "#B0BEC5",
                "#B0BEC5",
                "#B0BEC5",
                "#B0BEC5",
                "#B0BEC5",
                "#B0BEC5",
                "#B0BEC5",
                "#B0BEC5",
                "#B0BEC5",
                "#B0BEC5",
                "#B0BEC5",
                "#B0BEC5",
                "red",
                "#B0BEC5",
                "#B0BEC5",
                "#B0BEC5",
                "#B0BEC5",
                "#B0BEC5",
                "#B0BEC5",
                "#B0BEC5",
                "#B0BEC5",
                "#B0BEC5",
                "#B0BEC5",
                "#B0BEC5",
                "#B0BEC5",
                "#B0BEC5",
                "#B0BEC5",
                "#B0BEC5",
                "#B0BEC5",
                "#B0BEC5",
                "#B0BEC5",
                "#B0BEC5",
                "#B0BEC5",
                "#B0BEC5",
                "#B0BEC5",
                "#B0BEC5",
                "#B0BEC5",
                "#B0BEC5",
                "#B0BEC5",
                "#B0BEC5",
                "#B0BEC5",
                "#B0BEC5",
                "#B0BEC5"
               ]
              ]
             }
            ],
            "label": "Topic 19",
            "method": "update"
           },
           {
            "args": [
             {
              "marker.color": [
               [
                "#B0BEC5",
                "#B0BEC5",
                "#B0BEC5",
                "#B0BEC5",
                "#B0BEC5",
                "#B0BEC5",
                "#B0BEC5",
                "#B0BEC5",
                "#B0BEC5",
                "#B0BEC5",
                "#B0BEC5",
                "#B0BEC5",
                "#B0BEC5",
                "#B0BEC5",
                "#B0BEC5",
                "#B0BEC5",
                "#B0BEC5",
                "#B0BEC5",
                "#B0BEC5",
                "#B0BEC5",
                "red",
                "#B0BEC5",
                "#B0BEC5",
                "#B0BEC5",
                "#B0BEC5",
                "#B0BEC5",
                "#B0BEC5",
                "#B0BEC5",
                "#B0BEC5",
                "#B0BEC5",
                "#B0BEC5",
                "#B0BEC5",
                "#B0BEC5",
                "#B0BEC5",
                "#B0BEC5",
                "#B0BEC5",
                "#B0BEC5",
                "#B0BEC5",
                "#B0BEC5",
                "#B0BEC5",
                "#B0BEC5",
                "#B0BEC5",
                "#B0BEC5",
                "#B0BEC5",
                "#B0BEC5",
                "#B0BEC5",
                "#B0BEC5",
                "#B0BEC5",
                "#B0BEC5",
                "#B0BEC5"
               ]
              ]
             }
            ],
            "label": "Topic 20",
            "method": "update"
           },
           {
            "args": [
             {
              "marker.color": [
               [
                "#B0BEC5",
                "#B0BEC5",
                "#B0BEC5",
                "#B0BEC5",
                "#B0BEC5",
                "#B0BEC5",
                "#B0BEC5",
                "#B0BEC5",
                "#B0BEC5",
                "#B0BEC5",
                "#B0BEC5",
                "#B0BEC5",
                "#B0BEC5",
                "#B0BEC5",
                "#B0BEC5",
                "#B0BEC5",
                "#B0BEC5",
                "#B0BEC5",
                "#B0BEC5",
                "#B0BEC5",
                "#B0BEC5",
                "red",
                "#B0BEC5",
                "#B0BEC5",
                "#B0BEC5",
                "#B0BEC5",
                "#B0BEC5",
                "#B0BEC5",
                "#B0BEC5",
                "#B0BEC5",
                "#B0BEC5",
                "#B0BEC5",
                "#B0BEC5",
                "#B0BEC5",
                "#B0BEC5",
                "#B0BEC5",
                "#B0BEC5",
                "#B0BEC5",
                "#B0BEC5",
                "#B0BEC5",
                "#B0BEC5",
                "#B0BEC5",
                "#B0BEC5",
                "#B0BEC5",
                "#B0BEC5",
                "#B0BEC5",
                "#B0BEC5",
                "#B0BEC5",
                "#B0BEC5",
                "#B0BEC5"
               ]
              ]
             }
            ],
            "label": "Topic 21",
            "method": "update"
           },
           {
            "args": [
             {
              "marker.color": [
               [
                "#B0BEC5",
                "#B0BEC5",
                "#B0BEC5",
                "#B0BEC5",
                "#B0BEC5",
                "#B0BEC5",
                "#B0BEC5",
                "#B0BEC5",
                "#B0BEC5",
                "#B0BEC5",
                "#B0BEC5",
                "#B0BEC5",
                "#B0BEC5",
                "#B0BEC5",
                "#B0BEC5",
                "#B0BEC5",
                "#B0BEC5",
                "#B0BEC5",
                "#B0BEC5",
                "#B0BEC5",
                "#B0BEC5",
                "#B0BEC5",
                "red",
                "#B0BEC5",
                "#B0BEC5",
                "#B0BEC5",
                "#B0BEC5",
                "#B0BEC5",
                "#B0BEC5",
                "#B0BEC5",
                "#B0BEC5",
                "#B0BEC5",
                "#B0BEC5",
                "#B0BEC5",
                "#B0BEC5",
                "#B0BEC5",
                "#B0BEC5",
                "#B0BEC5",
                "#B0BEC5",
                "#B0BEC5",
                "#B0BEC5",
                "#B0BEC5",
                "#B0BEC5",
                "#B0BEC5",
                "#B0BEC5",
                "#B0BEC5",
                "#B0BEC5",
                "#B0BEC5",
                "#B0BEC5",
                "#B0BEC5"
               ]
              ]
             }
            ],
            "label": "Topic 22",
            "method": "update"
           },
           {
            "args": [
             {
              "marker.color": [
               [
                "#B0BEC5",
                "#B0BEC5",
                "#B0BEC5",
                "#B0BEC5",
                "#B0BEC5",
                "#B0BEC5",
                "#B0BEC5",
                "#B0BEC5",
                "#B0BEC5",
                "#B0BEC5",
                "#B0BEC5",
                "#B0BEC5",
                "#B0BEC5",
                "#B0BEC5",
                "#B0BEC5",
                "#B0BEC5",
                "#B0BEC5",
                "#B0BEC5",
                "#B0BEC5",
                "#B0BEC5",
                "#B0BEC5",
                "#B0BEC5",
                "#B0BEC5",
                "red",
                "#B0BEC5",
                "#B0BEC5",
                "#B0BEC5",
                "#B0BEC5",
                "#B0BEC5",
                "#B0BEC5",
                "#B0BEC5",
                "#B0BEC5",
                "#B0BEC5",
                "#B0BEC5",
                "#B0BEC5",
                "#B0BEC5",
                "#B0BEC5",
                "#B0BEC5",
                "#B0BEC5",
                "#B0BEC5",
                "#B0BEC5",
                "#B0BEC5",
                "#B0BEC5",
                "#B0BEC5",
                "#B0BEC5",
                "#B0BEC5",
                "#B0BEC5",
                "#B0BEC5",
                "#B0BEC5",
                "#B0BEC5"
               ]
              ]
             }
            ],
            "label": "Topic 23",
            "method": "update"
           },
           {
            "args": [
             {
              "marker.color": [
               [
                "#B0BEC5",
                "#B0BEC5",
                "#B0BEC5",
                "#B0BEC5",
                "#B0BEC5",
                "#B0BEC5",
                "#B0BEC5",
                "#B0BEC5",
                "#B0BEC5",
                "#B0BEC5",
                "#B0BEC5",
                "#B0BEC5",
                "#B0BEC5",
                "#B0BEC5",
                "#B0BEC5",
                "#B0BEC5",
                "#B0BEC5",
                "#B0BEC5",
                "#B0BEC5",
                "#B0BEC5",
                "#B0BEC5",
                "#B0BEC5",
                "#B0BEC5",
                "#B0BEC5",
                "red",
                "#B0BEC5",
                "#B0BEC5",
                "#B0BEC5",
                "#B0BEC5",
                "#B0BEC5",
                "#B0BEC5",
                "#B0BEC5",
                "#B0BEC5",
                "#B0BEC5",
                "#B0BEC5",
                "#B0BEC5",
                "#B0BEC5",
                "#B0BEC5",
                "#B0BEC5",
                "#B0BEC5",
                "#B0BEC5",
                "#B0BEC5",
                "#B0BEC5",
                "#B0BEC5",
                "#B0BEC5",
                "#B0BEC5",
                "#B0BEC5",
                "#B0BEC5",
                "#B0BEC5",
                "#B0BEC5"
               ]
              ]
             }
            ],
            "label": "Topic 24",
            "method": "update"
           },
           {
            "args": [
             {
              "marker.color": [
               [
                "#B0BEC5",
                "#B0BEC5",
                "#B0BEC5",
                "#B0BEC5",
                "#B0BEC5",
                "#B0BEC5",
                "#B0BEC5",
                "#B0BEC5",
                "#B0BEC5",
                "#B0BEC5",
                "#B0BEC5",
                "#B0BEC5",
                "#B0BEC5",
                "#B0BEC5",
                "#B0BEC5",
                "#B0BEC5",
                "#B0BEC5",
                "#B0BEC5",
                "#B0BEC5",
                "#B0BEC5",
                "#B0BEC5",
                "#B0BEC5",
                "#B0BEC5",
                "#B0BEC5",
                "#B0BEC5",
                "red",
                "#B0BEC5",
                "#B0BEC5",
                "#B0BEC5",
                "#B0BEC5",
                "#B0BEC5",
                "#B0BEC5",
                "#B0BEC5",
                "#B0BEC5",
                "#B0BEC5",
                "#B0BEC5",
                "#B0BEC5",
                "#B0BEC5",
                "#B0BEC5",
                "#B0BEC5",
                "#B0BEC5",
                "#B0BEC5",
                "#B0BEC5",
                "#B0BEC5",
                "#B0BEC5",
                "#B0BEC5",
                "#B0BEC5",
                "#B0BEC5",
                "#B0BEC5",
                "#B0BEC5"
               ]
              ]
             }
            ],
            "label": "Topic 25",
            "method": "update"
           },
           {
            "args": [
             {
              "marker.color": [
               [
                "#B0BEC5",
                "#B0BEC5",
                "#B0BEC5",
                "#B0BEC5",
                "#B0BEC5",
                "#B0BEC5",
                "#B0BEC5",
                "#B0BEC5",
                "#B0BEC5",
                "#B0BEC5",
                "#B0BEC5",
                "#B0BEC5",
                "#B0BEC5",
                "#B0BEC5",
                "#B0BEC5",
                "#B0BEC5",
                "#B0BEC5",
                "#B0BEC5",
                "#B0BEC5",
                "#B0BEC5",
                "#B0BEC5",
                "#B0BEC5",
                "#B0BEC5",
                "#B0BEC5",
                "#B0BEC5",
                "#B0BEC5",
                "red",
                "#B0BEC5",
                "#B0BEC5",
                "#B0BEC5",
                "#B0BEC5",
                "#B0BEC5",
                "#B0BEC5",
                "#B0BEC5",
                "#B0BEC5",
                "#B0BEC5",
                "#B0BEC5",
                "#B0BEC5",
                "#B0BEC5",
                "#B0BEC5",
                "#B0BEC5",
                "#B0BEC5",
                "#B0BEC5",
                "#B0BEC5",
                "#B0BEC5",
                "#B0BEC5",
                "#B0BEC5",
                "#B0BEC5",
                "#B0BEC5",
                "#B0BEC5"
               ]
              ]
             }
            ],
            "label": "Topic 26",
            "method": "update"
           },
           {
            "args": [
             {
              "marker.color": [
               [
                "#B0BEC5",
                "#B0BEC5",
                "#B0BEC5",
                "#B0BEC5",
                "#B0BEC5",
                "#B0BEC5",
                "#B0BEC5",
                "#B0BEC5",
                "#B0BEC5",
                "#B0BEC5",
                "#B0BEC5",
                "#B0BEC5",
                "#B0BEC5",
                "#B0BEC5",
                "#B0BEC5",
                "#B0BEC5",
                "#B0BEC5",
                "#B0BEC5",
                "#B0BEC5",
                "#B0BEC5",
                "#B0BEC5",
                "#B0BEC5",
                "#B0BEC5",
                "#B0BEC5",
                "#B0BEC5",
                "#B0BEC5",
                "#B0BEC5",
                "red",
                "#B0BEC5",
                "#B0BEC5",
                "#B0BEC5",
                "#B0BEC5",
                "#B0BEC5",
                "#B0BEC5",
                "#B0BEC5",
                "#B0BEC5",
                "#B0BEC5",
                "#B0BEC5",
                "#B0BEC5",
                "#B0BEC5",
                "#B0BEC5",
                "#B0BEC5",
                "#B0BEC5",
                "#B0BEC5",
                "#B0BEC5",
                "#B0BEC5",
                "#B0BEC5",
                "#B0BEC5",
                "#B0BEC5",
                "#B0BEC5"
               ]
              ]
             }
            ],
            "label": "Topic 27",
            "method": "update"
           },
           {
            "args": [
             {
              "marker.color": [
               [
                "#B0BEC5",
                "#B0BEC5",
                "#B0BEC5",
                "#B0BEC5",
                "#B0BEC5",
                "#B0BEC5",
                "#B0BEC5",
                "#B0BEC5",
                "#B0BEC5",
                "#B0BEC5",
                "#B0BEC5",
                "#B0BEC5",
                "#B0BEC5",
                "#B0BEC5",
                "#B0BEC5",
                "#B0BEC5",
                "#B0BEC5",
                "#B0BEC5",
                "#B0BEC5",
                "#B0BEC5",
                "#B0BEC5",
                "#B0BEC5",
                "#B0BEC5",
                "#B0BEC5",
                "#B0BEC5",
                "#B0BEC5",
                "#B0BEC5",
                "#B0BEC5",
                "red",
                "#B0BEC5",
                "#B0BEC5",
                "#B0BEC5",
                "#B0BEC5",
                "#B0BEC5",
                "#B0BEC5",
                "#B0BEC5",
                "#B0BEC5",
                "#B0BEC5",
                "#B0BEC5",
                "#B0BEC5",
                "#B0BEC5",
                "#B0BEC5",
                "#B0BEC5",
                "#B0BEC5",
                "#B0BEC5",
                "#B0BEC5",
                "#B0BEC5",
                "#B0BEC5",
                "#B0BEC5",
                "#B0BEC5"
               ]
              ]
             }
            ],
            "label": "Topic 28",
            "method": "update"
           },
           {
            "args": [
             {
              "marker.color": [
               [
                "#B0BEC5",
                "#B0BEC5",
                "#B0BEC5",
                "#B0BEC5",
                "#B0BEC5",
                "#B0BEC5",
                "#B0BEC5",
                "#B0BEC5",
                "#B0BEC5",
                "#B0BEC5",
                "#B0BEC5",
                "#B0BEC5",
                "#B0BEC5",
                "#B0BEC5",
                "#B0BEC5",
                "#B0BEC5",
                "#B0BEC5",
                "#B0BEC5",
                "#B0BEC5",
                "#B0BEC5",
                "#B0BEC5",
                "#B0BEC5",
                "#B0BEC5",
                "#B0BEC5",
                "#B0BEC5",
                "#B0BEC5",
                "#B0BEC5",
                "#B0BEC5",
                "#B0BEC5",
                "red",
                "#B0BEC5",
                "#B0BEC5",
                "#B0BEC5",
                "#B0BEC5",
                "#B0BEC5",
                "#B0BEC5",
                "#B0BEC5",
                "#B0BEC5",
                "#B0BEC5",
                "#B0BEC5",
                "#B0BEC5",
                "#B0BEC5",
                "#B0BEC5",
                "#B0BEC5",
                "#B0BEC5",
                "#B0BEC5",
                "#B0BEC5",
                "#B0BEC5",
                "#B0BEC5",
                "#B0BEC5"
               ]
              ]
             }
            ],
            "label": "Topic 29",
            "method": "update"
           },
           {
            "args": [
             {
              "marker.color": [
               [
                "#B0BEC5",
                "#B0BEC5",
                "#B0BEC5",
                "#B0BEC5",
                "#B0BEC5",
                "#B0BEC5",
                "#B0BEC5",
                "#B0BEC5",
                "#B0BEC5",
                "#B0BEC5",
                "#B0BEC5",
                "#B0BEC5",
                "#B0BEC5",
                "#B0BEC5",
                "#B0BEC5",
                "#B0BEC5",
                "#B0BEC5",
                "#B0BEC5",
                "#B0BEC5",
                "#B0BEC5",
                "#B0BEC5",
                "#B0BEC5",
                "#B0BEC5",
                "#B0BEC5",
                "#B0BEC5",
                "#B0BEC5",
                "#B0BEC5",
                "#B0BEC5",
                "#B0BEC5",
                "#B0BEC5",
                "red",
                "#B0BEC5",
                "#B0BEC5",
                "#B0BEC5",
                "#B0BEC5",
                "#B0BEC5",
                "#B0BEC5",
                "#B0BEC5",
                "#B0BEC5",
                "#B0BEC5",
                "#B0BEC5",
                "#B0BEC5",
                "#B0BEC5",
                "#B0BEC5",
                "#B0BEC5",
                "#B0BEC5",
                "#B0BEC5",
                "#B0BEC5",
                "#B0BEC5",
                "#B0BEC5"
               ]
              ]
             }
            ],
            "label": "Topic 30",
            "method": "update"
           },
           {
            "args": [
             {
              "marker.color": [
               [
                "#B0BEC5",
                "#B0BEC5",
                "#B0BEC5",
                "#B0BEC5",
                "#B0BEC5",
                "#B0BEC5",
                "#B0BEC5",
                "#B0BEC5",
                "#B0BEC5",
                "#B0BEC5",
                "#B0BEC5",
                "#B0BEC5",
                "#B0BEC5",
                "#B0BEC5",
                "#B0BEC5",
                "#B0BEC5",
                "#B0BEC5",
                "#B0BEC5",
                "#B0BEC5",
                "#B0BEC5",
                "#B0BEC5",
                "#B0BEC5",
                "#B0BEC5",
                "#B0BEC5",
                "#B0BEC5",
                "#B0BEC5",
                "#B0BEC5",
                "#B0BEC5",
                "#B0BEC5",
                "#B0BEC5",
                "#B0BEC5",
                "red",
                "#B0BEC5",
                "#B0BEC5",
                "#B0BEC5",
                "#B0BEC5",
                "#B0BEC5",
                "#B0BEC5",
                "#B0BEC5",
                "#B0BEC5",
                "#B0BEC5",
                "#B0BEC5",
                "#B0BEC5",
                "#B0BEC5",
                "#B0BEC5",
                "#B0BEC5",
                "#B0BEC5",
                "#B0BEC5",
                "#B0BEC5",
                "#B0BEC5"
               ]
              ]
             }
            ],
            "label": "Topic 31",
            "method": "update"
           },
           {
            "args": [
             {
              "marker.color": [
               [
                "#B0BEC5",
                "#B0BEC5",
                "#B0BEC5",
                "#B0BEC5",
                "#B0BEC5",
                "#B0BEC5",
                "#B0BEC5",
                "#B0BEC5",
                "#B0BEC5",
                "#B0BEC5",
                "#B0BEC5",
                "#B0BEC5",
                "#B0BEC5",
                "#B0BEC5",
                "#B0BEC5",
                "#B0BEC5",
                "#B0BEC5",
                "#B0BEC5",
                "#B0BEC5",
                "#B0BEC5",
                "#B0BEC5",
                "#B0BEC5",
                "#B0BEC5",
                "#B0BEC5",
                "#B0BEC5",
                "#B0BEC5",
                "#B0BEC5",
                "#B0BEC5",
                "#B0BEC5",
                "#B0BEC5",
                "#B0BEC5",
                "#B0BEC5",
                "red",
                "#B0BEC5",
                "#B0BEC5",
                "#B0BEC5",
                "#B0BEC5",
                "#B0BEC5",
                "#B0BEC5",
                "#B0BEC5",
                "#B0BEC5",
                "#B0BEC5",
                "#B0BEC5",
                "#B0BEC5",
                "#B0BEC5",
                "#B0BEC5",
                "#B0BEC5",
                "#B0BEC5",
                "#B0BEC5",
                "#B0BEC5"
               ]
              ]
             }
            ],
            "label": "Topic 32",
            "method": "update"
           },
           {
            "args": [
             {
              "marker.color": [
               [
                "#B0BEC5",
                "#B0BEC5",
                "#B0BEC5",
                "#B0BEC5",
                "#B0BEC5",
                "#B0BEC5",
                "#B0BEC5",
                "#B0BEC5",
                "#B0BEC5",
                "#B0BEC5",
                "#B0BEC5",
                "#B0BEC5",
                "#B0BEC5",
                "#B0BEC5",
                "#B0BEC5",
                "#B0BEC5",
                "#B0BEC5",
                "#B0BEC5",
                "#B0BEC5",
                "#B0BEC5",
                "#B0BEC5",
                "#B0BEC5",
                "#B0BEC5",
                "#B0BEC5",
                "#B0BEC5",
                "#B0BEC5",
                "#B0BEC5",
                "#B0BEC5",
                "#B0BEC5",
                "#B0BEC5",
                "#B0BEC5",
                "#B0BEC5",
                "#B0BEC5",
                "red",
                "#B0BEC5",
                "#B0BEC5",
                "#B0BEC5",
                "#B0BEC5",
                "#B0BEC5",
                "#B0BEC5",
                "#B0BEC5",
                "#B0BEC5",
                "#B0BEC5",
                "#B0BEC5",
                "#B0BEC5",
                "#B0BEC5",
                "#B0BEC5",
                "#B0BEC5",
                "#B0BEC5",
                "#B0BEC5"
               ]
              ]
             }
            ],
            "label": "Topic 33",
            "method": "update"
           },
           {
            "args": [
             {
              "marker.color": [
               [
                "#B0BEC5",
                "#B0BEC5",
                "#B0BEC5",
                "#B0BEC5",
                "#B0BEC5",
                "#B0BEC5",
                "#B0BEC5",
                "#B0BEC5",
                "#B0BEC5",
                "#B0BEC5",
                "#B0BEC5",
                "#B0BEC5",
                "#B0BEC5",
                "#B0BEC5",
                "#B0BEC5",
                "#B0BEC5",
                "#B0BEC5",
                "#B0BEC5",
                "#B0BEC5",
                "#B0BEC5",
                "#B0BEC5",
                "#B0BEC5",
                "#B0BEC5",
                "#B0BEC5",
                "#B0BEC5",
                "#B0BEC5",
                "#B0BEC5",
                "#B0BEC5",
                "#B0BEC5",
                "#B0BEC5",
                "#B0BEC5",
                "#B0BEC5",
                "#B0BEC5",
                "#B0BEC5",
                "red",
                "#B0BEC5",
                "#B0BEC5",
                "#B0BEC5",
                "#B0BEC5",
                "#B0BEC5",
                "#B0BEC5",
                "#B0BEC5",
                "#B0BEC5",
                "#B0BEC5",
                "#B0BEC5",
                "#B0BEC5",
                "#B0BEC5",
                "#B0BEC5",
                "#B0BEC5",
                "#B0BEC5"
               ]
              ]
             }
            ],
            "label": "Topic 34",
            "method": "update"
           },
           {
            "args": [
             {
              "marker.color": [
               [
                "#B0BEC5",
                "#B0BEC5",
                "#B0BEC5",
                "#B0BEC5",
                "#B0BEC5",
                "#B0BEC5",
                "#B0BEC5",
                "#B0BEC5",
                "#B0BEC5",
                "#B0BEC5",
                "#B0BEC5",
                "#B0BEC5",
                "#B0BEC5",
                "#B0BEC5",
                "#B0BEC5",
                "#B0BEC5",
                "#B0BEC5",
                "#B0BEC5",
                "#B0BEC5",
                "#B0BEC5",
                "#B0BEC5",
                "#B0BEC5",
                "#B0BEC5",
                "#B0BEC5",
                "#B0BEC5",
                "#B0BEC5",
                "#B0BEC5",
                "#B0BEC5",
                "#B0BEC5",
                "#B0BEC5",
                "#B0BEC5",
                "#B0BEC5",
                "#B0BEC5",
                "#B0BEC5",
                "#B0BEC5",
                "red",
                "#B0BEC5",
                "#B0BEC5",
                "#B0BEC5",
                "#B0BEC5",
                "#B0BEC5",
                "#B0BEC5",
                "#B0BEC5",
                "#B0BEC5",
                "#B0BEC5",
                "#B0BEC5",
                "#B0BEC5",
                "#B0BEC5",
                "#B0BEC5",
                "#B0BEC5"
               ]
              ]
             }
            ],
            "label": "Topic 35",
            "method": "update"
           },
           {
            "args": [
             {
              "marker.color": [
               [
                "#B0BEC5",
                "#B0BEC5",
                "#B0BEC5",
                "#B0BEC5",
                "#B0BEC5",
                "#B0BEC5",
                "#B0BEC5",
                "#B0BEC5",
                "#B0BEC5",
                "#B0BEC5",
                "#B0BEC5",
                "#B0BEC5",
                "#B0BEC5",
                "#B0BEC5",
                "#B0BEC5",
                "#B0BEC5",
                "#B0BEC5",
                "#B0BEC5",
                "#B0BEC5",
                "#B0BEC5",
                "#B0BEC5",
                "#B0BEC5",
                "#B0BEC5",
                "#B0BEC5",
                "#B0BEC5",
                "#B0BEC5",
                "#B0BEC5",
                "#B0BEC5",
                "#B0BEC5",
                "#B0BEC5",
                "#B0BEC5",
                "#B0BEC5",
                "#B0BEC5",
                "#B0BEC5",
                "#B0BEC5",
                "#B0BEC5",
                "red",
                "#B0BEC5",
                "#B0BEC5",
                "#B0BEC5",
                "#B0BEC5",
                "#B0BEC5",
                "#B0BEC5",
                "#B0BEC5",
                "#B0BEC5",
                "#B0BEC5",
                "#B0BEC5",
                "#B0BEC5",
                "#B0BEC5",
                "#B0BEC5"
               ]
              ]
             }
            ],
            "label": "Topic 36",
            "method": "update"
           },
           {
            "args": [
             {
              "marker.color": [
               [
                "#B0BEC5",
                "#B0BEC5",
                "#B0BEC5",
                "#B0BEC5",
                "#B0BEC5",
                "#B0BEC5",
                "#B0BEC5",
                "#B0BEC5",
                "#B0BEC5",
                "#B0BEC5",
                "#B0BEC5",
                "#B0BEC5",
                "#B0BEC5",
                "#B0BEC5",
                "#B0BEC5",
                "#B0BEC5",
                "#B0BEC5",
                "#B0BEC5",
                "#B0BEC5",
                "#B0BEC5",
                "#B0BEC5",
                "#B0BEC5",
                "#B0BEC5",
                "#B0BEC5",
                "#B0BEC5",
                "#B0BEC5",
                "#B0BEC5",
                "#B0BEC5",
                "#B0BEC5",
                "#B0BEC5",
                "#B0BEC5",
                "#B0BEC5",
                "#B0BEC5",
                "#B0BEC5",
                "#B0BEC5",
                "#B0BEC5",
                "#B0BEC5",
                "red",
                "#B0BEC5",
                "#B0BEC5",
                "#B0BEC5",
                "#B0BEC5",
                "#B0BEC5",
                "#B0BEC5",
                "#B0BEC5",
                "#B0BEC5",
                "#B0BEC5",
                "#B0BEC5",
                "#B0BEC5",
                "#B0BEC5"
               ]
              ]
             }
            ],
            "label": "Topic 37",
            "method": "update"
           },
           {
            "args": [
             {
              "marker.color": [
               [
                "#B0BEC5",
                "#B0BEC5",
                "#B0BEC5",
                "#B0BEC5",
                "#B0BEC5",
                "#B0BEC5",
                "#B0BEC5",
                "#B0BEC5",
                "#B0BEC5",
                "#B0BEC5",
                "#B0BEC5",
                "#B0BEC5",
                "#B0BEC5",
                "#B0BEC5",
                "#B0BEC5",
                "#B0BEC5",
                "#B0BEC5",
                "#B0BEC5",
                "#B0BEC5",
                "#B0BEC5",
                "#B0BEC5",
                "#B0BEC5",
                "#B0BEC5",
                "#B0BEC5",
                "#B0BEC5",
                "#B0BEC5",
                "#B0BEC5",
                "#B0BEC5",
                "#B0BEC5",
                "#B0BEC5",
                "#B0BEC5",
                "#B0BEC5",
                "#B0BEC5",
                "#B0BEC5",
                "#B0BEC5",
                "#B0BEC5",
                "#B0BEC5",
                "#B0BEC5",
                "red",
                "#B0BEC5",
                "#B0BEC5",
                "#B0BEC5",
                "#B0BEC5",
                "#B0BEC5",
                "#B0BEC5",
                "#B0BEC5",
                "#B0BEC5",
                "#B0BEC5",
                "#B0BEC5",
                "#B0BEC5"
               ]
              ]
             }
            ],
            "label": "Topic 38",
            "method": "update"
           },
           {
            "args": [
             {
              "marker.color": [
               [
                "#B0BEC5",
                "#B0BEC5",
                "#B0BEC5",
                "#B0BEC5",
                "#B0BEC5",
                "#B0BEC5",
                "#B0BEC5",
                "#B0BEC5",
                "#B0BEC5",
                "#B0BEC5",
                "#B0BEC5",
                "#B0BEC5",
                "#B0BEC5",
                "#B0BEC5",
                "#B0BEC5",
                "#B0BEC5",
                "#B0BEC5",
                "#B0BEC5",
                "#B0BEC5",
                "#B0BEC5",
                "#B0BEC5",
                "#B0BEC5",
                "#B0BEC5",
                "#B0BEC5",
                "#B0BEC5",
                "#B0BEC5",
                "#B0BEC5",
                "#B0BEC5",
                "#B0BEC5",
                "#B0BEC5",
                "#B0BEC5",
                "#B0BEC5",
                "#B0BEC5",
                "#B0BEC5",
                "#B0BEC5",
                "#B0BEC5",
                "#B0BEC5",
                "#B0BEC5",
                "#B0BEC5",
                "red",
                "#B0BEC5",
                "#B0BEC5",
                "#B0BEC5",
                "#B0BEC5",
                "#B0BEC5",
                "#B0BEC5",
                "#B0BEC5",
                "#B0BEC5",
                "#B0BEC5",
                "#B0BEC5"
               ]
              ]
             }
            ],
            "label": "Topic 39",
            "method": "update"
           },
           {
            "args": [
             {
              "marker.color": [
               [
                "#B0BEC5",
                "#B0BEC5",
                "#B0BEC5",
                "#B0BEC5",
                "#B0BEC5",
                "#B0BEC5",
                "#B0BEC5",
                "#B0BEC5",
                "#B0BEC5",
                "#B0BEC5",
                "#B0BEC5",
                "#B0BEC5",
                "#B0BEC5",
                "#B0BEC5",
                "#B0BEC5",
                "#B0BEC5",
                "#B0BEC5",
                "#B0BEC5",
                "#B0BEC5",
                "#B0BEC5",
                "#B0BEC5",
                "#B0BEC5",
                "#B0BEC5",
                "#B0BEC5",
                "#B0BEC5",
                "#B0BEC5",
                "#B0BEC5",
                "#B0BEC5",
                "#B0BEC5",
                "#B0BEC5",
                "#B0BEC5",
                "#B0BEC5",
                "#B0BEC5",
                "#B0BEC5",
                "#B0BEC5",
                "#B0BEC5",
                "#B0BEC5",
                "#B0BEC5",
                "#B0BEC5",
                "#B0BEC5",
                "red",
                "#B0BEC5",
                "#B0BEC5",
                "#B0BEC5",
                "#B0BEC5",
                "#B0BEC5",
                "#B0BEC5",
                "#B0BEC5",
                "#B0BEC5",
                "#B0BEC5"
               ]
              ]
             }
            ],
            "label": "Topic 40",
            "method": "update"
           },
           {
            "args": [
             {
              "marker.color": [
               [
                "#B0BEC5",
                "#B0BEC5",
                "#B0BEC5",
                "#B0BEC5",
                "#B0BEC5",
                "#B0BEC5",
                "#B0BEC5",
                "#B0BEC5",
                "#B0BEC5",
                "#B0BEC5",
                "#B0BEC5",
                "#B0BEC5",
                "#B0BEC5",
                "#B0BEC5",
                "#B0BEC5",
                "#B0BEC5",
                "#B0BEC5",
                "#B0BEC5",
                "#B0BEC5",
                "#B0BEC5",
                "#B0BEC5",
                "#B0BEC5",
                "#B0BEC5",
                "#B0BEC5",
                "#B0BEC5",
                "#B0BEC5",
                "#B0BEC5",
                "#B0BEC5",
                "#B0BEC5",
                "#B0BEC5",
                "#B0BEC5",
                "#B0BEC5",
                "#B0BEC5",
                "#B0BEC5",
                "#B0BEC5",
                "#B0BEC5",
                "#B0BEC5",
                "#B0BEC5",
                "#B0BEC5",
                "#B0BEC5",
                "#B0BEC5",
                "red",
                "#B0BEC5",
                "#B0BEC5",
                "#B0BEC5",
                "#B0BEC5",
                "#B0BEC5",
                "#B0BEC5",
                "#B0BEC5",
                "#B0BEC5"
               ]
              ]
             }
            ],
            "label": "Topic 41",
            "method": "update"
           },
           {
            "args": [
             {
              "marker.color": [
               [
                "#B0BEC5",
                "#B0BEC5",
                "#B0BEC5",
                "#B0BEC5",
                "#B0BEC5",
                "#B0BEC5",
                "#B0BEC5",
                "#B0BEC5",
                "#B0BEC5",
                "#B0BEC5",
                "#B0BEC5",
                "#B0BEC5",
                "#B0BEC5",
                "#B0BEC5",
                "#B0BEC5",
                "#B0BEC5",
                "#B0BEC5",
                "#B0BEC5",
                "#B0BEC5",
                "#B0BEC5",
                "#B0BEC5",
                "#B0BEC5",
                "#B0BEC5",
                "#B0BEC5",
                "#B0BEC5",
                "#B0BEC5",
                "#B0BEC5",
                "#B0BEC5",
                "#B0BEC5",
                "#B0BEC5",
                "#B0BEC5",
                "#B0BEC5",
                "#B0BEC5",
                "#B0BEC5",
                "#B0BEC5",
                "#B0BEC5",
                "#B0BEC5",
                "#B0BEC5",
                "#B0BEC5",
                "#B0BEC5",
                "#B0BEC5",
                "#B0BEC5",
                "red",
                "#B0BEC5",
                "#B0BEC5",
                "#B0BEC5",
                "#B0BEC5",
                "#B0BEC5",
                "#B0BEC5",
                "#B0BEC5"
               ]
              ]
             }
            ],
            "label": "Topic 42",
            "method": "update"
           },
           {
            "args": [
             {
              "marker.color": [
               [
                "#B0BEC5",
                "#B0BEC5",
                "#B0BEC5",
                "#B0BEC5",
                "#B0BEC5",
                "#B0BEC5",
                "#B0BEC5",
                "#B0BEC5",
                "#B0BEC5",
                "#B0BEC5",
                "#B0BEC5",
                "#B0BEC5",
                "#B0BEC5",
                "#B0BEC5",
                "#B0BEC5",
                "#B0BEC5",
                "#B0BEC5",
                "#B0BEC5",
                "#B0BEC5",
                "#B0BEC5",
                "#B0BEC5",
                "#B0BEC5",
                "#B0BEC5",
                "#B0BEC5",
                "#B0BEC5",
                "#B0BEC5",
                "#B0BEC5",
                "#B0BEC5",
                "#B0BEC5",
                "#B0BEC5",
                "#B0BEC5",
                "#B0BEC5",
                "#B0BEC5",
                "#B0BEC5",
                "#B0BEC5",
                "#B0BEC5",
                "#B0BEC5",
                "#B0BEC5",
                "#B0BEC5",
                "#B0BEC5",
                "#B0BEC5",
                "#B0BEC5",
                "#B0BEC5",
                "red",
                "#B0BEC5",
                "#B0BEC5",
                "#B0BEC5",
                "#B0BEC5",
                "#B0BEC5",
                "#B0BEC5"
               ]
              ]
             }
            ],
            "label": "Topic 43",
            "method": "update"
           },
           {
            "args": [
             {
              "marker.color": [
               [
                "#B0BEC5",
                "#B0BEC5",
                "#B0BEC5",
                "#B0BEC5",
                "#B0BEC5",
                "#B0BEC5",
                "#B0BEC5",
                "#B0BEC5",
                "#B0BEC5",
                "#B0BEC5",
                "#B0BEC5",
                "#B0BEC5",
                "#B0BEC5",
                "#B0BEC5",
                "#B0BEC5",
                "#B0BEC5",
                "#B0BEC5",
                "#B0BEC5",
                "#B0BEC5",
                "#B0BEC5",
                "#B0BEC5",
                "#B0BEC5",
                "#B0BEC5",
                "#B0BEC5",
                "#B0BEC5",
                "#B0BEC5",
                "#B0BEC5",
                "#B0BEC5",
                "#B0BEC5",
                "#B0BEC5",
                "#B0BEC5",
                "#B0BEC5",
                "#B0BEC5",
                "#B0BEC5",
                "#B0BEC5",
                "#B0BEC5",
                "#B0BEC5",
                "#B0BEC5",
                "#B0BEC5",
                "#B0BEC5",
                "#B0BEC5",
                "#B0BEC5",
                "#B0BEC5",
                "#B0BEC5",
                "red",
                "#B0BEC5",
                "#B0BEC5",
                "#B0BEC5",
                "#B0BEC5",
                "#B0BEC5"
               ]
              ]
             }
            ],
            "label": "Topic 44",
            "method": "update"
           },
           {
            "args": [
             {
              "marker.color": [
               [
                "#B0BEC5",
                "#B0BEC5",
                "#B0BEC5",
                "#B0BEC5",
                "#B0BEC5",
                "#B0BEC5",
                "#B0BEC5",
                "#B0BEC5",
                "#B0BEC5",
                "#B0BEC5",
                "#B0BEC5",
                "#B0BEC5",
                "#B0BEC5",
                "#B0BEC5",
                "#B0BEC5",
                "#B0BEC5",
                "#B0BEC5",
                "#B0BEC5",
                "#B0BEC5",
                "#B0BEC5",
                "#B0BEC5",
                "#B0BEC5",
                "#B0BEC5",
                "#B0BEC5",
                "#B0BEC5",
                "#B0BEC5",
                "#B0BEC5",
                "#B0BEC5",
                "#B0BEC5",
                "#B0BEC5",
                "#B0BEC5",
                "#B0BEC5",
                "#B0BEC5",
                "#B0BEC5",
                "#B0BEC5",
                "#B0BEC5",
                "#B0BEC5",
                "#B0BEC5",
                "#B0BEC5",
                "#B0BEC5",
                "#B0BEC5",
                "#B0BEC5",
                "#B0BEC5",
                "#B0BEC5",
                "#B0BEC5",
                "red",
                "#B0BEC5",
                "#B0BEC5",
                "#B0BEC5",
                "#B0BEC5"
               ]
              ]
             }
            ],
            "label": "Topic 45",
            "method": "update"
           },
           {
            "args": [
             {
              "marker.color": [
               [
                "#B0BEC5",
                "#B0BEC5",
                "#B0BEC5",
                "#B0BEC5",
                "#B0BEC5",
                "#B0BEC5",
                "#B0BEC5",
                "#B0BEC5",
                "#B0BEC5",
                "#B0BEC5",
                "#B0BEC5",
                "#B0BEC5",
                "#B0BEC5",
                "#B0BEC5",
                "#B0BEC5",
                "#B0BEC5",
                "#B0BEC5",
                "#B0BEC5",
                "#B0BEC5",
                "#B0BEC5",
                "#B0BEC5",
                "#B0BEC5",
                "#B0BEC5",
                "#B0BEC5",
                "#B0BEC5",
                "#B0BEC5",
                "#B0BEC5",
                "#B0BEC5",
                "#B0BEC5",
                "#B0BEC5",
                "#B0BEC5",
                "#B0BEC5",
                "#B0BEC5",
                "#B0BEC5",
                "#B0BEC5",
                "#B0BEC5",
                "#B0BEC5",
                "#B0BEC5",
                "#B0BEC5",
                "#B0BEC5",
                "#B0BEC5",
                "#B0BEC5",
                "#B0BEC5",
                "#B0BEC5",
                "#B0BEC5",
                "#B0BEC5",
                "red",
                "#B0BEC5",
                "#B0BEC5",
                "#B0BEC5"
               ]
              ]
             }
            ],
            "label": "Topic 46",
            "method": "update"
           },
           {
            "args": [
             {
              "marker.color": [
               [
                "#B0BEC5",
                "#B0BEC5",
                "#B0BEC5",
                "#B0BEC5",
                "#B0BEC5",
                "#B0BEC5",
                "#B0BEC5",
                "#B0BEC5",
                "#B0BEC5",
                "#B0BEC5",
                "#B0BEC5",
                "#B0BEC5",
                "#B0BEC5",
                "#B0BEC5",
                "#B0BEC5",
                "#B0BEC5",
                "#B0BEC5",
                "#B0BEC5",
                "#B0BEC5",
                "#B0BEC5",
                "#B0BEC5",
                "#B0BEC5",
                "#B0BEC5",
                "#B0BEC5",
                "#B0BEC5",
                "#B0BEC5",
                "#B0BEC5",
                "#B0BEC5",
                "#B0BEC5",
                "#B0BEC5",
                "#B0BEC5",
                "#B0BEC5",
                "#B0BEC5",
                "#B0BEC5",
                "#B0BEC5",
                "#B0BEC5",
                "#B0BEC5",
                "#B0BEC5",
                "#B0BEC5",
                "#B0BEC5",
                "#B0BEC5",
                "#B0BEC5",
                "#B0BEC5",
                "#B0BEC5",
                "#B0BEC5",
                "#B0BEC5",
                "#B0BEC5",
                "red",
                "#B0BEC5",
                "#B0BEC5"
               ]
              ]
             }
            ],
            "label": "Topic 47",
            "method": "update"
           },
           {
            "args": [
             {
              "marker.color": [
               [
                "#B0BEC5",
                "#B0BEC5",
                "#B0BEC5",
                "#B0BEC5",
                "#B0BEC5",
                "#B0BEC5",
                "#B0BEC5",
                "#B0BEC5",
                "#B0BEC5",
                "#B0BEC5",
                "#B0BEC5",
                "#B0BEC5",
                "#B0BEC5",
                "#B0BEC5",
                "#B0BEC5",
                "#B0BEC5",
                "#B0BEC5",
                "#B0BEC5",
                "#B0BEC5",
                "#B0BEC5",
                "#B0BEC5",
                "#B0BEC5",
                "#B0BEC5",
                "#B0BEC5",
                "#B0BEC5",
                "#B0BEC5",
                "#B0BEC5",
                "#B0BEC5",
                "#B0BEC5",
                "#B0BEC5",
                "#B0BEC5",
                "#B0BEC5",
                "#B0BEC5",
                "#B0BEC5",
                "#B0BEC5",
                "#B0BEC5",
                "#B0BEC5",
                "#B0BEC5",
                "#B0BEC5",
                "#B0BEC5",
                "#B0BEC5",
                "#B0BEC5",
                "#B0BEC5",
                "#B0BEC5",
                "#B0BEC5",
                "#B0BEC5",
                "#B0BEC5",
                "#B0BEC5",
                "red",
                "#B0BEC5"
               ]
              ]
             }
            ],
            "label": "Topic 48",
            "method": "update"
           },
           {
            "args": [
             {
              "marker.color": [
               [
                "#B0BEC5",
                "#B0BEC5",
                "#B0BEC5",
                "#B0BEC5",
                "#B0BEC5",
                "#B0BEC5",
                "#B0BEC5",
                "#B0BEC5",
                "#B0BEC5",
                "#B0BEC5",
                "#B0BEC5",
                "#B0BEC5",
                "#B0BEC5",
                "#B0BEC5",
                "#B0BEC5",
                "#B0BEC5",
                "#B0BEC5",
                "#B0BEC5",
                "#B0BEC5",
                "#B0BEC5",
                "#B0BEC5",
                "#B0BEC5",
                "#B0BEC5",
                "#B0BEC5",
                "#B0BEC5",
                "#B0BEC5",
                "#B0BEC5",
                "#B0BEC5",
                "#B0BEC5",
                "#B0BEC5",
                "#B0BEC5",
                "#B0BEC5",
                "#B0BEC5",
                "#B0BEC5",
                "#B0BEC5",
                "#B0BEC5",
                "#B0BEC5",
                "#B0BEC5",
                "#B0BEC5",
                "#B0BEC5",
                "#B0BEC5",
                "#B0BEC5",
                "#B0BEC5",
                "#B0BEC5",
                "#B0BEC5",
                "#B0BEC5",
                "#B0BEC5",
                "#B0BEC5",
                "#B0BEC5",
                "red"
               ]
              ]
             }
            ],
            "label": "Topic 49",
            "method": "update"
           }
          ]
         }
        ],
        "template": {
         "data": {
          "bar": [
           {
            "error_x": {
             "color": "rgb(36,36,36)"
            },
            "error_y": {
             "color": "rgb(36,36,36)"
            },
            "marker": {
             "line": {
              "color": "white",
              "width": 0.5
             },
             "pattern": {
              "fillmode": "overlay",
              "size": 10,
              "solidity": 0.2
             }
            },
            "type": "bar"
           }
          ],
          "barpolar": [
           {
            "marker": {
             "line": {
              "color": "white",
              "width": 0.5
             },
             "pattern": {
              "fillmode": "overlay",
              "size": 10,
              "solidity": 0.2
             }
            },
            "type": "barpolar"
           }
          ],
          "carpet": [
           {
            "aaxis": {
             "endlinecolor": "rgb(36,36,36)",
             "gridcolor": "white",
             "linecolor": "white",
             "minorgridcolor": "white",
             "startlinecolor": "rgb(36,36,36)"
            },
            "baxis": {
             "endlinecolor": "rgb(36,36,36)",
             "gridcolor": "white",
             "linecolor": "white",
             "minorgridcolor": "white",
             "startlinecolor": "rgb(36,36,36)"
            },
            "type": "carpet"
           }
          ],
          "choropleth": [
           {
            "colorbar": {
             "outlinewidth": 1,
             "tickcolor": "rgb(36,36,36)",
             "ticks": "outside"
            },
            "type": "choropleth"
           }
          ],
          "contour": [
           {
            "colorbar": {
             "outlinewidth": 1,
             "tickcolor": "rgb(36,36,36)",
             "ticks": "outside"
            },
            "colorscale": [
             [
              0,
              "#440154"
             ],
             [
              0.1111111111111111,
              "#482878"
             ],
             [
              0.2222222222222222,
              "#3e4989"
             ],
             [
              0.3333333333333333,
              "#31688e"
             ],
             [
              0.4444444444444444,
              "#26828e"
             ],
             [
              0.5555555555555556,
              "#1f9e89"
             ],
             [
              0.6666666666666666,
              "#35b779"
             ],
             [
              0.7777777777777778,
              "#6ece58"
             ],
             [
              0.8888888888888888,
              "#b5de2b"
             ],
             [
              1,
              "#fde725"
             ]
            ],
            "type": "contour"
           }
          ],
          "contourcarpet": [
           {
            "colorbar": {
             "outlinewidth": 1,
             "tickcolor": "rgb(36,36,36)",
             "ticks": "outside"
            },
            "type": "contourcarpet"
           }
          ],
          "heatmap": [
           {
            "colorbar": {
             "outlinewidth": 1,
             "tickcolor": "rgb(36,36,36)",
             "ticks": "outside"
            },
            "colorscale": [
             [
              0,
              "#440154"
             ],
             [
              0.1111111111111111,
              "#482878"
             ],
             [
              0.2222222222222222,
              "#3e4989"
             ],
             [
              0.3333333333333333,
              "#31688e"
             ],
             [
              0.4444444444444444,
              "#26828e"
             ],
             [
              0.5555555555555556,
              "#1f9e89"
             ],
             [
              0.6666666666666666,
              "#35b779"
             ],
             [
              0.7777777777777778,
              "#6ece58"
             ],
             [
              0.8888888888888888,
              "#b5de2b"
             ],
             [
              1,
              "#fde725"
             ]
            ],
            "type": "heatmap"
           }
          ],
          "heatmapgl": [
           {
            "colorbar": {
             "outlinewidth": 1,
             "tickcolor": "rgb(36,36,36)",
             "ticks": "outside"
            },
            "colorscale": [
             [
              0,
              "#440154"
             ],
             [
              0.1111111111111111,
              "#482878"
             ],
             [
              0.2222222222222222,
              "#3e4989"
             ],
             [
              0.3333333333333333,
              "#31688e"
             ],
             [
              0.4444444444444444,
              "#26828e"
             ],
             [
              0.5555555555555556,
              "#1f9e89"
             ],
             [
              0.6666666666666666,
              "#35b779"
             ],
             [
              0.7777777777777778,
              "#6ece58"
             ],
             [
              0.8888888888888888,
              "#b5de2b"
             ],
             [
              1,
              "#fde725"
             ]
            ],
            "type": "heatmapgl"
           }
          ],
          "histogram": [
           {
            "marker": {
             "line": {
              "color": "white",
              "width": 0.6
             }
            },
            "type": "histogram"
           }
          ],
          "histogram2d": [
           {
            "colorbar": {
             "outlinewidth": 1,
             "tickcolor": "rgb(36,36,36)",
             "ticks": "outside"
            },
            "colorscale": [
             [
              0,
              "#440154"
             ],
             [
              0.1111111111111111,
              "#482878"
             ],
             [
              0.2222222222222222,
              "#3e4989"
             ],
             [
              0.3333333333333333,
              "#31688e"
             ],
             [
              0.4444444444444444,
              "#26828e"
             ],
             [
              0.5555555555555556,
              "#1f9e89"
             ],
             [
              0.6666666666666666,
              "#35b779"
             ],
             [
              0.7777777777777778,
              "#6ece58"
             ],
             [
              0.8888888888888888,
              "#b5de2b"
             ],
             [
              1,
              "#fde725"
             ]
            ],
            "type": "histogram2d"
           }
          ],
          "histogram2dcontour": [
           {
            "colorbar": {
             "outlinewidth": 1,
             "tickcolor": "rgb(36,36,36)",
             "ticks": "outside"
            },
            "colorscale": [
             [
              0,
              "#440154"
             ],
             [
              0.1111111111111111,
              "#482878"
             ],
             [
              0.2222222222222222,
              "#3e4989"
             ],
             [
              0.3333333333333333,
              "#31688e"
             ],
             [
              0.4444444444444444,
              "#26828e"
             ],
             [
              0.5555555555555556,
              "#1f9e89"
             ],
             [
              0.6666666666666666,
              "#35b779"
             ],
             [
              0.7777777777777778,
              "#6ece58"
             ],
             [
              0.8888888888888888,
              "#b5de2b"
             ],
             [
              1,
              "#fde725"
             ]
            ],
            "type": "histogram2dcontour"
           }
          ],
          "mesh3d": [
           {
            "colorbar": {
             "outlinewidth": 1,
             "tickcolor": "rgb(36,36,36)",
             "ticks": "outside"
            },
            "type": "mesh3d"
           }
          ],
          "parcoords": [
           {
            "line": {
             "colorbar": {
              "outlinewidth": 1,
              "tickcolor": "rgb(36,36,36)",
              "ticks": "outside"
             }
            },
            "type": "parcoords"
           }
          ],
          "pie": [
           {
            "automargin": true,
            "type": "pie"
           }
          ],
          "scatter": [
           {
            "fillpattern": {
             "fillmode": "overlay",
             "size": 10,
             "solidity": 0.2
            },
            "type": "scatter"
           }
          ],
          "scatter3d": [
           {
            "line": {
             "colorbar": {
              "outlinewidth": 1,
              "tickcolor": "rgb(36,36,36)",
              "ticks": "outside"
             }
            },
            "marker": {
             "colorbar": {
              "outlinewidth": 1,
              "tickcolor": "rgb(36,36,36)",
              "ticks": "outside"
             }
            },
            "type": "scatter3d"
           }
          ],
          "scattercarpet": [
           {
            "marker": {
             "colorbar": {
              "outlinewidth": 1,
              "tickcolor": "rgb(36,36,36)",
              "ticks": "outside"
             }
            },
            "type": "scattercarpet"
           }
          ],
          "scattergeo": [
           {
            "marker": {
             "colorbar": {
              "outlinewidth": 1,
              "tickcolor": "rgb(36,36,36)",
              "ticks": "outside"
             }
            },
            "type": "scattergeo"
           }
          ],
          "scattergl": [
           {
            "marker": {
             "colorbar": {
              "outlinewidth": 1,
              "tickcolor": "rgb(36,36,36)",
              "ticks": "outside"
             }
            },
            "type": "scattergl"
           }
          ],
          "scattermapbox": [
           {
            "marker": {
             "colorbar": {
              "outlinewidth": 1,
              "tickcolor": "rgb(36,36,36)",
              "ticks": "outside"
             }
            },
            "type": "scattermapbox"
           }
          ],
          "scatterpolar": [
           {
            "marker": {
             "colorbar": {
              "outlinewidth": 1,
              "tickcolor": "rgb(36,36,36)",
              "ticks": "outside"
             }
            },
            "type": "scatterpolar"
           }
          ],
          "scatterpolargl": [
           {
            "marker": {
             "colorbar": {
              "outlinewidth": 1,
              "tickcolor": "rgb(36,36,36)",
              "ticks": "outside"
             }
            },
            "type": "scatterpolargl"
           }
          ],
          "scatterternary": [
           {
            "marker": {
             "colorbar": {
              "outlinewidth": 1,
              "tickcolor": "rgb(36,36,36)",
              "ticks": "outside"
             }
            },
            "type": "scatterternary"
           }
          ],
          "surface": [
           {
            "colorbar": {
             "outlinewidth": 1,
             "tickcolor": "rgb(36,36,36)",
             "ticks": "outside"
            },
            "colorscale": [
             [
              0,
              "#440154"
             ],
             [
              0.1111111111111111,
              "#482878"
             ],
             [
              0.2222222222222222,
              "#3e4989"
             ],
             [
              0.3333333333333333,
              "#31688e"
             ],
             [
              0.4444444444444444,
              "#26828e"
             ],
             [
              0.5555555555555556,
              "#1f9e89"
             ],
             [
              0.6666666666666666,
              "#35b779"
             ],
             [
              0.7777777777777778,
              "#6ece58"
             ],
             [
              0.8888888888888888,
              "#b5de2b"
             ],
             [
              1,
              "#fde725"
             ]
            ],
            "type": "surface"
           }
          ],
          "table": [
           {
            "cells": {
             "fill": {
              "color": "rgb(237,237,237)"
             },
             "line": {
              "color": "white"
             }
            },
            "header": {
             "fill": {
              "color": "rgb(217,217,217)"
             },
             "line": {
              "color": "white"
             }
            },
            "type": "table"
           }
          ]
         },
         "layout": {
          "annotationdefaults": {
           "arrowhead": 0,
           "arrowwidth": 1
          },
          "autotypenumbers": "strict",
          "coloraxis": {
           "colorbar": {
            "outlinewidth": 1,
            "tickcolor": "rgb(36,36,36)",
            "ticks": "outside"
           }
          },
          "colorscale": {
           "diverging": [
            [
             0,
             "rgb(103,0,31)"
            ],
            [
             0.1,
             "rgb(178,24,43)"
            ],
            [
             0.2,
             "rgb(214,96,77)"
            ],
            [
             0.3,
             "rgb(244,165,130)"
            ],
            [
             0.4,
             "rgb(253,219,199)"
            ],
            [
             0.5,
             "rgb(247,247,247)"
            ],
            [
             0.6,
             "rgb(209,229,240)"
            ],
            [
             0.7,
             "rgb(146,197,222)"
            ],
            [
             0.8,
             "rgb(67,147,195)"
            ],
            [
             0.9,
             "rgb(33,102,172)"
            ],
            [
             1,
             "rgb(5,48,97)"
            ]
           ],
           "sequential": [
            [
             0,
             "#440154"
            ],
            [
             0.1111111111111111,
             "#482878"
            ],
            [
             0.2222222222222222,
             "#3e4989"
            ],
            [
             0.3333333333333333,
             "#31688e"
            ],
            [
             0.4444444444444444,
             "#26828e"
            ],
            [
             0.5555555555555556,
             "#1f9e89"
            ],
            [
             0.6666666666666666,
             "#35b779"
            ],
            [
             0.7777777777777778,
             "#6ece58"
            ],
            [
             0.8888888888888888,
             "#b5de2b"
            ],
            [
             1,
             "#fde725"
            ]
           ],
           "sequentialminus": [
            [
             0,
             "#440154"
            ],
            [
             0.1111111111111111,
             "#482878"
            ],
            [
             0.2222222222222222,
             "#3e4989"
            ],
            [
             0.3333333333333333,
             "#31688e"
            ],
            [
             0.4444444444444444,
             "#26828e"
            ],
            [
             0.5555555555555556,
             "#1f9e89"
            ],
            [
             0.6666666666666666,
             "#35b779"
            ],
            [
             0.7777777777777778,
             "#6ece58"
            ],
            [
             0.8888888888888888,
             "#b5de2b"
            ],
            [
             1,
             "#fde725"
            ]
           ]
          },
          "colorway": [
           "#1F77B4",
           "#FF7F0E",
           "#2CA02C",
           "#D62728",
           "#9467BD",
           "#8C564B",
           "#E377C2",
           "#7F7F7F",
           "#BCBD22",
           "#17BECF"
          ],
          "font": {
           "color": "rgb(36,36,36)"
          },
          "geo": {
           "bgcolor": "white",
           "lakecolor": "white",
           "landcolor": "white",
           "showlakes": true,
           "showland": true,
           "subunitcolor": "white"
          },
          "hoverlabel": {
           "align": "left"
          },
          "hovermode": "closest",
          "mapbox": {
           "style": "light"
          },
          "paper_bgcolor": "white",
          "plot_bgcolor": "white",
          "polar": {
           "angularaxis": {
            "gridcolor": "rgb(232,232,232)",
            "linecolor": "rgb(36,36,36)",
            "showgrid": false,
            "showline": true,
            "ticks": "outside"
           },
           "bgcolor": "white",
           "radialaxis": {
            "gridcolor": "rgb(232,232,232)",
            "linecolor": "rgb(36,36,36)",
            "showgrid": false,
            "showline": true,
            "ticks": "outside"
           }
          },
          "scene": {
           "xaxis": {
            "backgroundcolor": "white",
            "gridcolor": "rgb(232,232,232)",
            "gridwidth": 2,
            "linecolor": "rgb(36,36,36)",
            "showbackground": true,
            "showgrid": false,
            "showline": true,
            "ticks": "outside",
            "zeroline": false,
            "zerolinecolor": "rgb(36,36,36)"
           },
           "yaxis": {
            "backgroundcolor": "white",
            "gridcolor": "rgb(232,232,232)",
            "gridwidth": 2,
            "linecolor": "rgb(36,36,36)",
            "showbackground": true,
            "showgrid": false,
            "showline": true,
            "ticks": "outside",
            "zeroline": false,
            "zerolinecolor": "rgb(36,36,36)"
           },
           "zaxis": {
            "backgroundcolor": "white",
            "gridcolor": "rgb(232,232,232)",
            "gridwidth": 2,
            "linecolor": "rgb(36,36,36)",
            "showbackground": true,
            "showgrid": false,
            "showline": true,
            "ticks": "outside",
            "zeroline": false,
            "zerolinecolor": "rgb(36,36,36)"
           }
          },
          "shapedefaults": {
           "fillcolor": "black",
           "line": {
            "width": 0
           },
           "opacity": 0.3
          },
          "ternary": {
           "aaxis": {
            "gridcolor": "rgb(232,232,232)",
            "linecolor": "rgb(36,36,36)",
            "showgrid": false,
            "showline": true,
            "ticks": "outside"
           },
           "baxis": {
            "gridcolor": "rgb(232,232,232)",
            "linecolor": "rgb(36,36,36)",
            "showgrid": false,
            "showline": true,
            "ticks": "outside"
           },
           "bgcolor": "white",
           "caxis": {
            "gridcolor": "rgb(232,232,232)",
            "linecolor": "rgb(36,36,36)",
            "showgrid": false,
            "showline": true,
            "ticks": "outside"
           }
          },
          "title": {
           "x": 0.05
          },
          "xaxis": {
           "automargin": true,
           "gridcolor": "rgb(232,232,232)",
           "linecolor": "rgb(36,36,36)",
           "showgrid": false,
           "showline": true,
           "ticks": "outside",
           "title": {
            "standoff": 15
           },
           "zeroline": false,
           "zerolinecolor": "rgb(36,36,36)"
          },
          "yaxis": {
           "automargin": true,
           "gridcolor": "rgb(232,232,232)",
           "linecolor": "rgb(36,36,36)",
           "showgrid": false,
           "showline": true,
           "ticks": "outside",
           "title": {
            "standoff": 15
           },
           "zeroline": false,
           "zerolinecolor": "rgb(36,36,36)"
          }
         }
        },
        "title": {
         "font": {
          "color": "Black",
          "size": 22
         },
         "text": "<b>Intertopic Distance Map",
         "x": 0.5,
         "xanchor": "center",
         "y": 0.95,
         "yanchor": "top"
        },
        "width": 650,
        "xaxis": {
         "anchor": "y",
         "domain": [
          0,
          1
         ],
         "range": [
          -16.815855741500854,
          19.499129486083984
         ],
         "title": {
          "text": ""
         },
         "visible": false
        },
        "yaxis": {
         "anchor": "x",
         "domain": [
          0,
          1
         ],
         "range": [
          -15.608998203277588,
          17.952447175979614
         ],
         "title": {
          "text": ""
         },
         "visible": false
        }
       }
      }
     },
     "metadata": {},
     "output_type": "display_data"
    }
   ],
   "source": [
    "model.visualize_topics(top_n_topics=50)"
   ]
  },
  {
   "cell_type": "code",
   "execution_count": 28,
   "id": "82674b7a",
   "metadata": {},
   "outputs": [
    {
     "data": {
      "application/vnd.plotly.v1+json": {
       "config": {
        "plotlyServerURL": "https://plot.ly"
       },
       "data": [
        {
         "hoverinfo": "text",
         "marker": {
          "color": "rgb(0,116,217)"
         },
         "mode": "lines",
         "type": "scatter",
         "x": [
          0,
          1.0105180534387186,
          1.0105180534387186,
          0
         ],
         "xaxis": "x",
         "y": [
          -15,
          -15,
          -25,
          -25
         ],
         "yaxis": "y"
        },
        {
         "hoverinfo": "text",
         "marker": {
          "color": "rgb(0,116,217)"
         },
         "mode": "lines",
         "type": "scatter",
         "x": [
          1.0105180534387186,
          1.1509099389921253,
          1.1509099389921253,
          0
         ],
         "xaxis": "x",
         "y": [
          -20,
          -20,
          -35,
          -35
         ],
         "yaxis": "y"
        },
        {
         "hoverinfo": "text",
         "marker": {
          "color": "rgb(0,116,217)"
         },
         "mode": "lines",
         "type": "scatter",
         "x": [
          0,
          1.3434534888597944,
          1.3434534888597944,
          1.1509099389921253
         ],
         "xaxis": "x",
         "y": [
          -5,
          -5,
          -27.5,
          -27.5
         ],
         "yaxis": "y"
        },
        {
         "hoverinfo": "text",
         "marker": {
          "color": "rgb(0,116,217)"
         },
         "mode": "lines",
         "type": "scatter",
         "x": [
          0,
          1.0542521904772708,
          1.0542521904772708,
          0
         ],
         "xaxis": "x",
         "y": [
          -45,
          -45,
          -55,
          -55
         ],
         "yaxis": "y"
        },
        {
         "hoverinfo": "text",
         "marker": {
          "color": "rgb(0,116,217)"
         },
         "mode": "lines",
         "type": "scatter",
         "x": [
          1.0542521904772708,
          1.0736261105924298,
          1.0736261105924298,
          0
         ],
         "xaxis": "x",
         "y": [
          -50,
          -50,
          -65,
          -65
         ],
         "yaxis": "y"
        },
        {
         "hoverinfo": "text",
         "marker": {
          "color": "rgb(0,116,217)"
         },
         "mode": "lines",
         "type": "scatter",
         "x": [
          0,
          1.1861908510135175,
          1.1861908510135175,
          0
         ],
         "xaxis": "x",
         "y": [
          -75,
          -75,
          -85,
          -85
         ],
         "yaxis": "y"
        },
        {
         "hoverinfo": "text",
         "marker": {
          "color": "rgb(0,116,217)"
         },
         "mode": "lines",
         "type": "scatter",
         "x": [
          0,
          1.1493373731856458,
          1.1493373731856458,
          0
         ],
         "xaxis": "x",
         "y": [
          -105,
          -105,
          -115,
          -115
         ],
         "yaxis": "y"
        },
        {
         "hoverinfo": "text",
         "marker": {
          "color": "rgb(0,116,217)"
         },
         "mode": "lines",
         "type": "scatter",
         "x": [
          0,
          1.1956282374650788,
          1.1956282374650788,
          1.1493373731856458
         ],
         "xaxis": "x",
         "y": [
          -95,
          -95,
          -110,
          -110
         ],
         "yaxis": "y"
        },
        {
         "hoverinfo": "text",
         "marker": {
          "color": "rgb(0,116,217)"
         },
         "mode": "lines",
         "type": "scatter",
         "x": [
          1.1956282374650788,
          1.2127344757961758,
          1.2127344757961758,
          0
         ],
         "xaxis": "x",
         "y": [
          -102.5,
          -102.5,
          -125,
          -125
         ],
         "yaxis": "y"
        },
        {
         "hoverinfo": "text",
         "marker": {
          "color": "rgb(0,116,217)"
         },
         "mode": "lines",
         "type": "scatter",
         "x": [
          1.1861908510135175,
          1.2303323392697934,
          1.2303323392697934,
          1.2127344757961758
         ],
         "xaxis": "x",
         "y": [
          -80,
          -80,
          -113.75,
          -113.75
         ],
         "yaxis": "y"
        },
        {
         "hoverinfo": "text",
         "marker": {
          "color": "rgb(0,116,217)"
         },
         "mode": "lines",
         "type": "scatter",
         "x": [
          1.0736261105924298,
          1.3076959003221165,
          1.3076959003221165,
          1.2303323392697934
         ],
         "xaxis": "x",
         "y": [
          -57.5,
          -57.5,
          -96.875,
          -96.875
         ],
         "yaxis": "y"
        },
        {
         "hoverinfo": "text",
         "marker": {
          "color": "rgb(0,116,217)"
         },
         "mode": "lines",
         "type": "scatter",
         "x": [
          1.3434534888597944,
          1.3856311376189465,
          1.3856311376189465,
          1.3076959003221165
         ],
         "xaxis": "x",
         "y": [
          -16.25,
          -16.25,
          -77.1875,
          -77.1875
         ],
         "yaxis": "y"
        },
        {
         "hoverinfo": "text",
         "marker": {
          "color": "rgb(61,153,112)"
         },
         "mode": "lines",
         "type": "scatter",
         "x": [
          0,
          0.9533631037175682,
          0.9533631037175682,
          0
         ],
         "xaxis": "x",
         "y": [
          -135,
          -135,
          -145,
          -145
         ],
         "yaxis": "y"
        },
        {
         "hoverinfo": "text",
         "marker": {
          "color": "rgb(61,153,112)"
         },
         "mode": "lines",
         "type": "scatter",
         "x": [
          0.9533631037175682,
          0.9837050358734378,
          0.9837050358734378,
          0
         ],
         "xaxis": "x",
         "y": [
          -140,
          -140,
          -155,
          -155
         ],
         "yaxis": "y"
        },
        {
         "hoverinfo": "text",
         "marker": {
          "color": "rgb(0,116,217)"
         },
         "mode": "lines",
         "type": "scatter",
         "x": [
          1.3856311376189465,
          1.538137441660099,
          1.538137441660099,
          0.9837050358734378
         ],
         "xaxis": "x",
         "y": [
          -46.71875,
          -46.71875,
          -147.5,
          -147.5
         ],
         "yaxis": "y"
        },
        {
         "hoverinfo": "text",
         "marker": {
          "color": "rgb(255,65,54)"
         },
         "mode": "lines",
         "type": "scatter",
         "x": [
          0,
          0.7753691653493093,
          0.7753691653493093,
          0
         ],
         "xaxis": "x",
         "y": [
          -185,
          -185,
          -195,
          -195
         ],
         "yaxis": "y"
        },
        {
         "hoverinfo": "text",
         "marker": {
          "color": "rgb(255,65,54)"
         },
         "mode": "lines",
         "type": "scatter",
         "x": [
          0.7753691653493093,
          0.8540030096271451,
          0.8540030096271451,
          0
         ],
         "xaxis": "x",
         "y": [
          -190,
          -190,
          -205,
          -205
         ],
         "yaxis": "y"
        },
        {
         "hoverinfo": "text",
         "marker": {
          "color": "rgb(255,65,54)"
         },
         "mode": "lines",
         "type": "scatter",
         "x": [
          0,
          0.8906449124537693,
          0.8906449124537693,
          0.8540030096271451
         ],
         "xaxis": "x",
         "y": [
          -175,
          -175,
          -197.5,
          -197.5
         ],
         "yaxis": "y"
        },
        {
         "hoverinfo": "text",
         "marker": {
          "color": "rgb(255,65,54)"
         },
         "mode": "lines",
         "type": "scatter",
         "x": [
          0.8906449124537693,
          0.9441884401944436,
          0.9441884401944436,
          0
         ],
         "xaxis": "x",
         "y": [
          -186.25,
          -186.25,
          -215,
          -215
         ],
         "yaxis": "y"
        },
        {
         "hoverinfo": "text",
         "marker": {
          "color": "rgb(255,65,54)"
         },
         "mode": "lines",
         "type": "scatter",
         "x": [
          0,
          0.9922037189133383,
          0.9922037189133383,
          0.9441884401944436
         ],
         "xaxis": "x",
         "y": [
          -165,
          -165,
          -200.625,
          -200.625
         ],
         "yaxis": "y"
        },
        {
         "hoverinfo": "text",
         "marker": {
          "color": "rgb(35,205,205)"
         },
         "mode": "lines",
         "type": "scatter",
         "x": [
          0,
          0.8499470255084781,
          0.8499470255084781,
          0
         ],
         "xaxis": "x",
         "y": [
          -235,
          -235,
          -245,
          -245
         ],
         "yaxis": "y"
        },
        {
         "hoverinfo": "text",
         "marker": {
          "color": "rgb(35,205,205)"
         },
         "mode": "lines",
         "type": "scatter",
         "x": [
          0,
          0.9804114495198694,
          0.9804114495198694,
          0.8499470255084781
         ],
         "xaxis": "x",
         "y": [
          -225,
          -225,
          -240,
          -240
         ],
         "yaxis": "y"
        },
        {
         "hoverinfo": "text",
         "marker": {
          "color": "rgb(0,116,217)"
         },
         "mode": "lines",
         "type": "scatter",
         "x": [
          0.9804114495198694,
          1.015939435541169,
          1.015939435541169,
          0
         ],
         "xaxis": "x",
         "y": [
          -232.5,
          -232.5,
          -255,
          -255
         ],
         "yaxis": "y"
        },
        {
         "hoverinfo": "text",
         "marker": {
          "color": "rgb(0,116,217)"
         },
         "mode": "lines",
         "type": "scatter",
         "x": [
          0.9922037189133383,
          1.2944790332463834,
          1.2944790332463834,
          1.015939435541169
         ],
         "xaxis": "x",
         "y": [
          -182.8125,
          -182.8125,
          -243.75,
          -243.75
         ],
         "yaxis": "y"
        },
        {
         "hoverinfo": "text",
         "marker": {
          "color": "rgb(0,116,217)"
         },
         "mode": "lines",
         "type": "scatter",
         "x": [
          1.538137441660099,
          2.0594643307494707,
          2.0594643307494707,
          1.2944790332463834
         ],
         "xaxis": "x",
         "y": [
          -97.109375,
          -97.109375,
          -213.28125,
          -213.28125
         ],
         "yaxis": "y"
        },
        {
         "hoverinfo": "text",
         "marker": {
          "color": "rgb(0,116,217)"
         },
         "mode": "lines",
         "type": "scatter",
         "x": [
          0,
          1.1955029820366803,
          1.1955029820366803,
          0
         ],
         "xaxis": "x",
         "y": [
          -275,
          -275,
          -285,
          -285
         ],
         "yaxis": "y"
        },
        {
         "hoverinfo": "text",
         "marker": {
          "color": "rgb(0,116,217)"
         },
         "mode": "lines",
         "type": "scatter",
         "x": [
          0,
          1.2779361900069472,
          1.2779361900069472,
          1.1955029820366803
         ],
         "xaxis": "x",
         "y": [
          -265,
          -265,
          -280,
          -280
         ],
         "yaxis": "y"
        },
        {
         "hoverinfo": "text",
         "marker": {
          "color": "rgb(0,116,217)"
         },
         "mode": "lines",
         "type": "scatter",
         "x": [
          0,
          1.0907628973350216,
          1.0907628973350216,
          0
         ],
         "xaxis": "x",
         "y": [
          -295,
          -295,
          -305,
          -305
         ],
         "yaxis": "y"
        },
        {
         "hoverinfo": "text",
         "marker": {
          "color": "rgb(0,116,217)"
         },
         "mode": "lines",
         "type": "scatter",
         "x": [
          0,
          1.0953499597429668,
          1.0953499597429668,
          0
         ],
         "xaxis": "x",
         "y": [
          -315,
          -315,
          -325,
          -325
         ],
         "yaxis": "y"
        },
        {
         "hoverinfo": "text",
         "marker": {
          "color": "rgb(0,116,217)"
         },
         "mode": "lines",
         "type": "scatter",
         "x": [
          1.0953499597429668,
          1.2176037389881678,
          1.2176037389881678,
          0
         ],
         "xaxis": "x",
         "y": [
          -320,
          -320,
          -335,
          -335
         ],
         "yaxis": "y"
        },
        {
         "hoverinfo": "text",
         "marker": {
          "color": "rgb(0,116,217)"
         },
         "mode": "lines",
         "type": "scatter",
         "x": [
          1.0907628973350216,
          1.3111028502405209,
          1.3111028502405209,
          1.2176037389881678
         ],
         "xaxis": "x",
         "y": [
          -300,
          -300,
          -327.5,
          -327.5
         ],
         "yaxis": "y"
        },
        {
         "hoverinfo": "text",
         "marker": {
          "color": "rgb(0,116,217)"
         },
         "mode": "lines",
         "type": "scatter",
         "x": [
          1.2779361900069472,
          1.594630842842831,
          1.594630842842831,
          1.3111028502405209
         ],
         "xaxis": "x",
         "y": [
          -272.5,
          -272.5,
          -313.75,
          -313.75
         ],
         "yaxis": "y"
        },
        {
         "hoverinfo": "text",
         "marker": {
          "color": "rgb(0,116,217)"
         },
         "mode": "lines",
         "type": "scatter",
         "x": [
          0,
          1.2234773899609588,
          1.2234773899609588,
          0
         ],
         "xaxis": "x",
         "y": [
          -345,
          -345,
          -355,
          -355
         ],
         "yaxis": "y"
        },
        {
         "hoverinfo": "text",
         "marker": {
          "color": "rgb(0,116,217)"
         },
         "mode": "lines",
         "type": "scatter",
         "x": [
          0,
          1.0494349047048221,
          1.0494349047048221,
          0
         ],
         "xaxis": "x",
         "y": [
          -365,
          -365,
          -375,
          -375
         ],
         "yaxis": "y"
        },
        {
         "hoverinfo": "text",
         "marker": {
          "color": "rgb(0,116,217)"
         },
         "mode": "lines",
         "type": "scatter",
         "x": [
          1.0494349047048221,
          1.2329022125074522,
          1.2329022125074522,
          0
         ],
         "xaxis": "x",
         "y": [
          -370,
          -370,
          -385,
          -385
         ],
         "yaxis": "y"
        },
        {
         "hoverinfo": "text",
         "marker": {
          "color": "rgb(0,116,217)"
         },
         "mode": "lines",
         "type": "scatter",
         "x": [
          1.2234773899609588,
          1.2777751038128005,
          1.2777751038128005,
          1.2329022125074522
         ],
         "xaxis": "x",
         "y": [
          -350,
          -350,
          -377.5,
          -377.5
         ],
         "yaxis": "y"
        },
        {
         "hoverinfo": "text",
         "marker": {
          "color": "rgb(133,20,75)"
         },
         "mode": "lines",
         "type": "scatter",
         "x": [
          0,
          0.9445702908361697,
          0.9445702908361697,
          0
         ],
         "xaxis": "x",
         "y": [
          -395,
          -395,
          -405,
          -405
         ],
         "yaxis": "y"
        },
        {
         "hoverinfo": "text",
         "marker": {
          "color": "rgb(0,116,217)"
         },
         "mode": "lines",
         "type": "scatter",
         "x": [
          0.9445702908361697,
          1.1265599106535809,
          1.1265599106535809,
          0
         ],
         "xaxis": "x",
         "y": [
          -400,
          -400,
          -415,
          -415
         ],
         "yaxis": "y"
        },
        {
         "hoverinfo": "text",
         "marker": {
          "color": "rgb(0,116,217)"
         },
         "mode": "lines",
         "type": "scatter",
         "x": [
          1.2777751038128005,
          1.4203005971338423,
          1.4203005971338423,
          1.1265599106535809
         ],
         "xaxis": "x",
         "y": [
          -363.75,
          -363.75,
          -407.5,
          -407.5
         ],
         "yaxis": "y"
        },
        {
         "hoverinfo": "text",
         "marker": {
          "color": "rgb(0,116,217)"
         },
         "mode": "lines",
         "type": "scatter",
         "x": [
          1.594630842842831,
          1.6350604944411855,
          1.6350604944411855,
          1.4203005971338423
         ],
         "xaxis": "x",
         "y": [
          -293.125,
          -293.125,
          -385.625,
          -385.625
         ],
         "yaxis": "y"
        },
        {
         "hoverinfo": "text",
         "marker": {
          "color": "rgb(0,116,217)"
         },
         "mode": "lines",
         "type": "scatter",
         "x": [
          0,
          1.1582928086478175,
          1.1582928086478175,
          0
         ],
         "xaxis": "x",
         "y": [
          -425,
          -425,
          -435,
          -435
         ],
         "yaxis": "y"
        },
        {
         "hoverinfo": "text",
         "marker": {
          "color": "rgb(0,116,217)"
         },
         "mode": "lines",
         "type": "scatter",
         "x": [
          1.1582928086478175,
          1.1975298536721928,
          1.1975298536721928,
          0
         ],
         "xaxis": "x",
         "y": [
          -430,
          -430,
          -445,
          -445
         ],
         "yaxis": "y"
        },
        {
         "hoverinfo": "text",
         "marker": {
          "color": "rgb(0,116,217)"
         },
         "mode": "lines",
         "type": "scatter",
         "x": [
          1.6350604944411855,
          1.6776588866532147,
          1.6776588866532147,
          1.1975298536721928
         ],
         "xaxis": "x",
         "y": [
          -339.375,
          -339.375,
          -437.5,
          -437.5
         ],
         "yaxis": "y"
        },
        {
         "hoverinfo": "text",
         "marker": {
          "color": "rgb(255,220,0)"
         },
         "mode": "lines",
         "type": "scatter",
         "x": [
          0,
          0,
          0,
          0
         ],
         "xaxis": "x",
         "y": [
          -475,
          -475,
          -485,
          -485
         ],
         "yaxis": "y"
        },
        {
         "hoverinfo": "text",
         "marker": {
          "color": "rgb(255,220,0)"
         },
         "mode": "lines",
         "type": "scatter",
         "x": [
          0,
          0,
          0,
          0
         ],
         "xaxis": "x",
         "y": [
          -465,
          -465,
          -480,
          -480
         ],
         "yaxis": "y"
        },
        {
         "hoverinfo": "text",
         "marker": {
          "color": "rgb(0,116,217)"
         },
         "mode": "lines",
         "type": "scatter",
         "x": [
          0,
          1.2495480670464443,
          1.2495480670464443,
          0
         ],
         "xaxis": "x",
         "y": [
          -472.5,
          -472.5,
          -495,
          -495
         ],
         "yaxis": "y"
        },
        {
         "hoverinfo": "text",
         "marker": {
          "color": "rgb(0,116,217)"
         },
         "mode": "lines",
         "type": "scatter",
         "x": [
          0,
          1.4053765242678005,
          1.4053765242678005,
          1.2495480670464443
         ],
         "xaxis": "x",
         "y": [
          -455,
          -455,
          -483.75,
          -483.75
         ],
         "yaxis": "y"
        },
        {
         "hoverinfo": "text",
         "marker": {
          "color": "rgb(0,116,217)"
         },
         "mode": "lines",
         "type": "scatter",
         "x": [
          1.6776588866532147,
          2.761289557243191,
          2.761289557243191,
          1.4053765242678005
         ],
         "xaxis": "x",
         "y": [
          -388.4375,
          -388.4375,
          -469.375,
          -469.375
         ],
         "yaxis": "y"
        },
        {
         "hoverinfo": "text",
         "marker": {
          "color": "rgb(0,116,217)"
         },
         "mode": "lines",
         "type": "scatter",
         "x": [
          2.0594643307494707,
          3.9827749277229247,
          3.9827749277229247,
          2.761289557243191
         ],
         "xaxis": "x",
         "y": [
          -155.1953125,
          -155.1953125,
          -428.90625,
          -428.90625
         ],
         "yaxis": "y"
        }
       ],
       "layout": {
        "autosize": false,
        "height": 950,
        "hoverlabel": {
         "bgcolor": "white",
         "font": {
          "family": "Rockwell",
          "size": 16
         }
        },
        "hovermode": "closest",
        "plot_bgcolor": "#ECEFF1",
        "showlegend": false,
        "template": {
         "data": {
          "bar": [
           {
            "error_x": {
             "color": "#2a3f5f"
            },
            "error_y": {
             "color": "#2a3f5f"
            },
            "marker": {
             "line": {
              "color": "white",
              "width": 0.5
             },
             "pattern": {
              "fillmode": "overlay",
              "size": 10,
              "solidity": 0.2
             }
            },
            "type": "bar"
           }
          ],
          "barpolar": [
           {
            "marker": {
             "line": {
              "color": "white",
              "width": 0.5
             },
             "pattern": {
              "fillmode": "overlay",
              "size": 10,
              "solidity": 0.2
             }
            },
            "type": "barpolar"
           }
          ],
          "carpet": [
           {
            "aaxis": {
             "endlinecolor": "#2a3f5f",
             "gridcolor": "#C8D4E3",
             "linecolor": "#C8D4E3",
             "minorgridcolor": "#C8D4E3",
             "startlinecolor": "#2a3f5f"
            },
            "baxis": {
             "endlinecolor": "#2a3f5f",
             "gridcolor": "#C8D4E3",
             "linecolor": "#C8D4E3",
             "minorgridcolor": "#C8D4E3",
             "startlinecolor": "#2a3f5f"
            },
            "type": "carpet"
           }
          ],
          "choropleth": [
           {
            "colorbar": {
             "outlinewidth": 0,
             "ticks": ""
            },
            "type": "choropleth"
           }
          ],
          "contour": [
           {
            "colorbar": {
             "outlinewidth": 0,
             "ticks": ""
            },
            "colorscale": [
             [
              0,
              "#0d0887"
             ],
             [
              0.1111111111111111,
              "#46039f"
             ],
             [
              0.2222222222222222,
              "#7201a8"
             ],
             [
              0.3333333333333333,
              "#9c179e"
             ],
             [
              0.4444444444444444,
              "#bd3786"
             ],
             [
              0.5555555555555556,
              "#d8576b"
             ],
             [
              0.6666666666666666,
              "#ed7953"
             ],
             [
              0.7777777777777778,
              "#fb9f3a"
             ],
             [
              0.8888888888888888,
              "#fdca26"
             ],
             [
              1,
              "#f0f921"
             ]
            ],
            "type": "contour"
           }
          ],
          "contourcarpet": [
           {
            "colorbar": {
             "outlinewidth": 0,
             "ticks": ""
            },
            "type": "contourcarpet"
           }
          ],
          "heatmap": [
           {
            "colorbar": {
             "outlinewidth": 0,
             "ticks": ""
            },
            "colorscale": [
             [
              0,
              "#0d0887"
             ],
             [
              0.1111111111111111,
              "#46039f"
             ],
             [
              0.2222222222222222,
              "#7201a8"
             ],
             [
              0.3333333333333333,
              "#9c179e"
             ],
             [
              0.4444444444444444,
              "#bd3786"
             ],
             [
              0.5555555555555556,
              "#d8576b"
             ],
             [
              0.6666666666666666,
              "#ed7953"
             ],
             [
              0.7777777777777778,
              "#fb9f3a"
             ],
             [
              0.8888888888888888,
              "#fdca26"
             ],
             [
              1,
              "#f0f921"
             ]
            ],
            "type": "heatmap"
           }
          ],
          "heatmapgl": [
           {
            "colorbar": {
             "outlinewidth": 0,
             "ticks": ""
            },
            "colorscale": [
             [
              0,
              "#0d0887"
             ],
             [
              0.1111111111111111,
              "#46039f"
             ],
             [
              0.2222222222222222,
              "#7201a8"
             ],
             [
              0.3333333333333333,
              "#9c179e"
             ],
             [
              0.4444444444444444,
              "#bd3786"
             ],
             [
              0.5555555555555556,
              "#d8576b"
             ],
             [
              0.6666666666666666,
              "#ed7953"
             ],
             [
              0.7777777777777778,
              "#fb9f3a"
             ],
             [
              0.8888888888888888,
              "#fdca26"
             ],
             [
              1,
              "#f0f921"
             ]
            ],
            "type": "heatmapgl"
           }
          ],
          "histogram": [
           {
            "marker": {
             "pattern": {
              "fillmode": "overlay",
              "size": 10,
              "solidity": 0.2
             }
            },
            "type": "histogram"
           }
          ],
          "histogram2d": [
           {
            "colorbar": {
             "outlinewidth": 0,
             "ticks": ""
            },
            "colorscale": [
             [
              0,
              "#0d0887"
             ],
             [
              0.1111111111111111,
              "#46039f"
             ],
             [
              0.2222222222222222,
              "#7201a8"
             ],
             [
              0.3333333333333333,
              "#9c179e"
             ],
             [
              0.4444444444444444,
              "#bd3786"
             ],
             [
              0.5555555555555556,
              "#d8576b"
             ],
             [
              0.6666666666666666,
              "#ed7953"
             ],
             [
              0.7777777777777778,
              "#fb9f3a"
             ],
             [
              0.8888888888888888,
              "#fdca26"
             ],
             [
              1,
              "#f0f921"
             ]
            ],
            "type": "histogram2d"
           }
          ],
          "histogram2dcontour": [
           {
            "colorbar": {
             "outlinewidth": 0,
             "ticks": ""
            },
            "colorscale": [
             [
              0,
              "#0d0887"
             ],
             [
              0.1111111111111111,
              "#46039f"
             ],
             [
              0.2222222222222222,
              "#7201a8"
             ],
             [
              0.3333333333333333,
              "#9c179e"
             ],
             [
              0.4444444444444444,
              "#bd3786"
             ],
             [
              0.5555555555555556,
              "#d8576b"
             ],
             [
              0.6666666666666666,
              "#ed7953"
             ],
             [
              0.7777777777777778,
              "#fb9f3a"
             ],
             [
              0.8888888888888888,
              "#fdca26"
             ],
             [
              1,
              "#f0f921"
             ]
            ],
            "type": "histogram2dcontour"
           }
          ],
          "mesh3d": [
           {
            "colorbar": {
             "outlinewidth": 0,
             "ticks": ""
            },
            "type": "mesh3d"
           }
          ],
          "parcoords": [
           {
            "line": {
             "colorbar": {
              "outlinewidth": 0,
              "ticks": ""
             }
            },
            "type": "parcoords"
           }
          ],
          "pie": [
           {
            "automargin": true,
            "type": "pie"
           }
          ],
          "scatter": [
           {
            "fillpattern": {
             "fillmode": "overlay",
             "size": 10,
             "solidity": 0.2
            },
            "type": "scatter"
           }
          ],
          "scatter3d": [
           {
            "line": {
             "colorbar": {
              "outlinewidth": 0,
              "ticks": ""
             }
            },
            "marker": {
             "colorbar": {
              "outlinewidth": 0,
              "ticks": ""
             }
            },
            "type": "scatter3d"
           }
          ],
          "scattercarpet": [
           {
            "marker": {
             "colorbar": {
              "outlinewidth": 0,
              "ticks": ""
             }
            },
            "type": "scattercarpet"
           }
          ],
          "scattergeo": [
           {
            "marker": {
             "colorbar": {
              "outlinewidth": 0,
              "ticks": ""
             }
            },
            "type": "scattergeo"
           }
          ],
          "scattergl": [
           {
            "marker": {
             "colorbar": {
              "outlinewidth": 0,
              "ticks": ""
             }
            },
            "type": "scattergl"
           }
          ],
          "scattermapbox": [
           {
            "marker": {
             "colorbar": {
              "outlinewidth": 0,
              "ticks": ""
             }
            },
            "type": "scattermapbox"
           }
          ],
          "scatterpolar": [
           {
            "marker": {
             "colorbar": {
              "outlinewidth": 0,
              "ticks": ""
             }
            },
            "type": "scatterpolar"
           }
          ],
          "scatterpolargl": [
           {
            "marker": {
             "colorbar": {
              "outlinewidth": 0,
              "ticks": ""
             }
            },
            "type": "scatterpolargl"
           }
          ],
          "scatterternary": [
           {
            "marker": {
             "colorbar": {
              "outlinewidth": 0,
              "ticks": ""
             }
            },
            "type": "scatterternary"
           }
          ],
          "surface": [
           {
            "colorbar": {
             "outlinewidth": 0,
             "ticks": ""
            },
            "colorscale": [
             [
              0,
              "#0d0887"
             ],
             [
              0.1111111111111111,
              "#46039f"
             ],
             [
              0.2222222222222222,
              "#7201a8"
             ],
             [
              0.3333333333333333,
              "#9c179e"
             ],
             [
              0.4444444444444444,
              "#bd3786"
             ],
             [
              0.5555555555555556,
              "#d8576b"
             ],
             [
              0.6666666666666666,
              "#ed7953"
             ],
             [
              0.7777777777777778,
              "#fb9f3a"
             ],
             [
              0.8888888888888888,
              "#fdca26"
             ],
             [
              1,
              "#f0f921"
             ]
            ],
            "type": "surface"
           }
          ],
          "table": [
           {
            "cells": {
             "fill": {
              "color": "#EBF0F8"
             },
             "line": {
              "color": "white"
             }
            },
            "header": {
             "fill": {
              "color": "#C8D4E3"
             },
             "line": {
              "color": "white"
             }
            },
            "type": "table"
           }
          ]
         },
         "layout": {
          "annotationdefaults": {
           "arrowcolor": "#2a3f5f",
           "arrowhead": 0,
           "arrowwidth": 1
          },
          "autotypenumbers": "strict",
          "coloraxis": {
           "colorbar": {
            "outlinewidth": 0,
            "ticks": ""
           }
          },
          "colorscale": {
           "diverging": [
            [
             0,
             "#8e0152"
            ],
            [
             0.1,
             "#c51b7d"
            ],
            [
             0.2,
             "#de77ae"
            ],
            [
             0.3,
             "#f1b6da"
            ],
            [
             0.4,
             "#fde0ef"
            ],
            [
             0.5,
             "#f7f7f7"
            ],
            [
             0.6,
             "#e6f5d0"
            ],
            [
             0.7,
             "#b8e186"
            ],
            [
             0.8,
             "#7fbc41"
            ],
            [
             0.9,
             "#4d9221"
            ],
            [
             1,
             "#276419"
            ]
           ],
           "sequential": [
            [
             0,
             "#0d0887"
            ],
            [
             0.1111111111111111,
             "#46039f"
            ],
            [
             0.2222222222222222,
             "#7201a8"
            ],
            [
             0.3333333333333333,
             "#9c179e"
            ],
            [
             0.4444444444444444,
             "#bd3786"
            ],
            [
             0.5555555555555556,
             "#d8576b"
            ],
            [
             0.6666666666666666,
             "#ed7953"
            ],
            [
             0.7777777777777778,
             "#fb9f3a"
            ],
            [
             0.8888888888888888,
             "#fdca26"
            ],
            [
             1,
             "#f0f921"
            ]
           ],
           "sequentialminus": [
            [
             0,
             "#0d0887"
            ],
            [
             0.1111111111111111,
             "#46039f"
            ],
            [
             0.2222222222222222,
             "#7201a8"
            ],
            [
             0.3333333333333333,
             "#9c179e"
            ],
            [
             0.4444444444444444,
             "#bd3786"
            ],
            [
             0.5555555555555556,
             "#d8576b"
            ],
            [
             0.6666666666666666,
             "#ed7953"
            ],
            [
             0.7777777777777778,
             "#fb9f3a"
            ],
            [
             0.8888888888888888,
             "#fdca26"
            ],
            [
             1,
             "#f0f921"
            ]
           ]
          },
          "colorway": [
           "#636efa",
           "#EF553B",
           "#00cc96",
           "#ab63fa",
           "#FFA15A",
           "#19d3f3",
           "#FF6692",
           "#B6E880",
           "#FF97FF",
           "#FECB52"
          ],
          "font": {
           "color": "#2a3f5f"
          },
          "geo": {
           "bgcolor": "white",
           "lakecolor": "white",
           "landcolor": "white",
           "showlakes": true,
           "showland": true,
           "subunitcolor": "#C8D4E3"
          },
          "hoverlabel": {
           "align": "left"
          },
          "hovermode": "closest",
          "mapbox": {
           "style": "light"
          },
          "paper_bgcolor": "white",
          "plot_bgcolor": "white",
          "polar": {
           "angularaxis": {
            "gridcolor": "#EBF0F8",
            "linecolor": "#EBF0F8",
            "ticks": ""
           },
           "bgcolor": "white",
           "radialaxis": {
            "gridcolor": "#EBF0F8",
            "linecolor": "#EBF0F8",
            "ticks": ""
           }
          },
          "scene": {
           "xaxis": {
            "backgroundcolor": "white",
            "gridcolor": "#DFE8F3",
            "gridwidth": 2,
            "linecolor": "#EBF0F8",
            "showbackground": true,
            "ticks": "",
            "zerolinecolor": "#EBF0F8"
           },
           "yaxis": {
            "backgroundcolor": "white",
            "gridcolor": "#DFE8F3",
            "gridwidth": 2,
            "linecolor": "#EBF0F8",
            "showbackground": true,
            "ticks": "",
            "zerolinecolor": "#EBF0F8"
           },
           "zaxis": {
            "backgroundcolor": "white",
            "gridcolor": "#DFE8F3",
            "gridwidth": 2,
            "linecolor": "#EBF0F8",
            "showbackground": true,
            "ticks": "",
            "zerolinecolor": "#EBF0F8"
           }
          },
          "shapedefaults": {
           "line": {
            "color": "#2a3f5f"
           }
          },
          "ternary": {
           "aaxis": {
            "gridcolor": "#DFE8F3",
            "linecolor": "#A2B1C6",
            "ticks": ""
           },
           "baxis": {
            "gridcolor": "#DFE8F3",
            "linecolor": "#A2B1C6",
            "ticks": ""
           },
           "bgcolor": "white",
           "caxis": {
            "gridcolor": "#DFE8F3",
            "linecolor": "#A2B1C6",
            "ticks": ""
           }
          },
          "title": {
           "x": 0.05
          },
          "xaxis": {
           "automargin": true,
           "gridcolor": "#EBF0F8",
           "linecolor": "#EBF0F8",
           "ticks": "",
           "title": {
            "standoff": 15
           },
           "zerolinecolor": "#EBF0F8",
           "zerolinewidth": 2
          },
          "yaxis": {
           "automargin": true,
           "gridcolor": "#EBF0F8",
           "linecolor": "#EBF0F8",
           "ticks": "",
           "title": {
            "standoff": 15
           },
           "zerolinecolor": "#EBF0F8",
           "zerolinewidth": 2
          }
         }
        },
        "title": {
         "font": {
          "color": "Black",
          "size": 22
         },
         "text": "<b>Hierarchical Clustering",
         "x": 0.5,
         "xanchor": "center",
         "yanchor": "top"
        },
        "width": 800,
        "xaxis": {
         "mirror": "allticks",
         "rangemode": "tozero",
         "showgrid": false,
         "showline": true,
         "showticklabels": true,
         "ticks": "outside",
         "type": "linear",
         "zeroline": false
        },
        "yaxis": {
         "mirror": "allticks",
         "range": [
          -500,
          0
         ],
         "rangemode": "tozero",
         "showgrid": false,
         "showline": true,
         "showticklabels": true,
         "tickmode": "array",
         "ticks": "outside",
         "ticktext": [
          "47_wave_bike_bikers",
          "11_bike_the bike_bikes",
          "5_car_cars_engine",
          "20_oil_diesel_fuel",
          "34_doctor_medical_of",
          "26_pain_drug_diet",
          "3_com_edu_health",
          "29_cs colorado_cs colorado ...",
          "28_msg_food_chinese",
          "39_sky_advertising_space",
          "48_we_tax_senior administra...",
          "21_armenian_armenians_turkish",
          "36_kinsey_men_sex",
          "49_reno_waco_president",
          "12_fire_fbi_the fire",
          "40_batf_the batf_they",
          "9_space_launch_the",
          "0_game_he_team",
          "2_israel_israeli_jews",
          "1_key_clipper_chip",
          "7_gun_guns_file",
          "24_serbs_muslims_bosnia",
          "23_islam_rushdie_qur",
          "16_god_atheists_atheism",
          "38_homosexuality_homosexual...",
          "18_moral_objective_morality",
          "33_dos dos_dos dos dos_dos",
          "42_os_windows_nt",
          "19_db_mov_bh",
          "45_colormap_dpy_color",
          "13_window_the window_widget",
          "8_jpeg_image_gif",
          "17_graphics_3d_op_cols",
          "43_polygon_xxxx_xxxx xxxx",
          "46_printer_deskjet_hp",
          "31_modem_fax_modems",
          "10_card_drivers_diamond",
          "4_ram_drive_for",
          "27_simms_simm_vram",
          "30_drive_drives_disks",
          "15_drive_disk_drives",
          "44_scsi_ide_drive",
          "22_condition_asking_speakers",
          "35_games_sega_cd",
          "32_picture sleeve_sleeve_pi...",
          "41_smiley_bolick_maddi",
          "37___",
          "14___",
          "6___",
          "25_ditto_this is test_test"
         ],
         "tickvals": [
          -5,
          -15,
          -25,
          -35,
          -45,
          -55,
          -65,
          -75,
          -85,
          -95,
          -105,
          -115,
          -125,
          -135,
          -145,
          -155,
          -165,
          -175,
          -185,
          -195,
          -205,
          -215,
          -225,
          -235,
          -245,
          -255,
          -265,
          -275,
          -285,
          -295,
          -305,
          -315,
          -325,
          -335,
          -345,
          -355,
          -365,
          -375,
          -385,
          -395,
          -405,
          -415,
          -425,
          -435,
          -445,
          -455,
          -465,
          -475,
          -485,
          -495
         ],
         "type": "linear",
         "zeroline": false
        }
       }
      }
     },
     "metadata": {},
     "output_type": "display_data"
    }
   ],
   "source": [
    "model.visualize_hierarchy(top_n_topics=50, width=800)"
   ]
  },
  {
   "cell_type": "code",
   "execution_count": 38,
   "id": "ac89fbf5",
   "metadata": {},
   "outputs": [],
   "source": [
    "documents = pd.DataFrame({\"Document\": docs,\n",
    "                          \"ID\": range(len(docs)),\n",
    "                          \"Topic\": topics,\n",
    "                          \"Topic_prob\": probabilities})"
   ]
  },
  {
   "cell_type": "code",
   "execution_count": 39,
   "id": "ecb1bad1",
   "metadata": {},
   "outputs": [
    {
     "data": {
      "text/html": [
       "<div>\n",
       "<style scoped>\n",
       "    .dataframe tbody tr th:only-of-type {\n",
       "        vertical-align: middle;\n",
       "    }\n",
       "\n",
       "    .dataframe tbody tr th {\n",
       "        vertical-align: top;\n",
       "    }\n",
       "\n",
       "    .dataframe thead th {\n",
       "        text-align: right;\n",
       "    }\n",
       "</style>\n",
       "<table border=\"1\" class=\"dataframe\">\n",
       "  <thead>\n",
       "    <tr style=\"text-align: right;\">\n",
       "      <th></th>\n",
       "      <th>Document</th>\n",
       "      <th>ID</th>\n",
       "      <th>Topic</th>\n",
       "      <th>Topic_prob</th>\n",
       "    </tr>\n",
       "  </thead>\n",
       "  <tbody>\n",
       "    <tr>\n",
       "      <th>0</th>\n",
       "      <td>\\n\\nI am sure some bashers of Pens fans are pr...</td>\n",
       "      <td>0</td>\n",
       "      <td>0</td>\n",
       "      <td>1.000000</td>\n",
       "    </tr>\n",
       "    <tr>\n",
       "      <th>1</th>\n",
       "      <td>My brother is in the market for a high-perform...</td>\n",
       "      <td>1</td>\n",
       "      <td>10</td>\n",
       "      <td>0.778909</td>\n",
       "    </tr>\n",
       "    <tr>\n",
       "      <th>2</th>\n",
       "      <td>\\n\\n\\n\\n\\tFinally you said what you dream abou...</td>\n",
       "      <td>2</td>\n",
       "      <td>21</td>\n",
       "      <td>0.467480</td>\n",
       "    </tr>\n",
       "    <tr>\n",
       "      <th>3</th>\n",
       "      <td>\\nThink!\\n\\nIt's the SCSI card doing the DMA t...</td>\n",
       "      <td>3</td>\n",
       "      <td>44</td>\n",
       "      <td>0.782099</td>\n",
       "    </tr>\n",
       "    <tr>\n",
       "      <th>4</th>\n",
       "      <td>1)    I have an old Jasmine drive which I cann...</td>\n",
       "      <td>4</td>\n",
       "      <td>85</td>\n",
       "      <td>0.614488</td>\n",
       "    </tr>\n",
       "  </tbody>\n",
       "</table>\n",
       "</div>"
      ],
      "text/plain": [
       "                                            Document  ID  Topic  Topic_prob\n",
       "0  \\n\\nI am sure some bashers of Pens fans are pr...   0      0    1.000000\n",
       "1  My brother is in the market for a high-perform...   1     10    0.778909\n",
       "2  \\n\\n\\n\\n\\tFinally you said what you dream abou...   2     21    0.467480\n",
       "3  \\nThink!\\n\\nIt's the SCSI card doing the DMA t...   3     44    0.782099\n",
       "4  1)    I have an old Jasmine drive which I cann...   4     85    0.614488"
      ]
     },
     "execution_count": 39,
     "metadata": {},
     "output_type": "execute_result"
    }
   ],
   "source": [
    "documents.head()"
   ]
  },
  {
   "cell_type": "code",
   "execution_count": 40,
   "id": "5167e3cb",
   "metadata": {},
   "outputs": [],
   "source": [
    "documents_per_topic = documents.groupby(['Topic'], as_index=False).agg({'Document': ' '.join})"
   ]
  },
  {
   "cell_type": "code",
   "execution_count": 43,
   "id": "52904a3d",
   "metadata": {},
   "outputs": [],
   "source": [
    "cleaned_docs = model._preprocess_text(documents_per_topic.Document.values)"
   ]
  },
  {
   "cell_type": "code",
   "execution_count": 46,
   "id": "340c78ed",
   "metadata": {},
   "outputs": [],
   "source": [
    "# Extract vectorizer and analyzer from BERTopic\n",
    "vectorizer = model.vectorizer_model\n",
    "analyzer = vectorizer.build_analyzer()"
   ]
  },
  {
   "cell_type": "code",
   "execution_count": 76,
   "id": "6236b4da",
   "metadata": {},
   "outputs": [],
   "source": [
    "# Extract features for Topic Coherence evaluation\n",
    "words = vectorizer.get_feature_names()\n",
    "tokens = [analyzer(doc) for doc in cleaned_docs]\n",
    "dictionary = corpora.Dictionary(tokens)\n",
    "corpus = [dictionary.doc2bow(token) for token in tokens]\n",
    "topic_words = [[words for words, _ in model.get_topic(topic) if words!=''] \n",
    "               for topic in range(len(set(topics))-1)]\n",
    "topic_words = [t for t in topic_words if len(t) >0] ## for some reason some topics has all \"\" as topic words"
   ]
  },
  {
   "cell_type": "code",
   "execution_count": 78,
   "id": "0aca6236",
   "metadata": {},
   "outputs": [
    {
     "name": "stdout",
     "output_type": "stream",
     "text": [
      "huggingface/tokenizers: The current process just got forked, after parallelism has already been used. Disabling parallelism to avoid deadlocks...\n",
      "To disable this warning, you can either:\n",
      "\t- Avoid using `tokenizers` before the fork if possible\n",
      "\t- Explicitly set the environment variable TOKENIZERS_PARALLELISM=(true | false)\n",
      "huggingface/tokenizers: The current process just got forked, after parallelism has already been used. Disabling parallelism to avoid deadlocks...\n",
      "To disable this warning, you can either:\n",
      "\t- Avoid using `tokenizers` before the fork if possible\n",
      "\t- Explicitly set the environment variable TOKENIZERS_PARALLELISM=(true | false)\n",
      "huggingface/tokenizers: The current process just got forked, after parallelism has already been used. Disabling parallelism to avoid deadlocks...\n",
      "To disable this warning, you can either:\n",
      "\t- Avoid using `tokenizers` before the fork if possible\n",
      "\t- Explicitly set the environment variable TOKENIZERS_PARALLELISM=(true | false)\n",
      "huggingface/tokenizers: The current process just got forked, after parallelism has already been used. Disabling parallelism to avoid deadlocks...\n",
      "To disable this warning, you can either:\n",
      "\t- Avoid using `tokenizers` before the fork if possible\n",
      "\t- Explicitly set the environment variable TOKENIZERS_PARALLELISM=(true | false)\n",
      "huggingface/tokenizers: The current process just got forked, after parallelism has already been used. Disabling parallelism to avoid deadlocks...\n",
      "To disable this warning, you can either:\n",
      "\t- Avoid using `tokenizers` before the fork if possible\n",
      "\t- Explicitly set the environment variable TOKENIZERS_PARALLELISM=(true | false)\n",
      "huggingface/tokenizers: The current process just got forked, after parallelism has already been used. Disabling parallelism to avoid deadlocks...\n",
      "To disable this warning, you can either:\n",
      "\t- Avoid using `tokenizers` before the fork if possible\n",
      "\t- Explicitly set the environment variable TOKENIZERS_PARALLELISM=(true | false)\n",
      "huggingface/tokenizers: The current process just got forked, after parallelism has already been used. Disabling parallelism to avoid deadlocks...\n",
      "To disable this warning, you can either:\n",
      "\t- Avoid using `tokenizers` before the fork if possible\n",
      "\t- Explicitly set the environment variable TOKENIZERS_PARALLELISM=(true | false)\n",
      "huggingface/tokenizers: The current process just got forked, after parallelism has already been used. Disabling parallelism to avoid deadlocks...\n",
      "To disable this warning, you can either:\n",
      "\t- Avoid using `tokenizers` before the fork if possible\n",
      "\t- Explicitly set the environment variable TOKENIZERS_PARALLELISM=(true | false)\n",
      "huggingface/tokenizers: The current process just got forked, after parallelism has already been used. Disabling parallelism to avoid deadlocks...\n",
      "To disable this warning, you can either:\n",
      "\t- Avoid using `tokenizers` before the fork if possible\n",
      "\t- Explicitly set the environment variable TOKENIZERS_PARALLELISM=(true | false)\n",
      "huggingface/tokenizers: The current process just got forked, after parallelism has already been used. Disabling parallelism to avoid deadlocks...\n",
      "To disable this warning, you can either:\n",
      "\t- Avoid using `tokenizers` before the fork if possible\n",
      "\t- Explicitly set the environment variable TOKENIZERS_PARALLELISM=(true | false)\n",
      "huggingface/tokenizers: The current process just got forked, after parallelism has already been used. Disabling parallelism to avoid deadlocks...\n",
      "To disable this warning, you can either:\n",
      "\t- Avoid using `tokenizers` before the fork if possible\n",
      "\t- Explicitly set the environment variable TOKENIZERS_PARALLELISM=(true | false)\n",
      "huggingface/tokenizers: The current process just got forked, after parallelism has already been used. Disabling parallelism to avoid deadlocks...\n",
      "To disable this warning, you can either:\n",
      "\t- Avoid using `tokenizers` before the fork if possible\n",
      "\t- Explicitly set the environment variable TOKENIZERS_PARALLELISM=(true | false)\n",
      "huggingface/tokenizers: The current process just got forked, after parallelism has already been used. Disabling parallelism to avoid deadlocks...\n",
      "To disable this warning, you can either:\n",
      "\t- Avoid using `tokenizers` before the fork if possible\n",
      "\t- Explicitly set the environment variable TOKENIZERS_PARALLELISM=(true | false)\n",
      "huggingface/tokenizers: The current process just got forked, after parallelism has already been used. Disabling parallelism to avoid deadlocks...\n",
      "To disable this warning, you can either:\n",
      "\t- Avoid using `tokenizers` before the fork if possible\n",
      "\t- Explicitly set the environment variable TOKENIZERS_PARALLELISM=(true | false)\n",
      "huggingface/tokenizers: The current process just got forked, after parallelism has already been used. Disabling parallelism to avoid deadlocks...\n",
      "To disable this warning, you can either:\n",
      "\t- Avoid using `tokenizers` before the fork if possible\n",
      "\t- Explicitly set the environment variable TOKENIZERS_PARALLELISM=(true | false)\n",
      "huggingface/tokenizers: The current process just got forked, after parallelism has already been used. Disabling parallelism to avoid deadlocks...\n",
      "To disable this warning, you can either:\n",
      "\t- Avoid using `tokenizers` before the fork if possible\n",
      "\t- Explicitly set the environment variable TOKENIZERS_PARALLELISM=(true | false)\n",
      "huggingface/tokenizers: The current process just got forked, after parallelism has already been used. Disabling parallelism to avoid deadlocks...\n",
      "To disable this warning, you can either:\n",
      "\t- Avoid using `tokenizers` before the fork if possible\n",
      "\t- Explicitly set the environment variable TOKENIZERS_PARALLELISM=(true | false)\n",
      "huggingface/tokenizers: The current process just got forked, after parallelism has already been used. Disabling parallelism to avoid deadlocks...\n",
      "To disable this warning, you can either:\n",
      "\t- Avoid using `tokenizers` before the fork if possible\n",
      "\t- Explicitly set the environment variable TOKENIZERS_PARALLELISM=(true | false)\n",
      "huggingface/tokenizers: The current process just got forked, after parallelism has already been used. Disabling parallelism to avoid deadlocks...\n",
      "To disable this warning, you can either:\n",
      "\t- Avoid using `tokenizers` before the fork if possible\n",
      "\t- Explicitly set the environment variable TOKENIZERS_PARALLELISM=(true | false)\n",
      "huggingface/tokenizers: The current process just got forked, after parallelism has already been used. Disabling parallelism to avoid deadlocks...\n",
      "To disable this warning, you can either:\n",
      "\t- Avoid using `tokenizers` before the fork if possible\n",
      "\t- Explicitly set the environment variable TOKENIZERS_PARALLELISM=(true | false)\n",
      "huggingface/tokenizers: The current process just got forked, after parallelism has already been used. Disabling parallelism to avoid deadlocks...\n",
      "To disable this warning, you can either:\n",
      "\t- Avoid using `tokenizers` before the fork if possible\n",
      "\t- Explicitly set the environment variable TOKENIZERS_PARALLELISM=(true | false)\n",
      "huggingface/tokenizers: The current process just got forked, after parallelism has already been used. Disabling parallelism to avoid deadlocks...\n",
      "To disable this warning, you can either:\n",
      "\t- Avoid using `tokenizers` before the fork if possible\n",
      "\t- Explicitly set the environment variable TOKENIZERS_PARALLELISM=(true | false)\n",
      "huggingface/tokenizers: The current process just got forked, after parallelism has already been used. Disabling parallelism to avoid deadlocks...\n",
      "To disable this warning, you can either:\n",
      "\t- Avoid using `tokenizers` before the fork if possible\n",
      "\t- Explicitly set the environment variable TOKENIZERS_PARALLELISM=(true | false)\n",
      "huggingface/tokenizers: The current process just got forked, after parallelism has already been used. Disabling parallelism to avoid deadlocks...\n",
      "To disable this warning, you can either:\n",
      "\t- Avoid using `tokenizers` before the fork if possible\n",
      "\t- Explicitly set the environment variable TOKENIZERS_PARALLELISM=(true | false)\n",
      "huggingface/tokenizers: The current process just got forked, after parallelism has already been used. Disabling parallelism to avoid deadlocks...\n",
      "To disable this warning, you can either:\n",
      "\t- Avoid using `tokenizers` before the fork if possible\n",
      "\t- Explicitly set the environment variable TOKENIZERS_PARALLELISM=(true | false)\n",
      "huggingface/tokenizers: The current process just got forked, after parallelism has already been used. Disabling parallelism to avoid deadlocks...\n",
      "To disable this warning, you can either:\n",
      "\t- Avoid using `tokenizers` before the fork if possible\n",
      "\t- Explicitly set the environment variable TOKENIZERS_PARALLELISM=(true | false)\n",
      "huggingface/tokenizers: The current process just got forked, after parallelism has already been used. Disabling parallelism to avoid deadlocks...\n",
      "To disable this warning, you can either:\n",
      "\t- Avoid using `tokenizers` before the fork if possible\n",
      "\t- Explicitly set the environment variable TOKENIZERS_PARALLELISM=(true | false)\n",
      "huggingface/tokenizers: The current process just got forked, after parallelism has already been used. Disabling parallelism to avoid deadlocks...\n",
      "To disable this warning, you can either:\n",
      "\t- Avoid using `tokenizers` before the fork if possible\n",
      "\t- Explicitly set the environment variable TOKENIZERS_PARALLELISM=(true | false)\n",
      "huggingface/tokenizers: The current process just got forked, after parallelism has already been used. Disabling parallelism to avoid deadlocks...\n",
      "To disable this warning, you can either:\n",
      "\t- Avoid using `tokenizers` before the fork if possible\n",
      "\t- Explicitly set the environment variable TOKENIZERS_PARALLELISM=(true | false)\n",
      "huggingface/tokenizers: The current process just got forked, after parallelism has already been used. Disabling parallelism to avoid deadlocks...\n",
      "To disable this warning, you can either:\n",
      "\t- Avoid using `tokenizers` before the fork if possible\n",
      "\t- Explicitly set the environment variable TOKENIZERS_PARALLELISM=(true | false)\n",
      "huggingface/tokenizers: The current process just got forked, after parallelism has already been used. Disabling parallelism to avoid deadlocks...\n",
      "To disable this warning, you can either:\n",
      "\t- Avoid using `tokenizers` before the fork if possible\n",
      "\t- Explicitly set the environment variable TOKENIZERS_PARALLELISM=(true | false)\n",
      "huggingface/tokenizers: The current process just got forked, after parallelism has already been used. Disabling parallelism to avoid deadlocks...\n",
      "To disable this warning, you can either:\n",
      "\t- Avoid using `tokenizers` before the fork if possible\n",
      "\t- Explicitly set the environment variable TOKENIZERS_PARALLELISM=(true | false)\n",
      "huggingface/tokenizers: The current process just got forked, after parallelism has already been used. Disabling parallelism to avoid deadlocks...\n",
      "To disable this warning, you can either:\n",
      "\t- Avoid using `tokenizers` before the fork if possible\n",
      "\t- Explicitly set the environment variable TOKENIZERS_PARALLELISM=(true | false)\n",
      "huggingface/tokenizers: The current process just got forked, after parallelism has already been used. Disabling parallelism to avoid deadlocks...\n",
      "To disable this warning, you can either:\n",
      "\t- Avoid using `tokenizers` before the fork if possible\n",
      "\t- Explicitly set the environment variable TOKENIZERS_PARALLELISM=(true | false)\n",
      "huggingface/tokenizers: The current process just got forked, after parallelism has already been used. Disabling parallelism to avoid deadlocks...\n",
      "To disable this warning, you can either:\n",
      "\t- Avoid using `tokenizers` before the fork if possible\n",
      "\t- Explicitly set the environment variable TOKENIZERS_PARALLELISM=(true | false)\n",
      "huggingface/tokenizers: The current process just got forked, after parallelism has already been used. Disabling parallelism to avoid deadlocks...\n",
      "To disable this warning, you can either:\n",
      "\t- Avoid using `tokenizers` before the fork if possible\n",
      "\t- Explicitly set the environment variable TOKENIZERS_PARALLELISM=(true | false)\n",
      "huggingface/tokenizers: The current process just got forked, after parallelism has already been used. Disabling parallelism to avoid deadlocks...\n",
      "To disable this warning, you can either:\n",
      "\t- Avoid using `tokenizers` before the fork if possible\n",
      "\t- Explicitly set the environment variable TOKENIZERS_PARALLELISM=(true | false)\n",
      "huggingface/tokenizers: The current process just got forked, after parallelism has already been used. Disabling parallelism to avoid deadlocks...\n",
      "To disable this warning, you can either:\n",
      "\t- Avoid using `tokenizers` before the fork if possible\n",
      "\t- Explicitly set the environment variable TOKENIZERS_PARALLELISM=(true | false)\n",
      "huggingface/tokenizers: The current process just got forked, after parallelism has already been used. Disabling parallelism to avoid deadlocks...\n",
      "To disable this warning, you can either:\n",
      "\t- Avoid using `tokenizers` before the fork if possible\n",
      "\t- Explicitly set the environment variable TOKENIZERS_PARALLELISM=(true | false)\n",
      "huggingface/tokenizers: The current process just got forked, after parallelism has already been used. Disabling parallelism to avoid deadlocks...\n",
      "To disable this warning, you can either:\n",
      "\t- Avoid using `tokenizers` before the fork if possible\n",
      "\t- Explicitly set the environment variable TOKENIZERS_PARALLELISM=(true | false)\n",
      "huggingface/tokenizers: The current process just got forked, after parallelism has already been used. Disabling parallelism to avoid deadlocks...\n",
      "To disable this warning, you can either:\n",
      "\t- Avoid using `tokenizers` before the fork if possible\n",
      "\t- Explicitly set the environment variable TOKENIZERS_PARALLELISM=(true | false)\n",
      "huggingface/tokenizers: The current process just got forked, after parallelism has already been used. Disabling parallelism to avoid deadlocks...\n",
      "To disable this warning, you can either:\n",
      "\t- Avoid using `tokenizers` before the fork if possible\n",
      "\t- Explicitly set the environment variable TOKENIZERS_PARALLELISM=(true | false)\n",
      "huggingface/tokenizers: The current process just got forked, after parallelism has already been used. Disabling parallelism to avoid deadlocks...\n",
      "To disable this warning, you can either:\n",
      "\t- Avoid using `tokenizers` before the fork if possible\n",
      "\t- Explicitly set the environment variable TOKENIZERS_PARALLELISM=(true | false)\n",
      "huggingface/tokenizers: The current process just got forked, after parallelism has already been used. Disabling parallelism to avoid deadlocks...\n",
      "To disable this warning, you can either:\n",
      "\t- Avoid using `tokenizers` before the fork if possible\n",
      "\t- Explicitly set the environment variable TOKENIZERS_PARALLELISM=(true | false)\n",
      "huggingface/tokenizers: The current process just got forked, after parallelism has already been used. Disabling parallelism to avoid deadlocks...\n",
      "To disable this warning, you can either:\n",
      "\t- Avoid using `tokenizers` before the fork if possible\n",
      "\t- Explicitly set the environment variable TOKENIZERS_PARALLELISM=(true | false)\n",
      "huggingface/tokenizers: The current process just got forked, after parallelism has already been used. Disabling parallelism to avoid deadlocks...\n",
      "To disable this warning, you can either:\n",
      "\t- Avoid using `tokenizers` before the fork if possible\n",
      "\t- Explicitly set the environment variable TOKENIZERS_PARALLELISM=(true | false)\n",
      "huggingface/tokenizers: The current process just got forked, after parallelism has already been used. Disabling parallelism to avoid deadlocks...\n",
      "To disable this warning, you can either:\n",
      "\t- Avoid using `tokenizers` before the fork if possible\n",
      "\t- Explicitly set the environment variable TOKENIZERS_PARALLELISM=(true | false)\n",
      "huggingface/tokenizers: The current process just got forked, after parallelism has already been used. Disabling parallelism to avoid deadlocks...\n",
      "To disable this warning, you can either:\n",
      "\t- Avoid using `tokenizers` before the fork if possible\n",
      "\t- Explicitly set the environment variable TOKENIZERS_PARALLELISM=(true | false)\n",
      "huggingface/tokenizers: The current process just got forked, after parallelism has already been used. Disabling parallelism to avoid deadlocks...\n",
      "To disable this warning, you can either:\n",
      "\t- Avoid using `tokenizers` before the fork if possible\n",
      "\t- Explicitly set the environment variable TOKENIZERS_PARALLELISM=(true | false)\n",
      "huggingface/tokenizers: The current process just got forked, after parallelism has already been used. Disabling parallelism to avoid deadlocks...\n",
      "To disable this warning, you can either:\n",
      "\t- Avoid using `tokenizers` before the fork if possible\n",
      "\t- Explicitly set the environment variable TOKENIZERS_PARALLELISM=(true | false)\n",
      "huggingface/tokenizers: The current process just got forked, after parallelism has already been used. Disabling parallelism to avoid deadlocks...\n",
      "To disable this warning, you can either:\n",
      "\t- Avoid using `tokenizers` before the fork if possible\n",
      "\t- Explicitly set the environment variable TOKENIZERS_PARALLELISM=(true | false)\n",
      "huggingface/tokenizers: The current process just got forked, after parallelism has already been used. Disabling parallelism to avoid deadlocks...\n",
      "To disable this warning, you can either:\n",
      "\t- Avoid using `tokenizers` before the fork if possible\n",
      "\t- Explicitly set the environment variable TOKENIZERS_PARALLELISM=(true | false)\n",
      "huggingface/tokenizers: The current process just got forked, after parallelism has already been used. Disabling parallelism to avoid deadlocks...\n",
      "To disable this warning, you can either:\n",
      "\t- Avoid using `tokenizers` before the fork if possible\n",
      "\t- Explicitly set the environment variable TOKENIZERS_PARALLELISM=(true | false)\n",
      "huggingface/tokenizers: The current process just got forked, after parallelism has already been used. Disabling parallelism to avoid deadlocks...\n",
      "To disable this warning, you can either:\n",
      "\t- Avoid using `tokenizers` before the fork if possible\n",
      "\t- Explicitly set the environment variable TOKENIZERS_PARALLELISM=(true | false)\n",
      "huggingface/tokenizers: The current process just got forked, after parallelism has already been used. Disabling parallelism to avoid deadlocks...\n",
      "To disable this warning, you can either:\n",
      "\t- Avoid using `tokenizers` before the fork if possible\n",
      "\t- Explicitly set the environment variable TOKENIZERS_PARALLELISM=(true | false)\n",
      "huggingface/tokenizers: The current process just got forked, after parallelism has already been used. Disabling parallelism to avoid deadlocks...\n",
      "To disable this warning, you can either:\n",
      "\t- Avoid using `tokenizers` before the fork if possible\n",
      "\t- Explicitly set the environment variable TOKENIZERS_PARALLELISM=(true | false)\n",
      "huggingface/tokenizers: The current process just got forked, after parallelism has already been used. Disabling parallelism to avoid deadlocks...\n",
      "To disable this warning, you can either:\n",
      "\t- Avoid using `tokenizers` before the fork if possible\n",
      "\t- Explicitly set the environment variable TOKENIZERS_PARALLELISM=(true | false)\n",
      "huggingface/tokenizers: The current process just got forked, after parallelism has already been used. Disabling parallelism to avoid deadlocks...\n",
      "To disable this warning, you can either:\n",
      "\t- Avoid using `tokenizers` before the fork if possible\n",
      "\t- Explicitly set the environment variable TOKENIZERS_PARALLELISM=(true | false)\n",
      "huggingface/tokenizers: The current process just got forked, after parallelism has already been used. Disabling parallelism to avoid deadlocks...\n",
      "To disable this warning, you can either:\n",
      "\t- Avoid using `tokenizers` before the fork if possible\n",
      "\t- Explicitly set the environment variable TOKENIZERS_PARALLELISM=(true | false)\n",
      "huggingface/tokenizers: The current process just got forked, after parallelism has already been used. Disabling parallelism to avoid deadlocks...\n",
      "To disable this warning, you can either:\n",
      "\t- Avoid using `tokenizers` before the fork if possible\n",
      "\t- Explicitly set the environment variable TOKENIZERS_PARALLELISM=(true | false)\n",
      "huggingface/tokenizers: The current process just got forked, after parallelism has already been used. Disabling parallelism to avoid deadlocks...\n",
      "To disable this warning, you can either:\n",
      "\t- Avoid using `tokenizers` before the fork if possible\n",
      "\t- Explicitly set the environment variable TOKENIZERS_PARALLELISM=(true | false)\n",
      "huggingface/tokenizers: The current process just got forked, after parallelism has already been used. Disabling parallelism to avoid deadlocks...\n",
      "To disable this warning, you can either:\n",
      "\t- Avoid using `tokenizers` before the fork if possible\n",
      "\t- Explicitly set the environment variable TOKENIZERS_PARALLELISM=(true | false)\n",
      "huggingface/tokenizers: The current process just got forked, after parallelism has already been used. Disabling parallelism to avoid deadlocks...\n",
      "To disable this warning, you can either:\n",
      "\t- Avoid using `tokenizers` before the fork if possible\n",
      "\t- Explicitly set the environment variable TOKENIZERS_PARALLELISM=(true | false)\n",
      "huggingface/tokenizers: The current process just got forked, after parallelism has already been used. Disabling parallelism to avoid deadlocks...\n",
      "To disable this warning, you can either:\n",
      "\t- Avoid using `tokenizers` before the fork if possible\n",
      "\t- Explicitly set the environment variable TOKENIZERS_PARALLELISM=(true | false)\n",
      "huggingface/tokenizers: The current process just got forked, after parallelism has already been used. Disabling parallelism to avoid deadlocks...\n",
      "To disable this warning, you can either:\n",
      "\t- Avoid using `tokenizers` before the fork if possible\n",
      "\t- Explicitly set the environment variable TOKENIZERS_PARALLELISM=(true | false)\n",
      "huggingface/tokenizers: The current process just got forked, after parallelism has already been used. Disabling parallelism to avoid deadlocks...\n",
      "To disable this warning, you can either:\n",
      "\t- Avoid using `tokenizers` before the fork if possible\n",
      "\t- Explicitly set the environment variable TOKENIZERS_PARALLELISM=(true | false)\n",
      "huggingface/tokenizers: The current process just got forked, after parallelism has already been used. Disabling parallelism to avoid deadlocks...\n",
      "To disable this warning, you can either:\n",
      "\t- Avoid using `tokenizers` before the fork if possible\n",
      "\t- Explicitly set the environment variable TOKENIZERS_PARALLELISM=(true | false)\n",
      "huggingface/tokenizers: The current process just got forked, after parallelism has already been used. Disabling parallelism to avoid deadlocks...\n",
      "To disable this warning, you can either:\n",
      "\t- Avoid using `tokenizers` before the fork if possible\n",
      "\t- Explicitly set the environment variable TOKENIZERS_PARALLELISM=(true | false)\n",
      "huggingface/tokenizers: The current process just got forked, after parallelism has already been used. Disabling parallelism to avoid deadlocks...\n",
      "To disable this warning, you can either:\n",
      "\t- Avoid using `tokenizers` before the fork if possible\n",
      "\t- Explicitly set the environment variable TOKENIZERS_PARALLELISM=(true | false)\n",
      "huggingface/tokenizers: The current process just got forked, after parallelism has already been used. Disabling parallelism to avoid deadlocks...\n",
      "To disable this warning, you can either:\n",
      "\t- Avoid using `tokenizers` before the fork if possible\n",
      "\t- Explicitly set the environment variable TOKENIZERS_PARALLELISM=(true | false)\n",
      "huggingface/tokenizers: The current process just got forked, after parallelism has already been used. Disabling parallelism to avoid deadlocks...\n",
      "To disable this warning, you can either:\n",
      "\t- Avoid using `tokenizers` before the fork if possible\n",
      "\t- Explicitly set the environment variable TOKENIZERS_PARALLELISM=(true | false)\n",
      "huggingface/tokenizers: The current process just got forked, after parallelism has already been used. Disabling parallelism to avoid deadlocks...\n",
      "To disable this warning, you can either:\n",
      "\t- Avoid using `tokenizers` before the fork if possible\n",
      "\t- Explicitly set the environment variable TOKENIZERS_PARALLELISM=(true | false)\n",
      "huggingface/tokenizers: The current process just got forked, after parallelism has already been used. Disabling parallelism to avoid deadlocks...\n",
      "To disable this warning, you can either:\n",
      "\t- Avoid using `tokenizers` before the fork if possible\n",
      "\t- Explicitly set the environment variable TOKENIZERS_PARALLELISM=(true | false)\n",
      "huggingface/tokenizers: The current process just got forked, after parallelism has already been used. Disabling parallelism to avoid deadlocks...\n",
      "To disable this warning, you can either:\n",
      "\t- Avoid using `tokenizers` before the fork if possible\n",
      "\t- Explicitly set the environment variable TOKENIZERS_PARALLELISM=(true | false)\n",
      "huggingface/tokenizers: The current process just got forked, after parallelism has already been used. Disabling parallelism to avoid deadlocks...\n",
      "To disable this warning, you can either:\n",
      "\t- Avoid using `tokenizers` before the fork if possible\n",
      "\t- Explicitly set the environment variable TOKENIZERS_PARALLELISM=(true | false)\n",
      "huggingface/tokenizers: The current process just got forked, after parallelism has already been used. Disabling parallelism to avoid deadlocks...\n",
      "To disable this warning, you can either:\n",
      "\t- Avoid using `tokenizers` before the fork if possible\n",
      "\t- Explicitly set the environment variable TOKENIZERS_PARALLELISM=(true | false)\n",
      "huggingface/tokenizers: The current process just got forked, after parallelism has already been used. Disabling parallelism to avoid deadlocks...\n",
      "To disable this warning, you can either:\n",
      "\t- Avoid using `tokenizers` before the fork if possible\n",
      "\t- Explicitly set the environment variable TOKENIZERS_PARALLELISM=(true | false)\n",
      "huggingface/tokenizers: The current process just got forked, after parallelism has already been used. Disabling parallelism to avoid deadlocks...\n",
      "To disable this warning, you can either:\n",
      "\t- Avoid using `tokenizers` before the fork if possible\n",
      "\t- Explicitly set the environment variable TOKENIZERS_PARALLELISM=(true | false)\n",
      "huggingface/tokenizers: The current process just got forked, after parallelism has already been used. Disabling parallelism to avoid deadlocks...\n",
      "To disable this warning, you can either:\n",
      "\t- Avoid using `tokenizers` before the fork if possible\n",
      "\t- Explicitly set the environment variable TOKENIZERS_PARALLELISM=(true | false)\n",
      "huggingface/tokenizers: The current process just got forked, after parallelism has already been used. Disabling parallelism to avoid deadlocks...\n",
      "To disable this warning, you can either:\n",
      "\t- Avoid using `tokenizers` before the fork if possible\n",
      "\t- Explicitly set the environment variable TOKENIZERS_PARALLELISM=(true | false)\n",
      "huggingface/tokenizers: The current process just got forked, after parallelism has already been used. Disabling parallelism to avoid deadlocks...\n",
      "To disable this warning, you can either:\n",
      "\t- Avoid using `tokenizers` before the fork if possible\n",
      "\t- Explicitly set the environment variable TOKENIZERS_PARALLELISM=(true | false)\n",
      "huggingface/tokenizers: The current process just got forked, after parallelism has already been used. Disabling parallelism to avoid deadlocks...\n",
      "To disable this warning, you can either:\n",
      "\t- Avoid using `tokenizers` before the fork if possible\n",
      "\t- Explicitly set the environment variable TOKENIZERS_PARALLELISM=(true | false)\n",
      "huggingface/tokenizers: The current process just got forked, after parallelism has already been used. Disabling parallelism to avoid deadlocks...\n",
      "To disable this warning, you can either:\n",
      "\t- Avoid using `tokenizers` before the fork if possible\n",
      "\t- Explicitly set the environment variable TOKENIZERS_PARALLELISM=(true | false)\n",
      "huggingface/tokenizers: The current process just got forked, after parallelism has already been used. Disabling parallelism to avoid deadlocks...\n",
      "To disable this warning, you can either:\n",
      "\t- Avoid using `tokenizers` before the fork if possible\n",
      "\t- Explicitly set the environment variable TOKENIZERS_PARALLELISM=(true | false)\n",
      "huggingface/tokenizers: The current process just got forked, after parallelism has already been used. Disabling parallelism to avoid deadlocks...\n",
      "To disable this warning, you can either:\n",
      "\t- Avoid using `tokenizers` before the fork if possible\n",
      "\t- Explicitly set the environment variable TOKENIZERS_PARALLELISM=(true | false)\n",
      "huggingface/tokenizers: The current process just got forked, after parallelism has already been used. Disabling parallelism to avoid deadlocks...\n",
      "To disable this warning, you can either:\n",
      "\t- Avoid using `tokenizers` before the fork if possible\n",
      "\t- Explicitly set the environment variable TOKENIZERS_PARALLELISM=(true | false)\n",
      "huggingface/tokenizers: The current process just got forked, after parallelism has already been used. Disabling parallelism to avoid deadlocks...\n",
      "To disable this warning, you can either:\n",
      "\t- Avoid using `tokenizers` before the fork if possible\n",
      "\t- Explicitly set the environment variable TOKENIZERS_PARALLELISM=(true | false)\n",
      "huggingface/tokenizers: The current process just got forked, after parallelism has already been used. Disabling parallelism to avoid deadlocks...\n",
      "To disable this warning, you can either:\n",
      "\t- Avoid using `tokenizers` before the fork if possible\n",
      "\t- Explicitly set the environment variable TOKENIZERS_PARALLELISM=(true | false)\n",
      "huggingface/tokenizers: The current process just got forked, after parallelism has already been used. Disabling parallelism to avoid deadlocks...\n",
      "To disable this warning, you can either:\n",
      "\t- Avoid using `tokenizers` before the fork if possible\n",
      "\t- Explicitly set the environment variable TOKENIZERS_PARALLELISM=(true | false)\n",
      "huggingface/tokenizers: The current process just got forked, after parallelism has already been used. Disabling parallelism to avoid deadlocks...\n",
      "To disable this warning, you can either:\n",
      "\t- Avoid using `tokenizers` before the fork if possible\n",
      "\t- Explicitly set the environment variable TOKENIZERS_PARALLELISM=(true | false)\n",
      "huggingface/tokenizers: The current process just got forked, after parallelism has already been used. Disabling parallelism to avoid deadlocks...\n",
      "To disable this warning, you can either:\n",
      "\t- Avoid using `tokenizers` before the fork if possible\n",
      "\t- Explicitly set the environment variable TOKENIZERS_PARALLELISM=(true | false)\n",
      "huggingface/tokenizers: The current process just got forked, after parallelism has already been used. Disabling parallelism to avoid deadlocks...\n",
      "To disable this warning, you can either:\n",
      "\t- Avoid using `tokenizers` before the fork if possible\n",
      "\t- Explicitly set the environment variable TOKENIZERS_PARALLELISM=(true | false)\n",
      "huggingface/tokenizers: The current process just got forked, after parallelism has already been used. Disabling parallelism to avoid deadlocks...\n",
      "To disable this warning, you can either:\n",
      "\t- Avoid using `tokenizers` before the fork if possible\n",
      "\t- Explicitly set the environment variable TOKENIZERS_PARALLELISM=(true | false)\n",
      "huggingface/tokenizers: The current process just got forked, after parallelism has already been used. Disabling parallelism to avoid deadlocks...\n",
      "To disable this warning, you can either:\n",
      "\t- Avoid using `tokenizers` before the fork if possible\n",
      "\t- Explicitly set the environment variable TOKENIZERS_PARALLELISM=(true | false)\n",
      "huggingface/tokenizers: The current process just got forked, after parallelism has already been used. Disabling parallelism to avoid deadlocks...\n",
      "To disable this warning, you can either:\n",
      "\t- Avoid using `tokenizers` before the fork if possible\n",
      "\t- Explicitly set the environment variable TOKENIZERS_PARALLELISM=(true | false)\n",
      "huggingface/tokenizers: The current process just got forked, after parallelism has already been used. Disabling parallelism to avoid deadlocks...\n",
      "To disable this warning, you can either:\n",
      "\t- Avoid using `tokenizers` before the fork if possible\n",
      "\t- Explicitly set the environment variable TOKENIZERS_PARALLELISM=(true | false)\n",
      "huggingface/tokenizers: The current process just got forked, after parallelism has already been used. Disabling parallelism to avoid deadlocks...\n",
      "To disable this warning, you can either:\n",
      "\t- Avoid using `tokenizers` before the fork if possible\n",
      "\t- Explicitly set the environment variable TOKENIZERS_PARALLELISM=(true | false)\n",
      "huggingface/tokenizers: The current process just got forked, after parallelism has already been used. Disabling parallelism to avoid deadlocks...\n",
      "To disable this warning, you can either:\n",
      "\t- Avoid using `tokenizers` before the fork if possible\n",
      "\t- Explicitly set the environment variable TOKENIZERS_PARALLELISM=(true | false)\n",
      "huggingface/tokenizers: The current process just got forked, after parallelism has already been used. Disabling parallelism to avoid deadlocks...\n",
      "To disable this warning, you can either:\n",
      "\t- Avoid using `tokenizers` before the fork if possible\n",
      "\t- Explicitly set the environment variable TOKENIZERS_PARALLELISM=(true | false)\n",
      "huggingface/tokenizers: The current process just got forked, after parallelism has already been used. Disabling parallelism to avoid deadlocks...\n",
      "To disable this warning, you can either:\n",
      "\t- Avoid using `tokenizers` before the fork if possible\n",
      "\t- Explicitly set the environment variable TOKENIZERS_PARALLELISM=(true | false)\n",
      "huggingface/tokenizers: The current process just got forked, after parallelism has already been used. Disabling parallelism to avoid deadlocks...\n",
      "To disable this warning, you can either:\n",
      "\t- Avoid using `tokenizers` before the fork if possible\n",
      "\t- Explicitly set the environment variable TOKENIZERS_PARALLELISM=(true | false)\n",
      "huggingface/tokenizers: The current process just got forked, after parallelism has already been used. Disabling parallelism to avoid deadlocks...\n",
      "To disable this warning, you can either:\n",
      "\t- Avoid using `tokenizers` before the fork if possible\n",
      "\t- Explicitly set the environment variable TOKENIZERS_PARALLELISM=(true | false)\n",
      "huggingface/tokenizers: The current process just got forked, after parallelism has already been used. Disabling parallelism to avoid deadlocks...\n",
      "To disable this warning, you can either:\n",
      "\t- Avoid using `tokenizers` before the fork if possible\n",
      "\t- Explicitly set the environment variable TOKENIZERS_PARALLELISM=(true | false)\n",
      "huggingface/tokenizers: The current process just got forked, after parallelism has already been used. Disabling parallelism to avoid deadlocks...\n",
      "To disable this warning, you can either:\n",
      "\t- Avoid using `tokenizers` before the fork if possible\n",
      "\t- Explicitly set the environment variable TOKENIZERS_PARALLELISM=(true | false)\n",
      "huggingface/tokenizers: The current process just got forked, after parallelism has already been used. Disabling parallelism to avoid deadlocks...\n",
      "To disable this warning, you can either:\n",
      "\t- Avoid using `tokenizers` before the fork if possible\n",
      "\t- Explicitly set the environment variable TOKENIZERS_PARALLELISM=(true | false)\n",
      "huggingface/tokenizers: The current process just got forked, after parallelism has already been used. Disabling parallelism to avoid deadlocks...\n",
      "To disable this warning, you can either:\n",
      "\t- Avoid using `tokenizers` before the fork if possible\n",
      "\t- Explicitly set the environment variable TOKENIZERS_PARALLELISM=(true | false)\n",
      "huggingface/tokenizers: The current process just got forked, after parallelism has already been used. Disabling parallelism to avoid deadlocks...\n",
      "To disable this warning, you can either:\n",
      "\t- Avoid using `tokenizers` before the fork if possible\n",
      "\t- Explicitly set the environment variable TOKENIZERS_PARALLELISM=(true | false)\n",
      "huggingface/tokenizers: The current process just got forked, after parallelism has already been used. Disabling parallelism to avoid deadlocks...\n",
      "To disable this warning, you can either:\n",
      "\t- Avoid using `tokenizers` before the fork if possible\n",
      "\t- Explicitly set the environment variable TOKENIZERS_PARALLELISM=(true | false)\n",
      "huggingface/tokenizers: The current process just got forked, after parallelism has already been used. Disabling parallelism to avoid deadlocks...\n",
      "To disable this warning, you can either:\n",
      "\t- Avoid using `tokenizers` before the fork if possible\n",
      "\t- Explicitly set the environment variable TOKENIZERS_PARALLELISM=(true | false)\n",
      "huggingface/tokenizers: The current process just got forked, after parallelism has already been used. Disabling parallelism to avoid deadlocks...\n",
      "To disable this warning, you can either:\n",
      "\t- Avoid using `tokenizers` before the fork if possible\n",
      "\t- Explicitly set the environment variable TOKENIZERS_PARALLELISM=(true | false)\n",
      "huggingface/tokenizers: The current process just got forked, after parallelism has already been used. Disabling parallelism to avoid deadlocks...\n",
      "To disable this warning, you can either:\n",
      "\t- Avoid using `tokenizers` before the fork if possible\n",
      "\t- Explicitly set the environment variable TOKENIZERS_PARALLELISM=(true | false)\n",
      "huggingface/tokenizers: The current process just got forked, after parallelism has already been used. Disabling parallelism to avoid deadlocks...\n",
      "To disable this warning, you can either:\n",
      "\t- Avoid using `tokenizers` before the fork if possible\n",
      "\t- Explicitly set the environment variable TOKENIZERS_PARALLELISM=(true | false)\n",
      "huggingface/tokenizers: The current process just got forked, after parallelism has already been used. Disabling parallelism to avoid deadlocks...\n",
      "To disable this warning, you can either:\n",
      "\t- Avoid using `tokenizers` before the fork if possible\n",
      "\t- Explicitly set the environment variable TOKENIZERS_PARALLELISM=(true | false)\n",
      "huggingface/tokenizers: The current process just got forked, after parallelism has already been used. Disabling parallelism to avoid deadlocks...\n",
      "To disable this warning, you can either:\n",
      "\t- Avoid using `tokenizers` before the fork if possible\n",
      "\t- Explicitly set the environment variable TOKENIZERS_PARALLELISM=(true | false)\n",
      "huggingface/tokenizers: The current process just got forked, after parallelism has already been used. Disabling parallelism to avoid deadlocks...\n",
      "To disable this warning, you can either:\n",
      "\t- Avoid using `tokenizers` before the fork if possible\n",
      "\t- Explicitly set the environment variable TOKENIZERS_PARALLELISM=(true | false)\n",
      "huggingface/tokenizers: The current process just got forked, after parallelism has already been used. Disabling parallelism to avoid deadlocks...\n",
      "To disable this warning, you can either:\n",
      "\t- Avoid using `tokenizers` before the fork if possible\n",
      "\t- Explicitly set the environment variable TOKENIZERS_PARALLELISM=(true | false)\n",
      "huggingface/tokenizers: The current process just got forked, after parallelism has already been used. Disabling parallelism to avoid deadlocks...\n",
      "To disable this warning, you can either:\n",
      "\t- Avoid using `tokenizers` before the fork if possible\n",
      "\t- Explicitly set the environment variable TOKENIZERS_PARALLELISM=(true | false)\n",
      "huggingface/tokenizers: The current process just got forked, after parallelism has already been used. Disabling parallelism to avoid deadlocks...\n",
      "To disable this warning, you can either:\n",
      "\t- Avoid using `tokenizers` before the fork if possible\n",
      "\t- Explicitly set the environment variable TOKENIZERS_PARALLELISM=(true | false)\n",
      "huggingface/tokenizers: The current process just got forked, after parallelism has already been used. Disabling parallelism to avoid deadlocks...\n",
      "To disable this warning, you can either:\n",
      "\t- Avoid using `tokenizers` before the fork if possible\n",
      "\t- Explicitly set the environment variable TOKENIZERS_PARALLELISM=(true | false)\n",
      "huggingface/tokenizers: The current process just got forked, after parallelism has already been used. Disabling parallelism to avoid deadlocks...\n",
      "To disable this warning, you can either:\n",
      "\t- Avoid using `tokenizers` before the fork if possible\n",
      "\t- Explicitly set the environment variable TOKENIZERS_PARALLELISM=(true | false)\n",
      "huggingface/tokenizers: The current process just got forked, after parallelism has already been used. Disabling parallelism to avoid deadlocks...\n",
      "To disable this warning, you can either:\n",
      "\t- Avoid using `tokenizers` before the fork if possible\n",
      "\t- Explicitly set the environment variable TOKENIZERS_PARALLELISM=(true | false)\n",
      "huggingface/tokenizers: The current process just got forked, after parallelism has already been used. Disabling parallelism to avoid deadlocks...\n",
      "To disable this warning, you can either:\n",
      "\t- Avoid using `tokenizers` before the fork if possible\n",
      "\t- Explicitly set the environment variable TOKENIZERS_PARALLELISM=(true | false)\n",
      "huggingface/tokenizers: The current process just got forked, after parallelism has already been used. Disabling parallelism to avoid deadlocks...\n",
      "To disable this warning, you can either:\n",
      "\t- Avoid using `tokenizers` before the fork if possible\n",
      "\t- Explicitly set the environment variable TOKENIZERS_PARALLELISM=(true | false)\n",
      "huggingface/tokenizers: The current process just got forked, after parallelism has already been used. Disabling parallelism to avoid deadlocks...\n",
      "To disable this warning, you can either:\n",
      "\t- Avoid using `tokenizers` before the fork if possible\n",
      "\t- Explicitly set the environment variable TOKENIZERS_PARALLELISM=(true | false)\n",
      "huggingface/tokenizers: The current process just got forked, after parallelism has already been used. Disabling parallelism to avoid deadlocks...\n",
      "To disable this warning, you can either:\n",
      "\t- Avoid using `tokenizers` before the fork if possible\n",
      "\t- Explicitly set the environment variable TOKENIZERS_PARALLELISM=(true | false)\n",
      "huggingface/tokenizers: The current process just got forked, after parallelism has already been used. Disabling parallelism to avoid deadlocks...\n",
      "To disable this warning, you can either:\n",
      "\t- Avoid using `tokenizers` before the fork if possible\n",
      "\t- Explicitly set the environment variable TOKENIZERS_PARALLELISM=(true | false)\n",
      "huggingface/tokenizers: The current process just got forked, after parallelism has already been used. Disabling parallelism to avoid deadlocks...\n",
      "To disable this warning, you can either:\n",
      "\t- Avoid using `tokenizers` before the fork if possible\n",
      "\t- Explicitly set the environment variable TOKENIZERS_PARALLELISM=(true | false)\n"
     ]
    }
   ],
   "source": [
    "# Evaluate\n",
    "coherence_model = CoherenceModel(topics=topic_words, \n",
    "                                 texts=tokens, \n",
    "                                 corpus=corpus,\n",
    "                                 dictionary=dictionary, \n",
    "                                 coherence='c_v')\n",
    "coherence = coherence_model.get_coherence()"
   ]
  },
  {
   "cell_type": "code",
   "execution_count": 79,
   "id": "ef180d47",
   "metadata": {},
   "outputs": [
    {
     "data": {
      "text/plain": [
       "0.5102444996410709"
      ]
     },
     "execution_count": 79,
     "metadata": {},
     "output_type": "execute_result"
    }
   ],
   "source": [
    "coherence"
   ]
  },
  {
   "cell_type": "code",
   "execution_count": null,
   "id": "d098a6c9",
   "metadata": {},
   "outputs": [],
   "source": []
  }
 ],
 "metadata": {
  "kernelspec": {
   "display_name": "sbert",
   "language": "python",
   "name": "sbert"
  },
  "language_info": {
   "codemirror_mode": {
    "name": "ipython",
    "version": 3
   },
   "file_extension": ".py",
   "mimetype": "text/x-python",
   "name": "python",
   "nbconvert_exporter": "python",
   "pygments_lexer": "ipython3",
   "version": "3.8.13"
  }
 },
 "nbformat": 4,
 "nbformat_minor": 5
}
