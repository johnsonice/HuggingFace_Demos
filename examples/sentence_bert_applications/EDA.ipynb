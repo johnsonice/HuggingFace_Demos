{
 "cells": [
  {
   "cell_type": "markdown",
   "id": "bfae38e2",
   "metadata": {},
   "source": [
    "## Data exploration for Sentence Bert Pretraining Data "
   ]
  },
  {
   "cell_type": "code",
   "execution_count": 2,
   "id": "8d6ac8a2",
   "metadata": {},
   "outputs": [],
   "source": [
    "import numpy as np\n",
    "import pandas as pd\n",
    "\n",
    "import time\n",
    "import datetime as datetime\n",
    "import os \n",
    "\n",
    "from sentence_transformers import SentenceTransformer, util\n",
    "import torch\n",
    "\n",
    "from sklearn.feature_extraction.text import CountVectorizer\n",
    "from sklearn.metrics.pairwise import cosine_similarity\n",
    "\n",
    "from tqdm import tqdm\n",
    "\n",
    "import matplotlib.pyplot as plt"
   ]
  },
  {
   "cell_type": "code",
   "execution_count": 4,
   "id": "07bc0e6e",
   "metadata": {},
   "outputs": [
    {
     "name": "stdout",
     "output_type": "stream",
     "text": [
      "Torch version:  1.12.0+cu102\n",
      "matplotlib: 3.5.1\n",
      "sentence_transformers: 2.2.2\n"
     ]
    }
   ],
   "source": [
    "import matplotlib\n",
    "import sentence_transformers\n",
    "\n",
    "print('Torch version: ', torch.__version__)\n",
    "#print('UMAP version: ', umap.__version__)\n",
    "print('matplotlib: {}'.format(matplotlib.__version__))\n",
    "print('sentence_transformers: {}'.format(sentence_transformers.__version__))"
   ]
  },
  {
   "cell_type": "code",
   "execution_count": 5,
   "id": "680948ee",
   "metadata": {},
   "outputs": [],
   "source": [
    "#from sentence_transformers import datasets"
   ]
  },
  {
   "cell_type": "code",
   "execution_count": 6,
   "id": "266a7f16",
   "metadata": {},
   "outputs": [],
   "source": [
    "from datasets import Dataset,load_dataset,concatenate_datasets,load_from_disk"
   ]
  },
  {
   "cell_type": "code",
   "execution_count": 10,
   "id": "f68c2358",
   "metadata": {},
   "outputs": [
    {
     "name": "stderr",
     "output_type": "stream",
     "text": [
      "Using custom data configuration default-85d2ff23a98aaf78\n",
      "Reusing dataset text (/home/chengyu/.cache/huggingface/datasets/text/default-85d2ff23a98aaf78/0.0.0/acc32f2f2ef863c93c2f30c52f7df6cc9053a1c2230b8d7da0d210404683ca08)\n"
     ]
    },
    {
     "data": {
      "application/vnd.jupyter.widget-view+json": {
       "model_id": "b10a1eb51dd54b2797b1de19b218d45e",
       "version_major": 2,
       "version_minor": 0
      },
      "text/plain": [
       "  0%|          | 0/1 [00:00<?, ?it/s]"
      ]
     },
     "metadata": {},
     "output_type": "display_data"
    },
    {
     "data": {
      "text/plain": [
       "DatasetDict({\n",
       "    train: Dataset({\n",
       "        features: ['text'],\n",
       "        num_rows: 2477094\n",
       "    })\n",
       "})"
      ]
     },
     "execution_count": 10,
     "metadata": {},
     "output_type": "execute_result"
    }
   ],
   "source": [
    "data_path = os.path.join('/media/chengyu/Elements1/HuggingFace/Data/sentence_bert/pre_training_raw_data','IMF_Documents_2018.txt')\n",
    "raw_dataset = load_dataset('text', data_files=data_path) ## default split is 'train'\n",
    "raw_dataset"
   ]
  },
  {
   "cell_type": "markdown",
   "id": "aafc32f9",
   "metadata": {},
   "source": [
    "#### Take a look at overal paragraph legnth (sample some)"
   ]
  },
  {
   "cell_type": "code",
   "execution_count": 42,
   "id": "995e9f74",
   "metadata": {
    "scrolled": true
   },
   "outputs": [
    {
     "name": "stderr",
     "output_type": "stream",
     "text": [
      "Loading cached shuffled indices for dataset at /home/chengyu/.cache/huggingface/datasets/text/default-85d2ff23a98aaf78/0.0.0/acc32f2f2ef863c93c2f30c52f7df6cc9053a1c2230b8d7da0d210404683ca08/cache-6a75708ef9b28d1c.arrow\n"
     ]
    }
   ],
   "source": [
    "sample_data = raw_dataset.shuffle(seed=42)['train'].select(range(10000))"
   ]
  },
  {
   "cell_type": "code",
   "execution_count": 43,
   "id": "7b930ad2",
   "metadata": {},
   "outputs": [],
   "source": [
    "def get_length(e):\n",
    "    e['length'] = len(e['text'].split())\n",
    "    return e"
   ]
  },
  {
   "cell_type": "code",
   "execution_count": 44,
   "id": "a7a768f3",
   "metadata": {},
   "outputs": [
    {
     "data": {
      "application/vnd.jupyter.widget-view+json": {
       "model_id": "f945d9168d2e462cbe91bbc02057cdc8",
       "version_major": 2,
       "version_minor": 0
      },
      "text/plain": [
       "  0%|          | 0/10000 [00:00<?, ?ex/s]"
      ]
     },
     "metadata": {},
     "output_type": "display_data"
    },
    {
     "data": {
      "text/plain": [
       "<AxesSubplot:>"
      ]
     },
     "execution_count": 44,
     "metadata": {},
     "output_type": "execute_result"
    },
    {
     "data": {
      "image/png": "[encoded data removed]",
      "text/plain": [
       "<Figure size 1080x360 with 1 Axes>"
      ]
     },
     "metadata": {
      "needs_background": "light"
     },
     "output_type": "display_data"
    }
   ],
   "source": [
    "sample_data = sample_data.map(get_length,batch_size=1000)\n",
    "df = sample_data.to_pandas()['length']\n",
    "df.hist(bins=50, figsize=(15,5), legend=True)"
   ]
  },
  {
   "cell_type": "code",
   "execution_count": null,
   "id": "be757b4e",
   "metadata": {},
   "outputs": [],
   "source": []
  }
 ],
 "metadata": {
  "kernelspec": {
   "display_name": "gpt3",
   "language": "python",
   "name": "gpt3"
  },
  "language_info": {
   "codemirror_mode": {
    "name": "ipython",
    "version": 3
   },
   "file_extension": ".py",
   "mimetype": "text/x-python",
   "name": "python",
   "nbconvert_exporter": "python",
   "pygments_lexer": "ipython3",
   "version": "3.8.12"
  }
 },
 "nbformat": 4,
 "nbformat_minor": 5
}
