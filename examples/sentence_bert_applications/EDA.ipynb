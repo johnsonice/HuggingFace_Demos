{
 "cells": [
  {
   "cell_type": "markdown",
   "id": "bfae38e2",
   "metadata": {},
   "source": [
    "## Data exploration for Sentence Bert Pretraining Data "
   ]
  },
  {
   "cell_type": "code",
   "execution_count": 2,
   "id": "8d6ac8a2",
   "metadata": {},
   "outputs": [],
   "source": [
    "import numpy as np\n",
    "import pandas as pd\n",
    "\n",
    "import time\n",
    "import datetime as datetime\n",
    "import os \n",
    "\n",
    "from sentence_transformers import SentenceTransformer, util\n",
    "import torch\n",
    "\n",
    "from sklearn.feature_extraction.text import CountVectorizer\n",
    "from sklearn.metrics.pairwise import cosine_similarity\n",
    "\n",
    "from tqdm import tqdm\n",
    "\n",
    "import matplotlib.pyplot as plt"
   ]
  },
  {
   "cell_type": "code",
   "execution_count": 3,
   "id": "07bc0e6e",
   "metadata": {},
   "outputs": [
    {
     "name": "stdout",
     "output_type": "stream",
     "text": [
      "Torch version:  1.12.1+cu102\n",
      "matplotlib: 3.6.2\n",
      "sentence_transformers: 2.2.2\n"
     ]
    }
   ],
   "source": [
    "import matplotlib\n",
    "import sentence_transformers\n",
    "\n",
    "print('Torch version: ', torch.__version__)\n",
    "#print('UMAP version: ', umap.__version__)\n",
    "print('matplotlib: {}'.format(matplotlib.__version__))\n",
    "print('sentence_transformers: {}'.format(sentence_transformers.__version__))"
   ]
  },
  {
   "cell_type": "code",
   "execution_count": 5,
   "id": "680948ee",
   "metadata": {},
   "outputs": [],
   "source": [
    "#from sentence_transformers import datasets"
   ]
  },
  {
   "cell_type": "code",
   "execution_count": 4,
   "id": "266a7f16",
   "metadata": {},
   "outputs": [],
   "source": [
    "from datasets import Dataset,load_dataset,concatenate_datasets,load_from_disk"
   ]
  },
  {
   "cell_type": "code",
   "execution_count": 9,
   "id": "6e911303",
   "metadata": {},
   "outputs": [],
   "source": []
  },
  {
   "cell_type": "code",
   "execution_count": 11,
   "id": "f68c2358",
   "metadata": {},
   "outputs": [
    {
     "name": "stderr",
     "output_type": "stream",
     "text": [
      "Resolving data files: 100%|██████████| 330/330 [00:00<00:00, 339911.67it/s]\n",
      "Using custom data configuration default-de3887bab6e399f7\n"
     ]
    },
    {
     "name": "stdout",
     "output_type": "stream",
     "text": [
      "Downloading and preparing dataset text/default to /home/chengyu/.cache/huggingface/datasets/text/default-de3887bab6e399f7/0.0.0/21a506d1b2b34316b1e82d0bd79066905d846e5d7e619823c0dd338d6f1fa6ad...\n"
     ]
    },
    {
     "name": "stderr",
     "output_type": "stream",
     "text": [
      "Downloading data files: 100%|██████████| 1/1 [00:00<00:00, 30.10it/s]\n",
      "Extracting data files: 100%|██████████| 1/1 [00:00<00:00,  1.99it/s]\n",
      "                                   \r"
     ]
    },
    {
     "name": "stdout",
     "output_type": "stream",
     "text": [
      "Dataset text downloaded and prepared to /home/chengyu/.cache/huggingface/datasets/text/default-de3887bab6e399f7/0.0.0/21a506d1b2b34316b1e82d0bd79066905d846e5d7e619823c0dd338d6f1fa6ad. Subsequent calls will reuse this data.\n"
     ]
    },
    {
     "name": "stderr",
     "output_type": "stream",
     "text": [
      "100%|██████████| 1/1 [00:00<00:00, 50.73it/s]\n"
     ]
    },
    {
     "data": {
      "text/plain": [
       "DatasetDict({\n",
       "    train: Dataset({\n",
       "        features: ['text'],\n",
       "        num_rows: 4937514\n",
       "    })\n",
       "})"
      ]
     },
     "execution_count": 11,
     "metadata": {},
     "output_type": "execute_result"
    }
   ],
   "source": [
    "data_path = '/media/chengyu/Elements1/HuggingFace/Data/Raw_LM_Data/Processed'\n",
    "dfs = os.listdir(data_path)\n",
    "dfs = [os.path.join(data_path,p) for p in dfs]\n",
    "raw_dataset = load_dataset('text', data_files=dfs) ## default split is 'train'\n",
    "raw_dataset"
   ]
  },
  {
   "cell_type": "markdown",
   "id": "aafc32f9",
   "metadata": {},
   "source": [
    "#### Take a look at overal paragraph legnth (sample some)"
   ]
  },
  {
   "cell_type": "code",
   "execution_count": 12,
   "id": "995e9f74",
   "metadata": {
    "scrolled": true
   },
   "outputs": [],
   "source": [
    "sample_data = raw_dataset.shuffle(seed=42)['train'].select(range(10000))"
   ]
  },
  {
   "cell_type": "code",
   "execution_count": 13,
   "id": "7b930ad2",
   "metadata": {},
   "outputs": [],
   "source": [
    "def get_length(e):\n",
    "    e['length'] = len(e['text'].split())\n",
    "    return e"
   ]
  },
  {
   "cell_type": "code",
   "execution_count": 14,
   "id": "a7a768f3",
   "metadata": {},
   "outputs": [
    {
     "name": "stderr",
     "output_type": "stream",
     "text": [
      "Parameter 'function'=<function get_length at 0x7f89ac1971f0> of the transform datasets.arrow_dataset.Dataset._map_single couldn't be hashed properly, a random hash was used instead. Make sure your transforms and parameters are serializable with pickle or dill for the dataset fingerprinting and caching to work. If you reuse this transform, the caching mechanism will consider it to be different from the previous calls and recompute everything. This warning is only showed once. Subsequent hashing failures won't be showed.\n",
      "100%|██████████| 10000/10000 [00:00<00:00, 10447.45ex/s]\n"
     ]
    },
    {
     "data": {
      "text/plain": [
       "<AxesSubplot: >"
      ]
     },
     "execution_count": 14,
     "metadata": {},
     "output_type": "execute_result"
    },
    {
     "data": {
      "image/png": "[encoded data removed]",
      "text/plain": [
       "<Figure size 1500x500 with 1 Axes>"
      ]
     },
     "metadata": {},
     "output_type": "display_data"
    }
   ],
   "source": [
    "sample_data = sample_data.map(get_length,batch_size=1000)\n",
    "df = sample_data.to_pandas()['length']\n",
    "df.hist(bins=50, figsize=(15,5), legend=True)"
   ]
  },
  {
   "cell_type": "code",
   "execution_count": null,
   "id": "be757b4e",
   "metadata": {},
   "outputs": [],
   "source": []
  }
 ],
 "metadata": {
  "kernelspec": {
   "display_name": "Python 3.8.0 ('sbert')",
   "language": "python",
   "name": "python3"
  },
  "language_info": {
   "codemirror_mode": {
    "name": "ipython",
    "version": 3
   },
   "file_extension": ".py",
   "mimetype": "text/x-python",
   "name": "python",
   "nbconvert_exporter": "python",
   "pygments_lexer": "ipython3",
   "version": "3.8.0"
  },
  "vscode": {
   "interpreter": {
    "hash": "cd2edd14cffcbdd5e94fef31b51c493c1b549526c82b7d198d034dc68d2499f7"
   }
  }
 },
 "nbformat": 4,
 "nbformat_minor": 5
}
