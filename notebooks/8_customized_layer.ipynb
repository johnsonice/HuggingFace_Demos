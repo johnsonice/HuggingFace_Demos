{
 "cells": [
  {
   "cell_type": "markdown",
   "id": "cbc7bcf2",
   "metadata": {},
   "source": [
    "## Add simple customized layer on top of pretrained models"
   ]
  },
  {
   "cell_type": "markdown",
   "id": "4ff7c757",
   "metadata": {},
   "source": [
    "- we start with adding a simple classification layer - let's try use twitter emo data for base layer and train a sentiment classification layer \n",
    "- follow https://jovian.ai/rajbsangani/emotion-tuned-sarcasm\n",
    "- and follw : https://github.com/huggingface/transformers/blob/v4.20.1/src/transformers/models/bert/modeling_bert.py#L1510"
   ]
  },
  {
   "cell_type": "code",
   "execution_count": 1,
   "id": "2f2d7b67",
   "metadata": {},
   "outputs": [],
   "source": [
    "from datasets import load_dataset,Dataset,DatasetDict\n",
    "from transformers import DataCollatorWithPadding,AutoModelForSequenceClassification, Trainer, TrainingArguments,AutoTokenizer,AutoModel,AutoConfig\n",
    "from transformers.modeling_outputs import TokenClassifierOutput\n",
    "from datasets import load_metric\n",
    "import torch\n",
    "import torch.nn as nn\n",
    "import pandas as pd\n",
    "import config\n",
    "import numpy as np\n",
    "import os"
   ]
  },
  {
   "cell_type": "code",
   "execution_count": 2,
   "id": "e6f8aaa1",
   "metadata": {
    "scrolled": true
   },
   "outputs": [
    {
     "name": "stderr",
     "output_type": "stream",
     "text": [
      "Using custom data configuration default-c4cc714ae0f5b0ee\n",
      "Reusing dataset json (/home/chengyu/.cache/huggingface/datasets/json/default-c4cc714ae0f5b0ee/0.0.0/da492aad5680612e4028e7f6ddc04b1dfcec4b64db470ed7cc5f2bb265b9b6b5)\n"
     ]
    },
    {
     "data": {
      "application/vnd.jupyter.widget-view+json": {
       "model_id": "7034f75638af41a3b2a75e087da71e64",
       "version_major": 2,
       "version_minor": 0
      },
      "text/plain": [
       "  0%|          | 0/1 [00:00<?, ?it/s]"
      ]
     },
     "metadata": {},
     "output_type": "display_data"
    },
    {
     "data": {
      "text/plain": [
       "DatasetDict({\n",
       "    train: Dataset({\n",
       "        features: ['headline', 'label'],\n",
       "        num_rows: 26709\n",
       "    })\n",
       "})"
      ]
     },
     "execution_count": 2,
     "metadata": {},
     "output_type": "execute_result"
    }
   ],
   "source": [
    "## Load data \n",
    "data=load_dataset(\"json\",data_files=\"/media/chengyu/Elements1/HuggingFace/Data/Sarcasm/Sarcasm_Headlines_Dataset.json\")\n",
    "data=data.rename_column(\"is_sarcastic\",\"label\")\n",
    "data=data.remove_columns(['article_link'])\n",
    "data"
   ]
  },
  {
   "cell_type": "code",
   "execution_count": 3,
   "id": "1db004ad",
   "metadata": {},
   "outputs": [
    {
     "data": {
      "text/plain": [
       "DatasetDict({\n",
       "    train: Dataset({\n",
       "        features: ['headline', 'label'],\n",
       "        num_rows: 21281\n",
       "    })\n",
       "    test: Dataset({\n",
       "        features: ['headline', 'label'],\n",
       "        num_rows: 2661\n",
       "    })\n",
       "    valid: Dataset({\n",
       "        features: ['headline', 'label'],\n",
       "        num_rows: 2660\n",
       "    })\n",
       "})"
      ]
     },
     "execution_count": 3,
     "metadata": {},
     "output_type": "execute_result"
    }
   ],
   "source": [
    "## Simple data processing\n",
    "data.set_format('pandas')\n",
    "data=data['train'][:]\n",
    "data.drop_duplicates(subset=['headline'],inplace=True)\n",
    "data=data.reset_index()[['headline','label']]\n",
    "data=Dataset.from_pandas(data)\n",
    "# 80% train, 20% test + validation\n",
    "train_testvalid = data.train_test_split(test_size=0.2,seed=15)\n",
    "# Split the 10% test + valid in half test, half valid\n",
    "test_valid = train_testvalid['test'].train_test_split(test_size=0.5,seed=15)\n",
    "# gather everyone if you want to have a single DatasetDict\n",
    "data = DatasetDict({\n",
    "    'train': train_testvalid['train'],\n",
    "    'test': test_valid['test'],\n",
    "    'valid': test_valid['train']})\n",
    "\n",
    "data"
   ]
  },
  {
   "cell_type": "markdown",
   "id": "89951211",
   "metadata": {},
   "source": [
    "- ### Load pretrained model"
   ]
  },
  {
   "cell_type": "code",
   "execution_count": 4,
   "id": "6b6748f5",
   "metadata": {},
   "outputs": [],
   "source": [
    "checkpoint = \"cardiffnlp/twitter-roberta-base-emotion\"\n",
    "tokenizer = AutoTokenizer.from_pretrained(checkpoint)\n",
    "tokenizer.model_max_len=512"
   ]
  },
  {
   "cell_type": "markdown",
   "id": "9deaffd7",
   "metadata": {},
   "source": [
    "- Tokenize Data"
   ]
  },
  {
   "cell_type": "code",
   "execution_count": 5,
   "id": "cdf60ec0",
   "metadata": {},
   "outputs": [
    {
     "name": "stderr",
     "output_type": "stream",
     "text": [
      "Parameter 'function'=<function tokenize at 0x7fdd1c4a55e0> of the transform datasets.arrow_dataset.Dataset._map_single couldn't be hashed properly, a random hash was used instead. Make sure your transforms and parameters are serializable with pickle or dill for the dataset fingerprinting and caching to work. If you reuse this transform, the caching mechanism will consider it to be different from the previous calls and recompute everything. This warning is only showed once. Subsequent hashing failures won't be showed.\n"
     ]
    },
    {
     "data": {
      "application/vnd.jupyter.widget-view+json": {
       "model_id": "1873975deb804cf5a8440d06834b2ae8",
       "version_major": 2,
       "version_minor": 0
      },
      "text/plain": [
       "  0%|          | 0/22 [00:00<?, ?ba/s]"
      ]
     },
     "metadata": {},
     "output_type": "display_data"
    },
    {
     "data": {
      "application/vnd.jupyter.widget-view+json": {
       "model_id": "90b6193197384f859733f5fb9e358ea8",
       "version_major": 2,
       "version_minor": 0
      },
      "text/plain": [
       "  0%|          | 0/3 [00:00<?, ?ba/s]"
      ]
     },
     "metadata": {},
     "output_type": "display_data"
    },
    {
     "data": {
      "application/vnd.jupyter.widget-view+json": {
       "model_id": "49cdbfd547dd4e629570f48d39de927b",
       "version_major": 2,
       "version_minor": 0
      },
      "text/plain": [
       "  0%|          | 0/3 [00:00<?, ?ba/s]"
      ]
     },
     "metadata": {},
     "output_type": "display_data"
    },
    {
     "data": {
      "text/plain": [
       "DatasetDict({\n",
       "    train: Dataset({\n",
       "        features: ['headline', 'label', 'input_ids', 'attention_mask'],\n",
       "        num_rows: 21281\n",
       "    })\n",
       "    test: Dataset({\n",
       "        features: ['headline', 'label', 'input_ids', 'attention_mask'],\n",
       "        num_rows: 2661\n",
       "    })\n",
       "    valid: Dataset({\n",
       "        features: ['headline', 'label', 'input_ids', 'attention_mask'],\n",
       "        num_rows: 2660\n",
       "    })\n",
       "})"
      ]
     },
     "execution_count": 5,
     "metadata": {},
     "output_type": "execute_result"
    }
   ],
   "source": [
    "def tokenize(batch):\n",
    "  return tokenizer(batch[\"headline\"], truncation=True,max_length=512)\n",
    "\n",
    "tokenized_dataset = data.map(tokenize, batched=True)\n",
    "tokenized_dataset"
   ]
  },
  {
   "cell_type": "code",
   "execution_count": 6,
   "id": "7063b65c",
   "metadata": {},
   "outputs": [],
   "source": [
    "## formate for classifciation \n",
    "tokenized_dataset.set_format(\"torch\",columns=[\"input_ids\", \"attention_mask\", \"label\"])\n",
    "data_collator = DataCollatorWithPadding(tokenizer=tokenizer)"
   ]
  },
  {
   "cell_type": "code",
   "execution_count": 7,
   "id": "b89a23b6",
   "metadata": {},
   "outputs": [
    {
     "data": {
      "text/plain": [
       "{'label': tensor([0, 0]),\n",
       " 'input_ids': tensor([[    0,   627,    78,  1368,   947,   119,  3023, 17832, 17894,   637,\n",
       "           3156,    32,  1747,   259,     2],\n",
       "         [    0, 30975,  9709,  8253, 21000,     6,   151, 17029,     9,   514,\n",
       "              7, 12280,  9932,  1680,     2]]),\n",
       " 'attention_mask': tensor([[1, 1, 1, 1, 1, 1, 1, 1, 1, 1, 1, 1, 1, 1, 1],\n",
       "         [1, 1, 1, 1, 1, 1, 1, 1, 1, 1, 1, 1, 1, 1, 1]])}"
      ]
     },
     "execution_count": 7,
     "metadata": {},
     "output_type": "execute_result"
    }
   ],
   "source": [
    "test_data = tokenized_dataset['train'][0:2]\n",
    "test_data"
   ]
  },
  {
   "cell_type": "code",
   "execution_count": 8,
   "id": "48ffae29",
   "metadata": {},
   "outputs": [
    {
     "name": "stderr",
     "output_type": "stream",
     "text": [
      "Some weights of the model checkpoint at cardiffnlp/twitter-roberta-base-emotion were not used when initializing RobertaModel: ['classifier.out_proj.bias', 'classifier.dense.weight', 'classifier.dense.bias', 'classifier.out_proj.weight']\n",
      "- This IS expected if you are initializing RobertaModel from the checkpoint of a model trained on another task or with another architecture (e.g. initializing a BertForSequenceClassification model from a BertForPreTraining model).\n",
      "- This IS NOT expected if you are initializing RobertaModel from the checkpoint of a model that you expect to be exactly identical (initializing a BertForSequenceClassification model from a BertForSequenceClassification model).\n",
      "Some weights of RobertaModel were not initialized from the model checkpoint at cardiffnlp/twitter-roberta-base-emotion and are newly initialized: ['roberta.pooler.dense.weight', 'roberta.pooler.dense.bias']\n",
      "You should probably TRAIN this model on a down-stream task to be able to use it for predictions and inference.\n"
     ]
    },
    {
     "data": {
      "text/plain": [
       "odict_keys(['last_hidden_state', 'pooler_output', 'hidden_states', 'attentions'])"
      ]
     },
     "execution_count": 8,
     "metadata": {},
     "output_type": "execute_result"
    }
   ],
   "source": [
    "model = AutoModel.from_pretrained(checkpoint,config=AutoConfig.from_pretrained(checkpoint, \n",
    "                                                                               output_attentions=True,\n",
    "                                                                               output_hidden_states=True))\n",
    "model_output = model(input_ids=test_data['input_ids'],attention_mask = test_data['attention_mask'])\n",
    "model_output.keys()"
   ]
  },
  {
   "cell_type": "code",
   "execution_count": 9,
   "id": "2e52f0da",
   "metadata": {},
   "outputs": [
    {
     "name": "stdout",
     "output_type": "stream",
     "text": [
      "torch.Size([2, 15, 768])\n",
      "torch.Size([2, 768])\n",
      "cls token size = torch.Size([2, 768])\n"
     ]
    }
   ],
   "source": [
    "print(model_output['last_hidden_state'].size())\n",
    "print(model_output['pooler_output'].size())\n",
    "print('cls token size = {}'.format(model_output['last_hidden_state'][:,0,:].size()))"
   ]
  },
  {
   "cell_type": "markdown",
   "id": "25cc4c8f",
   "metadata": {},
   "source": [
    "### Set up customized model layer"
   ]
  },
  {
   "cell_type": "code",
   "execution_count": 10,
   "id": "70c23379",
   "metadata": {},
   "outputs": [],
   "source": [
    "class CustomModel(nn.Module):\n",
    "  def __init__(self,checkpoint,num_labels): \n",
    "    super(CustomModel,self).__init__() \n",
    "    self.num_labels = num_labels \n",
    "\n",
    "    #Load Model with given checkpoint and extract its body\n",
    "    self.model = model = AutoModel.from_pretrained(checkpoint,\n",
    "                                                   config=AutoConfig.from_pretrained(checkpoint, \n",
    "                                                                                     output_attentions=True,\n",
    "                                                                                     output_hidden_states=True))\n",
    "    self.dropout = nn.Dropout(0.1) \n",
    "    self.classifier = nn.Linear(768,num_labels) # load and initialize weights\n",
    "\n",
    "  def forward(self, input_ids=None, attention_mask=None,labels=None):\n",
    "    #Extract outputs from the body\n",
    "    outputs = self.model(input_ids=input_ids, attention_mask=attention_mask)\n",
    "\n",
    "    #Add custom layers\n",
    "    ## you can either use pooled output; it is more common for classification tasks\n",
    "    logits = self.classifier(outputs[1])#.view(-1,768))  1 is pooled output \n",
    "    \n",
    "#     ## or use CLS token \n",
    "#     sequence_output = self.dropout(outputs[0]) #outputs[0]=last hidden state\n",
    "#     logits = self.classifier(sequence_output[:,0,:].view(-1,768)) # calculate losses\n",
    "    \n",
    "    loss = None\n",
    "    if labels is not None:\n",
    "      loss_fct = nn.CrossEntropyLoss()\n",
    "      loss = loss_fct(logits.view(-1, self.num_labels), labels.view(-1))\n",
    "    \n",
    "    return TokenClassifierOutput(loss=loss, logits=logits)#, hidden_states=outputs.hidden_states,attentions=outputs.attentions)\n",
    "## to play well with trainer, out put must not have a token level dimension \n",
    "## https://discuss.huggingface.co/t/passing-the-tokenizer-to-trainer-for-bucketing-does-not-work-for-evaluation-set/1687/3\n",
    "\n",
    "\n"
   ]
  },
  {
   "cell_type": "code",
   "execution_count": 11,
   "id": "f600d608",
   "metadata": {},
   "outputs": [
    {
     "name": "stderr",
     "output_type": "stream",
     "text": [
      "Some weights of the model checkpoint at cardiffnlp/twitter-roberta-base-emotion were not used when initializing RobertaModel: ['classifier.out_proj.bias', 'classifier.dense.weight', 'classifier.dense.bias', 'classifier.out_proj.weight']\n",
      "- This IS expected if you are initializing RobertaModel from the checkpoint of a model trained on another task or with another architecture (e.g. initializing a BertForSequenceClassification model from a BertForPreTraining model).\n",
      "- This IS NOT expected if you are initializing RobertaModel from the checkpoint of a model that you expect to be exactly identical (initializing a BertForSequenceClassification model from a BertForSequenceClassification model).\n",
      "Some weights of RobertaModel were not initialized from the model checkpoint at cardiffnlp/twitter-roberta-base-emotion and are newly initialized: ['roberta.pooler.dense.weight', 'roberta.pooler.dense.bias']\n",
      "You should probably TRAIN this model on a down-stream task to be able to use it for predictions and inference.\n"
     ]
    }
   ],
   "source": [
    "model=CustomModel(checkpoint=checkpoint,num_labels=2)"
   ]
  },
  {
   "cell_type": "code",
   "execution_count": 15,
   "id": "4e22e11a",
   "metadata": {},
   "outputs": [],
   "source": [
    "training_args = TrainingArguments(output_dir=os.path.join(config.data_folder,\"test_trainer\"),\n",
    "#                                    evaluation_strategy=\"epoch\",\n",
    "                                   evaluation_strategy=\"steps\",\n",
    "                                   eval_steps=500,\n",
    "                                   logging_steps =500,          ## show eval results\n",
    "                                   learning_rate=5e-5,\n",
    "                                   per_device_train_batch_size=8,\n",
    "                                   per_device_eval_batch_size=8,\n",
    "                                   num_train_epochs=3,\n",
    "                                   weight_decay=0.4, ## wd regularizor, usually a very small number as additional weight penality\n",
    "                                   save_steps=500,\n",
    "                                   load_best_model_at_end=True, ## only save and load best model\n",
    "                                   save_total_limit = 1,        ## only save one checkpoint\n",
    "                                   seed=42)  \n",
    "## load evaluation matric\n",
    "metric = load_metric(\"accuracy\")\n",
    "## define a evaluation function : here it is a simple accuracy \n",
    "def compute_metrics(eval_pred):\n",
    "    logits, labels = eval_pred\n",
    "    predictions = np.argmax(logits, axis=-1)\n",
    "    return metric.compute(predictions=predictions, references=labels)"
   ]
  },
  {
   "cell_type": "code",
   "execution_count": null,
   "id": "0485c1f6",
   "metadata": {},
   "outputs": [],
   "source": [
    "trainer = Trainer(\n",
    "    model=model,\n",
    "    args=training_args,\n",
    "    train_dataset=tokenized_dataset['train'],\n",
    "    eval_dataset=tokenized_dataset['test'],\n",
    "    compute_metrics=compute_metrics,\n",
    "    data_collator=data_collator,\n",
    "    tokenizer=tokenizer,\n",
    ")\n",
    "\n",
    "trainer.train()"
   ]
  },
  {
   "cell_type": "code",
   "execution_count": null,
   "id": "34b081dd",
   "metadata": {},
   "outputs": [],
   "source": []
  }
 ],
 "metadata": {
  "kernelspec": {
   "display_name": "gpt3",
   "language": "python",
   "name": "gpt3"
  },
  "language_info": {
   "codemirror_mode": {
    "name": "ipython",
    "version": 3
   },
   "file_extension": ".py",
   "mimetype": "text/x-python",
   "name": "python",
   "nbconvert_exporter": "python",
   "pygments_lexer": "ipython3",
   "version": "3.8.12"
  }
 },
 "nbformat": 4,
 "nbformat_minor": 5
}
