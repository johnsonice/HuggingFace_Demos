{
 "cells": [
  {
   "cell_type": "markdown",
   "id": "cbc7bcf2",
   "metadata": {},
   "source": [
    "## Add simple customized layer on top of pretrained models"
   ]
  },
  {
   "cell_type": "markdown",
   "id": "4ff7c757",
   "metadata": {},
   "source": [
    "- we start with adding a simple classification layer - let's try use twitter emo data for base layer and train a sentiment classification layer \n",
    "- follow https://jovian.ai/rajbsangani/emotion-tuned-sarcasm\n",
    "- and follw : https://github.com/huggingface/transformers/blob/v4.20.1/src/transformers/models/bert/modeling_bert.py#L1510"
   ]
  },
  {
   "cell_type": "code",
   "execution_count": 1,
   "id": "2f2d7b67",
   "metadata": {},
   "outputs": [],
   "source": [
    "from datasets import load_dataset,Dataset,DatasetDict\n",
    "from transformers import DataCollatorWithPadding,AutoModelForSequenceClassification, Trainer, TrainingArguments,AutoTokenizer,AutoModel,AutoConfig\n",
    "from transformers.modeling_outputs import TokenClassifierOutput\n",
    "from datasets import load_metric\n",
    "import torch\n",
    "import torch.nn as nn\n",
    "import pandas as pd\n",
    "import config\n",
    "import numpy as np\n",
    "import os"
   ]
  },
  {
   "cell_type": "code",
   "execution_count": 2,
   "id": "e6f8aaa1",
   "metadata": {
    "scrolled": true
   },
   "outputs": [
    {
     "name": "stderr",
     "output_type": "stream",
     "text": [
      "Using custom data configuration default-c4cc714ae0f5b0ee\n",
      "Reusing dataset json (/home/chengyu/.cache/huggingface/datasets/json/default-c4cc714ae0f5b0ee/0.0.0/da492aad5680612e4028e7f6ddc04b1dfcec4b64db470ed7cc5f2bb265b9b6b5)\n"
     ]
    },
    {
     "data": {
      "application/vnd.jupyter.widget-view+json": {
       "model_id": "9deb67de563341929f4084116b33cdd3",
       "version_major": 2,
       "version_minor": 0
      },
      "text/plain": [
       "  0%|          | 0/1 [00:00<?, ?it/s]"
      ]
     },
     "metadata": {},
     "output_type": "display_data"
    },
    {
     "data": {
      "text/plain": [
       "DatasetDict({\n",
       "    train: Dataset({\n",
       "        features: ['headline', 'label'],\n",
       "        num_rows: 26709\n",
       "    })\n",
       "})"
      ]
     },
     "execution_count": 2,
     "metadata": {},
     "output_type": "execute_result"
    }
   ],
   "source": [
    "## Load data \n",
    "data=load_dataset(\"json\",data_files=\"/media/chengyu/Elements1/HuggingFace/Data/Sarcasm/Sarcasm_Headlines_Dataset.json\")\n",
    "data=data.rename_column(\"is_sarcastic\",\"label\")\n",
    "data=data.remove_columns(['article_link'])\n",
    "data"
   ]
  },
  {
   "cell_type": "code",
   "execution_count": 3,
   "id": "1db004ad",
   "metadata": {},
   "outputs": [
    {
     "data": {
      "text/plain": [
       "DatasetDict({\n",
       "    train: Dataset({\n",
       "        features: ['headline', 'label'],\n",
       "        num_rows: 21281\n",
       "    })\n",
       "    test: Dataset({\n",
       "        features: ['headline', 'label'],\n",
       "        num_rows: 2661\n",
       "    })\n",
       "    valid: Dataset({\n",
       "        features: ['headline', 'label'],\n",
       "        num_rows: 2660\n",
       "    })\n",
       "})"
      ]
     },
     "execution_count": 3,
     "metadata": {},
     "output_type": "execute_result"
    }
   ],
   "source": [
    "## Simple data processing\n",
    "data.set_format('pandas')\n",
    "data=data['train'][:]\n",
    "data.drop_duplicates(subset=['headline'],inplace=True)\n",
    "data=data.reset_index()[['headline','label']]\n",
    "data=Dataset.from_pandas(data)\n",
    "# 80% train, 20% test + validation\n",
    "train_testvalid = data.train_test_split(test_size=0.2,seed=15)\n",
    "# Split the 10% test + valid in half test, half valid\n",
    "test_valid = train_testvalid['test'].train_test_split(test_size=0.5,seed=15)\n",
    "# gather everyone if you want to have a single DatasetDict\n",
    "data = DatasetDict({\n",
    "    'train': train_testvalid['train'],\n",
    "    'test': test_valid['test'],\n",
    "    'valid': test_valid['train']})\n",
    "\n",
    "data"
   ]
  },
  {
   "cell_type": "markdown",
   "id": "89951211",
   "metadata": {},
   "source": [
    "- ### Load pretrained model"
   ]
  },
  {
   "cell_type": "code",
   "execution_count": 4,
   "id": "6b6748f5",
   "metadata": {},
   "outputs": [],
   "source": [
    "checkpoint = \"cardiffnlp/twitter-roberta-base-emotion\"\n",
    "tokenizer = AutoTokenizer.from_pretrained(checkpoint)\n",
    "tokenizer.model_max_len=512"
   ]
  },
  {
   "cell_type": "markdown",
   "id": "9deaffd7",
   "metadata": {},
   "source": [
    "- Tokenize Data"
   ]
  },
  {
   "cell_type": "code",
   "execution_count": 5,
   "id": "cdf60ec0",
   "metadata": {},
   "outputs": [
    {
     "name": "stderr",
     "output_type": "stream",
     "text": [
      "Parameter 'function'=<function tokenize at 0x7fb97a83a670> of the transform datasets.arrow_dataset.Dataset._map_single couldn't be hashed properly, a random hash was used instead. Make sure your transforms and parameters are serializable with pickle or dill for the dataset fingerprinting and caching to work. If you reuse this transform, the caching mechanism will consider it to be different from the previous calls and recompute everything. This warning is only showed once. Subsequent hashing failures won't be showed.\n"
     ]
    },
    {
     "data": {
      "application/vnd.jupyter.widget-view+json": {
       "model_id": "9b3463e08cb44e158c7e046b0fd77720",
       "version_major": 2,
       "version_minor": 0
      },
      "text/plain": [
       "  0%|          | 0/22 [00:00<?, ?ba/s]"
      ]
     },
     "metadata": {},
     "output_type": "display_data"
    },
    {
     "data": {
      "application/vnd.jupyter.widget-view+json": {
       "model_id": "3869798b059c49ab9685fbda39016847",
       "version_major": 2,
       "version_minor": 0
      },
      "text/plain": [
       "  0%|          | 0/3 [00:00<?, ?ba/s]"
      ]
     },
     "metadata": {},
     "output_type": "display_data"
    },
    {
     "data": {
      "application/vnd.jupyter.widget-view+json": {
       "model_id": "99f3fb2ec6a14eb498ade8cba3e239cf",
       "version_major": 2,
       "version_minor": 0
      },
      "text/plain": [
       "  0%|          | 0/3 [00:00<?, ?ba/s]"
      ]
     },
     "metadata": {},
     "output_type": "display_data"
    },
    {
     "data": {
      "text/plain": [
       "DatasetDict({\n",
       "    train: Dataset({\n",
       "        features: ['headline', 'label', 'input_ids', 'attention_mask'],\n",
       "        num_rows: 21281\n",
       "    })\n",
       "    test: Dataset({\n",
       "        features: ['headline', 'label', 'input_ids', 'attention_mask'],\n",
       "        num_rows: 2661\n",
       "    })\n",
       "    valid: Dataset({\n",
       "        features: ['headline', 'label', 'input_ids', 'attention_mask'],\n",
       "        num_rows: 2660\n",
       "    })\n",
       "})"
      ]
     },
     "execution_count": 5,
     "metadata": {},
     "output_type": "execute_result"
    }
   ],
   "source": [
    "def tokenize(batch):\n",
    "  return tokenizer(batch[\"headline\"], truncation=True,max_length=512)\n",
    "\n",
    "tokenized_dataset = data.map(tokenize, batched=True)\n",
    "tokenized_dataset"
   ]
  },
  {
   "cell_type": "code",
   "execution_count": 6,
   "id": "7063b65c",
   "metadata": {},
   "outputs": [],
   "source": [
    "## formate for classifciation \n",
    "tokenized_dataset.set_format(\"torch\",columns=[\"input_ids\", \"attention_mask\", \"label\"])\n",
    "data_collator = DataCollatorWithPadding(tokenizer=tokenizer)"
   ]
  },
  {
   "cell_type": "code",
   "execution_count": 7,
   "id": "b89a23b6",
   "metadata": {},
   "outputs": [
    {
     "data": {
      "text/plain": [
       "{'label': tensor([0, 0]),\n",
       " 'input_ids': tensor([[    0,   627,    78,  1368,   947,   119,  3023, 17832, 17894,   637,\n",
       "           3156,    32,  1747,   259,     2],\n",
       "         [    0, 30975,  9709,  8253, 21000,     6,   151, 17029,     9,   514,\n",
       "              7, 12280,  9932,  1680,     2]]),\n",
       " 'attention_mask': tensor([[1, 1, 1, 1, 1, 1, 1, 1, 1, 1, 1, 1, 1, 1, 1],\n",
       "         [1, 1, 1, 1, 1, 1, 1, 1, 1, 1, 1, 1, 1, 1, 1]])}"
      ]
     },
     "execution_count": 7,
     "metadata": {},
     "output_type": "execute_result"
    }
   ],
   "source": [
    "test_data = tokenized_dataset['train'][0:2]\n",
    "test_data"
   ]
  },
  {
   "cell_type": "code",
   "execution_count": 8,
   "id": "48ffae29",
   "metadata": {},
   "outputs": [
    {
     "name": "stderr",
     "output_type": "stream",
     "text": [
      "Some weights of the model checkpoint at cardiffnlp/twitter-roberta-base-emotion were not used when initializing RobertaModel: ['classifier.dense.bias', 'classifier.out_proj.bias', 'classifier.out_proj.weight', 'classifier.dense.weight']\n",
      "- This IS expected if you are initializing RobertaModel from the checkpoint of a model trained on another task or with another architecture (e.g. initializing a BertForSequenceClassification model from a BertForPreTraining model).\n",
      "- This IS NOT expected if you are initializing RobertaModel from the checkpoint of a model that you expect to be exactly identical (initializing a BertForSequenceClassification model from a BertForSequenceClassification model).\n",
      "Some weights of RobertaModel were not initialized from the model checkpoint at cardiffnlp/twitter-roberta-base-emotion and are newly initialized: ['roberta.pooler.dense.weight', 'roberta.pooler.dense.bias']\n",
      "You should probably TRAIN this model on a down-stream task to be able to use it for predictions and inference.\n"
     ]
    },
    {
     "data": {
      "text/plain": [
       "odict_keys(['last_hidden_state', 'pooler_output', 'hidden_states', 'attentions'])"
      ]
     },
     "execution_count": 8,
     "metadata": {},
     "output_type": "execute_result"
    }
   ],
   "source": [
    "model = AutoModel.from_pretrained(checkpoint,config=AutoConfig.from_pretrained(checkpoint, \n",
    "                                                                               output_attentions=True,\n",
    "                                                                               output_hidden_states=True))\n",
    "model_output = model(input_ids=test_data['input_ids'],attention_mask = test_data['attention_mask'])\n",
    "model_output.keys()"
   ]
  },
  {
   "cell_type": "code",
   "execution_count": 9,
   "id": "2e52f0da",
   "metadata": {},
   "outputs": [
    {
     "name": "stdout",
     "output_type": "stream",
     "text": [
      "torch.Size([2, 15, 768])\n",
      "torch.Size([2, 768])\n",
      "cls token size = torch.Size([2, 768])\n"
     ]
    }
   ],
   "source": [
    "print(model_output['last_hidden_state'].size())\n",
    "print(model_output['pooler_output'].size())\n",
    "print('cls token size = {}'.format(model_output['last_hidden_state'][:,0,:].size()))"
   ]
  },
  {
   "cell_type": "markdown",
   "id": "25cc4c8f",
   "metadata": {},
   "source": [
    "### Set up customized model layer"
   ]
  },
  {
   "cell_type": "code",
   "execution_count": 10,
   "id": "70c23379",
   "metadata": {},
   "outputs": [],
   "source": [
    "class CustomModel(nn.Module):\n",
    "  def __init__(self,checkpoint,num_labels): \n",
    "    super(CustomModel,self).__init__() \n",
    "    self.num_labels = num_labels \n",
    "\n",
    "    #Load Model with given checkpoint and extract its body\n",
    "    self.model = model = AutoModel.from_pretrained(checkpoint,\n",
    "                                                   config=AutoConfig.from_pretrained(checkpoint, \n",
    "                                                                                     output_attentions=True,\n",
    "                                                                                     output_hidden_states=True))\n",
    "    self.dropout = nn.Dropout(0.1) \n",
    "    self.classifier = nn.Linear(768,num_labels) # load and initialize weights\n",
    "\n",
    "  def forward(self, input_ids=None, attention_mask=None,labels=None):\n",
    "    #Extract outputs from the body\n",
    "    outputs = self.model(input_ids=input_ids, attention_mask=attention_mask)\n",
    "\n",
    "    #Add custom layers\n",
    "    ## you can either use pooled output; it is more common for classification tasks\n",
    "    logits = self.classifier(outputs[1])#.view(-1,768))  1 is pooled output \n",
    "    \n",
    "#     ## or use CLS token \n",
    "#     sequence_output = self.dropout(outputs[0]) #outputs[0]=last hidden state\n",
    "#     logits = self.classifier(sequence_output[:,0,:].view(-1,768)) # calculate losses\n",
    "    \n",
    "    loss = None\n",
    "    if labels is not None:\n",
    "      loss_fct = nn.CrossEntropyLoss()\n",
    "      loss = loss_fct(logits.view(-1, self.num_labels), labels.view(-1))\n",
    "    \n",
    "    return TokenClassifierOutput(loss=loss, logits=logits)#, hidden_states=outputs.hidden_states,attentions=outputs.attentions)\n",
    "## to play well with trainer, out put must not have a token level dimension \n",
    "## https://discuss.huggingface.co/t/passing-the-tokenizer-to-trainer-for-bucketing-does-not-work-for-evaluation-set/1687/3\n",
    "\n",
    "\n"
   ]
  },
  {
   "cell_type": "code",
   "execution_count": 11,
   "id": "f600d608",
   "metadata": {},
   "outputs": [
    {
     "name": "stderr",
     "output_type": "stream",
     "text": [
      "Some weights of the model checkpoint at cardiffnlp/twitter-roberta-base-emotion were not used when initializing RobertaModel: ['classifier.dense.bias', 'classifier.out_proj.bias', 'classifier.out_proj.weight', 'classifier.dense.weight']\n",
      "- This IS expected if you are initializing RobertaModel from the checkpoint of a model trained on another task or with another architecture (e.g. initializing a BertForSequenceClassification model from a BertForPreTraining model).\n",
      "- This IS NOT expected if you are initializing RobertaModel from the checkpoint of a model that you expect to be exactly identical (initializing a BertForSequenceClassification model from a BertForSequenceClassification model).\n",
      "Some weights of RobertaModel were not initialized from the model checkpoint at cardiffnlp/twitter-roberta-base-emotion and are newly initialized: ['roberta.pooler.dense.weight', 'roberta.pooler.dense.bias']\n",
      "You should probably TRAIN this model on a down-stream task to be able to use it for predictions and inference.\n"
     ]
    }
   ],
   "source": [
    "model=CustomModel(checkpoint=checkpoint,num_labels=2)"
   ]
  },
  {
   "cell_type": "code",
   "execution_count": 12,
   "id": "4e22e11a",
   "metadata": {},
   "outputs": [],
   "source": [
    "training_args = TrainingArguments(output_dir=os.path.join(config.data_folder,\"test_trainer\"),\n",
    "#                                    evaluation_strategy=\"epoch\",\n",
    "                                   evaluation_strategy=\"steps\",\n",
    "                                   eval_steps=500,\n",
    "                                   logging_steps =500,          ## show eval results\n",
    "                                   learning_rate=5e-5,\n",
    "                                   per_device_train_batch_size=8,\n",
    "                                   per_device_eval_batch_size=8,\n",
    "                                   num_train_epochs=5,\n",
    "                                   weight_decay=0.4, ## wd regularizor, usually a very small number as additional weight penality\n",
    "                                   save_steps=500,\n",
    "                                   load_best_model_at_end=True, ## only save and load best model\n",
    "                                   save_total_limit = 1,        ## only save one checkpoint\n",
    "                                   seed=42)  \n",
    "## load evaluation matric\n",
    "metric = load_metric(\"accuracy\")\n",
    "## define a evaluation function : here it is a simple accuracy \n",
    "def compute_metrics(eval_pred):\n",
    "    logits, labels = eval_pred\n",
    "    predictions = np.argmax(logits, axis=-1)\n",
    "    return metric.compute(predictions=predictions, references=labels)"
   ]
  },
  {
   "cell_type": "code",
   "execution_count": 13,
   "id": "0485c1f6",
   "metadata": {},
   "outputs": [
    {
     "name": "stdout",
     "output_type": "stream",
     "text": [
      "huggingface/tokenizers: The current process just got forked, after parallelism has already been used. Disabling parallelism to avoid deadlocks...\n",
      "To disable this warning, you can either:\n",
      "\t- Avoid using `tokenizers` before the fork if possible\n",
      "\t- Explicitly set the environment variable TOKENIZERS_PARALLELISM=(true | false)\n",
      "huggingface/tokenizers: The current process just got forked, after parallelism has already been used. Disabling parallelism to avoid deadlocks...\n",
      "To disable this warning, you can either:\n",
      "\t- Avoid using `tokenizers` before the fork if possible\n",
      "\t- Explicitly set the environment variable TOKENIZERS_PARALLELISM=(true | false)\n",
      "huggingface/tokenizers: The current process just got forked, after parallelism has already been used. Disabling parallelism to avoid deadlocks...\n",
      "To disable this warning, you can either:\n",
      "\t- Avoid using `tokenizers` before the fork if possible\n",
      "\t- Explicitly set the environment variable TOKENIZERS_PARALLELISM=(true | false)\n"
     ]
    },
    {
     "name": "stderr",
     "output_type": "stream",
     "text": [
      "The following columns in the training set don't have a corresponding argument in `CustomModel.forward` and have been ignored: headline. If headline are not expected by `CustomModel.forward`,  you can safely ignore this message.\n",
      "/home/chengyu/anaconda3/envs/gpt3/lib/python3.8/site-packages/transformers/optimization.py:306: FutureWarning: This implementation of AdamW is deprecated and will be removed in a future version. Use the PyTorch implementation torch.optim.AdamW instead, or set `no_deprecation_warning=True` to disable this warning\n",
      "  warnings.warn(\n",
      "***** Running training *****\n",
      "  Num examples = 21281\n",
      "  Num Epochs = 5\n",
      "  Instantaneous batch size per device = 8\n",
      "  Total train batch size (w. parallel, distributed & accumulation) = 16\n",
      "  Gradient Accumulation steps = 1\n",
      "  Total optimization steps = 6655\n",
      "Automatic Weights & Biases logging enabled, to disable set os.environ[\"WANDB_DISABLED\"] = \"true\"\n",
      "\u001b[34m\u001b[1mwandb\u001b[0m: Currently logged in as: \u001b[33mchuang16\u001b[0m (use `wandb login --relogin` to force relogin)\n"
     ]
    },
    {
     "name": "stdout",
     "output_type": "stream",
     "text": [
      "huggingface/tokenizers: The current process just got forked, after parallelism has already been used. Disabling parallelism to avoid deadlocks...\n",
      "To disable this warning, you can either:\n",
      "\t- Avoid using `tokenizers` before the fork if possible\n",
      "\t- Explicitly set the environment variable TOKENIZERS_PARALLELISM=(true | false)\n",
      "huggingface/tokenizers: The current process just got forked, after parallelism has already been used. Disabling parallelism to avoid deadlocks...\n",
      "To disable this warning, you can either:\n",
      "\t- Avoid using `tokenizers` before the fork if possible\n",
      "\t- Explicitly set the environment variable TOKENIZERS_PARALLELISM=(true | false)\n",
      "huggingface/tokenizers: The current process just got forked, after parallelism has already been used. Disabling parallelism to avoid deadlocks...\n",
      "To disable this warning, you can either:\n",
      "\t- Avoid using `tokenizers` before the fork if possible\n",
      "\t- Explicitly set the environment variable TOKENIZERS_PARALLELISM=(true | false)\n"
     ]
    },
    {
     "data": {
      "text/html": [
       "wandb version 0.12.21 is available!  To upgrade, please run:\n",
       " $ pip install wandb --upgrade"
      ],
      "text/plain": [
       "<IPython.core.display.HTML object>"
      ]
     },
     "metadata": {},
     "output_type": "display_data"
    },
    {
     "data": {
      "text/html": [
       "Tracking run with wandb version 0.12.11"
      ],
      "text/plain": [
       "<IPython.core.display.HTML object>"
      ]
     },
     "metadata": {},
     "output_type": "display_data"
    },
    {
     "data": {
      "text/html": [
       "Run data is saved locally in <code>/home/chengyu/Dev/HuggingFace_Demos/notebooks/wandb/run-20220711_000055-2ogng4of</code>"
      ],
      "text/plain": [
       "<IPython.core.display.HTML object>"
      ]
     },
     "metadata": {},
     "output_type": "display_data"
    },
    {
     "data": {
      "text/html": [
       "Syncing run <strong><a href=\"https://wandb.ai/chuang16/huggingface/runs/2ogng4of\" target=\"_blank\">/media/chengyu/Elements1/HuggingFace/test_trainer</a></strong> to <a href=\"https://wandb.ai/chuang16/huggingface\" target=\"_blank\">Weights & Biases</a> (<a href=\"https://wandb.me/run\" target=\"_blank\">docs</a>)<br/>"
      ],
      "text/plain": [
       "<IPython.core.display.HTML object>"
      ]
     },
     "metadata": {},
     "output_type": "display_data"
    },
    {
     "name": "stderr",
     "output_type": "stream",
     "text": [
      "/home/chengyu/anaconda3/envs/gpt3/lib/python3.8/site-packages/torch/nn/parallel/_functions.py:64: UserWarning: Was asked to gather along dimension 0, but all input tensors were scalars; will instead unsqueeze and return a vector.\n",
      "  warnings.warn('Was asked to gather along dimension 0, but all '\n"
     ]
    },
    {
     "data": {
      "text/html": [
       "\n",
       "    <div>\n",
       "      \n",
       "      <progress value='6655' max='6655' style='width:300px; height:20px; vertical-align: middle;'></progress>\n",
       "      [6655/6655 40:08, Epoch 5/5]\n",
       "    </div>\n",
       "    <table border=\"1\" class=\"dataframe\">\n",
       "  <thead>\n",
       " <tr style=\"text-align: left;\">\n",
       "      <th>Step</th>\n",
       "      <th>Training Loss</th>\n",
       "      <th>Validation Loss</th>\n",
       "      <th>Accuracy</th>\n",
       "    </tr>\n",
       "  </thead>\n",
       "  <tbody>\n",
       "    <tr>\n",
       "      <td>500</td>\n",
       "      <td>0.340700</td>\n",
       "      <td>0.409014</td>\n",
       "      <td>0.902292</td>\n",
       "    </tr>\n",
       "    <tr>\n",
       "      <td>1000</td>\n",
       "      <td>0.287900</td>\n",
       "      <td>0.201220</td>\n",
       "      <td>0.926343</td>\n",
       "    </tr>\n",
       "    <tr>\n",
       "      <td>1500</td>\n",
       "      <td>0.215200</td>\n",
       "      <td>0.305983</td>\n",
       "      <td>0.918452</td>\n",
       "    </tr>\n",
       "    <tr>\n",
       "      <td>2000</td>\n",
       "      <td>0.165900</td>\n",
       "      <td>0.219458</td>\n",
       "      <td>0.924840</td>\n",
       "    </tr>\n",
       "    <tr>\n",
       "      <td>2500</td>\n",
       "      <td>0.160400</td>\n",
       "      <td>0.350654</td>\n",
       "      <td>0.924840</td>\n",
       "    </tr>\n",
       "    <tr>\n",
       "      <td>3000</td>\n",
       "      <td>0.099600</td>\n",
       "      <td>0.405315</td>\n",
       "      <td>0.922585</td>\n",
       "    </tr>\n",
       "    <tr>\n",
       "      <td>3500</td>\n",
       "      <td>0.090400</td>\n",
       "      <td>0.339696</td>\n",
       "      <td>0.919579</td>\n",
       "    </tr>\n",
       "    <tr>\n",
       "      <td>4000</td>\n",
       "      <td>0.071700</td>\n",
       "      <td>0.333219</td>\n",
       "      <td>0.937242</td>\n",
       "    </tr>\n",
       "    <tr>\n",
       "      <td>4500</td>\n",
       "      <td>0.041700</td>\n",
       "      <td>0.344398</td>\n",
       "      <td>0.933484</td>\n",
       "    </tr>\n",
       "    <tr>\n",
       "      <td>5000</td>\n",
       "      <td>0.033200</td>\n",
       "      <td>0.370330</td>\n",
       "      <td>0.936866</td>\n",
       "    </tr>\n",
       "    <tr>\n",
       "      <td>5500</td>\n",
       "      <td>0.026200</td>\n",
       "      <td>0.441262</td>\n",
       "      <td>0.925968</td>\n",
       "    </tr>\n",
       "    <tr>\n",
       "      <td>6000</td>\n",
       "      <td>0.014400</td>\n",
       "      <td>0.461658</td>\n",
       "      <td>0.931980</td>\n",
       "    </tr>\n",
       "    <tr>\n",
       "      <td>6500</td>\n",
       "      <td>0.015000</td>\n",
       "      <td>0.407468</td>\n",
       "      <td>0.937617</td>\n",
       "    </tr>\n",
       "  </tbody>\n",
       "</table><p>"
      ],
      "text/plain": [
       "<IPython.core.display.HTML object>"
      ]
     },
     "metadata": {},
     "output_type": "display_data"
    },
    {
     "name": "stderr",
     "output_type": "stream",
     "text": [
      "The following columns in the evaluation set don't have a corresponding argument in `CustomModel.forward` and have been ignored: headline. If headline are not expected by `CustomModel.forward`,  you can safely ignore this message.\n",
      "***** Running Evaluation *****\n",
      "  Num examples = 2661\n",
      "  Batch size = 16\n",
      "Saving model checkpoint to /media/chengyu/Elements1/HuggingFace/test_trainer/checkpoint-500\n",
      "Trainer.model is not a `PreTrainedModel`, only saving its state dict.\n",
      "tokenizer config file saved in /media/chengyu/Elements1/HuggingFace/test_trainer/checkpoint-500/tokenizer_config.json\n",
      "Special tokens file saved in /media/chengyu/Elements1/HuggingFace/test_trainer/checkpoint-500/special_tokens_map.json\n",
      "Deleting older checkpoint [/media/chengyu/Elements1/HuggingFace/test_trainer/checkpoint-1000] due to args.save_total_limit\n",
      "Deleting older checkpoint [/media/chengyu/Elements1/HuggingFace/test_trainer/checkpoint-3500] due to args.save_total_limit\n",
      "/home/chengyu/anaconda3/envs/gpt3/lib/python3.8/site-packages/torch/nn/parallel/_functions.py:64: UserWarning: Was asked to gather along dimension 0, but all input tensors were scalars; will instead unsqueeze and return a vector.\n",
      "  warnings.warn('Was asked to gather along dimension 0, but all '\n",
      "The following columns in the evaluation set don't have a corresponding argument in `CustomModel.forward` and have been ignored: headline. If headline are not expected by `CustomModel.forward`,  you can safely ignore this message.\n",
      "***** Running Evaluation *****\n",
      "  Num examples = 2661\n",
      "  Batch size = 16\n",
      "Saving model checkpoint to /media/chengyu/Elements1/HuggingFace/test_trainer/checkpoint-1000\n",
      "Trainer.model is not a `PreTrainedModel`, only saving its state dict.\n",
      "tokenizer config file saved in /media/chengyu/Elements1/HuggingFace/test_trainer/checkpoint-1000/tokenizer_config.json\n",
      "Special tokens file saved in /media/chengyu/Elements1/HuggingFace/test_trainer/checkpoint-1000/special_tokens_map.json\n",
      "Deleting older checkpoint [/media/chengyu/Elements1/HuggingFace/test_trainer/checkpoint-500] due to args.save_total_limit\n",
      "/home/chengyu/anaconda3/envs/gpt3/lib/python3.8/site-packages/torch/nn/parallel/_functions.py:64: UserWarning: Was asked to gather along dimension 0, but all input tensors were scalars; will instead unsqueeze and return a vector.\n",
      "  warnings.warn('Was asked to gather along dimension 0, but all '\n",
      "The following columns in the evaluation set don't have a corresponding argument in `CustomModel.forward` and have been ignored: headline. If headline are not expected by `CustomModel.forward`,  you can safely ignore this message.\n",
      "***** Running Evaluation *****\n",
      "  Num examples = 2661\n",
      "  Batch size = 16\n",
      "Saving model checkpoint to /media/chengyu/Elements1/HuggingFace/test_trainer/checkpoint-1500\n",
      "Trainer.model is not a `PreTrainedModel`, only saving its state dict.\n",
      "tokenizer config file saved in /media/chengyu/Elements1/HuggingFace/test_trainer/checkpoint-1500/tokenizer_config.json\n",
      "Special tokens file saved in /media/chengyu/Elements1/HuggingFace/test_trainer/checkpoint-1500/special_tokens_map.json\n",
      "/home/chengyu/anaconda3/envs/gpt3/lib/python3.8/site-packages/torch/nn/parallel/_functions.py:64: UserWarning: Was asked to gather along dimension 0, but all input tensors were scalars; will instead unsqueeze and return a vector.\n",
      "  warnings.warn('Was asked to gather along dimension 0, but all '\n",
      "The following columns in the evaluation set don't have a corresponding argument in `CustomModel.forward` and have been ignored: headline. If headline are not expected by `CustomModel.forward`,  you can safely ignore this message.\n",
      "***** Running Evaluation *****\n",
      "  Num examples = 2661\n",
      "  Batch size = 16\n",
      "Saving model checkpoint to /media/chengyu/Elements1/HuggingFace/test_trainer/checkpoint-2000\n",
      "Trainer.model is not a `PreTrainedModel`, only saving its state dict.\n",
      "tokenizer config file saved in /media/chengyu/Elements1/HuggingFace/test_trainer/checkpoint-2000/tokenizer_config.json\n",
      "Special tokens file saved in /media/chengyu/Elements1/HuggingFace/test_trainer/checkpoint-2000/special_tokens_map.json\n",
      "Deleting older checkpoint [/media/chengyu/Elements1/HuggingFace/test_trainer/checkpoint-1500] due to args.save_total_limit\n",
      "/home/chengyu/anaconda3/envs/gpt3/lib/python3.8/site-packages/torch/nn/parallel/_functions.py:64: UserWarning: Was asked to gather along dimension 0, but all input tensors were scalars; will instead unsqueeze and return a vector.\n",
      "  warnings.warn('Was asked to gather along dimension 0, but all '\n",
      "The following columns in the evaluation set don't have a corresponding argument in `CustomModel.forward` and have been ignored: headline. If headline are not expected by `CustomModel.forward`,  you can safely ignore this message.\n",
      "***** Running Evaluation *****\n",
      "  Num examples = 2661\n",
      "  Batch size = 16\n",
      "Saving model checkpoint to /media/chengyu/Elements1/HuggingFace/test_trainer/checkpoint-2500\n",
      "Trainer.model is not a `PreTrainedModel`, only saving its state dict.\n",
      "tokenizer config file saved in /media/chengyu/Elements1/HuggingFace/test_trainer/checkpoint-2500/tokenizer_config.json\n",
      "Special tokens file saved in /media/chengyu/Elements1/HuggingFace/test_trainer/checkpoint-2500/special_tokens_map.json\n",
      "Deleting older checkpoint [/media/chengyu/Elements1/HuggingFace/test_trainer/checkpoint-2000] due to args.save_total_limit\n",
      "/home/chengyu/anaconda3/envs/gpt3/lib/python3.8/site-packages/torch/nn/parallel/_functions.py:64: UserWarning: Was asked to gather along dimension 0, but all input tensors were scalars; will instead unsqueeze and return a vector.\n",
      "  warnings.warn('Was asked to gather along dimension 0, but all '\n",
      "The following columns in the evaluation set don't have a corresponding argument in `CustomModel.forward` and have been ignored: headline. If headline are not expected by `CustomModel.forward`,  you can safely ignore this message.\n",
      "***** Running Evaluation *****\n",
      "  Num examples = 2661\n",
      "  Batch size = 16\n",
      "Saving model checkpoint to /media/chengyu/Elements1/HuggingFace/test_trainer/checkpoint-3000\n",
      "Trainer.model is not a `PreTrainedModel`, only saving its state dict.\n",
      "tokenizer config file saved in /media/chengyu/Elements1/HuggingFace/test_trainer/checkpoint-3000/tokenizer_config.json\n",
      "Special tokens file saved in /media/chengyu/Elements1/HuggingFace/test_trainer/checkpoint-3000/special_tokens_map.json\n",
      "Deleting older checkpoint [/media/chengyu/Elements1/HuggingFace/test_trainer/checkpoint-2500] due to args.save_total_limit\n",
      "/home/chengyu/anaconda3/envs/gpt3/lib/python3.8/site-packages/torch/nn/parallel/_functions.py:64: UserWarning: Was asked to gather along dimension 0, but all input tensors were scalars; will instead unsqueeze and return a vector.\n",
      "  warnings.warn('Was asked to gather along dimension 0, but all '\n",
      "The following columns in the evaluation set don't have a corresponding argument in `CustomModel.forward` and have been ignored: headline. If headline are not expected by `CustomModel.forward`,  you can safely ignore this message.\n",
      "***** Running Evaluation *****\n",
      "  Num examples = 2661\n",
      "  Batch size = 16\n",
      "Saving model checkpoint to /media/chengyu/Elements1/HuggingFace/test_trainer/checkpoint-3500\n",
      "Trainer.model is not a `PreTrainedModel`, only saving its state dict.\n",
      "tokenizer config file saved in /media/chengyu/Elements1/HuggingFace/test_trainer/checkpoint-3500/tokenizer_config.json\n",
      "Special tokens file saved in /media/chengyu/Elements1/HuggingFace/test_trainer/checkpoint-3500/special_tokens_map.json\n",
      "Deleting older checkpoint [/media/chengyu/Elements1/HuggingFace/test_trainer/checkpoint-3000] due to args.save_total_limit\n",
      "/home/chengyu/anaconda3/envs/gpt3/lib/python3.8/site-packages/torch/nn/parallel/_functions.py:64: UserWarning: Was asked to gather along dimension 0, but all input tensors were scalars; will instead unsqueeze and return a vector.\n",
      "  warnings.warn('Was asked to gather along dimension 0, but all '\n",
      "The following columns in the evaluation set don't have a corresponding argument in `CustomModel.forward` and have been ignored: headline. If headline are not expected by `CustomModel.forward`,  you can safely ignore this message.\n",
      "***** Running Evaluation *****\n",
      "  Num examples = 2661\n",
      "  Batch size = 16\n",
      "Saving model checkpoint to /media/chengyu/Elements1/HuggingFace/test_trainer/checkpoint-4000\n"
     ]
    },
    {
     "name": "stderr",
     "output_type": "stream",
     "text": [
      "Trainer.model is not a `PreTrainedModel`, only saving its state dict.\n",
      "tokenizer config file saved in /media/chengyu/Elements1/HuggingFace/test_trainer/checkpoint-4000/tokenizer_config.json\n",
      "Special tokens file saved in /media/chengyu/Elements1/HuggingFace/test_trainer/checkpoint-4000/special_tokens_map.json\n",
      "Deleting older checkpoint [/media/chengyu/Elements1/HuggingFace/test_trainer/checkpoint-3500] due to args.save_total_limit\n",
      "/home/chengyu/anaconda3/envs/gpt3/lib/python3.8/site-packages/torch/nn/parallel/_functions.py:64: UserWarning: Was asked to gather along dimension 0, but all input tensors were scalars; will instead unsqueeze and return a vector.\n",
      "  warnings.warn('Was asked to gather along dimension 0, but all '\n",
      "The following columns in the evaluation set don't have a corresponding argument in `CustomModel.forward` and have been ignored: headline. If headline are not expected by `CustomModel.forward`,  you can safely ignore this message.\n",
      "***** Running Evaluation *****\n",
      "  Num examples = 2661\n",
      "  Batch size = 16\n",
      "Saving model checkpoint to /media/chengyu/Elements1/HuggingFace/test_trainer/checkpoint-4500\n",
      "Trainer.model is not a `PreTrainedModel`, only saving its state dict.\n",
      "tokenizer config file saved in /media/chengyu/Elements1/HuggingFace/test_trainer/checkpoint-4500/tokenizer_config.json\n",
      "Special tokens file saved in /media/chengyu/Elements1/HuggingFace/test_trainer/checkpoint-4500/special_tokens_map.json\n",
      "Deleting older checkpoint [/media/chengyu/Elements1/HuggingFace/test_trainer/checkpoint-4000] due to args.save_total_limit\n",
      "/home/chengyu/anaconda3/envs/gpt3/lib/python3.8/site-packages/torch/nn/parallel/_functions.py:64: UserWarning: Was asked to gather along dimension 0, but all input tensors were scalars; will instead unsqueeze and return a vector.\n",
      "  warnings.warn('Was asked to gather along dimension 0, but all '\n",
      "The following columns in the evaluation set don't have a corresponding argument in `CustomModel.forward` and have been ignored: headline. If headline are not expected by `CustomModel.forward`,  you can safely ignore this message.\n",
      "***** Running Evaluation *****\n",
      "  Num examples = 2661\n",
      "  Batch size = 16\n",
      "Saving model checkpoint to /media/chengyu/Elements1/HuggingFace/test_trainer/checkpoint-5000\n",
      "Trainer.model is not a `PreTrainedModel`, only saving its state dict.\n",
      "tokenizer config file saved in /media/chengyu/Elements1/HuggingFace/test_trainer/checkpoint-5000/tokenizer_config.json\n",
      "Special tokens file saved in /media/chengyu/Elements1/HuggingFace/test_trainer/checkpoint-5000/special_tokens_map.json\n",
      "Deleting older checkpoint [/media/chengyu/Elements1/HuggingFace/test_trainer/checkpoint-4500] due to args.save_total_limit\n",
      "/home/chengyu/anaconda3/envs/gpt3/lib/python3.8/site-packages/torch/nn/parallel/_functions.py:64: UserWarning: Was asked to gather along dimension 0, but all input tensors were scalars; will instead unsqueeze and return a vector.\n",
      "  warnings.warn('Was asked to gather along dimension 0, but all '\n",
      "The following columns in the evaluation set don't have a corresponding argument in `CustomModel.forward` and have been ignored: headline. If headline are not expected by `CustomModel.forward`,  you can safely ignore this message.\n",
      "***** Running Evaluation *****\n",
      "  Num examples = 2661\n",
      "  Batch size = 16\n",
      "Saving model checkpoint to /media/chengyu/Elements1/HuggingFace/test_trainer/checkpoint-5500\n",
      "Trainer.model is not a `PreTrainedModel`, only saving its state dict.\n",
      "tokenizer config file saved in /media/chengyu/Elements1/HuggingFace/test_trainer/checkpoint-5500/tokenizer_config.json\n",
      "Special tokens file saved in /media/chengyu/Elements1/HuggingFace/test_trainer/checkpoint-5500/special_tokens_map.json\n",
      "Deleting older checkpoint [/media/chengyu/Elements1/HuggingFace/test_trainer/checkpoint-5000] due to args.save_total_limit\n",
      "/home/chengyu/anaconda3/envs/gpt3/lib/python3.8/site-packages/torch/nn/parallel/_functions.py:64: UserWarning: Was asked to gather along dimension 0, but all input tensors were scalars; will instead unsqueeze and return a vector.\n",
      "  warnings.warn('Was asked to gather along dimension 0, but all '\n",
      "The following columns in the evaluation set don't have a corresponding argument in `CustomModel.forward` and have been ignored: headline. If headline are not expected by `CustomModel.forward`,  you can safely ignore this message.\n",
      "***** Running Evaluation *****\n",
      "  Num examples = 2661\n",
      "  Batch size = 16\n",
      "Saving model checkpoint to /media/chengyu/Elements1/HuggingFace/test_trainer/checkpoint-6000\n",
      "Trainer.model is not a `PreTrainedModel`, only saving its state dict.\n",
      "tokenizer config file saved in /media/chengyu/Elements1/HuggingFace/test_trainer/checkpoint-6000/tokenizer_config.json\n",
      "Special tokens file saved in /media/chengyu/Elements1/HuggingFace/test_trainer/checkpoint-6000/special_tokens_map.json\n",
      "Deleting older checkpoint [/media/chengyu/Elements1/HuggingFace/test_trainer/checkpoint-5500] due to args.save_total_limit\n",
      "/home/chengyu/anaconda3/envs/gpt3/lib/python3.8/site-packages/torch/nn/parallel/_functions.py:64: UserWarning: Was asked to gather along dimension 0, but all input tensors were scalars; will instead unsqueeze and return a vector.\n",
      "  warnings.warn('Was asked to gather along dimension 0, but all '\n",
      "The following columns in the evaluation set don't have a corresponding argument in `CustomModel.forward` and have been ignored: headline. If headline are not expected by `CustomModel.forward`,  you can safely ignore this message.\n",
      "***** Running Evaluation *****\n",
      "  Num examples = 2661\n",
      "  Batch size = 16\n",
      "Saving model checkpoint to /media/chengyu/Elements1/HuggingFace/test_trainer/checkpoint-6500\n",
      "Trainer.model is not a `PreTrainedModel`, only saving its state dict.\n",
      "tokenizer config file saved in /media/chengyu/Elements1/HuggingFace/test_trainer/checkpoint-6500/tokenizer_config.json\n",
      "Special tokens file saved in /media/chengyu/Elements1/HuggingFace/test_trainer/checkpoint-6500/special_tokens_map.json\n",
      "Deleting older checkpoint [/media/chengyu/Elements1/HuggingFace/test_trainer/checkpoint-6000] due to args.save_total_limit\n",
      "/home/chengyu/anaconda3/envs/gpt3/lib/python3.8/site-packages/torch/nn/parallel/_functions.py:64: UserWarning: Was asked to gather along dimension 0, but all input tensors were scalars; will instead unsqueeze and return a vector.\n",
      "  warnings.warn('Was asked to gather along dimension 0, but all '\n",
      "\n",
      "\n",
      "Training completed. Do not forget to share your model on huggingface.co/models =)\n",
      "\n",
      "\n",
      "Loading best model from /media/chengyu/Elements1/HuggingFace/test_trainer/checkpoint-1000 (score: 0.2012203186750412).\n"
     ]
    },
    {
     "data": {
      "text/plain": [
       "TrainOutput(global_step=6655, training_loss=0.11749523188457016, metrics={'train_runtime': 2415.1824, 'train_samples_per_second': 44.057, 'train_steps_per_second': 2.755, 'total_flos': 0.0, 'train_loss': 0.11749523188457016, 'epoch': 5.0})"
      ]
     },
     "execution_count": 13,
     "metadata": {},
     "output_type": "execute_result"
    }
   ],
   "source": [
    "trainer = Trainer(\n",
    "    model=model,\n",
    "    args=training_args,\n",
    "    train_dataset=tokenized_dataset['train'],\n",
    "    eval_dataset=tokenized_dataset['test'],\n",
    "    compute_metrics=compute_metrics,\n",
    "    data_collator=data_collator,\n",
    "    tokenizer=tokenizer,\n",
    ")\n",
    "\n",
    "trainer.train()"
   ]
  },
  {
   "cell_type": "code",
   "execution_count": null,
   "id": "ba249ea1",
   "metadata": {},
   "outputs": [],
   "source": []
  }
 ],
 "metadata": {
  "kernelspec": {
   "display_name": "gpt3",
   "language": "python",
   "name": "gpt3"
  },
  "language_info": {
   "codemirror_mode": {
    "name": "ipython",
    "version": 3
   },
   "file_extension": ".py",
   "mimetype": "text/x-python",
   "name": "python",
   "nbconvert_exporter": "python",
   "pygments_lexer": "ipython3",
   "version": "3.8.12"
  }
 },
 "nbformat": 4,
 "nbformat_minor": 5
}
