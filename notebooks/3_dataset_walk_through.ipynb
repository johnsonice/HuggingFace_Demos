{
 "cells": [
  {
   "cell_type": "markdown",
   "id": "92608137-3db4-450b-98b0-4ac4a2824359",
   "metadata": {},
   "source": [
    "## Dataset walk thorugh "
   ]
  },
  {
   "cell_type": "markdown",
   "id": "e01c3a87-67b4-4ba2-b2b6-8381afb69a11",
   "metadata": {},
   "source": [
    "Dataset Main Methods are:\n",
    "- datasets.list_datasets() to list the available datasets\n",
    "- datasets.load_dataset(dataset_name, **kwargs) to instantiate a dataset\n",
    "- datasets.list_metrics() to list the available metrics\n",
    "- datasets.load_metric(metric_name, **kwargs) to instantiate a metric"
   ]
  },
  {
   "cell_type": "code",
   "execution_count": 1,
   "id": "ffb6e506-f755-488f-88d3-5d1a49c1ebfd",
   "metadata": {},
   "outputs": [],
   "source": [
    "from datasets import Dataset,load_dataset,concatenate_datasets,load_from_disk\n",
    "import datasets\n",
    "import config\n",
    "import os\n",
    "import pandas as pd\n",
    "from sklearn.model_selection import train_test_split"
   ]
  },
  {
   "cell_type": "markdown",
   "id": "4a4393d3-45e5-40d3-ab51-35ea9557b68a",
   "metadata": {},
   "source": [
    "### Let's start with how to loading data in memory and from disk"
   ]
  },
  {
   "cell_type": "markdown",
   "id": "c47127b2-0b4f-40fa-a4a4-c21126b82854",
   "metadata": {},
   "source": [
    "- #### load a dictionary "
   ]
  },
  {
   "cell_type": "code",
   "execution_count": 3,
   "id": "ee976e86-714b-4efa-95c2-79fb26c2d0de",
   "metadata": {},
   "outputs": [
    {
     "name": "stdout",
     "output_type": "stream",
     "text": [
      "Dataset({\n",
      "    features: ['text', 'label'],\n",
      "    num_rows: 3\n",
      "})\n"
     ]
    }
   ],
   "source": [
    "my_dict = {\"text\": ['a','b','c'],\"label\":[0,1,0]}\n",
    "dataset = Dataset.from_dict(my_dict)\n",
    "print(dataset)"
   ]
  },
  {
   "cell_type": "markdown",
   "id": "c48aa401-ca46-4b6f-9dfb-441ac2754e52",
   "metadata": {},
   "source": [
    "- #### load a pandas df"
   ]
  },
  {
   "cell_type": "code",
   "execution_count": 31,
   "id": "02f65b0a-814b-4677-806d-4a3e80c0cd2a",
   "metadata": {},
   "outputs": [
    {
     "data": {
      "text/html": [
       "<div>\n",
       "<style scoped>\n",
       "    .dataframe tbody tr th:only-of-type {\n",
       "        vertical-align: middle;\n",
       "    }\n",
       "\n",
       "    .dataframe tbody tr th {\n",
       "        vertical-align: top;\n",
       "    }\n",
       "\n",
       "    .dataframe thead th {\n",
       "        text-align: right;\n",
       "    }\n",
       "</style>\n",
       "<table border=\"1\" class=\"dataframe\">\n",
       "  <thead>\n",
       "    <tr style=\"text-align: right;\">\n",
       "      <th></th>\n",
       "      <th>text</th>\n",
       "      <th>label</th>\n",
       "    </tr>\n",
       "  </thead>\n",
       "  <tbody>\n",
       "    <tr>\n",
       "      <th>0</th>\n",
       "      <td>yeah true i defiantly think though they are no...</td>\n",
       "      <td>1.0</td>\n",
       "    </tr>\n",
       "    <tr>\n",
       "      <th>1</th>\n",
       "      <td>2 that is really the issue carbon tax paris ac...</td>\n",
       "      <td>0.0</td>\n",
       "    </tr>\n",
       "  </tbody>\n",
       "</table>\n",
       "</div>"
      ],
      "text/plain": [
       "                                                text  label\n",
       "0  yeah true i defiantly think though they are no...    1.0\n",
       "1  2 that is really the issue carbon tax paris ac...    0.0"
      ]
     },
     "execution_count": 31,
     "metadata": {},
     "output_type": "execute_result"
    }
   ],
   "source": [
    "data_path = os.path.join(config.data_folder,'tweet','data','tweets.csv')\n",
    "df = pd.read_csv(data_path,encoding='utf8')\n",
    "df.head(2)"
   ]
  },
  {
   "cell_type": "code",
   "execution_count": 32,
   "id": "085b6817-dbd9-4a2e-bcfc-1f2c698fe639",
   "metadata": {},
   "outputs": [
    {
     "data": {
      "text/plain": [
       "Dataset({\n",
       "    features: ['text', 'label'],\n",
       "    num_rows: 400\n",
       "})"
      ]
     },
     "execution_count": 32,
     "metadata": {},
     "output_type": "execute_result"
    }
   ],
   "source": [
    "dataset = Dataset.from_pandas(df)\n",
    "dataset"
   ]
  },
  {
   "cell_type": "markdown",
   "id": "f1070459-4f2b-473d-8b68-81eee0b2e9c8",
   "metadata": {},
   "source": [
    "- #### load from local files  "
   ]
  },
  {
   "cell_type": "code",
   "execution_count": 38,
   "id": "d69531fa-f739-40ed-8ff8-247db8ba02d4",
   "metadata": {
    "scrolled": true
   },
   "outputs": [
    {
     "name": "stderr",
     "output_type": "stream",
     "text": [
      "Using custom data configuration default-f2c67655031212df\n"
     ]
    },
    {
     "name": "stdout",
     "output_type": "stream",
     "text": [
      "Downloading and preparing dataset json/default to /home/chengyu/.cache/huggingface/datasets/json/default-f2c67655031212df/0.0.0/ac0ca5f5289a6cf108e706efcf040422dbbfa8e658dee6a819f20d76bb84d26b...\n"
     ]
    },
    {
     "data": {
      "application/vnd.jupyter.widget-view+json": {
       "model_id": "0268255d242f47158286b695dd93e51b",
       "version_major": 2,
       "version_minor": 0
      },
      "text/plain": [
       "  0%|          | 0/1 [00:00<?, ?it/s]"
      ]
     },
     "metadata": {},
     "output_type": "display_data"
    },
    {
     "data": {
      "application/vnd.jupyter.widget-view+json": {
       "model_id": "e450989cab9c456fb7f4b579ba597f44",
       "version_major": 2,
       "version_minor": 0
      },
      "text/plain": [
       "  0%|          | 0/1 [00:00<?, ?it/s]"
      ]
     },
     "metadata": {},
     "output_type": "display_data"
    },
    {
     "name": "stdout",
     "output_type": "stream",
     "text": [
      "Dataset json downloaded and prepared to /home/chengyu/.cache/huggingface/datasets/json/default-f2c67655031212df/0.0.0/ac0ca5f5289a6cf108e706efcf040422dbbfa8e658dee6a819f20d76bb84d26b. Subsequent calls will reuse this data.\n"
     ]
    },
    {
     "data": {
      "text/plain": [
       "Dataset({\n",
       "    features: ['text', 'label'],\n",
       "    num_rows: 400\n",
       "})"
      ]
     },
     "execution_count": 38,
     "metadata": {},
     "output_type": "execute_result"
    }
   ],
   "source": [
    "## load jsonl \n",
    "data_path = os.path.join(config.data_folder,'tweet','data','tweets.jsonl')\n",
    "dataset = load_dataset('json', data_files=data_path,split='train') ## just put split default to 'train' otherwise it is going to be a problem\n",
    "dataset"
   ]
  },
  {
   "cell_type": "markdown",
   "id": "0a88bd4d",
   "metadata": {},
   "source": [
    "- #### Load a local csv file"
   ]
  },
  {
   "cell_type": "code",
   "execution_count": 52,
   "id": "3020b229-da6e-4534-a855-a2f7657e62d7",
   "metadata": {
    "scrolled": true
   },
   "outputs": [
    {
     "name": "stderr",
     "output_type": "stream",
     "text": [
      "Using custom data configuration default-7285691f768b7810\n",
      "Reusing dataset csv (/home/chengyu/.cache/huggingface/datasets/csv/default-7285691f768b7810/0.0.0/433e0ccc46f9880962cc2b12065189766fbb2bee57a221866138fb9203c83519)\n"
     ]
    },
    {
     "data": {
      "application/vnd.jupyter.widget-view+json": {
       "model_id": "8139a216b9314df89d11c8a4c8fdf4a5",
       "version_major": 2,
       "version_minor": 0
      },
      "text/plain": [
       "  0%|          | 0/1 [00:00<?, ?it/s]"
      ]
     },
     "metadata": {},
     "output_type": "display_data"
    },
    {
     "data": {
      "text/plain": [
       "DatasetDict({\n",
       "    train: Dataset({\n",
       "        features: ['text', 'label'],\n",
       "        num_rows: 400\n",
       "    })\n",
       "})"
      ]
     },
     "execution_count": 52,
     "metadata": {},
     "output_type": "execute_result"
    }
   ],
   "source": [
    "data_path = os.path.join(config.data_folder,'tweet','data','tweets.csv')\n",
    "dataset = load_dataset('csv', data_files=data_path) ## default split is 'train'\n",
    "dataset"
   ]
  },
  {
   "cell_type": "markdown",
   "id": "9bba9879",
   "metadata": {},
   "source": [
    "- you can also load train and test splits together \n",
    "```python\n",
    "data_files = {\"train\": \"drugsComTrain_raw.tsv\", \"test\": \"drugsComTest_raw.tsv\"}\n",
    "drug_dataset = load_dataset(\"csv\", data_files=data_files, delimiter=\"\\t\")\n",
    "```"
   ]
  },
  {
   "cell_type": "markdown",
   "id": "00062b94-8700-429a-8759-cfc13c91130b",
   "metadata": {},
   "source": [
    "- #### other data_load functionalities please refer to : https://huggingface.co/docs/datasets/loading\n"
   ]
  },
  {
   "cell_type": "markdown",
   "id": "524cb68a",
   "metadata": {},
   "source": [
    "## Main Data Processing functions \n",
    "- #### Detailed functionalities please refer to : https://huggingface.co/docs/datasets/process"
   ]
  },
  {
   "cell_type": "code",
   "execution_count": 2,
   "id": "b80c068a",
   "metadata": {},
   "outputs": [
    {
     "data": {
      "application/vnd.jupyter.widget-view+json": {
       "model_id": "801e5cdf27a6492f8cf86fc39caa3cf3",
       "version_major": 2,
       "version_minor": 0
      },
      "text/plain": [
       "Downloading builder script:   0%|          | 0.00/7.78k [00:00<?, ?B/s]"
      ]
     },
     "metadata": {},
     "output_type": "display_data"
    },
    {
     "data": {
      "application/vnd.jupyter.widget-view+json": {
       "model_id": "b6118d30b4f744488ab9619649bd5468",
       "version_major": 2,
       "version_minor": 0
      },
      "text/plain": [
       "Downloading metadata:   0%|          | 0.00/4.47k [00:00<?, ?B/s]"
      ]
     },
     "metadata": {},
     "output_type": "display_data"
    },
    {
     "name": "stderr",
     "output_type": "stream",
     "text": [
      "Reusing dataset glue (/Users/huang/.cache/huggingface/datasets/glue/mrpc/1.0.0/dacbe3125aa31d7f70367a07a8a9e72a5a0bfeb5fc42e75c9db75b96da6053ad)\n"
     ]
    }
   ],
   "source": [
    "## frist load a sample dataset \n",
    "dataset = load_dataset('glue', 'mrpc', split='train') # you can also specify specific fileds to load in"
   ]
  },
  {
   "cell_type": "markdown",
   "id": "50307779",
   "metadata": {},
   "source": [
    "- ### Sort, shuffle, select, split, and shard"
   ]
  },
  {
   "cell_type": "code",
   "execution_count": 8,
   "id": "9d0c99dd",
   "metadata": {},
   "outputs": [
    {
     "data": {
      "text/plain": [
       "['sentence1', 'sentence2', 'label', 'idx']"
      ]
     },
     "execution_count": 8,
     "metadata": {},
     "output_type": "execute_result"
    }
   ],
   "source": [
    "dataset.column_names"
   ]
  },
  {
   "cell_type": "code",
   "execution_count": 13,
   "id": "6c9ad6cb",
   "metadata": {
    "scrolled": true
   },
   "outputs": [
    {
     "name": "stderr",
     "output_type": "stream",
     "text": [
      "Loading cached shuffled indices for dataset at /Users/huang/.cache/huggingface/datasets/glue/mrpc/1.0.0/dacbe3125aa31d7f70367a07a8a9e72a5a0bfeb5fc42e75c9db75b96da6053ad/cache-f4871afcfd9acd36.arrow\n",
      "Loading cached sorted indices for dataset at /Users/huang/.cache/huggingface/datasets/glue/mrpc/1.0.0/dacbe3125aa31d7f70367a07a8a9e72a5a0bfeb5fc42e75c9db75b96da6053ad/cache-c88b0988174eb7f6.arrow\n",
      "Loading cached processed dataset at /Users/huang/.cache/huggingface/datasets/glue/mrpc/1.0.0/dacbe3125aa31d7f70367a07a8a9e72a5a0bfeb5fc42e75c9db75b96da6053ad/cache-4ac85e9794860a54.arrow\n"
     ]
    },
    {
     "data": {
      "application/vnd.jupyter.widget-view+json": {
       "model_id": "44edd26487a14914aa0aaaf5f9b731a1",
       "version_major": 2,
       "version_minor": 0
      },
      "text/plain": [
       "  0%|          | 0/4 [00:00<?, ?ba/s]"
      ]
     },
     "metadata": {},
     "output_type": "display_data"
    },
    {
     "name": "stdout",
     "output_type": "stream",
     "text": [
      "org length: 3668; filtered length: 2142\n"
     ]
    }
   ],
   "source": [
    "## shuffle\n",
    "sample = dataset.shuffle(seed=42).select(range(10))\n",
    "\n",
    "## sort \n",
    "sorted_sample = dataset.sort('label')\n",
    "\n",
    "##filter \n",
    "filtered_sample = dataset.filter(lambda example: example['sentence1'] is not None)\n",
    "filtered_sample = filtered_sample.filter(lambda example: len(example['sentence1'].split()) >20)\n",
    "print(\"org length: {}; filtered length: {}\".format(len(dataset),len(filtered_sample)))"
   ]
  },
  {
   "cell_type": "code",
   "execution_count": 3,
   "id": "c350374f",
   "metadata": {
    "scrolled": true
   },
   "outputs": [
    {
     "data": {
      "text/plain": [
       "DatasetDict({\n",
       "    train: Dataset({\n",
       "        features: ['sentence1', 'sentence2', 'label', 'idx'],\n",
       "        num_rows: 2934\n",
       "    })\n",
       "    test: Dataset({\n",
       "        features: ['sentence1', 'sentence2', 'label', 'idx'],\n",
       "        num_rows: 734\n",
       "    })\n",
       "})"
      ]
     },
     "execution_count": 3,
     "metadata": {},
     "output_type": "execute_result"
    }
   ],
   "source": [
    "## train test split \n",
    "#### it has stratified sample split : https://huggingface.co/docs/datasets/v2.3.2/en/package_reference/main_classes#datasets.Dataset.train_test_split\n",
    "## datasets version need to be 2.3.* # install it from conda forge\n",
    "splited_ds = dataset.train_test_split(test_size=0.2,shuffle=True,seed=42,stratify_by_column='label')\n",
    "splited_ds\n"
   ]
  },
  {
   "cell_type": "markdown",
   "id": "eb4b8e0f",
   "metadata": {},
   "source": [
    "- #### Rename, remove,create new, align"
   ]
  },
  {
   "cell_type": "code",
   "execution_count": 7,
   "id": "000b6ea2",
   "metadata": {},
   "outputs": [
    {
     "data": {
      "application/vnd.jupyter.widget-view+json": {
       "model_id": "e81ae398fac849b68bf07a8861cce092",
       "version_major": 2,
       "version_minor": 0
      },
      "text/plain": [
       "  0%|          | 0/3668 [00:00<?, ?ex/s]"
      ]
     },
     "metadata": {},
     "output_type": "display_data"
    },
    {
     "data": {
      "text/plain": [
       "{'sentence1': 'Amrozi accused his brother , whom he called \" the witness \" , of deliberately distorting his evidence .',\n",
       " 'sentence2': 'Referring to him as only \" the witness \" , Amrozi accused his brother of deliberately distorting his evidence .',\n",
       " 'label': 1,\n",
       " 'idx': 0,\n",
       " 'sentence_length': 19}"
      ]
     },
     "execution_count": 7,
     "metadata": {},
     "output_type": "execute_result"
    }
   ],
   "source": [
    "## create new \n",
    "def compute_length(example):\n",
    "    return {\"sentence_length\": len(example[\"sentence1\"].split())}\n",
    "sample = dataset.map(compute_length)\n",
    "sample[0]"
   ]
  },
  {
   "cell_type": "code",
   "execution_count": 8,
   "id": "aa5de6a3",
   "metadata": {},
   "outputs": [
    {
     "data": {
      "text/plain": [
       "Dataset({\n",
       "    features: ['sentenceA', 'sentenceB', 'label', 'idx', 'sentence_length'],\n",
       "    num_rows: 3668\n",
       "})"
      ]
     },
     "execution_count": 8,
     "metadata": {},
     "output_type": "execute_result"
    }
   ],
   "source": [
    "## rename columns\n",
    "sample = sample.rename_column(\"sentence1\", \"sentenceA\")\n",
    "sample = sample.rename_column(\"sentence2\", \"sentenceB\")\n",
    "sample"
   ]
  },
  {
   "cell_type": "code",
   "execution_count": 9,
   "id": "5cc0a93c",
   "metadata": {},
   "outputs": [
    {
     "data": {
      "text/plain": [
       "Dataset({\n",
       "    features: ['sentenceA', 'sentenceB', 'label', 'idx'],\n",
       "    num_rows: 3668\n",
       "})"
      ]
     },
     "execution_count": 9,
     "metadata": {},
     "output_type": "execute_result"
    }
   ],
   "source": [
    "## remove columns \n",
    "sample= sample.remove_columns('sentence_length')\n",
    "sample"
   ]
  },
  {
   "cell_type": "markdown",
   "id": "3d24f9cb-f134-4471-ac36-3830f5166e87",
   "metadata": {},
   "source": [
    "### Sample process to read customized data (base), for more complete version, see [link](https://towardsdatascience.com/my-experience-with-uploading-a-dataset-on-huggingfaces-dataset-hub-803051942c2d) or official document"
   ]
  },
  {
   "cell_type": "markdown",
   "id": "0aeaa9ff",
   "metadata": {},
   "source": [
    "- you can also use pandas if you want"
   ]
  },
  {
   "cell_type": "code",
   "execution_count": 15,
   "id": "772e7388-29a0-45bc-b595-40dc8c0f89a7",
   "metadata": {},
   "outputs": [],
   "source": [
    "RANDOM_SEED = 4"
   ]
  },
  {
   "cell_type": "code",
   "execution_count": 16,
   "id": "ce34d926-f268-4f5e-826d-847c6d20f00c",
   "metadata": {
    "collapsed": true
   },
   "outputs": [
    {
     "ename": "FileNotFoundError",
     "evalue": "[Errno 2] No such file or directory: '../../All_Data/HuggingFace/tweet/data/tweets.csv'",
     "output_type": "error",
     "traceback": [
      "\u001b[0;31m---------------------------------------------------------------------------\u001b[0m",
      "\u001b[0;31mFileNotFoundError\u001b[0m                         Traceback (most recent call last)",
      "\u001b[0;32m/var/folders/n8/mkm5nw_14dv58ls3yn1xt8gh0000gn/T/ipykernel_39175/4096175740.py\u001b[0m in \u001b[0;36m<module>\u001b[0;34m\u001b[0m\n\u001b[1;32m      1\u001b[0m \u001b[0mdata_path\u001b[0m \u001b[0;34m=\u001b[0m \u001b[0mos\u001b[0m\u001b[0;34m.\u001b[0m\u001b[0mpath\u001b[0m\u001b[0;34m.\u001b[0m\u001b[0mjoin\u001b[0m\u001b[0;34m(\u001b[0m\u001b[0mconfig\u001b[0m\u001b[0;34m.\u001b[0m\u001b[0mdata_folder\u001b[0m\u001b[0;34m,\u001b[0m\u001b[0;34m'tweet'\u001b[0m\u001b[0;34m,\u001b[0m\u001b[0;34m'data'\u001b[0m\u001b[0;34m,\u001b[0m\u001b[0;34m'tweets.csv'\u001b[0m\u001b[0;34m)\u001b[0m\u001b[0;34m\u001b[0m\u001b[0;34m\u001b[0m\u001b[0m\n\u001b[0;32m----> 2\u001b[0;31m \u001b[0mdf\u001b[0m \u001b[0;34m=\u001b[0m \u001b[0mpd\u001b[0m\u001b[0;34m.\u001b[0m\u001b[0mread_csv\u001b[0m\u001b[0;34m(\u001b[0m\u001b[0mdata_path\u001b[0m\u001b[0;34m,\u001b[0m\u001b[0mencoding\u001b[0m\u001b[0;34m=\u001b[0m\u001b[0;34m'utf8'\u001b[0m\u001b[0;34m)\u001b[0m\u001b[0;34m\u001b[0m\u001b[0;34m\u001b[0m\u001b[0m\n\u001b[0m\u001b[1;32m      3\u001b[0m \u001b[0mdf\u001b[0m \u001b[0;34m=\u001b[0m \u001b[0mdf\u001b[0m\u001b[0;34m[\u001b[0m\u001b[0;34m~\u001b[0m\u001b[0mdf\u001b[0m\u001b[0;34m[\u001b[0m\u001b[0;34m'text'\u001b[0m\u001b[0;34m]\u001b[0m\u001b[0;34m.\u001b[0m\u001b[0misna\u001b[0m\u001b[0;34m(\u001b[0m\u001b[0;34m)\u001b[0m\u001b[0;34m]\u001b[0m  \u001b[0;31m## need to make sure text is string\u001b[0m\u001b[0;34m\u001b[0m\u001b[0;34m\u001b[0m\u001b[0m\n\u001b[1;32m      4\u001b[0m \u001b[0mdf\u001b[0m\u001b[0;34m.\u001b[0m\u001b[0mhead\u001b[0m\u001b[0;34m(\u001b[0m\u001b[0;36m2\u001b[0m\u001b[0;34m)\u001b[0m\u001b[0;34m\u001b[0m\u001b[0;34m\u001b[0m\u001b[0m\n",
      "\u001b[0;32m~/anaconda3/envs/gpt3/lib/python3.8/site-packages/pandas/util/_decorators.py\u001b[0m in \u001b[0;36mwrapper\u001b[0;34m(*args, **kwargs)\u001b[0m\n\u001b[1;32m    309\u001b[0m                     \u001b[0mstacklevel\u001b[0m\u001b[0;34m=\u001b[0m\u001b[0mstacklevel\u001b[0m\u001b[0;34m,\u001b[0m\u001b[0;34m\u001b[0m\u001b[0;34m\u001b[0m\u001b[0m\n\u001b[1;32m    310\u001b[0m                 )\n\u001b[0;32m--> 311\u001b[0;31m             \u001b[0;32mreturn\u001b[0m \u001b[0mfunc\u001b[0m\u001b[0;34m(\u001b[0m\u001b[0;34m*\u001b[0m\u001b[0margs\u001b[0m\u001b[0;34m,\u001b[0m \u001b[0;34m**\u001b[0m\u001b[0mkwargs\u001b[0m\u001b[0;34m)\u001b[0m\u001b[0;34m\u001b[0m\u001b[0;34m\u001b[0m\u001b[0m\n\u001b[0m\u001b[1;32m    312\u001b[0m \u001b[0;34m\u001b[0m\u001b[0m\n\u001b[1;32m    313\u001b[0m         \u001b[0;32mreturn\u001b[0m \u001b[0mwrapper\u001b[0m\u001b[0;34m\u001b[0m\u001b[0;34m\u001b[0m\u001b[0m\n",
      "\u001b[0;32m~/anaconda3/envs/gpt3/lib/python3.8/site-packages/pandas/io/parsers/readers.py\u001b[0m in \u001b[0;36mread_csv\u001b[0;34m(filepath_or_buffer, sep, delimiter, header, names, index_col, usecols, squeeze, prefix, mangle_dupe_cols, dtype, engine, converters, true_values, false_values, skipinitialspace, skiprows, skipfooter, nrows, na_values, keep_default_na, na_filter, verbose, skip_blank_lines, parse_dates, infer_datetime_format, keep_date_col, date_parser, dayfirst, cache_dates, iterator, chunksize, compression, thousands, decimal, lineterminator, quotechar, quoting, doublequote, escapechar, comment, encoding, encoding_errors, dialect, error_bad_lines, warn_bad_lines, on_bad_lines, delim_whitespace, low_memory, memory_map, float_precision, storage_options)\u001b[0m\n\u001b[1;32m    678\u001b[0m     \u001b[0mkwds\u001b[0m\u001b[0;34m.\u001b[0m\u001b[0mupdate\u001b[0m\u001b[0;34m(\u001b[0m\u001b[0mkwds_defaults\u001b[0m\u001b[0;34m)\u001b[0m\u001b[0;34m\u001b[0m\u001b[0;34m\u001b[0m\u001b[0m\n\u001b[1;32m    679\u001b[0m \u001b[0;34m\u001b[0m\u001b[0m\n\u001b[0;32m--> 680\u001b[0;31m     \u001b[0;32mreturn\u001b[0m \u001b[0m_read\u001b[0m\u001b[0;34m(\u001b[0m\u001b[0mfilepath_or_buffer\u001b[0m\u001b[0;34m,\u001b[0m \u001b[0mkwds\u001b[0m\u001b[0;34m)\u001b[0m\u001b[0;34m\u001b[0m\u001b[0;34m\u001b[0m\u001b[0m\n\u001b[0m\u001b[1;32m    681\u001b[0m \u001b[0;34m\u001b[0m\u001b[0m\n\u001b[1;32m    682\u001b[0m \u001b[0;34m\u001b[0m\u001b[0m\n",
      "\u001b[0;32m~/anaconda3/envs/gpt3/lib/python3.8/site-packages/pandas/io/parsers/readers.py\u001b[0m in \u001b[0;36m_read\u001b[0;34m(filepath_or_buffer, kwds)\u001b[0m\n\u001b[1;32m    573\u001b[0m \u001b[0;34m\u001b[0m\u001b[0m\n\u001b[1;32m    574\u001b[0m     \u001b[0;31m# Create the parser.\u001b[0m\u001b[0;34m\u001b[0m\u001b[0;34m\u001b[0m\u001b[0;34m\u001b[0m\u001b[0m\n\u001b[0;32m--> 575\u001b[0;31m     \u001b[0mparser\u001b[0m \u001b[0;34m=\u001b[0m \u001b[0mTextFileReader\u001b[0m\u001b[0;34m(\u001b[0m\u001b[0mfilepath_or_buffer\u001b[0m\u001b[0;34m,\u001b[0m \u001b[0;34m**\u001b[0m\u001b[0mkwds\u001b[0m\u001b[0;34m)\u001b[0m\u001b[0;34m\u001b[0m\u001b[0;34m\u001b[0m\u001b[0m\n\u001b[0m\u001b[1;32m    576\u001b[0m \u001b[0;34m\u001b[0m\u001b[0m\n\u001b[1;32m    577\u001b[0m     \u001b[0;32mif\u001b[0m \u001b[0mchunksize\u001b[0m \u001b[0;32mor\u001b[0m \u001b[0miterator\u001b[0m\u001b[0;34m:\u001b[0m\u001b[0;34m\u001b[0m\u001b[0;34m\u001b[0m\u001b[0m\n",
      "\u001b[0;32m~/anaconda3/envs/gpt3/lib/python3.8/site-packages/pandas/io/parsers/readers.py\u001b[0m in \u001b[0;36m__init__\u001b[0;34m(self, f, engine, **kwds)\u001b[0m\n\u001b[1;32m    932\u001b[0m \u001b[0;34m\u001b[0m\u001b[0m\n\u001b[1;32m    933\u001b[0m         \u001b[0mself\u001b[0m\u001b[0;34m.\u001b[0m\u001b[0mhandles\u001b[0m\u001b[0;34m:\u001b[0m \u001b[0mIOHandles\u001b[0m \u001b[0;34m|\u001b[0m \u001b[0;32mNone\u001b[0m \u001b[0;34m=\u001b[0m \u001b[0;32mNone\u001b[0m\u001b[0;34m\u001b[0m\u001b[0;34m\u001b[0m\u001b[0m\n\u001b[0;32m--> 934\u001b[0;31m         \u001b[0mself\u001b[0m\u001b[0;34m.\u001b[0m\u001b[0m_engine\u001b[0m \u001b[0;34m=\u001b[0m \u001b[0mself\u001b[0m\u001b[0;34m.\u001b[0m\u001b[0m_make_engine\u001b[0m\u001b[0;34m(\u001b[0m\u001b[0mf\u001b[0m\u001b[0;34m,\u001b[0m \u001b[0mself\u001b[0m\u001b[0;34m.\u001b[0m\u001b[0mengine\u001b[0m\u001b[0;34m)\u001b[0m\u001b[0;34m\u001b[0m\u001b[0;34m\u001b[0m\u001b[0m\n\u001b[0m\u001b[1;32m    935\u001b[0m \u001b[0;34m\u001b[0m\u001b[0m\n\u001b[1;32m    936\u001b[0m     \u001b[0;32mdef\u001b[0m \u001b[0mclose\u001b[0m\u001b[0;34m(\u001b[0m\u001b[0mself\u001b[0m\u001b[0;34m)\u001b[0m\u001b[0;34m:\u001b[0m\u001b[0;34m\u001b[0m\u001b[0;34m\u001b[0m\u001b[0m\n",
      "\u001b[0;32m~/anaconda3/envs/gpt3/lib/python3.8/site-packages/pandas/io/parsers/readers.py\u001b[0m in \u001b[0;36m_make_engine\u001b[0;34m(self, f, engine)\u001b[0m\n\u001b[1;32m   1216\u001b[0m             \u001b[0;31m# \"Union[str, PathLike[str], ReadCsvBuffer[bytes], ReadCsvBuffer[str]]\"\u001b[0m\u001b[0;34m\u001b[0m\u001b[0;34m\u001b[0m\u001b[0;34m\u001b[0m\u001b[0m\n\u001b[1;32m   1217\u001b[0m             \u001b[0;31m# , \"str\", \"bool\", \"Any\", \"Any\", \"Any\", \"Any\", \"Any\"\u001b[0m\u001b[0;34m\u001b[0m\u001b[0;34m\u001b[0m\u001b[0;34m\u001b[0m\u001b[0m\n\u001b[0;32m-> 1218\u001b[0;31m             self.handles = get_handle(  # type: ignore[call-overload]\n\u001b[0m\u001b[1;32m   1219\u001b[0m                 \u001b[0mf\u001b[0m\u001b[0;34m,\u001b[0m\u001b[0;34m\u001b[0m\u001b[0;34m\u001b[0m\u001b[0m\n\u001b[1;32m   1220\u001b[0m                 \u001b[0mmode\u001b[0m\u001b[0;34m,\u001b[0m\u001b[0;34m\u001b[0m\u001b[0;34m\u001b[0m\u001b[0m\n",
      "\u001b[0;32m~/anaconda3/envs/gpt3/lib/python3.8/site-packages/pandas/io/common.py\u001b[0m in \u001b[0;36mget_handle\u001b[0;34m(path_or_buf, mode, encoding, compression, memory_map, is_text, errors, storage_options)\u001b[0m\n\u001b[1;32m    784\u001b[0m         \u001b[0;32mif\u001b[0m \u001b[0mioargs\u001b[0m\u001b[0;34m.\u001b[0m\u001b[0mencoding\u001b[0m \u001b[0;32mand\u001b[0m \u001b[0;34m\"b\"\u001b[0m \u001b[0;32mnot\u001b[0m \u001b[0;32min\u001b[0m \u001b[0mioargs\u001b[0m\u001b[0;34m.\u001b[0m\u001b[0mmode\u001b[0m\u001b[0;34m:\u001b[0m\u001b[0;34m\u001b[0m\u001b[0;34m\u001b[0m\u001b[0m\n\u001b[1;32m    785\u001b[0m             \u001b[0;31m# Encoding\u001b[0m\u001b[0;34m\u001b[0m\u001b[0;34m\u001b[0m\u001b[0;34m\u001b[0m\u001b[0m\n\u001b[0;32m--> 786\u001b[0;31m             handle = open(\n\u001b[0m\u001b[1;32m    787\u001b[0m                 \u001b[0mhandle\u001b[0m\u001b[0;34m,\u001b[0m\u001b[0;34m\u001b[0m\u001b[0;34m\u001b[0m\u001b[0m\n\u001b[1;32m    788\u001b[0m                 \u001b[0mioargs\u001b[0m\u001b[0;34m.\u001b[0m\u001b[0mmode\u001b[0m\u001b[0;34m,\u001b[0m\u001b[0;34m\u001b[0m\u001b[0;34m\u001b[0m\u001b[0m\n",
      "\u001b[0;31mFileNotFoundError\u001b[0m: [Errno 2] No such file or directory: '../../All_Data/HuggingFace/tweet/data/tweets.csv'"
     ]
    }
   ],
   "source": [
    "data_path = os.path.join(config.data_folder,'tweet','data','tweets.csv')\n",
    "df = pd.read_csv(data_path,encoding='utf8')\n",
    "df = df[~df['text'].isna()]  ## need to make sure text is string \n",
    "df.head(2)"
   ]
  },
  {
   "cell_type": "code",
   "execution_count": 104,
   "id": "b17fa42b-0f2c-47ee-b056-7eddcbb7c1c7",
   "metadata": {},
   "outputs": [],
   "source": [
    "df_train, df_test = train_test_split(df,test_size=0.3,random_state=RANDOM_SEED)"
   ]
  },
  {
   "cell_type": "code",
   "execution_count": 105,
   "id": "caef8a35-5eb7-43bd-864f-4307528ea042",
   "metadata": {},
   "outputs": [
    {
     "name": "stdout",
     "output_type": "stream",
     "text": [
      "DatasetDict({\n",
      "    train: Dataset({\n",
      "        features: ['text', 'label', '__index_level_0__'],\n",
      "        num_rows: 278\n",
      "    })\n",
      "    test: Dataset({\n",
      "        features: ['text', 'label', '__index_level_0__'],\n",
      "        num_rows: 120\n",
      "    })\n",
      "})\n"
     ]
    }
   ],
   "source": [
    "dataset_train = Dataset.from_pandas(df_train,split='train')\n",
    "dataset_test = Dataset.from_pandas(df_test,split='test')\n",
    "dataset = datasets.DatasetDict({'train':dataset_train, 'test':dataset_test})\n",
    "print(dataset)"
   ]
  },
  {
   "cell_type": "markdown",
   "id": "0f722853-8a30-45f0-b549-e3a55134eb43",
   "metadata": {},
   "source": [
    "- Here, you can also split using dataset functions [link](https://huggingface.co/docs/datasets/process#split)\n",
    "- If you want to do cross validation, you can also use the [Shard](https://huggingface.co/docs/datasets/process#shard) function "
   ]
  },
  {
   "cell_type": "markdown",
   "id": "9c32ca2b-599f-4db9-b8e3-747a987fb1e3",
   "metadata": {},
   "source": [
    "- #### Now we can follow the standard data process"
   ]
  },
  {
   "cell_type": "code",
   "execution_count": 106,
   "id": "e8806b0d-abcc-46e6-baa6-8b19f0b38d25",
   "metadata": {},
   "outputs": [],
   "source": [
    "from transformers import AutoTokenizer"
   ]
  },
  {
   "cell_type": "code",
   "execution_count": 107,
   "id": "518468c7-a67d-4c1b-89ce-b2c2012e0dc4",
   "metadata": {},
   "outputs": [
    {
     "data": {
      "text/plain": [
       "{'text': 'once again total lack of climate leadership at fancy words amp empty promises on the ground kowtowing to powerful fossil fuel industry is m o of this admin leasing to ff industry in public lands must be restricted amp at high price cut subsidies no more tax incentives',\n",
       " 'label': 0.0,\n",
       " '__index_level_0__': 272}"
      ]
     },
     "execution_count": 107,
     "metadata": {},
     "output_type": "execute_result"
    }
   ],
   "source": [
    "dataset['test'][5]"
   ]
  },
  {
   "cell_type": "code",
   "execution_count": 108,
   "id": "59356f22-a5be-465a-8af4-229c753faae4",
   "metadata": {
    "tags": []
   },
   "outputs": [],
   "source": [
    "tokenizer = AutoTokenizer.from_pretrained(\"bert-base-cased\")\n",
    "def tokenize_function(examples):\n",
    "    return tokenizer(examples[\"text\"], padding=\"max_length\", truncation=True)\n",
    "tokenized_datasets = dataset.map(tokenize_function, batched=True,num_proc=6) ##you can add remove columns here; \n",
    "                                                                            #batch proceee and multiprocess = 6 "
   ]
  },
  {
   "cell_type": "code",
   "execution_count": 110,
   "id": "c58a0af6-eaa4-47a9-91e6-4226781c1453",
   "metadata": {},
   "outputs": [
    {
     "name": "stdout",
     "output_type": "stream",
     "text": [
      "DatasetDict({\n",
      "    train: Dataset({\n",
      "        features: ['text', 'label', '__index_level_0__', 'input_ids', 'token_type_ids', 'attention_mask'],\n",
      "        num_rows: 278\n",
      "    })\n",
      "    test: Dataset({\n",
      "        features: ['text', 'label', '__index_level_0__', 'input_ids', 'token_type_ids', 'attention_mask'],\n",
      "        num_rows: 120\n",
      "    })\n",
      "})\n"
     ]
    }
   ],
   "source": [
    "print(tokenized_datasets)"
   ]
  },
  {
   "cell_type": "markdown",
   "id": "1066550c-5da3-41c8-afb6-42d44f87dfa3",
   "metadata": {},
   "source": [
    "- ### Save and load encoded datasets "
   ]
  },
  {
   "cell_type": "code",
   "execution_count": 111,
   "id": "3c67a844-2112-45eb-a339-53528c235076",
   "metadata": {},
   "outputs": [],
   "source": [
    "dataset_out_path = os.path.join(config.data_folder,'tweet','data','tweets_dataset')\n",
    "tokenized_datasets.save_to_disk(dataset_out_path)"
   ]
  },
  {
   "cell_type": "code",
   "execution_count": 113,
   "id": "fb206221-cf93-41ac-b80d-00e7031d3b82",
   "metadata": {
    "scrolled": true
   },
   "outputs": [
    {
     "name": "stdout",
     "output_type": "stream",
     "text": [
      "DatasetDict({\n",
      "    train: Dataset({\n",
      "        features: ['text', 'label', '__index_level_0__', 'input_ids', 'token_type_ids', 'attention_mask'],\n",
      "        num_rows: 278\n",
      "    })\n",
      "    test: Dataset({\n",
      "        features: ['text', 'label', '__index_level_0__', 'input_ids', 'token_type_ids', 'attention_mask'],\n",
      "        num_rows: 120\n",
      "    })\n",
      "})\n"
     ]
    }
   ],
   "source": [
    "tokenized_datasets = load_from_disk(dataset_out_path)\n",
    "print(tokenized_datasets)"
   ]
  },
  {
   "cell_type": "markdown",
   "id": "524a8987",
   "metadata": {},
   "source": [
    "- you can also save as jsonl file : \n",
    "- follow : https://huggingface.co/course/chapter5/3?fw=pt#saving-a-dataset\n",
    "```python\n",
    "# save\n",
    "for split, dataset in tokenized_datasets.items():\n",
    "    dataset.to_json(f\"reviews-{split}.jsonl\")\n",
    "# load\n",
    "data_files = {\n",
    "    \"train\": \"drug-reviews-train.jsonl\",\n",
    "    \"validation\": \"drug-reviews-validation.jsonl\",\n",
    "    \"test\": \"drug-reviews-test.jsonl\",\n",
    "}\n",
    "drug_dataset_reloaded = load_dataset(\"json\", data_files=data_files)\n",
    "```"
   ]
  },
  {
   "cell_type": "markdown",
   "id": "23e77bb2",
   "metadata": {},
   "source": [
    "### For extremely large dataset, see : https://huggingface.co/course/chapter5/4?fw=pt"
   ]
  },
  {
   "cell_type": "code",
   "execution_count": null,
   "id": "dc7d3830",
   "metadata": {},
   "outputs": [],
   "source": []
  }
 ],
 "metadata": {
  "kernelspec": {
   "display_name": "gpt3",
   "language": "python",
   "name": "gpt3"
  },
  "language_info": {
   "codemirror_mode": {
    "name": "ipython",
    "version": 3
   },
   "file_extension": ".py",
   "mimetype": "text/x-python",
   "name": "python",
   "nbconvert_exporter": "python",
   "pygments_lexer": "ipython3",
   "version": "3.8.12"
  }
 },
 "nbformat": 4,
 "nbformat_minor": 5
}
