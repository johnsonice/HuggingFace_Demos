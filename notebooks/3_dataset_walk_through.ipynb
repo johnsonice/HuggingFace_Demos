{
 "cells": [
  {
   "cell_type": "markdown",
   "id": "92608137-3db4-450b-98b0-4ac4a2824359",
   "metadata": {},
   "source": [
    "## Dataset walk thorugh "
   ]
  },
  {
   "cell_type": "markdown",
   "id": "e01c3a87-67b4-4ba2-b2b6-8381afb69a11",
   "metadata": {},
   "source": [
    "Dataset Main Methods are:\n",
    "- datasets.list_datasets() to list the available datasets\n",
    "- datasets.load_dataset(dataset_name, **kwargs) to instantiate a dataset\n",
    "- datasets.list_metrics() to list the available metrics\n",
    "- datasets.load_metric(metric_name, **kwargs) to instantiate a metric"
   ]
  },
  {
   "cell_type": "code",
   "execution_count": 112,
   "id": "ffb6e506-f755-488f-88d3-5d1a49c1ebfd",
   "metadata": {},
   "outputs": [],
   "source": [
    "from datasets import Dataset,load_dataset,concatenate_datasets,load_from_disk\n",
    "import datasets\n",
    "import config\n",
    "import os\n",
    "import pandas as pd\n",
    "from sklearn.model_selection import train_test_split"
   ]
  },
  {
   "cell_type": "markdown",
   "id": "4a4393d3-45e5-40d3-ab51-35ea9557b68a",
   "metadata": {},
   "source": [
    "#### Let's start with how to loading data in memory "
   ]
  },
  {
   "cell_type": "markdown",
   "id": "c47127b2-0b4f-40fa-a4a4-c21126b82854",
   "metadata": {},
   "source": [
    "- load a dictionary "
   ]
  },
  {
   "cell_type": "code",
   "execution_count": 3,
   "id": "ee976e86-714b-4efa-95c2-79fb26c2d0de",
   "metadata": {},
   "outputs": [
    {
     "name": "stdout",
     "output_type": "stream",
     "text": [
      "Dataset({\n",
      "    features: ['text', 'label'],\n",
      "    num_rows: 3\n",
      "})\n"
     ]
    }
   ],
   "source": [
    "my_dict = {\"text\": ['a','b','c'],\"label\":[0,1,0]}\n",
    "dataset = Dataset.from_dict(my_dict)\n",
    "print(dataset)"
   ]
  },
  {
   "cell_type": "markdown",
   "id": "c48aa401-ca46-4b6f-9dfb-441ac2754e52",
   "metadata": {},
   "source": [
    "- load a pandas df"
   ]
  },
  {
   "cell_type": "code",
   "execution_count": 31,
   "id": "02f65b0a-814b-4677-806d-4a3e80c0cd2a",
   "metadata": {},
   "outputs": [
    {
     "data": {
      "text/html": [
       "<div>\n",
       "<style scoped>\n",
       "    .dataframe tbody tr th:only-of-type {\n",
       "        vertical-align: middle;\n",
       "    }\n",
       "\n",
       "    .dataframe tbody tr th {\n",
       "        vertical-align: top;\n",
       "    }\n",
       "\n",
       "    .dataframe thead th {\n",
       "        text-align: right;\n",
       "    }\n",
       "</style>\n",
       "<table border=\"1\" class=\"dataframe\">\n",
       "  <thead>\n",
       "    <tr style=\"text-align: right;\">\n",
       "      <th></th>\n",
       "      <th>text</th>\n",
       "      <th>label</th>\n",
       "    </tr>\n",
       "  </thead>\n",
       "  <tbody>\n",
       "    <tr>\n",
       "      <th>0</th>\n",
       "      <td>yeah true i defiantly think though they are no...</td>\n",
       "      <td>1.0</td>\n",
       "    </tr>\n",
       "    <tr>\n",
       "      <th>1</th>\n",
       "      <td>2 that is really the issue carbon tax paris ac...</td>\n",
       "      <td>0.0</td>\n",
       "    </tr>\n",
       "  </tbody>\n",
       "</table>\n",
       "</div>"
      ],
      "text/plain": [
       "                                                text  label\n",
       "0  yeah true i defiantly think though they are no...    1.0\n",
       "1  2 that is really the issue carbon tax paris ac...    0.0"
      ]
     },
     "execution_count": 31,
     "metadata": {},
     "output_type": "execute_result"
    }
   ],
   "source": [
    "data_path = os.path.join(config.data_folder,'tweet','data','tweets.csv')\n",
    "df = pd.read_csv(data_path,encoding='utf8')\n",
    "df.head(2)"
   ]
  },
  {
   "cell_type": "code",
   "execution_count": 32,
   "id": "085b6817-dbd9-4a2e-bcfc-1f2c698fe639",
   "metadata": {},
   "outputs": [
    {
     "data": {
      "text/plain": [
       "Dataset({\n",
       "    features: ['text', 'label'],\n",
       "    num_rows: 400\n",
       "})"
      ]
     },
     "execution_count": 32,
     "metadata": {},
     "output_type": "execute_result"
    }
   ],
   "source": [
    "dataset = Dataset.from_pandas(df)\n",
    "dataset"
   ]
  },
  {
   "cell_type": "markdown",
   "id": "f1070459-4f2b-473d-8b68-81eee0b2e9c8",
   "metadata": {},
   "source": [
    "- #### load from local files  "
   ]
  },
  {
   "cell_type": "code",
   "execution_count": 38,
   "id": "d69531fa-f739-40ed-8ff8-247db8ba02d4",
   "metadata": {},
   "outputs": [
    {
     "name": "stderr",
     "output_type": "stream",
     "text": [
      "Using custom data configuration default-f2c67655031212df\n"
     ]
    },
    {
     "name": "stdout",
     "output_type": "stream",
     "text": [
      "Downloading and preparing dataset json/default to /home/chengyu/.cache/huggingface/datasets/json/default-f2c67655031212df/0.0.0/ac0ca5f5289a6cf108e706efcf040422dbbfa8e658dee6a819f20d76bb84d26b...\n"
     ]
    },
    {
     "data": {
      "application/vnd.jupyter.widget-view+json": {
       "model_id": "0268255d242f47158286b695dd93e51b",
       "version_major": 2,
       "version_minor": 0
      },
      "text/plain": [
       "  0%|          | 0/1 [00:00<?, ?it/s]"
      ]
     },
     "metadata": {},
     "output_type": "display_data"
    },
    {
     "data": {
      "application/vnd.jupyter.widget-view+json": {
       "model_id": "e450989cab9c456fb7f4b579ba597f44",
       "version_major": 2,
       "version_minor": 0
      },
      "text/plain": [
       "  0%|          | 0/1 [00:00<?, ?it/s]"
      ]
     },
     "metadata": {},
     "output_type": "display_data"
    },
    {
     "name": "stdout",
     "output_type": "stream",
     "text": [
      "Dataset json downloaded and prepared to /home/chengyu/.cache/huggingface/datasets/json/default-f2c67655031212df/0.0.0/ac0ca5f5289a6cf108e706efcf040422dbbfa8e658dee6a819f20d76bb84d26b. Subsequent calls will reuse this data.\n"
     ]
    },
    {
     "data": {
      "text/plain": [
       "Dataset({\n",
       "    features: ['text', 'label'],\n",
       "    num_rows: 400\n",
       "})"
      ]
     },
     "execution_count": 38,
     "metadata": {},
     "output_type": "execute_result"
    }
   ],
   "source": [
    "## load jsonl \n",
    "data_path = os.path.join(config.data_folder,'tweet','data','tweets.jsonl')\n",
    "dataset = load_dataset('json', data_files=data_path,split='train') ## just put split default to 'train' otherwise it is going to be a problem\n",
    "dataset"
   ]
  },
  {
   "cell_type": "code",
   "execution_count": 52,
   "id": "3020b229-da6e-4534-a855-a2f7657e62d7",
   "metadata": {},
   "outputs": [
    {
     "name": "stderr",
     "output_type": "stream",
     "text": [
      "Using custom data configuration default-7285691f768b7810\n",
      "Reusing dataset csv (/home/chengyu/.cache/huggingface/datasets/csv/default-7285691f768b7810/0.0.0/433e0ccc46f9880962cc2b12065189766fbb2bee57a221866138fb9203c83519)\n"
     ]
    },
    {
     "data": {
      "application/vnd.jupyter.widget-view+json": {
       "model_id": "8139a216b9314df89d11c8a4c8fdf4a5",
       "version_major": 2,
       "version_minor": 0
      },
      "text/plain": [
       "  0%|          | 0/1 [00:00<?, ?it/s]"
      ]
     },
     "metadata": {},
     "output_type": "display_data"
    },
    {
     "data": {
      "text/plain": [
       "DatasetDict({\n",
       "    train: Dataset({\n",
       "        features: ['text', 'label'],\n",
       "        num_rows: 400\n",
       "    })\n",
       "})"
      ]
     },
     "execution_count": 52,
     "metadata": {},
     "output_type": "execute_result"
    }
   ],
   "source": [
    "data_path = os.path.join(config.data_folder,'tweet','data','tweets.csv')\n",
    "dataset = load_dataset('csv', data_files=data_path) ## default split is 'train'\n",
    "dataset"
   ]
  },
  {
   "cell_type": "markdown",
   "id": "00062b94-8700-429a-8759-cfc13c91130b",
   "metadata": {},
   "source": [
    "- #### other data_load functionalities please refer to : https://huggingface.co/docs/datasets/loading\n",
    "- #### other process functionalities please refer to : https://huggingface.co/docs/datasets/process"
   ]
  },
  {
   "cell_type": "markdown",
   "id": "3d24f9cb-f134-4471-ac36-3830f5166e87",
   "metadata": {},
   "source": [
    "### Sample process to read customized data (base), for more complete version, see [link](https://towardsdatascience.com/my-experience-with-uploading-a-dataset-on-huggingfaces-dataset-hub-803051942c2d) or official document"
   ]
  },
  {
   "cell_type": "code",
   "execution_count": 58,
   "id": "772e7388-29a0-45bc-b595-40dc8c0f89a7",
   "metadata": {},
   "outputs": [],
   "source": [
    "RANDOM_SEED = 4"
   ]
  },
  {
   "cell_type": "code",
   "execution_count": 103,
   "id": "ce34d926-f268-4f5e-826d-847c6d20f00c",
   "metadata": {},
   "outputs": [
    {
     "data": {
      "text/html": [
       "<div>\n",
       "<style scoped>\n",
       "    .dataframe tbody tr th:only-of-type {\n",
       "        vertical-align: middle;\n",
       "    }\n",
       "\n",
       "    .dataframe tbody tr th {\n",
       "        vertical-align: top;\n",
       "    }\n",
       "\n",
       "    .dataframe thead th {\n",
       "        text-align: right;\n",
       "    }\n",
       "</style>\n",
       "<table border=\"1\" class=\"dataframe\">\n",
       "  <thead>\n",
       "    <tr style=\"text-align: right;\">\n",
       "      <th></th>\n",
       "      <th>text</th>\n",
       "      <th>label</th>\n",
       "    </tr>\n",
       "  </thead>\n",
       "  <tbody>\n",
       "    <tr>\n",
       "      <th>0</th>\n",
       "      <td>yeah true i defiantly think though they are no...</td>\n",
       "      <td>1.0</td>\n",
       "    </tr>\n",
       "    <tr>\n",
       "      <th>1</th>\n",
       "      <td>2 that is really the issue carbon tax paris ac...</td>\n",
       "      <td>0.0</td>\n",
       "    </tr>\n",
       "  </tbody>\n",
       "</table>\n",
       "</div>"
      ],
      "text/plain": [
       "                                                text  label\n",
       "0  yeah true i defiantly think though they are no...    1.0\n",
       "1  2 that is really the issue carbon tax paris ac...    0.0"
      ]
     },
     "execution_count": 103,
     "metadata": {},
     "output_type": "execute_result"
    }
   ],
   "source": [
    "data_path = os.path.join(config.data_folder,'tweet','data','tweets.csv')\n",
    "df = pd.read_csv(data_path,encoding='utf8')\n",
    "df = df[~df['text'].isna()]  ## need to make sure text is string \n",
    "df.head(2)"
   ]
  },
  {
   "cell_type": "code",
   "execution_count": 104,
   "id": "b17fa42b-0f2c-47ee-b056-7eddcbb7c1c7",
   "metadata": {},
   "outputs": [],
   "source": [
    "df_train, df_test = train_test_split(df,test_size=0.3,random_state=RANDOM_SEED)"
   ]
  },
  {
   "cell_type": "code",
   "execution_count": 105,
   "id": "caef8a35-5eb7-43bd-864f-4307528ea042",
   "metadata": {},
   "outputs": [
    {
     "name": "stdout",
     "output_type": "stream",
     "text": [
      "DatasetDict({\n",
      "    train: Dataset({\n",
      "        features: ['text', 'label', '__index_level_0__'],\n",
      "        num_rows: 278\n",
      "    })\n",
      "    test: Dataset({\n",
      "        features: ['text', 'label', '__index_level_0__'],\n",
      "        num_rows: 120\n",
      "    })\n",
      "})\n"
     ]
    }
   ],
   "source": [
    "dataset_train = Dataset.from_pandas(df_train,split='train')\n",
    "dataset_test = Dataset.from_pandas(df_test,split='test')\n",
    "dataset = datasets.DatasetDict({'train':dataset_train, 'test':dataset_test})\n",
    "print(dataset)"
   ]
  },
  {
   "cell_type": "markdown",
   "id": "0f722853-8a30-45f0-b549-e3a55134eb43",
   "metadata": {},
   "source": [
    "- Here, you can also split using dataset functions [link](https://huggingface.co/docs/datasets/process#split)\n",
    "- If you want to do cross validation, you can also use the [Shard](https://huggingface.co/docs/datasets/process#shard) function "
   ]
  },
  {
   "cell_type": "markdown",
   "id": "9c32ca2b-599f-4db9-b8e3-747a987fb1e3",
   "metadata": {},
   "source": [
    "- #### Now we can follow the standard data process"
   ]
  },
  {
   "cell_type": "code",
   "execution_count": 106,
   "id": "e8806b0d-abcc-46e6-baa6-8b19f0b38d25",
   "metadata": {},
   "outputs": [],
   "source": [
    "from transformers import AutoTokenizer"
   ]
  },
  {
   "cell_type": "code",
   "execution_count": 107,
   "id": "518468c7-a67d-4c1b-89ce-b2c2012e0dc4",
   "metadata": {},
   "outputs": [
    {
     "data": {
      "text/plain": [
       "{'text': 'once again total lack of climate leadership at fancy words amp empty promises on the ground kowtowing to powerful fossil fuel industry is m o of this admin leasing to ff industry in public lands must be restricted amp at high price cut subsidies no more tax incentives',\n",
       " 'label': 0.0,\n",
       " '__index_level_0__': 272}"
      ]
     },
     "execution_count": 107,
     "metadata": {},
     "output_type": "execute_result"
    }
   ],
   "source": [
    "dataset['test'][5]"
   ]
  },
  {
   "cell_type": "code",
   "execution_count": 108,
   "id": "59356f22-a5be-465a-8af4-229c753faae4",
   "metadata": {
    "tags": []
   },
   "outputs": [],
   "source": [
    "tokenizer = AutoTokenizer.from_pretrained(\"bert-base-cased\")\n",
    "def tokenize_function(examples):\n",
    "    return tokenizer(examples[\"text\"], padding=\"max_length\", truncation=True)\n",
    "tokenized_datasets = dataset.map(tokenize_function, batched=True,num_proc=6) ##batch proceee and multiprocess = 6 "
   ]
  },
  {
   "cell_type": "code",
   "execution_count": 110,
   "id": "c58a0af6-eaa4-47a9-91e6-4226781c1453",
   "metadata": {},
   "outputs": [
    {
     "name": "stdout",
     "output_type": "stream",
     "text": [
      "DatasetDict({\n",
      "    train: Dataset({\n",
      "        features: ['text', 'label', '__index_level_0__', 'input_ids', 'token_type_ids', 'attention_mask'],\n",
      "        num_rows: 278\n",
      "    })\n",
      "    test: Dataset({\n",
      "        features: ['text', 'label', '__index_level_0__', 'input_ids', 'token_type_ids', 'attention_mask'],\n",
      "        num_rows: 120\n",
      "    })\n",
      "})\n"
     ]
    }
   ],
   "source": [
    "print(tokenized_datasets)"
   ]
  },
  {
   "cell_type": "markdown",
   "id": "1066550c-5da3-41c8-afb6-42d44f87dfa3",
   "metadata": {},
   "source": [
    "- ### Save and load encoded datasets "
   ]
  },
  {
   "cell_type": "code",
   "execution_count": 111,
   "id": "3c67a844-2112-45eb-a339-53528c235076",
   "metadata": {},
   "outputs": [],
   "source": [
    "dataset_out_path = os.path.join(config.data_folder,'tweet','data','tweets_dataset')\n",
    "tokenized_datasets.save_to_disk(dataset_out_path)"
   ]
  },
  {
   "cell_type": "code",
   "execution_count": 113,
   "id": "fb206221-cf93-41ac-b80d-00e7031d3b82",
   "metadata": {},
   "outputs": [
    {
     "name": "stdout",
     "output_type": "stream",
     "text": [
      "DatasetDict({\n",
      "    train: Dataset({\n",
      "        features: ['text', 'label', '__index_level_0__', 'input_ids', 'token_type_ids', 'attention_mask'],\n",
      "        num_rows: 278\n",
      "    })\n",
      "    test: Dataset({\n",
      "        features: ['text', 'label', '__index_level_0__', 'input_ids', 'token_type_ids', 'attention_mask'],\n",
      "        num_rows: 120\n",
      "    })\n",
      "})\n"
     ]
    }
   ],
   "source": [
    "tokenized_datasets = load_from_disk(dataset_out_path)\n",
    "print(tokenized_datasets)"
   ]
  }
 ],
 "metadata": {
  "kernelspec": {
   "display_name": "gpt3",
   "language": "python",
   "name": "gpt3"
  },
  "language_info": {
   "codemirror_mode": {
    "name": "ipython",
    "version": 3
   },
   "file_extension": ".py",
   "mimetype": "text/x-python",
   "name": "python",
   "nbconvert_exporter": "python",
   "pygments_lexer": "ipython3",
   "version": "3.8.12"
  }
 },
 "nbformat": 4,
 "nbformat_minor": 5
}
