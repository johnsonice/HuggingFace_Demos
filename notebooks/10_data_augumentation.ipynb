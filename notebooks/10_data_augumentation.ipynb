{
 "cells": [
  {
   "cell_type": "markdown",
   "id": "d91c3592",
   "metadata": {},
   "source": [
    "## Example of Textual Augmenter Usage using NLPAUG\n",
    "- API documentation https://nlpaug.readthedocs.io/en/latest/"
   ]
  },
  {
   "cell_type": "code",
   "execution_count": 1,
   "id": "368bdff4",
   "metadata": {},
   "outputs": [],
   "source": [
    "import os,config\n",
    "model_dir = os.path.join(config.data_folder,'Data_Augumentation_Models')\n",
    "os.environ[\"MODEL_DIR\"] = model_dir"
   ]
  },
  {
   "cell_type": "markdown",
   "id": "e0192bc7",
   "metadata": {},
   "source": [
    "- Download some model weights \n",
    "- w2v : https://drive.google.com/uc?export=download&id=0B7XkCwpI5KDYNlNUTTlSS21pQmM "
   ]
  },
  {
   "cell_type": "code",
   "execution_count": 2,
   "id": "7d0b1a10",
   "metadata": {},
   "outputs": [],
   "source": [
    "## import some functions\n",
    "#import nlpaug.augmenter.char as nac\n",
    "import nlpaug.augmenter.word as naw\n",
    "import nlpaug.augmenter.sentence as nas\n",
    "import nlpaug.flow as nafc\n",
    "\n",
    "from nlpaug.util import Action"
   ]
  },
  {
   "cell_type": "markdown",
   "id": "9d74abd2",
   "metadata": {},
   "source": [
    "- For char level augumentaion, please see https://github.com/makcedward/nlpaug/blob/master/example/textual_augmenter.ipynb"
   ]
  },
  {
   "cell_type": "code",
   "execution_count": 17,
   "id": "daeeceb7",
   "metadata": {
    "scrolled": true
   },
   "outputs": [
    {
     "name": "stdout",
     "output_type": "stream",
     "text": [
      "Low-income countries face fewer debt challenges today than they did 25 years ago, thanks in particular to the Heavily Indebted Poor Countries initiative, which slashed unmanageable debt burdens across sub-Saharan Africa and other regions. But although debt ratios are lower than in the mid-1990s, debt has been creeping up for the past decade and the changing composition of creditors will make restructurings more complex. \n",
      "\n",
      " Restructuring Debt of Poorer Nations Requires More Efficient Coordination\n"
     ]
    }
   ],
   "source": [
    "## sample text for data augumentation \n",
    "text1 = \"Low-income countries face fewer debt challenges today than they did 25 years ago, thanks in particular to the Heavily Indebted Poor Countries initiative, which slashed unmanageable debt burdens across sub-Saharan Africa and other regions. But although debt ratios are lower than in the mid-1990s, debt has been creeping up for the past decade and the changing composition of creditors will make restructurings more complex.\"\n",
    "text2 = \"Restructuring Debt of Poorer Nations Requires More Efficient Coordination\"\n",
    "print(text1,'\\n\\n',text2)"
   ]
  },
  {
   "cell_type": "markdown",
   "id": "07ad7ef5",
   "metadata": {},
   "source": [
    "### World Level Augumentation "
   ]
  },
  {
   "cell_type": "markdown",
   "id": "d4b65609",
   "metadata": {},
   "source": [
    "- #### Synonym Augmenter\n",
    "- It is ok, but not very good "
   ]
  },
  {
   "cell_type": "code",
   "execution_count": 36,
   "id": "0bdef398",
   "metadata": {},
   "outputs": [
    {
     "name": "stdout",
     "output_type": "stream",
     "text": [
      "Original:\n",
      "Restructuring Debt of Poorer Nations Requires More Efficient Coordination\n",
      "Augmented Text substitute:\n",
      "Reconstitute Debt of Poorer Land Requires More Efficient Coordination\n"
     ]
    }
   ],
   "source": [
    "aug = naw.SynonymAug(aug_src='wordnet',aug_p=0.6)\n",
    "print(\"Original:\")\n",
    "print(text2)\n",
    "print(\"Augmented Text substitute:\")\n",
    "print(aug.augment(text2,n=1,num_thread=1)[0])"
   ]
  },
  {
   "cell_type": "markdown",
   "id": "0b40a6ee",
   "metadata": {},
   "source": [
    "- #### EDA process (Swap word/Delete word/Delete a set of contunous word)"
   ]
  },
  {
   "cell_type": "code",
   "execution_count": 40,
   "id": "ad228e84",
   "metadata": {},
   "outputs": [
    {
     "name": "stdout",
     "output_type": "stream",
     "text": [
      "Original:\n",
      "Restructuring Debt of Poorer Nations Requires More Efficient Coordination\n",
      "Augmented Text substitute:\n",
      "Restructuring Debt of _ _ Requires More _ Coordination\n",
      "Augmented Text swap:\n",
      "Debt restructuring of Nations Poorer Requires More Coordination Efficient\n",
      "Augmented Text delete:\n",
      "Restructuring Debt of More Efficient Coordination\n",
      "Augmented Text crop:\n",
      "Restructuring Nations Requires More Efficient Coordination\n"
     ]
    }
   ],
   "source": [
    "print(\"Original:\")\n",
    "print(text2)\n",
    "for a in ['substitute', 'swap', 'delete','crop']:\n",
    "    aug = naw.RandomWordAug(action=a)\n",
    "    augmented_text = aug.augment(text2)\n",
    "    print(\"Augmented Text {}:\".format(a))\n",
    "    print(augmented_text[0])"
   ]
  },
  {
   "cell_type": "markdown",
   "id": "37ebc56d",
   "metadata": {},
   "source": [
    "- ##### W2V augumentation"
   ]
  },
  {
   "cell_type": "code",
   "execution_count": 20,
   "id": "7298e9cd",
   "metadata": {},
   "outputs": [],
   "source": [
    "# model_type: word2vec, glove or fasttext\n",
    "w2v_dir = os.path.join(model_dir,'w2v','GoogleNews-vectors-negative300.bin')\n",
    "aug = naw.WordEmbsAug(model_type='word2vec', model_path=w2v_dir,\n",
    "                      action=\"substitute\",top_k=5,aug_p = 0.3)\n",
    "# top_k (int) – Controlling lucky draw pool. Top k score token will be used for augmentation. Larger k, more token can be used. Default value is 100. If value is None which means using all possible tokens. This attribute will be ignored when using “insert” action.\n",
    "# aug_p (float) – Percentage of word will be augmented."
   ]
  },
  {
   "cell_type": "markdown",
   "id": "c3b96763",
   "metadata": {},
   "source": [
    "- in general, w2v augumentaion quality does not seems to be too good based on human evaluation.\n",
    "- likely need to retrained on your context first "
   ]
  },
  {
   "cell_type": "code",
   "execution_count": 24,
   "id": "b1f66905",
   "metadata": {},
   "outputs": [
    {
     "name": "stdout",
     "output_type": "stream",
     "text": [
      "Original:\n",
      "Restructuring Debt of Poorer Nations Requires More Efficient Coordination\n",
      "Augmented Text:\n",
      "Restructuring Debt of Poorer Six_Nations require Roughly Efficient Coordination\n"
     ]
    }
   ],
   "source": [
    "augmented_text = aug.augment([text1,text2])\n",
    "print(\"Original:\")\n",
    "print(text2)\n",
    "print(\"Augmented Text:\")\n",
    "print(augmented_text[1])"
   ]
  },
  {
   "cell_type": "markdown",
   "id": "c1a4fbd3",
   "metadata": {},
   "source": [
    "- #### Contextual Word Embeddings Augmenter\n",
    "- insert/substitute word by contextual word embeddings (BERT, DistilBERT, RoBERTA or XLNet)\n",
    "- overall, results looks better than \n"
   ]
  },
  {
   "cell_type": "code",
   "execution_count": 31,
   "id": "ea483935",
   "metadata": {},
   "outputs": [
    {
     "name": "stdout",
     "output_type": "stream",
     "text": [
      "Original:\n",
      "Restructuring Debt of Poorer Nations Requires More Efficient Coordination\n",
      "Augmented Text insert:\n",
      "restructuring of debt of much poorer nations requires more efficient coordination\n",
      "Augmented Text substitute:\n",
      "restructuring debt for developing nations requires more efficient coordination\n"
     ]
    }
   ],
   "source": [
    "aug = naw.ContextualWordEmbsAug(model_path='bert-base-uncased', \n",
    "                                action=\"insert\",top_k=10,aug_p=0.2)\n",
    "aug2 = naw.ContextualWordEmbsAug(model_path='bert-base-uncased', \n",
    "                                action=\"substitute\",top_k=10,aug_p=0.2)\n",
    "print(\"Original:\")\n",
    "print(text2)\n",
    "print(\"Augmented Text insert:\")\n",
    "print(aug.augment(text2)[0])\n",
    "print(\"Augmented Text substitute:\")\n",
    "print(aug2.augment(text2)[0])"
   ]
  },
  {
   "cell_type": "code",
   "execution_count": null,
   "id": "f364ce51",
   "metadata": {},
   "outputs": [],
   "source": []
  },
  {
   "cell_type": "code",
   "execution_count": null,
   "id": "6df40f00",
   "metadata": {},
   "outputs": [],
   "source": []
  }
 ],
 "metadata": {
  "kernelspec": {
   "display_name": "gpt3",
   "language": "python",
   "name": "gpt3"
  },
  "language_info": {
   "codemirror_mode": {
    "name": "ipython",
    "version": 3
   },
   "file_extension": ".py",
   "mimetype": "text/x-python",
   "name": "python",
   "nbconvert_exporter": "python",
   "pygments_lexer": "ipython3",
   "version": "3.8.12"
  }
 },
 "nbformat": 4,
 "nbformat_minor": 5
}
