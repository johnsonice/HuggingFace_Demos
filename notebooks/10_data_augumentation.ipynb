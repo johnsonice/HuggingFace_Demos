{
 "cells": [
  {
   "cell_type": "markdown",
   "id": "cb92be52",
   "metadata": {},
   "source": [
    "## Example of Textual Augmenter Usage using NLPAUG\n",
    "- API documentation https://nlpaug.readthedocs.io/en/latest/\n",
    "- https://amitness.com/2020/05/data-augmentation-for-nlp/"
   ]
  },
  {
   "cell_type": "code",
   "execution_count": 1,
   "id": "546523f0",
   "metadata": {},
   "outputs": [],
   "source": [
    "import os,config\n",
    "model_dir = os.path.join(config.data_folder,'Data_Augumentation_Models')\n",
    "os.environ[\"MODEL_DIR\"] = model_dir"
   ]
  },
  {
   "cell_type": "markdown",
   "id": "1166c4e7",
   "metadata": {},
   "source": [
    "- Download some model weights \n",
    "- w2v : https://drive.google.com/uc?export=download&id=0B7XkCwpI5KDYNlNUTTlSS21pQmM "
   ]
  },
  {
   "cell_type": "code",
   "execution_count": 2,
   "id": "0a3b2f92",
   "metadata": {},
   "outputs": [],
   "source": [
    "## import some functions\n",
    "#import nlpaug.augmenter.char as nac\n",
    "import nlpaug.augmenter.word as naw\n",
    "import nlpaug.augmenter.sentence as nas\n",
    "import nlpaug.flow as nafc\n",
    "\n",
    "from nlpaug.util import Action"
   ]
  },
  {
   "cell_type": "markdown",
   "id": "a6797890",
   "metadata": {},
   "source": [
    "- For char level augumentaion, please see https://github.com/makcedward/nlpaug/blob/master/example/textual_augmenter.ipynb"
   ]
  },
  {
   "cell_type": "code",
   "execution_count": 39,
   "id": "5f00d144",
   "metadata": {
    "scrolled": true
   },
   "outputs": [
    {
     "name": "stdout",
     "output_type": "stream",
     "text": [
      "Low-income countries face fewer debt challenges today than they did 25 years ago, thanks in particular to the Heavily Indebted Poor Countries initiative, which slashed unmanageable debt burdens across sub-Saharan Africa and other regions. But although debt ratios are lower than in the mid-1990s, debt has been creeping up for the past decade and the changing composition of creditors will make restructurings more complex. \n",
      "\n",
      " Restructuring Debt of Poorer Nations Requires More Efficient Coordination\n"
     ]
    }
   ],
   "source": [
    "## sample text for data augumentation \n",
    "text1 = \"Low-income countries face fewer debt challenges today than they did 25 years ago, thanks in particular to the Heavily Indebted Poor Countries initiative, which slashed unmanageable debt burdens across sub-Saharan Africa and other regions. But although debt ratios are lower than in the mid-1990s, debt has been creeping up for the past decade and the changing composition of creditors will make restructurings more complex.\"\n",
    "text2 = \"Restructuring Debt of Poorer Nations Requires More Efficient Coordination\"\n",
    "print(text1,'\\n\\n',text2)"
   ]
  },
  {
   "cell_type": "markdown",
   "id": "1f11ad72",
   "metadata": {},
   "source": [
    "### World Level Augumentation "
   ]
  },
  {
   "cell_type": "markdown",
   "id": "9618b960",
   "metadata": {},
   "source": [
    "- #### Synonym Augmenter\n",
    "- It is ok, but not very good "
   ]
  },
  {
   "cell_type": "code",
   "execution_count": 36,
   "id": "cd9a0e33",
   "metadata": {},
   "outputs": [
    {
     "name": "stdout",
     "output_type": "stream",
     "text": [
      "Original:\n",
      "Restructuring Debt of Poorer Nations Requires More Efficient Coordination\n",
      "Augmented Text substitute:\n",
      "Reconstitute Debt of Poorer Land Requires More Efficient Coordination\n"
     ]
    }
   ],
   "source": [
    "aug = naw.SynonymAug(aug_src='wordnet',aug_p=0.6)\n",
    "print(\"Original:\")\n",
    "print(text2)\n",
    "print(\"Augmented Text substitute:\")\n",
    "print(aug.augment(text2,n=1,num_thread=1)[0])"
   ]
  },
  {
   "cell_type": "markdown",
   "id": "05dd75f6",
   "metadata": {},
   "source": [
    "- #### EDA process (Swap word/Delete word/Delete a set of contunous word)"
   ]
  },
  {
   "cell_type": "code",
   "execution_count": 40,
   "id": "1e38b1a7",
   "metadata": {},
   "outputs": [
    {
     "name": "stdout",
     "output_type": "stream",
     "text": [
      "Original:\n",
      "Restructuring Debt of Poorer Nations Requires More Efficient Coordination\n",
      "Augmented Text substitute:\n",
      "Restructuring Debt of _ _ Requires More _ Coordination\n",
      "Augmented Text swap:\n",
      "Debt restructuring of Nations Poorer Requires More Coordination Efficient\n",
      "Augmented Text delete:\n",
      "Restructuring Debt of More Efficient Coordination\n",
      "Augmented Text crop:\n",
      "Restructuring Nations Requires More Efficient Coordination\n"
     ]
    }
   ],
   "source": [
    "print(\"Original:\")\n",
    "print(text2)\n",
    "for a in ['substitute', 'swap', 'delete','crop']:\n",
    "    aug = naw.RandomWordAug(action=a)\n",
    "    augmented_text = aug.augment(text2)\n",
    "    print(\"Augmented Text {}:\".format(a))\n",
    "    print(augmented_text[0])"
   ]
  },
  {
   "cell_type": "markdown",
   "id": "cc1e94b1",
   "metadata": {},
   "source": [
    "- ##### W2V augumentation"
   ]
  },
  {
   "cell_type": "code",
   "execution_count": 20,
   "id": "ac46e23e",
   "metadata": {},
   "outputs": [],
   "source": [
    "# model_type: word2vec, glove or fasttext\n",
    "w2v_dir = os.path.join(model_dir,'w2v','GoogleNews-vectors-negative300.bin')\n",
    "aug = naw.WordEmbsAug(model_type='word2vec', model_path=w2v_dir,\n",
    "                      action=\"substitute\",top_k=5,aug_p = 0.3)\n",
    "# top_k (int) – Controlling lucky draw pool. Top k score token will be used for augmentation. Larger k, more token can be used. Default value is 100. If value is None which means using all possible tokens. This attribute will be ignored when using “insert” action.\n",
    "# aug_p (float) – Percentage of word will be augmented."
   ]
  },
  {
   "cell_type": "markdown",
   "id": "9aca4936",
   "metadata": {},
   "source": [
    "- in general, w2v augumentaion quality does not seems to be too good based on human evaluation.\n",
    "- likely need to retrained on your context first "
   ]
  },
  {
   "cell_type": "code",
   "execution_count": 24,
   "id": "add2edc3",
   "metadata": {},
   "outputs": [
    {
     "name": "stdout",
     "output_type": "stream",
     "text": [
      "Original:\n",
      "Restructuring Debt of Poorer Nations Requires More Efficient Coordination\n",
      "Augmented Text:\n",
      "Restructuring Debt of Poorer Six_Nations require Roughly Efficient Coordination\n"
     ]
    }
   ],
   "source": [
    "augmented_text = aug.augment([text1,text2])\n",
    "print(\"Original:\")\n",
    "print(text2)\n",
    "print(\"Augmented Text:\")\n",
    "print(augmented_text[1])"
   ]
  },
  {
   "cell_type": "markdown",
   "id": "8b489ee4",
   "metadata": {},
   "source": [
    "- #### Contextual Word Embeddings Augmenter\n",
    "- insert/substitute word by contextual word embeddings (BERT, DistilBERT, RoBERTA or XLNet)\n",
    "- overall, results looks better than \n"
   ]
  },
  {
   "cell_type": "code",
   "execution_count": 44,
   "id": "8e86cc39",
   "metadata": {},
   "outputs": [
    {
     "name": "stdout",
     "output_type": "stream",
     "text": [
      "Original:\n",
      "Restructuring Debt of Poorer Nations Requires More Efficient Coordination\n",
      "Augmented Text insert:\n",
      "restructuring of debt of poorer nations therefore requires more efficient coordination\n",
      "Augmented Text substitute:\n",
      "restructuring all of the nations requires more efficient coordination\n"
     ]
    }
   ],
   "source": [
    "aug = naw.ContextualWordEmbsAug(model_path='bert-base-uncased', \n",
    "                                action=\"insert\",top_k=10,aug_p=0.2)\n",
    "aug2 = naw.ContextualWordEmbsAug(model_path='bert-base-uncased', \n",
    "                                action=\"substitute\",top_k=10,aug_p=0.2)\n",
    "print(\"Original:\")\n",
    "print(text2)\n",
    "print(\"Augmented Text insert:\")\n",
    "print(aug.augment(text2)[0])\n",
    "print(\"Augmented Text substitute:\")\n",
    "print(aug2.augment(text2)[0])"
   ]
  },
  {
   "cell_type": "markdown",
   "id": "d6a28e5f",
   "metadata": {},
   "source": [
    "- #### Sentence Augumentator\n",
    "- doesn't seems to be very useful most of the time"
   ]
  },
  {
   "cell_type": "code",
   "execution_count": 10,
   "id": "d5d83212",
   "metadata": {},
   "outputs": [
    {
     "name": "stdout",
     "output_type": "stream",
     "text": [
      "Original:\n",
      "Restructuring Debt of Poorer Nations Requires More Efficient Coordination\n",
      "Augmented Texts:\n",
      "['Restructuring Debt of Poorer Nations Requires More Efficient Coordination for UN Member State, the Finance Minister said on Saturday.', 'Restructuring Debt of Poorer Nations Requires More Efficient Coordination at a More Affordable Time?', 'Restructuring Debt of Poorer Nations Requires More Efficient Coordination for Responsible Governments In South Africa to Disposage Global Household Debt of']\n"
     ]
    }
   ],
   "source": [
    "# model_path: xlnet-base-cased or gpt2\n",
    "aug = nas.ContextualWordEmbsForSentenceAug(model_path='xlnet-base-cased') ## next token, pick from top 5\n",
    "augmented_texts = aug.augment(text2, n=3)\n",
    "print(\"Original:\")\n",
    "print(text2)\n",
    "print(\"Augmented Texts:\")\n",
    "print(augmented_texts)"
   ]
  },
  {
   "cell_type": "markdown",
   "id": "2b02256d",
   "metadata": {},
   "source": [
    "- ### Back translation \n",
    "- looks like prety good quality, but relatively expensive to run "
   ]
  },
  {
   "cell_type": "code",
   "execution_count": 22,
   "id": "087caf65",
   "metadata": {},
   "outputs": [],
   "source": [
    "from transformers import pipeline"
   ]
  },
  {
   "cell_type": "code",
   "execution_count": 31,
   "id": "03151bd3",
   "metadata": {
    "collapsed": true
   },
   "outputs": [
    {
     "data": {
      "application/vnd.jupyter.widget-view+json": {
       "model_id": "bf7763272a034b2db54caf616c510de5",
       "version_major": 2,
       "version_minor": 0
      },
      "text/plain": [
       "Downloading:   0%|          | 0.00/1.26k [00:00<?, ?B/s]"
      ]
     },
     "metadata": {},
     "output_type": "display_data"
    },
    {
     "data": {
      "application/vnd.jupyter.widget-view+json": {
       "model_id": "f6fc3268dc924d62906eda8dd060e9f2",
       "version_major": 2,
       "version_minor": 0
      },
      "text/plain": [
       "Downloading:   0%|          | 0.00/287M [00:00<?, ?B/s]"
      ]
     },
     "metadata": {},
     "output_type": "display_data"
    },
    {
     "data": {
      "application/vnd.jupyter.widget-view+json": {
       "model_id": "27eeb5d778264ccd978875e5d3fa405d",
       "version_major": 2,
       "version_minor": 0
      },
      "text/plain": [
       "Downloading:   0%|          | 0.00/42.0 [00:00<?, ?B/s]"
      ]
     },
     "metadata": {},
     "output_type": "display_data"
    },
    {
     "data": {
      "application/vnd.jupyter.widget-view+json": {
       "model_id": "23f04d83c6694135b6f47611780cd000",
       "version_major": 2,
       "version_minor": 0
      },
      "text/plain": [
       "Downloading:   0%|          | 0.00/784k [00:00<?, ?B/s]"
      ]
     },
     "metadata": {},
     "output_type": "display_data"
    },
    {
     "data": {
      "application/vnd.jupyter.widget-view+json": {
       "model_id": "64d39d06376a465297ebf036d440f7bd",
       "version_major": 2,
       "version_minor": 0
      },
      "text/plain": [
       "Downloading:   0%|          | 0.00/760k [00:00<?, ?B/s]"
      ]
     },
     "metadata": {},
     "output_type": "display_data"
    },
    {
     "data": {
      "application/vnd.jupyter.widget-view+json": {
       "model_id": "18bc8537b4bc41a7af283c062f7d7eb1",
       "version_major": 2,
       "version_minor": 0
      },
      "text/plain": [
       "Downloading:   0%|          | 0.00/1.28M [00:00<?, ?B/s]"
      ]
     },
     "metadata": {},
     "output_type": "display_data"
    }
   ],
   "source": [
    "en_fr_translator = pipeline(\"translation_en_to_fr\")\n",
    "fr_en_translator = pipeline(task = 'translation',model = \"Helsinki-NLP/opus-mt-fr-en\")"
   ]
  },
  {
   "cell_type": "code",
   "execution_count": 43,
   "id": "f15e6196",
   "metadata": {},
   "outputs": [
    {
     "name": "stdout",
     "output_type": "stream",
     "text": [
      "Low-income countries face fewer debt challenges today than they did 25 years ago, thanks in particular to the Heavily Indebted Poor Countries initiative, which slashed unmanageable debt burdens across sub-Saharan Africa and other regions. But although debt ratios are lower than in the mid-1990s, debt has been creeping up for the past decade and the changing composition of creditors will make restructurings more complex.\n",
      "Low-income countries are now facing fewer debt problems than they were 25 years ago, including through the Heavily Indebted Poor Countries (HIPC) initiative, which has reduced the burden of unsustainable debt in sub-Saharan Africa and other regions.\n"
     ]
    }
   ],
   "source": [
    "fr_text = en_fr_translator(text1)[0]['translation_text']\n",
    "print(text1)\n",
    "print(fr_en_translator(fr_text)[0]['translation_text'])\n"
   ]
  },
  {
   "cell_type": "markdown",
   "id": "c2b95c00",
   "metadata": {},
   "source": [
    "- ### Abstractive Summarization Augmenter\n",
    "- this looks fiarly ok"
   ]
  },
  {
   "cell_type": "code",
   "execution_count": 20,
   "id": "acd09635",
   "metadata": {},
   "outputs": [
    {
     "data": {
      "application/vnd.jupyter.widget-view+json": {
       "model_id": "4061f7d323084f1390d3e8d3ec9c30e3",
       "version_major": 2,
       "version_minor": 0
      },
      "text/plain": [
       "Downloading:   0%|          | 0.00/1.17k [00:00<?, ?B/s]"
      ]
     },
     "metadata": {},
     "output_type": "display_data"
    },
    {
     "data": {
      "application/vnd.jupyter.widget-view+json": {
       "model_id": "20b9a82a65f44cd2a9997d59ba031745",
       "version_major": 2,
       "version_minor": 0
      },
      "text/plain": [
       "Downloading:   0%|          | 0.00/773k [00:00<?, ?B/s]"
      ]
     },
     "metadata": {},
     "output_type": "display_data"
    },
    {
     "data": {
      "application/vnd.jupyter.widget-view+json": {
       "model_id": "854b4eaaa207475e9ffa71d78f5cee9d",
       "version_major": 2,
       "version_minor": 0
      },
      "text/plain": [
       "Downloading:   0%|          | 0.00/1.32M [00:00<?, ?B/s]"
      ]
     },
     "metadata": {},
     "output_type": "display_data"
    },
    {
     "data": {
      "application/vnd.jupyter.widget-view+json": {
       "model_id": "991aacc66a334758a16f22569589f97a",
       "version_major": 2,
       "version_minor": 0
      },
      "text/plain": [
       "Downloading:   0%|          | 0.00/850M [00:00<?, ?B/s]"
      ]
     },
     "metadata": {},
     "output_type": "display_data"
    },
    {
     "name": "stdout",
     "output_type": "stream",
     "text": [
      "Original:\n",
      "Low-income countries face fewer debt challenges today than they did 25 years ago, thanks in particular to the Heavily Indebted Poor Countries initiative, which slashed unmanageable debt burdens across sub-Saharan Africa and other regions. But although debt ratios are lower than in the mid-1990s, debt has been creeping up for the past decade and the changing composition of creditors will make restructurings more complex.\n",
      "Augmented Text:\n",
      "['low-income countries face fewer debt challenges today than they did 25 years ago. but debt has been creeping up for the past decade. changing composition of creditors will make restructurings more complex.']\n"
     ]
    }
   ],
   "source": [
    "article = text1\n",
    "aug = nas.AbstSummAug(model_path='t5-base')\n",
    "augmented_text = aug.augment(article)\n",
    "print(\"Original:\")\n",
    "print(article)\n",
    "print(\"Augmented Text:\")\n",
    "print(augmented_text)"
   ]
  },
  {
   "cell_type": "code",
   "execution_count": null,
   "id": "6ce58735",
   "metadata": {},
   "outputs": [],
   "source": []
  }
 ],
 "metadata": {
  "kernelspec": {
   "display_name": "gpt3",
   "language": "python",
   "name": "gpt3"
  },
  "language_info": {
   "codemirror_mode": {
    "name": "ipython",
    "version": 3
   },
   "file_extension": ".py",
   "mimetype": "text/x-python",
   "name": "python",
   "nbconvert_exporter": "python",
   "pygments_lexer": "ipython3",
   "version": "3.8.12"
  }
 },
 "nbformat": 4,
 "nbformat_minor": 5
}
